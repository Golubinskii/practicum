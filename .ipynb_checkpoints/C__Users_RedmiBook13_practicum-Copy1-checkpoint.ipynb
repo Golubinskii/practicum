{
 "cells": [
  {
   "cell_type": "markdown",
   "metadata": {
    "toc": true
   },
   "source": [
    "<h1>Содержание<span class=\"tocSkip\"></span></h1>\n",
    "<div class=\"toc\"><ul class=\"toc-item\"><li><span><a href=\"#Подготовка-данных\" data-toc-modified-id=\"Подготовка-данных-1\"><span class=\"toc-item-num\">1&nbsp;&nbsp;</span>Подготовка данных</a></span></li><li><span><a href=\"#Исследование-задачи\" data-toc-modified-id=\"Исследование-задачи-2\"><span class=\"toc-item-num\">2&nbsp;&nbsp;</span>Исследование задачи</a></span></li><li><span><a href=\"#Борьба-с-дисбалансом\" data-toc-modified-id=\"Борьба-с-дисбалансом-3\"><span class=\"toc-item-num\">3&nbsp;&nbsp;</span>Борьба с дисбалансом</a></span></li><li><span><a href=\"#Тестирование-модели\" data-toc-modified-id=\"Тестирование-модели-4\"><span class=\"toc-item-num\">4&nbsp;&nbsp;</span>Тестирование модели</a></span></li><li><span><a href=\"#Чек-лист-готовности-проекта\" data-toc-modified-id=\"Чек-лист-готовности-проекта-5\"><span class=\"toc-item-num\">5&nbsp;&nbsp;</span>Чек-лист готовности проекта</a></span></li></ul></div>"
   ]
  },
  {
   "cell_type": "markdown",
   "metadata": {},
   "source": [
    "# Отток клиентов"
   ]
  },
  {
   "cell_type": "markdown",
   "metadata": {},
   "source": [
    "Из «Бета-Банка» стали уходить клиенты. Каждый месяц. Немного, но заметно. Банковские маркетологи посчитали: сохранять текущих клиентов дешевле, чем привлекать новых.\n",
    "\n",
    "Нужно спрогнозировать, уйдёт клиент из банка в ближайшее время или нет. Вам предоставлены исторические данные о поведении клиентов и расторжении договоров с банком. \n",
    "\n",
    "Постройте модель с предельно большим значением *F1*-меры. Чтобы сдать проект успешно, нужно довести метрику до 0.59. Проверьте *F1*-меру на тестовой выборке самостоятельно.\n",
    "\n",
    "Дополнительно измеряйте *AUC-ROC*, сравнивайте её значение с *F1*-мерой.\n",
    "\n",
    "Источник данных: [https://www.kaggle.com/barelydedicated/bank-customer-churn-modeling](https://www.kaggle.com/barelydedicated/bank-customer-churn-modeling)"
   ]
  },
  {
   "cell_type": "markdown",
   "metadata": {},
   "source": [
    "## Подготовка данных"
   ]
  },
  {
   "cell_type": "markdown",
   "metadata": {},
   "source": [
    "Признаки\n",
    " - RowNumber — индекс строки в данных\n",
    " - CustomerId — уникальный идентификатор клиента\n",
    " - Surname — фамилия\n",
    " - CreditScore — кредитный рейтинг\n",
    " - Geography — страна проживания\n",
    " - Gender — пол\n",
    " - Age — возраст\n",
    " - Tenure — сколько лет человек является клиентом банка\n",
    " - Balance — баланс на счёте\n",
    " - NumOfProducts — количество продуктов банка, используемых клиентом\n",
    " - HasCrCard — наличие кредитной карты\n",
    " - IsActiveMember — активность клиента\n",
    " - EstimatedSalary — предполагаемая зарплата\n",
    " \n",
    " Целевой признак\n",
    " \n",
    " - Exited — факт ухода клиента"
   ]
  },
  {
   "cell_type": "code",
   "execution_count": 1,
   "metadata": {},
   "outputs": [],
   "source": [
    "import pandas as pd\n",
    "import random\n",
    "import matplotlib as plt\n",
    "from sklearn.model_selection import train_test_split\n",
    "from sklearn.utils import shuffle\n",
    "from sklearn.tree import DecisionTreeClassifier\n",
    "from sklearn.preprocessing import OrdinalEncoder \n",
    "\n",
    "from sklearn.preprocessing import StandardScaler\n",
    "from sklearn.ensemble import RandomForestClassifier\n",
    "from sklearn.linear_model import LogisticRegression\n",
    "from sklearn.metrics import accuracy_score\n",
    "from sklearn.metrics import f1_score\n",
    "from sklearn.metrics import roc_auc_score"
   ]
  },
  {
   "cell_type": "markdown",
   "metadata": {},
   "source": [
    "Получение общего представления о данных"
   ]
  },
  {
   "cell_type": "code",
   "execution_count": 2,
   "metadata": {
    "scrolled": true
   },
   "outputs": [
    {
     "data": {
      "text/html": [
       "<div>\n",
       "<style scoped>\n",
       "    .dataframe tbody tr th:only-of-type {\n",
       "        vertical-align: middle;\n",
       "    }\n",
       "\n",
       "    .dataframe tbody tr th {\n",
       "        vertical-align: top;\n",
       "    }\n",
       "\n",
       "    .dataframe thead th {\n",
       "        text-align: right;\n",
       "    }\n",
       "</style>\n",
       "<table border=\"1\" class=\"dataframe\">\n",
       "  <thead>\n",
       "    <tr style=\"text-align: right;\">\n",
       "      <th></th>\n",
       "      <th>RowNumber</th>\n",
       "      <th>CustomerId</th>\n",
       "      <th>Surname</th>\n",
       "      <th>CreditScore</th>\n",
       "      <th>Geography</th>\n",
       "      <th>Gender</th>\n",
       "      <th>Age</th>\n",
       "      <th>Tenure</th>\n",
       "      <th>Balance</th>\n",
       "      <th>NumOfProducts</th>\n",
       "      <th>HasCrCard</th>\n",
       "      <th>IsActiveMember</th>\n",
       "      <th>EstimatedSalary</th>\n",
       "      <th>Exited</th>\n",
       "    </tr>\n",
       "  </thead>\n",
       "  <tbody>\n",
       "    <tr>\n",
       "      <td>0</td>\n",
       "      <td>1</td>\n",
       "      <td>15634602</td>\n",
       "      <td>Hargrave</td>\n",
       "      <td>619</td>\n",
       "      <td>France</td>\n",
       "      <td>Female</td>\n",
       "      <td>42</td>\n",
       "      <td>2.0</td>\n",
       "      <td>0.00</td>\n",
       "      <td>1</td>\n",
       "      <td>1</td>\n",
       "      <td>1</td>\n",
       "      <td>101348.88</td>\n",
       "      <td>1</td>\n",
       "    </tr>\n",
       "    <tr>\n",
       "      <td>1</td>\n",
       "      <td>2</td>\n",
       "      <td>15647311</td>\n",
       "      <td>Hill</td>\n",
       "      <td>608</td>\n",
       "      <td>Spain</td>\n",
       "      <td>Female</td>\n",
       "      <td>41</td>\n",
       "      <td>1.0</td>\n",
       "      <td>83807.86</td>\n",
       "      <td>1</td>\n",
       "      <td>0</td>\n",
       "      <td>1</td>\n",
       "      <td>112542.58</td>\n",
       "      <td>0</td>\n",
       "    </tr>\n",
       "    <tr>\n",
       "      <td>2</td>\n",
       "      <td>3</td>\n",
       "      <td>15619304</td>\n",
       "      <td>Onio</td>\n",
       "      <td>502</td>\n",
       "      <td>France</td>\n",
       "      <td>Female</td>\n",
       "      <td>42</td>\n",
       "      <td>8.0</td>\n",
       "      <td>159660.80</td>\n",
       "      <td>3</td>\n",
       "      <td>1</td>\n",
       "      <td>0</td>\n",
       "      <td>113931.57</td>\n",
       "      <td>1</td>\n",
       "    </tr>\n",
       "    <tr>\n",
       "      <td>3</td>\n",
       "      <td>4</td>\n",
       "      <td>15701354</td>\n",
       "      <td>Boni</td>\n",
       "      <td>699</td>\n",
       "      <td>France</td>\n",
       "      <td>Female</td>\n",
       "      <td>39</td>\n",
       "      <td>1.0</td>\n",
       "      <td>0.00</td>\n",
       "      <td>2</td>\n",
       "      <td>0</td>\n",
       "      <td>0</td>\n",
       "      <td>93826.63</td>\n",
       "      <td>0</td>\n",
       "    </tr>\n",
       "    <tr>\n",
       "      <td>4</td>\n",
       "      <td>5</td>\n",
       "      <td>15737888</td>\n",
       "      <td>Mitchell</td>\n",
       "      <td>850</td>\n",
       "      <td>Spain</td>\n",
       "      <td>Female</td>\n",
       "      <td>43</td>\n",
       "      <td>2.0</td>\n",
       "      <td>125510.82</td>\n",
       "      <td>1</td>\n",
       "      <td>1</td>\n",
       "      <td>1</td>\n",
       "      <td>79084.10</td>\n",
       "      <td>0</td>\n",
       "    </tr>\n",
       "  </tbody>\n",
       "</table>\n",
       "</div>"
      ],
      "text/plain": [
       "   RowNumber  CustomerId   Surname  CreditScore Geography  Gender  Age  \\\n",
       "0          1    15634602  Hargrave          619    France  Female   42   \n",
       "1          2    15647311      Hill          608     Spain  Female   41   \n",
       "2          3    15619304      Onio          502    France  Female   42   \n",
       "3          4    15701354      Boni          699    France  Female   39   \n",
       "4          5    15737888  Mitchell          850     Spain  Female   43   \n",
       "\n",
       "   Tenure    Balance  NumOfProducts  HasCrCard  IsActiveMember  \\\n",
       "0     2.0       0.00              1          1               1   \n",
       "1     1.0   83807.86              1          0               1   \n",
       "2     8.0  159660.80              3          1               0   \n",
       "3     1.0       0.00              2          0               0   \n",
       "4     2.0  125510.82              1          1               1   \n",
       "\n",
       "   EstimatedSalary  Exited  \n",
       "0        101348.88       1  \n",
       "1        112542.58       0  \n",
       "2        113931.57       1  \n",
       "3         93826.63       0  \n",
       "4         79084.10       0  "
      ]
     },
     "execution_count": 2,
     "metadata": {},
     "output_type": "execute_result"
    }
   ],
   "source": [
    "data = pd.read_csv('/datasets/Churn.csv')\n",
    "data.head()\n"
   ]
  },
  {
   "cell_type": "code",
   "execution_count": 3,
   "metadata": {
    "scrolled": false
   },
   "outputs": [
    {
     "name": "stdout",
     "output_type": "stream",
     "text": [
      "<class 'pandas.core.frame.DataFrame'>\n",
      "RangeIndex: 10000 entries, 0 to 9999\n",
      "Data columns (total 14 columns):\n",
      "RowNumber          10000 non-null int64\n",
      "CustomerId         10000 non-null int64\n",
      "Surname            10000 non-null object\n",
      "CreditScore        10000 non-null int64\n",
      "Geography          10000 non-null object\n",
      "Gender             10000 non-null object\n",
      "Age                10000 non-null int64\n",
      "Tenure             9091 non-null float64\n",
      "Balance            10000 non-null float64\n",
      "NumOfProducts      10000 non-null int64\n",
      "HasCrCard          10000 non-null int64\n",
      "IsActiveMember     10000 non-null int64\n",
      "EstimatedSalary    10000 non-null float64\n",
      "Exited             10000 non-null int64\n",
      "dtypes: float64(3), int64(8), object(3)\n",
      "memory usage: 1.1+ MB\n"
     ]
    }
   ],
   "source": [
    "data.info()"
   ]
  },
  {
   "cell_type": "code",
   "execution_count": 4,
   "metadata": {
    "scrolled": true
   },
   "outputs": [
    {
     "data": {
      "text/plain": [
       "909"
      ]
     },
     "execution_count": 4,
     "metadata": {},
     "output_type": "execute_result"
    }
   ],
   "source": [
    "data['Tenure'].isna().sum()"
   ]
  },
  {
   "cell_type": "markdown",
   "metadata": {},
   "source": [
    "Столбец `Tenure` - количество лет, которые клиент является клиентом банка содержит 909 незаполненных значений `NaN`"
   ]
  },
  {
   "cell_type": "markdown",
   "metadata": {},
   "source": [
    "<div class=\"alert alert-success\">\n",
    "<b>Комментарий ревьюера ✔️:</b> Все отлично: Действительно, есть пропущенные значения. Молодец, что не пропустил.</font>"
   ]
  },
  {
   "cell_type": "code",
   "execution_count": 5,
   "metadata": {
    "scrolled": true
   },
   "outputs": [
    {
     "data": {
      "text/plain": [
       "0"
      ]
     },
     "execution_count": 5,
     "metadata": {},
     "output_type": "execute_result"
    }
   ],
   "source": [
    "data.duplicated().sum()"
   ]
  },
  {
   "cell_type": "markdown",
   "metadata": {},
   "source": [
    "Дублированных строк датасет не имеет"
   ]
  },
  {
   "cell_type": "code",
   "execution_count": 6,
   "metadata": {
    "scrolled": false
   },
   "outputs": [
    {
     "data": {
      "text/html": [
       "<div>\n",
       "<style scoped>\n",
       "    .dataframe tbody tr th:only-of-type {\n",
       "        vertical-align: middle;\n",
       "    }\n",
       "\n",
       "    .dataframe tbody tr th {\n",
       "        vertical-align: top;\n",
       "    }\n",
       "\n",
       "    .dataframe thead th {\n",
       "        text-align: right;\n",
       "    }\n",
       "</style>\n",
       "<table border=\"1\" class=\"dataframe\">\n",
       "  <thead>\n",
       "    <tr style=\"text-align: right;\">\n",
       "      <th></th>\n",
       "      <th>RowNumber</th>\n",
       "      <th>CustomerId</th>\n",
       "      <th>CreditScore</th>\n",
       "      <th>Age</th>\n",
       "      <th>Tenure</th>\n",
       "      <th>Balance</th>\n",
       "      <th>NumOfProducts</th>\n",
       "      <th>HasCrCard</th>\n",
       "      <th>IsActiveMember</th>\n",
       "      <th>EstimatedSalary</th>\n",
       "      <th>Exited</th>\n",
       "    </tr>\n",
       "  </thead>\n",
       "  <tbody>\n",
       "    <tr>\n",
       "      <td>count</td>\n",
       "      <td>10000.00000</td>\n",
       "      <td>1.000000e+04</td>\n",
       "      <td>10000.000000</td>\n",
       "      <td>10000.000000</td>\n",
       "      <td>9091.000000</td>\n",
       "      <td>10000.000000</td>\n",
       "      <td>10000.000000</td>\n",
       "      <td>10000.00000</td>\n",
       "      <td>10000.000000</td>\n",
       "      <td>10000.000000</td>\n",
       "      <td>10000.000000</td>\n",
       "    </tr>\n",
       "    <tr>\n",
       "      <td>mean</td>\n",
       "      <td>5000.50000</td>\n",
       "      <td>1.569094e+07</td>\n",
       "      <td>650.528800</td>\n",
       "      <td>38.921800</td>\n",
       "      <td>4.997690</td>\n",
       "      <td>76485.889288</td>\n",
       "      <td>1.530200</td>\n",
       "      <td>0.70550</td>\n",
       "      <td>0.515100</td>\n",
       "      <td>100090.239881</td>\n",
       "      <td>0.203700</td>\n",
       "    </tr>\n",
       "    <tr>\n",
       "      <td>std</td>\n",
       "      <td>2886.89568</td>\n",
       "      <td>7.193619e+04</td>\n",
       "      <td>96.653299</td>\n",
       "      <td>10.487806</td>\n",
       "      <td>2.894723</td>\n",
       "      <td>62397.405202</td>\n",
       "      <td>0.581654</td>\n",
       "      <td>0.45584</td>\n",
       "      <td>0.499797</td>\n",
       "      <td>57510.492818</td>\n",
       "      <td>0.402769</td>\n",
       "    </tr>\n",
       "    <tr>\n",
       "      <td>min</td>\n",
       "      <td>1.00000</td>\n",
       "      <td>1.556570e+07</td>\n",
       "      <td>350.000000</td>\n",
       "      <td>18.000000</td>\n",
       "      <td>0.000000</td>\n",
       "      <td>0.000000</td>\n",
       "      <td>1.000000</td>\n",
       "      <td>0.00000</td>\n",
       "      <td>0.000000</td>\n",
       "      <td>11.580000</td>\n",
       "      <td>0.000000</td>\n",
       "    </tr>\n",
       "    <tr>\n",
       "      <td>25%</td>\n",
       "      <td>2500.75000</td>\n",
       "      <td>1.562853e+07</td>\n",
       "      <td>584.000000</td>\n",
       "      <td>32.000000</td>\n",
       "      <td>2.000000</td>\n",
       "      <td>0.000000</td>\n",
       "      <td>1.000000</td>\n",
       "      <td>0.00000</td>\n",
       "      <td>0.000000</td>\n",
       "      <td>51002.110000</td>\n",
       "      <td>0.000000</td>\n",
       "    </tr>\n",
       "    <tr>\n",
       "      <td>50%</td>\n",
       "      <td>5000.50000</td>\n",
       "      <td>1.569074e+07</td>\n",
       "      <td>652.000000</td>\n",
       "      <td>37.000000</td>\n",
       "      <td>5.000000</td>\n",
       "      <td>97198.540000</td>\n",
       "      <td>1.000000</td>\n",
       "      <td>1.00000</td>\n",
       "      <td>1.000000</td>\n",
       "      <td>100193.915000</td>\n",
       "      <td>0.000000</td>\n",
       "    </tr>\n",
       "    <tr>\n",
       "      <td>75%</td>\n",
       "      <td>7500.25000</td>\n",
       "      <td>1.575323e+07</td>\n",
       "      <td>718.000000</td>\n",
       "      <td>44.000000</td>\n",
       "      <td>7.000000</td>\n",
       "      <td>127644.240000</td>\n",
       "      <td>2.000000</td>\n",
       "      <td>1.00000</td>\n",
       "      <td>1.000000</td>\n",
       "      <td>149388.247500</td>\n",
       "      <td>0.000000</td>\n",
       "    </tr>\n",
       "    <tr>\n",
       "      <td>max</td>\n",
       "      <td>10000.00000</td>\n",
       "      <td>1.581569e+07</td>\n",
       "      <td>850.000000</td>\n",
       "      <td>92.000000</td>\n",
       "      <td>10.000000</td>\n",
       "      <td>250898.090000</td>\n",
       "      <td>4.000000</td>\n",
       "      <td>1.00000</td>\n",
       "      <td>1.000000</td>\n",
       "      <td>199992.480000</td>\n",
       "      <td>1.000000</td>\n",
       "    </tr>\n",
       "  </tbody>\n",
       "</table>\n",
       "</div>"
      ],
      "text/plain": [
       "         RowNumber    CustomerId   CreditScore           Age       Tenure  \\\n",
       "count  10000.00000  1.000000e+04  10000.000000  10000.000000  9091.000000   \n",
       "mean    5000.50000  1.569094e+07    650.528800     38.921800     4.997690   \n",
       "std     2886.89568  7.193619e+04     96.653299     10.487806     2.894723   \n",
       "min        1.00000  1.556570e+07    350.000000     18.000000     0.000000   \n",
       "25%     2500.75000  1.562853e+07    584.000000     32.000000     2.000000   \n",
       "50%     5000.50000  1.569074e+07    652.000000     37.000000     5.000000   \n",
       "75%     7500.25000  1.575323e+07    718.000000     44.000000     7.000000   \n",
       "max    10000.00000  1.581569e+07    850.000000     92.000000    10.000000   \n",
       "\n",
       "             Balance  NumOfProducts    HasCrCard  IsActiveMember  \\\n",
       "count   10000.000000   10000.000000  10000.00000    10000.000000   \n",
       "mean    76485.889288       1.530200      0.70550        0.515100   \n",
       "std     62397.405202       0.581654      0.45584        0.499797   \n",
       "min         0.000000       1.000000      0.00000        0.000000   \n",
       "25%         0.000000       1.000000      0.00000        0.000000   \n",
       "50%     97198.540000       1.000000      1.00000        1.000000   \n",
       "75%    127644.240000       2.000000      1.00000        1.000000   \n",
       "max    250898.090000       4.000000      1.00000        1.000000   \n",
       "\n",
       "       EstimatedSalary        Exited  \n",
       "count     10000.000000  10000.000000  \n",
       "mean     100090.239881      0.203700  \n",
       "std       57510.492818      0.402769  \n",
       "min          11.580000      0.000000  \n",
       "25%       51002.110000      0.000000  \n",
       "50%      100193.915000      0.000000  \n",
       "75%      149388.247500      0.000000  \n",
       "max      199992.480000      1.000000  "
      ]
     },
     "execution_count": 6,
     "metadata": {},
     "output_type": "execute_result"
    }
   ],
   "source": [
    "data.describe()"
   ]
  },
  {
   "cell_type": "code",
   "execution_count": 7,
   "metadata": {},
   "outputs": [
    {
     "data": {
      "text/plain": [
       "0.0     382\n",
       "1.0     952\n",
       "2.0     950\n",
       "3.0     928\n",
       "4.0     885\n",
       "5.0     927\n",
       "6.0     881\n",
       "7.0     925\n",
       "8.0     933\n",
       "9.0     882\n",
       "10.0    446\n",
       "Name: Tenure, dtype: int64"
      ]
     },
     "execution_count": 7,
     "metadata": {},
     "output_type": "execute_result"
    }
   ],
   "source": [
    "data['Tenure'].value_counts().sort_index()"
   ]
  },
  {
   "cell_type": "markdown",
   "metadata": {},
   "source": [
    "Проанализируем подробней столбец `Tenure`"
   ]
  },
  {
   "cell_type": "code",
   "execution_count": 8,
   "metadata": {
    "scrolled": false
   },
   "outputs": [
    {
     "data": {
      "text/plain": [
       "<matplotlib.axes._subplots.AxesSubplot at 0x7fcff34f2d50>"
      ]
     },
     "execution_count": 8,
     "metadata": {},
     "output_type": "execute_result"
    },
    {
     "data": {
      "image/png": "[encoded data removed]",
      "text/plain": [
       "<Figure size 432x288 with 1 Axes>"
      ]
     },
     "metadata": {
      "needs_background": "light"
     },
     "output_type": "display_data"
    }
   ],
   "source": [
    "data['Tenure'].value_counts(normalize=True).sort_index().plot(kind='bar', title='Плотность распределения \"Tenure\" перед заполнением пустых значений')\n"
   ]
  },
  {
   "cell_type": "markdown",
   "metadata": {},
   "source": [
    "Заполним пропущенные значения в `Tenure`, таким образом, чтобы после заполнения распределение осталось ровно таким же."
   ]
  },
  {
   "cell_type": "markdown",
   "metadata": {},
   "source": [
    "В `index_nan` сохраним список, который будет содержать индексы строк с `Nan`"
   ]
  },
  {
   "cell_type": "code",
   "execution_count": 9,
   "metadata": {},
   "outputs": [],
   "source": [
    "index_nan = data[data['Tenure'].isna()].index.to_list()"
   ]
  },
  {
   "cell_type": "markdown",
   "metadata": {},
   "source": [
    "Ниже в словаре `list_mis` будут сохранены ключи(кол-во лет в течение, которых клиент пользовался услугами банка), в значениях будут количесто строк, которые нужно будет довабить в датасет для того, чтобы датасет после заполнения пустых значений имел такое же распределение. Т.е. значения 0 лет нужно будет добавить в датасет 39 раз, 1 год 95 раз, 2 года 95 раз и так далее."
   ]
  },
  {
   "cell_type": "code",
   "execution_count": 10,
   "metadata": {},
   "outputs": [
    {
     "data": {
      "text/plain": [
       "909.0"
      ]
     },
     "execution_count": 10,
     "metadata": {},
     "output_type": "execute_result"
    }
   ],
   "source": [
    "list_mis = (data['Tenure'].value_counts(normalize=True).sort_index()*909).round()\n",
    "sum(list_mis)\n",
    "list_mis[0] = list_mis[0]+1\n",
    "sum(list_mis)"
   ]
  },
  {
   "cell_type": "code",
   "execution_count": 11,
   "metadata": {},
   "outputs": [],
   "source": [
    "list_mis = list_mis.to_dict()"
   ]
  },
  {
   "cell_type": "code",
   "execution_count": 12,
   "metadata": {},
   "outputs": [
    {
     "data": {
      "text/plain": [
       "{0.0: 39.0,\n",
       " 1.0: 95.0,\n",
       " 2.0: 95.0,\n",
       " 3.0: 93.0,\n",
       " 4.0: 88.0,\n",
       " 5.0: 93.0,\n",
       " 6.0: 88.0,\n",
       " 7.0: 92.0,\n",
       " 8.0: 93.0,\n",
       " 9.0: 88.0,\n",
       " 10.0: 45.0}"
      ]
     },
     "execution_count": 12,
     "metadata": {},
     "output_type": "execute_result"
    }
   ],
   "source": [
    "list_mis\n"
   ]
  },
  {
   "cell_type": "markdown",
   "metadata": {},
   "source": [
    "Ниже будет выполнено заполнение. Из списка `index_nan` случайным образом будет выбираться индекс, где есть отсутсвующее значение в столбце `Tenure` это значение заполняется ключом из словаря `list_mis`. Далее этот  индекс удаляется из  списка `index_nan`. И эта операция выполняется в цикле столько раз сколько указано для значения в словаре. "
   ]
  },
  {
   "cell_type": "code",
   "execution_count": 13,
   "metadata": {},
   "outputs": [],
   "source": [
    "for i in range(11):\n",
    "    for j in range(int(list_mis[i])):\n",
    "        random.seed(10)\n",
    "        r = random.choice(index_nan)\n",
    "        data.loc[r,'Tenure'] = i\n",
    "        index_nan.remove(r)"
   ]
  },
  {
   "cell_type": "code",
   "execution_count": 14,
   "metadata": {
    "scrolled": true
   },
   "outputs": [
    {
     "data": {
      "text/plain": [
       "0"
      ]
     },
     "execution_count": 14,
     "metadata": {},
     "output_type": "execute_result"
    }
   ],
   "source": [
    "data['Tenure'].isna().sum()"
   ]
  },
  {
   "cell_type": "code",
   "execution_count": 15,
   "metadata": {
    "scrolled": true
   },
   "outputs": [
    {
     "data": {
      "text/plain": [
       "<matplotlib.axes._subplots.AxesSubplot at 0x7fcfeac88a90>"
      ]
     },
     "execution_count": 15,
     "metadata": {},
     "output_type": "execute_result"
    },
    {
     "data": {
      "image/png": "[encoded data removed]",
      "text/plain": [
       "<Figure size 432x288 with 1 Axes>"
      ]
     },
     "metadata": {
      "needs_background": "light"
     },
     "output_type": "display_data"
    }
   ],
   "source": [
    "data['Tenure'].value_counts().sort_index().plot(kind='bar', title='Плотность распределения \"Tenure\" после заполнения пустых значений')\n"
   ]
  },
  {
   "cell_type": "code",
   "execution_count": 16,
   "metadata": {
    "scrolled": true
   },
   "outputs": [
    {
     "data": {
      "text/plain": [
       "0.0      421\n",
       "1.0     1047\n",
       "2.0     1045\n",
       "3.0     1021\n",
       "4.0      973\n",
       "5.0     1020\n",
       "6.0      969\n",
       "7.0     1017\n",
       "8.0     1026\n",
       "9.0      970\n",
       "10.0     491\n",
       "Name: Tenure, dtype: int64"
      ]
     },
     "execution_count": 16,
     "metadata": {},
     "output_type": "execute_result"
    }
   ],
   "source": [
    "data['Tenure'].value_counts().sort_index()"
   ]
  },
  {
   "cell_type": "code",
   "execution_count": 17,
   "metadata": {
    "scrolled": true
   },
   "outputs": [
    {
     "name": "stdout",
     "output_type": "stream",
     "text": [
      "<class 'pandas.core.frame.DataFrame'>\n",
      "RangeIndex: 10000 entries, 0 to 9999\n",
      "Data columns (total 14 columns):\n",
      "RowNumber          10000 non-null int64\n",
      "CustomerId         10000 non-null int64\n",
      "Surname            10000 non-null object\n",
      "CreditScore        10000 non-null int64\n",
      "Geography          10000 non-null object\n",
      "Gender             10000 non-null object\n",
      "Age                10000 non-null int64\n",
      "Tenure             10000 non-null float64\n",
      "Balance            10000 non-null float64\n",
      "NumOfProducts      10000 non-null int64\n",
      "HasCrCard          10000 non-null int64\n",
      "IsActiveMember     10000 non-null int64\n",
      "EstimatedSalary    10000 non-null float64\n",
      "Exited             10000 non-null int64\n",
      "dtypes: float64(3), int64(8), object(3)\n",
      "memory usage: 1.1+ MB\n"
     ]
    }
   ],
   "source": [
    "data.info()"
   ]
  },
  {
   "cell_type": "markdown",
   "metadata": {},
   "source": [
    "Столбец `Surname` несет избыточную информацию, так как у нас есть столбец `CustomerId` по которому мы можем однозначно идентифицировать клиента. Поэтому исключим `Surname` из датафрейма. А так же исключим столбец `RowNumber` он напрямую связан с индексами датафрейма."
   ]
  },
  {
   "cell_type": "code",
   "execution_count": 18,
   "metadata": {
    "scrolled": true
   },
   "outputs": [
    {
     "data": {
      "text/html": [
       "<div>\n",
       "<style scoped>\n",
       "    .dataframe tbody tr th:only-of-type {\n",
       "        vertical-align: middle;\n",
       "    }\n",
       "\n",
       "    .dataframe tbody tr th {\n",
       "        vertical-align: top;\n",
       "    }\n",
       "\n",
       "    .dataframe thead th {\n",
       "        text-align: right;\n",
       "    }\n",
       "</style>\n",
       "<table border=\"1\" class=\"dataframe\">\n",
       "  <thead>\n",
       "    <tr style=\"text-align: right;\">\n",
       "      <th></th>\n",
       "      <th>RowNumber</th>\n",
       "      <th>CustomerId</th>\n",
       "      <th>Surname</th>\n",
       "      <th>CreditScore</th>\n",
       "      <th>Geography</th>\n",
       "      <th>Gender</th>\n",
       "      <th>Age</th>\n",
       "      <th>Tenure</th>\n",
       "      <th>Balance</th>\n",
       "      <th>NumOfProducts</th>\n",
       "      <th>HasCrCard</th>\n",
       "      <th>IsActiveMember</th>\n",
       "      <th>EstimatedSalary</th>\n",
       "      <th>Exited</th>\n",
       "    </tr>\n",
       "  </thead>\n",
       "  <tbody>\n",
       "    <tr>\n",
       "      <td>0</td>\n",
       "      <td>1</td>\n",
       "      <td>15634602</td>\n",
       "      <td>Hargrave</td>\n",
       "      <td>619</td>\n",
       "      <td>France</td>\n",
       "      <td>Female</td>\n",
       "      <td>42</td>\n",
       "      <td>2.0</td>\n",
       "      <td>0.00</td>\n",
       "      <td>1</td>\n",
       "      <td>1</td>\n",
       "      <td>1</td>\n",
       "      <td>101348.88</td>\n",
       "      <td>1</td>\n",
       "    </tr>\n",
       "    <tr>\n",
       "      <td>1</td>\n",
       "      <td>2</td>\n",
       "      <td>15647311</td>\n",
       "      <td>Hill</td>\n",
       "      <td>608</td>\n",
       "      <td>Spain</td>\n",
       "      <td>Female</td>\n",
       "      <td>41</td>\n",
       "      <td>1.0</td>\n",
       "      <td>83807.86</td>\n",
       "      <td>1</td>\n",
       "      <td>0</td>\n",
       "      <td>1</td>\n",
       "      <td>112542.58</td>\n",
       "      <td>0</td>\n",
       "    </tr>\n",
       "    <tr>\n",
       "      <td>2</td>\n",
       "      <td>3</td>\n",
       "      <td>15619304</td>\n",
       "      <td>Onio</td>\n",
       "      <td>502</td>\n",
       "      <td>France</td>\n",
       "      <td>Female</td>\n",
       "      <td>42</td>\n",
       "      <td>8.0</td>\n",
       "      <td>159660.80</td>\n",
       "      <td>3</td>\n",
       "      <td>1</td>\n",
       "      <td>0</td>\n",
       "      <td>113931.57</td>\n",
       "      <td>1</td>\n",
       "    </tr>\n",
       "    <tr>\n",
       "      <td>3</td>\n",
       "      <td>4</td>\n",
       "      <td>15701354</td>\n",
       "      <td>Boni</td>\n",
       "      <td>699</td>\n",
       "      <td>France</td>\n",
       "      <td>Female</td>\n",
       "      <td>39</td>\n",
       "      <td>1.0</td>\n",
       "      <td>0.00</td>\n",
       "      <td>2</td>\n",
       "      <td>0</td>\n",
       "      <td>0</td>\n",
       "      <td>93826.63</td>\n",
       "      <td>0</td>\n",
       "    </tr>\n",
       "    <tr>\n",
       "      <td>4</td>\n",
       "      <td>5</td>\n",
       "      <td>15737888</td>\n",
       "      <td>Mitchell</td>\n",
       "      <td>850</td>\n",
       "      <td>Spain</td>\n",
       "      <td>Female</td>\n",
       "      <td>43</td>\n",
       "      <td>2.0</td>\n",
       "      <td>125510.82</td>\n",
       "      <td>1</td>\n",
       "      <td>1</td>\n",
       "      <td>1</td>\n",
       "      <td>79084.10</td>\n",
       "      <td>0</td>\n",
       "    </tr>\n",
       "  </tbody>\n",
       "</table>\n",
       "</div>"
      ],
      "text/plain": [
       "   RowNumber  CustomerId   Surname  CreditScore Geography  Gender  Age  \\\n",
       "0          1    15634602  Hargrave          619    France  Female   42   \n",
       "1          2    15647311      Hill          608     Spain  Female   41   \n",
       "2          3    15619304      Onio          502    France  Female   42   \n",
       "3          4    15701354      Boni          699    France  Female   39   \n",
       "4          5    15737888  Mitchell          850     Spain  Female   43   \n",
       "\n",
       "   Tenure    Balance  NumOfProducts  HasCrCard  IsActiveMember  \\\n",
       "0     2.0       0.00              1          1               1   \n",
       "1     1.0   83807.86              1          0               1   \n",
       "2     8.0  159660.80              3          1               0   \n",
       "3     1.0       0.00              2          0               0   \n",
       "4     2.0  125510.82              1          1               1   \n",
       "\n",
       "   EstimatedSalary  Exited  \n",
       "0        101348.88       1  \n",
       "1        112542.58       0  \n",
       "2        113931.57       1  \n",
       "3         93826.63       0  \n",
       "4         79084.10       0  "
      ]
     },
     "execution_count": 18,
     "metadata": {},
     "output_type": "execute_result"
    }
   ],
   "source": [
    "data.head()"
   ]
  },
  {
   "cell_type": "code",
   "execution_count": 19,
   "metadata": {},
   "outputs": [
    {
     "data": {
      "text/plain": [
       "Male      5457\n",
       "Female    4543\n",
       "Name: Gender, dtype: int64"
      ]
     },
     "execution_count": 19,
     "metadata": {},
     "output_type": "execute_result"
    }
   ],
   "source": [
    "data['Gender'].value_counts()"
   ]
  },
  {
   "cell_type": "code",
   "execution_count": 20,
   "metadata": {},
   "outputs": [],
   "source": [
    "data = data.drop(['Surname', 'RowNumber', 'CustomerId'], axis=1)"
   ]
  },
  {
   "cell_type": "markdown",
   "metadata": {},
   "source": [
    "Разобъем наши данные на обучающую, валидационную и тестовую выборки в соотношении 60:20:20 соответственно.\n",
    " - 6000 строк обучающая выборка\n",
    " - 2000 строк валидационная выборка\n",
    " - 2000 строк тестовая выборка"
   ]
  },
  {
   "cell_type": "markdown",
   "metadata": {},
   "source": [
    "Выбирем случайным образом 2000 строк из `data` и сохраним их в `test` - это и будет наша тестовая выборка"
   ]
  },
  {
   "cell_type": "code",
   "execution_count": 21,
   "metadata": {},
   "outputs": [],
   "source": [
    "data_ohe = pd.get_dummies(data, drop_first = True)"
   ]
  },
  {
   "cell_type": "code",
   "execution_count": 22,
   "metadata": {
    "scrolled": true
   },
   "outputs": [
    {
     "data": {
      "text/html": [
       "<div>\n",
       "<style scoped>\n",
       "    .dataframe tbody tr th:only-of-type {\n",
       "        vertical-align: middle;\n",
       "    }\n",
       "\n",
       "    .dataframe tbody tr th {\n",
       "        vertical-align: top;\n",
       "    }\n",
       "\n",
       "    .dataframe thead th {\n",
       "        text-align: right;\n",
       "    }\n",
       "</style>\n",
       "<table border=\"1\" class=\"dataframe\">\n",
       "  <thead>\n",
       "    <tr style=\"text-align: right;\">\n",
       "      <th></th>\n",
       "      <th>CreditScore</th>\n",
       "      <th>Age</th>\n",
       "      <th>Tenure</th>\n",
       "      <th>Balance</th>\n",
       "      <th>NumOfProducts</th>\n",
       "      <th>HasCrCard</th>\n",
       "      <th>IsActiveMember</th>\n",
       "      <th>EstimatedSalary</th>\n",
       "      <th>Exited</th>\n",
       "      <th>Geography_Germany</th>\n",
       "      <th>Geography_Spain</th>\n",
       "      <th>Gender_Male</th>\n",
       "    </tr>\n",
       "  </thead>\n",
       "  <tbody>\n",
       "    <tr>\n",
       "      <td>7867</td>\n",
       "      <td>640</td>\n",
       "      <td>46</td>\n",
       "      <td>3.0</td>\n",
       "      <td>0.00</td>\n",
       "      <td>1</td>\n",
       "      <td>1</td>\n",
       "      <td>1</td>\n",
       "      <td>156260.08</td>\n",
       "      <td>0</td>\n",
       "      <td>0</td>\n",
       "      <td>1</td>\n",
       "      <td>0</td>\n",
       "    </tr>\n",
       "    <tr>\n",
       "      <td>1402</td>\n",
       "      <td>757</td>\n",
       "      <td>29</td>\n",
       "      <td>8.0</td>\n",
       "      <td>130306.49</td>\n",
       "      <td>1</td>\n",
       "      <td>1</td>\n",
       "      <td>0</td>\n",
       "      <td>77469.38</td>\n",
       "      <td>0</td>\n",
       "      <td>0</td>\n",
       "      <td>0</td>\n",
       "      <td>1</td>\n",
       "    </tr>\n",
       "    <tr>\n",
       "      <td>8606</td>\n",
       "      <td>807</td>\n",
       "      <td>42</td>\n",
       "      <td>5.0</td>\n",
       "      <td>0.00</td>\n",
       "      <td>2</td>\n",
       "      <td>1</td>\n",
       "      <td>1</td>\n",
       "      <td>74900.90</td>\n",
       "      <td>0</td>\n",
       "      <td>0</td>\n",
       "      <td>1</td>\n",
       "      <td>1</td>\n",
       "    </tr>\n",
       "    <tr>\n",
       "      <td>8885</td>\n",
       "      <td>668</td>\n",
       "      <td>45</td>\n",
       "      <td>4.0</td>\n",
       "      <td>102486.21</td>\n",
       "      <td>2</td>\n",
       "      <td>1</td>\n",
       "      <td>1</td>\n",
       "      <td>158379.25</td>\n",
       "      <td>0</td>\n",
       "      <td>0</td>\n",
       "      <td>1</td>\n",
       "      <td>1</td>\n",
       "    </tr>\n",
       "    <tr>\n",
       "      <td>6494</td>\n",
       "      <td>699</td>\n",
       "      <td>28</td>\n",
       "      <td>7.0</td>\n",
       "      <td>0.00</td>\n",
       "      <td>2</td>\n",
       "      <td>1</td>\n",
       "      <td>1</td>\n",
       "      <td>22684.78</td>\n",
       "      <td>0</td>\n",
       "      <td>0</td>\n",
       "      <td>0</td>\n",
       "      <td>1</td>\n",
       "    </tr>\n",
       "  </tbody>\n",
       "</table>\n",
       "</div>"
      ],
      "text/plain": [
       "      CreditScore  Age  Tenure    Balance  NumOfProducts  HasCrCard  \\\n",
       "7867          640   46     3.0       0.00              1          1   \n",
       "1402          757   29     8.0  130306.49              1          1   \n",
       "8606          807   42     5.0       0.00              2          1   \n",
       "8885          668   45     4.0  102486.21              2          1   \n",
       "6494          699   28     7.0       0.00              2          1   \n",
       "\n",
       "      IsActiveMember  EstimatedSalary  Exited  Geography_Germany  \\\n",
       "7867               1        156260.08       0                  0   \n",
       "1402               0         77469.38       0                  0   \n",
       "8606               1         74900.90       0                  0   \n",
       "8885               1        158379.25       0                  0   \n",
       "6494               1         22684.78       0                  0   \n",
       "\n",
       "      Geography_Spain  Gender_Male  \n",
       "7867                1            0  \n",
       "1402                0            1  \n",
       "8606                1            1  \n",
       "8885                1            1  \n",
       "6494                0            1  "
      ]
     },
     "execution_count": 22,
     "metadata": {},
     "output_type": "execute_result"
    }
   ],
   "source": [
    "test_ohe = data_ohe.sample(n=2000, random_state=12345)\n",
    "test_ohe.head()"
   ]
  },
  {
   "cell_type": "code",
   "execution_count": 23,
   "metadata": {},
   "outputs": [
    {
     "data": {
      "text/plain": [
       "Int64Index([7867, 1402, 8606, 8885, 6494, 9628, 7459, 3964, 7000, 4470,\n",
       "            ...\n",
       "            6892, 7676, 4260, 7175, 9371, 2563, 1167, 1009, 1002,  694],\n",
       "           dtype='int64', length=2000)"
      ]
     },
     "execution_count": 23,
     "metadata": {},
     "output_type": "execute_result"
    }
   ],
   "source": [
    "test_ohe.index"
   ]
  },
  {
   "cell_type": "markdown",
   "metadata": {},
   "source": [
    "Оставшиеся строки сохраним в `data_wo_test`"
   ]
  },
  {
   "cell_type": "code",
   "execution_count": 24,
   "metadata": {},
   "outputs": [
    {
     "data": {
      "text/html": [
       "<div>\n",
       "<style scoped>\n",
       "    .dataframe tbody tr th:only-of-type {\n",
       "        vertical-align: middle;\n",
       "    }\n",
       "\n",
       "    .dataframe tbody tr th {\n",
       "        vertical-align: top;\n",
       "    }\n",
       "\n",
       "    .dataframe thead th {\n",
       "        text-align: right;\n",
       "    }\n",
       "</style>\n",
       "<table border=\"1\" class=\"dataframe\">\n",
       "  <thead>\n",
       "    <tr style=\"text-align: right;\">\n",
       "      <th></th>\n",
       "      <th>CreditScore</th>\n",
       "      <th>Age</th>\n",
       "      <th>Tenure</th>\n",
       "      <th>Balance</th>\n",
       "      <th>NumOfProducts</th>\n",
       "      <th>HasCrCard</th>\n",
       "      <th>IsActiveMember</th>\n",
       "      <th>EstimatedSalary</th>\n",
       "      <th>Exited</th>\n",
       "      <th>Geography_Germany</th>\n",
       "      <th>Geography_Spain</th>\n",
       "      <th>Gender_Male</th>\n",
       "    </tr>\n",
       "  </thead>\n",
       "  <tbody>\n",
       "    <tr>\n",
       "      <td>0</td>\n",
       "      <td>619</td>\n",
       "      <td>42</td>\n",
       "      <td>2.0</td>\n",
       "      <td>0.00</td>\n",
       "      <td>1</td>\n",
       "      <td>1</td>\n",
       "      <td>1</td>\n",
       "      <td>101348.88</td>\n",
       "      <td>1</td>\n",
       "      <td>0</td>\n",
       "      <td>0</td>\n",
       "      <td>0</td>\n",
       "    </tr>\n",
       "    <tr>\n",
       "      <td>1</td>\n",
       "      <td>608</td>\n",
       "      <td>41</td>\n",
       "      <td>1.0</td>\n",
       "      <td>83807.86</td>\n",
       "      <td>1</td>\n",
       "      <td>0</td>\n",
       "      <td>1</td>\n",
       "      <td>112542.58</td>\n",
       "      <td>0</td>\n",
       "      <td>0</td>\n",
       "      <td>1</td>\n",
       "      <td>0</td>\n",
       "    </tr>\n",
       "    <tr>\n",
       "      <td>3</td>\n",
       "      <td>699</td>\n",
       "      <td>39</td>\n",
       "      <td>1.0</td>\n",
       "      <td>0.00</td>\n",
       "      <td>2</td>\n",
       "      <td>0</td>\n",
       "      <td>0</td>\n",
       "      <td>93826.63</td>\n",
       "      <td>0</td>\n",
       "      <td>0</td>\n",
       "      <td>0</td>\n",
       "      <td>0</td>\n",
       "    </tr>\n",
       "    <tr>\n",
       "      <td>4</td>\n",
       "      <td>850</td>\n",
       "      <td>43</td>\n",
       "      <td>2.0</td>\n",
       "      <td>125510.82</td>\n",
       "      <td>1</td>\n",
       "      <td>1</td>\n",
       "      <td>1</td>\n",
       "      <td>79084.10</td>\n",
       "      <td>0</td>\n",
       "      <td>0</td>\n",
       "      <td>1</td>\n",
       "      <td>0</td>\n",
       "    </tr>\n",
       "    <tr>\n",
       "      <td>5</td>\n",
       "      <td>645</td>\n",
       "      <td>44</td>\n",
       "      <td>8.0</td>\n",
       "      <td>113755.78</td>\n",
       "      <td>2</td>\n",
       "      <td>1</td>\n",
       "      <td>0</td>\n",
       "      <td>149756.71</td>\n",
       "      <td>1</td>\n",
       "      <td>0</td>\n",
       "      <td>1</td>\n",
       "      <td>1</td>\n",
       "    </tr>\n",
       "    <tr>\n",
       "      <td>...</td>\n",
       "      <td>...</td>\n",
       "      <td>...</td>\n",
       "      <td>...</td>\n",
       "      <td>...</td>\n",
       "      <td>...</td>\n",
       "      <td>...</td>\n",
       "      <td>...</td>\n",
       "      <td>...</td>\n",
       "      <td>...</td>\n",
       "      <td>...</td>\n",
       "      <td>...</td>\n",
       "      <td>...</td>\n",
       "    </tr>\n",
       "    <tr>\n",
       "      <td>9992</td>\n",
       "      <td>726</td>\n",
       "      <td>36</td>\n",
       "      <td>2.0</td>\n",
       "      <td>0.00</td>\n",
       "      <td>1</td>\n",
       "      <td>1</td>\n",
       "      <td>0</td>\n",
       "      <td>195192.40</td>\n",
       "      <td>0</td>\n",
       "      <td>0</td>\n",
       "      <td>1</td>\n",
       "      <td>1</td>\n",
       "    </tr>\n",
       "    <tr>\n",
       "      <td>9995</td>\n",
       "      <td>771</td>\n",
       "      <td>39</td>\n",
       "      <td>5.0</td>\n",
       "      <td>0.00</td>\n",
       "      <td>2</td>\n",
       "      <td>1</td>\n",
       "      <td>0</td>\n",
       "      <td>96270.64</td>\n",
       "      <td>0</td>\n",
       "      <td>0</td>\n",
       "      <td>0</td>\n",
       "      <td>1</td>\n",
       "    </tr>\n",
       "    <tr>\n",
       "      <td>9997</td>\n",
       "      <td>709</td>\n",
       "      <td>36</td>\n",
       "      <td>7.0</td>\n",
       "      <td>0.00</td>\n",
       "      <td>1</td>\n",
       "      <td>0</td>\n",
       "      <td>1</td>\n",
       "      <td>42085.58</td>\n",
       "      <td>1</td>\n",
       "      <td>0</td>\n",
       "      <td>0</td>\n",
       "      <td>0</td>\n",
       "    </tr>\n",
       "    <tr>\n",
       "      <td>9998</td>\n",
       "      <td>772</td>\n",
       "      <td>42</td>\n",
       "      <td>3.0</td>\n",
       "      <td>75075.31</td>\n",
       "      <td>2</td>\n",
       "      <td>1</td>\n",
       "      <td>0</td>\n",
       "      <td>92888.52</td>\n",
       "      <td>1</td>\n",
       "      <td>1</td>\n",
       "      <td>0</td>\n",
       "      <td>1</td>\n",
       "    </tr>\n",
       "    <tr>\n",
       "      <td>9999</td>\n",
       "      <td>792</td>\n",
       "      <td>28</td>\n",
       "      <td>4.0</td>\n",
       "      <td>130142.79</td>\n",
       "      <td>1</td>\n",
       "      <td>1</td>\n",
       "      <td>0</td>\n",
       "      <td>38190.78</td>\n",
       "      <td>0</td>\n",
       "      <td>0</td>\n",
       "      <td>0</td>\n",
       "      <td>0</td>\n",
       "    </tr>\n",
       "  </tbody>\n",
       "</table>\n",
       "<p>8000 rows × 12 columns</p>\n",
       "</div>"
      ],
      "text/plain": [
       "      CreditScore  Age  Tenure    Balance  NumOfProducts  HasCrCard  \\\n",
       "0             619   42     2.0       0.00              1          1   \n",
       "1             608   41     1.0   83807.86              1          0   \n",
       "3             699   39     1.0       0.00              2          0   \n",
       "4             850   43     2.0  125510.82              1          1   \n",
       "5             645   44     8.0  113755.78              2          1   \n",
       "...           ...  ...     ...        ...            ...        ...   \n",
       "9992          726   36     2.0       0.00              1          1   \n",
       "9995          771   39     5.0       0.00              2          1   \n",
       "9997          709   36     7.0       0.00              1          0   \n",
       "9998          772   42     3.0   75075.31              2          1   \n",
       "9999          792   28     4.0  130142.79              1          1   \n",
       "\n",
       "      IsActiveMember  EstimatedSalary  Exited  Geography_Germany  \\\n",
       "0                  1        101348.88       1                  0   \n",
       "1                  1        112542.58       0                  0   \n",
       "3                  0         93826.63       0                  0   \n",
       "4                  1         79084.10       0                  0   \n",
       "5                  0        149756.71       1                  0   \n",
       "...              ...              ...     ...                ...   \n",
       "9992               0        195192.40       0                  0   \n",
       "9995               0         96270.64       0                  0   \n",
       "9997               1         42085.58       1                  0   \n",
       "9998               0         92888.52       1                  1   \n",
       "9999               0         38190.78       0                  0   \n",
       "\n",
       "      Geography_Spain  Gender_Male  \n",
       "0                   0            0  \n",
       "1                   1            0  \n",
       "3                   0            0  \n",
       "4                   1            0  \n",
       "5                   1            1  \n",
       "...               ...          ...  \n",
       "9992                1            1  \n",
       "9995                0            1  \n",
       "9997                0            0  \n",
       "9998                0            1  \n",
       "9999                0            0  \n",
       "\n",
       "[8000 rows x 12 columns]"
      ]
     },
     "execution_count": 24,
     "metadata": {},
     "output_type": "execute_result"
    }
   ],
   "source": [
    "data_wo_test_ohe = data_ohe.drop(index=test_ohe.index)\n",
    "data_wo_test_ohe"
   ]
  },
  {
   "cell_type": "markdown",
   "metadata": {},
   "source": [
    "Выделим целевой признак `target` и остальные признаки `features`. Разобъем кодированные данные на обучающую и валидационную выборки"
   ]
  },
  {
   "cell_type": "code",
   "execution_count": 25,
   "metadata": {},
   "outputs": [],
   "source": [
    "\n",
    "\n",
    "target = data_wo_test_ohe['Exited']\n",
    "features = data_wo_test_ohe.drop(['Exited'], axis=1)\n"
   ]
  },
  {
   "cell_type": "code",
   "execution_count": 26,
   "metadata": {
    "scrolled": true
   },
   "outputs": [],
   "source": [
    "features_train, features_valid, target_train, target_valid = train_test_split(\n",
    "    features, target, test_size=0.25, random_state=12345)"
   ]
  },
  {
   "cell_type": "markdown",
   "metadata": {},
   "source": [
    "<div class=\"alert alert-success\">\n",
    "<b>Комментарий ревьюера✔️:</b> Молодец, что сформировал обучающую, валидационную и тестовую выборки. </font>"
   ]
  },
  {
   "cell_type": "markdown",
   "metadata": {},
   "source": [
    "<div class=\"alert alert-warning\">\n",
    "<b>Комментарий ревьюера ⚠️:</b>Поскольку у нас есть 2 класса клиентов, предлагаю также добавить параметр stratify, чтобы получить пропорциональное количество каждого класса в выборках.</font>"
   ]
  },
  {
   "cell_type": "markdown",
   "metadata": {},
   "source": [
    "<div class=\"alert alert-danger\">\n",
    "<b>Комментарий ревьюера ❌:</b> <s>Важно создать dummy переменные до формирования выборок. Во-первых, это позволит избежать формирования переменных для каждой выборки отдельно. А главное, мы страхуем себя от случаев, когда в выборку не попадет одно из значений категориальной переменной и dummy переменная сформируется неверно.</s></div>"
   ]
  },
  {
   "cell_type": "markdown",
   "metadata": {},
   "source": [
    "<div class=\"alert alert-block alert-info\">\n",
    "<b></b> \n",
    "Комментарий студента\n",
    "    \n",
    "✔ Исправлено. Создание dummy переменных сейчас происходит до формирования выборок.\n",
    "</div>"
   ]
  },
  {
   "cell_type": "markdown",
   "metadata": {},
   "source": [
    "<div class=\"alert alert-success\">\n",
    "<b>Комментарий ревьюера v2✔️:</b> Исправлено </font>"
   ]
  },
  {
   "cell_type": "code",
   "execution_count": 27,
   "metadata": {},
   "outputs": [
    {
     "data": {
      "text/plain": [
       "6000"
      ]
     },
     "execution_count": 27,
     "metadata": {},
     "output_type": "execute_result"
    }
   ],
   "source": [
    "features_train.shape[0]"
   ]
  },
  {
   "cell_type": "code",
   "execution_count": 28,
   "metadata": {
    "scrolled": true
   },
   "outputs": [
    {
     "data": {
      "text/plain": [
       "2000"
      ]
     },
     "execution_count": 28,
     "metadata": {},
     "output_type": "execute_result"
    }
   ],
   "source": [
    "features_valid.shape[0]"
   ]
  },
  {
   "cell_type": "markdown",
   "metadata": {},
   "source": [
    "Выделяем целевой признак `target_test` признаки `features_test` из тестовой выборки"
   ]
  },
  {
   "cell_type": "code",
   "execution_count": 29,
   "metadata": {
    "scrolled": false
   },
   "outputs": [],
   "source": [
    "\n",
    "target_test = test_ohe['Exited']\n",
    "features_test = test_ohe.drop(['Exited'], axis=1)"
   ]
  },
  {
   "cell_type": "code",
   "execution_count": 30,
   "metadata": {},
   "outputs": [
    {
     "data": {
      "text/plain": [
       "2000"
      ]
     },
     "execution_count": 30,
     "metadata": {},
     "output_type": "execute_result"
    }
   ],
   "source": [
    "features_test.shape[0]"
   ]
  },
  {
   "cell_type": "code",
   "execution_count": 31,
   "metadata": {
    "scrolled": true
   },
   "outputs": [
    {
     "name": "stderr",
     "output_type": "stream",
     "text": [
      "/opt/conda/lib/python3.7/site-packages/ipykernel_launcher.py:5: SettingWithCopyWarning: \n",
      "A value is trying to be set on a copy of a slice from a DataFrame.\n",
      "Try using .loc[row_indexer,col_indexer] = value instead\n",
      "\n",
      "See the caveats in the documentation: http://pandas.pydata.org/pandas-docs/stable/user_guide/indexing.html#returning-a-view-versus-a-copy\n",
      "  \"\"\"\n",
      "/opt/conda/lib/python3.7/site-packages/pandas/core/indexing.py:494: SettingWithCopyWarning: \n",
      "A value is trying to be set on a copy of a slice from a DataFrame.\n",
      "Try using .loc[row_indexer,col_indexer] = value instead\n",
      "\n",
      "See the caveats in the documentation: http://pandas.pydata.org/pandas-docs/stable/user_guide/indexing.html#returning-a-view-versus-a-copy\n",
      "  self.obj[item] = s\n",
      "/opt/conda/lib/python3.7/site-packages/ipykernel_launcher.py:6: SettingWithCopyWarning: \n",
      "A value is trying to be set on a copy of a slice from a DataFrame.\n",
      "Try using .loc[row_indexer,col_indexer] = value instead\n",
      "\n",
      "See the caveats in the documentation: http://pandas.pydata.org/pandas-docs/stable/user_guide/indexing.html#returning-a-view-versus-a-copy\n",
      "  \n",
      "/opt/conda/lib/python3.7/site-packages/pandas/core/indexing.py:494: SettingWithCopyWarning: \n",
      "A value is trying to be set on a copy of a slice from a DataFrame.\n",
      "Try using .loc[row_indexer,col_indexer] = value instead\n",
      "\n",
      "See the caveats in the documentation: http://pandas.pydata.org/pandas-docs/stable/user_guide/indexing.html#returning-a-view-versus-a-copy\n",
      "  self.obj[item] = s\n"
     ]
    }
   ],
   "source": [
    "\n",
    "\n",
    "\n",
    "numeric = ['CreditScore', 'Age', 'Tenure','Balance','NumOfProducts','EstimatedSalary' ]\n",
    "\n",
    "scaler = StandardScaler()\n",
    "scaler.fit(features_train[numeric])\n",
    "features_train[numeric] = scaler.transform(features_train[numeric])\n",
    "features_valid[numeric] = scaler.transform(features_valid[numeric])\n",
    "features_test[numeric] = scaler.transform(features_test[numeric])\n",
    "\n",
    "\n"
   ]
  },
  {
   "cell_type": "markdown",
   "metadata": {},
   "source": [
    "<div class=\"alert alert-success\">\n",
    "<b>Комментарий ревьюера✔️:</b>  Молодец, что закодировал категориальные переменные и заполнил пропущенные значения.  </font>"
   ]
  },
  {
   "cell_type": "markdown",
   "metadata": {},
   "source": [
    "<div class=\"alert alert-danger\">\n",
    "<b>Комментарий ревьюера ❌:</b> <s>Важно провести масштабирование численных переменных. Иначе некоторые переменные будут значительно больше в значениях, чем другие, что исказит результаты моделей </s></div>"
   ]
  },
  {
   "cell_type": "markdown",
   "metadata": {},
   "source": [
    "<div class=\"alert alert-danger\">\n",
    "<b>Комментарий ревьюера ❌:</b><s>Удали, пожалуйста, лишние строки кода и заметки с кодом, которые не относятся к данной главе или не используются вовсе.</s> </div>"
   ]
  },
  {
   "cell_type": "markdown",
   "metadata": {},
   "source": [
    "<div class=\"alert alert-block alert-info\">\n",
    "<b></b> \n",
    "Комментарий студента\n",
    "    \n",
    "✔ Исправлено. Выполнено масштабирование численных признаков. Удалены лишние комментарии.\n",
    "</div>"
   ]
  },
  {
   "cell_type": "markdown",
   "metadata": {},
   "source": [
    "<div class=\"alert alert-danger\">\n",
    "<b>Комментарий ревьюера v2 ❌:</b><s>Ты правильно сделал, что масштабировал обучающую выборку и потом масштабировал тестовую на основе данных обучающей выборки scaler. Необходимости в scaler1 нет, следующий код можно удалить:\n",
    "<code>\n",
    "scaler1 = StandardScaler()\n",
    "scaler1.fit(features_test[numeric])</code>. </s>"
   ]
  },
  {
   "cell_type": "markdown",
   "metadata": {},
   "source": [
    "<div class=\"alert alert-warning\">\n",
    "<b>Комментарий ревьюера v2 ⚠️:</b> Переменные <code>'HasCrCard'</code> и <code>'IsActiveMember'</code> масштабировать не нужно. Они бинарные."
   ]
  },
  {
   "cell_type": "markdown",
   "metadata": {},
   "source": [
    "<div class=\"alert alert-danger\">\n",
    "<b>Комментарий ревьюера v2 ❌:</b> <s>Продублировалась строчка кода, данные дважды масштабируются и дают неверный результат для тестирования в конце проекта:\n",
    "\n",
    "<code>features_test[numeric] = scaler.transform(features_test[numeric])</code></s>"
   ]
  },
  {
   "cell_type": "markdown",
   "metadata": {},
   "source": [
    "<div class=\"alert alert-block alert-info\">\n",
    "<b></b> \n",
    "Комментарий студента\n",
    "    \n",
    "✔ Исправлено. \n",
    " При масштабировании удален код\n",
    "    \n",
    "    \n",
    "`scaler1 = StandardScaler()\n",
    "scaler1.fit(features_test[numeric])`\n",
    "    \n",
    "Переменные `HasCrCard` и `IsActiveMember` не подвергаются теперь процедуре масштабирования\n",
    "    \n",
    "    \n",
    "Удалена продублированная строка кода `features_test[numeric] = scaler.transform(features_test[numeric])`\n",
    "</div>"
   ]
  },
  {
   "cell_type": "markdown",
   "metadata": {},
   "source": [
    "## Исследование задачи"
   ]
  },
  {
   "cell_type": "markdown",
   "metadata": {},
   "source": [
    "Исследуем во сколько раз в обучающей выборке 'нулевых'значений больше или меньше чем 'единичных'"
   ]
  },
  {
   "cell_type": "code",
   "execution_count": 32,
   "metadata": {
    "scrolled": true
   },
   "outputs": [
    {
     "data": {
      "text/plain": [
       "0    4792\n",
       "1    1208\n",
       "Name: Exited, dtype: int64"
      ]
     },
     "execution_count": 32,
     "metadata": {},
     "output_type": "execute_result"
    }
   ],
   "source": [
    "target_train.value_counts()"
   ]
  },
  {
   "cell_type": "code",
   "execution_count": 33,
   "metadata": {
    "scrolled": true
   },
   "outputs": [
    {
     "data": {
      "text/plain": [
       "3.966887417218543"
      ]
     },
     "execution_count": 33,
     "metadata": {},
     "output_type": "execute_result"
    }
   ],
   "source": [
    "target_train.value_counts()[0]/target_train.value_counts()[1]"
   ]
  },
  {
   "cell_type": "markdown",
   "metadata": {},
   "source": [
    "'Нулевых' значений оказалось почти в четыре раза больше, чем 'единичных'. На лицо дисбаланс, который будет учитываться в дальнейшем"
   ]
  },
  {
   "cell_type": "markdown",
   "metadata": {},
   "source": [
    "<div class=\"alert alert-success\">\n",
    "<b>Комментарий ревьюера✔️:</b>   Отлично, дисбаланс выявлен..  </font>"
   ]
  },
  {
   "cell_type": "markdown",
   "metadata": {},
   "source": [
    "<div class=\"alert alert-danger\">\n",
    "<b>Комментарий ревьюера ❌:</b><s>Удали, пожалуйста, лишни строки кода и заметки с кодом, которые ты не используешь. Оставлять их в комментариях тоже не надо.</s> </div>"
   ]
  },
  {
   "cell_type": "markdown",
   "metadata": {},
   "source": [
    "<div class=\"alert alert-block alert-info\">\n",
    "<b></b> \n",
    "Комментарий студента\n",
    "    \n",
    "✔ Исправлено. Удалены лишние комментарии.\n",
    "</div>"
   ]
  },
  {
   "cell_type": "markdown",
   "metadata": {},
   "source": [
    "<div class=\"alert alert-success\">\n",
    "<b>Комментарий ревьюера v2✔️:</b> Исправлено </font>"
   ]
  },
  {
   "cell_type": "markdown",
   "metadata": {},
   "source": [
    "Применим модель логистической регрессии и рассчитаем для нее значения f1 и auc-roc"
   ]
  },
  {
   "cell_type": "code",
   "execution_count": 34,
   "metadata": {
    "scrolled": true
   },
   "outputs": [
    {
     "name": "stdout",
     "output_type": "stream",
     "text": [
      "f1- 0.3148479427549195      auc_roc =  0.78153195225375\n"
     ]
    }
   ],
   "source": [
    "model = LogisticRegression(random_state=12345, solver='liblinear')# инициализируйте модель логистической регрессии с параметром random_state=12345\n",
    "model.fit(features_train, target_train) # обучите модель на тренировочной выборке\n",
    "predicted_valid = model.predict(features_valid)\n",
    "result = f1_score(target_valid, predicted_valid) # получите метрику качества модели на валидационной выборке\n",
    "\n",
    "probabilities_valid = model.predict_proba(features_valid)\n",
    "probabilities_one_valid = probabilities_valid[:, 1]\n",
    "auc_roc = roc_auc_score(target_valid, probabilities_one_valid)\n",
    "print('f1-', result,  '     auc_roc = ', auc_roc)"
   ]
  },
  {
   "cell_type": "markdown",
   "metadata": {},
   "source": [
    "Применим модель обучающего дерева и рассчитаем для нее значения `f1` и `auc-roc` для различных значений глобальных параметров `max_depth`"
   ]
  },
  {
   "cell_type": "code",
   "execution_count": 35,
   "metadata": {
    "scrolled": false
   },
   "outputs": [
    {
     "name": "stderr",
     "output_type": "stream",
     "text": [
      "/opt/conda/lib/python3.7/site-packages/sklearn/metrics/classification.py:1437: UndefinedMetricWarning: F-score is ill-defined and being set to 0.0 due to no predicted samples.\n",
      "  'precision', 'predicted', average, warn_for)\n"
     ]
    },
    {
     "name": "stdout",
     "output_type": "stream",
     "text": [
      "f1-мера =  0.0    max_depth =  1    auc_roc =  0.6865002272741424\n",
      "f1-мера =  0.5153733528550513    max_depth =  2    auc_roc =  0.7319278139963512\n",
      "f1-мера =  0.40986717267552186    max_depth =  3    auc_roc =  0.7880691971930087\n",
      "f1-мера =  0.44237918215613387    max_depth =  4    auc_roc =  0.8049871107541143\n",
      "f1-мера =  0.5769805680119582    max_depth =  5    auc_roc =  0.8268233301577219\n",
      "f1-мера =  0.521311475409836    max_depth =  6    auc_roc =  0.8206433414902957\n",
      "f1-мера =  0.539291217257319    max_depth =  7    auc_roc =  0.8257826947863934\n",
      "f1-мера =  0.5510835913312693    max_depth =  8    auc_roc =  0.8040881325537519\n",
      "f1-мера =  0.5457271364317842    max_depth =  9    auc_roc =  0.7862650141034502\n",
      "f1-мера =  0.547085201793722    max_depth =  10    auc_roc =  0.7828239901867385\n",
      "f1-мера =  0.5306704707560628    max_depth =  11    auc_roc =  0.7467099732875049\n",
      "f1-мера =  0.5225988700564972    max_depth =  12    auc_roc =  0.749224777240207\n",
      "f1-мера =  0.49523809523809526    max_depth =  13    auc_roc =  0.7147865179733373\n",
      "f1-мера =  0.5053763440860215    max_depth =  14    auc_roc =  0.7097592450762459\n"
     ]
    }
   ],
   "source": [
    "for depth in range(1,15):\n",
    "    model = DecisionTreeClassifier(random_state=12345, max_depth=depth )\n",
    "    model.fit(features_train, target_train)\n",
    "    predicted_valid = model.predict(features_valid)\n",
    "    f1 = f1_score(target_valid, predicted_valid)\n",
    "\n",
    "    \n",
    "    probabilities_valid = model.predict_proba(features_valid)\n",
    "    probabilities_one_valid = probabilities_valid[:, 1]\n",
    "    auc_roc = roc_auc_score(target_valid, probabilities_one_valid)\n",
    "    print('f1-мера = ', f1,'   max_depth = ', depth,   '   auc_roc = ', auc_roc)"
   ]
  },
  {
   "cell_type": "markdown",
   "metadata": {},
   "source": [
    "Максимальное значение f1=0.57 получилось при значении  max_depth=5"
   ]
  },
  {
   "cell_type": "markdown",
   "metadata": {},
   "source": [
    "<div class=\"alert alert-success\">\n",
    "<b>Комментарий ревьюера ✔️:</b> Код по обучению модели написан правильно.</font>"
   ]
  },
  {
   "cell_type": "markdown",
   "metadata": {},
   "source": [
    "<div class=\"alert alert-danger\">\n",
    "<b>Комментарий ревьюера ❌:</b><s>Скорее всего, линейная регрессия и дерево решений не могут предсказать ни одного уходящего клиента из-за того, что данные содержат неинформативные столбцы и немасштабированы. Проблема должна уйти, когда комментарии в предобработке будут исправлены.</s> </div>"
   ]
  },
  {
   "cell_type": "markdown",
   "metadata": {},
   "source": [
    "<div class=\"alert alert-block alert-info\">\n",
    "<b></b> \n",
    "Комментарий студента\n",
    "    \n",
    "✔ Исправлено. \n",
    "</div>"
   ]
  },
  {
   "cell_type": "markdown",
   "metadata": {},
   "source": [
    "<div class=\"alert alert-success\">\n",
    "<b>Комментарий ревьюера v2✔️:</b> Исправлено. Проблема не ушла, видимо глубина 1 слишком маленькая, чтобы дерево решений могло предсказать уходящих клиентов.</font>"
   ]
  },
  {
   "cell_type": "markdown",
   "metadata": {},
   "source": [
    "Применим модель случайного леса и рассчитаем для нее значения `f1` и `auc-roc` для различных значений глобальных параметров `n_estimators`"
   ]
  },
  {
   "cell_type": "code",
   "execution_count": 36,
   "metadata": {
    "scrolled": true
   },
   "outputs": [
    {
     "name": "stdout",
     "output_type": "stream",
     "text": [
      "f1- 0.45556946182728414    est= 1     auc_roc =  0.6590965697171216\n",
      "f1- 0.38408304498269896    est= 2     auc_roc =  0.7155212672557114\n",
      "f1- 0.4985994397759103    est= 3     auc_roc =  0.7384012353750646\n",
      "f1- 0.481178396072013    est= 4     auc_roc =  0.7635897483795042\n",
      "f1- 0.5395894428152493    est= 5     auc_roc =  0.76596289516124\n",
      "f1- 0.511326860841424    est= 6     auc_roc =  0.7713824494548533\n",
      "f1- 0.5654761904761906    est= 7     auc_roc =  0.7779321477717794\n",
      "f1- 0.534181240063593    est= 8     auc_roc =  0.7825593559113071\n",
      "f1- 0.5645645645645645    est= 9     auc_roc =  0.789906070398944\n",
      "f1- 0.5468998410174881    est= 10     auc_roc =  0.7927641205736025\n",
      "f1- 0.5640243902439025    est= 11     auc_roc =  0.7936708821350071\n",
      "f1- 0.554675118858954    est= 12     auc_roc =  0.7961459909463945\n",
      "f1- 0.5718654434250764    est= 13     auc_roc =  0.7972325481478715\n",
      "f1- 0.5525902668759811    est= 14     auc_roc =  0.7994663727669538\n",
      "\n",
      "F-1 мера наилучшей модели на валидационной выборке: 0.5718654434250764\n"
     ]
    }
   ],
   "source": [
    "best_model = None\n",
    "best_result = 0\n",
    "for est in range(1, 15):\n",
    "    model = RandomForestClassifier(random_state=12345, n_estimators=est) # обучите модель с заданным количеством деревьев\n",
    "    model.fit(features_train, target_train) # обучите модель на тренировочной выборке\n",
    "    predicted_valid = model.predict(features_valid)\n",
    "    result = f1_score(target_valid, predicted_valid) # посчитайте качество модели на валидационной выборке\n",
    "    \n",
    "    probabilities_valid = model.predict_proba(features_valid)\n",
    "    probabilities_one_valid = probabilities_valid[:, 1]\n",
    "    auc_roc = roc_auc_score(target_valid, probabilities_one_valid)\n",
    "\n",
    "    print('f1-', result, '   est=', est, '    auc_roc = ', auc_roc)\n",
    "    if result > best_result:\n",
    "        best_model = model# сохраните наилучшую модель\n",
    "        best_result = result#  сохраните наилучшее значение метрики accuracy на валидационных данных\n",
    "print()\n",
    "print(\"F-1 мера наилучшей модели на валидационной выборке:\", best_result)"
   ]
  },
  {
   "cell_type": "markdown",
   "metadata": {},
   "source": [
    "Наилучший результат f1=0.57 показала модель случайного леса с глобальным параметром est=13"
   ]
  },
  {
   "cell_type": "markdown",
   "metadata": {},
   "source": [
    "<div class=\"alert alert-success\">\n",
    "<b>Комментарий ревьюера ✔️:</b> Молодец, что попробовал три модели и для каждой настроил оптимательный параметр. </font>"
   ]
  },
  {
   "cell_type": "markdown",
   "metadata": {},
   "source": [
    "## Борьба с дисбалансом"
   ]
  },
  {
   "cell_type": "markdown",
   "metadata": {},
   "source": [
    "Теперь рассмотрим какие результаты по f1 и  auc-roc покажут те же модели, но с учетом дисбаласа (параметр class_weight установим значение 'balanced')"
   ]
  },
  {
   "cell_type": "code",
   "execution_count": 37,
   "metadata": {},
   "outputs": [
    {
     "name": "stdout",
     "output_type": "stream",
     "text": [
      "f1- 0.5126859142607174      auc_roc =  0.7822884949470419\n"
     ]
    }
   ],
   "source": [
    "model = LogisticRegression(random_state=12345, solver='liblinear', class_weight='balanced')# инициализируйте модель логистической регрессии с параметром random_state=12345\n",
    "model.fit(features_train, target_train) # обучите модель на тренировочной выборке\n",
    "predicted_valid = model.predict(features_valid)\n",
    "result = f1_score(target_valid, predicted_valid) # получите метрику качества модели на валидационной выборке\n",
    "\n",
    "probabilities_valid = model.predict_proba(features_valid)\n",
    "probabilities_one_valid = probabilities_valid[:, 1]\n",
    "auc_roc = roc_auc_score(target_valid, probabilities_one_valid)\n",
    "print('f1-', result,  '     auc_roc = ', auc_roc)"
   ]
  },
  {
   "cell_type": "code",
   "execution_count": 38,
   "metadata": {
    "scrolled": false
   },
   "outputs": [
    {
     "name": "stdout",
     "output_type": "stream",
     "text": [
      "f1-мера =  0.4804020100502513    max_depth =  1    auc_roc =  0.6865002272741424\n",
      "f1-мера =  0.4995083579154376    max_depth =  2    auc_roc =  0.7319278139963512\n",
      "f1-мера =  0.5217391304347827    max_depth =  3    auc_roc =  0.7905762177846687\n",
      "f1-мера =  0.5178727114210986    max_depth =  4    auc_roc =  0.8097069408900429\n",
      "f1-мера =  0.5441039925719592    max_depth =  5    auc_roc =  0.8282624736144061\n",
      "f1-мера =  0.5533453887884268    max_depth =  6    auc_roc =  0.8277674518521286\n",
      "f1-мера =  0.552434456928839    max_depth =  7    auc_roc =  0.8173447530806542\n",
      "f1-мера =  0.5352380952380952    max_depth =  8    auc_roc =  0.7874792184260178\n",
      "f1-мера =  0.518095238095238    max_depth =  9    auc_roc =  0.7679998007459574\n",
      "f1-мера =  0.5254413291796468    max_depth =  10    auc_roc =  0.7509215499473845\n",
      "f1-мера =  0.5220193340494093    max_depth =  11    auc_roc =  0.7327762003499398\n",
      "f1-мера =  0.4962243797195254    max_depth =  12    auc_roc =  0.7070327337031987\n",
      "f1-мера =  0.48135593220338985    max_depth =  13    auc_roc =  0.6933456933106683\n",
      "f1-мера =  0.4798206278026906    max_depth =  14    auc_roc =  0.6936904962048331\n"
     ]
    }
   ],
   "source": [
    "for depth in range(1,15):\n",
    "    model = DecisionTreeClassifier(random_state=12345, max_depth=depth, class_weight='balanced')\n",
    "    model.fit(features_train, target_train)\n",
    "    predicted_valid = model.predict(features_valid)\n",
    "    f1 = f1_score(target_valid, predicted_valid)\n",
    "  #  print('f1-мера = ', f1,'   max_depth = ', depth )\n",
    "    \n",
    "    probabilities_valid = model.predict_proba(features_valid)\n",
    "    probabilities_one_valid = probabilities_valid[:, 1]\n",
    "    auc_roc = roc_auc_score(target_valid, probabilities_one_valid)\n",
    "    print('f1-мера = ', f1,'   max_depth = ', depth,   '   auc_roc = ', auc_roc)"
   ]
  },
  {
   "cell_type": "markdown",
   "metadata": {},
   "source": [
    "Наилучшее значение f1=0.55 получилось при параметре max_depth = 6"
   ]
  },
  {
   "cell_type": "code",
   "execution_count": 39,
   "metadata": {
    "scrolled": true
   },
   "outputs": [
    {
     "name": "stdout",
     "output_type": "stream",
     "text": [
      "f1- 0.4782067247820672    est= 1     auc_roc =  0.6734117273457494\n",
      "f1- 0.4190800681431005    est= 2     auc_roc =  0.7205929053107429\n",
      "f1- 0.5142045454545455    est= 3     auc_roc =  0.7423014775932602\n",
      "f1- 0.4617940199335548    est= 4     auc_roc =  0.7619396758385794\n",
      "f1- 0.5304347826086956    est= 5     auc_roc =  0.7712135505202398\n",
      "f1- 0.49265905383360514    est= 6     auc_roc =  0.7779313694356752\n",
      "f1- 0.5250379362670713    est= 7     auc_roc =  0.7919437543197654\n",
      "f1- 0.5016393442622952    est= 8     auc_roc =  0.7930863517207454\n",
      "f1- 0.5407066052227342    est= 9     auc_roc =  0.8017375575190381\n",
      "f1- 0.5283630470016207    est= 10     auc_roc =  0.8075750783006121\n",
      "f1- 0.5479876160990712    est= 11     auc_roc =  0.8125494243426172\n",
      "f1- 0.5498392282958199    est= 12     auc_roc =  0.8121096644437388\n",
      "f1- 0.5643410852713179    est= 13     auc_roc =  0.8123011351253744\n",
      "f1- 0.5559105431309904    est= 14     auc_roc =  0.8116769095697981\n",
      "\n",
      "F-1 мера наилучшей модели на валидационной выборке: 0.5643410852713179\n"
     ]
    }
   ],
   "source": [
    "best_model = None\n",
    "best_result = 0\n",
    "for est in range(1, 15):\n",
    "    model = RandomForestClassifier(random_state=12345, n_estimators=est, class_weight='balanced') # обучите модель с заданным количеством деревьев\n",
    "    model.fit(features_train, target_train) # обучите модель на тренировочной выборке\n",
    "    predicted_valid = model.predict(features_valid)\n",
    "    result = f1_score(target_valid, predicted_valid) # посчитайте качество модели на валидационной выборке\n",
    "    \n",
    "    probabilities_valid = model.predict_proba(features_valid)\n",
    "    probabilities_one_valid = probabilities_valid[:, 1]\n",
    "    auc_roc = roc_auc_score(target_valid, probabilities_one_valid)\n",
    "\n",
    "    print('f1-', result, '   est=', est, '    auc_roc = ', auc_roc)\n",
    "    if result > best_result:\n",
    "        best_model = model# сохраните наилучшую модель\n",
    "        best_result = result#  сохраните наилучшее значение метрики accuracy на валидационных данных\n",
    "print()\n",
    "print(\"F-1 мера наилучшей модели на валидационной выборке:\", best_result)"
   ]
  },
  {
   "cell_type": "markdown",
   "metadata": {},
   "source": [
    "Из всех моделей наибольшее значение f1=0.56 получилось при значении  est=13 и параметре class_weight принимающем значение 'balanced'"
   ]
  },
  {
   "cell_type": "markdown",
   "metadata": {},
   "source": [
    "<div class=\"alert alert-success\">\n",
    "<b>Комментарий ревьюера ✔️:</b> Ты отлично справился дисбалансом, в некоторых случаях модель улучшилась, а в некоторых нет. </font>"
   ]
  },
  {
   "cell_type": "markdown",
   "metadata": {},
   "source": [
    "<div class=\"alert alert-danger\">\n",
    "<b>Комментарий ревьюера ❌:</b><s>Поскольку целевая метрика не была достигнута, давай попробуем другие способы борьбы с дисбалансом. Например, upsampling и downsampling.</s> </div>"
   ]
  },
  {
   "cell_type": "markdown",
   "metadata": {},
   "source": [
    "<div class=\"alert alert-block alert-info\">\n",
    "<b></b> \n",
    "Комментарий студента\n",
    "    \n",
    "✔ Исправлено. \n",
    "</div>"
   ]
  },
  {
   "cell_type": "markdown",
   "metadata": {},
   "source": [
    "<div class=\"alert alert-success\">\n",
    "<b>Комментарий ревьюера v2✔️:</b> Исправлено </font>"
   ]
  },
  {
   "cell_type": "code",
   "execution_count": 40,
   "metadata": {},
   "outputs": [],
   "source": [
    "def upsample(features, target, repeat):\n",
    "    features_zeros = features[target == 0]\n",
    "    features_ones = features[target == 1]\n",
    "    target_zeros = target[target == 0]\n",
    "    target_ones = target[target == 1]\n",
    "\n",
    "    features_upsampled = pd.concat([features_zeros] + [features_ones] * repeat)\n",
    "    target_upsampled = pd.concat([target_zeros] + [target_ones] * repeat)\n",
    "    \n",
    "    features_upsampled, target_upsampled = shuffle(\n",
    "        features_upsampled, target_upsampled, random_state=12345)\n",
    "    \n",
    "    return features_upsampled, target_upsampled"
   ]
  },
  {
   "cell_type": "markdown",
   "metadata": {},
   "source": [
    "Выше написана функция `upsample`, которая увеличивает количество строк признаков и целевого признака в то количество раз, которое указано в параметре `repeat`. На выходе получаем признаки и целевой признак для обучения модели, в которых количество строк с 'единичным' целевым признаком увеличено в заданное количество раз ( в нашем случае в 4 раза) и далее эти строки перемешиваются случайным образом."
   ]
  },
  {
   "cell_type": "code",
   "execution_count": 41,
   "metadata": {},
   "outputs": [],
   "source": [
    "features_upsampled, target_upsampled = upsample(features_train, target_train, 4)"
   ]
  },
  {
   "cell_type": "markdown",
   "metadata": {},
   "source": [
    "Получаем выборки `features_upsampled` и `target_upsampled`, в которых количество строк с целевым признаком равным единице увеличено в 4 раза. Далее эти выборки используются для обучения моделей."
   ]
  },
  {
   "cell_type": "code",
   "execution_count": 42,
   "metadata": {
    "scrolled": true
   },
   "outputs": [
    {
     "name": "stdout",
     "output_type": "stream",
     "text": [
      "f1- 0.5126416739319964      auc_roc =  0.7822775982415832\n"
     ]
    }
   ],
   "source": [
    "model = LogisticRegression(random_state=12345, solver='liblinear')# инициализируйте модель логистической регрессии с параметром random_state=12345\n",
    "model.fit(features_upsampled, target_upsampled) # обучите модель на тренировочной выборке\n",
    "predicted_valid = model.predict(features_valid)\n",
    "result = f1_score(target_valid, predicted_valid) # получите метрику качества модели на валидационной выборке\n",
    "\n",
    "probabilities_valid = model.predict_proba(features_valid)\n",
    "probabilities_one_valid = probabilities_valid[:, 1]\n",
    "auc_roc = roc_auc_score(target_valid, probabilities_one_valid)\n",
    "print('f1-', result,  '     auc_roc = ', auc_roc)"
   ]
  },
  {
   "cell_type": "code",
   "execution_count": 43,
   "metadata": {
    "scrolled": false
   },
   "outputs": [
    {
     "name": "stdout",
     "output_type": "stream",
     "text": [
      "f1-мера =  0.4804020100502513    max_depth =  1    auc_roc =  0.6865002272741424\n",
      "f1-мера =  0.4995083579154376    max_depth =  2    auc_roc =  0.7319278139963512\n",
      "f1-мера =  0.5217391304347827    max_depth =  3    auc_roc =  0.7905762177846687\n",
      "f1-мера =  0.5178727114210986    max_depth =  4    auc_roc =  0.8097069408900429\n",
      "f1-мера =  0.5441039925719592    max_depth =  5    auc_roc =  0.8282624736144061\n",
      "f1-мера =  0.5533453887884268    max_depth =  6    auc_roc =  0.827068506030548\n",
      "f1-мера =  0.5519176800748363    max_depth =  7    auc_roc =  0.8166310188730939\n",
      "f1-мера =  0.5362595419847328    max_depth =  8    auc_roc =  0.7884326801536746\n",
      "f1-мера =  0.5176022835394861    max_depth =  9    auc_roc =  0.7671623110978275\n",
      "f1-мера =  0.5202913631633714    max_depth =  10    auc_roc =  0.7444893803821941\n",
      "f1-мера =  0.5198711063372717    max_depth =  11    auc_roc =  0.7287584293800087\n",
      "f1-мера =  0.4924406047516198    max_depth =  12    auc_roc =  0.7052931525102897\n",
      "f1-мера =  0.4885844748858448    max_depth =  13    auc_roc =  0.6940399691156234\n",
      "f1-мера =  0.4888888888888889    max_depth =  14    auc_roc =  0.702594661236994\n"
     ]
    }
   ],
   "source": [
    "for depth in range(1,15):\n",
    "    model = DecisionTreeClassifier(random_state=12345, max_depth=depth)\n",
    "    model.fit(features_upsampled, target_upsampled)\n",
    "    predicted_valid = model.predict(features_valid)\n",
    "    f1 = f1_score(target_valid, predicted_valid)\n",
    "  #  print('f1-мера = ', f1,'   max_depth = ', depth )\n",
    "    \n",
    "    probabilities_valid = model.predict_proba(features_valid)\n",
    "    probabilities_one_valid = probabilities_valid[:, 1]\n",
    "    auc_roc = roc_auc_score(target_valid, probabilities_one_valid)\n",
    "    print('f1-мера = ', f1,'   max_depth = ', depth,   '   auc_roc = ', auc_roc)"
   ]
  },
  {
   "cell_type": "markdown",
   "metadata": {},
   "source": [
    "Максимальное значение f1=0.55 при значение max_depth=6"
   ]
  },
  {
   "cell_type": "code",
   "execution_count": 44,
   "metadata": {
    "scrolled": true
   },
   "outputs": [
    {
     "name": "stdout",
     "output_type": "stream",
     "text": [
      "f1- 0.4874715261958998    est= 1     auc_roc =  0.684191682389056\n",
      "f1- 0.43987341772151894    est= 2     auc_roc =  0.7149538602357424\n",
      "f1- 0.5142150803461062    est= 3     auc_roc =  0.7482806555458004\n",
      "f1- 0.5217391304347827    est= 4     auc_roc =  0.7733173930099192\n",
      "f1- 0.5459249676584735    est= 5     auc_roc =  0.7830170175405824\n",
      "f1- 0.5490753911806544    est= 6     auc_roc =  0.7933704443987821\n",
      "f1- 0.5504587155963302    est= 7     auc_roc =  0.7983416770963706\n",
      "f1- 0.56    est= 8     auc_roc =  0.8040468807402288\n",
      "f1- 0.5652173913043479    est= 9     auc_roc =  0.8056588148120474\n",
      "f1- 0.5566714490674319    est= 10     auc_roc =  0.8102346527686972\n",
      "f1- 0.5818673883626523    est= 11     auc_roc =  0.8150377648677762\n",
      "f1- 0.577524893314367    est= 12     auc_roc =  0.8176078306838772\n",
      "f1- 0.5745554035567715    est= 13     auc_roc =  0.8185472823616586\n",
      "f1- 0.5742857142857143    est= 14     auc_roc =  0.8221042783578977\n",
      "f1- 0.5804676753782669    est= 15     auc_roc =  0.8275448477263245\n",
      "f1- 0.5827439886845828    est= 16     auc_roc =  0.8274856941824047\n",
      "f1- 0.5813630041724618    est= 17     auc_roc =  0.8275004825683846\n",
      "f1- 0.5742857142857143    est= 18     auc_roc =  0.8278857589399685\n",
      "f1- 0.5841446453407511    est= 19     auc_roc =  0.8300892284509865\n",
      "f1- 0.5775862068965517    est= 20     auc_roc =  0.8310395768342269\n",
      "f1- 0.5854341736694678    est= 21     auc_roc =  0.8334438570601311\n",
      "f1- 0.575107296137339    est= 22     auc_roc =  0.8340361708354349\n",
      "f1- 0.5814606741573034    est= 23     auc_roc =  0.8346027995192996\n",
      "f1- 0.5734664764621968    est= 24     auc_roc =  0.833814345045735\n",
      "f1- 0.5750350631136044    est= 25     auc_roc =  0.8350845895678055\n",
      "f1- 0.5689655172413793    est= 26     auc_roc =  0.8349896325630919\n",
      "f1- 0.5758426966292134    est= 27     auc_roc =  0.8355391378526641\n",
      "f1- 0.5738880918220948    est= 28     auc_roc =  0.8334874438819669\n",
      "f1- 0.5770308123249299    est= 29     auc_roc =  0.833094384149341\n",
      "f1- 0.5751445086705202    est= 30     auc_roc =  0.8312582892795098\n",
      "f1- 0.5842696629213483    est= 31     auc_roc =  0.8314699966998549\n",
      "f1- 0.588235294117647    est= 32     auc_roc =  0.8313579163008488\n",
      "f1- 0.5895627644569816    est= 33     auc_roc =  0.8318482680465009\n",
      "f1- 0.5902578796561605    est= 34     auc_roc =  0.832304373003568\n",
      "f1- 0.5830985915492959    est= 35     auc_roc =  0.8325145237517044\n",
      "f1- 0.5820256776034237    est= 36     auc_roc =  0.8310629269173533\n",
      "f1- 0.5870786516853932    est= 37     auc_roc =  0.8326624076115043\n",
      "f1- 0.5841726618705035    est= 38     auc_roc =  0.8327667046494687\n",
      "f1- 0.5823863636363636    est= 39     auc_roc =  0.8331426409878018\n",
      "f1- 0.5858585858585859    est= 40     auc_roc =  0.8329348252479779\n",
      "f1- 0.5774647887323945    est= 41     auc_roc =  0.8333177666112492\n",
      "f1- 0.5759312320916906    est= 42     auc_roc =  0.8329379385923947\n",
      "f1- 0.5774647887323945    est= 43     auc_roc =  0.8334773255126121\n",
      "f1- 0.5828571428571429    est= 44     auc_roc =  0.8343537319659525\n",
      "f1- 0.5814606741573034    est= 45     auc_roc =  0.8347530183874121\n",
      "f1- 0.5783475783475783    est= 46     auc_roc =  0.8345708877390272\n",
      "f1- 0.5857740585774059    est= 47     auc_roc =  0.8340859843461043\n",
      "f1- 0.5914285714285714    est= 48     auc_roc =  0.8344479106345618\n",
      "f1- 0.5918653576437587    est= 49     auc_roc =  0.8348246253089995\n",
      "f1- 0.59375    est= 50     auc_roc =  0.8351219497008077\n",
      "f1- 0.5920679886685554    est= 51     auc_roc =  0.8354558558895137\n",
      "f1- 0.5925925925925927    est= 52     auc_roc =  0.835483097653161\n",
      "f1- 0.5915492957746479    est= 53     auc_roc =  0.8359002858050174\n",
      "f1- 0.5945945945945945    est= 54     auc_roc =  0.836554866468658\n",
      "f1- 0.5879043600562588    est= 55     auc_roc =  0.8363237006457077\n",
      "f1- 0.59375    est= 56     auc_roc =  0.836424884339255\n",
      "f1- 0.5918653576437587    est= 57     auc_roc =  0.8359641093655628\n",
      "f1- 0.5949008498583569    est= 58     auc_roc =  0.8361345649723846\n",
      "f1- 0.5938375350140056    est= 59     auc_roc =  0.8362964588820603\n",
      "f1- 0.5943661971830987    est= 60     auc_roc =  0.8361454616778435\n",
      "f1- 0.5910364145658263    est= 61     auc_roc =  0.8366451534567463\n",
      "f1- 0.5887323943661972    est= 62     auc_roc =  0.836584443240618\n",
      "f1- 0.5933147632311977    est= 63     auc_roc =  0.8368288407773398\n",
      "f1- 0.5926966292134832    est= 64     auc_roc =  0.8366957453035201\n",
      "f1- 0.5930069930069931    est= 65     auc_roc =  0.8364155443060044\n",
      "f1- 0.5895627644569816    est= 66     auc_roc =  0.8360676280674225\n",
      "f1- 0.5898876404494382    est= 67     auc_roc =  0.8359337542574985\n",
      "f1- 0.5920679886685554    est= 68     auc_roc =  0.835957882676729\n",
      "f1- 0.5910364145658263    est= 69     auc_roc =  0.836243532026974\n",
      "f1- 0.5903954802259886    est= 70     auc_roc =  0.8368864376490512\n",
      "f1- 0.5921787709497207    est= 71     auc_roc =  0.837604841873237\n",
      "f1- 0.5955056179775281    est= 72     auc_roc =  0.8381597955155387\n",
      "f1- 0.596100278551532    est= 73     auc_roc =  0.8380632818386167\n",
      "f1- 0.5963431786216596    est= 74     auc_roc =  0.8379519797757149\n",
      "f1- 0.5958041958041959    est= 75     auc_roc =  0.8381317754157871\n",
      "f1- 0.5971830985915494    est= 76     auc_roc =  0.8378897128873778\n",
      "f1- 0.5974754558204768    est= 77     auc_roc =  0.8380516067970536\n",
      "f1- 0.5952045133991538    est= 78     auc_roc =  0.8382485258314186\n",
      "f1- 0.5971830985915494    est= 79     auc_roc =  0.8386423639001488\n",
      "f1- 0.596045197740113    est= 80     auc_roc =  0.8384096414049902\n",
      "f1- 0.5952045133991538    est= 81     auc_roc =  0.8380881885939515\n",
      "f1- 0.5920679886685554    est= 82     auc_roc =  0.837771405799538\n",
      "f1- 0.5946704067321178    est= 83     auc_roc =  0.838190928959707\n",
      "f1- 0.5932203389830508    est= 84     auc_roc =  0.8382602008729817\n",
      "f1- 0.5930069930069931    est= 85     auc_roc =  0.8383434828361322\n",
      "f1- 0.5949008498583569    est= 86     auc_roc =  0.8377846375133096\n",
      "f1- 0.5946704067321178    est= 87     auc_roc =  0.8378258893268328\n",
      "f1- 0.5880681818181819    est= 88     auc_roc =  0.8379356347175263\n",
      "f1- 0.5918653576437587    est= 89     auc_roc =  0.838246190823106\n",
      "f1- 0.5900709219858156    est= 90     auc_roc =  0.8377908642021432\n",
      "f1- 0.5902097902097903    est= 91     auc_roc =  0.8378578011071054\n",
      "f1- 0.5868945868945868    est= 92     auc_roc =  0.8376943505252211\n",
      "f1- 0.5909090909090909    est= 93     auc_roc =  0.8379691031700072\n",
      "f1- 0.5909090909090909    est= 94     auc_roc =  0.8381488988100798\n",
      "f1- 0.5884016973125884    est= 95     auc_roc =  0.8381808105903523\n",
      "f1- 0.5909090909090909    est= 96     auc_roc =  0.8377931992104559\n",
      "f1- 0.5887323943661972    est= 97     auc_roc =  0.8374460613079783\n",
      "f1- 0.5920679886685554    est= 98     auc_roc =  0.8375114415407319\n",
      "f1- 0.5963431786216596    est= 99     auc_roc =  0.837607955217654\n",
      "\n",
      "F-1 мера наилучшей модели на валидационной выборке: 0.5974754558204768\n"
     ]
    }
   ],
   "source": [
    "best_model = None\n",
    "best_result = 0\n",
    "for est in range(1, 100):\n",
    "    model = RandomForestClassifier(random_state=12345, n_estimators=est) # обучите модель с заданным количеством деревьев\n",
    "    model.fit(features_upsampled, target_upsampled) # обучите модель на тренировочной выборке\n",
    "    predicted_valid = model.predict(features_valid)\n",
    "    result = f1_score(target_valid, predicted_valid) # посчитайте качество модели на валидационной выборке\n",
    "    \n",
    "    probabilities_valid = model.predict_proba(features_valid)\n",
    "    probabilities_one_valid = probabilities_valid[:, 1]\n",
    "    auc_roc = roc_auc_score(target_valid, probabilities_one_valid)\n",
    "\n",
    "    print('f1-', result, '   est=', est, '    auc_roc = ', auc_roc)\n",
    "    if result > best_result:\n",
    "        best_model = model# сохраните наилучшую модель\n",
    "        best_result = result#  сохраните наилучшее значение метрики accuracy на валидационных данных\n",
    "print()\n",
    "print(\"F-1 мера наилучшей модели на валидационной выборке:\", best_result)"
   ]
  },
  {
   "cell_type": "markdown",
   "metadata": {},
   "source": [
    "Максимальное значение для данной модели f1=0.5974 при est=77."
   ]
  },
  {
   "cell_type": "markdown",
   "metadata": {},
   "source": [
    "Далее будет использован метод `downsample` для борьбы с дисбалансом и полученные выборки, в которых количество строк с нулевым целевым признаком будет уменьшено в 4 раза, будут в дальнейшем использованы для обучения моделей."
   ]
  },
  {
   "cell_type": "code",
   "execution_count": 45,
   "metadata": {},
   "outputs": [],
   "source": [
    "def downsample(features, target, fraction):\n",
    "    features_zeros = features[target == 0]\n",
    "    features_ones = features[target == 1]\n",
    "    target_zeros = target[target == 0]\n",
    "    target_ones = target[target == 1]\n",
    "\n",
    "    features_downsampled = pd.concat(\n",
    "        [features_zeros.sample(frac=fraction, random_state=12345)] + [features_ones])\n",
    "    target_downsampled = pd.concat(\n",
    "        [target_zeros.sample(frac=fraction, random_state=12345)] + [target_ones])\n",
    "    \n",
    "    features_downsampled, target_downsampled = shuffle(\n",
    "        features_downsampled, target_downsampled, random_state=12345)\n",
    "    \n",
    "    return features_downsampled, target_downsampled\n",
    "\n",
    "features_downsampled, target_downsampled = downsample(features_train, target_train, 0.25)"
   ]
  },
  {
   "cell_type": "code",
   "execution_count": 46,
   "metadata": {},
   "outputs": [
    {
     "name": "stdout",
     "output_type": "stream",
     "text": [
      "f1- 0.5025996533795494      auc_roc =  0.7806384224061171\n"
     ]
    }
   ],
   "source": [
    "model = LogisticRegression(random_state=12345, solver='liblinear')# инициализируйте модель логистической регрессии с параметром random_state=12345\n",
    "model.fit(features_downsampled, target_downsampled) # обучите модель на тренировочной выборке\n",
    "predicted_valid = model.predict(features_valid)\n",
    "result = f1_score(target_valid, predicted_valid) # получите метрику качества модели на валидационной выборке\n",
    "\n",
    "probabilities_valid = model.predict_proba(features_valid)\n",
    "probabilities_one_valid = probabilities_valid[:, 1]\n",
    "auc_roc = roc_auc_score(target_valid, probabilities_one_valid)\n",
    "print('f1-', result,  '     auc_roc = ', auc_roc)"
   ]
  },
  {
   "cell_type": "code",
   "execution_count": 47,
   "metadata": {
    "scrolled": false
   },
   "outputs": [
    {
     "name": "stdout",
     "output_type": "stream",
     "text": [
      "f1-мера =  0.4680497925311203    max_depth =  1    auc_roc =  0.687729998318794\n",
      "f1-мера =  0.48032786885245904    max_depth =  2    auc_roc =  0.7406568534050648\n",
      "f1-мера =  0.48032786885245904    max_depth =  3    auc_roc =  0.7935642500887304\n",
      "f1-мера =  0.5215889464594128    max_depth =  4    auc_roc =  0.8033136881300631\n",
      "f1-мера =  0.537864077669903    max_depth =  5    auc_roc =  0.8268817053655375\n",
      "f1-мера =  0.5548141086749285    max_depth =  6    auc_roc =  0.8241497456397611\n",
      "f1-мера =  0.5203574975173784    max_depth =  7    auc_roc =  0.8017624642743729\n",
      "f1-мера =  0.49954586739327883    max_depth =  8    auc_roc =  0.7794187697308202\n",
      "f1-мера =  0.4968609865470852    max_depth =  9    auc_roc =  0.7519652986631299\n",
      "f1-мера =  0.48943661971830976    max_depth =  10    auc_roc =  0.7367029059956787\n",
      "f1-мера =  0.48947368421052634    max_depth =  11    auc_roc =  0.7250730079265748\n",
      "f1-мера =  0.47602131438721135    max_depth =  12    auc_roc =  0.7096199229135922\n",
      "f1-мера =  0.4640980735551664    max_depth =  13    auc_roc =  0.6859585053456124\n",
      "f1-мера =  0.4738243123336291    max_depth =  14    auc_roc =  0.6934881288177386\n"
     ]
    }
   ],
   "source": [
    "for depth in range(1,15):\n",
    "    model = DecisionTreeClassifier(random_state=12345, max_depth=depth)\n",
    "    model.fit(features_downsampled, target_downsampled)\n",
    "    predicted_valid = model.predict(features_valid)\n",
    "    f1 = f1_score(target_valid, predicted_valid)\n",
    "  #  print('f1-мера = ', f1,'   max_depth = ', depth )\n",
    "    \n",
    "    probabilities_valid = model.predict_proba(features_valid)\n",
    "    probabilities_one_valid = probabilities_valid[:, 1]\n",
    "    auc_roc = roc_auc_score(target_valid, probabilities_one_valid)\n",
    "    print('f1-мера = ', f1,'   max_depth = ', depth,   '   auc_roc = ', auc_roc)"
   ]
  },
  {
   "cell_type": "markdown",
   "metadata": {},
   "source": [
    "Максимальное значени f1=0.55 при max_depth=6"
   ]
  },
  {
   "cell_type": "code",
   "execution_count": 48,
   "metadata": {
    "scrolled": true
   },
   "outputs": [
    {
     "name": "stdout",
     "output_type": "stream",
     "text": [
      "f1- 0.4801352493660186    est= 1     auc_roc =  0.6977269472412656\n",
      "f1- 0.480565371024735    est= 2     auc_roc =  0.7394761175349784\n",
      "f1- 0.5178727114210986    est= 3     auc_roc =  0.7697837470968063\n",
      "f1- 0.5315904139433552    est= 4     auc_roc =  0.7796693939563759\n",
      "f1- 0.51985559566787    est= 5     auc_roc =  0.7917919787794445\n",
      "f1- 0.5405405405405406    est= 6     auc_roc =  0.8011063269385239\n",
      "f1- 0.5473098330241187    est= 7     auc_roc =  0.8124622506989457\n",
      "f1- 0.5717234262125903    est= 8     auc_roc =  0.8181479959401989\n",
      "f1- 0.549718574108818    est= 9     auc_roc =  0.8202035815914172\n",
      "f1- 0.5661157024793388    est= 10     auc_roc =  0.8226576753279908\n",
      "f1- 0.5516587677725118    est= 11     auc_roc =  0.825455015286521\n",
      "f1- 0.557142857142857    est= 12     auc_roc =  0.8255017154527736\n",
      "f1- 0.5487571701720841    est= 13     auc_roc =  0.8244065965541505\n",
      "f1- 0.5568065506653019    est= 14     auc_roc =  0.8271167628690091\n",
      "f1- 0.5527343749999999    est= 15     auc_roc =  0.8269385239011451\n",
      "f1- 0.5621181262729124    est= 16     auc_roc =  0.8281597332486504\n",
      "f1- 0.55984555984556    est= 17     auc_roc =  0.8278460637986538\n",
      "f1- 0.5656565656565656    est= 18     auc_roc =  0.8285348912508796\n",
      "f1- 0.563953488372093    est= 19     auc_roc =  0.8286493066581984\n",
      "f1- 0.5731584258324924    est= 20     auc_roc =  0.8291326533789126\n",
      "f1- 0.5672797676669894    est= 21     auc_roc =  0.8311267504778983\n",
      "f1- 0.5751503006012024    est= 22     auc_roc =  0.8317478626890579\n",
      "f1- 0.5684007707129094    est= 23     auc_roc =  0.8315431602936506\n",
      "f1- 0.571715145436309    est= 24     auc_roc =  0.8319611267816114\n",
      "f1- 0.5681159420289855    est= 25     auc_roc =  0.8317696560999757\n",
      "f1- 0.572    est= 26     auc_roc =  0.8310450251869562\n",
      "f1- 0.570873786407767    est= 27     auc_roc =  0.8324639319049308\n",
      "f1- 0.5745967741935485    est= 28     auc_roc =  0.8335613858118669\n",
      "f1- 0.5639024390243902    est= 29     auc_roc =  0.8334975622513217\n",
      "f1- 0.5702811244979921    est= 30     auc_roc =  0.8337458514685645\n",
      "f1- 0.5686465433300876    est= 31     auc_roc =  0.833736511435314\n",
      "f1- 0.568273092369478    est= 32     auc_roc =  0.8336010809531815\n",
      "f1- 0.571992110453649    est= 33     auc_roc =  0.8337411814519392\n",
      "f1- 0.5705645161290323    est= 34     auc_roc =  0.8340486242131023\n",
      "f1- 0.5697445972495089    est= 35     auc_roc =  0.8341443595539201\n",
      "f1- 0.5702647657841141    est= 36     auc_roc =  0.8333465650471049\n",
      "f1- 0.5666337611056269    est= 37     auc_roc =  0.8341521429149621\n",
      "f1- 0.5720081135902637    est= 38     auc_roc =  0.8346315979551554\n",
      "f1- 0.5722713864306784    est= 39     auc_roc =  0.8352270250748759\n",
      "f1- 0.5740365111561865    est= 40     auc_roc =  0.8353289871045274\n",
      "f1- 0.5725567620927937    est= 41     auc_roc =  0.8350472294348034\n",
      "f1- 0.5760980592441267    est= 42     auc_roc =  0.8351359597506833\n",
      "f1- 0.5705765407554672    est= 43     auc_roc =  0.8354083773871568\n",
      "f1- 0.5760980592441267    est= 44     auc_roc =  0.8360162578845448\n",
      "f1- 0.5734265734265733    est= 45     auc_roc =  0.8375791567817981\n",
      "f1- 0.5725971370143149    est= 46     auc_roc =  0.8381294404074744\n",
      "f1- 0.573134328358209    est= 47     auc_roc =  0.8381068686604525\n",
      "f1- 0.5731707317073171    est= 48     auc_roc =  0.8380671735191377\n",
      "f1- 0.572    est= 49     auc_roc =  0.8378056525881232\n",
      "f1- 0.5717192268565615    est= 50     auc_roc =  0.8377978692270811\n",
      "f1- 0.572283150548355    est= 51     auc_roc =  0.8379146196427126\n",
      "f1- 0.5743380855397149    est= 52     auc_roc =  0.8374982098269603\n",
      "f1- 0.5717131474103586    est= 53     auc_roc =  0.8370926967166671\n",
      "f1- 0.5728848114169214    est= 54     auc_roc =  0.8375106632046275\n",
      "f1- 0.5705765407554672    est= 55     auc_roc =  0.8376063985454455\n",
      "f1- 0.5751765893037335    est= 56     auc_roc =  0.8378033175798106\n",
      "f1- 0.5666337611056269    est= 57     auc_roc =  0.8381699138848934\n",
      "f1- 0.572289156626506    est= 58     auc_roc =  0.8384789133182647\n",
      "f1- 0.5652600588812561    est= 59     auc_roc =  0.8381473421378713\n",
      "f1- 0.5737211634904714    est= 60     auc_roc =  0.8381021986438272\n",
      "f1- 0.5717092337917485    est= 61     auc_roc =  0.8386034470949383\n",
      "f1- 0.5751503006012024    est= 62     auc_roc =  0.8385575252647899\n",
      "f1- 0.5722713864306784    est= 63     auc_roc =  0.8391358289902179\n",
      "f1- 0.5754527162977867    est= 64     auc_roc =  0.8389754917527507\n",
      "f1- 0.5722772277227722    est= 65     auc_roc =  0.8389863884582096\n",
      "f1- 0.5754527162977867    est= 66     auc_roc =  0.8388820914202455\n",
      "f1- 0.5683168316831684    est= 67     auc_roc =  0.8383629412387374\n",
      "f1- 0.5737211634904714    est= 68     auc_roc =  0.8383069010392343\n",
      "f1- 0.5700099304865938    est= 69     auc_roc =  0.8383940746829058\n",
      "f1- 0.5699899295065458    est= 70     auc_roc =  0.8383629412387374\n",
      "f1- 0.5649157581764124    est= 71     auc_roc =  0.8383652762470502\n",
      "f1- 0.5702811244979921    est= 72     auc_roc =  0.8387007391079645\n",
      "f1- 0.5666003976143142    est= 73     auc_roc =  0.83845400656293\n",
      "f1- 0.568273092369478    est= 74     auc_roc =  0.8388081494903455\n",
      "f1- 0.5666003976143142    est= 75     auc_roc =  0.838590993717271\n",
      "f1- 0.5694164989939637    est= 76     auc_roc =  0.8385014850652869\n",
      "f1- 0.5674325674325674    est= 77     auc_roc =  0.8384049713883648\n",
      "f1- 0.5711402623612513    est= 78     auc_roc =  0.838794917776574\n",
      "f1- 0.5740000000000001    est= 79     auc_roc =  0.8386275755141688\n",
      "f1- 0.5711402623612513    est= 80     auc_roc =  0.8389280132503938\n",
      "f1- 0.5700000000000001    est= 81     auc_roc =  0.8395234403701144\n",
      "f1- 0.5728643216080403    est= 82     auc_roc =  0.8400309155100592\n",
      "f1- 0.5725725725725725    est= 83     auc_roc =  0.839837109820111\n",
      "f1- 0.570273003033367    est= 84     auc_roc =  0.8393747781742102\n",
      "f1- 0.5688622754491017    est= 85     auc_roc =  0.8387661193407182\n",
      "f1- 0.5699899295065458    est= 86     auc_roc =  0.8387630059963014\n",
      "f1- 0.5674325674325674    est= 87     auc_roc =  0.838731872552133\n",
      "f1- 0.5731584258324924    est= 88     auc_roc =  0.838639250555732\n",
      "f1- 0.5685884691848906    est= 89     auc_roc =  0.8388953231340169\n",
      "f1- 0.5702811244979921    est= 90     auc_roc =  0.8390860154795485\n",
      "f1- 0.5680238331678252    est= 91     auc_roc =  0.8391654057621779\n",
      "f1- 0.5702811244979921    est= 92     auc_roc =  0.8388377262623055\n",
      "f1- 0.5654761904761904    est= 93     auc_roc =  0.8388011444654075\n",
      "f1- 0.5671641791044777    est= 94     auc_roc =  0.8389521416696244\n",
      "f1- 0.5649157581764124    est= 95     auc_roc =  0.8387668976768224\n",
      "f1- 0.5685685685685685    est= 96     auc_roc =  0.838598777078313\n",
      "f1- 0.5634920634920635    est= 97     auc_roc =  0.8384625682600764\n",
      "f1- 0.5674325674325674    est= 98     auc_roc =  0.8382251757482924\n",
      "f1- 0.5668979187314173    est= 99     auc_roc =  0.8383497095249659\n",
      "\n",
      "F-1 мера наилучшей модели на валидационной выборке: 0.5760980592441267\n"
     ]
    }
   ],
   "source": [
    "best_model = None\n",
    "best_result = 0\n",
    "for est in range(1, 100):\n",
    "    model = RandomForestClassifier(random_state=12345, n_estimators=est) # обучите модель с заданным количеством деревьев\n",
    "    model.fit(features_downsampled, target_downsampled) # обучите модель на тренировочной выборке\n",
    "    predicted_valid = model.predict(features_valid)\n",
    "    result = f1_score(target_valid, predicted_valid) # посчитайте качество модели на валидационной выборке\n",
    "    \n",
    "    probabilities_valid = model.predict_proba(features_valid)\n",
    "    probabilities_one_valid = probabilities_valid[:, 1]\n",
    "    auc_roc = roc_auc_score(target_valid, probabilities_one_valid)\n",
    "\n",
    "    print('f1-', result, '   est=', est, '    auc_roc = ', auc_roc)\n",
    "    if result > best_result:\n",
    "        best_model = model# сохраните наилучшую модель\n",
    "        best_result = result#  сохраните наилучшее значение метрики accuracy на валидационных данных\n",
    "print()\n",
    "print(\"F-1 мера наилучшей модели на валидационной выборке:\", best_result)"
   ]
  },
  {
   "cell_type": "markdown",
   "metadata": {},
   "source": [
    "Максимальное значение f1=0.57609 при est=42"
   ]
  },
  {
   "cell_type": "markdown",
   "metadata": {},
   "source": [
    "**Максимально возможное значение `f1=0.5974` показала модель `случайного леса` с глобальным параметром `n_estimators=77`. При этом использовался метод борьбы с дисбалансом `upsampling`.\n",
    "   Данная модель будет использвана в дальнейшем для проверки на тестовой выборке**"
   ]
  },
  {
   "cell_type": "markdown",
   "metadata": {},
   "source": [
    "<div class=\"alert alert-success\">\n",
    "<b>Комментарий ревьюера v2✔️:</b> Молодец, upsampling и downsampling показали лучше результаты, чем автоматическая балансировка данных. </font>"
   ]
  },
  {
   "cell_type": "markdown",
   "metadata": {},
   "source": [
    "<div class=\"alert alert-danger\">\n",
    "<b>Комментарий ревьюера v2❌:</b><s>Добавь, пожалуйста, комментарии между ячейками кода в части upsampling и downsampling. Кратко о том, что ты делаешь, и выводы по каждой модели. </s></div>"
   ]
  },
  {
   "cell_type": "markdown",
   "metadata": {},
   "source": [
    "<div class=\"alert alert-block alert-info\">\n",
    "<b></b> \n",
    "Комментарий студента\n",
    "    \n",
    "✔ Исправлено. Комментарии добавлены.\n",
    "</div>"
   ]
  },
  {
   "cell_type": "markdown",
   "metadata": {},
   "source": [
    "<div class=\"alert alert-danger\">\n",
    "<b>Комментарий ревьюера v2❌:</b><s>Проверь, пожалуйста, все выводы для моделей. После того, как ты укажешь random.seed() при заполнении пропусков, метрики изменятся. </s> </div>"
   ]
  },
  {
   "cell_type": "markdown",
   "metadata": {},
   "source": [
    "<div class=\"alert alert-block alert-info\">\n",
    "<b></b> \n",
    "Комментарий студента\n",
    "    \n",
    "✔ Исправлено. Для каждой модели подписан вывод максимального значения f1\n",
    "</div>"
   ]
  },
  {
   "cell_type": "markdown",
   "metadata": {},
   "source": [
    "<div class=\"alert alert-warning\">\n",
    "<b>Комментарий ревьюера v2 ⚠️:</b> <s>Автоматическая балансировка не работает вместе c upsampling и downsampling, поскольку данные уже сбалансированы. Можно удалить параметр <code>class_weight = 'balanced'</code> для моделей, где используется upsampling и downsampling.</s>"
   ]
  },
  {
   "cell_type": "markdown",
   "metadata": {},
   "source": [
    "<div class=\"alert alert-block alert-info\">\n",
    "<b></b> \n",
    "Комментарий студента\n",
    "    \n",
    "✔ Исправлено. При использовании методов борьбы с дисбалансом `upsample` и `downsample` параметр `class_weight` установлен по умолчанию\n",
    "</div>"
   ]
  },
  {
   "cell_type": "markdown",
   "metadata": {},
   "source": [
    "## Тестирование модели"
   ]
  },
  {
   "cell_type": "markdown",
   "metadata": {},
   "source": [
    "Проведем тестирование модели случайного леса с параметром est=77 на тестовой выборке и расчитаем f1 и auc_roc"
   ]
  },
  {
   "cell_type": "code",
   "execution_count": 49,
   "metadata": {
    "scrolled": true
   },
   "outputs": [
    {
     "name": "stdout",
     "output_type": "stream",
     "text": [
      "f1- 0.6062992125984252    est= 77     auc_roc =  0.8575813158525527\n"
     ]
    }
   ],
   "source": [
    "\n",
    "    model = RandomForestClassifier(random_state=12345, n_estimators=77) # обучите модель с заданным количеством деревьев\n",
    "    model.fit(features_upsampled, target_upsampled) # обучите модель на тренировочной выборке\n",
    "    predicted_test = model.predict(features_test)\n",
    "    result = f1_score(target_test, predicted_test) # посчитайте качество модели на валидационной выборке\n",
    "    \n",
    "    probabilities_test = model.predict_proba(features_test)\n",
    "    probabilities_one_test = probabilities_test[:, 1]\n",
    "    auc_roc = roc_auc_score(target_test, probabilities_one_test)\n",
    "\n",
    "    print('f1-', result, '   est=', 77, '    auc_roc = ', auc_roc)\n"
   ]
  },
  {
   "cell_type": "markdown",
   "metadata": {},
   "source": [
    "<div class=\"alert alert-success\">\n",
    "<b>Комментарий ревьюера✔️:</b> Молодец, что тестируешь модель, которая показала лучший результат. </font>"
   ]
  },
  {
   "cell_type": "markdown",
   "metadata": {},
   "source": [
    "<div class=\"alert alert-danger\">\n",
    "<b>Комментарий ревьюера v2❌:</b><s>Обучение и тестирование модели всегда происходит на разных выборках. Представь, что ты не знаешь целевых значений для тестовой выборки и модель, обученная на обучающей выборке, должна предсказать класс клиентов для тестовых признаков.</s></div>"
   ]
  },
  {
   "cell_type": "markdown",
   "metadata": {},
   "source": [
    "<div class=\"alert alert-block alert-info\">\n",
    "<b></b> \n",
    "Комментарий студента\n",
    "    \n",
    "✔ Исправлено. \n",
    "</div>"
   ]
  },
  {
   "cell_type": "markdown",
   "metadata": {},
   "source": [
    "<div class=\"alert alert-danger\">\n",
    "<b>Комментарий ревьюера v2❌:</b><s>Когда ты выбрал лучшую модель, уже не нужно подбирать параметры. Берем те параметры, которые показали лучший результат на валидационной выборке.</s> </div>"
   ]
  },
  {
   "cell_type": "markdown",
   "metadata": {},
   "source": [
    "<div class=\"alert alert-block alert-info\">\n",
    "<b></b> \n",
    "Комментарий студента\n",
    "    \n",
    "✔ Исправлено. Тестирование проведено на модели, которая показала максимально возможный f1 (модель случайного леса с параметром est=77 и использованием upsample)\n",
    "</div>"
   ]
  },
  {
   "cell_type": "markdown",
   "metadata": {},
   "source": [
    "<div class=\"alert alert-danger\">\n",
    "<b>Комментарий ревьюера v2❌:</b><s>Проверь, пожалуйста, комментарии к коду. Ты пишешь, что выбрал дерево с параметром max_depth=5, а тестируешь случайный лес.</s> </div>"
   ]
  },
  {
   "cell_type": "markdown",
   "metadata": {},
   "source": [
    "<div class=\"alert alert-block alert-info\">\n",
    "<b></b> \n",
    "Комментарий студента\n",
    "    \n",
    "✔ Исправлено.\n",
    "</div>"
   ]
  },
  {
   "cell_type": "markdown",
   "metadata": {},
   "source": [
    "<div style=\"border:solid green 2px; padding: 20px\">\n",
    "<b>Финальный комментарий ревьюера v2</b>\n",
    "\n",
    "Ты большой молодец, исправил почти все комментарии. Я добавила несколько комментариев, они больше на неточности выводов. Уверена, ты быстро их исправишь.\n",
    "    \n",
    "<div class=\"alert alert-danger\">\n",
    "<b>Комментарий ревьюера v2❌:</b> <s>Добавь, пожалуйста, перед random.choice код random.seed(любое значение), иначе каждый раз когда я запускаю код, пропуски заполняются по-разному, и все значения метрик моделей меняются и не совпадают с твоими выводами. Пропустила этот момент при первой проверке.</s></div>\n",
    "    \n",
    "<div class=\"alert alert-danger\">\n",
    "<b>Комментарий ревьюера v2 ❌:</b><s>Ты правильно сделал, что масштабировал обучающую выборку и потом масштабировал тестовую на основе данных обучающей выборки scaler. Необходимости в scaler1 нет, следующий код можно удалить:\n",
    "\n",
    "<code>\n",
    "scaler1 = StandardScaler()\n",
    "scaler1.fit(features_test[numeric])</code>.</s></div> \n",
    "    \n",
    "<div class=\"alert alert-danger\">\n",
    "<b>Комментарий ревьюера v2 ❌:</b> <s>Продублировалась строчка кода, данные дважды масштабируются и дают неверный результат для тестирования в конце проекта:\n",
    "\n",
    "<code>features_test[numeric] = scaler.transform(features_test[numeric])</code> </s></div>\n",
    "\n",
    "<div class=\"alert alert-danger\">\n",
    "<b>Комментарий ревьюера v2❌:</b><s>Добавь, пожалуйста, комментарии между ячейками кода в части upsampling и downsampling. Кратко о том, что ты делаешь, и выводы по каждой модели.</s> </div>\n",
    "    \n",
    "<div class=\"alert alert-danger\">\n",
    "<b>Комментарий ревьюера v2❌:</b><s>Проверь, пожалуйста, все выводы для моделей. После того, как ты укажешь random.seed() при заполнении пропусков, метрики изменятся. </s> </div>\n",
    "    \n",
    "<div class=\"alert alert-danger\">\n",
    "<b>Комментарий ревьюера v2❌:</b><s>Когда ты выбрал лучшую модель, уже не нужно подбирать параметры. Берем те параметры, которые показали лучший результат на валидационной выборке. </s></div>\n",
    "\n",
    "<div class=\"alert alert-danger\">\n",
    "<b>Комментарий ревьюера v2❌:</b><s>Проверь, пожалуйста, комментарии к коду. Ты пишешь, что выбрал дерево с параметром max_depth=5, а тестируешь случайный лес.</s> </div>\n",
    "    \n",
    "Спасибо за твой труд. Буду ждать исправленную версию!"
   ]
  },
  {
   "cell_type": "markdown",
   "metadata": {},
   "source": [
    "<font color='blue'><b>Итоговый комментарий ревьюера</b></font>\n",
    "\n",
    "<font color='green'>Все отлично: Ты отлично потрудился, использовал различные модели и настраивал параметры на валидационной выборке. </font>\n",
    "\n",
    "<font color='blue'>Однако, есть несколько моментов, на которые важно обратить внимание:</font>\n",
    "\n",
    "<font color='orange'> <s>(1) Можно исправить: Можно избежать цикла, если при присвоении значения list_mis в конце добавить метод round()</s>.</font>\n",
    "\n",
    "<font color='red'> <s>(2) Нужно переделать: Осталась еще пара неинформативных признаков.</s> </font>\n",
    "\n",
    "<font color='orange'> (3) Можно исправить: Попробуй использовать функцию train_test_split() для формирования тестовой выборки. Поскольку у нас есть 2 класса клиентов, предлагаю также добавить параметр stratify, чтобы получить пропорциональное количество каждого класса в выборках.</font>\n",
    "\n",
    "<font color='red'> <s>(4) Нужно переделать: Важно создать dummy переменные до формирования выборок. Во-первых, это позволит избежать формирования переменных для каждой выборки отдельно. А главное, мы страхуем себя от случаев, когда в выборку не попадет одно из значений категориальной переменной и dummy переменная сформируется неверно.</s></font>\n",
    "\n",
    "<font color='red'> <s>(5) Нужно переделать: Важно провести масштабирование численных переменных. Иначе некоторые переменные будут значительно больше в значениях, чем другие, что исказит результаты моделей. </s></font>\n",
    "\n",
    "<font color='red'> <s>(6) Нужно переделать: Удали, пожалуйста, лишние строки кода и заметки с кодом, которые не относятся к данной главе или не используются вовсе.</s></font>\n",
    "\n",
    "<font color='red'><s> (7) Нужно переделать: Удали, пожалуйста, лишни строки кода и заметки с кодом, которые ты не используешь. Оставлять их в комментариях тоже не надо.</s></font>\n",
    "\n",
    "<font color='red'><s> (8) Нужно переделать: Скорее всего, линейная регрессия и дерево решений не могут предсказать ни одного уходящего клиента из-за того, что данные содержат неинформативные столбцы и немасштабированы. Проблема должна уйти, когда комментарии в предобработке будут исправлены.</s></font>\n",
    "\n",
    "<font color='red'><s> (9) Нужно переделать: Поскольку целевая метрика не была достигнута, давай попробуем другие способы борьбы с дисбалансом. Например, upsampling и downsampling.</s></font>\n",
    "\n",
    "<font color='red'><s>Нужно переделать: Обучение и тестирование модели всегда происходит на разных выборках. Представь, что ты не знаешь целевых значений для тестовой выборки и модель, обученная на обучающей выборке, должна предсказать класс клиентов для тестовых признаков.</s> </font>\n",
    "\n",
    "<font color='blue'>Хоть комментарией получилось многовато, я думаю, ты справишься со всеми. Буду ждать исправленную версию! </font>\n",
    "\n",
    "\n",
    "\n"
   ]
  },
  {
   "cell_type": "markdown",
   "metadata": {},
   "source": [
    "## Чек-лист готовности проекта"
   ]
  },
  {
   "cell_type": "markdown",
   "metadata": {},
   "source": [
    "Поставьте 'x' в выполненных пунктах. Далее нажмите Shift+Enter."
   ]
  },
  {
   "cell_type": "markdown",
   "metadata": {},
   "source": [
    "- [x]  Jupyter Notebook открыт\n",
    "- [ ]  Весь код выполняется без ошибок\n",
    "- [ ]  Ячейки с кодом расположены в порядке исполнения\n",
    "- [ ]  Выполнен шаг 1: данные подготовлены\n",
    "- [ ]  Выполнен шаг 2: задача исследована\n",
    "    - [ ]  Исследован баланс классов\n",
    "    - [ ]  Изучены модели без учёта дисбаланса\n",
    "    - [ ]  Написаны выводы по результатам исследования\n",
    "- [ ]  Выполнен шаг 3: учтён дисбаланс\n",
    "    - [ ]  Применено несколько способов борьбы с дисбалансом\n",
    "    - [ ]  Написаны выводы по результатам исследования\n",
    "- [ ]  Выполнен шаг 4: проведено тестирование\n",
    "- [ ]  Удалось достичь *F1*-меры не менее 0.59\n",
    "- [ ]  Исследована метрика *AUC-ROC*"
   ]
  }
 ],
 "metadata": {
  "ExecuteTimeLog": [
   {
    "duration": 575,
    "start_time": "2022-01-18T16:20:28.582Z"
   },
   {
    "duration": 3611,
    "start_time": "2022-01-18T16:21:08.395Z"
   },
   {
    "duration": 56,
    "start_time": "2022-01-18T17:35:43.212Z"
   },
   {
    "duration": 46,
    "start_time": "2022-01-18T17:36:02.307Z"
   },
   {
    "duration": 9,
    "start_time": "2022-01-18T17:36:33.470Z"
   },
   {
    "duration": 14,
    "start_time": "2022-01-18T17:37:08.892Z"
   },
   {
    "duration": 43,
    "start_time": "2022-01-18T17:37:12.963Z"
   },
   {
    "duration": 4,
    "start_time": "2022-01-18T17:37:57.644Z"
   },
   {
    "duration": 6,
    "start_time": "2022-01-18T17:38:19.643Z"
   },
   {
    "duration": 21,
    "start_time": "2022-01-18T17:38:59.242Z"
   },
   {
    "duration": 520,
    "start_time": "2022-01-18T17:45:58.150Z"
   },
   {
    "duration": 45,
    "start_time": "2022-01-18T17:45:58.672Z"
   },
   {
    "duration": 9,
    "start_time": "2022-01-18T17:45:58.719Z"
   },
   {
    "duration": 12,
    "start_time": "2022-01-18T17:45:58.730Z"
   },
   {
    "duration": 62,
    "start_time": "2022-01-18T17:45:58.744Z"
   },
   {
    "duration": 5,
    "start_time": "2022-01-18T17:45:58.809Z"
   },
   {
    "duration": 24,
    "start_time": "2022-01-18T17:45:58.816Z"
   },
   {
    "duration": 6,
    "start_time": "2022-01-18T17:45:58.842Z"
   },
   {
    "duration": 564,
    "start_time": "2022-01-18T17:46:37.236Z"
   },
   {
    "duration": 44,
    "start_time": "2022-01-18T17:46:37.801Z"
   },
   {
    "duration": 8,
    "start_time": "2022-01-18T17:46:37.847Z"
   },
   {
    "duration": 18,
    "start_time": "2022-01-18T17:46:37.856Z"
   },
   {
    "duration": 47,
    "start_time": "2022-01-18T17:46:37.876Z"
   },
   {
    "duration": 4,
    "start_time": "2022-01-18T17:46:37.925Z"
   },
   {
    "duration": 30,
    "start_time": "2022-01-18T17:46:37.930Z"
   },
   {
    "duration": 9,
    "start_time": "2022-01-18T17:46:37.961Z"
   },
   {
    "duration": 233,
    "start_time": "2022-01-18T17:48:22.545Z"
   },
   {
    "duration": 187,
    "start_time": "2022-01-18T17:48:46.691Z"
   },
   {
    "duration": 6,
    "start_time": "2022-01-18T17:48:57.833Z"
   },
   {
    "duration": 370,
    "start_time": "2022-01-19T14:07:19.109Z"
   },
   {
    "duration": 610,
    "start_time": "2022-01-19T14:07:25.316Z"
   },
   {
    "duration": 462,
    "start_time": "2022-01-19T14:07:25.927Z"
   },
   {
    "duration": 7,
    "start_time": "2022-01-19T14:07:26.391Z"
   },
   {
    "duration": 9,
    "start_time": "2022-01-19T14:07:26.400Z"
   },
   {
    "duration": 36,
    "start_time": "2022-01-19T14:07:26.411Z"
   },
   {
    "duration": 5,
    "start_time": "2022-01-19T14:07:26.448Z"
   },
   {
    "duration": 19,
    "start_time": "2022-01-19T14:07:26.454Z"
   },
   {
    "duration": 5,
    "start_time": "2022-01-19T14:07:26.474Z"
   },
   {
    "duration": 19,
    "start_time": "2022-01-19T14:08:12.348Z"
   },
   {
    "duration": 1182,
    "start_time": "2022-01-19T14:10:36.408Z"
   },
   {
    "duration": 7105,
    "start_time": "2022-01-19T14:13:46.265Z"
   },
   {
    "duration": 151,
    "start_time": "2022-01-19T14:13:54.237Z"
   },
   {
    "duration": 157,
    "start_time": "2022-01-19T14:14:07.093Z"
   },
   {
    "duration": 140,
    "start_time": "2022-01-19T14:14:43.365Z"
   },
   {
    "duration": 7,
    "start_time": "2022-01-19T14:27:02.313Z"
   },
   {
    "duration": 316,
    "start_time": "2022-01-19T14:27:26.891Z"
   },
   {
    "duration": 7,
    "start_time": "2022-01-19T14:27:42.880Z"
   },
   {
    "duration": 4,
    "start_time": "2022-01-19T14:33:49.555Z"
   },
   {
    "duration": 7,
    "start_time": "2022-01-19T14:33:52.570Z"
   },
   {
    "duration": 146,
    "start_time": "2022-01-19T14:33:56.458Z"
   },
   {
    "duration": 478,
    "start_time": "2022-01-19T14:36:12.457Z"
   },
   {
    "duration": 153,
    "start_time": "2022-01-19T14:36:18.096Z"
   },
   {
    "duration": 150,
    "start_time": "2022-01-19T14:38:05.935Z"
   },
   {
    "duration": 7,
    "start_time": "2022-01-19T14:38:32.518Z"
   },
   {
    "duration": 7,
    "start_time": "2022-01-19T14:38:40.382Z"
   },
   {
    "duration": 9,
    "start_time": "2022-01-19T14:43:39.089Z"
   },
   {
    "duration": 3,
    "start_time": "2022-01-19T14:44:46.362Z"
   },
   {
    "duration": 5,
    "start_time": "2022-01-19T14:45:14.888Z"
   },
   {
    "duration": 557,
    "start_time": "2022-01-23T18:32:25.263Z"
   },
   {
    "duration": 45,
    "start_time": "2022-01-23T18:32:25.822Z"
   },
   {
    "duration": 9,
    "start_time": "2022-01-23T18:32:25.869Z"
   },
   {
    "duration": 12,
    "start_time": "2022-01-23T18:32:25.881Z"
   },
   {
    "duration": 66,
    "start_time": "2022-01-23T18:32:25.894Z"
   },
   {
    "duration": 5,
    "start_time": "2022-01-23T18:32:25.962Z"
   },
   {
    "duration": 20,
    "start_time": "2022-01-23T18:32:25.969Z"
   },
   {
    "duration": 3,
    "start_time": "2022-01-23T18:32:25.992Z"
   },
   {
    "duration": 8,
    "start_time": "2022-01-23T18:32:25.997Z"
   },
   {
    "duration": 244,
    "start_time": "2022-01-23T18:32:26.007Z"
   },
   {
    "duration": 8,
    "start_time": "2022-01-23T18:32:26.253Z"
   },
   {
    "duration": 18,
    "start_time": "2022-01-23T18:32:26.262Z"
   },
   {
    "duration": 25806,
    "start_time": "2022-01-23T18:33:05.389Z"
   },
   {
    "duration": 548,
    "start_time": "2022-01-23T18:34:02.199Z"
   },
   {
    "duration": 43,
    "start_time": "2022-01-23T18:34:02.749Z"
   },
   {
    "duration": 7,
    "start_time": "2022-01-23T18:34:02.796Z"
   },
   {
    "duration": 38,
    "start_time": "2022-01-23T18:34:02.805Z"
   },
   {
    "duration": 53,
    "start_time": "2022-01-23T18:34:02.844Z"
   },
   {
    "duration": 4,
    "start_time": "2022-01-23T18:34:02.898Z"
   },
   {
    "duration": 28,
    "start_time": "2022-01-23T18:34:02.904Z"
   },
   {
    "duration": 4,
    "start_time": "2022-01-23T18:34:02.934Z"
   },
   {
    "duration": 21,
    "start_time": "2022-01-23T18:34:02.939Z"
   },
   {
    "duration": 250,
    "start_time": "2022-01-23T18:34:02.961Z"
   },
   {
    "duration": 9,
    "start_time": "2022-01-23T18:34:03.213Z"
   },
   {
    "duration": 20,
    "start_time": "2022-01-23T18:34:03.223Z"
   },
   {
    "duration": 24183,
    "start_time": "2022-01-23T18:34:03.246Z"
   },
   {
    "duration": 10,
    "start_time": "2022-01-23T18:36:27.045Z"
   },
   {
    "duration": 541,
    "start_time": "2022-01-23T18:39:07.694Z"
   },
   {
    "duration": 45,
    "start_time": "2022-01-23T18:39:08.237Z"
   },
   {
    "duration": 8,
    "start_time": "2022-01-23T18:39:08.286Z"
   },
   {
    "duration": 26,
    "start_time": "2022-01-23T18:39:08.296Z"
   },
   {
    "duration": 58,
    "start_time": "2022-01-23T18:39:08.324Z"
   },
   {
    "duration": 5,
    "start_time": "2022-01-23T18:39:08.383Z"
   },
   {
    "duration": 50,
    "start_time": "2022-01-23T18:39:08.389Z"
   },
   {
    "duration": 8,
    "start_time": "2022-01-23T18:39:08.442Z"
   },
   {
    "duration": 42,
    "start_time": "2022-01-23T18:39:08.452Z"
   },
   {
    "duration": 242,
    "start_time": "2022-01-23T18:39:08.495Z"
   },
   {
    "duration": 6,
    "start_time": "2022-01-23T18:39:08.739Z"
   },
   {
    "duration": 6,
    "start_time": "2022-01-23T18:39:08.747Z"
   },
   {
    "duration": 24763,
    "start_time": "2022-01-23T18:39:08.754Z"
   },
   {
    "duration": 22,
    "start_time": "2022-01-23T18:39:33.519Z"
   },
   {
    "duration": 23009,
    "start_time": "2022-01-23T18:43:41.303Z"
   },
   {
    "duration": 292,
    "start_time": "2022-01-24T14:34:54.815Z"
   },
   {
    "duration": 571,
    "start_time": "2022-01-24T14:35:02.003Z"
   },
   {
    "duration": 48,
    "start_time": "2022-01-24T14:35:02.576Z"
   },
   {
    "duration": 10,
    "start_time": "2022-01-24T14:35:02.627Z"
   },
   {
    "duration": 14,
    "start_time": "2022-01-24T14:35:02.639Z"
   },
   {
    "duration": 39,
    "start_time": "2022-01-24T14:35:02.661Z"
   },
   {
    "duration": 5,
    "start_time": "2022-01-24T14:35:02.702Z"
   },
   {
    "duration": 23,
    "start_time": "2022-01-24T14:35:02.708Z"
   },
   {
    "duration": 3,
    "start_time": "2022-01-24T14:35:02.733Z"
   },
   {
    "duration": 6,
    "start_time": "2022-01-24T14:35:02.762Z"
   },
   {
    "duration": 254,
    "start_time": "2022-01-24T14:35:02.770Z"
   },
   {
    "duration": 7,
    "start_time": "2022-01-24T14:35:03.026Z"
   },
   {
    "duration": 7,
    "start_time": "2022-01-24T14:35:03.034Z"
   },
   {
    "duration": 24949,
    "start_time": "2022-01-24T14:35:03.043Z"
   },
   {
    "duration": 13,
    "start_time": "2022-01-24T14:35:27.994Z"
   },
   {
    "duration": 22,
    "start_time": "2022-01-24T14:35:28.008Z"
   },
   {
    "duration": 338,
    "start_time": "2022-01-24T14:36:07.647Z"
   },
   {
    "duration": 7,
    "start_time": "2022-01-24T14:37:04.878Z"
   },
   {
    "duration": 10,
    "start_time": "2022-01-24T14:37:33.537Z"
   },
   {
    "duration": 8,
    "start_time": "2022-01-24T14:37:50.333Z"
   },
   {
    "duration": 638,
    "start_time": "2022-01-24T14:38:47.350Z"
   },
   {
    "duration": 46,
    "start_time": "2022-01-24T14:38:47.990Z"
   },
   {
    "duration": 9,
    "start_time": "2022-01-24T14:38:48.038Z"
   },
   {
    "duration": 22,
    "start_time": "2022-01-24T14:38:48.049Z"
   },
   {
    "duration": 39,
    "start_time": "2022-01-24T14:38:48.073Z"
   },
   {
    "duration": 5,
    "start_time": "2022-01-24T14:38:48.114Z"
   },
   {
    "duration": 41,
    "start_time": "2022-01-24T14:38:48.121Z"
   },
   {
    "duration": 7,
    "start_time": "2022-01-24T14:38:48.164Z"
   },
   {
    "duration": 26,
    "start_time": "2022-01-24T14:38:48.173Z"
   },
   {
    "duration": 30,
    "start_time": "2022-01-24T14:38:48.201Z"
   },
   {
    "duration": 258,
    "start_time": "2022-01-24T14:38:48.233Z"
   },
   {
    "duration": 7,
    "start_time": "2022-01-24T14:38:48.493Z"
   },
   {
    "duration": 8,
    "start_time": "2022-01-24T14:38:48.501Z"
   },
   {
    "duration": 24031,
    "start_time": "2022-01-24T14:38:48.511Z"
   },
   {
    "duration": 21,
    "start_time": "2022-01-24T14:39:12.544Z"
   },
   {
    "duration": 37,
    "start_time": "2022-01-24T14:39:12.567Z"
   },
   {
    "duration": 4,
    "start_time": "2022-01-24T14:46:20.671Z"
   },
   {
    "duration": 5,
    "start_time": "2022-01-24T14:46:26.358Z"
   },
   {
    "duration": 4,
    "start_time": "2022-01-24T14:46:57.918Z"
   },
   {
    "duration": 4,
    "start_time": "2022-01-24T14:48:06.701Z"
   },
   {
    "duration": 515,
    "start_time": "2022-01-24T14:49:49.339Z"
   },
   {
    "duration": 1037,
    "start_time": "2022-01-24T14:49:56.242Z"
   },
   {
    "duration": 45,
    "start_time": "2022-01-24T14:49:57.281Z"
   },
   {
    "duration": 9,
    "start_time": "2022-01-24T14:49:57.328Z"
   },
   {
    "duration": 21,
    "start_time": "2022-01-24T14:49:57.340Z"
   },
   {
    "duration": 41,
    "start_time": "2022-01-24T14:49:57.363Z"
   },
   {
    "duration": 5,
    "start_time": "2022-01-24T14:49:57.405Z"
   },
   {
    "duration": 25,
    "start_time": "2022-01-24T14:49:57.412Z"
   },
   {
    "duration": 26,
    "start_time": "2022-01-24T14:49:57.440Z"
   },
   {
    "duration": 4,
    "start_time": "2022-01-24T14:49:57.468Z"
   },
   {
    "duration": 15,
    "start_time": "2022-01-24T14:49:57.474Z"
   },
   {
    "duration": 270,
    "start_time": "2022-01-24T14:49:57.491Z"
   },
   {
    "duration": 7,
    "start_time": "2022-01-24T14:49:57.762Z"
   },
   {
    "duration": 5,
    "start_time": "2022-01-24T14:49:57.770Z"
   },
   {
    "duration": 25986,
    "start_time": "2022-01-24T14:49:57.777Z"
   },
   {
    "duration": 11,
    "start_time": "2022-01-24T14:50:23.764Z"
   },
   {
    "duration": 8,
    "start_time": "2022-01-24T14:50:23.777Z"
   },
   {
    "duration": 17,
    "start_time": "2022-01-24T14:50:23.786Z"
   },
   {
    "duration": 16,
    "start_time": "2022-01-24T14:50:23.804Z"
   },
   {
    "duration": 16,
    "start_time": "2022-01-24T14:50:23.822Z"
   },
   {
    "duration": 21,
    "start_time": "2022-01-24T14:50:56.381Z"
   },
   {
    "duration": 3,
    "start_time": "2022-01-24T14:54:37.578Z"
   },
   {
    "duration": 4,
    "start_time": "2022-01-24T14:55:27.417Z"
   },
   {
    "duration": 6,
    "start_time": "2022-01-24T14:55:36.984Z"
   },
   {
    "duration": 20,
    "start_time": "2022-01-24T14:55:53.799Z"
   },
   {
    "duration": 81,
    "start_time": "2022-01-24T14:59:57.877Z"
   },
   {
    "duration": 7,
    "start_time": "2022-01-24T15:00:07.972Z"
   },
   {
    "duration": 5,
    "start_time": "2022-01-24T15:00:28.011Z"
   },
   {
    "duration": 4,
    "start_time": "2022-01-24T15:00:48.827Z"
   },
   {
    "duration": 7,
    "start_time": "2022-01-24T15:01:18.738Z"
   },
   {
    "duration": 5,
    "start_time": "2022-01-24T15:01:20.130Z"
   },
   {
    "duration": 4,
    "start_time": "2022-01-24T15:01:22.707Z"
   },
   {
    "duration": 332,
    "start_time": "2022-01-24T15:05:31.286Z"
   },
   {
    "duration": 6,
    "start_time": "2022-01-24T15:05:50.263Z"
   },
   {
    "duration": 23,
    "start_time": "2022-01-24T15:06:09.381Z"
   },
   {
    "duration": 245,
    "start_time": "2022-01-24T15:08:06.309Z"
   },
   {
    "duration": 7,
    "start_time": "2022-01-24T15:09:56.658Z"
   },
   {
    "duration": 5,
    "start_time": "2022-01-24T15:10:27.923Z"
   },
   {
    "duration": 251,
    "start_time": "2022-01-24T15:10:38.889Z"
   },
   {
    "duration": 1195,
    "start_time": "2022-01-24T15:10:55.176Z"
   },
   {
    "duration": 44,
    "start_time": "2022-01-24T15:10:56.373Z"
   },
   {
    "duration": 8,
    "start_time": "2022-01-24T15:10:56.418Z"
   },
   {
    "duration": 15,
    "start_time": "2022-01-24T15:10:56.427Z"
   },
   {
    "duration": 49,
    "start_time": "2022-01-24T15:10:56.444Z"
   },
   {
    "duration": 5,
    "start_time": "2022-01-24T15:10:56.494Z"
   },
   {
    "duration": 22,
    "start_time": "2022-01-24T15:10:56.501Z"
   },
   {
    "duration": 8,
    "start_time": "2022-01-24T15:10:56.527Z"
   },
   {
    "duration": 4,
    "start_time": "2022-01-24T15:10:56.561Z"
   },
   {
    "duration": 8,
    "start_time": "2022-01-24T15:10:56.567Z"
   },
   {
    "duration": 275,
    "start_time": "2022-01-24T15:10:56.577Z"
   },
   {
    "duration": 22,
    "start_time": "2022-01-24T15:10:56.854Z"
   },
   {
    "duration": 6,
    "start_time": "2022-01-24T15:10:56.878Z"
   },
   {
    "duration": 29553,
    "start_time": "2022-01-24T15:10:56.886Z"
   },
   {
    "duration": 24,
    "start_time": "2022-01-24T15:11:26.441Z"
   },
   {
    "duration": 13,
    "start_time": "2022-01-24T15:11:26.466Z"
   },
   {
    "duration": 18,
    "start_time": "2022-01-24T15:11:26.481Z"
   },
   {
    "duration": 39,
    "start_time": "2022-01-24T15:11:26.500Z"
   },
   {
    "duration": 32,
    "start_time": "2022-01-24T15:11:26.540Z"
   },
   {
    "duration": 46,
    "start_time": "2022-01-24T15:11:26.573Z"
   },
   {
    "duration": 7,
    "start_time": "2022-01-24T15:11:26.621Z"
   },
   {
    "duration": 52,
    "start_time": "2022-01-24T15:11:26.629Z"
   },
   {
    "duration": 6,
    "start_time": "2022-01-24T15:11:26.683Z"
   },
   {
    "duration": 30,
    "start_time": "2022-01-24T15:11:26.691Z"
   },
   {
    "duration": 30,
    "start_time": "2022-01-24T15:11:26.724Z"
   },
   {
    "duration": 18,
    "start_time": "2022-01-24T15:11:26.757Z"
   },
   {
    "duration": 8,
    "start_time": "2022-01-24T15:12:36.041Z"
   },
   {
    "duration": 4,
    "start_time": "2022-01-24T15:12:38.057Z"
   },
   {
    "duration": 4,
    "start_time": "2022-01-24T15:12:42.170Z"
   },
   {
    "duration": 7,
    "start_time": "2022-01-24T15:12:48.243Z"
   },
   {
    "duration": 4,
    "start_time": "2022-01-24T15:12:49.889Z"
   },
   {
    "duration": 4,
    "start_time": "2022-01-24T15:12:53.538Z"
   },
   {
    "duration": 33,
    "start_time": "2022-01-24T15:15:36.559Z"
   },
   {
    "duration": 1105,
    "start_time": "2022-01-24T15:15:46.313Z"
   },
   {
    "duration": 45,
    "start_time": "2022-01-24T15:15:47.421Z"
   },
   {
    "duration": 8,
    "start_time": "2022-01-24T15:15:47.468Z"
   },
   {
    "duration": 28,
    "start_time": "2022-01-24T15:15:47.478Z"
   },
   {
    "duration": 57,
    "start_time": "2022-01-24T15:15:47.508Z"
   },
   {
    "duration": 5,
    "start_time": "2022-01-24T15:15:47.567Z"
   },
   {
    "duration": 38,
    "start_time": "2022-01-24T15:15:47.573Z"
   },
   {
    "duration": 16,
    "start_time": "2022-01-24T15:15:47.614Z"
   },
   {
    "duration": 17,
    "start_time": "2022-01-24T15:15:47.632Z"
   },
   {
    "duration": 10,
    "start_time": "2022-01-24T15:15:47.651Z"
   },
   {
    "duration": 237,
    "start_time": "2022-01-24T15:15:47.662Z"
   },
   {
    "duration": 9,
    "start_time": "2022-01-24T15:15:47.901Z"
   },
   {
    "duration": 36,
    "start_time": "2022-01-24T15:15:47.912Z"
   },
   {
    "duration": 24456,
    "start_time": "2022-01-24T15:15:47.950Z"
   },
   {
    "duration": 12,
    "start_time": "2022-01-24T15:16:12.408Z"
   },
   {
    "duration": 15,
    "start_time": "2022-01-24T15:16:12.422Z"
   },
   {
    "duration": 24,
    "start_time": "2022-01-24T15:16:12.439Z"
   },
   {
    "duration": 9,
    "start_time": "2022-01-24T15:16:12.465Z"
   },
   {
    "duration": 29,
    "start_time": "2022-01-24T15:16:12.476Z"
   },
   {
    "duration": 43,
    "start_time": "2022-01-24T15:16:12.507Z"
   },
   {
    "duration": 9,
    "start_time": "2022-01-24T15:16:12.551Z"
   },
   {
    "duration": 37,
    "start_time": "2022-01-24T15:16:12.561Z"
   },
   {
    "duration": 5,
    "start_time": "2022-01-24T15:16:12.600Z"
   },
   {
    "duration": 32,
    "start_time": "2022-01-24T15:16:12.607Z"
   },
   {
    "duration": 19,
    "start_time": "2022-01-24T15:16:12.641Z"
   },
   {
    "duration": 17,
    "start_time": "2022-01-24T15:16:12.663Z"
   },
   {
    "duration": 1116,
    "start_time": "2022-01-24T15:17:48.931Z"
   },
   {
    "duration": 45,
    "start_time": "2022-01-24T15:17:50.049Z"
   },
   {
    "duration": 8,
    "start_time": "2022-01-24T15:17:50.096Z"
   },
   {
    "duration": 29,
    "start_time": "2022-01-24T15:17:50.106Z"
   },
   {
    "duration": 43,
    "start_time": "2022-01-24T15:17:50.137Z"
   },
   {
    "duration": 3,
    "start_time": "2022-01-24T15:17:50.182Z"
   },
   {
    "duration": 37,
    "start_time": "2022-01-24T15:17:50.187Z"
   },
   {
    "duration": 8,
    "start_time": "2022-01-24T15:17:50.225Z"
   },
   {
    "duration": 21,
    "start_time": "2022-01-24T15:17:50.236Z"
   },
   {
    "duration": 25,
    "start_time": "2022-01-24T15:17:50.259Z"
   },
   {
    "duration": 246,
    "start_time": "2022-01-24T15:17:50.286Z"
   },
   {
    "duration": 7,
    "start_time": "2022-01-24T15:17:50.534Z"
   },
   {
    "duration": 28,
    "start_time": "2022-01-24T15:17:50.543Z"
   },
   {
    "duration": 25088,
    "start_time": "2022-01-24T15:17:50.573Z"
   },
   {
    "duration": 11,
    "start_time": "2022-01-24T15:18:15.663Z"
   },
   {
    "duration": 30,
    "start_time": "2022-01-24T15:18:15.676Z"
   },
   {
    "duration": 30,
    "start_time": "2022-01-24T15:18:15.707Z"
   },
   {
    "duration": 38,
    "start_time": "2022-01-24T15:18:15.739Z"
   },
   {
    "duration": 36,
    "start_time": "2022-01-24T15:18:15.779Z"
   },
   {
    "duration": 52,
    "start_time": "2022-01-24T15:18:15.817Z"
   },
   {
    "duration": 9,
    "start_time": "2022-01-24T15:18:15.870Z"
   },
   {
    "duration": 49,
    "start_time": "2022-01-24T15:18:15.880Z"
   },
   {
    "duration": 10,
    "start_time": "2022-01-24T15:18:15.931Z"
   },
   {
    "duration": 31,
    "start_time": "2022-01-24T15:18:15.942Z"
   },
   {
    "duration": 24,
    "start_time": "2022-01-24T15:18:15.975Z"
   },
   {
    "duration": 30,
    "start_time": "2022-01-24T15:18:16.001Z"
   },
   {
    "duration": 333,
    "start_time": "2022-01-24T15:19:12.330Z"
   },
   {
    "duration": 3,
    "start_time": "2022-01-24T15:19:21.274Z"
   },
   {
    "duration": 243,
    "start_time": "2022-01-24T15:19:46.058Z"
   },
   {
    "duration": 243,
    "start_time": "2022-01-24T15:20:12.618Z"
   },
   {
    "duration": 276,
    "start_time": "2022-01-24T15:28:25.323Z"
   },
   {
    "duration": 122,
    "start_time": "2022-01-24T15:28:32.899Z"
   },
   {
    "duration": 1118,
    "start_time": "2022-01-24T15:28:41.780Z"
   },
   {
    "duration": 44,
    "start_time": "2022-01-24T15:28:42.900Z"
   },
   {
    "duration": 9,
    "start_time": "2022-01-24T15:28:42.947Z"
   },
   {
    "duration": 22,
    "start_time": "2022-01-24T15:28:42.960Z"
   },
   {
    "duration": 59,
    "start_time": "2022-01-24T15:28:42.984Z"
   },
   {
    "duration": 5,
    "start_time": "2022-01-24T15:28:43.045Z"
   },
   {
    "duration": 70,
    "start_time": "2022-01-24T15:28:43.052Z"
   },
   {
    "duration": 31,
    "start_time": "2022-01-24T15:28:43.124Z"
   },
   {
    "duration": 42,
    "start_time": "2022-01-24T15:28:43.157Z"
   },
   {
    "duration": 49,
    "start_time": "2022-01-24T15:28:43.201Z"
   },
   {
    "duration": 262,
    "start_time": "2022-01-24T15:28:43.252Z"
   },
   {
    "duration": 7,
    "start_time": "2022-01-24T15:28:43.516Z"
   },
   {
    "duration": 23,
    "start_time": "2022-01-24T15:28:43.525Z"
   },
   {
    "duration": 34,
    "start_time": "2022-01-24T15:28:43.550Z"
   },
   {
    "duration": 19,
    "start_time": "2022-01-24T15:28:43.586Z"
   },
   {
    "duration": 29,
    "start_time": "2022-01-24T15:28:43.607Z"
   },
   {
    "duration": 14,
    "start_time": "2022-01-24T15:28:43.638Z"
   },
   {
    "duration": 37,
    "start_time": "2022-01-24T15:28:43.654Z"
   },
   {
    "duration": 6,
    "start_time": "2022-01-24T15:28:43.693Z"
   },
   {
    "duration": 32,
    "start_time": "2022-01-24T15:28:43.701Z"
   },
   {
    "duration": 125,
    "start_time": "2022-01-24T15:28:43.735Z"
   },
   {
    "duration": 7,
    "start_time": "2022-01-24T15:28:43.862Z"
   },
   {
    "duration": 27,
    "start_time": "2022-01-24T15:28:43.872Z"
   },
   {
    "duration": 20,
    "start_time": "2022-01-24T15:28:43.900Z"
   },
   {
    "duration": 400,
    "start_time": "2022-01-24T15:28:43.922Z"
   },
   {
    "duration": 1089,
    "start_time": "2022-01-24T15:29:17.764Z"
   },
   {
    "duration": 45,
    "start_time": "2022-01-24T15:29:18.856Z"
   },
   {
    "duration": 8,
    "start_time": "2022-01-24T15:29:18.903Z"
   },
   {
    "duration": 34,
    "start_time": "2022-01-24T15:29:18.913Z"
   },
   {
    "duration": 84,
    "start_time": "2022-01-24T15:29:18.949Z"
   },
   {
    "duration": 27,
    "start_time": "2022-01-24T15:29:19.035Z"
   },
   {
    "duration": 67,
    "start_time": "2022-01-24T15:29:19.063Z"
   },
   {
    "duration": 21,
    "start_time": "2022-01-24T15:29:19.132Z"
   },
   {
    "duration": 36,
    "start_time": "2022-01-24T15:29:19.155Z"
   },
   {
    "duration": 41,
    "start_time": "2022-01-24T15:29:19.193Z"
   },
   {
    "duration": 314,
    "start_time": "2022-01-24T15:29:19.236Z"
   },
   {
    "duration": 16,
    "start_time": "2022-01-24T15:29:19.552Z"
   },
   {
    "duration": 27,
    "start_time": "2022-01-24T15:29:19.570Z"
   },
   {
    "duration": 42,
    "start_time": "2022-01-24T15:29:19.599Z"
   },
   {
    "duration": 26,
    "start_time": "2022-01-24T15:29:19.643Z"
   },
   {
    "duration": 37,
    "start_time": "2022-01-24T15:29:19.670Z"
   },
   {
    "duration": 49,
    "start_time": "2022-01-24T15:29:19.709Z"
   },
   {
    "duration": 48,
    "start_time": "2022-01-24T15:29:19.760Z"
   },
   {
    "duration": 16,
    "start_time": "2022-01-24T15:29:19.810Z"
   },
   {
    "duration": 60,
    "start_time": "2022-01-24T15:29:19.828Z"
   },
   {
    "duration": 172,
    "start_time": "2022-01-24T15:29:19.890Z"
   },
   {
    "duration": 6,
    "start_time": "2022-01-24T15:29:20.064Z"
   },
   {
    "duration": 34,
    "start_time": "2022-01-24T15:29:20.073Z"
   },
   {
    "duration": 34,
    "start_time": "2022-01-24T15:29:20.109Z"
   },
   {
    "duration": 509,
    "start_time": "2022-01-24T15:29:20.144Z"
   },
   {
    "duration": 17,
    "start_time": "2022-01-24T15:30:24.606Z"
   },
   {
    "duration": 1144,
    "start_time": "2022-01-24T15:30:33.657Z"
   },
   {
    "duration": 45,
    "start_time": "2022-01-24T15:30:34.803Z"
   },
   {
    "duration": 10,
    "start_time": "2022-01-24T15:30:34.850Z"
   },
   {
    "duration": 30,
    "start_time": "2022-01-24T15:30:34.862Z"
   },
   {
    "duration": 46,
    "start_time": "2022-01-24T15:30:34.894Z"
   },
   {
    "duration": 4,
    "start_time": "2022-01-24T15:30:34.941Z"
   },
   {
    "duration": 43,
    "start_time": "2022-01-24T15:30:34.946Z"
   },
   {
    "duration": 9,
    "start_time": "2022-01-24T15:30:34.991Z"
   },
   {
    "duration": 27,
    "start_time": "2022-01-24T15:30:35.003Z"
   },
   {
    "duration": 37,
    "start_time": "2022-01-24T15:30:35.032Z"
   },
   {
    "duration": 301,
    "start_time": "2022-01-24T15:30:35.072Z"
   },
   {
    "duration": 10,
    "start_time": "2022-01-24T15:30:35.375Z"
   },
   {
    "duration": 6,
    "start_time": "2022-01-24T15:30:35.387Z"
   },
   {
    "duration": 15,
    "start_time": "2022-01-24T15:30:35.395Z"
   },
   {
    "duration": 4,
    "start_time": "2022-01-24T15:30:35.413Z"
   },
   {
    "duration": 16,
    "start_time": "2022-01-24T15:30:35.419Z"
   },
   {
    "duration": 25,
    "start_time": "2022-01-24T15:30:35.437Z"
   },
   {
    "duration": 33,
    "start_time": "2022-01-24T15:30:35.464Z"
   },
   {
    "duration": 4,
    "start_time": "2022-01-24T15:30:35.499Z"
   },
   {
    "duration": 27,
    "start_time": "2022-01-24T15:30:35.505Z"
   },
   {
    "duration": 38,
    "start_time": "2022-01-24T15:30:35.534Z"
   },
   {
    "duration": 7,
    "start_time": "2022-01-24T15:30:35.574Z"
   },
   {
    "duration": 24,
    "start_time": "2022-01-24T15:30:35.583Z"
   },
   {
    "duration": 49,
    "start_time": "2022-01-24T15:30:35.609Z"
   },
   {
    "duration": 355,
    "start_time": "2022-01-24T15:30:35.659Z"
   },
   {
    "duration": 1175,
    "start_time": "2022-01-24T15:31:49.644Z"
   },
   {
    "duration": 46,
    "start_time": "2022-01-24T15:31:50.821Z"
   },
   {
    "duration": 10,
    "start_time": "2022-01-24T15:31:50.870Z"
   },
   {
    "duration": 14,
    "start_time": "2022-01-24T15:31:50.883Z"
   },
   {
    "duration": 70,
    "start_time": "2022-01-24T15:31:50.899Z"
   },
   {
    "duration": 4,
    "start_time": "2022-01-24T15:31:50.971Z"
   },
   {
    "duration": 32,
    "start_time": "2022-01-24T15:31:50.977Z"
   },
   {
    "duration": 8,
    "start_time": "2022-01-24T15:31:51.011Z"
   },
   {
    "duration": 5,
    "start_time": "2022-01-24T15:31:51.022Z"
   },
   {
    "duration": 10,
    "start_time": "2022-01-24T15:31:51.029Z"
   },
   {
    "duration": 272,
    "start_time": "2022-01-24T15:31:51.041Z"
   },
   {
    "duration": 7,
    "start_time": "2022-01-24T15:31:51.315Z"
   },
   {
    "duration": 6,
    "start_time": "2022-01-24T15:31:51.324Z"
   },
   {
    "duration": 16,
    "start_time": "2022-01-24T15:31:51.331Z"
   },
   {
    "duration": 4,
    "start_time": "2022-01-24T15:31:51.361Z"
   },
   {
    "duration": 9,
    "start_time": "2022-01-24T15:31:51.367Z"
   },
   {
    "duration": 5,
    "start_time": "2022-01-24T15:31:51.378Z"
   },
   {
    "duration": 24,
    "start_time": "2022-01-24T15:31:51.385Z"
   },
   {
    "duration": 4,
    "start_time": "2022-01-24T15:31:51.411Z"
   },
   {
    "duration": 67,
    "start_time": "2022-01-24T15:31:51.417Z"
   },
   {
    "duration": 167,
    "start_time": "2022-01-24T15:31:51.486Z"
   },
   {
    "duration": 117,
    "start_time": "2022-01-24T15:31:51.655Z"
   },
   {
    "duration": 4,
    "start_time": "2022-01-24T15:31:51.774Z"
   },
   {
    "duration": 7,
    "start_time": "2022-01-24T15:31:51.780Z"
   },
   {
    "duration": 1882,
    "start_time": "2022-01-24T15:31:51.789Z"
   },
   {
    "duration": 3,
    "start_time": "2022-01-24T15:34:11.220Z"
   },
   {
    "duration": 1026,
    "start_time": "2022-01-24T15:34:17.395Z"
   },
   {
    "duration": 44,
    "start_time": "2022-01-24T15:34:18.423Z"
   },
   {
    "duration": 7,
    "start_time": "2022-01-24T15:34:18.469Z"
   },
   {
    "duration": 26,
    "start_time": "2022-01-24T15:34:18.479Z"
   },
   {
    "duration": 38,
    "start_time": "2022-01-24T15:34:18.506Z"
   },
   {
    "duration": 5,
    "start_time": "2022-01-24T15:34:18.545Z"
   },
   {
    "duration": 20,
    "start_time": "2022-01-24T15:34:18.560Z"
   },
   {
    "duration": 7,
    "start_time": "2022-01-24T15:34:18.582Z"
   },
   {
    "duration": 7,
    "start_time": "2022-01-24T15:34:18.591Z"
   },
   {
    "duration": 9,
    "start_time": "2022-01-24T15:34:18.599Z"
   },
   {
    "duration": 265,
    "start_time": "2022-01-24T15:34:18.610Z"
   },
   {
    "duration": 7,
    "start_time": "2022-01-24T15:34:18.877Z"
   },
   {
    "duration": 5,
    "start_time": "2022-01-24T15:34:18.886Z"
   },
   {
    "duration": 14,
    "start_time": "2022-01-24T15:34:18.892Z"
   },
   {
    "duration": 3,
    "start_time": "2022-01-24T15:34:18.908Z"
   },
   {
    "duration": 19,
    "start_time": "2022-01-24T15:34:18.914Z"
   },
   {
    "duration": 12,
    "start_time": "2022-01-24T15:34:18.935Z"
   },
   {
    "duration": 23,
    "start_time": "2022-01-24T15:34:18.961Z"
   },
   {
    "duration": 5,
    "start_time": "2022-01-24T15:34:18.986Z"
   },
   {
    "duration": 38,
    "start_time": "2022-01-24T15:34:18.993Z"
   },
   {
    "duration": 171,
    "start_time": "2022-01-24T15:34:19.034Z"
   },
   {
    "duration": 116,
    "start_time": "2022-01-24T15:34:19.207Z"
   },
   {
    "duration": 4,
    "start_time": "2022-01-24T15:34:19.327Z"
   },
   {
    "duration": 24,
    "start_time": "2022-01-24T15:34:19.333Z"
   },
   {
    "duration": 1852,
    "start_time": "2022-01-24T15:34:19.359Z"
   },
   {
    "duration": 1812,
    "start_time": "2022-01-24T15:34:54.969Z"
   },
   {
    "duration": 366,
    "start_time": "2022-01-24T15:35:26.632Z"
   },
   {
    "duration": 1048,
    "start_time": "2022-01-24T15:35:36.000Z"
   },
   {
    "duration": 32,
    "start_time": "2022-01-24T15:36:49.463Z"
   },
   {
    "duration": 502,
    "start_time": "2022-01-24T15:37:40.455Z"
   },
   {
    "duration": 25,
    "start_time": "2022-01-24T15:38:03.357Z"
   },
   {
    "duration": 25,
    "start_time": "2022-01-24T15:38:14.102Z"
   },
   {
    "duration": 4,
    "start_time": "2022-01-24T15:39:44.308Z"
   },
   {
    "duration": 18,
    "start_time": "2022-01-24T15:40:47.547Z"
   },
   {
    "duration": 1155,
    "start_time": "2022-01-24T15:40:53.928Z"
   },
   {
    "duration": 43,
    "start_time": "2022-01-24T15:40:55.085Z"
   },
   {
    "duration": 8,
    "start_time": "2022-01-24T15:40:55.130Z"
   },
   {
    "duration": 29,
    "start_time": "2022-01-24T15:40:55.140Z"
   },
   {
    "duration": 53,
    "start_time": "2022-01-24T15:40:55.170Z"
   },
   {
    "duration": 5,
    "start_time": "2022-01-24T15:40:55.225Z"
   },
   {
    "duration": 43,
    "start_time": "2022-01-24T15:40:55.232Z"
   },
   {
    "duration": 17,
    "start_time": "2022-01-24T15:40:55.277Z"
   },
   {
    "duration": 22,
    "start_time": "2022-01-24T15:40:55.297Z"
   },
   {
    "duration": 33,
    "start_time": "2022-01-24T15:40:55.321Z"
   },
   {
    "duration": 257,
    "start_time": "2022-01-24T15:40:55.356Z"
   },
   {
    "duration": 10,
    "start_time": "2022-01-24T15:40:55.615Z"
   },
   {
    "duration": 36,
    "start_time": "2022-01-24T15:40:55.627Z"
   },
   {
    "duration": 35,
    "start_time": "2022-01-24T15:40:55.665Z"
   },
   {
    "duration": 35,
    "start_time": "2022-01-24T15:40:55.702Z"
   },
   {
    "duration": 28,
    "start_time": "2022-01-24T15:40:55.739Z"
   },
   {
    "duration": 16,
    "start_time": "2022-01-24T15:40:55.769Z"
   },
   {
    "duration": 44,
    "start_time": "2022-01-24T15:40:55.787Z"
   },
   {
    "duration": 6,
    "start_time": "2022-01-24T15:40:55.833Z"
   },
   {
    "duration": 27,
    "start_time": "2022-01-24T15:40:55.841Z"
   },
   {
    "duration": 29,
    "start_time": "2022-01-24T15:40:55.870Z"
   },
   {
    "duration": 25,
    "start_time": "2022-01-24T15:40:55.901Z"
   },
   {
    "duration": 36,
    "start_time": "2022-01-24T15:40:55.928Z"
   },
   {
    "duration": 30,
    "start_time": "2022-01-24T15:40:55.967Z"
   },
   {
    "duration": 92,
    "start_time": "2022-01-24T15:40:55.999Z"
   },
   {
    "duration": 6,
    "start_time": "2022-01-24T15:40:56.093Z"
   },
   {
    "duration": 32,
    "start_time": "2022-01-24T15:40:56.102Z"
   },
   {
    "duration": 360,
    "start_time": "2022-01-24T15:42:18.181Z"
   },
   {
    "duration": 6,
    "start_time": "2022-01-24T15:42:30.676Z"
   },
   {
    "duration": 4,
    "start_time": "2022-01-24T15:43:04.404Z"
   },
   {
    "duration": 6,
    "start_time": "2022-01-24T15:43:13.868Z"
   },
   {
    "duration": 9,
    "start_time": "2022-01-24T15:43:35.060Z"
   },
   {
    "duration": 173,
    "start_time": "2022-01-24T15:44:29.828Z"
   },
   {
    "duration": 19,
    "start_time": "2022-01-24T15:45:15.595Z"
   },
   {
    "duration": 1091,
    "start_time": "2022-01-24T15:45:22.919Z"
   },
   {
    "duration": 53,
    "start_time": "2022-01-24T15:45:24.012Z"
   },
   {
    "duration": 10,
    "start_time": "2022-01-24T15:45:24.069Z"
   },
   {
    "duration": 18,
    "start_time": "2022-01-24T15:45:24.081Z"
   },
   {
    "duration": 65,
    "start_time": "2022-01-24T15:45:24.102Z"
   },
   {
    "duration": 6,
    "start_time": "2022-01-24T15:45:24.169Z"
   },
   {
    "duration": 43,
    "start_time": "2022-01-24T15:45:24.177Z"
   },
   {
    "duration": 16,
    "start_time": "2022-01-24T15:45:24.222Z"
   },
   {
    "duration": 30,
    "start_time": "2022-01-24T15:45:24.240Z"
   },
   {
    "duration": 32,
    "start_time": "2022-01-24T15:45:24.271Z"
   },
   {
    "duration": 259,
    "start_time": "2022-01-24T15:45:24.305Z"
   },
   {
    "duration": 9,
    "start_time": "2022-01-24T15:45:24.566Z"
   },
   {
    "duration": 32,
    "start_time": "2022-01-24T15:45:24.577Z"
   },
   {
    "duration": 32,
    "start_time": "2022-01-24T15:45:24.611Z"
   },
   {
    "duration": 28,
    "start_time": "2022-01-24T15:45:24.644Z"
   },
   {
    "duration": 35,
    "start_time": "2022-01-24T15:45:24.674Z"
   },
   {
    "duration": 32,
    "start_time": "2022-01-24T15:45:24.711Z"
   },
   {
    "duration": 50,
    "start_time": "2022-01-24T15:45:24.745Z"
   },
   {
    "duration": 14,
    "start_time": "2022-01-24T15:45:24.797Z"
   },
   {
    "duration": 53,
    "start_time": "2022-01-24T15:45:24.814Z"
   },
   {
    "duration": 20,
    "start_time": "2022-01-24T15:45:24.869Z"
   },
   {
    "duration": 20,
    "start_time": "2022-01-24T15:45:24.892Z"
   },
   {
    "duration": 18,
    "start_time": "2022-01-24T15:45:24.913Z"
   },
   {
    "duration": 35,
    "start_time": "2022-01-24T15:45:24.932Z"
   },
   {
    "duration": 54,
    "start_time": "2022-01-24T15:45:24.969Z"
   },
   {
    "duration": 18,
    "start_time": "2022-01-24T15:45:25.025Z"
   },
   {
    "duration": 167,
    "start_time": "2022-01-24T15:45:25.044Z"
   },
   {
    "duration": 1108,
    "start_time": "2022-01-24T15:45:46.603Z"
   },
   {
    "duration": 44,
    "start_time": "2022-01-24T15:45:47.713Z"
   },
   {
    "duration": 9,
    "start_time": "2022-01-24T15:45:47.759Z"
   },
   {
    "duration": 12,
    "start_time": "2022-01-24T15:45:47.770Z"
   },
   {
    "duration": 37,
    "start_time": "2022-01-24T15:45:47.784Z"
   },
   {
    "duration": 6,
    "start_time": "2022-01-24T15:45:47.823Z"
   },
   {
    "duration": 44,
    "start_time": "2022-01-24T15:45:47.830Z"
   },
   {
    "duration": 20,
    "start_time": "2022-01-24T15:45:47.876Z"
   },
   {
    "duration": 19,
    "start_time": "2022-01-24T15:45:47.898Z"
   },
   {
    "duration": 14,
    "start_time": "2022-01-24T15:45:47.919Z"
   },
   {
    "duration": 235,
    "start_time": "2022-01-24T15:45:47.935Z"
   },
   {
    "duration": 8,
    "start_time": "2022-01-24T15:45:48.172Z"
   },
   {
    "duration": 13,
    "start_time": "2022-01-24T15:45:48.181Z"
   },
   {
    "duration": 18,
    "start_time": "2022-01-24T15:45:48.195Z"
   },
   {
    "duration": 5,
    "start_time": "2022-01-24T15:45:48.215Z"
   },
   {
    "duration": 13,
    "start_time": "2022-01-24T15:45:48.222Z"
   },
   {
    "duration": 8,
    "start_time": "2022-01-24T15:45:48.236Z"
   },
   {
    "duration": 30,
    "start_time": "2022-01-24T15:45:48.246Z"
   },
   {
    "duration": 10,
    "start_time": "2022-01-24T15:45:48.278Z"
   },
   {
    "duration": 29,
    "start_time": "2022-01-24T15:45:48.290Z"
   },
   {
    "duration": 17,
    "start_time": "2022-01-24T15:45:48.321Z"
   },
   {
    "duration": 23,
    "start_time": "2022-01-24T15:45:48.340Z"
   },
   {
    "duration": 4,
    "start_time": "2022-01-24T15:45:48.366Z"
   },
   {
    "duration": 8,
    "start_time": "2022-01-24T15:45:48.371Z"
   },
   {
    "duration": 54,
    "start_time": "2022-01-24T15:45:48.380Z"
   },
   {
    "duration": 5,
    "start_time": "2022-01-24T15:45:48.436Z"
   },
   {
    "duration": 180,
    "start_time": "2022-01-24T15:45:48.442Z"
   },
   {
    "duration": 72,
    "start_time": "2022-01-24T15:48:48.031Z"
   },
   {
    "duration": 8,
    "start_time": "2022-01-24T15:48:50.485Z"
   },
   {
    "duration": 177,
    "start_time": "2022-01-24T15:48:52.964Z"
   },
   {
    "duration": 363,
    "start_time": "2022-01-24T15:51:38.737Z"
   },
   {
    "duration": 676,
    "start_time": "2022-01-24T15:51:50.921Z"
   },
   {
    "duration": 6518,
    "start_time": "2022-01-24T15:52:02.433Z"
   },
   {
    "duration": 6,
    "start_time": "2022-01-24T15:52:51.074Z"
   },
   {
    "duration": 166,
    "start_time": "2022-01-24T15:52:54.035Z"
   },
   {
    "duration": 1370,
    "start_time": "2022-01-24T15:53:32.752Z"
   },
   {
    "duration": 400,
    "start_time": "2022-01-24T15:53:43.449Z"
   },
   {
    "duration": 10,
    "start_time": "2022-01-24T16:03:08.505Z"
   },
   {
    "duration": 245,
    "start_time": "2022-01-24T16:04:03.618Z"
   },
   {
    "duration": 3,
    "start_time": "2022-01-24T16:04:09.225Z"
   },
   {
    "duration": 1124,
    "start_time": "2022-01-24T16:04:55.480Z"
   },
   {
    "duration": 45,
    "start_time": "2022-01-24T16:04:56.607Z"
   },
   {
    "duration": 11,
    "start_time": "2022-01-24T16:04:56.654Z"
   },
   {
    "duration": 32,
    "start_time": "2022-01-24T16:04:56.667Z"
   },
   {
    "duration": 51,
    "start_time": "2022-01-24T16:04:56.701Z"
   },
   {
    "duration": 5,
    "start_time": "2022-01-24T16:04:56.754Z"
   },
   {
    "duration": 48,
    "start_time": "2022-01-24T16:04:56.760Z"
   },
   {
    "duration": 30,
    "start_time": "2022-01-24T16:04:56.809Z"
   },
   {
    "duration": 27,
    "start_time": "2022-01-24T16:04:56.841Z"
   },
   {
    "duration": 13,
    "start_time": "2022-01-24T16:04:56.870Z"
   },
   {
    "duration": 254,
    "start_time": "2022-01-24T16:04:56.884Z"
   },
   {
    "duration": 7,
    "start_time": "2022-01-24T16:04:57.140Z"
   },
   {
    "duration": 16,
    "start_time": "2022-01-24T16:04:57.148Z"
   },
   {
    "duration": 24,
    "start_time": "2022-01-24T16:04:57.165Z"
   },
   {
    "duration": 36,
    "start_time": "2022-01-24T16:04:57.191Z"
   },
   {
    "duration": 22,
    "start_time": "2022-01-24T16:04:57.228Z"
   },
   {
    "duration": 48,
    "start_time": "2022-01-24T16:04:57.252Z"
   },
   {
    "duration": 36,
    "start_time": "2022-01-24T16:04:57.302Z"
   },
   {
    "duration": 4,
    "start_time": "2022-01-24T16:04:57.340Z"
   },
   {
    "duration": 42,
    "start_time": "2022-01-24T16:04:57.345Z"
   },
   {
    "duration": 19,
    "start_time": "2022-01-24T16:04:57.388Z"
   },
   {
    "duration": 24,
    "start_time": "2022-01-24T16:04:57.408Z"
   },
   {
    "duration": 12,
    "start_time": "2022-01-24T16:04:57.434Z"
   },
   {
    "duration": 29,
    "start_time": "2022-01-24T16:04:57.448Z"
   },
   {
    "duration": 410,
    "start_time": "2022-01-24T16:04:57.479Z"
   },
   {
    "duration": 6,
    "start_time": "2022-01-24T16:04:57.891Z"
   },
   {
    "duration": 177,
    "start_time": "2022-01-24T16:04:57.901Z"
   },
   {
    "duration": 834,
    "start_time": "2022-01-24T16:04:58.081Z"
   },
   {
    "duration": 97,
    "start_time": "2022-01-24T16:05:44.170Z"
   },
   {
    "duration": 19,
    "start_time": "2022-01-24T17:36:00.736Z"
   },
   {
    "duration": 5,
    "start_time": "2022-01-24T17:36:07.323Z"
   },
   {
    "duration": 19,
    "start_time": "2022-01-24T17:36:11.136Z"
   },
   {
    "duration": 1086,
    "start_time": "2022-01-24T17:36:27.829Z"
   },
   {
    "duration": 46,
    "start_time": "2022-01-24T17:36:28.918Z"
   },
   {
    "duration": 9,
    "start_time": "2022-01-24T17:36:28.966Z"
   },
   {
    "duration": 43,
    "start_time": "2022-01-24T17:36:28.977Z"
   },
   {
    "duration": 73,
    "start_time": "2022-01-24T17:36:29.022Z"
   },
   {
    "duration": 6,
    "start_time": "2022-01-24T17:36:29.097Z"
   },
   {
    "duration": 47,
    "start_time": "2022-01-24T17:36:29.105Z"
   },
   {
    "duration": 12,
    "start_time": "2022-01-24T17:36:29.154Z"
   },
   {
    "duration": 22,
    "start_time": "2022-01-24T17:36:29.169Z"
   },
   {
    "duration": 18,
    "start_time": "2022-01-24T17:36:29.193Z"
   },
   {
    "duration": 317,
    "start_time": "2022-01-24T17:36:29.212Z"
   },
   {
    "duration": 8,
    "start_time": "2022-01-24T17:36:29.531Z"
   },
   {
    "duration": 22,
    "start_time": "2022-01-24T17:36:29.541Z"
   },
   {
    "duration": 25,
    "start_time": "2022-01-24T17:36:29.565Z"
   },
   {
    "duration": 8,
    "start_time": "2022-01-24T17:36:29.592Z"
   },
   {
    "duration": 19,
    "start_time": "2022-01-24T17:36:29.601Z"
   },
   {
    "duration": 79,
    "start_time": "2022-01-24T17:36:29.622Z"
   },
   {
    "duration": 39,
    "start_time": "2022-01-24T17:36:29.703Z"
   },
   {
    "duration": 20,
    "start_time": "2022-01-24T17:36:29.744Z"
   },
   {
    "duration": 36,
    "start_time": "2022-01-24T17:36:29.766Z"
   },
   {
    "duration": 18,
    "start_time": "2022-01-24T17:36:29.804Z"
   },
   {
    "duration": 27,
    "start_time": "2022-01-24T17:36:29.824Z"
   },
   {
    "duration": 11,
    "start_time": "2022-01-24T17:36:29.853Z"
   },
   {
    "duration": 24,
    "start_time": "2022-01-24T17:36:29.865Z"
   },
   {
    "duration": 459,
    "start_time": "2022-01-24T17:36:29.890Z"
   },
   {
    "duration": 14,
    "start_time": "2022-01-24T17:36:30.351Z"
   },
   {
    "duration": 187,
    "start_time": "2022-01-24T17:36:30.369Z"
   },
   {
    "duration": 856,
    "start_time": "2022-01-24T17:36:30.558Z"
   },
   {
    "duration": 153,
    "start_time": "2022-01-24T17:36:31.416Z"
   },
   {
    "duration": 1130,
    "start_time": "2022-01-24T17:37:41.134Z"
   },
   {
    "duration": 43,
    "start_time": "2022-01-24T17:37:42.266Z"
   },
   {
    "duration": 7,
    "start_time": "2022-01-24T17:37:42.312Z"
   },
   {
    "duration": 25,
    "start_time": "2022-01-24T17:37:42.321Z"
   },
   {
    "duration": 56,
    "start_time": "2022-01-24T17:37:42.348Z"
   },
   {
    "duration": 4,
    "start_time": "2022-01-24T17:37:42.406Z"
   },
   {
    "duration": 32,
    "start_time": "2022-01-24T17:37:42.412Z"
   },
   {
    "duration": 6,
    "start_time": "2022-01-24T17:37:42.447Z"
   },
   {
    "duration": 35,
    "start_time": "2022-01-24T17:37:42.456Z"
   },
   {
    "duration": 32,
    "start_time": "2022-01-24T17:37:42.493Z"
   },
   {
    "duration": 253,
    "start_time": "2022-01-24T17:37:42.527Z"
   },
   {
    "duration": 7,
    "start_time": "2022-01-24T17:37:42.782Z"
   },
   {
    "duration": 17,
    "start_time": "2022-01-24T17:37:42.791Z"
   },
   {
    "duration": 30,
    "start_time": "2022-01-24T17:37:42.810Z"
   },
   {
    "duration": 11,
    "start_time": "2022-01-24T17:37:42.842Z"
   },
   {
    "duration": 30,
    "start_time": "2022-01-24T17:37:42.855Z"
   },
   {
    "duration": 23,
    "start_time": "2022-01-24T17:37:42.887Z"
   },
   {
    "duration": 33,
    "start_time": "2022-01-24T17:37:42.912Z"
   },
   {
    "duration": 3,
    "start_time": "2022-01-24T17:37:42.947Z"
   },
   {
    "duration": 38,
    "start_time": "2022-01-24T17:37:42.952Z"
   },
   {
    "duration": 180,
    "start_time": "2022-01-24T17:37:42.992Z"
   },
   {
    "duration": 116,
    "start_time": "2022-01-24T17:37:43.174Z"
   },
   {
    "duration": 4,
    "start_time": "2022-01-24T17:37:43.293Z"
   },
   {
    "duration": 24,
    "start_time": "2022-01-24T17:37:43.299Z"
   },
   {
    "duration": 5117,
    "start_time": "2022-01-24T17:37:43.325Z"
   },
   {
    "duration": 31,
    "start_time": "2022-01-24T17:37:48.444Z"
   },
   {
    "duration": 154,
    "start_time": "2022-01-24T17:37:48.477Z"
   },
   {
    "duration": 5168,
    "start_time": "2022-01-24T17:37:48.633Z"
   },
   {
    "duration": 362,
    "start_time": "2022-01-24T17:37:53.803Z"
   },
   {
    "duration": 1125,
    "start_time": "2022-01-24T17:39:15.176Z"
   },
   {
    "duration": 42,
    "start_time": "2022-01-24T17:39:16.304Z"
   },
   {
    "duration": 12,
    "start_time": "2022-01-24T17:39:16.348Z"
   },
   {
    "duration": 28,
    "start_time": "2022-01-24T17:39:16.362Z"
   },
   {
    "duration": 43,
    "start_time": "2022-01-24T17:39:16.391Z"
   },
   {
    "duration": 4,
    "start_time": "2022-01-24T17:39:16.436Z"
   },
   {
    "duration": 46,
    "start_time": "2022-01-24T17:39:16.442Z"
   },
   {
    "duration": 6,
    "start_time": "2022-01-24T17:39:16.491Z"
   },
   {
    "duration": 26,
    "start_time": "2022-01-24T17:39:16.499Z"
   },
   {
    "duration": 34,
    "start_time": "2022-01-24T17:39:16.527Z"
   },
   {
    "duration": 343,
    "start_time": "2022-01-24T17:39:16.563Z"
   },
   {
    "duration": 9,
    "start_time": "2022-01-24T17:39:16.908Z"
   },
   {
    "duration": 8,
    "start_time": "2022-01-24T17:39:16.919Z"
   },
   {
    "duration": 12,
    "start_time": "2022-01-24T17:39:16.929Z"
   },
   {
    "duration": 22,
    "start_time": "2022-01-24T17:39:16.942Z"
   },
   {
    "duration": 17,
    "start_time": "2022-01-24T17:39:16.966Z"
   },
   {
    "duration": 5,
    "start_time": "2022-01-24T17:39:16.985Z"
   },
   {
    "duration": 31,
    "start_time": "2022-01-24T17:39:16.991Z"
   },
   {
    "duration": 4,
    "start_time": "2022-01-24T17:39:17.023Z"
   },
   {
    "duration": 39,
    "start_time": "2022-01-24T17:39:17.029Z"
   },
   {
    "duration": 186,
    "start_time": "2022-01-24T17:39:17.069Z"
   },
   {
    "duration": 121,
    "start_time": "2022-01-24T17:39:17.257Z"
   },
   {
    "duration": 4,
    "start_time": "2022-01-24T17:39:17.381Z"
   },
   {
    "duration": 6,
    "start_time": "2022-01-24T17:39:17.386Z"
   },
   {
    "duration": 5366,
    "start_time": "2022-01-24T17:39:17.394Z"
   },
   {
    "duration": 29,
    "start_time": "2022-01-24T17:39:22.762Z"
   },
   {
    "duration": 155,
    "start_time": "2022-01-24T17:39:22.792Z"
   },
   {
    "duration": 5345,
    "start_time": "2022-01-24T17:39:22.948Z"
   },
   {
    "duration": 368,
    "start_time": "2022-01-24T17:39:28.295Z"
   },
   {
    "duration": 3,
    "start_time": "2022-01-24T17:44:08.795Z"
   },
   {
    "duration": 1306,
    "start_time": "2022-01-24T17:45:57.945Z"
   },
   {
    "duration": 60,
    "start_time": "2022-01-24T17:45:59.253Z"
   },
   {
    "duration": 10,
    "start_time": "2022-01-24T17:45:59.316Z"
   },
   {
    "duration": 31,
    "start_time": "2022-01-24T17:45:59.328Z"
   },
   {
    "duration": 56,
    "start_time": "2022-01-24T17:45:59.362Z"
   },
   {
    "duration": 4,
    "start_time": "2022-01-24T17:45:59.420Z"
   },
   {
    "duration": 31,
    "start_time": "2022-01-24T17:45:59.425Z"
   },
   {
    "duration": 6,
    "start_time": "2022-01-24T17:45:59.458Z"
   },
   {
    "duration": 3,
    "start_time": "2022-01-24T17:45:59.466Z"
   },
   {
    "duration": 9,
    "start_time": "2022-01-24T17:45:59.471Z"
   },
   {
    "duration": 311,
    "start_time": "2022-01-24T17:45:59.482Z"
   },
   {
    "duration": 7,
    "start_time": "2022-01-24T17:45:59.795Z"
   },
   {
    "duration": 7,
    "start_time": "2022-01-24T17:45:59.803Z"
   },
   {
    "duration": 17,
    "start_time": "2022-01-24T17:45:59.812Z"
   },
   {
    "duration": 10,
    "start_time": "2022-01-24T17:45:59.831Z"
   },
   {
    "duration": 24,
    "start_time": "2022-01-24T17:45:59.842Z"
   },
   {
    "duration": 20,
    "start_time": "2022-01-24T17:45:59.868Z"
   },
   {
    "duration": 25,
    "start_time": "2022-01-24T17:45:59.889Z"
   },
   {
    "duration": 6,
    "start_time": "2022-01-24T17:45:59.915Z"
   },
   {
    "duration": 34,
    "start_time": "2022-01-24T17:45:59.923Z"
   },
   {
    "duration": 224,
    "start_time": "2022-01-24T17:45:59.961Z"
   },
   {
    "duration": 162,
    "start_time": "2022-01-24T17:46:00.188Z"
   },
   {
    "duration": 3,
    "start_time": "2022-01-24T17:46:00.354Z"
   },
   {
    "duration": 26,
    "start_time": "2022-01-24T17:46:00.361Z"
   },
   {
    "duration": 5320,
    "start_time": "2022-01-24T17:46:00.388Z"
   },
   {
    "duration": 26,
    "start_time": "2022-01-24T17:46:05.711Z"
   },
   {
    "duration": 148,
    "start_time": "2022-01-24T17:46:05.739Z"
   },
   {
    "duration": 5211,
    "start_time": "2022-01-24T17:46:05.889Z"
   },
   {
    "duration": 361,
    "start_time": "2022-01-24T17:46:11.102Z"
   },
   {
    "duration": 1220,
    "start_time": "2022-01-24T17:50:09.132Z"
   },
   {
    "duration": 45,
    "start_time": "2022-01-24T17:50:10.354Z"
   },
   {
    "duration": 8,
    "start_time": "2022-01-24T17:50:10.401Z"
   },
   {
    "duration": 25,
    "start_time": "2022-01-24T17:50:10.411Z"
   },
   {
    "duration": 49,
    "start_time": "2022-01-24T17:50:10.438Z"
   },
   {
    "duration": 5,
    "start_time": "2022-01-24T17:50:10.489Z"
   },
   {
    "duration": 23,
    "start_time": "2022-01-24T17:50:10.496Z"
   },
   {
    "duration": 18,
    "start_time": "2022-01-24T17:50:10.521Z"
   },
   {
    "duration": 25,
    "start_time": "2022-01-24T17:50:10.541Z"
   },
   {
    "duration": 16,
    "start_time": "2022-01-24T17:50:10.568Z"
   },
   {
    "duration": 265,
    "start_time": "2022-01-24T17:50:10.586Z"
   },
   {
    "duration": 7,
    "start_time": "2022-01-24T17:50:10.861Z"
   },
   {
    "duration": 36,
    "start_time": "2022-01-24T17:50:10.870Z"
   },
   {
    "duration": 35,
    "start_time": "2022-01-24T17:50:10.908Z"
   },
   {
    "duration": 28,
    "start_time": "2022-01-24T17:50:10.944Z"
   },
   {
    "duration": 29,
    "start_time": "2022-01-24T17:50:10.974Z"
   },
   {
    "duration": 34,
    "start_time": "2022-01-24T17:50:11.005Z"
   },
   {
    "duration": 40,
    "start_time": "2022-01-24T17:50:11.041Z"
   },
   {
    "duration": 12,
    "start_time": "2022-01-24T17:50:11.083Z"
   },
   {
    "duration": 46,
    "start_time": "2022-01-24T17:50:11.097Z"
   },
   {
    "duration": 191,
    "start_time": "2022-01-24T17:50:11.145Z"
   },
   {
    "duration": 139,
    "start_time": "2022-01-24T17:50:11.338Z"
   },
   {
    "duration": 4,
    "start_time": "2022-01-24T17:50:11.478Z"
   },
   {
    "duration": 27,
    "start_time": "2022-01-24T17:50:11.484Z"
   },
   {
    "duration": 5291,
    "start_time": "2022-01-24T17:50:11.513Z"
   },
   {
    "duration": 147,
    "start_time": "2022-01-24T17:50:16.806Z"
   },
   {
    "duration": 5037,
    "start_time": "2022-01-24T17:50:16.960Z"
   },
   {
    "duration": 361,
    "start_time": "2022-01-24T17:50:21.999Z"
   },
   {
    "duration": 477,
    "start_time": "2022-01-24T17:51:24.117Z"
   },
   {
    "duration": 762,
    "start_time": "2022-01-24T17:52:27.756Z"
   },
   {
    "duration": 355,
    "start_time": "2022-01-24T17:53:35.907Z"
   },
   {
    "duration": 1080,
    "start_time": "2022-01-24T17:53:57.829Z"
   },
   {
    "duration": 44,
    "start_time": "2022-01-24T17:53:58.911Z"
   },
   {
    "duration": 8,
    "start_time": "2022-01-24T17:53:58.957Z"
   },
   {
    "duration": 14,
    "start_time": "2022-01-24T17:53:58.967Z"
   },
   {
    "duration": 38,
    "start_time": "2022-01-24T17:53:58.982Z"
   },
   {
    "duration": 5,
    "start_time": "2022-01-24T17:53:59.022Z"
   },
   {
    "duration": 43,
    "start_time": "2022-01-24T17:53:59.029Z"
   },
   {
    "duration": 6,
    "start_time": "2022-01-24T17:53:59.074Z"
   },
   {
    "duration": 4,
    "start_time": "2022-01-24T17:53:59.083Z"
   },
   {
    "duration": 9,
    "start_time": "2022-01-24T17:53:59.090Z"
   },
   {
    "duration": 244,
    "start_time": "2022-01-24T17:53:59.101Z"
   },
   {
    "duration": 14,
    "start_time": "2022-01-24T17:53:59.347Z"
   },
   {
    "duration": 20,
    "start_time": "2022-01-24T17:53:59.363Z"
   },
   {
    "duration": 17,
    "start_time": "2022-01-24T17:53:59.384Z"
   },
   {
    "duration": 18,
    "start_time": "2022-01-24T17:53:59.403Z"
   },
   {
    "duration": 20,
    "start_time": "2022-01-24T17:53:59.422Z"
   },
   {
    "duration": 15,
    "start_time": "2022-01-24T17:53:59.444Z"
   },
   {
    "duration": 42,
    "start_time": "2022-01-24T17:53:59.461Z"
   },
   {
    "duration": 6,
    "start_time": "2022-01-24T17:53:59.506Z"
   },
   {
    "duration": 28,
    "start_time": "2022-01-24T17:53:59.514Z"
   },
   {
    "duration": 184,
    "start_time": "2022-01-24T17:53:59.545Z"
   },
   {
    "duration": 137,
    "start_time": "2022-01-24T17:53:59.730Z"
   },
   {
    "duration": 4,
    "start_time": "2022-01-24T17:53:59.869Z"
   },
   {
    "duration": 24,
    "start_time": "2022-01-24T17:53:59.875Z"
   },
   {
    "duration": 5418,
    "start_time": "2022-01-24T17:53:59.901Z"
   },
   {
    "duration": 145,
    "start_time": "2022-01-24T17:54:05.322Z"
   },
   {
    "duration": 499,
    "start_time": "2022-01-24T17:54:05.470Z"
   },
   {
    "duration": -83,
    "start_time": "2022-01-24T17:54:06.055Z"
   },
   {
    "duration": 343,
    "start_time": "2022-01-24T17:54:15.122Z"
   },
   {
    "duration": 1165,
    "start_time": "2022-01-24T17:55:31.454Z"
   },
   {
    "duration": 47,
    "start_time": "2022-01-24T17:55:32.621Z"
   },
   {
    "duration": 10,
    "start_time": "2022-01-24T17:55:32.672Z"
   },
   {
    "duration": 13,
    "start_time": "2022-01-24T17:55:32.684Z"
   },
   {
    "duration": 70,
    "start_time": "2022-01-24T17:55:32.699Z"
   },
   {
    "duration": 6,
    "start_time": "2022-01-24T17:55:32.771Z"
   },
   {
    "duration": 31,
    "start_time": "2022-01-24T17:55:32.779Z"
   },
   {
    "duration": 8,
    "start_time": "2022-01-24T17:55:32.814Z"
   },
   {
    "duration": 4,
    "start_time": "2022-01-24T17:55:32.825Z"
   },
   {
    "duration": 32,
    "start_time": "2022-01-24T17:55:32.831Z"
   },
   {
    "duration": 268,
    "start_time": "2022-01-24T17:55:32.865Z"
   },
   {
    "duration": 8,
    "start_time": "2022-01-24T17:55:33.135Z"
   },
   {
    "duration": 5,
    "start_time": "2022-01-24T17:55:33.145Z"
   },
   {
    "duration": 15,
    "start_time": "2022-01-24T17:55:33.152Z"
   },
   {
    "duration": 4,
    "start_time": "2022-01-24T17:55:33.169Z"
   },
   {
    "duration": 6,
    "start_time": "2022-01-24T17:55:33.174Z"
   },
   {
    "duration": 6,
    "start_time": "2022-01-24T17:55:33.182Z"
   },
   {
    "duration": 34,
    "start_time": "2022-01-24T17:55:33.190Z"
   },
   {
    "duration": 37,
    "start_time": "2022-01-24T17:55:33.227Z"
   },
   {
    "duration": 25,
    "start_time": "2022-01-24T17:55:33.266Z"
   },
   {
    "duration": 199,
    "start_time": "2022-01-24T17:55:33.293Z"
   },
   {
    "duration": 135,
    "start_time": "2022-01-24T17:55:33.494Z"
   },
   {
    "duration": 3,
    "start_time": "2022-01-24T17:55:33.631Z"
   },
   {
    "duration": 9,
    "start_time": "2022-01-24T17:55:33.636Z"
   },
   {
    "duration": 5607,
    "start_time": "2022-01-24T17:55:33.647Z"
   },
   {
    "duration": 143,
    "start_time": "2022-01-24T17:55:39.261Z"
   },
   {
    "duration": 5480,
    "start_time": "2022-01-24T17:55:39.406Z"
   },
   {
    "duration": 383,
    "start_time": "2022-01-24T17:55:44.888Z"
   },
   {
    "duration": 1493,
    "start_time": "2022-01-25T17:26:50.583Z"
   },
   {
    "duration": 62,
    "start_time": "2022-01-25T17:26:52.079Z"
   },
   {
    "duration": 12,
    "start_time": "2022-01-25T17:26:52.147Z"
   },
   {
    "duration": 16,
    "start_time": "2022-01-25T17:26:52.162Z"
   },
   {
    "duration": 65,
    "start_time": "2022-01-25T17:26:52.180Z"
   },
   {
    "duration": 5,
    "start_time": "2022-01-25T17:26:52.247Z"
   },
   {
    "duration": 25,
    "start_time": "2022-01-25T17:26:52.255Z"
   },
   {
    "duration": 31,
    "start_time": "2022-01-25T17:26:52.282Z"
   },
   {
    "duration": 5,
    "start_time": "2022-01-25T17:26:52.315Z"
   },
   {
    "duration": 10,
    "start_time": "2022-01-25T17:26:52.322Z"
   },
   {
    "duration": 299,
    "start_time": "2022-01-25T17:26:52.334Z"
   },
   {
    "duration": 10,
    "start_time": "2022-01-25T17:26:52.636Z"
   },
   {
    "duration": 7,
    "start_time": "2022-01-25T17:26:52.648Z"
   },
   {
    "duration": 17,
    "start_time": "2022-01-25T17:26:52.656Z"
   },
   {
    "duration": 33,
    "start_time": "2022-01-25T17:26:52.675Z"
   },
   {
    "duration": 5,
    "start_time": "2022-01-25T17:26:52.711Z"
   },
   {
    "duration": 7,
    "start_time": "2022-01-25T17:26:52.718Z"
   },
   {
    "duration": 25,
    "start_time": "2022-01-25T17:26:52.728Z"
   },
   {
    "duration": 5,
    "start_time": "2022-01-25T17:26:52.756Z"
   },
   {
    "duration": 62,
    "start_time": "2022-01-25T17:26:52.764Z"
   },
   {
    "duration": 215,
    "start_time": "2022-01-25T17:26:52.829Z"
   },
   {
    "duration": 139,
    "start_time": "2022-01-25T17:26:53.048Z"
   },
   {
    "duration": 5,
    "start_time": "2022-01-25T17:26:53.189Z"
   },
   {
    "duration": 15,
    "start_time": "2022-01-25T17:26:53.195Z"
   },
   {
    "duration": 5619,
    "start_time": "2022-01-25T17:26:53.211Z"
   },
   {
    "duration": 165,
    "start_time": "2022-01-25T17:26:58.832Z"
   },
   {
    "duration": 5344,
    "start_time": "2022-01-25T17:26:58.999Z"
   },
   {
    "duration": 464,
    "start_time": "2022-01-25T17:27:04.345Z"
   },
   {
    "duration": 10,
    "start_time": "2022-01-25T17:29:27.241Z"
   },
   {
    "duration": 35031,
    "start_time": "2022-01-25T17:29:57.309Z"
   },
   {
    "duration": 9,
    "start_time": "2022-01-25T17:31:08.859Z"
   },
   {
    "duration": 6,
    "start_time": "2022-01-25T17:32:51.362Z"
   },
   {
    "duration": 1218,
    "start_time": "2022-01-25T17:32:59.849Z"
   },
   {
    "duration": 51,
    "start_time": "2022-01-25T17:33:01.069Z"
   },
   {
    "duration": 10,
    "start_time": "2022-01-25T17:33:01.125Z"
   },
   {
    "duration": 21,
    "start_time": "2022-01-25T17:33:01.137Z"
   },
   {
    "duration": 38,
    "start_time": "2022-01-25T17:33:01.159Z"
   },
   {
    "duration": 64,
    "start_time": "2022-01-25T17:33:01.199Z"
   },
   {
    "duration": 18,
    "start_time": "2022-01-25T17:33:01.265Z"
   },
   {
    "duration": 35,
    "start_time": "2022-01-25T17:33:01.286Z"
   },
   {
    "duration": 14,
    "start_time": "2022-01-25T17:33:01.324Z"
   },
   {
    "duration": 54,
    "start_time": "2022-01-25T17:33:01.340Z"
   },
   {
    "duration": 30,
    "start_time": "2022-01-25T17:33:01.396Z"
   },
   {
    "duration": 315,
    "start_time": "2022-01-25T17:33:01.428Z"
   },
   {
    "duration": 7,
    "start_time": "2022-01-25T17:33:01.745Z"
   },
   {
    "duration": 19,
    "start_time": "2022-01-25T17:33:01.754Z"
   },
   {
    "duration": 20,
    "start_time": "2022-01-25T17:33:01.775Z"
   },
   {
    "duration": 11,
    "start_time": "2022-01-25T17:33:01.797Z"
   },
   {
    "duration": 24,
    "start_time": "2022-01-25T17:33:01.810Z"
   },
   {
    "duration": 14,
    "start_time": "2022-01-25T17:33:01.836Z"
   },
   {
    "duration": 47,
    "start_time": "2022-01-25T17:33:01.852Z"
   },
   {
    "duration": 9,
    "start_time": "2022-01-25T17:33:01.902Z"
   },
   {
    "duration": 36,
    "start_time": "2022-01-25T17:33:01.913Z"
   },
   {
    "duration": 216,
    "start_time": "2022-01-25T17:33:01.951Z"
   },
   {
    "duration": 148,
    "start_time": "2022-01-25T17:33:02.169Z"
   },
   {
    "duration": 5,
    "start_time": "2022-01-25T17:33:02.319Z"
   },
   {
    "duration": 30,
    "start_time": "2022-01-25T17:33:02.327Z"
   },
   {
    "duration": 5498,
    "start_time": "2022-01-25T17:33:02.362Z"
   },
   {
    "duration": 166,
    "start_time": "2022-01-25T17:33:07.862Z"
   },
   {
    "duration": 5250,
    "start_time": "2022-01-25T17:33:08.030Z"
   },
   {
    "duration": 334,
    "start_time": "2022-01-25T17:33:13.282Z"
   },
   {
    "duration": 8,
    "start_time": "2022-01-25T17:42:34.801Z"
   },
   {
    "duration": 141,
    "start_time": "2022-01-25T17:42:55.779Z"
   },
   {
    "duration": 146,
    "start_time": "2022-01-25T17:43:24.922Z"
   },
   {
    "duration": 154,
    "start_time": "2022-01-25T17:44:00.763Z"
   },
   {
    "duration": 16,
    "start_time": "2022-01-25T17:52:18.925Z"
   },
   {
    "duration": 10,
    "start_time": "2022-01-25T17:52:27.130Z"
   },
   {
    "duration": 9,
    "start_time": "2022-01-25T17:52:34.690Z"
   },
   {
    "duration": 9,
    "start_time": "2022-01-25T17:52:36.041Z"
   },
   {
    "duration": 1164,
    "start_time": "2022-01-25T17:52:42.450Z"
   },
   {
    "duration": 52,
    "start_time": "2022-01-25T17:52:43.616Z"
   },
   {
    "duration": 11,
    "start_time": "2022-01-25T17:52:43.672Z"
   },
   {
    "duration": 22,
    "start_time": "2022-01-25T17:52:43.686Z"
   },
   {
    "duration": 14,
    "start_time": "2022-01-25T17:52:43.710Z"
   },
   {
    "duration": 43,
    "start_time": "2022-01-25T17:52:43.727Z"
   },
   {
    "duration": 247,
    "start_time": "2022-01-25T17:52:43.772Z"
   },
   {
    "duration": 155,
    "start_time": "2022-01-25T17:52:44.021Z"
   },
   {
    "duration": 31,
    "start_time": "2022-01-25T17:52:44.178Z"
   },
   {
    "duration": 7,
    "start_time": "2022-01-25T17:52:44.211Z"
   },
   {
    "duration": 13,
    "start_time": "2022-01-25T17:52:44.220Z"
   },
   {
    "duration": 16,
    "start_time": "2022-01-25T17:52:44.235Z"
   },
   {
    "duration": 197,
    "start_time": "2022-01-25T17:52:44.253Z"
   },
   {
    "duration": 9,
    "start_time": "2022-01-25T17:52:44.452Z"
   },
   {
    "duration": 5,
    "start_time": "2022-01-25T17:52:44.463Z"
   },
   {
    "duration": 16,
    "start_time": "2022-01-25T17:52:44.470Z"
   },
   {
    "duration": 4,
    "start_time": "2022-01-25T17:52:44.508Z"
   },
   {
    "duration": 8,
    "start_time": "2022-01-25T17:52:44.514Z"
   },
   {
    "duration": 5,
    "start_time": "2022-01-25T17:52:44.524Z"
   },
   {
    "duration": 27,
    "start_time": "2022-01-25T17:52:44.531Z"
   },
   {
    "duration": 4,
    "start_time": "2022-01-25T17:52:44.560Z"
   },
   {
    "duration": 64,
    "start_time": "2022-01-25T17:52:44.566Z"
   },
   {
    "duration": 212,
    "start_time": "2022-01-25T17:52:44.633Z"
   },
   {
    "duration": 137,
    "start_time": "2022-01-25T17:52:44.847Z"
   },
   {
    "duration": 4,
    "start_time": "2022-01-25T17:52:44.986Z"
   },
   {
    "duration": 23,
    "start_time": "2022-01-25T17:52:44.991Z"
   },
   {
    "duration": 5382,
    "start_time": "2022-01-25T17:52:45.017Z"
   },
   {
    "duration": 168,
    "start_time": "2022-01-25T17:52:50.401Z"
   },
   {
    "duration": 5507,
    "start_time": "2022-01-25T17:52:50.571Z"
   },
   {
    "duration": 331,
    "start_time": "2022-01-25T17:52:56.081Z"
   },
   {
    "duration": 5,
    "start_time": "2022-01-25T17:53:00.800Z"
   },
   {
    "duration": 10,
    "start_time": "2022-01-25T17:53:08.839Z"
   },
   {
    "duration": 1174,
    "start_time": "2022-01-25T17:53:17.004Z"
   },
   {
    "duration": 48,
    "start_time": "2022-01-25T17:53:18.180Z"
   },
   {
    "duration": 9,
    "start_time": "2022-01-25T17:53:18.231Z"
   },
   {
    "duration": 18,
    "start_time": "2022-01-25T17:53:18.243Z"
   },
   {
    "duration": 26,
    "start_time": "2022-01-25T17:53:18.262Z"
   },
   {
    "duration": 47,
    "start_time": "2022-01-25T17:53:18.290Z"
   },
   {
    "duration": 268,
    "start_time": "2022-01-25T17:53:18.339Z"
   },
   {
    "duration": 211,
    "start_time": "2022-01-25T17:53:18.611Z"
   },
   {
    "duration": 38,
    "start_time": "2022-01-25T17:53:18.825Z"
   },
   {
    "duration": 9,
    "start_time": "2022-01-25T17:53:18.865Z"
   },
   {
    "duration": 42,
    "start_time": "2022-01-25T17:53:18.876Z"
   },
   {
    "duration": 22,
    "start_time": "2022-01-25T17:53:18.921Z"
   },
   {
    "duration": 199,
    "start_time": "2022-01-25T17:53:18.945Z"
   },
   {
    "duration": 8,
    "start_time": "2022-01-25T17:53:19.147Z"
   },
   {
    "duration": 9,
    "start_time": "2022-01-25T17:53:19.157Z"
   },
   {
    "duration": 15,
    "start_time": "2022-01-25T17:53:19.168Z"
   },
   {
    "duration": 26,
    "start_time": "2022-01-25T17:53:19.185Z"
   },
   {
    "duration": 16,
    "start_time": "2022-01-25T17:53:19.214Z"
   },
   {
    "duration": 22,
    "start_time": "2022-01-25T17:53:19.232Z"
   },
   {
    "duration": 58,
    "start_time": "2022-01-25T17:53:19.256Z"
   },
   {
    "duration": 4,
    "start_time": "2022-01-25T17:53:19.316Z"
   },
   {
    "duration": 35,
    "start_time": "2022-01-25T17:53:19.322Z"
   },
   {
    "duration": 216,
    "start_time": "2022-01-25T17:53:19.360Z"
   },
   {
    "duration": 150,
    "start_time": "2022-01-25T17:53:19.578Z"
   },
   {
    "duration": 4,
    "start_time": "2022-01-25T17:53:19.730Z"
   },
   {
    "duration": 19,
    "start_time": "2022-01-25T17:53:19.736Z"
   },
   {
    "duration": 5350,
    "start_time": "2022-01-25T17:53:19.758Z"
   },
   {
    "duration": 153,
    "start_time": "2022-01-25T17:53:25.110Z"
   },
   {
    "duration": 5387,
    "start_time": "2022-01-25T17:53:25.265Z"
   },
   {
    "duration": 453,
    "start_time": "2022-01-25T17:53:30.655Z"
   },
   {
    "duration": 17,
    "start_time": "2022-01-25T17:53:40.692Z"
   },
   {
    "duration": 1231,
    "start_time": "2022-01-25T17:56:43.994Z"
   },
   {
    "duration": 54,
    "start_time": "2022-01-25T17:56:45.227Z"
   },
   {
    "duration": 24,
    "start_time": "2022-01-25T17:56:45.288Z"
   },
   {
    "duration": 6,
    "start_time": "2022-01-25T17:56:45.314Z"
   },
   {
    "duration": 15,
    "start_time": "2022-01-25T17:56:45.322Z"
   },
   {
    "duration": 70,
    "start_time": "2022-01-25T17:56:45.340Z"
   },
   {
    "duration": 243,
    "start_time": "2022-01-25T17:56:45.414Z"
   },
   {
    "duration": 167,
    "start_time": "2022-01-25T17:56:45.660Z"
   },
   {
    "duration": 23,
    "start_time": "2022-01-25T17:56:45.829Z"
   },
   {
    "duration": 15,
    "start_time": "2022-01-25T17:56:45.854Z"
   },
   {
    "duration": 11651,
    "start_time": "2022-01-25T17:56:45.871Z"
   },
   {
    "duration": -369,
    "start_time": "2022-01-25T17:56:57.895Z"
   },
   {
    "duration": -392,
    "start_time": "2022-01-25T17:56:57.918Z"
   },
   {
    "duration": -426,
    "start_time": "2022-01-25T17:56:57.953Z"
   },
   {
    "duration": -449,
    "start_time": "2022-01-25T17:56:57.977Z"
   },
   {
    "duration": -454,
    "start_time": "2022-01-25T17:56:57.983Z"
   },
   {
    "duration": -456,
    "start_time": "2022-01-25T17:56:57.986Z"
   },
   {
    "duration": -456,
    "start_time": "2022-01-25T17:56:57.988Z"
   },
   {
    "duration": -459,
    "start_time": "2022-01-25T17:56:57.991Z"
   },
   {
    "duration": -461,
    "start_time": "2022-01-25T17:56:57.994Z"
   },
   {
    "duration": -470,
    "start_time": "2022-01-25T17:56:58.005Z"
   },
   {
    "duration": -473,
    "start_time": "2022-01-25T17:56:58.009Z"
   },
   {
    "duration": -477,
    "start_time": "2022-01-25T17:56:58.014Z"
   },
   {
    "duration": -482,
    "start_time": "2022-01-25T17:56:58.020Z"
   },
   {
    "duration": -483,
    "start_time": "2022-01-25T17:56:58.022Z"
   },
   {
    "duration": -485,
    "start_time": "2022-01-25T17:56:58.025Z"
   },
   {
    "duration": -486,
    "start_time": "2022-01-25T17:56:58.027Z"
   },
   {
    "duration": -488,
    "start_time": "2022-01-25T17:56:58.030Z"
   },
   {
    "duration": -490,
    "start_time": "2022-01-25T17:56:58.033Z"
   },
   {
    "duration": -492,
    "start_time": "2022-01-25T17:56:58.036Z"
   },
   {
    "duration": -493,
    "start_time": "2022-01-25T17:56:58.038Z"
   },
   {
    "duration": -495,
    "start_time": "2022-01-25T17:56:58.041Z"
   },
   {
    "duration": 28131,
    "start_time": "2022-01-25T17:59:02.800Z"
   },
   {
    "duration": 6,
    "start_time": "2022-01-25T18:00:26.191Z"
   },
   {
    "duration": 1406,
    "start_time": "2022-01-25T18:00:35.370Z"
   },
   {
    "duration": 49,
    "start_time": "2022-01-25T18:00:36.778Z"
   },
   {
    "duration": 10,
    "start_time": "2022-01-25T18:00:36.830Z"
   },
   {
    "duration": 12,
    "start_time": "2022-01-25T18:00:36.842Z"
   },
   {
    "duration": 30,
    "start_time": "2022-01-25T18:00:36.855Z"
   },
   {
    "duration": 53,
    "start_time": "2022-01-25T18:00:36.887Z"
   },
   {
    "duration": 238,
    "start_time": "2022-01-25T18:00:36.942Z"
   },
   {
    "duration": 164,
    "start_time": "2022-01-25T18:00:37.182Z"
   },
   {
    "duration": 6,
    "start_time": "2022-01-25T18:00:37.349Z"
   },
   {
    "duration": 17,
    "start_time": "2022-01-25T18:00:37.358Z"
   },
   {
    "duration": 8,
    "start_time": "2022-01-25T18:01:04.552Z"
   },
   {
    "duration": 11,
    "start_time": "2022-01-25T18:01:04.562Z"
   },
   {
    "duration": 17,
    "start_time": "2022-01-25T18:01:04.575Z"
   },
   {
    "duration": 280,
    "start_time": "2022-01-25T18:01:04.608Z"
   },
   {
    "duration": 17,
    "start_time": "2022-01-25T18:01:04.891Z"
   },
   {
    "duration": 6,
    "start_time": "2022-01-25T18:01:04.911Z"
   },
   {
    "duration": 16,
    "start_time": "2022-01-25T18:01:04.919Z"
   },
   {
    "duration": 7,
    "start_time": "2022-01-25T18:01:04.937Z"
   },
   {
    "duration": 7,
    "start_time": "2022-01-25T18:01:04.946Z"
   },
   {
    "duration": 6,
    "start_time": "2022-01-25T18:01:04.955Z"
   },
   {
    "duration": 56,
    "start_time": "2022-01-25T18:01:04.963Z"
   },
   {
    "duration": 5,
    "start_time": "2022-01-25T18:01:05.021Z"
   },
   {
    "duration": 28,
    "start_time": "2022-01-25T18:01:05.027Z"
   },
   {
    "duration": 222,
    "start_time": "2022-01-25T18:01:05.058Z"
   },
   {
    "duration": 218,
    "start_time": "2022-01-25T18:01:05.282Z"
   },
   {
    "duration": 7,
    "start_time": "2022-01-25T18:01:05.504Z"
   },
   {
    "duration": 6,
    "start_time": "2022-01-25T18:01:05.513Z"
   },
   {
    "duration": 6214,
    "start_time": "2022-01-25T18:01:05.521Z"
   },
   {
    "duration": 180,
    "start_time": "2022-01-25T18:01:11.737Z"
   },
   {
    "duration": 7150,
    "start_time": "2022-01-25T18:01:11.920Z"
   },
   {
    "duration": 443,
    "start_time": "2022-01-25T18:01:19.073Z"
   },
   {
    "duration": 11247,
    "start_time": "2022-01-25T18:01:19.520Z"
   },
   {
    "duration": 1368,
    "start_time": "2022-01-26T15:41:15.783Z"
   },
   {
    "duration": 63,
    "start_time": "2022-01-26T15:41:17.154Z"
   },
   {
    "duration": 544,
    "start_time": "2022-01-26T15:41:17.220Z"
   },
   {
    "duration": 491,
    "start_time": "2022-01-26T15:41:17.767Z"
   },
   {
    "duration": 531,
    "start_time": "2022-01-26T15:41:18.261Z"
   },
   {
    "duration": 299,
    "start_time": "2022-01-26T15:41:18.795Z"
   },
   {
    "duration": 547,
    "start_time": "2022-01-26T15:41:19.097Z"
   },
   {
    "duration": 245,
    "start_time": "2022-01-26T15:41:19.646Z"
   },
   {
    "duration": 58,
    "start_time": "2022-01-26T15:41:19.896Z"
   },
   {
    "duration": 254,
    "start_time": "2022-01-26T15:41:19.958Z"
   },
   {
    "duration": 255,
    "start_time": "2022-01-26T15:41:20.214Z"
   },
   {
    "duration": 545,
    "start_time": "2022-01-26T15:41:20.472Z"
   },
   {
    "duration": 17,
    "start_time": "2022-01-26T15:41:21.020Z"
   },
   {
    "duration": 228,
    "start_time": "2022-01-26T15:41:21.040Z"
   },
   {
    "duration": 286,
    "start_time": "2022-01-26T15:41:21.271Z"
   },
   {
    "duration": 329,
    "start_time": "2022-01-26T15:41:21.560Z"
   },
   {
    "duration": 231,
    "start_time": "2022-01-26T15:41:21.891Z"
   },
   {
    "duration": 247,
    "start_time": "2022-01-26T15:41:22.124Z"
   },
   {
    "duration": 252,
    "start_time": "2022-01-26T15:41:22.374Z"
   },
   {
    "duration": 266,
    "start_time": "2022-01-26T15:41:22.628Z"
   },
   {
    "duration": 279,
    "start_time": "2022-01-26T15:41:22.896Z"
   },
   {
    "duration": 478,
    "start_time": "2022-01-26T15:41:23.177Z"
   },
   {
    "duration": 269,
    "start_time": "2022-01-26T15:41:23.658Z"
   },
   {
    "duration": 7,
    "start_time": "2022-01-26T15:41:23.933Z"
   },
   {
    "duration": 240,
    "start_time": "2022-01-26T15:41:23.943Z"
   },
   {
    "duration": 6641,
    "start_time": "2022-01-26T15:41:24.186Z"
   },
   {
    "duration": 242,
    "start_time": "2022-01-26T15:41:30.835Z"
   },
   {
    "duration": 7824,
    "start_time": "2022-01-26T15:41:31.080Z"
   },
   {
    "duration": 456,
    "start_time": "2022-01-26T15:41:38.907Z"
   },
   {
    "duration": 471,
    "start_time": "2022-01-26T15:42:04.375Z"
   },
   {
    "duration": 4,
    "start_time": "2022-01-26T15:44:32.277Z"
   },
   {
    "duration": 9,
    "start_time": "2022-01-26T15:46:16.778Z"
   },
   {
    "duration": 218,
    "start_time": "2022-01-26T15:46:34.538Z"
   },
   {
    "duration": 222,
    "start_time": "2022-01-26T15:46:52.538Z"
   },
   {
    "duration": 299,
    "start_time": "2022-01-26T15:47:53.985Z"
   },
   {
    "duration": 11,
    "start_time": "2022-01-26T15:48:00.049Z"
   },
   {
    "duration": 7,
    "start_time": "2022-01-26T15:48:57.160Z"
   },
   {
    "duration": 10,
    "start_time": "2022-01-26T15:49:15.537Z"
   },
   {
    "duration": 117,
    "start_time": "2022-01-26T15:49:26.359Z"
   },
   {
    "duration": 97,
    "start_time": "2022-01-26T15:49:33.030Z"
   },
   {
    "duration": 9,
    "start_time": "2022-01-26T15:49:54.751Z"
   },
   {
    "duration": 7,
    "start_time": "2022-01-26T15:50:00.943Z"
   },
   {
    "duration": 9,
    "start_time": "2022-01-26T15:50:07.671Z"
   },
   {
    "duration": 10,
    "start_time": "2022-01-26T15:50:11.566Z"
   },
   {
    "duration": 9,
    "start_time": "2022-01-26T15:50:24.006Z"
   },
   {
    "duration": 5,
    "start_time": "2022-01-26T15:50:47.864Z"
   },
   {
    "duration": 493,
    "start_time": "2022-01-26T15:51:04.541Z"
   },
   {
    "duration": 624,
    "start_time": "2022-01-26T15:51:42.526Z"
   },
   {
    "duration": 748,
    "start_time": "2022-01-26T15:52:00.197Z"
   },
   {
    "duration": 445,
    "start_time": "2022-01-26T15:52:11.509Z"
   },
   {
    "duration": 590,
    "start_time": "2022-01-26T15:52:13.854Z"
   },
   {
    "duration": 567,
    "start_time": "2022-01-26T15:52:22.684Z"
   },
   {
    "duration": 1256,
    "start_time": "2022-01-26T15:52:24.604Z"
   },
   {
    "duration": 1314,
    "start_time": "2022-01-26T15:52:37.219Z"
   },
   {
    "duration": 2896,
    "start_time": "2022-01-26T15:52:48.412Z"
   },
   {
    "duration": 318,
    "start_time": "2022-01-26T15:53:03.108Z"
   },
   {
    "duration": 1923,
    "start_time": "2022-01-26T15:53:12.478Z"
   },
   {
    "duration": 87,
    "start_time": "2022-01-26T15:53:14.405Z"
   },
   {
    "duration": 537,
    "start_time": "2022-01-26T15:53:14.495Z"
   },
   {
    "duration": 307,
    "start_time": "2022-01-26T15:53:15.034Z"
   },
   {
    "duration": 330,
    "start_time": "2022-01-26T15:53:15.345Z"
   },
   {
    "duration": 1270,
    "start_time": "2022-01-26T15:53:15.678Z"
   },
   {
    "duration": 1229,
    "start_time": "2022-01-26T15:53:16.951Z"
   },
   {
    "duration": 673,
    "start_time": "2022-01-26T15:53:18.185Z"
   },
   {
    "duration": 462,
    "start_time": "2022-01-26T15:53:18.862Z"
   },
   {
    "duration": 676,
    "start_time": "2022-01-26T15:53:19.326Z"
   },
   {
    "duration": 875,
    "start_time": "2022-01-26T15:53:20.004Z"
   },
   {
    "duration": 1204,
    "start_time": "2022-01-26T15:53:20.882Z"
   },
   {
    "duration": 624,
    "start_time": "2022-01-26T15:53:22.089Z"
   },
   {
    "duration": 775,
    "start_time": "2022-01-26T15:53:22.715Z"
   },
   {
    "duration": 683,
    "start_time": "2022-01-26T15:53:23.493Z"
   },
   {
    "duration": 327,
    "start_time": "2022-01-26T15:53:24.179Z"
   },
   {
    "duration": 322,
    "start_time": "2022-01-26T15:53:24.510Z"
   },
   {
    "duration": 259,
    "start_time": "2022-01-26T15:53:24.835Z"
   },
   {
    "duration": 390,
    "start_time": "2022-01-26T15:53:25.097Z"
   },
   {
    "duration": 345,
    "start_time": "2022-01-26T15:53:25.490Z"
   },
   {
    "duration": 292,
    "start_time": "2022-01-26T15:53:25.838Z"
   },
   {
    "duration": 585,
    "start_time": "2022-01-26T15:53:26.134Z"
   },
   {
    "duration": 281,
    "start_time": "2022-01-26T15:53:26.724Z"
   },
   {
    "duration": 560,
    "start_time": "2022-01-26T15:53:27.007Z"
   },
   {
    "duration": 572,
    "start_time": "2022-01-26T15:53:27.569Z"
   },
   {
    "duration": 6542,
    "start_time": "2022-01-26T15:53:28.146Z"
   },
   {
    "duration": 252,
    "start_time": "2022-01-26T15:53:34.690Z"
   },
   {
    "duration": 6398,
    "start_time": "2022-01-26T15:53:34.945Z"
   },
   {
    "duration": 492,
    "start_time": "2022-01-26T15:53:41.345Z"
   },
   {
    "duration": 94,
    "start_time": "2022-01-26T15:53:41.842Z"
   },
   {
    "duration": 278,
    "start_time": "2022-01-26T15:53:41.939Z"
   },
   {
    "duration": 356,
    "start_time": "2022-01-26T15:53:42.220Z"
   },
   {
    "duration": 1162,
    "start_time": "2022-01-26T15:53:42.578Z"
   },
   {
    "duration": 2595,
    "start_time": "2022-01-26T15:53:43.743Z"
   },
   {
    "duration": 26806,
    "start_time": "2022-01-26T15:55:00.155Z"
   },
   {
    "duration": 321,
    "start_time": "2022-01-26T15:55:38.483Z"
   },
   {
    "duration": 658,
    "start_time": "2022-01-26T15:55:40.378Z"
   },
   {
    "duration": 9755,
    "start_time": "2022-01-26T15:55:43.906Z"
   },
   {
    "duration": 12621,
    "start_time": "2022-01-26T15:57:01.715Z"
   },
   {
    "duration": 49,
    "start_time": "2022-01-26T15:58:54.871Z"
   },
   {
    "duration": 3,
    "start_time": "2022-01-26T15:59:30.525Z"
   },
   {
    "duration": 6,
    "start_time": "2022-01-26T15:59:56.744Z"
   },
   {
    "duration": 660,
    "start_time": "2022-01-26T16:01:29.623Z"
   },
   {
    "duration": 35,
    "start_time": "2022-01-26T16:03:31.532Z"
   },
   {
    "duration": 578,
    "start_time": "2022-01-26T16:03:35.492Z"
   },
   {
    "duration": 1842,
    "start_time": "2022-01-26T16:05:31.350Z"
   },
   {
    "duration": 77,
    "start_time": "2022-01-26T16:05:33.195Z"
   },
   {
    "duration": 118,
    "start_time": "2022-01-26T16:05:33.279Z"
   },
   {
    "duration": 219,
    "start_time": "2022-01-26T16:05:33.401Z"
   },
   {
    "duration": 225,
    "start_time": "2022-01-26T16:05:33.623Z"
   },
   {
    "duration": 239,
    "start_time": "2022-01-26T16:05:33.851Z"
   },
   {
    "duration": 644,
    "start_time": "2022-01-26T16:05:34.093Z"
   },
   {
    "duration": 245,
    "start_time": "2022-01-26T16:05:34.740Z"
   },
   {
    "duration": 23,
    "start_time": "2022-01-26T16:05:34.989Z"
   },
   {
    "duration": 196,
    "start_time": "2022-01-26T16:05:35.017Z"
   },
   {
    "duration": 236,
    "start_time": "2022-01-26T16:05:35.216Z"
   },
   {
    "duration": 586,
    "start_time": "2022-01-26T16:05:35.455Z"
   },
   {
    "duration": 13,
    "start_time": "2022-01-26T16:05:36.044Z"
   },
   {
    "duration": 500,
    "start_time": "2022-01-26T16:05:36.060Z"
   },
   {
    "duration": 690,
    "start_time": "2022-01-26T16:05:36.563Z"
   },
   {
    "duration": 697,
    "start_time": "2022-01-26T16:05:37.256Z"
   },
   {
    "duration": 650,
    "start_time": "2022-01-26T16:05:37.956Z"
   },
   {
    "duration": 687,
    "start_time": "2022-01-26T16:05:38.609Z"
   },
   {
    "duration": 299,
    "start_time": "2022-01-26T16:05:39.299Z"
   },
   {
    "duration": 194,
    "start_time": "2022-01-26T16:05:39.601Z"
   },
   {
    "duration": 372,
    "start_time": "2022-01-26T16:05:39.798Z"
   },
   {
    "duration": 618,
    "start_time": "2022-01-26T16:05:40.173Z"
   },
   {
    "duration": 265,
    "start_time": "2022-01-26T16:05:40.794Z"
   },
   {
    "duration": 67,
    "start_time": "2022-01-26T16:05:41.061Z"
   },
   {
    "duration": 613,
    "start_time": "2022-01-26T16:05:41.131Z"
   },
   {
    "duration": 7488,
    "start_time": "2022-01-26T16:05:41.746Z"
   },
   {
    "duration": 256,
    "start_time": "2022-01-26T16:05:49.239Z"
   },
   {
    "duration": 8418,
    "start_time": "2022-01-26T16:05:49.498Z"
   },
   {
    "duration": 621,
    "start_time": "2022-01-26T16:05:57.919Z"
   },
   {
    "duration": 92,
    "start_time": "2022-01-26T16:05:58.543Z"
   },
   {
    "duration": 316,
    "start_time": "2022-01-26T16:05:58.638Z"
   },
   {
    "duration": 511,
    "start_time": "2022-01-26T16:05:58.956Z"
   },
   {
    "duration": 804,
    "start_time": "2022-01-26T16:05:59.469Z"
   },
   {
    "duration": 957,
    "start_time": "2022-01-26T16:06:00.278Z"
   },
   {
    "duration": 9707,
    "start_time": "2022-01-26T16:06:01.240Z"
   },
   {
    "duration": 27,
    "start_time": "2022-01-26T16:06:10.950Z"
   },
   {
    "duration": 1291,
    "start_time": "2022-01-26T16:06:10.980Z"
   },
   {
    "duration": 1457,
    "start_time": "2022-01-26T16:06:10.817Z"
   },
   {
    "duration": 1316,
    "start_time": "2022-01-26T16:07:26.332Z"
   },
   {
    "duration": 31,
    "start_time": "2022-01-26T16:10:37.116Z"
   },
   {
    "duration": 43,
    "start_time": "2022-01-26T16:10:50.016Z"
   },
   {
    "duration": 257,
    "start_time": "2022-01-26T16:11:57.464Z"
   },
   {
    "duration": 1271,
    "start_time": "2022-01-26T16:12:13.664Z"
   },
   {
    "duration": 37,
    "start_time": "2022-01-26T16:14:01.454Z"
   },
   {
    "duration": 41,
    "start_time": "2022-01-26T16:15:07.304Z"
   },
   {
    "duration": 60,
    "start_time": "2022-01-26T16:15:12.835Z"
   },
   {
    "duration": 285,
    "start_time": "2022-01-26T16:20:43.892Z"
   },
   {
    "duration": 288,
    "start_time": "2022-01-26T16:21:04.447Z"
   },
   {
    "duration": 1637,
    "start_time": "2022-01-26T16:21:24.666Z"
   },
   {
    "duration": 73,
    "start_time": "2022-01-26T16:21:26.307Z"
   },
   {
    "duration": 15,
    "start_time": "2022-01-26T16:21:26.384Z"
   },
   {
    "duration": 33,
    "start_time": "2022-01-26T16:21:26.402Z"
   },
   {
    "duration": 34,
    "start_time": "2022-01-26T16:21:26.438Z"
   },
   {
    "duration": 113,
    "start_time": "2022-01-26T16:21:26.475Z"
   },
   {
    "duration": 490,
    "start_time": "2022-01-26T16:21:26.591Z"
   },
   {
    "duration": 310,
    "start_time": "2022-01-26T16:21:27.086Z"
   },
   {
    "duration": 14,
    "start_time": "2022-01-26T16:21:27.401Z"
   },
   {
    "duration": 20,
    "start_time": "2022-01-26T16:21:27.419Z"
   },
   {
    "duration": 29,
    "start_time": "2022-01-26T16:21:27.442Z"
   },
   {
    "duration": 292,
    "start_time": "2022-01-26T16:21:27.474Z"
   },
   {
    "duration": 9,
    "start_time": "2022-01-26T16:21:27.769Z"
   },
   {
    "duration": 8,
    "start_time": "2022-01-26T16:21:27.781Z"
   },
   {
    "duration": 17,
    "start_time": "2022-01-26T16:21:27.792Z"
   },
   {
    "duration": 9,
    "start_time": "2022-01-26T16:21:27.813Z"
   },
   {
    "duration": 11,
    "start_time": "2022-01-26T16:21:27.825Z"
   },
   {
    "duration": 19,
    "start_time": "2022-01-26T16:21:27.838Z"
   },
   {
    "duration": 82,
    "start_time": "2022-01-26T16:21:27.860Z"
   },
   {
    "duration": 9,
    "start_time": "2022-01-26T16:21:27.945Z"
   },
   {
    "duration": 100,
    "start_time": "2022-01-26T16:21:27.956Z"
   },
   {
    "duration": 388,
    "start_time": "2022-01-26T16:21:28.059Z"
   },
   {
    "duration": 324,
    "start_time": "2022-01-26T16:21:28.450Z"
   },
   {
    "duration": 7,
    "start_time": "2022-01-26T16:21:28.777Z"
   },
   {
    "duration": 12,
    "start_time": "2022-01-26T16:21:28.787Z"
   },
   {
    "duration": 8530,
    "start_time": "2022-01-26T16:21:28.809Z"
   },
   {
    "duration": 251,
    "start_time": "2022-01-26T16:21:37.342Z"
   },
   {
    "duration": 6119,
    "start_time": "2022-01-26T16:21:37.595Z"
   },
   {
    "duration": 527,
    "start_time": "2022-01-26T16:21:43.718Z"
   },
   {
    "duration": 90,
    "start_time": "2022-01-26T16:21:44.249Z"
   },
   {
    "duration": 96,
    "start_time": "2022-01-26T16:21:44.343Z"
   },
   {
    "duration": 6,
    "start_time": "2022-01-26T16:21:44.442Z"
   },
   {
    "duration": 342,
    "start_time": "2022-01-26T16:21:44.451Z"
   },
   {
    "duration": 646,
    "start_time": "2022-01-26T16:21:44.795Z"
   },
   {
    "duration": 9260,
    "start_time": "2022-01-26T16:21:45.446Z"
   },
   {
    "duration": 36,
    "start_time": "2022-01-26T16:21:54.709Z"
   },
   {
    "duration": 37,
    "start_time": "2022-01-26T16:21:54.748Z"
   },
   {
    "duration": 1037,
    "start_time": "2022-01-26T16:21:54.788Z"
   },
   {
    "duration": 1385,
    "start_time": "2022-01-26T16:21:54.442Z"
   },
   {
    "duration": 8,
    "start_time": "2022-01-26T16:22:10.579Z"
   },
   {
    "duration": 682,
    "start_time": "2022-01-26T16:23:56.841Z"
   },
   {
    "duration": 7,
    "start_time": "2022-01-26T16:24:35.048Z"
   },
   {
    "duration": 57,
    "start_time": "2022-01-26T16:24:46.264Z"
   },
   {
    "duration": 45,
    "start_time": "2022-01-26T16:27:15.509Z"
   },
   {
    "duration": 39,
    "start_time": "2022-01-26T16:27:18.194Z"
   },
   {
    "duration": 1843,
    "start_time": "2022-01-26T16:27:34.391Z"
   },
   {
    "duration": 84,
    "start_time": "2022-01-26T16:27:36.238Z"
   },
   {
    "duration": 22,
    "start_time": "2022-01-26T16:27:36.326Z"
   },
   {
    "duration": 7,
    "start_time": "2022-01-26T16:27:36.353Z"
   },
   {
    "duration": 68,
    "start_time": "2022-01-26T16:27:36.364Z"
   },
   {
    "duration": 100,
    "start_time": "2022-01-26T16:27:36.436Z"
   },
   {
    "duration": 535,
    "start_time": "2022-01-26T16:27:36.539Z"
   },
   {
    "duration": 370,
    "start_time": "2022-01-26T16:27:37.084Z"
   },
   {
    "duration": 14,
    "start_time": "2022-01-26T16:27:37.460Z"
   },
   {
    "duration": 6,
    "start_time": "2022-01-26T16:27:37.479Z"
   },
   {
    "duration": 48,
    "start_time": "2022-01-26T16:27:37.489Z"
   },
   {
    "duration": 472,
    "start_time": "2022-01-26T16:27:37.540Z"
   },
   {
    "duration": 20,
    "start_time": "2022-01-26T16:27:38.016Z"
   },
   {
    "duration": 15,
    "start_time": "2022-01-26T16:27:38.041Z"
   },
   {
    "duration": 21,
    "start_time": "2022-01-26T16:27:38.060Z"
   },
   {
    "duration": 13,
    "start_time": "2022-01-26T16:27:38.084Z"
   },
   {
    "duration": 43,
    "start_time": "2022-01-26T16:27:38.102Z"
   },
   {
    "duration": 13,
    "start_time": "2022-01-26T16:27:38.148Z"
   },
   {
    "duration": 79,
    "start_time": "2022-01-26T16:27:38.165Z"
   },
   {
    "duration": 8,
    "start_time": "2022-01-26T16:27:38.248Z"
   },
   {
    "duration": 82,
    "start_time": "2022-01-26T16:27:38.259Z"
   },
   {
    "duration": 312,
    "start_time": "2022-01-26T16:27:38.345Z"
   },
   {
    "duration": 9,
    "start_time": "2022-01-26T16:27:38.660Z"
   },
   {
    "duration": 89,
    "start_time": "2022-01-26T16:27:38.672Z"
   },
   {
    "duration": 258,
    "start_time": "2022-01-26T16:27:38.765Z"
   },
   {
    "duration": 13,
    "start_time": "2022-01-26T16:27:39.026Z"
   },
   {
    "duration": 8,
    "start_time": "2022-01-26T16:27:39.047Z"
   },
   {
    "duration": 8515,
    "start_time": "2022-01-26T16:27:39.059Z"
   },
   {
    "duration": 323,
    "start_time": "2022-01-26T16:27:47.578Z"
   },
   {
    "duration": 7615,
    "start_time": "2022-01-26T16:27:47.904Z"
   },
   {
    "duration": 529,
    "start_time": "2022-01-26T16:27:55.522Z"
   },
   {
    "duration": 83,
    "start_time": "2022-01-26T16:27:56.054Z"
   },
   {
    "duration": 99,
    "start_time": "2022-01-26T16:27:56.141Z"
   },
   {
    "duration": 351,
    "start_time": "2022-01-26T16:27:56.243Z"
   },
   {
    "duration": 452,
    "start_time": "2022-01-26T16:27:56.597Z"
   },
   {
    "duration": 782,
    "start_time": "2022-01-26T16:27:57.051Z"
   },
   {
    "duration": 10986,
    "start_time": "2022-01-26T16:27:57.837Z"
   },
   {
    "duration": 29,
    "start_time": "2022-01-26T16:28:08.834Z"
   },
   {
    "duration": 66,
    "start_time": "2022-01-26T16:28:08.866Z"
   },
   {
    "duration": 17,
    "start_time": "2022-01-26T16:28:08.935Z"
   },
   {
    "duration": 980,
    "start_time": "2022-01-26T16:28:08.955Z"
   },
   {
    "duration": 1407,
    "start_time": "2022-01-26T16:28:08.532Z"
   },
   {
    "duration": 10596,
    "start_time": "2022-01-26T16:28:22.509Z"
   },
   {
    "duration": 39,
    "start_time": "2022-01-26T16:32:14.873Z"
   },
   {
    "duration": 1625,
    "start_time": "2022-01-26T16:33:59.307Z"
   },
   {
    "duration": 62,
    "start_time": "2022-01-26T16:34:00.939Z"
   },
   {
    "duration": 28,
    "start_time": "2022-01-26T16:34:01.005Z"
   },
   {
    "duration": 8,
    "start_time": "2022-01-26T16:34:01.037Z"
   },
   {
    "duration": 28,
    "start_time": "2022-01-26T16:34:01.048Z"
   },
   {
    "duration": 100,
    "start_time": "2022-01-26T16:34:01.080Z"
   },
   {
    "duration": 554,
    "start_time": "2022-01-26T16:34:01.184Z"
   },
   {
    "duration": 371,
    "start_time": "2022-01-26T16:34:01.744Z"
   },
   {
    "duration": 23,
    "start_time": "2022-01-26T16:34:02.119Z"
   },
   {
    "duration": 12,
    "start_time": "2022-01-26T16:34:02.147Z"
   },
   {
    "duration": 33,
    "start_time": "2022-01-26T16:34:02.162Z"
   },
   {
    "duration": 466,
    "start_time": "2022-01-26T16:34:02.198Z"
   },
   {
    "duration": 21,
    "start_time": "2022-01-26T16:34:02.667Z"
   },
   {
    "duration": 8,
    "start_time": "2022-01-26T16:34:02.691Z"
   },
   {
    "duration": 45,
    "start_time": "2022-01-26T16:34:02.702Z"
   },
   {
    "duration": 7,
    "start_time": "2022-01-26T16:34:02.751Z"
   },
   {
    "duration": 29,
    "start_time": "2022-01-26T16:34:02.762Z"
   },
   {
    "duration": 25,
    "start_time": "2022-01-26T16:34:02.795Z"
   },
   {
    "duration": 72,
    "start_time": "2022-01-26T16:34:02.824Z"
   },
   {
    "duration": 8,
    "start_time": "2022-01-26T16:34:02.900Z"
   },
   {
    "duration": 74,
    "start_time": "2022-01-26T16:34:02.911Z"
   },
   {
    "duration": 349,
    "start_time": "2022-01-26T16:34:02.989Z"
   },
   {
    "duration": 9,
    "start_time": "2022-01-26T16:34:03.346Z"
   },
   {
    "duration": 64,
    "start_time": "2022-01-26T16:34:03.359Z"
   },
   {
    "duration": 264,
    "start_time": "2022-01-26T16:34:03.434Z"
   },
   {
    "duration": 68,
    "start_time": "2022-01-26T16:34:03.702Z"
   },
   {
    "duration": 7,
    "start_time": "2022-01-26T16:34:03.773Z"
   },
   {
    "duration": 18,
    "start_time": "2022-01-26T16:34:03.783Z"
   },
   {
    "duration": 8523,
    "start_time": "2022-01-26T16:34:03.804Z"
   },
   {
    "duration": 373,
    "start_time": "2022-01-26T16:34:12.333Z"
   },
   {
    "duration": 7339,
    "start_time": "2022-01-26T16:34:12.709Z"
   },
   {
    "duration": 695,
    "start_time": "2022-01-26T16:34:20.052Z"
   },
   {
    "duration": 115,
    "start_time": "2022-01-26T16:34:20.751Z"
   },
   {
    "duration": 12,
    "start_time": "2022-01-26T16:34:20.870Z"
   },
   {
    "duration": 19,
    "start_time": "2022-01-26T16:34:20.885Z"
   },
   {
    "duration": 513,
    "start_time": "2022-01-26T16:34:20.908Z"
   },
   {
    "duration": 814,
    "start_time": "2022-01-26T16:34:21.425Z"
   },
   {
    "duration": 10576,
    "start_time": "2022-01-26T16:34:22.242Z"
   },
   {
    "duration": 34,
    "start_time": "2022-01-26T16:34:32.823Z"
   },
   {
    "duration": 44,
    "start_time": "2022-01-26T16:34:32.860Z"
   },
   {
    "duration": 33,
    "start_time": "2022-01-26T16:34:32.908Z"
   },
   {
    "duration": 697,
    "start_time": "2022-01-26T16:34:32.945Z"
   },
   {
    "duration": 1425,
    "start_time": "2022-01-26T16:34:32.220Z"
   },
   {
    "duration": 43,
    "start_time": "2022-01-26T16:35:11.210Z"
   },
   {
    "duration": 38,
    "start_time": "2022-01-26T16:35:55.370Z"
   },
   {
    "duration": 62,
    "start_time": "2022-01-26T16:36:06.393Z"
   },
   {
    "duration": 1325,
    "start_time": "2022-01-26T16:37:19.363Z"
   },
   {
    "duration": 59,
    "start_time": "2022-01-26T16:37:20.691Z"
   },
   {
    "duration": 12,
    "start_time": "2022-01-26T16:37:20.754Z"
   },
   {
    "duration": 9,
    "start_time": "2022-01-26T16:37:20.769Z"
   },
   {
    "duration": 35,
    "start_time": "2022-01-26T16:37:20.780Z"
   },
   {
    "duration": 63,
    "start_time": "2022-01-26T16:37:20.832Z"
   },
   {
    "duration": 335,
    "start_time": "2022-01-26T16:37:20.897Z"
   },
   {
    "duration": 233,
    "start_time": "2022-01-26T16:37:21.235Z"
   },
   {
    "duration": 10,
    "start_time": "2022-01-26T16:37:21.474Z"
   },
   {
    "duration": 10,
    "start_time": "2022-01-26T16:37:21.487Z"
   },
   {
    "duration": 34,
    "start_time": "2022-01-26T16:37:21.500Z"
   },
   {
    "duration": 277,
    "start_time": "2022-01-26T16:37:21.536Z"
   },
   {
    "duration": 18,
    "start_time": "2022-01-26T16:37:21.815Z"
   },
   {
    "duration": 2,
    "start_time": "2022-01-26T16:37:21.836Z"
   },
   {
    "duration": 17,
    "start_time": "2022-01-26T16:37:21.840Z"
   },
   {
    "duration": 5,
    "start_time": "2022-01-26T16:37:21.860Z"
   },
   {
    "duration": 8,
    "start_time": "2022-01-26T16:37:21.868Z"
   },
   {
    "duration": 55,
    "start_time": "2022-01-26T16:37:21.879Z"
   },
   {
    "duration": 36,
    "start_time": "2022-01-26T16:37:21.937Z"
   },
   {
    "duration": 6,
    "start_time": "2022-01-26T16:37:21.976Z"
   },
   {
    "duration": 68,
    "start_time": "2022-01-26T16:37:21.984Z"
   },
   {
    "duration": 273,
    "start_time": "2022-01-26T16:37:22.055Z"
   },
   {
    "duration": 6,
    "start_time": "2022-01-26T16:37:22.333Z"
   },
   {
    "duration": 52,
    "start_time": "2022-01-26T16:37:22.342Z"
   },
   {
    "duration": 176,
    "start_time": "2022-01-26T16:37:22.396Z"
   },
   {
    "duration": 38,
    "start_time": "2022-01-26T16:37:22.574Z"
   },
   {
    "duration": 18,
    "start_time": "2022-01-26T16:37:22.617Z"
   },
   {
    "duration": 13,
    "start_time": "2022-01-26T16:37:22.638Z"
   },
   {
    "duration": 6196,
    "start_time": "2022-01-26T16:37:22.654Z"
   },
   {
    "duration": 290,
    "start_time": "2022-01-26T16:37:28.853Z"
   },
   {
    "duration": 6107,
    "start_time": "2022-01-26T16:37:29.146Z"
   },
   {
    "duration": 491,
    "start_time": "2022-01-26T16:37:35.255Z"
   },
   {
    "duration": 8,
    "start_time": "2022-01-26T16:37:35.833Z"
   },
   {
    "duration": 9,
    "start_time": "2022-01-26T16:37:35.844Z"
   },
   {
    "duration": 7,
    "start_time": "2022-01-26T16:37:35.856Z"
   },
   {
    "duration": 335,
    "start_time": "2022-01-26T16:37:35.933Z"
   },
   {
    "duration": 762,
    "start_time": "2022-01-26T16:37:36.270Z"
   },
   {
    "duration": 8974,
    "start_time": "2022-01-26T16:37:37.035Z"
   },
   {
    "duration": 67,
    "start_time": "2022-01-26T16:37:46.011Z"
   },
   {
    "duration": 404,
    "start_time": "2022-01-26T16:37:46.081Z"
   },
   {
    "duration": 1417,
    "start_time": "2022-01-26T16:37:45.071Z"
   },
   {
    "duration": 1415,
    "start_time": "2022-01-26T16:37:45.074Z"
   },
   {
    "duration": 1412,
    "start_time": "2022-01-26T16:37:45.078Z"
   },
   {
    "duration": 51,
    "start_time": "2022-01-26T16:39:59.993Z"
   },
   {
    "duration": 239,
    "start_time": "2022-01-26T16:40:40.505Z"
   },
   {
    "duration": 27,
    "start_time": "2022-01-26T16:40:48.751Z"
   },
   {
    "duration": 59,
    "start_time": "2022-01-26T16:40:55.431Z"
   },
   {
    "duration": 61,
    "start_time": "2022-01-26T16:42:38.247Z"
   },
   {
    "duration": 41,
    "start_time": "2022-01-26T16:42:57.495Z"
   },
   {
    "duration": 1853,
    "start_time": "2022-01-26T16:43:06.194Z"
   },
   {
    "duration": 187,
    "start_time": "2022-01-26T16:43:08.051Z"
   },
   {
    "duration": 23,
    "start_time": "2022-01-26T16:43:08.242Z"
   },
   {
    "duration": 8,
    "start_time": "2022-01-26T16:43:08.269Z"
   },
   {
    "duration": 21,
    "start_time": "2022-01-26T16:43:08.279Z"
   },
   {
    "duration": 81,
    "start_time": "2022-01-26T16:43:08.332Z"
   },
   {
    "duration": 530,
    "start_time": "2022-01-26T16:43:08.416Z"
   },
   {
    "duration": 316,
    "start_time": "2022-01-26T16:43:08.951Z"
   },
   {
    "duration": 12,
    "start_time": "2022-01-26T16:43:09.272Z"
   },
   {
    "duration": 9,
    "start_time": "2022-01-26T16:43:09.286Z"
   },
   {
    "duration": 37,
    "start_time": "2022-01-26T16:43:09.298Z"
   },
   {
    "duration": 310,
    "start_time": "2022-01-26T16:43:09.338Z"
   },
   {
    "duration": 14,
    "start_time": "2022-01-26T16:43:09.651Z"
   },
   {
    "duration": 3,
    "start_time": "2022-01-26T16:43:09.669Z"
   },
   {
    "duration": 26,
    "start_time": "2022-01-26T16:43:09.675Z"
   },
   {
    "duration": 31,
    "start_time": "2022-01-26T16:43:09.705Z"
   },
   {
    "duration": 9,
    "start_time": "2022-01-26T16:43:09.739Z"
   },
   {
    "duration": 11,
    "start_time": "2022-01-26T16:43:09.750Z"
   },
   {
    "duration": 69,
    "start_time": "2022-01-26T16:43:09.766Z"
   },
   {
    "duration": 6,
    "start_time": "2022-01-26T16:43:09.838Z"
   },
   {
    "duration": 60,
    "start_time": "2022-01-26T16:43:09.847Z"
   },
   {
    "duration": 338,
    "start_time": "2022-01-26T16:43:09.934Z"
   },
   {
    "duration": 9,
    "start_time": "2022-01-26T16:43:10.280Z"
   },
   {
    "duration": 83,
    "start_time": "2022-01-26T16:43:10.294Z"
   },
   {
    "duration": 245,
    "start_time": "2022-01-26T16:43:10.381Z"
   },
   {
    "duration": 68,
    "start_time": "2022-01-26T16:43:10.629Z"
   },
   {
    "duration": 7,
    "start_time": "2022-01-26T16:43:10.700Z"
   },
   {
    "duration": 10,
    "start_time": "2022-01-26T16:43:10.734Z"
   },
   {
    "duration": 54,
    "start_time": "2022-01-26T16:43:10.747Z"
   },
   {
    "duration": 8729,
    "start_time": "2022-01-26T16:43:10.805Z"
   },
   {
    "duration": 379,
    "start_time": "2022-01-26T16:43:19.537Z"
   },
   {
    "duration": 7867,
    "start_time": "2022-01-26T16:43:19.919Z"
   },
   {
    "duration": 684,
    "start_time": "2022-01-26T16:43:27.789Z"
   },
   {
    "duration": 11,
    "start_time": "2022-01-26T16:43:28.534Z"
   },
   {
    "duration": 15,
    "start_time": "2022-01-26T16:43:28.633Z"
   },
   {
    "duration": 7,
    "start_time": "2022-01-26T16:43:28.651Z"
   },
   {
    "duration": 349,
    "start_time": "2022-01-26T16:43:28.662Z"
   },
   {
    "duration": 630,
    "start_time": "2022-01-26T16:43:29.013Z"
   },
   {
    "duration": 10669,
    "start_time": "2022-01-26T16:43:29.647Z"
   },
   {
    "duration": 71,
    "start_time": "2022-01-26T16:43:40.319Z"
   },
   {
    "duration": 379,
    "start_time": "2022-01-26T16:43:40.393Z"
   },
   {
    "duration": 1417,
    "start_time": "2022-01-26T16:43:39.357Z"
   },
   {
    "duration": 1415,
    "start_time": "2022-01-26T16:43:39.361Z"
   },
   {
    "duration": 1414,
    "start_time": "2022-01-26T16:43:39.364Z"
   },
   {
    "duration": 39,
    "start_time": "2022-01-26T16:44:21.258Z"
   },
   {
    "duration": 41,
    "start_time": "2022-01-26T16:46:18.625Z"
   },
   {
    "duration": 1380,
    "start_time": "2022-01-26T16:46:24.994Z"
   },
   {
    "duration": 60,
    "start_time": "2022-01-26T16:46:26.377Z"
   },
   {
    "duration": 14,
    "start_time": "2022-01-26T16:46:26.441Z"
   },
   {
    "duration": 6,
    "start_time": "2022-01-26T16:46:26.459Z"
   },
   {
    "duration": 24,
    "start_time": "2022-01-26T16:46:26.469Z"
   },
   {
    "duration": 94,
    "start_time": "2022-01-26T16:46:26.496Z"
   },
   {
    "duration": 343,
    "start_time": "2022-01-26T16:46:26.592Z"
   },
   {
    "duration": 305,
    "start_time": "2022-01-26T16:46:26.939Z"
   },
   {
    "duration": 14,
    "start_time": "2022-01-26T16:46:27.248Z"
   },
   {
    "duration": 4,
    "start_time": "2022-01-26T16:46:27.265Z"
   },
   {
    "duration": 19,
    "start_time": "2022-01-26T16:46:27.271Z"
   },
   {
    "duration": 315,
    "start_time": "2022-01-26T16:46:27.292Z"
   },
   {
    "duration": 10,
    "start_time": "2022-01-26T16:46:27.609Z"
   },
   {
    "duration": 3,
    "start_time": "2022-01-26T16:46:27.633Z"
   },
   {
    "duration": 15,
    "start_time": "2022-01-26T16:46:27.638Z"
   },
   {
    "duration": 6,
    "start_time": "2022-01-26T16:46:27.655Z"
   },
   {
    "duration": 8,
    "start_time": "2022-01-26T16:46:27.663Z"
   },
   {
    "duration": 7,
    "start_time": "2022-01-26T16:46:27.673Z"
   },
   {
    "duration": 74,
    "start_time": "2022-01-26T16:46:27.683Z"
   },
   {
    "duration": 6,
    "start_time": "2022-01-26T16:46:27.759Z"
   },
   {
    "duration": 35,
    "start_time": "2022-01-26T16:46:27.768Z"
   },
   {
    "duration": 293,
    "start_time": "2022-01-26T16:46:27.806Z"
   },
   {
    "duration": 51,
    "start_time": "2022-01-26T16:46:28.107Z"
   },
   {
    "duration": 8,
    "start_time": "2022-01-26T16:46:28.162Z"
   },
   {
    "duration": 62,
    "start_time": "2022-01-26T16:46:28.172Z"
   },
   {
    "duration": 167,
    "start_time": "2022-01-26T16:46:28.236Z"
   },
   {
    "duration": 44,
    "start_time": "2022-01-26T16:46:28.406Z"
   },
   {
    "duration": 5,
    "start_time": "2022-01-26T16:46:28.453Z"
   },
   {
    "duration": 7,
    "start_time": "2022-01-26T16:46:28.461Z"
   },
   {
    "duration": 391,
    "start_time": "2022-01-26T16:46:28.471Z"
   },
   {
    "duration": 1413,
    "start_time": "2022-01-26T16:46:27.452Z"
   },
   {
    "duration": 1409,
    "start_time": "2022-01-26T16:46:27.458Z"
   },
   {
    "duration": 1407,
    "start_time": "2022-01-26T16:46:27.463Z"
   },
   {
    "duration": 1405,
    "start_time": "2022-01-26T16:46:27.467Z"
   },
   {
    "duration": 1406,
    "start_time": "2022-01-26T16:46:27.469Z"
   },
   {
    "duration": 1396,
    "start_time": "2022-01-26T16:46:27.481Z"
   },
   {
    "duration": 1395,
    "start_time": "2022-01-26T16:46:27.484Z"
   },
   {
    "duration": 1395,
    "start_time": "2022-01-26T16:46:27.486Z"
   },
   {
    "duration": 1395,
    "start_time": "2022-01-26T16:46:27.488Z"
   },
   {
    "duration": 1394,
    "start_time": "2022-01-26T16:46:27.491Z"
   },
   {
    "duration": 1394,
    "start_time": "2022-01-26T16:46:27.494Z"
   },
   {
    "duration": 1393,
    "start_time": "2022-01-26T16:46:27.497Z"
   },
   {
    "duration": 1392,
    "start_time": "2022-01-26T16:46:27.500Z"
   },
   {
    "duration": 1392,
    "start_time": "2022-01-26T16:46:27.502Z"
   },
   {
    "duration": 1391,
    "start_time": "2022-01-26T16:46:27.505Z"
   },
   {
    "duration": 23,
    "start_time": "2022-01-26T16:47:10.145Z"
   },
   {
    "duration": 56,
    "start_time": "2022-01-26T16:47:16.209Z"
   },
   {
    "duration": 37,
    "start_time": "2022-01-26T16:47:43.456Z"
   },
   {
    "duration": 1347,
    "start_time": "2022-01-26T16:47:50.966Z"
   },
   {
    "duration": 60,
    "start_time": "2022-01-26T16:47:52.316Z"
   },
   {
    "duration": 12,
    "start_time": "2022-01-26T16:47:52.379Z"
   },
   {
    "duration": 6,
    "start_time": "2022-01-26T16:47:52.394Z"
   },
   {
    "duration": 45,
    "start_time": "2022-01-26T16:47:52.403Z"
   },
   {
    "duration": 86,
    "start_time": "2022-01-26T16:47:52.450Z"
   },
   {
    "duration": 332,
    "start_time": "2022-01-26T16:47:52.539Z"
   },
   {
    "duration": 268,
    "start_time": "2022-01-26T16:47:52.876Z"
   },
   {
    "duration": 10,
    "start_time": "2022-01-26T16:47:53.147Z"
   },
   {
    "duration": 5,
    "start_time": "2022-01-26T16:47:53.159Z"
   },
   {
    "duration": 11,
    "start_time": "2022-01-26T16:47:53.167Z"
   },
   {
    "duration": 316,
    "start_time": "2022-01-26T16:47:53.181Z"
   },
   {
    "duration": 9,
    "start_time": "2022-01-26T16:47:53.500Z"
   },
   {
    "duration": 4,
    "start_time": "2022-01-26T16:47:53.511Z"
   },
   {
    "duration": 12,
    "start_time": "2022-01-26T16:47:53.533Z"
   },
   {
    "duration": 5,
    "start_time": "2022-01-26T16:47:53.548Z"
   },
   {
    "duration": 6,
    "start_time": "2022-01-26T16:47:53.555Z"
   },
   {
    "duration": 7,
    "start_time": "2022-01-26T16:47:53.563Z"
   },
   {
    "duration": 375,
    "start_time": "2022-01-26T16:47:53.572Z"
   },
   {
    "duration": 1442,
    "start_time": "2022-01-26T16:47:52.508Z"
   },
   {
    "duration": 1411,
    "start_time": "2022-01-26T16:47:52.541Z"
   },
   {
    "duration": 1408,
    "start_time": "2022-01-26T16:47:52.545Z"
   },
   {
    "duration": 1407,
    "start_time": "2022-01-26T16:47:52.548Z"
   },
   {
    "duration": 1393,
    "start_time": "2022-01-26T16:47:52.563Z"
   },
   {
    "duration": 1392,
    "start_time": "2022-01-26T16:47:52.566Z"
   },
   {
    "duration": 1389,
    "start_time": "2022-01-26T16:47:52.570Z"
   },
   {
    "duration": 1385,
    "start_time": "2022-01-26T16:47:52.575Z"
   },
   {
    "duration": 1381,
    "start_time": "2022-01-26T16:47:52.580Z"
   },
   {
    "duration": 1378,
    "start_time": "2022-01-26T16:47:52.585Z"
   },
   {
    "duration": 1376,
    "start_time": "2022-01-26T16:47:52.589Z"
   },
   {
    "duration": 1372,
    "start_time": "2022-01-26T16:47:52.594Z"
   },
   {
    "duration": 1370,
    "start_time": "2022-01-26T16:47:52.597Z"
   },
   {
    "duration": 1369,
    "start_time": "2022-01-26T16:47:52.600Z"
   },
   {
    "duration": 1369,
    "start_time": "2022-01-26T16:47:52.602Z"
   },
   {
    "duration": 1367,
    "start_time": "2022-01-26T16:47:52.605Z"
   },
   {
    "duration": 1365,
    "start_time": "2022-01-26T16:47:52.609Z"
   },
   {
    "duration": 1344,
    "start_time": "2022-01-26T16:47:52.631Z"
   },
   {
    "duration": 1341,
    "start_time": "2022-01-26T16:47:52.635Z"
   },
   {
    "duration": 1339,
    "start_time": "2022-01-26T16:47:52.639Z"
   },
   {
    "duration": 1336,
    "start_time": "2022-01-26T16:47:52.643Z"
   },
   {
    "duration": 1334,
    "start_time": "2022-01-26T16:47:52.646Z"
   },
   {
    "duration": 1332,
    "start_time": "2022-01-26T16:47:52.650Z"
   },
   {
    "duration": 1331,
    "start_time": "2022-01-26T16:47:52.652Z"
   },
   {
    "duration": 1329,
    "start_time": "2022-01-26T16:47:52.655Z"
   },
   {
    "duration": 1328,
    "start_time": "2022-01-26T16:47:52.658Z"
   },
   {
    "duration": 37,
    "start_time": "2022-01-26T16:48:14.460Z"
   },
   {
    "duration": 228,
    "start_time": "2022-01-26T16:48:18.475Z"
   },
   {
    "duration": 6,
    "start_time": "2022-01-26T16:48:22.060Z"
   },
   {
    "duration": 359,
    "start_time": "2022-01-26T16:48:25.770Z"
   },
   {
    "duration": 35,
    "start_time": "2022-01-26T16:48:29.507Z"
   },
   {
    "duration": 237,
    "start_time": "2022-01-26T16:48:35.260Z"
   },
   {
    "duration": 36,
    "start_time": "2022-01-26T16:48:38.579Z"
   },
   {
    "duration": 7,
    "start_time": "2022-01-26T16:48:44.836Z"
   },
   {
    "duration": 41,
    "start_time": "2022-01-26T16:48:47.779Z"
   },
   {
    "duration": 164,
    "start_time": "2022-01-26T16:48:59.923Z"
   },
   {
    "duration": 37,
    "start_time": "2022-01-26T16:49:02.291Z"
   },
   {
    "duration": 5,
    "start_time": "2022-01-26T16:49:06.242Z"
   },
   {
    "duration": 5,
    "start_time": "2022-01-26T16:49:08.331Z"
   },
   {
    "duration": 219,
    "start_time": "2022-01-26T16:49:13.955Z"
   },
   {
    "duration": 58,
    "start_time": "2022-01-26T16:49:17.778Z"
   },
   {
    "duration": 38,
    "start_time": "2022-01-26T16:52:59.024Z"
   },
   {
    "duration": 6,
    "start_time": "2022-01-26T16:53:03.752Z"
   },
   {
    "duration": 1458,
    "start_time": "2022-01-26T16:53:09.332Z"
   },
   {
    "duration": 61,
    "start_time": "2022-01-26T16:53:10.793Z"
   },
   {
    "duration": 11,
    "start_time": "2022-01-26T16:53:10.857Z"
   },
   {
    "duration": 12,
    "start_time": "2022-01-26T16:53:10.870Z"
   },
   {
    "duration": 24,
    "start_time": "2022-01-26T16:53:10.884Z"
   },
   {
    "duration": 83,
    "start_time": "2022-01-26T16:53:10.910Z"
   },
   {
    "duration": 341,
    "start_time": "2022-01-26T16:53:10.996Z"
   },
   {
    "duration": 238,
    "start_time": "2022-01-26T16:53:11.344Z"
   },
   {
    "duration": 11,
    "start_time": "2022-01-26T16:53:11.585Z"
   },
   {
    "duration": 6,
    "start_time": "2022-01-26T16:53:11.598Z"
   },
   {
    "duration": 35,
    "start_time": "2022-01-26T16:53:11.606Z"
   },
   {
    "duration": 310,
    "start_time": "2022-01-26T16:53:11.644Z"
   },
   {
    "duration": 12,
    "start_time": "2022-01-26T16:53:11.957Z"
   },
   {
    "duration": 3,
    "start_time": "2022-01-26T16:53:11.972Z"
   },
   {
    "duration": 26,
    "start_time": "2022-01-26T16:53:11.978Z"
   },
   {
    "duration": 7,
    "start_time": "2022-01-26T16:53:12.034Z"
   },
   {
    "duration": 8,
    "start_time": "2022-01-26T16:53:12.045Z"
   },
   {
    "duration": 15,
    "start_time": "2022-01-26T16:53:12.056Z"
   },
   {
    "duration": 78,
    "start_time": "2022-01-26T16:53:12.073Z"
   },
   {
    "duration": 386,
    "start_time": "2022-01-26T16:53:12.155Z"
   },
   {
    "duration": 1416,
    "start_time": "2022-01-26T16:53:11.130Z"
   },
   {
    "duration": 1412,
    "start_time": "2022-01-26T16:53:11.135Z"
   },
   {
    "duration": 1411,
    "start_time": "2022-01-26T16:53:11.138Z"
   },
   {
    "duration": 1404,
    "start_time": "2022-01-26T16:53:11.147Z"
   },
   {
    "duration": 1402,
    "start_time": "2022-01-26T16:53:11.150Z"
   },
   {
    "duration": 1401,
    "start_time": "2022-01-26T16:53:11.153Z"
   },
   {
    "duration": 1400,
    "start_time": "2022-01-26T16:53:11.156Z"
   },
   {
    "duration": 1398,
    "start_time": "2022-01-26T16:53:11.159Z"
   },
   {
    "duration": 1397,
    "start_time": "2022-01-26T16:53:11.162Z"
   },
   {
    "duration": 1397,
    "start_time": "2022-01-26T16:53:11.164Z"
   },
   {
    "duration": 1396,
    "start_time": "2022-01-26T16:53:11.166Z"
   },
   {
    "duration": 1395,
    "start_time": "2022-01-26T16:53:11.169Z"
   },
   {
    "duration": 1393,
    "start_time": "2022-01-26T16:53:11.172Z"
   },
   {
    "duration": 1393,
    "start_time": "2022-01-26T16:53:11.174Z"
   },
   {
    "duration": 1392,
    "start_time": "2022-01-26T16:53:11.177Z"
   },
   {
    "duration": 1375,
    "start_time": "2022-01-26T16:53:11.196Z"
   },
   {
    "duration": 1368,
    "start_time": "2022-01-26T16:53:11.205Z"
   },
   {
    "duration": 1360,
    "start_time": "2022-01-26T16:53:11.215Z"
   },
   {
    "duration": 1358,
    "start_time": "2022-01-26T16:53:11.218Z"
   },
   {
    "duration": 1343,
    "start_time": "2022-01-26T16:53:11.234Z"
   },
   {
    "duration": 1323,
    "start_time": "2022-01-26T16:53:11.256Z"
   },
   {
    "duration": 1303,
    "start_time": "2022-01-26T16:53:11.277Z"
   },
   {
    "duration": 1268,
    "start_time": "2022-01-26T16:53:11.314Z"
   },
   {
    "duration": 1249,
    "start_time": "2022-01-26T16:53:11.334Z"
   },
   {
    "duration": 1292,
    "start_time": "2022-01-26T16:53:11.340Z"
   },
   {
    "duration": 6,
    "start_time": "2022-01-26T16:53:21.707Z"
   },
   {
    "duration": 233,
    "start_time": "2022-01-26T16:53:28.626Z"
   },
   {
    "duration": 34,
    "start_time": "2022-01-26T16:53:33.803Z"
   },
   {
    "duration": 271,
    "start_time": "2022-01-26T16:53:45.802Z"
   },
   {
    "duration": 38,
    "start_time": "2022-01-26T16:53:48.218Z"
   },
   {
    "duration": 271,
    "start_time": "2022-01-26T16:54:46.306Z"
   },
   {
    "duration": 39,
    "start_time": "2022-01-26T16:54:56.632Z"
   },
   {
    "duration": 1846,
    "start_time": "2022-01-26T16:55:17.031Z"
   },
   {
    "duration": 68,
    "start_time": "2022-01-26T16:55:18.881Z"
   },
   {
    "duration": 12,
    "start_time": "2022-01-26T16:55:18.953Z"
   },
   {
    "duration": 9,
    "start_time": "2022-01-26T16:55:18.968Z"
   },
   {
    "duration": 25,
    "start_time": "2022-01-26T16:55:18.980Z"
   },
   {
    "duration": 93,
    "start_time": "2022-01-26T16:55:19.008Z"
   },
   {
    "duration": 363,
    "start_time": "2022-01-26T16:55:19.104Z"
   },
   {
    "duration": 260,
    "start_time": "2022-01-26T16:55:19.470Z"
   },
   {
    "duration": 12,
    "start_time": "2022-01-26T16:55:19.737Z"
   },
   {
    "duration": 6,
    "start_time": "2022-01-26T16:55:19.752Z"
   },
   {
    "duration": 15,
    "start_time": "2022-01-26T16:55:19.761Z"
   },
   {
    "duration": 318,
    "start_time": "2022-01-26T16:55:19.779Z"
   },
   {
    "duration": 12,
    "start_time": "2022-01-26T16:55:20.100Z"
   },
   {
    "duration": 11,
    "start_time": "2022-01-26T16:55:20.132Z"
   },
   {
    "duration": 22,
    "start_time": "2022-01-26T16:55:20.146Z"
   },
   {
    "duration": 7,
    "start_time": "2022-01-26T16:55:20.172Z"
   },
   {
    "duration": 9,
    "start_time": "2022-01-26T16:55:20.182Z"
   },
   {
    "duration": 7,
    "start_time": "2022-01-26T16:55:20.194Z"
   },
   {
    "duration": 64,
    "start_time": "2022-01-26T16:55:20.204Z"
   },
   {
    "duration": 7,
    "start_time": "2022-01-26T16:55:20.270Z"
   },
   {
    "duration": 77,
    "start_time": "2022-01-26T16:55:20.280Z"
   },
   {
    "duration": 326,
    "start_time": "2022-01-26T16:55:20.359Z"
   },
   {
    "duration": 51,
    "start_time": "2022-01-26T16:55:20.688Z"
   },
   {
    "duration": 43,
    "start_time": "2022-01-26T16:55:20.741Z"
   },
   {
    "duration": 7,
    "start_time": "2022-01-26T16:55:20.787Z"
   },
   {
    "duration": 50,
    "start_time": "2022-01-26T16:55:20.832Z"
   },
   {
    "duration": 168,
    "start_time": "2022-01-26T16:55:20.890Z"
   },
   {
    "duration": 40,
    "start_time": "2022-01-26T16:55:21.061Z"
   },
   {
    "duration": 28,
    "start_time": "2022-01-26T16:55:21.104Z"
   },
   {
    "duration": 5,
    "start_time": "2022-01-26T16:55:21.134Z"
   },
   {
    "duration": 417,
    "start_time": "2022-01-26T16:55:21.142Z"
   },
   {
    "duration": 1414,
    "start_time": "2022-01-26T16:55:20.148Z"
   },
   {
    "duration": 1412,
    "start_time": "2022-01-26T16:55:20.151Z"
   },
   {
    "duration": 1409,
    "start_time": "2022-01-26T16:55:20.156Z"
   },
   {
    "duration": 1408,
    "start_time": "2022-01-26T16:55:20.159Z"
   },
   {
    "duration": 1406,
    "start_time": "2022-01-26T16:55:20.162Z"
   },
   {
    "duration": 1404,
    "start_time": "2022-01-26T16:55:20.165Z"
   },
   {
    "duration": 1402,
    "start_time": "2022-01-26T16:55:20.168Z"
   },
   {
    "duration": 1400,
    "start_time": "2022-01-26T16:55:20.172Z"
   },
   {
    "duration": 1398,
    "start_time": "2022-01-26T16:55:20.175Z"
   },
   {
    "duration": 1396,
    "start_time": "2022-01-26T16:55:20.178Z"
   },
   {
    "duration": 1395,
    "start_time": "2022-01-26T16:55:20.180Z"
   },
   {
    "duration": 1393,
    "start_time": "2022-01-26T16:55:20.183Z"
   },
   {
    "duration": 1392,
    "start_time": "2022-01-26T16:55:20.185Z"
   },
   {
    "duration": 1377,
    "start_time": "2022-01-26T16:55:20.201Z"
   },
   {
    "duration": 1376,
    "start_time": "2022-01-26T16:55:20.204Z"
   },
   {
    "duration": 1328,
    "start_time": "2022-01-26T16:57:39.383Z"
   },
   {
    "duration": 57,
    "start_time": "2022-01-26T16:57:40.714Z"
   },
   {
    "duration": 11,
    "start_time": "2022-01-26T16:57:40.774Z"
   },
   {
    "duration": 9,
    "start_time": "2022-01-26T16:57:40.788Z"
   },
   {
    "duration": 46,
    "start_time": "2022-01-26T16:57:40.799Z"
   },
   {
    "duration": 59,
    "start_time": "2022-01-26T16:57:40.847Z"
   },
   {
    "duration": 354,
    "start_time": "2022-01-26T16:57:40.908Z"
   },
   {
    "duration": 238,
    "start_time": "2022-01-26T16:57:41.266Z"
   },
   {
    "duration": 27,
    "start_time": "2022-01-26T16:57:41.507Z"
   },
   {
    "duration": 6,
    "start_time": "2022-01-26T16:57:41.537Z"
   },
   {
    "duration": 16,
    "start_time": "2022-01-26T16:57:41.545Z"
   },
   {
    "duration": 394,
    "start_time": "2022-01-26T16:57:41.563Z"
   },
   {
    "duration": 13,
    "start_time": "2022-01-26T16:57:41.960Z"
   },
   {
    "duration": 7,
    "start_time": "2022-01-26T16:57:41.975Z"
   },
   {
    "duration": 17,
    "start_time": "2022-01-26T16:57:41.985Z"
   },
   {
    "duration": 32,
    "start_time": "2022-01-26T16:57:42.004Z"
   },
   {
    "duration": 12,
    "start_time": "2022-01-26T16:57:42.039Z"
   },
   {
    "duration": 6,
    "start_time": "2022-01-26T16:57:42.054Z"
   },
   {
    "duration": 88,
    "start_time": "2022-01-26T16:57:42.063Z"
   },
   {
    "duration": 6,
    "start_time": "2022-01-26T16:57:42.154Z"
   },
   {
    "duration": 42,
    "start_time": "2022-01-26T16:57:42.163Z"
   },
   {
    "duration": 305,
    "start_time": "2022-01-26T16:57:42.208Z"
   },
   {
    "duration": 45,
    "start_time": "2022-01-26T16:57:42.519Z"
   },
   {
    "duration": 38,
    "start_time": "2022-01-26T16:57:42.568Z"
   },
   {
    "duration": 27,
    "start_time": "2022-01-26T16:57:42.609Z"
   },
   {
    "duration": 40,
    "start_time": "2022-01-26T16:57:42.638Z"
   },
   {
    "duration": 175,
    "start_time": "2022-01-26T16:57:42.681Z"
   },
   {
    "duration": 38,
    "start_time": "2022-01-26T16:57:42.859Z"
   },
   {
    "duration": 33,
    "start_time": "2022-01-26T16:57:42.900Z"
   },
   {
    "duration": 7,
    "start_time": "2022-01-26T16:57:42.936Z"
   },
   {
    "duration": 372,
    "start_time": "2022-01-26T16:57:42.945Z"
   },
   {
    "duration": 1428,
    "start_time": "2022-01-26T16:57:41.892Z"
   },
   {
    "duration": 1424,
    "start_time": "2022-01-26T16:57:41.898Z"
   },
   {
    "duration": 1412,
    "start_time": "2022-01-26T16:57:41.912Z"
   },
   {
    "duration": 1410,
    "start_time": "2022-01-26T16:57:41.916Z"
   },
   {
    "duration": 1409,
    "start_time": "2022-01-26T16:57:41.920Z"
   },
   {
    "duration": 1408,
    "start_time": "2022-01-26T16:57:41.923Z"
   },
   {
    "duration": 1407,
    "start_time": "2022-01-26T16:57:41.926Z"
   },
   {
    "duration": 1406,
    "start_time": "2022-01-26T16:57:41.929Z"
   },
   {
    "duration": 1406,
    "start_time": "2022-01-26T16:57:41.931Z"
   },
   {
    "duration": 1403,
    "start_time": "2022-01-26T16:57:41.936Z"
   },
   {
    "duration": 1401,
    "start_time": "2022-01-26T16:57:41.940Z"
   },
   {
    "duration": 1398,
    "start_time": "2022-01-26T16:57:41.945Z"
   },
   {
    "duration": 1397,
    "start_time": "2022-01-26T16:57:41.949Z"
   },
   {
    "duration": 1385,
    "start_time": "2022-01-26T16:57:41.963Z"
   },
   {
    "duration": 1383,
    "start_time": "2022-01-26T16:57:41.967Z"
   },
   {
    "duration": 1350,
    "start_time": "2022-01-26T16:58:22.673Z"
   },
   {
    "duration": 60,
    "start_time": "2022-01-26T16:58:24.026Z"
   },
   {
    "duration": 12,
    "start_time": "2022-01-26T16:58:24.089Z"
   },
   {
    "duration": 28,
    "start_time": "2022-01-26T16:58:24.105Z"
   },
   {
    "duration": 18,
    "start_time": "2022-01-26T16:58:24.136Z"
   },
   {
    "duration": 86,
    "start_time": "2022-01-26T16:58:24.156Z"
   },
   {
    "duration": 339,
    "start_time": "2022-01-26T16:58:24.245Z"
   },
   {
    "duration": 239,
    "start_time": "2022-01-26T16:58:24.586Z"
   },
   {
    "duration": 10,
    "start_time": "2022-01-26T16:58:24.833Z"
   },
   {
    "duration": 5,
    "start_time": "2022-01-26T16:58:24.846Z"
   },
   {
    "duration": 12,
    "start_time": "2022-01-26T16:58:24.853Z"
   },
   {
    "duration": 316,
    "start_time": "2022-01-26T16:58:24.868Z"
   },
   {
    "duration": 10,
    "start_time": "2022-01-26T16:58:25.186Z"
   },
   {
    "duration": 2,
    "start_time": "2022-01-26T16:58:25.199Z"
   },
   {
    "duration": 38,
    "start_time": "2022-01-26T16:58:25.204Z"
   },
   {
    "duration": 6,
    "start_time": "2022-01-26T16:58:25.244Z"
   },
   {
    "duration": 9,
    "start_time": "2022-01-26T16:58:25.252Z"
   },
   {
    "duration": 11,
    "start_time": "2022-01-26T16:58:25.264Z"
   },
   {
    "duration": 85,
    "start_time": "2022-01-26T16:58:25.277Z"
   },
   {
    "duration": 15,
    "start_time": "2022-01-26T16:58:25.364Z"
   },
   {
    "duration": 62,
    "start_time": "2022-01-26T16:58:25.382Z"
   },
   {
    "duration": 274,
    "start_time": "2022-01-26T16:58:25.446Z"
   },
   {
    "duration": 42,
    "start_time": "2022-01-26T16:58:25.722Z"
   },
   {
    "duration": 7,
    "start_time": "2022-01-26T16:58:25.766Z"
   },
   {
    "duration": 70,
    "start_time": "2022-01-26T16:58:25.774Z"
   },
   {
    "duration": 165,
    "start_time": "2022-01-26T16:58:25.846Z"
   },
   {
    "duration": 42,
    "start_time": "2022-01-26T16:58:26.016Z"
   },
   {
    "duration": 5,
    "start_time": "2022-01-26T16:58:26.061Z"
   },
   {
    "duration": 6,
    "start_time": "2022-01-26T16:58:26.068Z"
   },
   {
    "duration": 368,
    "start_time": "2022-01-26T16:58:26.076Z"
   },
   {
    "duration": 1402,
    "start_time": "2022-01-26T16:58:25.044Z"
   },
   {
    "duration": 1398,
    "start_time": "2022-01-26T16:58:25.050Z"
   },
   {
    "duration": 1396,
    "start_time": "2022-01-26T16:58:25.053Z"
   },
   {
    "duration": 1396,
    "start_time": "2022-01-26T16:58:25.056Z"
   },
   {
    "duration": 1394,
    "start_time": "2022-01-26T16:58:25.059Z"
   },
   {
    "duration": 1393,
    "start_time": "2022-01-26T16:58:25.062Z"
   },
   {
    "duration": 1392,
    "start_time": "2022-01-26T16:58:25.064Z"
   },
   {
    "duration": 1391,
    "start_time": "2022-01-26T16:58:25.067Z"
   },
   {
    "duration": 1380,
    "start_time": "2022-01-26T16:58:25.080Z"
   },
   {
    "duration": 1378,
    "start_time": "2022-01-26T16:58:25.084Z"
   },
   {
    "duration": 1377,
    "start_time": "2022-01-26T16:58:25.087Z"
   },
   {
    "duration": 1376,
    "start_time": "2022-01-26T16:58:25.090Z"
   },
   {
    "duration": 1376,
    "start_time": "2022-01-26T16:58:25.092Z"
   },
   {
    "duration": 1373,
    "start_time": "2022-01-26T16:58:25.096Z"
   },
   {
    "duration": 1373,
    "start_time": "2022-01-26T16:58:25.098Z"
   },
   {
    "duration": 1574,
    "start_time": "2022-01-26T16:58:51.174Z"
   },
   {
    "duration": 86,
    "start_time": "2022-01-26T16:58:52.752Z"
   },
   {
    "duration": 13,
    "start_time": "2022-01-26T16:58:52.842Z"
   },
   {
    "duration": 7,
    "start_time": "2022-01-26T16:58:52.858Z"
   },
   {
    "duration": 19,
    "start_time": "2022-01-26T16:58:52.867Z"
   },
   {
    "duration": 96,
    "start_time": "2022-01-26T16:58:52.888Z"
   },
   {
    "duration": 372,
    "start_time": "2022-01-26T16:58:52.987Z"
   },
   {
    "duration": 351,
    "start_time": "2022-01-26T16:58:53.365Z"
   },
   {
    "duration": 15,
    "start_time": "2022-01-26T16:58:53.719Z"
   },
   {
    "duration": 4,
    "start_time": "2022-01-26T16:58:53.737Z"
   },
   {
    "duration": 12,
    "start_time": "2022-01-26T16:58:53.744Z"
   },
   {
    "duration": 313,
    "start_time": "2022-01-26T16:58:53.759Z"
   },
   {
    "duration": 10,
    "start_time": "2022-01-26T16:58:54.075Z"
   },
   {
    "duration": 8,
    "start_time": "2022-01-26T16:58:54.087Z"
   },
   {
    "duration": 34,
    "start_time": "2022-01-26T16:58:54.098Z"
   },
   {
    "duration": 7,
    "start_time": "2022-01-26T16:58:54.135Z"
   },
   {
    "duration": 7,
    "start_time": "2022-01-26T16:58:54.145Z"
   },
   {
    "duration": 6,
    "start_time": "2022-01-26T16:58:54.155Z"
   },
   {
    "duration": 85,
    "start_time": "2022-01-26T16:58:54.163Z"
   },
   {
    "duration": 6,
    "start_time": "2022-01-26T16:58:54.251Z"
   },
   {
    "duration": 38,
    "start_time": "2022-01-26T16:58:54.259Z"
   },
   {
    "duration": 328,
    "start_time": "2022-01-26T16:58:54.299Z"
   },
   {
    "duration": 39,
    "start_time": "2022-01-26T16:58:54.634Z"
   },
   {
    "duration": 6,
    "start_time": "2022-01-26T16:58:54.676Z"
   },
   {
    "duration": 71,
    "start_time": "2022-01-26T16:58:54.684Z"
   },
   {
    "duration": 175,
    "start_time": "2022-01-26T16:58:54.757Z"
   },
   {
    "duration": 37,
    "start_time": "2022-01-26T16:58:54.935Z"
   },
   {
    "duration": 5,
    "start_time": "2022-01-26T16:58:54.975Z"
   },
   {
    "duration": 49,
    "start_time": "2022-01-26T16:58:54.983Z"
   },
   {
    "duration": 59,
    "start_time": "2022-01-26T16:58:55.035Z"
   },
   {
    "duration": 6136,
    "start_time": "2022-01-26T16:58:55.097Z"
   },
   {
    "duration": 249,
    "start_time": "2022-01-26T16:59:01.236Z"
   },
   {
    "duration": 6145,
    "start_time": "2022-01-26T16:59:01.487Z"
   },
   {
    "duration": 506,
    "start_time": "2022-01-26T16:59:07.635Z"
   },
   {
    "duration": 94,
    "start_time": "2022-01-26T16:59:08.144Z"
   },
   {
    "duration": 10,
    "start_time": "2022-01-26T16:59:08.241Z"
   },
   {
    "duration": 7,
    "start_time": "2022-01-26T16:59:08.254Z"
   },
   {
    "duration": 391,
    "start_time": "2022-01-26T16:59:08.264Z"
   },
   {
    "duration": 685,
    "start_time": "2022-01-26T16:59:08.657Z"
   },
   {
    "duration": 9012,
    "start_time": "2022-01-26T16:59:09.346Z"
   },
   {
    "duration": 77,
    "start_time": "2022-01-26T16:59:18.361Z"
   },
   {
    "duration": 376,
    "start_time": "2022-01-26T16:59:18.440Z"
   },
   {
    "duration": 1416,
    "start_time": "2022-01-26T16:59:17.402Z"
   },
   {
    "duration": 1413,
    "start_time": "2022-01-26T16:59:17.407Z"
   },
   {
    "duration": 1410,
    "start_time": "2022-01-26T16:59:17.411Z"
   },
   {
    "duration": 1405,
    "start_time": "2022-01-26T17:00:24.166Z"
   },
   {
    "duration": 60,
    "start_time": "2022-01-26T17:00:25.573Z"
   },
   {
    "duration": 12,
    "start_time": "2022-01-26T17:00:25.637Z"
   },
   {
    "duration": 6,
    "start_time": "2022-01-26T17:00:25.652Z"
   },
   {
    "duration": 19,
    "start_time": "2022-01-26T17:00:25.660Z"
   },
   {
    "duration": 96,
    "start_time": "2022-01-26T17:00:25.682Z"
   },
   {
    "duration": 335,
    "start_time": "2022-01-26T17:00:25.781Z"
   },
   {
    "duration": 238,
    "start_time": "2022-01-26T17:00:26.119Z"
   },
   {
    "duration": 11,
    "start_time": "2022-01-26T17:00:26.361Z"
   },
   {
    "duration": 16,
    "start_time": "2022-01-26T17:00:26.376Z"
   },
   {
    "duration": 16,
    "start_time": "2022-01-26T17:00:26.395Z"
   },
   {
    "duration": 304,
    "start_time": "2022-01-26T17:00:26.414Z"
   },
   {
    "duration": 17,
    "start_time": "2022-01-26T17:00:26.721Z"
   },
   {
    "duration": 3,
    "start_time": "2022-01-26T17:00:26.741Z"
   },
   {
    "duration": 21,
    "start_time": "2022-01-26T17:00:26.746Z"
   },
   {
    "duration": 7,
    "start_time": "2022-01-26T17:00:26.770Z"
   },
   {
    "duration": 10,
    "start_time": "2022-01-26T17:00:26.780Z"
   },
   {
    "duration": 7,
    "start_time": "2022-01-26T17:00:26.834Z"
   },
   {
    "duration": 59,
    "start_time": "2022-01-26T17:00:26.844Z"
   },
   {
    "duration": 28,
    "start_time": "2022-01-26T17:00:26.907Z"
   },
   {
    "duration": 37,
    "start_time": "2022-01-26T17:00:26.938Z"
   },
   {
    "duration": 404,
    "start_time": "2022-01-26T17:00:26.978Z"
   },
   {
    "duration": 52,
    "start_time": "2022-01-26T17:00:27.385Z"
   },
   {
    "duration": 8,
    "start_time": "2022-01-26T17:00:27.439Z"
   },
   {
    "duration": 44,
    "start_time": "2022-01-26T17:00:27.449Z"
   },
   {
    "duration": 179,
    "start_time": "2022-01-26T17:00:27.495Z"
   },
   {
    "duration": 36,
    "start_time": "2022-01-26T17:00:27.679Z"
   },
   {
    "duration": 17,
    "start_time": "2022-01-26T17:00:27.718Z"
   },
   {
    "duration": 13,
    "start_time": "2022-01-26T17:00:27.738Z"
   },
   {
    "duration": 84,
    "start_time": "2022-01-26T17:00:27.754Z"
   },
   {
    "duration": 7122,
    "start_time": "2022-01-26T17:00:27.841Z"
   },
   {
    "duration": 267,
    "start_time": "2022-01-26T17:00:34.965Z"
   },
   {
    "duration": 5963,
    "start_time": "2022-01-26T17:00:35.235Z"
   },
   {
    "duration": 532,
    "start_time": "2022-01-26T17:00:41.200Z"
   },
   {
    "duration": 10,
    "start_time": "2022-01-26T17:00:41.735Z"
   },
   {
    "duration": 106,
    "start_time": "2022-01-26T17:00:41.747Z"
   },
   {
    "duration": 14,
    "start_time": "2022-01-26T17:00:41.856Z"
   },
   {
    "duration": 373,
    "start_time": "2022-01-26T17:00:41.873Z"
   },
   {
    "duration": 617,
    "start_time": "2022-01-26T17:00:42.249Z"
   },
   {
    "duration": 8777,
    "start_time": "2022-01-26T17:00:42.938Z"
   },
   {
    "duration": 630,
    "start_time": "2022-01-26T17:00:51.718Z"
   },
   {
    "duration": 1414,
    "start_time": "2022-01-26T17:00:50.936Z"
   },
   {
    "duration": 1425,
    "start_time": "2022-01-26T17:01:15.294Z"
   },
   {
    "duration": 59,
    "start_time": "2022-01-26T17:01:16.722Z"
   },
   {
    "duration": 12,
    "start_time": "2022-01-26T17:01:16.784Z"
   },
   {
    "duration": 32,
    "start_time": "2022-01-26T17:01:16.799Z"
   },
   {
    "duration": 18,
    "start_time": "2022-01-26T17:01:16.834Z"
   },
   {
    "duration": 87,
    "start_time": "2022-01-26T17:01:16.854Z"
   },
   {
    "duration": 337,
    "start_time": "2022-01-26T17:01:16.945Z"
   },
   {
    "duration": 235,
    "start_time": "2022-01-26T17:01:17.286Z"
   },
   {
    "duration": 17,
    "start_time": "2022-01-26T17:01:17.525Z"
   },
   {
    "duration": 5,
    "start_time": "2022-01-26T17:01:17.544Z"
   },
   {
    "duration": 10,
    "start_time": "2022-01-26T17:01:17.551Z"
   },
   {
    "duration": 312,
    "start_time": "2022-01-26T17:01:17.564Z"
   },
   {
    "duration": 10,
    "start_time": "2022-01-26T17:01:17.878Z"
   },
   {
    "duration": 6,
    "start_time": "2022-01-26T17:01:17.891Z"
   },
   {
    "duration": 38,
    "start_time": "2022-01-26T17:01:17.900Z"
   },
   {
    "duration": 6,
    "start_time": "2022-01-26T17:01:17.941Z"
   },
   {
    "duration": 14,
    "start_time": "2022-01-26T17:01:17.949Z"
   },
   {
    "duration": 15,
    "start_time": "2022-01-26T17:01:17.965Z"
   },
   {
    "duration": 78,
    "start_time": "2022-01-26T17:01:17.983Z"
   },
   {
    "duration": 5,
    "start_time": "2022-01-26T17:01:18.064Z"
   },
   {
    "duration": 62,
    "start_time": "2022-01-26T17:01:18.072Z"
   },
   {
    "duration": 272,
    "start_time": "2022-01-26T17:01:18.139Z"
   },
   {
    "duration": 50,
    "start_time": "2022-01-26T17:01:18.413Z"
   },
   {
    "duration": 7,
    "start_time": "2022-01-26T17:01:18.466Z"
   },
   {
    "duration": 63,
    "start_time": "2022-01-26T17:01:18.475Z"
   },
   {
    "duration": 176,
    "start_time": "2022-01-26T17:01:18.541Z"
   },
   {
    "duration": 44,
    "start_time": "2022-01-26T17:01:18.720Z"
   },
   {
    "duration": 7,
    "start_time": "2022-01-26T17:01:18.767Z"
   },
   {
    "duration": 15,
    "start_time": "2022-01-26T17:01:18.777Z"
   },
   {
    "duration": 88,
    "start_time": "2022-01-26T17:01:18.794Z"
   },
   {
    "duration": 5946,
    "start_time": "2022-01-26T17:01:18.885Z"
   },
   {
    "duration": 234,
    "start_time": "2022-01-26T17:01:24.833Z"
   },
   {
    "duration": 1343,
    "start_time": "2022-01-26T17:04:36.849Z"
   },
   {
    "duration": 57,
    "start_time": "2022-01-26T17:04:38.194Z"
   },
   {
    "duration": 11,
    "start_time": "2022-01-26T17:04:38.255Z"
   },
   {
    "duration": 5,
    "start_time": "2022-01-26T17:04:38.270Z"
   },
   {
    "duration": 21,
    "start_time": "2022-01-26T17:04:38.278Z"
   },
   {
    "duration": 63,
    "start_time": "2022-01-26T17:04:38.332Z"
   },
   {
    "duration": 345,
    "start_time": "2022-01-26T17:04:38.398Z"
   },
   {
    "duration": 240,
    "start_time": "2022-01-26T17:04:38.747Z"
   },
   {
    "duration": 14,
    "start_time": "2022-01-26T17:04:38.991Z"
   },
   {
    "duration": 26,
    "start_time": "2022-01-26T17:04:39.008Z"
   },
   {
    "duration": 16,
    "start_time": "2022-01-26T17:04:39.037Z"
   },
   {
    "duration": 454,
    "start_time": "2022-01-26T17:04:39.056Z"
   },
   {
    "duration": 26,
    "start_time": "2022-01-26T17:04:39.513Z"
   },
   {
    "duration": 13,
    "start_time": "2022-01-26T17:04:39.542Z"
   },
   {
    "duration": 18,
    "start_time": "2022-01-26T17:04:39.558Z"
   },
   {
    "duration": 6,
    "start_time": "2022-01-26T17:04:39.579Z"
   },
   {
    "duration": 8,
    "start_time": "2022-01-26T17:04:39.587Z"
   },
   {
    "duration": 37,
    "start_time": "2022-01-26T17:04:39.597Z"
   },
   {
    "duration": 38,
    "start_time": "2022-01-26T17:04:39.636Z"
   },
   {
    "duration": 6,
    "start_time": "2022-01-26T17:04:39.676Z"
   },
   {
    "duration": 78,
    "start_time": "2022-01-26T17:04:39.685Z"
   },
   {
    "duration": 286,
    "start_time": "2022-01-26T17:04:39.766Z"
   },
   {
    "duration": 36,
    "start_time": "2022-01-26T17:04:40.057Z"
   },
   {
    "duration": 6,
    "start_time": "2022-01-26T17:04:40.095Z"
   },
   {
    "duration": 65,
    "start_time": "2022-01-26T17:04:40.103Z"
   },
   {
    "duration": 186,
    "start_time": "2022-01-26T17:04:40.170Z"
   },
   {
    "duration": 38,
    "start_time": "2022-01-26T17:04:40.358Z"
   },
   {
    "duration": 5,
    "start_time": "2022-01-26T17:04:40.399Z"
   },
   {
    "duration": 28,
    "start_time": "2022-01-26T17:04:40.407Z"
   },
   {
    "duration": 94,
    "start_time": "2022-01-26T17:04:40.438Z"
   },
   {
    "duration": 6022,
    "start_time": "2022-01-26T17:04:40.535Z"
   },
   {
    "duration": 245,
    "start_time": "2022-01-26T17:04:46.559Z"
   },
   {
    "duration": 6127,
    "start_time": "2022-01-26T17:04:46.807Z"
   },
   {
    "duration": 500,
    "start_time": "2022-01-26T17:04:52.937Z"
   },
   {
    "duration": 93,
    "start_time": "2022-01-26T17:04:53.441Z"
   },
   {
    "duration": 9,
    "start_time": "2022-01-26T17:04:53.537Z"
   },
   {
    "duration": 5,
    "start_time": "2022-01-26T17:04:53.549Z"
   },
   {
    "duration": 366,
    "start_time": "2022-01-26T17:04:53.557Z"
   },
   {
    "duration": 708,
    "start_time": "2022-01-26T17:04:53.926Z"
   },
   {
    "duration": 8747,
    "start_time": "2022-01-26T17:04:54.637Z"
   },
   {
    "duration": 13335,
    "start_time": "2022-01-26T17:05:03.387Z"
   },
   {
    "duration": 51,
    "start_time": "2022-01-26T17:05:34.527Z"
   },
   {
    "duration": 26,
    "start_time": "2022-01-26T17:06:07.199Z"
   },
   {
    "duration": 59,
    "start_time": "2022-01-26T17:06:13.990Z"
   },
   {
    "duration": 25,
    "start_time": "2022-01-26T17:06:29.506Z"
   },
   {
    "duration": 505,
    "start_time": "2022-01-26T17:06:33.702Z"
   },
   {
    "duration": 51,
    "start_time": "2022-01-26T17:06:40.463Z"
   },
   {
    "duration": 5,
    "start_time": "2022-01-26T17:07:08.079Z"
   },
   {
    "duration": 9,
    "start_time": "2022-01-26T17:07:13.829Z"
   },
   {
    "duration": 8,
    "start_time": "2022-01-26T17:07:50.366Z"
   },
   {
    "duration": 79,
    "start_time": "2022-01-26T17:07:59.845Z"
   },
   {
    "duration": 1421,
    "start_time": "2022-01-26T17:08:13.898Z"
   },
   {
    "duration": 67,
    "start_time": "2022-01-26T17:08:15.322Z"
   },
   {
    "duration": 18,
    "start_time": "2022-01-26T17:08:15.393Z"
   },
   {
    "duration": 11,
    "start_time": "2022-01-26T17:08:15.432Z"
   },
   {
    "duration": 26,
    "start_time": "2022-01-26T17:08:15.446Z"
   },
   {
    "duration": 100,
    "start_time": "2022-01-26T17:08:15.475Z"
   },
   {
    "duration": 374,
    "start_time": "2022-01-26T17:08:15.577Z"
   },
   {
    "duration": 263,
    "start_time": "2022-01-26T17:08:15.954Z"
   },
   {
    "duration": 23,
    "start_time": "2022-01-26T17:08:16.222Z"
   },
   {
    "duration": 7,
    "start_time": "2022-01-26T17:08:16.250Z"
   },
   {
    "duration": 11,
    "start_time": "2022-01-26T17:08:16.259Z"
   },
   {
    "duration": 330,
    "start_time": "2022-01-26T17:08:16.273Z"
   },
   {
    "duration": 26,
    "start_time": "2022-01-26T17:08:16.606Z"
   },
   {
    "duration": 4,
    "start_time": "2022-01-26T17:08:16.636Z"
   },
   {
    "duration": 35,
    "start_time": "2022-01-26T17:08:16.644Z"
   },
   {
    "duration": 7,
    "start_time": "2022-01-26T17:08:16.682Z"
   },
   {
    "duration": 8,
    "start_time": "2022-01-26T17:08:16.692Z"
   },
   {
    "duration": 35,
    "start_time": "2022-01-26T17:08:16.702Z"
   },
   {
    "duration": 72,
    "start_time": "2022-01-26T17:08:16.740Z"
   },
   {
    "duration": 17,
    "start_time": "2022-01-26T17:08:16.815Z"
   },
   {
    "duration": 40,
    "start_time": "2022-01-26T17:08:16.836Z"
   },
   {
    "duration": 277,
    "start_time": "2022-01-26T17:08:16.879Z"
   },
   {
    "duration": 38,
    "start_time": "2022-01-26T17:08:17.158Z"
   },
   {
    "duration": 7,
    "start_time": "2022-01-26T17:08:17.198Z"
   },
   {
    "duration": 72,
    "start_time": "2022-01-26T17:08:17.207Z"
   },
   {
    "duration": 186,
    "start_time": "2022-01-26T17:08:17.281Z"
   },
   {
    "duration": 38,
    "start_time": "2022-01-26T17:08:17.472Z"
   },
   {
    "duration": 7,
    "start_time": "2022-01-26T17:08:17.532Z"
   },
   {
    "duration": 13,
    "start_time": "2022-01-26T17:08:17.542Z"
   },
   {
    "duration": 100,
    "start_time": "2022-01-26T17:08:17.558Z"
   },
   {
    "duration": 7803,
    "start_time": "2022-01-26T17:08:17.661Z"
   },
   {
    "duration": 343,
    "start_time": "2022-01-26T17:08:25.468Z"
   },
   {
    "duration": 6914,
    "start_time": "2022-01-26T17:08:25.814Z"
   },
   {
    "duration": 508,
    "start_time": "2022-01-26T17:08:32.734Z"
   },
   {
    "duration": 93,
    "start_time": "2022-01-26T17:08:33.246Z"
   },
   {
    "duration": 11,
    "start_time": "2022-01-26T17:08:33.342Z"
   },
   {
    "duration": 6,
    "start_time": "2022-01-26T17:08:33.355Z"
   },
   {
    "duration": 397,
    "start_time": "2022-01-26T17:08:33.364Z"
   },
   {
    "duration": 677,
    "start_time": "2022-01-26T17:08:33.763Z"
   },
   {
    "duration": 9493,
    "start_time": "2022-01-26T17:08:34.447Z"
   },
   {
    "duration": 10160,
    "start_time": "2022-01-26T17:08:43.943Z"
   },
   {
    "duration": 45,
    "start_time": "2022-01-26T17:08:54.106Z"
   },
   {
    "duration": 60,
    "start_time": "2022-01-26T17:09:48.646Z"
   },
   {
    "duration": 410,
    "start_time": "2022-01-26T17:13:22.917Z"
   },
   {
    "duration": 28,
    "start_time": "2022-01-26T17:13:33.269Z"
   },
   {
    "duration": 962,
    "start_time": "2022-01-26T17:14:15.059Z"
   },
   {
    "duration": 502,
    "start_time": "2022-01-26T17:14:38.077Z"
   },
   {
    "duration": 969,
    "start_time": "2022-01-26T17:15:09.563Z"
   },
   {
    "duration": 684,
    "start_time": "2022-01-26T17:16:15.746Z"
   },
   {
    "duration": 875,
    "start_time": "2022-01-26T17:16:56.728Z"
   },
   {
    "duration": 56,
    "start_time": "2022-01-26T17:18:19.976Z"
   },
   {
    "duration": 39,
    "start_time": "2022-01-26T17:19:28.958Z"
   },
   {
    "duration": 273,
    "start_time": "2022-01-26T17:19:54.397Z"
   },
   {
    "duration": 683,
    "start_time": "2022-01-26T17:20:17.746Z"
   },
   {
    "duration": 920,
    "start_time": "2022-01-26T17:20:48.709Z"
   },
   {
    "duration": 925,
    "start_time": "2022-01-26T17:20:57.972Z"
   },
   {
    "duration": 47,
    "start_time": "2022-01-26T17:22:27.228Z"
   },
   {
    "duration": 1464,
    "start_time": "2022-01-26T17:22:59.328Z"
   },
   {
    "duration": 67,
    "start_time": "2022-01-26T17:23:00.795Z"
   },
   {
    "duration": 19,
    "start_time": "2022-01-26T17:23:00.866Z"
   },
   {
    "duration": 37,
    "start_time": "2022-01-26T17:23:00.888Z"
   },
   {
    "duration": 53,
    "start_time": "2022-01-26T17:23:00.928Z"
   },
   {
    "duration": 101,
    "start_time": "2022-01-26T17:23:00.984Z"
   },
   {
    "duration": 339,
    "start_time": "2022-01-26T17:23:01.088Z"
   },
   {
    "duration": 248,
    "start_time": "2022-01-26T17:23:01.430Z"
   },
   {
    "duration": 11,
    "start_time": "2022-01-26T17:23:01.684Z"
   },
   {
    "duration": 21,
    "start_time": "2022-01-26T17:23:01.699Z"
   },
   {
    "duration": 28,
    "start_time": "2022-01-26T17:23:01.723Z"
   },
   {
    "duration": 339,
    "start_time": "2022-01-26T17:23:01.754Z"
   },
   {
    "duration": 12,
    "start_time": "2022-01-26T17:23:02.097Z"
   },
   {
    "duration": 22,
    "start_time": "2022-01-26T17:23:02.113Z"
   },
   {
    "duration": 19,
    "start_time": "2022-01-26T17:23:02.138Z"
   },
   {
    "duration": 6,
    "start_time": "2022-01-26T17:23:02.160Z"
   },
   {
    "duration": 9,
    "start_time": "2022-01-26T17:23:02.169Z"
   },
   {
    "duration": 8,
    "start_time": "2022-01-26T17:23:02.181Z"
   },
   {
    "duration": 90,
    "start_time": "2022-01-26T17:23:02.191Z"
   },
   {
    "duration": 13,
    "start_time": "2022-01-26T17:23:02.284Z"
   },
   {
    "duration": 55,
    "start_time": "2022-01-26T17:23:02.299Z"
   },
   {
    "duration": 292,
    "start_time": "2022-01-26T17:23:02.358Z"
   },
   {
    "duration": 39,
    "start_time": "2022-01-26T17:23:02.653Z"
   },
   {
    "duration": 7,
    "start_time": "2022-01-26T17:23:02.694Z"
   },
   {
    "duration": 71,
    "start_time": "2022-01-26T17:23:02.704Z"
   },
   {
    "duration": 201,
    "start_time": "2022-01-26T17:23:02.778Z"
   },
   {
    "duration": 38,
    "start_time": "2022-01-26T17:23:02.984Z"
   },
   {
    "duration": 13,
    "start_time": "2022-01-26T17:23:03.025Z"
   },
   {
    "duration": 29,
    "start_time": "2022-01-26T17:23:03.042Z"
   },
   {
    "duration": 104,
    "start_time": "2022-01-26T17:23:03.075Z"
   },
   {
    "duration": 7481,
    "start_time": "2022-01-26T17:23:03.183Z"
   },
   {
    "duration": 274,
    "start_time": "2022-01-26T17:23:10.667Z"
   },
   {
    "duration": 7385,
    "start_time": "2022-01-26T17:23:10.943Z"
   },
   {
    "duration": 531,
    "start_time": "2022-01-26T17:23:18.334Z"
   },
   {
    "duration": 11,
    "start_time": "2022-01-26T17:23:18.936Z"
   },
   {
    "duration": 88,
    "start_time": "2022-01-26T17:23:18.951Z"
   },
   {
    "duration": 18,
    "start_time": "2022-01-26T17:23:19.042Z"
   },
   {
    "duration": 444,
    "start_time": "2022-01-26T17:23:19.064Z"
   },
   {
    "duration": 664,
    "start_time": "2022-01-26T17:23:19.510Z"
   },
   {
    "duration": 10143,
    "start_time": "2022-01-26T17:23:20.234Z"
   },
   {
    "duration": 10194,
    "start_time": "2022-01-26T17:23:30.380Z"
   },
   {
    "duration": 28,
    "start_time": "2022-01-26T17:23:40.577Z"
   },
   {
    "duration": 1071,
    "start_time": "2022-01-26T17:23:40.608Z"
   },
   {
    "duration": 1465,
    "start_time": "2022-01-26T17:24:26.749Z"
   },
   {
    "duration": 64,
    "start_time": "2022-01-26T17:24:28.217Z"
   },
   {
    "duration": 15,
    "start_time": "2022-01-26T17:24:28.285Z"
   },
   {
    "duration": 32,
    "start_time": "2022-01-26T17:24:28.303Z"
   },
   {
    "duration": 25,
    "start_time": "2022-01-26T17:24:28.338Z"
   },
   {
    "duration": 92,
    "start_time": "2022-01-26T17:24:28.367Z"
   },
   {
    "duration": 371,
    "start_time": "2022-01-26T17:24:28.462Z"
   },
   {
    "duration": 249,
    "start_time": "2022-01-26T17:24:28.836Z"
   },
   {
    "duration": 12,
    "start_time": "2022-01-26T17:24:29.090Z"
   },
   {
    "duration": 3,
    "start_time": "2022-01-26T17:24:29.106Z"
   },
   {
    "duration": 23,
    "start_time": "2022-01-26T17:24:29.112Z"
   },
   {
    "duration": 13,
    "start_time": "2022-01-26T17:24:29.138Z"
   },
   {
    "duration": 14,
    "start_time": "2022-01-26T17:24:29.154Z"
   },
   {
    "duration": 4,
    "start_time": "2022-01-26T17:24:29.171Z"
   },
   {
    "duration": 18,
    "start_time": "2022-01-26T17:24:29.178Z"
   },
   {
    "duration": 8,
    "start_time": "2022-01-26T17:24:29.232Z"
   },
   {
    "duration": 18,
    "start_time": "2022-01-26T17:24:29.243Z"
   },
   {
    "duration": 17,
    "start_time": "2022-01-26T17:24:29.264Z"
   },
   {
    "duration": 69,
    "start_time": "2022-01-26T17:24:29.284Z"
   },
   {
    "duration": 8,
    "start_time": "2022-01-26T17:24:29.356Z"
   },
   {
    "duration": 41,
    "start_time": "2022-01-26T17:24:29.367Z"
   },
   {
    "duration": 285,
    "start_time": "2022-01-26T17:24:29.434Z"
   },
   {
    "duration": 55,
    "start_time": "2022-01-26T17:24:29.721Z"
   },
   {
    "duration": 9,
    "start_time": "2022-01-26T17:24:29.780Z"
   },
   {
    "duration": 96,
    "start_time": "2022-01-26T17:24:29.792Z"
   },
   {
    "duration": 189,
    "start_time": "2022-01-26T17:24:29.891Z"
   },
   {
    "duration": 70,
    "start_time": "2022-01-26T17:24:30.088Z"
   },
   {
    "duration": 6,
    "start_time": "2022-01-26T17:24:30.162Z"
   },
   {
    "duration": 18,
    "start_time": "2022-01-26T17:24:30.172Z"
   },
   {
    "duration": 93,
    "start_time": "2022-01-26T17:24:30.193Z"
   },
   {
    "duration": 6377,
    "start_time": "2022-01-26T17:24:30.288Z"
   },
   {
    "duration": 255,
    "start_time": "2022-01-26T17:24:36.668Z"
   },
   {
    "duration": 6382,
    "start_time": "2022-01-26T17:24:36.932Z"
   },
   {
    "duration": 539,
    "start_time": "2022-01-26T17:24:43.316Z"
   },
   {
    "duration": 83,
    "start_time": "2022-01-26T17:24:43.858Z"
   },
   {
    "duration": 19,
    "start_time": "2022-01-26T17:24:43.945Z"
   },
   {
    "duration": 9,
    "start_time": "2022-01-26T17:24:43.967Z"
   },
   {
    "duration": 413,
    "start_time": "2022-01-26T17:24:43.979Z"
   },
   {
    "duration": 648,
    "start_time": "2022-01-26T17:24:44.394Z"
   },
   {
    "duration": 9556,
    "start_time": "2022-01-26T17:24:45.046Z"
   },
   {
    "duration": 10647,
    "start_time": "2022-01-26T17:24:54.605Z"
   },
   {
    "duration": 27,
    "start_time": "2022-01-26T17:25:05.254Z"
   },
   {
    "duration": 1063,
    "start_time": "2022-01-26T17:25:05.283Z"
   },
   {
    "duration": 611,
    "start_time": "2022-01-26T17:26:01.466Z"
   },
   {
    "duration": 514,
    "start_time": "2022-01-26T17:34:20.084Z"
   },
   {
    "duration": 49,
    "start_time": "2022-01-26T17:38:25.213Z"
   },
   {
    "duration": 35,
    "start_time": "2022-01-26T17:40:03.978Z"
   },
   {
    "duration": 7,
    "start_time": "2022-01-26T17:41:38.681Z"
   },
   {
    "duration": 8,
    "start_time": "2022-01-26T17:44:58.870Z"
   },
   {
    "duration": 6496,
    "start_time": "2022-01-26T17:54:31.206Z"
   },
   {
    "duration": 6557,
    "start_time": "2022-01-26T17:55:13.210Z"
   },
   {
    "duration": 6386,
    "start_time": "2022-01-26T17:55:27.901Z"
   },
   {
    "duration": 6972,
    "start_time": "2022-01-26T17:57:04.743Z"
   },
   {
    "duration": 83,
    "start_time": "2022-01-26T17:58:00.153Z"
   },
   {
    "duration": 548,
    "start_time": "2022-01-26T17:58:11.996Z"
   },
   {
    "duration": 7032,
    "start_time": "2022-01-26T18:06:52.490Z"
   },
   {
    "duration": 563,
    "start_time": "2022-01-26T18:07:33.280Z"
   },
   {
    "duration": 111,
    "start_time": "2022-01-26T18:08:14.551Z"
   },
   {
    "duration": 604,
    "start_time": "2022-01-26T18:08:35.736Z"
   },
   {
    "duration": 9120,
    "start_time": "2022-01-26T18:09:27.294Z"
   },
   {
    "duration": 6829,
    "start_time": "2022-01-26T18:10:45.646Z"
   },
   {
    "duration": 808,
    "start_time": "2022-01-26T18:12:37.039Z"
   },
   {
    "duration": 9824,
    "start_time": "2022-01-26T18:13:39.890Z"
   },
   {
    "duration": 15479,
    "start_time": "2022-01-26T18:15:15.770Z"
   },
   {
    "duration": 553,
    "start_time": "2022-01-26T18:17:53.231Z"
   },
   {
    "duration": 1977,
    "start_time": "2022-01-26T18:20:17.334Z"
   },
   {
    "duration": 108,
    "start_time": "2022-01-26T18:20:19.323Z"
   },
   {
    "duration": 16,
    "start_time": "2022-01-26T18:20:19.443Z"
   },
   {
    "duration": 7,
    "start_time": "2022-01-26T18:20:19.463Z"
   },
   {
    "duration": 23,
    "start_time": "2022-01-26T18:20:19.473Z"
   },
   {
    "duration": 108,
    "start_time": "2022-01-26T18:20:19.499Z"
   },
   {
    "duration": 9,
    "start_time": "2022-01-26T18:20:19.609Z"
   },
   {
    "duration": 19,
    "start_time": "2022-01-26T18:20:19.633Z"
   },
   {
    "duration": 7,
    "start_time": "2022-01-26T18:20:19.660Z"
   },
   {
    "duration": 7,
    "start_time": "2022-01-26T18:20:19.671Z"
   },
   {
    "duration": 6,
    "start_time": "2022-01-26T18:20:19.681Z"
   },
   {
    "duration": 76,
    "start_time": "2022-01-26T18:20:19.690Z"
   },
   {
    "duration": 7,
    "start_time": "2022-01-26T18:20:19.768Z"
   },
   {
    "duration": 90,
    "start_time": "2022-01-26T18:20:19.777Z"
   },
   {
    "duration": 280,
    "start_time": "2022-01-26T18:20:19.869Z"
   },
   {
    "duration": 40,
    "start_time": "2022-01-26T18:20:20.151Z"
   },
   {
    "duration": 7,
    "start_time": "2022-01-26T18:20:20.193Z"
   },
   {
    "duration": 50,
    "start_time": "2022-01-26T18:20:20.233Z"
   },
   {
    "duration": 193,
    "start_time": "2022-01-26T18:20:20.285Z"
   },
   {
    "duration": 54,
    "start_time": "2022-01-26T18:20:20.481Z"
   },
   {
    "duration": 7,
    "start_time": "2022-01-26T18:20:20.539Z"
   },
   {
    "duration": 14,
    "start_time": "2022-01-26T18:20:20.550Z"
   },
   {
    "duration": 90,
    "start_time": "2022-01-26T18:20:20.566Z"
   },
   {
    "duration": 7439,
    "start_time": "2022-01-26T18:20:20.659Z"
   },
   {
    "duration": 612,
    "start_time": "2022-01-26T18:20:28.102Z"
   },
   {
    "duration": 7011,
    "start_time": "2022-01-26T18:20:28.716Z"
   },
   {
    "duration": 597,
    "start_time": "2022-01-26T18:20:35.738Z"
   },
   {
    "duration": 11,
    "start_time": "2022-01-26T18:20:36.338Z"
   },
   {
    "duration": 87,
    "start_time": "2022-01-26T18:20:36.352Z"
   },
   {
    "duration": 12,
    "start_time": "2022-01-26T18:20:36.443Z"
   },
   {
    "duration": 529,
    "start_time": "2022-01-26T18:20:36.458Z"
   },
   {
    "duration": 1067,
    "start_time": "2022-01-26T18:20:36.991Z"
   },
   {
    "duration": 10047,
    "start_time": "2022-01-26T18:20:38.134Z"
   },
   {
    "duration": 10937,
    "start_time": "2022-01-26T18:20:48.184Z"
   },
   {
    "duration": 39,
    "start_time": "2022-01-26T18:20:59.124Z"
   },
   {
    "duration": 37,
    "start_time": "2022-01-26T18:20:59.166Z"
   },
   {
    "duration": 599,
    "start_time": "2022-01-26T18:20:59.205Z"
   },
   {
    "duration": 1490,
    "start_time": "2022-01-26T18:38:34.512Z"
   },
   {
    "duration": 74,
    "start_time": "2022-01-26T18:38:36.005Z"
   },
   {
    "duration": 17,
    "start_time": "2022-01-26T18:38:36.083Z"
   },
   {
    "duration": 10,
    "start_time": "2022-01-26T18:38:36.105Z"
   },
   {
    "duration": 45,
    "start_time": "2022-01-26T18:38:36.133Z"
   },
   {
    "duration": 83,
    "start_time": "2022-01-26T18:38:36.180Z"
   },
   {
    "duration": 12,
    "start_time": "2022-01-26T18:38:36.266Z"
   },
   {
    "duration": 12,
    "start_time": "2022-01-26T18:38:36.282Z"
   },
   {
    "duration": 6,
    "start_time": "2022-01-26T18:38:36.297Z"
   },
   {
    "duration": 22,
    "start_time": "2022-01-26T18:38:36.334Z"
   },
   {
    "duration": 7,
    "start_time": "2022-01-26T18:38:36.358Z"
   },
   {
    "duration": 39,
    "start_time": "2022-01-26T18:38:36.367Z"
   },
   {
    "duration": 8,
    "start_time": "2022-01-26T18:38:36.432Z"
   },
   {
    "duration": 51,
    "start_time": "2022-01-26T18:38:36.442Z"
   },
   {
    "duration": 278,
    "start_time": "2022-01-26T18:38:36.495Z"
   },
   {
    "duration": 42,
    "start_time": "2022-01-26T18:38:36.775Z"
   },
   {
    "duration": 16,
    "start_time": "2022-01-26T18:38:36.819Z"
   },
   {
    "duration": 62,
    "start_time": "2022-01-26T18:38:36.838Z"
   },
   {
    "duration": 204,
    "start_time": "2022-01-26T18:38:36.902Z"
   },
   {
    "duration": 62,
    "start_time": "2022-01-26T18:38:37.110Z"
   },
   {
    "duration": 5,
    "start_time": "2022-01-26T18:38:37.175Z"
   },
   {
    "duration": 9,
    "start_time": "2022-01-26T18:38:37.183Z"
   },
   {
    "duration": 104,
    "start_time": "2022-01-26T18:38:37.199Z"
   },
   {
    "duration": 6045,
    "start_time": "2022-01-26T18:38:37.306Z"
   },
   {
    "duration": 357,
    "start_time": "2022-01-26T18:38:43.354Z"
   },
   {
    "duration": 6719,
    "start_time": "2022-01-26T18:38:43.713Z"
   },
   {
    "duration": 603,
    "start_time": "2022-01-26T18:38:50.435Z"
   },
   {
    "duration": 26,
    "start_time": "2022-01-26T18:38:51.043Z"
   },
   {
    "duration": 19,
    "start_time": "2022-01-26T18:38:51.138Z"
   },
   {
    "duration": 6,
    "start_time": "2022-01-26T18:38:51.159Z"
   },
   {
    "duration": 327,
    "start_time": "2022-01-26T18:38:51.167Z"
   },
   {
    "duration": 750,
    "start_time": "2022-01-26T18:38:51.496Z"
   },
   {
    "duration": 8652,
    "start_time": "2022-01-26T18:38:52.251Z"
   },
   {
    "duration": 9214,
    "start_time": "2022-01-26T18:39:00.905Z"
   },
   {
    "duration": 47,
    "start_time": "2022-01-26T18:39:10.121Z"
   },
   {
    "duration": 95,
    "start_time": "2022-01-26T18:39:10.171Z"
   },
   {
    "duration": 1264,
    "start_time": "2022-01-26T18:39:10.268Z"
   },
   {
    "duration": 9,
    "start_time": "2022-01-26T18:47:40.239Z"
   },
   {
    "duration": 41,
    "start_time": "2022-01-26T18:48:03.222Z"
   },
   {
    "duration": 403,
    "start_time": "2022-01-26T18:48:40.319Z"
   },
   {
    "duration": 9,
    "start_time": "2022-01-26T18:48:47.085Z"
   },
   {
    "duration": 324,
    "start_time": "2022-01-26T18:49:11.598Z"
   },
   {
    "duration": 304,
    "start_time": "2022-01-26T18:49:30.725Z"
   },
   {
    "duration": 13,
    "start_time": "2022-01-26T18:49:50.752Z"
   },
   {
    "duration": 309,
    "start_time": "2022-01-26T18:50:45.556Z"
   },
   {
    "duration": 13,
    "start_time": "2022-01-26T18:51:02.796Z"
   },
   {
    "duration": 44,
    "start_time": "2022-01-26T18:54:21.217Z"
   },
   {
    "duration": 290,
    "start_time": "2022-01-26T18:54:47.576Z"
   },
   {
    "duration": 72,
    "start_time": "2022-01-26T18:54:57.025Z"
   },
   {
    "duration": 44,
    "start_time": "2022-01-26T18:55:08.960Z"
   },
   {
    "duration": 40,
    "start_time": "2022-01-26T18:55:41.555Z"
   },
   {
    "duration": 13,
    "start_time": "2022-01-26T19:03:18.409Z"
   },
   {
    "duration": 94,
    "start_time": "2022-01-26T19:03:27.801Z"
   },
   {
    "duration": 14,
    "start_time": "2022-01-26T19:03:34.273Z"
   },
   {
    "duration": 8,
    "start_time": "2022-01-26T19:04:18.974Z"
   },
   {
    "duration": 12,
    "start_time": "2022-01-26T19:04:27.313Z"
   },
   {
    "duration": 15,
    "start_time": "2022-01-26T19:04:33.599Z"
   },
   {
    "duration": 12,
    "start_time": "2022-01-26T19:04:45.687Z"
   },
   {
    "duration": 243,
    "start_time": "2022-01-26T19:04:59.846Z"
   },
   {
    "duration": 9,
    "start_time": "2022-01-26T19:06:19.292Z"
   },
   {
    "duration": 14,
    "start_time": "2022-01-26T19:06:37.509Z"
   },
   {
    "duration": 5286,
    "start_time": "2022-01-26T19:07:02.240Z"
   },
   {
    "duration": 15,
    "start_time": "2022-01-26T19:07:17.241Z"
   },
   {
    "duration": 280,
    "start_time": "2022-01-26T19:07:26.964Z"
   },
   {
    "duration": 8,
    "start_time": "2022-01-26T19:07:38.924Z"
   },
   {
    "duration": 10,
    "start_time": "2022-01-26T19:07:46.049Z"
   },
   {
    "duration": 11,
    "start_time": "2022-01-26T19:08:15.648Z"
   },
   {
    "duration": 9,
    "start_time": "2022-01-26T19:08:22.219Z"
   },
   {
    "duration": 14,
    "start_time": "2022-01-26T19:08:41.571Z"
   },
   {
    "duration": 10,
    "start_time": "2022-01-26T19:08:55.387Z"
   },
   {
    "duration": 8,
    "start_time": "2022-01-26T19:09:01.047Z"
   },
   {
    "duration": 10,
    "start_time": "2022-01-26T19:09:34.762Z"
   },
   {
    "duration": 13,
    "start_time": "2022-01-26T19:09:51.202Z"
   },
   {
    "duration": 37,
    "start_time": "2022-01-26T19:12:25.103Z"
   },
   {
    "duration": 9,
    "start_time": "2022-01-26T19:12:32.607Z"
   },
   {
    "duration": 9,
    "start_time": "2022-01-26T19:13:31.361Z"
   },
   {
    "duration": 8,
    "start_time": "2022-01-26T19:13:38.350Z"
   },
   {
    "duration": 6,
    "start_time": "2022-01-26T19:15:01.014Z"
   },
   {
    "duration": 6,
    "start_time": "2022-01-26T19:15:12.797Z"
   },
   {
    "duration": 7,
    "start_time": "2022-01-26T19:15:28.886Z"
   },
   {
    "duration": 5,
    "start_time": "2022-01-26T19:19:12.432Z"
   },
   {
    "duration": 268,
    "start_time": "2022-01-26T19:20:16.048Z"
   },
   {
    "duration": 262,
    "start_time": "2022-01-26T19:20:20.951Z"
   },
   {
    "duration": 250,
    "start_time": "2022-01-26T19:20:58.558Z"
   },
   {
    "duration": 1796,
    "start_time": "2022-01-26T19:21:21.955Z"
   },
   {
    "duration": 131,
    "start_time": "2022-01-26T19:21:23.754Z"
   },
   {
    "duration": 13,
    "start_time": "2022-01-26T19:21:23.892Z"
   },
   {
    "duration": 7,
    "start_time": "2022-01-26T19:21:23.908Z"
   },
   {
    "duration": 25,
    "start_time": "2022-01-26T19:21:23.932Z"
   },
   {
    "duration": 98,
    "start_time": "2022-01-26T19:21:23.960Z"
   },
   {
    "duration": 451,
    "start_time": "2022-01-26T19:21:24.061Z"
   },
   {
    "duration": 21,
    "start_time": "2022-01-26T19:21:24.516Z"
   },
   {
    "duration": 23,
    "start_time": "2022-01-26T19:21:24.542Z"
   },
   {
    "duration": 10,
    "start_time": "2022-01-26T19:21:24.568Z"
   },
   {
    "duration": 552,
    "start_time": "2022-01-26T19:21:24.582Z"
   },
   {
    "duration": 1358,
    "start_time": "2022-01-26T19:21:23.782Z"
   },
   {
    "duration": 1355,
    "start_time": "2022-01-26T19:21:23.786Z"
   },
   {
    "duration": 1355,
    "start_time": "2022-01-26T19:21:23.788Z"
   },
   {
    "duration": 1353,
    "start_time": "2022-01-26T19:21:23.791Z"
   },
   {
    "duration": 1352,
    "start_time": "2022-01-26T19:21:23.794Z"
   },
   {
    "duration": 1351,
    "start_time": "2022-01-26T19:21:23.798Z"
   },
   {
    "duration": 1351,
    "start_time": "2022-01-26T19:21:23.800Z"
   },
   {
    "duration": 1351,
    "start_time": "2022-01-26T19:21:23.803Z"
   },
   {
    "duration": 1351,
    "start_time": "2022-01-26T19:21:23.805Z"
   },
   {
    "duration": 1350,
    "start_time": "2022-01-26T19:21:23.808Z"
   },
   {
    "duration": 1349,
    "start_time": "2022-01-26T19:21:23.811Z"
   },
   {
    "duration": 1349,
    "start_time": "2022-01-26T19:21:23.813Z"
   },
   {
    "duration": 1349,
    "start_time": "2022-01-26T19:21:23.816Z"
   },
   {
    "duration": 1347,
    "start_time": "2022-01-26T19:21:23.819Z"
   },
   {
    "duration": 1337,
    "start_time": "2022-01-26T19:21:23.832Z"
   },
   {
    "duration": 1336,
    "start_time": "2022-01-26T19:21:23.835Z"
   },
   {
    "duration": 1331,
    "start_time": "2022-01-26T19:21:23.842Z"
   },
   {
    "duration": 1329,
    "start_time": "2022-01-26T19:21:23.846Z"
   },
   {
    "duration": 1329,
    "start_time": "2022-01-26T19:21:23.848Z"
   },
   {
    "duration": 1328,
    "start_time": "2022-01-26T19:21:23.851Z"
   },
   {
    "duration": 1370,
    "start_time": "2022-01-26T19:21:23.863Z"
   },
   {
    "duration": 1370,
    "start_time": "2022-01-26T19:21:23.865Z"
   },
   {
    "duration": 1371,
    "start_time": "2022-01-26T19:21:23.867Z"
   },
   {
    "duration": 1369,
    "start_time": "2022-01-26T19:21:23.871Z"
   },
   {
    "duration": 1370,
    "start_time": "2022-01-26T19:21:23.873Z"
   },
   {
    "duration": 1369,
    "start_time": "2022-01-26T19:21:23.876Z"
   },
   {
    "duration": 1369,
    "start_time": "2022-01-26T19:21:23.879Z"
   },
   {
    "duration": 1369,
    "start_time": "2022-01-26T19:21:23.882Z"
   },
   {
    "duration": 1367,
    "start_time": "2022-01-26T19:21:23.886Z"
   },
   {
    "duration": 1366,
    "start_time": "2022-01-26T19:21:23.889Z"
   },
   {
    "duration": 1367,
    "start_time": "2022-01-26T19:21:23.891Z"
   },
   {
    "duration": 1354,
    "start_time": "2022-01-26T19:21:23.906Z"
   },
   {
    "duration": 1352,
    "start_time": "2022-01-26T19:21:23.910Z"
   },
   {
    "duration": 5,
    "start_time": "2022-01-26T19:22:04.863Z"
   },
   {
    "duration": 6,
    "start_time": "2022-01-26T19:22:10.503Z"
   },
   {
    "duration": 6,
    "start_time": "2022-01-26T19:22:13.782Z"
   },
   {
    "duration": 250,
    "start_time": "2022-01-26T19:23:11.934Z"
   },
   {
    "duration": 5,
    "start_time": "2022-01-26T19:23:26.957Z"
   },
   {
    "duration": 6,
    "start_time": "2022-01-26T19:23:31.213Z"
   },
   {
    "duration": 7,
    "start_time": "2022-01-26T19:23:33.157Z"
   },
   {
    "duration": 6,
    "start_time": "2022-01-26T19:24:15.366Z"
   },
   {
    "duration": 5,
    "start_time": "2022-01-26T19:24:20.397Z"
   },
   {
    "duration": 7,
    "start_time": "2022-01-26T19:24:59.828Z"
   },
   {
    "duration": 288,
    "start_time": "2022-01-26T19:25:49.467Z"
   },
   {
    "duration": 7,
    "start_time": "2022-01-26T19:27:47.842Z"
   },
   {
    "duration": 246,
    "start_time": "2022-01-26T19:27:51.785Z"
   },
   {
    "duration": 10,
    "start_time": "2022-01-26T19:28:10.920Z"
   },
   {
    "duration": 289,
    "start_time": "2022-01-26T19:28:39.176Z"
   },
   {
    "duration": 11,
    "start_time": "2022-01-26T19:29:02.401Z"
   },
   {
    "duration": 6,
    "start_time": "2022-01-26T19:29:27.199Z"
   },
   {
    "duration": 11,
    "start_time": "2022-01-26T19:29:31.815Z"
   },
   {
    "duration": 26,
    "start_time": "2022-01-26T19:29:38.087Z"
   },
   {
    "duration": 6,
    "start_time": "2022-01-26T19:30:04.206Z"
   },
   {
    "duration": 23,
    "start_time": "2022-01-26T19:30:10.695Z"
   },
   {
    "duration": 5,
    "start_time": "2022-01-26T19:30:15.007Z"
   },
   {
    "duration": 4,
    "start_time": "2022-01-26T19:30:22.495Z"
   },
   {
    "duration": 254,
    "start_time": "2022-01-26T19:32:35.145Z"
   },
   {
    "duration": 253,
    "start_time": "2022-01-26T19:32:44.533Z"
   },
   {
    "duration": 1383,
    "start_time": "2022-01-26T19:32:53.899Z"
   },
   {
    "duration": 62,
    "start_time": "2022-01-26T19:32:55.285Z"
   },
   {
    "duration": 11,
    "start_time": "2022-01-26T19:32:55.350Z"
   },
   {
    "duration": 7,
    "start_time": "2022-01-26T19:32:55.364Z"
   },
   {
    "duration": 20,
    "start_time": "2022-01-26T19:32:55.373Z"
   },
   {
    "duration": 95,
    "start_time": "2022-01-26T19:32:55.396Z"
   },
   {
    "duration": 427,
    "start_time": "2022-01-26T19:32:55.494Z"
   },
   {
    "duration": 14,
    "start_time": "2022-01-26T19:32:55.932Z"
   },
   {
    "duration": 8,
    "start_time": "2022-01-26T19:32:55.950Z"
   },
   {
    "duration": 7,
    "start_time": "2022-01-26T19:32:55.961Z"
   },
   {
    "duration": 12,
    "start_time": "2022-01-26T19:32:55.971Z"
   },
   {
    "duration": 58,
    "start_time": "2022-01-26T19:32:55.985Z"
   },
   {
    "duration": 8,
    "start_time": "2022-01-26T19:32:56.046Z"
   },
   {
    "duration": 25,
    "start_time": "2022-01-26T19:32:56.057Z"
   },
   {
    "duration": 47,
    "start_time": "2022-01-26T19:32:56.085Z"
   },
   {
    "duration": 12,
    "start_time": "2022-01-26T19:32:56.134Z"
   },
   {
    "duration": 11,
    "start_time": "2022-01-26T19:32:56.148Z"
   },
   {
    "duration": 11,
    "start_time": "2022-01-26T19:32:56.162Z"
   },
   {
    "duration": 8,
    "start_time": "2022-01-26T19:32:56.175Z"
   },
   {
    "duration": 72,
    "start_time": "2022-01-26T19:32:56.186Z"
   },
   {
    "duration": 7,
    "start_time": "2022-01-26T19:32:56.261Z"
   },
   {
    "duration": 39,
    "start_time": "2022-01-26T19:32:56.270Z"
   },
   {
    "duration": 230,
    "start_time": "2022-01-26T19:32:56.338Z"
   },
   {
    "duration": 40,
    "start_time": "2022-01-26T19:32:56.571Z"
   },
   {
    "duration": 9,
    "start_time": "2022-01-26T19:32:56.633Z"
   },
   {
    "duration": 43,
    "start_time": "2022-01-26T19:32:56.645Z"
   },
   {
    "duration": 164,
    "start_time": "2022-01-26T19:32:56.691Z"
   },
   {
    "duration": 39,
    "start_time": "2022-01-26T19:32:56.858Z"
   },
   {
    "duration": 5,
    "start_time": "2022-01-26T19:32:56.899Z"
   },
   {
    "duration": 51,
    "start_time": "2022-01-26T19:32:56.906Z"
   },
   {
    "duration": 87,
    "start_time": "2022-01-26T19:32:56.960Z"
   },
   {
    "duration": 5842,
    "start_time": "2022-01-26T19:32:57.050Z"
   },
   {
    "duration": 256,
    "start_time": "2022-01-26T19:33:02.894Z"
   },
   {
    "duration": 5940,
    "start_time": "2022-01-26T19:33:03.153Z"
   },
   {
    "duration": 552,
    "start_time": "2022-01-26T19:33:09.096Z"
   },
   {
    "duration": 182,
    "start_time": "2022-01-26T19:33:09.652Z"
   },
   {
    "duration": 9,
    "start_time": "2022-01-26T19:33:09.836Z"
   },
   {
    "duration": 7,
    "start_time": "2022-01-26T19:33:09.848Z"
   },
   {
    "duration": 325,
    "start_time": "2022-01-26T19:33:09.858Z"
   },
   {
    "duration": 746,
    "start_time": "2022-01-26T19:33:10.186Z"
   },
   {
    "duration": 8260,
    "start_time": "2022-01-26T19:33:10.935Z"
   },
   {
    "duration": 1361,
    "start_time": "2022-01-26T19:33:25.833Z"
   },
   {
    "duration": 61,
    "start_time": "2022-01-26T19:33:27.197Z"
   },
   {
    "duration": 14,
    "start_time": "2022-01-26T19:33:27.262Z"
   },
   {
    "duration": 8,
    "start_time": "2022-01-26T19:33:27.280Z"
   },
   {
    "duration": 55,
    "start_time": "2022-01-26T19:33:27.290Z"
   },
   {
    "duration": 63,
    "start_time": "2022-01-26T19:33:27.348Z"
   },
   {
    "duration": 432,
    "start_time": "2022-01-26T19:33:27.414Z"
   },
   {
    "duration": 10,
    "start_time": "2022-01-26T19:33:27.849Z"
   },
   {
    "duration": 6,
    "start_time": "2022-01-26T19:33:27.863Z"
   },
   {
    "duration": 7,
    "start_time": "2022-01-26T19:33:27.873Z"
   },
   {
    "duration": 11,
    "start_time": "2022-01-26T19:33:27.882Z"
   },
   {
    "duration": 40,
    "start_time": "2022-01-26T19:33:27.896Z"
   },
   {
    "duration": 33,
    "start_time": "2022-01-26T19:33:27.939Z"
   },
   {
    "duration": 8,
    "start_time": "2022-01-26T19:33:27.975Z"
   },
   {
    "duration": 50,
    "start_time": "2022-01-26T19:33:27.986Z"
   },
   {
    "duration": 8,
    "start_time": "2022-01-26T19:33:28.040Z"
   },
   {
    "duration": 8,
    "start_time": "2022-01-26T19:33:28.051Z"
   },
   {
    "duration": 8,
    "start_time": "2022-01-26T19:33:28.061Z"
   },
   {
    "duration": 68,
    "start_time": "2022-01-26T19:33:28.071Z"
   },
   {
    "duration": 7,
    "start_time": "2022-01-26T19:33:28.142Z"
   },
   {
    "duration": 35,
    "start_time": "2022-01-26T19:33:28.152Z"
   },
   {
    "duration": 259,
    "start_time": "2022-01-26T19:33:28.189Z"
   },
   {
    "duration": 40,
    "start_time": "2022-01-26T19:33:28.451Z"
   },
   {
    "duration": 8,
    "start_time": "2022-01-26T19:33:28.494Z"
   },
   {
    "duration": 39,
    "start_time": "2022-01-26T19:33:28.532Z"
   },
   {
    "duration": 155,
    "start_time": "2022-01-26T19:33:28.574Z"
   },
   {
    "duration": 38,
    "start_time": "2022-01-26T19:33:28.742Z"
   },
   {
    "duration": 6,
    "start_time": "2022-01-26T19:33:28.783Z"
   },
   {
    "duration": 10,
    "start_time": "2022-01-26T19:33:28.791Z"
   },
   {
    "duration": 94,
    "start_time": "2022-01-26T19:33:28.803Z"
   },
   {
    "duration": 5732,
    "start_time": "2022-01-26T19:33:28.900Z"
   },
   {
    "duration": 244,
    "start_time": "2022-01-26T19:33:34.634Z"
   },
   {
    "duration": 5667,
    "start_time": "2022-01-26T19:33:34.880Z"
   },
   {
    "duration": 513,
    "start_time": "2022-01-26T19:33:40.550Z"
   },
   {
    "duration": 71,
    "start_time": "2022-01-26T19:33:41.066Z"
   },
   {
    "duration": 100,
    "start_time": "2022-01-26T19:33:41.140Z"
   },
   {
    "duration": 12,
    "start_time": "2022-01-26T19:33:41.243Z"
   },
   {
    "duration": 313,
    "start_time": "2022-01-26T19:33:41.258Z"
   },
   {
    "duration": 672,
    "start_time": "2022-01-26T19:33:41.573Z"
   },
   {
    "duration": 8688,
    "start_time": "2022-01-26T19:33:42.249Z"
   },
   {
    "duration": 8857,
    "start_time": "2022-01-26T19:33:50.940Z"
   },
   {
    "duration": 49,
    "start_time": "2022-01-26T19:33:59.800Z"
   },
   {
    "duration": 1185,
    "start_time": "2022-01-26T19:33:59.852Z"
   },
   {
    "duration": 423,
    "start_time": "2022-01-26T19:34:01.040Z"
   },
   {
    "duration": 282,
    "start_time": "2022-01-26T19:34:07.131Z"
   },
   {
    "duration": 1401,
    "start_time": "2022-01-26T19:34:20.086Z"
   },
   {
    "duration": 84,
    "start_time": "2022-01-26T19:34:21.491Z"
   },
   {
    "duration": 18,
    "start_time": "2022-01-26T19:34:21.579Z"
   },
   {
    "duration": 7,
    "start_time": "2022-01-26T19:34:21.601Z"
   },
   {
    "duration": 24,
    "start_time": "2022-01-26T19:34:21.632Z"
   },
   {
    "duration": 84,
    "start_time": "2022-01-26T19:34:21.659Z"
   },
   {
    "duration": 454,
    "start_time": "2022-01-26T19:34:21.745Z"
   },
   {
    "duration": 10,
    "start_time": "2022-01-26T19:34:22.201Z"
   },
   {
    "duration": 19,
    "start_time": "2022-01-26T19:34:22.234Z"
   },
   {
    "duration": 7,
    "start_time": "2022-01-26T19:34:22.257Z"
   },
   {
    "duration": 8,
    "start_time": "2022-01-26T19:34:22.266Z"
   },
   {
    "duration": 11,
    "start_time": "2022-01-26T19:34:22.276Z"
   },
   {
    "duration": 42,
    "start_time": "2022-01-26T19:34:22.290Z"
   },
   {
    "duration": 14,
    "start_time": "2022-01-26T19:34:22.335Z"
   },
   {
    "duration": 14,
    "start_time": "2022-01-26T19:34:22.352Z"
   },
   {
    "duration": 5,
    "start_time": "2022-01-26T19:34:22.369Z"
   },
   {
    "duration": 6,
    "start_time": "2022-01-26T19:34:22.376Z"
   },
   {
    "duration": 48,
    "start_time": "2022-01-26T19:34:22.384Z"
   },
   {
    "duration": 51,
    "start_time": "2022-01-26T19:34:22.435Z"
   },
   {
    "duration": 7,
    "start_time": "2022-01-26T19:34:22.488Z"
   },
   {
    "duration": 60,
    "start_time": "2022-01-26T19:34:22.497Z"
   },
   {
    "duration": 227,
    "start_time": "2022-01-26T19:34:22.560Z"
   },
   {
    "duration": 53,
    "start_time": "2022-01-26T19:34:22.789Z"
   },
   {
    "duration": 8,
    "start_time": "2022-01-26T19:34:22.844Z"
   },
   {
    "duration": 38,
    "start_time": "2022-01-26T19:34:22.855Z"
   },
   {
    "duration": 179,
    "start_time": "2022-01-26T19:34:22.895Z"
   },
   {
    "duration": 39,
    "start_time": "2022-01-26T19:34:23.080Z"
   },
   {
    "duration": 6,
    "start_time": "2022-01-26T19:34:23.133Z"
   },
   {
    "duration": 12,
    "start_time": "2022-01-26T19:34:23.146Z"
   },
   {
    "duration": 78,
    "start_time": "2022-01-26T19:34:23.160Z"
   },
   {
    "duration": 5800,
    "start_time": "2022-01-26T19:34:23.240Z"
   },
   {
    "duration": 238,
    "start_time": "2022-01-26T19:34:29.043Z"
   },
   {
    "duration": 5730,
    "start_time": "2022-01-26T19:34:29.283Z"
   },
   {
    "duration": 615,
    "start_time": "2022-01-26T19:34:35.017Z"
   },
   {
    "duration": 21,
    "start_time": "2022-01-26T19:34:35.635Z"
   },
   {
    "duration": 21,
    "start_time": "2022-01-26T19:34:35.734Z"
   },
   {
    "duration": 10,
    "start_time": "2022-01-26T19:34:35.757Z"
   },
   {
    "duration": 302,
    "start_time": "2022-01-26T19:34:35.769Z"
   },
   {
    "duration": 661,
    "start_time": "2022-01-26T19:34:36.074Z"
   },
   {
    "duration": 9079,
    "start_time": "2022-01-26T19:34:36.738Z"
   },
   {
    "duration": 8790,
    "start_time": "2022-01-26T19:34:45.819Z"
   },
   {
    "duration": 45,
    "start_time": "2022-01-26T19:34:54.612Z"
   },
   {
    "duration": 1098,
    "start_time": "2022-01-26T19:34:54.660Z"
   },
   {
    "duration": 8,
    "start_time": "2022-01-26T19:36:16.549Z"
   },
   {
    "duration": 10,
    "start_time": "2022-01-26T19:36:23.939Z"
   },
   {
    "duration": 9,
    "start_time": "2022-01-26T19:36:32.590Z"
   },
   {
    "duration": 88,
    "start_time": "2022-01-26T19:38:04.853Z"
   },
   {
    "duration": 96,
    "start_time": "2022-01-26T19:38:09.805Z"
   },
   {
    "duration": 11,
    "start_time": "2022-01-26T19:38:19.356Z"
   },
   {
    "duration": 418,
    "start_time": "2022-01-26T19:38:31.170Z"
   },
   {
    "duration": 8,
    "start_time": "2022-01-26T19:38:41.044Z"
   },
   {
    "duration": 246,
    "start_time": "2022-01-26T19:38:48.241Z"
   },
   {
    "duration": 8,
    "start_time": "2022-01-26T19:39:37.075Z"
   },
   {
    "duration": 266,
    "start_time": "2022-01-26T19:39:52.946Z"
   },
   {
    "duration": 7,
    "start_time": "2022-01-26T19:39:59.593Z"
   },
   {
    "duration": 346,
    "start_time": "2022-01-26T19:40:03.922Z"
   },
   {
    "duration": 281,
    "start_time": "2022-01-26T19:40:14.210Z"
   },
   {
    "duration": 7,
    "start_time": "2022-01-26T19:40:20.130Z"
   },
   {
    "duration": 9,
    "start_time": "2022-01-26T19:40:58.497Z"
   },
   {
    "duration": 12,
    "start_time": "2022-01-26T19:41:26.540Z"
   },
   {
    "duration": 12,
    "start_time": "2022-01-26T19:41:34.352Z"
   },
   {
    "duration": 11,
    "start_time": "2022-01-26T19:42:03.513Z"
   },
   {
    "duration": 10,
    "start_time": "2022-01-26T19:42:39.543Z"
   },
   {
    "duration": 344,
    "start_time": "2022-01-26T19:43:05.183Z"
   },
   {
    "duration": 77,
    "start_time": "2022-01-26T19:43:17.856Z"
   },
   {
    "duration": 9,
    "start_time": "2022-01-26T19:43:22.753Z"
   },
   {
    "duration": 85,
    "start_time": "2022-01-26T19:43:42.199Z"
   },
   {
    "duration": 250,
    "start_time": "2022-01-26T19:44:00.126Z"
   },
   {
    "duration": 11,
    "start_time": "2022-01-26T19:44:10.847Z"
   },
   {
    "duration": 262,
    "start_time": "2022-01-26T19:44:20.062Z"
   },
   {
    "duration": 10,
    "start_time": "2022-01-26T19:44:31.423Z"
   },
   {
    "duration": 9,
    "start_time": "2022-01-26T19:44:58.245Z"
   },
   {
    "duration": 10,
    "start_time": "2022-01-26T19:45:05.581Z"
   },
   {
    "duration": 241,
    "start_time": "2022-01-26T19:45:44.845Z"
   },
   {
    "duration": 263,
    "start_time": "2022-01-26T19:46:09.208Z"
   },
   {
    "duration": 1460,
    "start_time": "2022-01-26T19:46:17.437Z"
   },
   {
    "duration": 69,
    "start_time": "2022-01-26T19:46:18.900Z"
   },
   {
    "duration": 13,
    "start_time": "2022-01-26T19:46:18.971Z"
   },
   {
    "duration": 16,
    "start_time": "2022-01-26T19:46:18.988Z"
   },
   {
    "duration": 57,
    "start_time": "2022-01-26T19:46:19.007Z"
   },
   {
    "duration": 83,
    "start_time": "2022-01-26T19:46:19.067Z"
   },
   {
    "duration": 649,
    "start_time": "2022-01-26T19:46:19.154Z"
   },
   {
    "duration": 547,
    "start_time": "2022-01-26T19:46:19.809Z"
   },
   {
    "duration": 1358,
    "start_time": "2022-01-26T19:46:19.003Z"
   },
   {
    "duration": 1356,
    "start_time": "2022-01-26T19:46:19.007Z"
   },
   {
    "duration": 1355,
    "start_time": "2022-01-26T19:46:19.010Z"
   },
   {
    "duration": 1346,
    "start_time": "2022-01-26T19:46:19.022Z"
   },
   {
    "duration": 1344,
    "start_time": "2022-01-26T19:46:19.025Z"
   },
   {
    "duration": 1342,
    "start_time": "2022-01-26T19:46:19.029Z"
   },
   {
    "duration": 1333,
    "start_time": "2022-01-26T19:46:19.040Z"
   },
   {
    "duration": 1332,
    "start_time": "2022-01-26T19:46:19.042Z"
   },
   {
    "duration": 1319,
    "start_time": "2022-01-26T19:46:19.057Z"
   },
   {
    "duration": 1298,
    "start_time": "2022-01-26T19:46:19.080Z"
   },
   {
    "duration": 1264,
    "start_time": "2022-01-26T19:46:19.116Z"
   },
   {
    "duration": 1246,
    "start_time": "2022-01-26T19:46:19.136Z"
   },
   {
    "duration": 1209,
    "start_time": "2022-01-26T19:46:19.176Z"
   },
   {
    "duration": 1189,
    "start_time": "2022-01-26T19:46:19.198Z"
   },
   {
    "duration": 1185,
    "start_time": "2022-01-26T19:46:19.204Z"
   },
   {
    "duration": 1184,
    "start_time": "2022-01-26T19:46:19.207Z"
   },
   {
    "duration": 1182,
    "start_time": "2022-01-26T19:46:19.212Z"
   },
   {
    "duration": 1179,
    "start_time": "2022-01-26T19:46:19.217Z"
   },
   {
    "duration": 1212,
    "start_time": "2022-01-26T19:46:19.221Z"
   },
   {
    "duration": 1211,
    "start_time": "2022-01-26T19:46:19.224Z"
   },
   {
    "duration": 1209,
    "start_time": "2022-01-26T19:46:19.228Z"
   },
   {
    "duration": 1209,
    "start_time": "2022-01-26T19:46:19.230Z"
   },
   {
    "duration": 1208,
    "start_time": "2022-01-26T19:46:19.233Z"
   },
   {
    "duration": 1209,
    "start_time": "2022-01-26T19:46:19.235Z"
   },
   {
    "duration": 1209,
    "start_time": "2022-01-26T19:46:19.238Z"
   },
   {
    "duration": 1209,
    "start_time": "2022-01-26T19:46:19.240Z"
   },
   {
    "duration": 1209,
    "start_time": "2022-01-26T19:46:19.243Z"
   },
   {
    "duration": 1209,
    "start_time": "2022-01-26T19:46:19.245Z"
   },
   {
    "duration": 1207,
    "start_time": "2022-01-26T19:46:19.248Z"
   },
   {
    "duration": 1207,
    "start_time": "2022-01-26T19:46:19.250Z"
   },
   {
    "duration": 1206,
    "start_time": "2022-01-26T19:46:19.252Z"
   },
   {
    "duration": 1206,
    "start_time": "2022-01-26T19:46:19.254Z"
   },
   {
    "duration": 1204,
    "start_time": "2022-01-26T19:46:19.257Z"
   },
   {
    "duration": 1204,
    "start_time": "2022-01-26T19:46:19.259Z"
   },
   {
    "duration": 1195,
    "start_time": "2022-01-26T19:46:19.270Z"
   },
   {
    "duration": 274,
    "start_time": "2022-01-26T19:46:41.282Z"
   },
   {
    "duration": 17,
    "start_time": "2022-01-26T19:46:57.049Z"
   },
   {
    "duration": 252,
    "start_time": "2022-01-26T19:47:32.749Z"
   },
   {
    "duration": 235,
    "start_time": "2022-01-26T19:47:38.416Z"
   },
   {
    "duration": 12,
    "start_time": "2022-01-26T19:47:50.807Z"
   },
   {
    "duration": 13,
    "start_time": "2022-01-26T19:48:09.284Z"
   },
   {
    "duration": 13,
    "start_time": "2022-01-26T19:48:22.999Z"
   },
   {
    "duration": 11,
    "start_time": "2022-01-26T19:48:31.687Z"
   },
   {
    "duration": 9,
    "start_time": "2022-01-26T19:48:40.455Z"
   },
   {
    "duration": 5,
    "start_time": "2022-01-26T19:48:43.287Z"
   },
   {
    "duration": 16,
    "start_time": "2022-01-26T19:49:15.182Z"
   },
   {
    "duration": 268,
    "start_time": "2022-01-26T19:49:21.526Z"
   },
   {
    "duration": 12,
    "start_time": "2022-01-26T19:49:28.277Z"
   },
   {
    "duration": 14,
    "start_time": "2022-01-26T19:49:41.310Z"
   },
   {
    "duration": 10,
    "start_time": "2022-01-26T19:50:28.876Z"
   },
   {
    "duration": 7,
    "start_time": "2022-01-26T19:50:44.516Z"
   },
   {
    "duration": 11,
    "start_time": "2022-01-26T19:50:56.221Z"
   },
   {
    "duration": 10,
    "start_time": "2022-01-26T19:51:03.213Z"
   },
   {
    "duration": 14,
    "start_time": "2022-01-26T19:51:08.444Z"
   },
   {
    "duration": 10,
    "start_time": "2022-01-26T19:51:38.620Z"
   },
   {
    "duration": 11,
    "start_time": "2022-01-26T19:52:03.133Z"
   },
   {
    "duration": 5,
    "start_time": "2022-01-26T19:52:06.205Z"
   },
   {
    "duration": 7,
    "start_time": "2022-01-26T19:52:17.923Z"
   },
   {
    "duration": 7,
    "start_time": "2022-01-26T19:52:36.821Z"
   },
   {
    "duration": 12,
    "start_time": "2022-01-26T19:53:00.011Z"
   },
   {
    "duration": 10,
    "start_time": "2022-01-26T19:53:21.786Z"
   },
   {
    "duration": 13,
    "start_time": "2022-01-26T19:53:37.506Z"
   },
   {
    "duration": 1373,
    "start_time": "2022-01-26T19:54:10.570Z"
   },
   {
    "duration": 7,
    "start_time": "2022-01-26T19:54:16.970Z"
   },
   {
    "duration": 6376,
    "start_time": "2022-01-26T19:54:21.081Z"
   },
   {
    "duration": 15,
    "start_time": "2022-01-26T19:54:49.521Z"
   },
   {
    "duration": 18,
    "start_time": "2022-01-26T19:54:54.249Z"
   },
   {
    "duration": 12,
    "start_time": "2022-01-26T19:55:19.601Z"
   },
   {
    "duration": 9,
    "start_time": "2022-01-26T19:55:27.384Z"
   },
   {
    "duration": 6,
    "start_time": "2022-01-26T19:55:46.873Z"
   },
   {
    "duration": 9,
    "start_time": "2022-01-26T19:55:53.752Z"
   },
   {
    "duration": 8,
    "start_time": "2022-01-26T19:58:47.266Z"
   },
   {
    "duration": 4,
    "start_time": "2022-01-26T19:59:25.829Z"
   },
   {
    "duration": 6,
    "start_time": "2022-01-26T19:59:34.710Z"
   },
   {
    "duration": 258,
    "start_time": "2022-01-26T19:59:41.932Z"
   },
   {
    "duration": 6,
    "start_time": "2022-01-26T19:59:47.517Z"
   },
   {
    "duration": 8,
    "start_time": "2022-01-26T20:01:16.204Z"
   },
   {
    "duration": 240,
    "start_time": "2022-01-26T20:04:45.953Z"
   },
   {
    "duration": 363,
    "start_time": "2022-01-26T20:05:28.345Z"
   },
   {
    "duration": 7,
    "start_time": "2022-01-26T20:06:03.678Z"
   },
   {
    "duration": 12,
    "start_time": "2022-01-26T20:06:05.926Z"
   },
   {
    "duration": 4,
    "start_time": "2022-01-26T20:06:08.914Z"
   },
   {
    "duration": 6,
    "start_time": "2022-01-26T20:06:10.050Z"
   },
   {
    "duration": 618,
    "start_time": "2022-01-26T20:06:12.712Z"
   },
   {
    "duration": 1462,
    "start_time": "2022-01-26T20:06:53.534Z"
   },
   {
    "duration": 73,
    "start_time": "2022-01-26T20:06:54.999Z"
   },
   {
    "duration": 13,
    "start_time": "2022-01-26T20:06:55.074Z"
   },
   {
    "duration": 9,
    "start_time": "2022-01-26T20:06:55.089Z"
   },
   {
    "duration": 51,
    "start_time": "2022-01-26T20:06:55.101Z"
   },
   {
    "duration": 78,
    "start_time": "2022-01-26T20:06:55.155Z"
   },
   {
    "duration": 448,
    "start_time": "2022-01-26T20:06:55.237Z"
   },
   {
    "duration": 6,
    "start_time": "2022-01-26T20:06:55.688Z"
   },
   {
    "duration": 21,
    "start_time": "2022-01-26T20:06:55.697Z"
   },
   {
    "duration": 16,
    "start_time": "2022-01-26T20:06:55.720Z"
   },
   {
    "duration": 10,
    "start_time": "2022-01-26T20:06:55.739Z"
   },
   {
    "duration": 642,
    "start_time": "2022-01-26T20:06:55.752Z"
   },
   {
    "duration": 381,
    "start_time": "2022-01-26T20:06:56.396Z"
   },
   {
    "duration": 1375,
    "start_time": "2022-01-26T20:06:55.405Z"
   },
   {
    "duration": 1374,
    "start_time": "2022-01-26T20:06:55.408Z"
   },
   {
    "duration": 1371,
    "start_time": "2022-01-26T20:06:55.412Z"
   },
   {
    "duration": 1369,
    "start_time": "2022-01-26T20:06:55.416Z"
   },
   {
    "duration": 1367,
    "start_time": "2022-01-26T20:06:55.419Z"
   },
   {
    "duration": 1364,
    "start_time": "2022-01-26T20:06:55.423Z"
   },
   {
    "duration": 1364,
    "start_time": "2022-01-26T20:06:55.425Z"
   },
   {
    "duration": 1361,
    "start_time": "2022-01-26T20:06:55.429Z"
   },
   {
    "duration": 1359,
    "start_time": "2022-01-26T20:06:55.432Z"
   },
   {
    "duration": 1357,
    "start_time": "2022-01-26T20:06:55.436Z"
   },
   {
    "duration": 1344,
    "start_time": "2022-01-26T20:06:55.450Z"
   },
   {
    "duration": 1342,
    "start_time": "2022-01-26T20:06:55.454Z"
   },
   {
    "duration": 1341,
    "start_time": "2022-01-26T20:06:55.456Z"
   },
   {
    "duration": 1339,
    "start_time": "2022-01-26T20:06:55.460Z"
   },
   {
    "duration": 1339,
    "start_time": "2022-01-26T20:06:55.463Z"
   },
   {
    "duration": 1337,
    "start_time": "2022-01-26T20:06:55.467Z"
   },
   {
    "duration": 1337,
    "start_time": "2022-01-26T20:06:55.469Z"
   },
   {
    "duration": 1335,
    "start_time": "2022-01-26T20:06:55.472Z"
   },
   {
    "duration": 1334,
    "start_time": "2022-01-26T20:06:55.475Z"
   },
   {
    "duration": 1334,
    "start_time": "2022-01-26T20:06:55.477Z"
   },
   {
    "duration": 1322,
    "start_time": "2022-01-26T20:06:55.491Z"
   },
   {
    "duration": 1320,
    "start_time": "2022-01-26T20:06:55.496Z"
   },
   {
    "duration": 1334,
    "start_time": "2022-01-26T20:06:55.498Z"
   },
   {
    "duration": 1334,
    "start_time": "2022-01-26T20:06:55.501Z"
   },
   {
    "duration": 1334,
    "start_time": "2022-01-26T20:06:55.504Z"
   },
   {
    "duration": 1333,
    "start_time": "2022-01-26T20:06:55.507Z"
   },
   {
    "duration": 1332,
    "start_time": "2022-01-26T20:06:55.510Z"
   },
   {
    "duration": 1332,
    "start_time": "2022-01-26T20:06:55.512Z"
   },
   {
    "duration": 1330,
    "start_time": "2022-01-26T20:06:55.515Z"
   },
   {
    "duration": 1328,
    "start_time": "2022-01-26T20:06:55.518Z"
   },
   {
    "duration": 1327,
    "start_time": "2022-01-26T20:06:55.520Z"
   },
   {
    "duration": 1326,
    "start_time": "2022-01-26T20:06:55.523Z"
   },
   {
    "duration": 1466,
    "start_time": "2022-01-26T20:07:21.866Z"
   },
   {
    "duration": 65,
    "start_time": "2022-01-26T20:07:23.340Z"
   },
   {
    "duration": 24,
    "start_time": "2022-01-26T20:07:23.409Z"
   },
   {
    "duration": 8,
    "start_time": "2022-01-26T20:07:23.437Z"
   },
   {
    "duration": 28,
    "start_time": "2022-01-26T20:07:23.449Z"
   },
   {
    "duration": 86,
    "start_time": "2022-01-26T20:07:23.479Z"
   },
   {
    "duration": 438,
    "start_time": "2022-01-26T20:07:23.568Z"
   },
   {
    "duration": 6,
    "start_time": "2022-01-26T20:07:24.009Z"
   },
   {
    "duration": 27,
    "start_time": "2022-01-26T20:07:24.019Z"
   },
   {
    "duration": 16,
    "start_time": "2022-01-26T20:07:24.051Z"
   },
   {
    "duration": 8,
    "start_time": "2022-01-26T20:07:24.069Z"
   },
   {
    "duration": 597,
    "start_time": "2022-01-26T20:07:24.080Z"
   },
   {
    "duration": 7,
    "start_time": "2022-01-26T20:07:24.679Z"
   },
   {
    "duration": 44,
    "start_time": "2022-01-26T20:07:24.689Z"
   },
   {
    "duration": 13,
    "start_time": "2022-01-26T20:07:24.736Z"
   },
   {
    "duration": 12,
    "start_time": "2022-01-26T20:07:24.752Z"
   },
   {
    "duration": 6,
    "start_time": "2022-01-26T20:07:24.767Z"
   },
   {
    "duration": 7,
    "start_time": "2022-01-26T20:07:24.776Z"
   },
   {
    "duration": 52,
    "start_time": "2022-01-26T20:07:24.786Z"
   },
   {
    "duration": 43,
    "start_time": "2022-01-26T20:07:24.841Z"
   },
   {
    "duration": 6,
    "start_time": "2022-01-26T20:07:24.886Z"
   },
   {
    "duration": 69,
    "start_time": "2022-01-26T20:07:24.896Z"
   },
   {
    "duration": 314,
    "start_time": "2022-01-26T20:07:24.969Z"
   },
   {
    "duration": 48,
    "start_time": "2022-01-26T20:07:25.285Z"
   },
   {
    "duration": 9,
    "start_time": "2022-01-26T20:07:25.338Z"
   },
   {
    "duration": 54,
    "start_time": "2022-01-26T20:07:25.350Z"
   },
   {
    "duration": 202,
    "start_time": "2022-01-26T20:07:25.411Z"
   },
   {
    "duration": 49,
    "start_time": "2022-01-26T20:07:25.616Z"
   },
   {
    "duration": 5,
    "start_time": "2022-01-26T20:07:25.668Z"
   },
   {
    "duration": 8,
    "start_time": "2022-01-26T20:07:25.675Z"
   },
   {
    "duration": 106,
    "start_time": "2022-01-26T20:07:25.685Z"
   },
   {
    "duration": 7305,
    "start_time": "2022-01-26T20:07:25.793Z"
   },
   {
    "duration": 260,
    "start_time": "2022-01-26T20:07:33.101Z"
   },
   {
    "duration": 7093,
    "start_time": "2022-01-26T20:07:33.364Z"
   },
   {
    "duration": 600,
    "start_time": "2022-01-26T20:07:40.460Z"
   },
   {
    "duration": 82,
    "start_time": "2022-01-26T20:07:41.063Z"
   },
   {
    "duration": 86,
    "start_time": "2022-01-26T20:07:41.150Z"
   },
   {
    "duration": 18,
    "start_time": "2022-01-26T20:07:41.239Z"
   },
   {
    "duration": 364,
    "start_time": "2022-01-26T20:07:41.259Z"
   },
   {
    "duration": 919,
    "start_time": "2022-01-26T20:07:41.626Z"
   },
   {
    "duration": 11693,
    "start_time": "2022-01-26T20:07:42.549Z"
   },
   {
    "duration": 11889,
    "start_time": "2022-01-26T20:07:54.246Z"
   },
   {
    "duration": 51,
    "start_time": "2022-01-26T20:08:06.138Z"
   },
   {
    "duration": 1384,
    "start_time": "2022-01-26T20:08:06.192Z"
   },
   {
    "duration": 355,
    "start_time": "2022-01-26T20:09:13.929Z"
   },
   {
    "duration": 279,
    "start_time": "2022-01-26T20:09:28.977Z"
   },
   {
    "duration": 12,
    "start_time": "2022-01-26T20:09:55.321Z"
   },
   {
    "duration": 11,
    "start_time": "2022-01-26T20:10:16.008Z"
   },
   {
    "duration": 10,
    "start_time": "2022-01-26T20:10:54.149Z"
   },
   {
    "duration": 1478,
    "start_time": "2022-01-26T20:11:03.621Z"
   },
   {
    "duration": 66,
    "start_time": "2022-01-26T20:11:05.102Z"
   },
   {
    "duration": 19,
    "start_time": "2022-01-26T20:11:05.172Z"
   },
   {
    "duration": 7,
    "start_time": "2022-01-26T20:11:05.194Z"
   },
   {
    "duration": 48,
    "start_time": "2022-01-26T20:11:05.205Z"
   },
   {
    "duration": 94,
    "start_time": "2022-01-26T20:11:05.256Z"
   },
   {
    "duration": 11,
    "start_time": "2022-01-26T20:11:05.352Z"
   },
   {
    "duration": 441,
    "start_time": "2022-01-26T20:11:05.367Z"
   },
   {
    "duration": 21,
    "start_time": "2022-01-26T20:11:05.812Z"
   },
   {
    "duration": 19,
    "start_time": "2022-01-26T20:11:05.840Z"
   },
   {
    "duration": 7,
    "start_time": "2022-01-26T20:11:05.862Z"
   },
   {
    "duration": 14,
    "start_time": "2022-01-26T20:11:05.872Z"
   },
   {
    "duration": 601,
    "start_time": "2022-01-26T20:11:05.889Z"
   },
   {
    "duration": 6,
    "start_time": "2022-01-26T20:11:06.493Z"
   },
   {
    "duration": 454,
    "start_time": "2022-01-26T20:11:06.501Z"
   },
   {
    "duration": 13,
    "start_time": "2022-01-26T20:11:06.958Z"
   },
   {
    "duration": 12,
    "start_time": "2022-01-26T20:11:06.974Z"
   },
   {
    "duration": 47,
    "start_time": "2022-01-26T20:11:06.989Z"
   },
   {
    "duration": 7,
    "start_time": "2022-01-26T20:11:07.039Z"
   },
   {
    "duration": 14,
    "start_time": "2022-01-26T20:11:07.049Z"
   },
   {
    "duration": 7,
    "start_time": "2022-01-26T20:11:07.066Z"
   },
   {
    "duration": 95,
    "start_time": "2022-01-26T20:11:07.076Z"
   },
   {
    "duration": 6,
    "start_time": "2022-01-26T20:11:07.176Z"
   },
   {
    "duration": 69,
    "start_time": "2022-01-26T20:11:07.185Z"
   },
   {
    "duration": 349,
    "start_time": "2022-01-26T20:11:07.258Z"
   },
   {
    "duration": 67,
    "start_time": "2022-01-26T20:11:07.611Z"
   },
   {
    "duration": 7,
    "start_time": "2022-01-26T20:11:07.681Z"
   },
   {
    "duration": 78,
    "start_time": "2022-01-26T20:11:07.691Z"
   },
   {
    "duration": 193,
    "start_time": "2022-01-26T20:11:07.772Z"
   },
   {
    "duration": 40,
    "start_time": "2022-01-26T20:11:07.968Z"
   },
   {
    "duration": 26,
    "start_time": "2022-01-26T20:11:08.011Z"
   },
   {
    "duration": 11,
    "start_time": "2022-01-26T20:11:08.040Z"
   },
   {
    "duration": 98,
    "start_time": "2022-01-26T20:11:08.054Z"
   },
   {
    "duration": 7395,
    "start_time": "2022-01-26T20:11:08.155Z"
   },
   {
    "duration": 291,
    "start_time": "2022-01-26T20:11:15.554Z"
   },
   {
    "duration": 7172,
    "start_time": "2022-01-26T20:11:15.848Z"
   },
   {
    "duration": 816,
    "start_time": "2022-01-26T20:11:23.022Z"
   },
   {
    "duration": 91,
    "start_time": "2022-01-26T20:11:23.843Z"
   },
   {
    "duration": 22,
    "start_time": "2022-01-26T20:11:23.937Z"
   },
   {
    "duration": 8,
    "start_time": "2022-01-26T20:11:23.963Z"
   },
   {
    "duration": 382,
    "start_time": "2022-01-26T20:11:23.974Z"
   },
   {
    "duration": 875,
    "start_time": "2022-01-26T20:11:24.359Z"
   },
   {
    "duration": 14440,
    "start_time": "2022-01-26T20:11:25.238Z"
   },
   {
    "duration": 14114,
    "start_time": "2022-01-26T20:11:39.681Z"
   },
   {
    "duration": 62,
    "start_time": "2022-01-26T20:11:53.799Z"
   },
   {
    "duration": 1714,
    "start_time": "2022-01-26T20:11:53.864Z"
   },
   {
    "duration": 7,
    "start_time": "2022-01-26T20:15:47.019Z"
   },
   {
    "duration": 56,
    "start_time": "2022-01-26T20:16:01.268Z"
   },
   {
    "duration": 7,
    "start_time": "2022-01-26T20:16:05.252Z"
   },
   {
    "duration": 377,
    "start_time": "2022-01-26T20:16:38.802Z"
   },
   {
    "duration": 1916,
    "start_time": "2022-01-26T20:16:50.327Z"
   },
   {
    "duration": 62,
    "start_time": "2022-01-26T20:16:52.248Z"
   },
   {
    "duration": 22,
    "start_time": "2022-01-26T20:16:52.313Z"
   },
   {
    "duration": 8,
    "start_time": "2022-01-26T20:16:52.338Z"
   },
   {
    "duration": 21,
    "start_time": "2022-01-26T20:16:52.349Z"
   },
   {
    "duration": 109,
    "start_time": "2022-01-26T20:16:52.372Z"
   },
   {
    "duration": 10,
    "start_time": "2022-01-26T20:16:52.485Z"
   },
   {
    "duration": 661,
    "start_time": "2022-01-26T20:16:52.500Z"
   },
   {
    "duration": 11,
    "start_time": "2022-01-26T20:16:53.166Z"
   },
   {
    "duration": 15,
    "start_time": "2022-01-26T20:16:53.180Z"
   },
   {
    "duration": 4,
    "start_time": "2022-01-26T20:16:53.199Z"
   },
   {
    "duration": 8,
    "start_time": "2022-01-26T20:16:53.233Z"
   },
   {
    "duration": 869,
    "start_time": "2022-01-26T20:16:53.244Z"
   },
   {
    "duration": 8,
    "start_time": "2022-01-26T20:16:54.117Z"
   },
   {
    "duration": 458,
    "start_time": "2022-01-26T20:16:54.135Z"
   },
   {
    "duration": 13,
    "start_time": "2022-01-26T20:16:54.596Z"
   },
   {
    "duration": 560,
    "start_time": "2022-01-26T20:16:54.612Z"
   },
   {
    "duration": 1350,
    "start_time": "2022-01-26T20:16:53.826Z"
   },
   {
    "duration": 1326,
    "start_time": "2022-01-26T20:16:53.851Z"
   },
   {
    "duration": 1306,
    "start_time": "2022-01-26T20:16:53.873Z"
   },
   {
    "duration": 1284,
    "start_time": "2022-01-26T20:16:53.897Z"
   },
   {
    "duration": 1279,
    "start_time": "2022-01-26T20:16:53.903Z"
   },
   {
    "duration": 1275,
    "start_time": "2022-01-26T20:16:53.909Z"
   },
   {
    "duration": 1271,
    "start_time": "2022-01-26T20:16:53.914Z"
   },
   {
    "duration": 1270,
    "start_time": "2022-01-26T20:16:53.917Z"
   },
   {
    "duration": 1268,
    "start_time": "2022-01-26T20:16:53.920Z"
   },
   {
    "duration": 1268,
    "start_time": "2022-01-26T20:16:53.922Z"
   },
   {
    "duration": 1258,
    "start_time": "2022-01-26T20:16:53.933Z"
   },
   {
    "duration": 1257,
    "start_time": "2022-01-26T20:16:53.936Z"
   },
   {
    "duration": 1256,
    "start_time": "2022-01-26T20:16:53.938Z"
   },
   {
    "duration": 1255,
    "start_time": "2022-01-26T20:16:53.940Z"
   },
   {
    "duration": 1255,
    "start_time": "2022-01-26T20:16:53.942Z"
   },
   {
    "duration": 1253,
    "start_time": "2022-01-26T20:16:53.945Z"
   },
   {
    "duration": 1252,
    "start_time": "2022-01-26T20:16:53.947Z"
   },
   {
    "duration": 1252,
    "start_time": "2022-01-26T20:16:53.949Z"
   },
   {
    "duration": 1250,
    "start_time": "2022-01-26T20:16:53.952Z"
   },
   {
    "duration": 1250,
    "start_time": "2022-01-26T20:16:53.954Z"
   },
   {
    "duration": 1248,
    "start_time": "2022-01-26T20:16:53.957Z"
   },
   {
    "duration": 1247,
    "start_time": "2022-01-26T20:16:53.959Z"
   },
   {
    "duration": 1246,
    "start_time": "2022-01-26T20:16:53.962Z"
   },
   {
    "duration": 1245,
    "start_time": "2022-01-26T20:16:53.964Z"
   },
   {
    "duration": 56,
    "start_time": "2022-01-26T20:17:20.633Z"
   },
   {
    "duration": 1844,
    "start_time": "2022-01-26T20:17:27.818Z"
   },
   {
    "duration": 85,
    "start_time": "2022-01-26T20:17:29.667Z"
   },
   {
    "duration": 15,
    "start_time": "2022-01-26T20:17:29.756Z"
   },
   {
    "duration": 8,
    "start_time": "2022-01-26T20:17:29.774Z"
   },
   {
    "duration": 57,
    "start_time": "2022-01-26T20:17:29.784Z"
   },
   {
    "duration": 102,
    "start_time": "2022-01-26T20:17:29.844Z"
   },
   {
    "duration": 12,
    "start_time": "2022-01-26T20:17:29.949Z"
   },
   {
    "duration": 490,
    "start_time": "2022-01-26T20:17:29.968Z"
   },
   {
    "duration": 7,
    "start_time": "2022-01-26T20:17:30.462Z"
   },
   {
    "duration": 23,
    "start_time": "2022-01-26T20:17:30.471Z"
   },
   {
    "duration": 5,
    "start_time": "2022-01-26T20:17:30.498Z"
   },
   {
    "duration": 33,
    "start_time": "2022-01-26T20:17:30.506Z"
   },
   {
    "duration": 649,
    "start_time": "2022-01-26T20:17:30.544Z"
   },
   {
    "duration": 6,
    "start_time": "2022-01-26T20:17:31.196Z"
   },
   {
    "duration": 333,
    "start_time": "2022-01-26T20:17:31.205Z"
   },
   {
    "duration": 13,
    "start_time": "2022-01-26T20:17:31.541Z"
   },
   {
    "duration": 43,
    "start_time": "2022-01-26T20:17:31.557Z"
   },
   {
    "duration": 33,
    "start_time": "2022-01-26T20:17:31.603Z"
   },
   {
    "duration": 474,
    "start_time": "2022-01-26T20:17:31.639Z"
   },
   {
    "duration": 1298,
    "start_time": "2022-01-26T20:17:30.820Z"
   },
   {
    "duration": 1264,
    "start_time": "2022-01-26T20:17:30.856Z"
   },
   {
    "duration": 1263,
    "start_time": "2022-01-26T20:17:30.859Z"
   },
   {
    "duration": 1258,
    "start_time": "2022-01-26T20:17:30.866Z"
   },
   {
    "duration": 1231,
    "start_time": "2022-01-26T20:17:30.895Z"
   },
   {
    "duration": 1226,
    "start_time": "2022-01-26T20:17:30.902Z"
   },
   {
    "duration": 1225,
    "start_time": "2022-01-26T20:17:30.905Z"
   },
   {
    "duration": 1223,
    "start_time": "2022-01-26T20:17:30.910Z"
   },
   {
    "duration": 1221,
    "start_time": "2022-01-26T20:17:30.916Z"
   },
   {
    "duration": 1220,
    "start_time": "2022-01-26T20:17:30.919Z"
   },
   {
    "duration": 1220,
    "start_time": "2022-01-26T20:17:30.922Z"
   },
   {
    "duration": 1218,
    "start_time": "2022-01-26T20:17:30.926Z"
   },
   {
    "duration": 1214,
    "start_time": "2022-01-26T20:17:30.932Z"
   },
   {
    "duration": 1213,
    "start_time": "2022-01-26T20:17:30.935Z"
   },
   {
    "duration": 1213,
    "start_time": "2022-01-26T20:17:30.937Z"
   },
   {
    "duration": 1212,
    "start_time": "2022-01-26T20:17:30.940Z"
   },
   {
    "duration": 1214,
    "start_time": "2022-01-26T20:17:30.942Z"
   },
   {
    "duration": 1215,
    "start_time": "2022-01-26T20:17:30.945Z"
   },
   {
    "duration": 1214,
    "start_time": "2022-01-26T20:17:30.948Z"
   },
   {
    "duration": 1214,
    "start_time": "2022-01-26T20:17:30.951Z"
   },
   {
    "duration": 1203,
    "start_time": "2022-01-26T20:17:30.964Z"
   },
   {
    "duration": 1191,
    "start_time": "2022-01-26T20:17:30.978Z"
   },
   {
    "duration": 59,
    "start_time": "2022-01-26T20:17:53.213Z"
   },
   {
    "duration": 1653,
    "start_time": "2022-01-26T20:18:01.274Z"
   },
   {
    "duration": 75,
    "start_time": "2022-01-26T20:18:02.930Z"
   },
   {
    "duration": 23,
    "start_time": "2022-01-26T20:18:03.009Z"
   },
   {
    "duration": 7,
    "start_time": "2022-01-26T20:18:03.035Z"
   },
   {
    "duration": 23,
    "start_time": "2022-01-26T20:18:03.045Z"
   },
   {
    "duration": 103,
    "start_time": "2022-01-26T20:18:03.071Z"
   },
   {
    "duration": 17,
    "start_time": "2022-01-26T20:18:03.177Z"
   },
   {
    "duration": 447,
    "start_time": "2022-01-26T20:18:03.200Z"
   },
   {
    "duration": 7,
    "start_time": "2022-01-26T20:18:03.651Z"
   },
   {
    "duration": 14,
    "start_time": "2022-01-26T20:18:03.662Z"
   },
   {
    "duration": 3,
    "start_time": "2022-01-26T20:18:03.679Z"
   },
   {
    "duration": 7,
    "start_time": "2022-01-26T20:18:03.685Z"
   },
   {
    "duration": 682,
    "start_time": "2022-01-26T20:18:03.694Z"
   },
   {
    "duration": 7,
    "start_time": "2022-01-26T20:18:04.378Z"
   },
   {
    "duration": 467,
    "start_time": "2022-01-26T20:18:04.388Z"
   },
   {
    "duration": 14,
    "start_time": "2022-01-26T20:18:04.858Z"
   },
   {
    "duration": 84,
    "start_time": "2022-01-26T20:18:04.875Z"
   },
   {
    "duration": 7,
    "start_time": "2022-01-26T20:18:04.961Z"
   },
   {
    "duration": 36,
    "start_time": "2022-01-26T20:18:04.970Z"
   },
   {
    "duration": 456,
    "start_time": "2022-01-26T20:18:05.010Z"
   },
   {
    "duration": 1367,
    "start_time": "2022-01-26T20:18:04.103Z"
   },
   {
    "duration": 1366,
    "start_time": "2022-01-26T20:18:04.106Z"
   },
   {
    "duration": 1364,
    "start_time": "2022-01-26T20:18:04.109Z"
   },
   {
    "duration": 1361,
    "start_time": "2022-01-26T20:18:04.113Z"
   },
   {
    "duration": 1360,
    "start_time": "2022-01-26T20:18:04.115Z"
   },
   {
    "duration": 1359,
    "start_time": "2022-01-26T20:18:04.117Z"
   },
   {
    "duration": 1358,
    "start_time": "2022-01-26T20:18:04.119Z"
   },
   {
    "duration": 1357,
    "start_time": "2022-01-26T20:18:04.121Z"
   },
   {
    "duration": 1356,
    "start_time": "2022-01-26T20:18:04.123Z"
   },
   {
    "duration": 1355,
    "start_time": "2022-01-26T20:18:04.125Z"
   },
   {
    "duration": 1353,
    "start_time": "2022-01-26T20:18:04.128Z"
   },
   {
    "duration": 1352,
    "start_time": "2022-01-26T20:18:04.130Z"
   },
   {
    "duration": 1351,
    "start_time": "2022-01-26T20:18:04.132Z"
   },
   {
    "duration": 1350,
    "start_time": "2022-01-26T20:18:04.134Z"
   },
   {
    "duration": 1348,
    "start_time": "2022-01-26T20:18:04.137Z"
   },
   {
    "duration": 1348,
    "start_time": "2022-01-26T20:18:04.139Z"
   },
   {
    "duration": 1332,
    "start_time": "2022-01-26T20:18:04.157Z"
   },
   {
    "duration": 1332,
    "start_time": "2022-01-26T20:18:04.159Z"
   },
   {
    "duration": 1331,
    "start_time": "2022-01-26T20:18:04.163Z"
   },
   {
    "duration": 1330,
    "start_time": "2022-01-26T20:18:04.166Z"
   },
   {
    "duration": 1329,
    "start_time": "2022-01-26T20:18:04.168Z"
   },
   {
    "duration": 1554,
    "start_time": "2022-01-26T20:18:55.209Z"
   },
   {
    "duration": 87,
    "start_time": "2022-01-26T20:18:56.767Z"
   },
   {
    "duration": 19,
    "start_time": "2022-01-26T20:18:56.858Z"
   },
   {
    "duration": 8,
    "start_time": "2022-01-26T20:18:56.881Z"
   },
   {
    "duration": 59,
    "start_time": "2022-01-26T20:18:56.892Z"
   },
   {
    "duration": 118,
    "start_time": "2022-01-26T20:18:56.954Z"
   },
   {
    "duration": 12,
    "start_time": "2022-01-26T20:18:57.075Z"
   },
   {
    "duration": 630,
    "start_time": "2022-01-26T20:18:57.093Z"
   },
   {
    "duration": 8,
    "start_time": "2022-01-26T20:18:57.733Z"
   },
   {
    "duration": 22,
    "start_time": "2022-01-26T20:18:57.744Z"
   },
   {
    "duration": 4,
    "start_time": "2022-01-26T20:18:57.769Z"
   },
   {
    "duration": 12,
    "start_time": "2022-01-26T20:18:57.776Z"
   },
   {
    "duration": 880,
    "start_time": "2022-01-26T20:18:57.791Z"
   },
   {
    "duration": 7,
    "start_time": "2022-01-26T20:18:58.674Z"
   },
   {
    "duration": 423,
    "start_time": "2022-01-26T20:18:58.684Z"
   },
   {
    "duration": 13,
    "start_time": "2022-01-26T20:18:59.110Z"
   },
   {
    "duration": 71,
    "start_time": "2022-01-26T20:18:59.136Z"
   },
   {
    "duration": 8,
    "start_time": "2022-01-26T20:18:59.210Z"
   },
   {
    "duration": 61,
    "start_time": "2022-01-26T20:18:59.233Z"
   },
   {
    "duration": 634,
    "start_time": "2022-01-26T20:18:59.296Z"
   },
   {
    "duration": 1285,
    "start_time": "2022-01-26T20:18:58.649Z"
   },
   {
    "duration": 1285,
    "start_time": "2022-01-26T20:18:58.652Z"
   },
   {
    "duration": 1284,
    "start_time": "2022-01-26T20:18:58.655Z"
   },
   {
    "duration": 1284,
    "start_time": "2022-01-26T20:18:58.658Z"
   },
   {
    "duration": 1284,
    "start_time": "2022-01-26T20:18:58.660Z"
   },
   {
    "duration": 1284,
    "start_time": "2022-01-26T20:18:58.662Z"
   },
   {
    "duration": 1283,
    "start_time": "2022-01-26T20:18:58.665Z"
   },
   {
    "duration": 1281,
    "start_time": "2022-01-26T20:18:58.669Z"
   },
   {
    "duration": 1270,
    "start_time": "2022-01-26T20:18:58.682Z"
   },
   {
    "duration": 1269,
    "start_time": "2022-01-26T20:18:58.686Z"
   },
   {
    "duration": 1265,
    "start_time": "2022-01-26T20:18:58.692Z"
   },
   {
    "duration": 1264,
    "start_time": "2022-01-26T20:18:58.695Z"
   },
   {
    "duration": 1263,
    "start_time": "2022-01-26T20:18:58.698Z"
   },
   {
    "duration": 1263,
    "start_time": "2022-01-26T20:18:58.701Z"
   },
   {
    "duration": 1261,
    "start_time": "2022-01-26T20:18:58.705Z"
   },
   {
    "duration": 1260,
    "start_time": "2022-01-26T20:18:58.708Z"
   },
   {
    "duration": 1260,
    "start_time": "2022-01-26T20:18:58.710Z"
   },
   {
    "duration": 1257,
    "start_time": "2022-01-26T20:18:58.715Z"
   },
   {
    "duration": 1257,
    "start_time": "2022-01-26T20:18:58.717Z"
   },
   {
    "duration": 1243,
    "start_time": "2022-01-26T20:18:58.733Z"
   },
   {
    "duration": 1241,
    "start_time": "2022-01-26T20:18:58.737Z"
   },
   {
    "duration": 277,
    "start_time": "2022-01-26T20:19:43.784Z"
   },
   {
    "duration": 1936,
    "start_time": "2022-01-26T20:19:52.207Z"
   },
   {
    "duration": 72,
    "start_time": "2022-01-26T20:19:54.146Z"
   },
   {
    "duration": 23,
    "start_time": "2022-01-26T20:19:54.221Z"
   },
   {
    "duration": 14,
    "start_time": "2022-01-26T20:19:54.248Z"
   },
   {
    "duration": 19,
    "start_time": "2022-01-26T20:19:54.265Z"
   },
   {
    "duration": 127,
    "start_time": "2022-01-26T20:19:54.286Z"
   },
   {
    "duration": 34,
    "start_time": "2022-01-26T20:19:54.417Z"
   },
   {
    "duration": 536,
    "start_time": "2022-01-26T20:19:54.456Z"
   },
   {
    "duration": 7,
    "start_time": "2022-01-26T20:19:54.995Z"
   },
   {
    "duration": 32,
    "start_time": "2022-01-26T20:19:55.006Z"
   },
   {
    "duration": 5,
    "start_time": "2022-01-26T20:19:55.042Z"
   },
   {
    "duration": 17,
    "start_time": "2022-01-26T20:19:55.050Z"
   },
   {
    "duration": 682,
    "start_time": "2022-01-26T20:19:55.071Z"
   },
   {
    "duration": 7,
    "start_time": "2022-01-26T20:19:55.756Z"
   },
   {
    "duration": 306,
    "start_time": "2022-01-26T20:19:55.766Z"
   },
   {
    "duration": 10,
    "start_time": "2022-01-26T20:19:56.074Z"
   },
   {
    "duration": 66,
    "start_time": "2022-01-26T20:19:56.086Z"
   },
   {
    "duration": 6,
    "start_time": "2022-01-26T20:19:56.154Z"
   },
   {
    "duration": 35,
    "start_time": "2022-01-26T20:19:56.163Z"
   },
   {
    "duration": 307,
    "start_time": "2022-01-26T20:19:56.201Z"
   },
   {
    "duration": 55,
    "start_time": "2022-01-26T20:19:56.511Z"
   },
   {
    "duration": 8,
    "start_time": "2022-01-26T20:19:56.568Z"
   },
   {
    "duration": 75,
    "start_time": "2022-01-26T20:19:56.581Z"
   },
   {
    "duration": 211,
    "start_time": "2022-01-26T20:19:56.660Z"
   },
   {
    "duration": 72,
    "start_time": "2022-01-26T20:19:56.873Z"
   },
   {
    "duration": 7,
    "start_time": "2022-01-26T20:19:56.951Z"
   },
   {
    "duration": 8,
    "start_time": "2022-01-26T20:19:56.961Z"
   },
   {
    "duration": 109,
    "start_time": "2022-01-26T20:19:56.972Z"
   },
   {
    "duration": 6796,
    "start_time": "2022-01-26T20:19:57.084Z"
   },
   {
    "duration": 356,
    "start_time": "2022-01-26T20:20:03.884Z"
   },
   {
    "duration": 8372,
    "start_time": "2022-01-26T20:20:04.243Z"
   },
   {
    "duration": 747,
    "start_time": "2022-01-26T20:20:12.618Z"
   },
   {
    "duration": 8,
    "start_time": "2022-01-26T20:20:13.368Z"
   },
   {
    "duration": 64,
    "start_time": "2022-01-26T20:20:13.380Z"
   },
   {
    "duration": 16,
    "start_time": "2022-01-26T20:20:13.447Z"
   },
   {
    "duration": 356,
    "start_time": "2022-01-26T20:20:13.466Z"
   },
   {
    "duration": 829,
    "start_time": "2022-01-26T20:20:13.825Z"
   },
   {
    "duration": 10299,
    "start_time": "2022-01-26T20:20:14.737Z"
   },
   {
    "duration": 10861,
    "start_time": "2022-01-26T20:20:25.039Z"
   },
   {
    "duration": 56,
    "start_time": "2022-01-26T20:20:35.902Z"
   },
   {
    "duration": 1342,
    "start_time": "2022-01-26T20:20:35.962Z"
   },
   {
    "duration": 492,
    "start_time": "2022-01-26T20:22:40.853Z"
   },
   {
    "duration": 742,
    "start_time": "2022-01-26T20:22:52.292Z"
   },
   {
    "duration": 9,
    "start_time": "2022-01-26T20:22:56.483Z"
   },
   {
    "duration": 10,
    "start_time": "2022-01-26T20:23:01.883Z"
   },
   {
    "duration": 13,
    "start_time": "2022-01-26T20:23:05.027Z"
   },
   {
    "duration": 376,
    "start_time": "2022-01-26T20:23:07.627Z"
   },
   {
    "duration": 781,
    "start_time": "2022-01-26T20:23:10.260Z"
   },
   {
    "duration": 12206,
    "start_time": "2022-01-26T20:23:26.046Z"
   },
   {
    "duration": 1805,
    "start_time": "2022-01-26T20:24:04.822Z"
   },
   {
    "duration": 82,
    "start_time": "2022-01-26T20:24:06.630Z"
   },
   {
    "duration": 18,
    "start_time": "2022-01-26T20:24:06.715Z"
   },
   {
    "duration": 44,
    "start_time": "2022-01-26T20:24:06.738Z"
   },
   {
    "duration": 27,
    "start_time": "2022-01-26T20:24:06.785Z"
   },
   {
    "duration": 96,
    "start_time": "2022-01-26T20:24:06.815Z"
   },
   {
    "duration": 29,
    "start_time": "2022-01-26T20:24:06.914Z"
   },
   {
    "duration": 491,
    "start_time": "2022-01-26T20:24:06.946Z"
   },
   {
    "duration": 8,
    "start_time": "2022-01-26T20:24:07.443Z"
   },
   {
    "duration": 21,
    "start_time": "2022-01-26T20:24:07.455Z"
   },
   {
    "duration": 4,
    "start_time": "2022-01-26T20:24:07.479Z"
   },
   {
    "duration": 10,
    "start_time": "2022-01-26T20:24:07.486Z"
   },
   {
    "duration": 696,
    "start_time": "2022-01-26T20:24:07.499Z"
   },
   {
    "duration": 7,
    "start_time": "2022-01-26T20:24:08.198Z"
   },
   {
    "duration": 315,
    "start_time": "2022-01-26T20:24:08.207Z"
   },
   {
    "duration": 11,
    "start_time": "2022-01-26T20:24:08.525Z"
   },
   {
    "duration": 47,
    "start_time": "2022-01-26T20:24:08.539Z"
   },
   {
    "duration": 6,
    "start_time": "2022-01-26T20:24:08.589Z"
   },
   {
    "duration": 58,
    "start_time": "2022-01-26T20:24:08.598Z"
   },
   {
    "duration": 475,
    "start_time": "2022-01-26T20:24:08.659Z"
   },
   {
    "duration": 46,
    "start_time": "2022-01-26T20:24:09.138Z"
   },
   {
    "duration": 50,
    "start_time": "2022-01-26T20:24:09.187Z"
   },
   {
    "duration": 53,
    "start_time": "2022-01-26T20:24:09.241Z"
   },
   {
    "duration": 275,
    "start_time": "2022-01-26T20:24:09.296Z"
   },
   {
    "duration": 89,
    "start_time": "2022-01-26T20:24:09.573Z"
   },
   {
    "duration": 6,
    "start_time": "2022-01-26T20:24:09.666Z"
   },
   {
    "duration": 7,
    "start_time": "2022-01-26T20:24:09.679Z"
   },
   {
    "duration": 113,
    "start_time": "2022-01-26T20:24:09.690Z"
   },
   {
    "duration": 7639,
    "start_time": "2022-01-26T20:24:09.806Z"
   },
   {
    "duration": 279,
    "start_time": "2022-01-26T20:24:17.448Z"
   },
   {
    "duration": 7198,
    "start_time": "2022-01-26T20:24:17.734Z"
   },
   {
    "duration": 715,
    "start_time": "2022-01-26T20:24:24.935Z"
   },
   {
    "duration": 78,
    "start_time": "2022-01-26T20:24:25.659Z"
   },
   {
    "duration": 25,
    "start_time": "2022-01-26T20:24:25.741Z"
   },
   {
    "duration": 6,
    "start_time": "2022-01-26T20:24:25.769Z"
   },
   {
    "duration": 413,
    "start_time": "2022-01-26T20:24:25.777Z"
   },
   {
    "duration": 1041,
    "start_time": "2022-01-26T20:24:26.192Z"
   },
   {
    "duration": 11726,
    "start_time": "2022-01-26T20:24:27.236Z"
   },
   {
    "duration": 11182,
    "start_time": "2022-01-26T20:24:38.964Z"
   },
   {
    "duration": 36,
    "start_time": "2022-01-26T20:24:50.148Z"
   },
   {
    "duration": 1631,
    "start_time": "2022-01-26T20:24:50.186Z"
   },
   {
    "duration": 1476,
    "start_time": "2022-01-26T20:26:26.068Z"
   },
   {
    "duration": 64,
    "start_time": "2022-01-26T20:26:27.548Z"
   },
   {
    "duration": 27,
    "start_time": "2022-01-26T20:26:27.616Z"
   },
   {
    "duration": 8,
    "start_time": "2022-01-26T20:26:27.647Z"
   },
   {
    "duration": 27,
    "start_time": "2022-01-26T20:26:27.659Z"
   },
   {
    "duration": 101,
    "start_time": "2022-01-26T20:26:27.689Z"
   },
   {
    "duration": 10,
    "start_time": "2022-01-26T20:26:27.792Z"
   },
   {
    "duration": 472,
    "start_time": "2022-01-26T20:26:27.806Z"
   },
   {
    "duration": 7,
    "start_time": "2022-01-26T20:26:28.281Z"
   },
   {
    "duration": 13,
    "start_time": "2022-01-26T20:26:28.290Z"
   },
   {
    "duration": 28,
    "start_time": "2022-01-26T20:26:28.306Z"
   },
   {
    "duration": 15,
    "start_time": "2022-01-26T20:26:28.338Z"
   },
   {
    "duration": 610,
    "start_time": "2022-01-26T20:26:28.357Z"
   },
   {
    "duration": 10,
    "start_time": "2022-01-26T20:26:28.970Z"
   },
   {
    "duration": 321,
    "start_time": "2022-01-26T20:26:28.983Z"
   },
   {
    "duration": 26,
    "start_time": "2022-01-26T20:26:29.307Z"
   },
   {
    "duration": 40,
    "start_time": "2022-01-26T20:26:29.336Z"
   },
   {
    "duration": 6,
    "start_time": "2022-01-26T20:26:29.379Z"
   },
   {
    "duration": 83,
    "start_time": "2022-01-26T20:26:29.389Z"
   },
   {
    "duration": 342,
    "start_time": "2022-01-26T20:26:29.476Z"
   },
   {
    "duration": 62,
    "start_time": "2022-01-26T20:26:29.820Z"
   },
   {
    "duration": 8,
    "start_time": "2022-01-26T20:26:29.885Z"
   },
   {
    "duration": 90,
    "start_time": "2022-01-26T20:26:29.900Z"
   },
   {
    "duration": 211,
    "start_time": "2022-01-26T20:26:29.994Z"
   },
   {
    "duration": 65,
    "start_time": "2022-01-26T20:26:30.208Z"
   },
   {
    "duration": 7,
    "start_time": "2022-01-26T20:26:30.276Z"
   },
   {
    "duration": 16,
    "start_time": "2022-01-26T20:26:30.286Z"
   },
   {
    "duration": 102,
    "start_time": "2022-01-26T20:26:30.305Z"
   },
   {
    "duration": 7346,
    "start_time": "2022-01-26T20:26:30.410Z"
   },
   {
    "duration": 259,
    "start_time": "2022-01-26T20:26:37.759Z"
   },
   {
    "duration": 9123,
    "start_time": "2022-01-26T20:26:38.022Z"
   },
   {
    "duration": 793,
    "start_time": "2022-01-26T20:26:47.148Z"
   },
   {
    "duration": 19,
    "start_time": "2022-01-26T20:26:47.946Z"
   },
   {
    "duration": 99,
    "start_time": "2022-01-26T20:26:47.971Z"
   },
   {
    "duration": 9,
    "start_time": "2022-01-26T20:26:48.073Z"
   },
   {
    "duration": 742,
    "start_time": "2022-01-26T20:26:48.085Z"
   },
   {
    "duration": 1904,
    "start_time": "2022-01-26T20:26:48.831Z"
   },
   {
    "duration": 22535,
    "start_time": "2022-01-26T20:26:50.743Z"
   },
   {
    "duration": 23646,
    "start_time": "2022-01-26T20:27:13.282Z"
   },
   {
    "duration": 61,
    "start_time": "2022-01-26T20:27:36.935Z"
   },
   {
    "duration": 1736,
    "start_time": "2022-01-26T20:27:36.999Z"
   },
   {
    "duration": 1795,
    "start_time": "2022-01-26T20:29:52.476Z"
   },
   {
    "duration": 89,
    "start_time": "2022-01-26T20:29:54.275Z"
   },
   {
    "duration": 20,
    "start_time": "2022-01-26T20:29:54.369Z"
   },
   {
    "duration": 43,
    "start_time": "2022-01-26T20:29:54.393Z"
   },
   {
    "duration": 36,
    "start_time": "2022-01-26T20:29:54.440Z"
   },
   {
    "duration": 105,
    "start_time": "2022-01-26T20:29:54.479Z"
   },
   {
    "duration": 12,
    "start_time": "2022-01-26T20:29:54.587Z"
   },
   {
    "duration": 740,
    "start_time": "2022-01-26T20:29:54.605Z"
   },
   {
    "duration": 9,
    "start_time": "2022-01-26T20:29:55.349Z"
   },
   {
    "duration": 19,
    "start_time": "2022-01-26T20:29:55.361Z"
   },
   {
    "duration": 4,
    "start_time": "2022-01-26T20:29:55.382Z"
   },
   {
    "duration": 52,
    "start_time": "2022-01-26T20:29:55.388Z"
   },
   {
    "duration": 877,
    "start_time": "2022-01-26T20:29:55.443Z"
   },
   {
    "duration": 15,
    "start_time": "2022-01-26T20:29:56.324Z"
   },
   {
    "duration": 323,
    "start_time": "2022-01-26T20:29:56.342Z"
   },
   {
    "duration": 14,
    "start_time": "2022-01-26T20:29:56.668Z"
   },
   {
    "duration": 66,
    "start_time": "2022-01-26T20:29:56.685Z"
   },
   {
    "duration": 7,
    "start_time": "2022-01-26T20:29:56.753Z"
   },
   {
    "duration": 81,
    "start_time": "2022-01-26T20:29:56.762Z"
   },
   {
    "duration": 335,
    "start_time": "2022-01-26T20:29:56.847Z"
   },
   {
    "duration": 68,
    "start_time": "2022-01-26T20:29:57.185Z"
   },
   {
    "duration": 9,
    "start_time": "2022-01-26T20:29:57.257Z"
   },
   {
    "duration": 88,
    "start_time": "2022-01-26T20:29:57.275Z"
   },
   {
    "duration": 243,
    "start_time": "2022-01-26T20:29:57.367Z"
   },
   {
    "duration": 64,
    "start_time": "2022-01-26T20:29:57.613Z"
   },
   {
    "duration": 7,
    "start_time": "2022-01-26T20:29:57.680Z"
   },
   {
    "duration": 8,
    "start_time": "2022-01-26T20:29:57.690Z"
   },
   {
    "duration": 119,
    "start_time": "2022-01-26T20:29:57.732Z"
   },
   {
    "duration": 9394,
    "start_time": "2022-01-26T20:29:57.856Z"
   },
   {
    "duration": 291,
    "start_time": "2022-01-26T20:30:07.255Z"
   },
   {
    "duration": 7863,
    "start_time": "2022-01-26T20:30:07.549Z"
   },
   {
    "duration": 617,
    "start_time": "2022-01-26T20:30:15.415Z"
   },
   {
    "duration": 18,
    "start_time": "2022-01-26T20:30:16.043Z"
   },
   {
    "duration": 88,
    "start_time": "2022-01-26T20:30:16.067Z"
   },
   {
    "duration": 6,
    "start_time": "2022-01-26T20:30:16.160Z"
   },
   {
    "duration": 377,
    "start_time": "2022-01-26T20:30:16.168Z"
   },
   {
    "duration": 1017,
    "start_time": "2022-01-26T20:30:16.548Z"
   },
   {
    "duration": 11966,
    "start_time": "2022-01-26T20:30:17.570Z"
   },
   {
    "duration": 12300,
    "start_time": "2022-01-26T20:30:29.539Z"
   },
   {
    "duration": 43,
    "start_time": "2022-01-26T20:30:41.842Z"
   },
   {
    "duration": 1581,
    "start_time": "2022-01-26T20:30:41.888Z"
   },
   {
    "duration": 18,
    "start_time": "2022-01-26T20:31:14.908Z"
   },
   {
    "duration": 74,
    "start_time": "2022-01-26T20:31:29.516Z"
   },
   {
    "duration": 10837,
    "start_time": "2022-01-26T20:33:54.666Z"
   },
   {
    "duration": 6755,
    "start_time": "2022-01-26T20:34:32.529Z"
   },
   {
    "duration": 1752,
    "start_time": "2022-01-26T20:35:30.420Z"
   },
   {
    "duration": 86,
    "start_time": "2022-01-26T20:35:32.176Z"
   },
   {
    "duration": 19,
    "start_time": "2022-01-26T20:35:32.266Z"
   },
   {
    "duration": 8,
    "start_time": "2022-01-26T20:35:32.288Z"
   },
   {
    "duration": 55,
    "start_time": "2022-01-26T20:35:32.299Z"
   },
   {
    "duration": 83,
    "start_time": "2022-01-26T20:35:32.357Z"
   },
   {
    "duration": 10,
    "start_time": "2022-01-26T20:35:32.443Z"
   },
   {
    "duration": 422,
    "start_time": "2022-01-26T20:35:32.457Z"
   },
   {
    "duration": 6,
    "start_time": "2022-01-26T20:35:32.882Z"
   },
   {
    "duration": 13,
    "start_time": "2022-01-26T20:35:32.890Z"
   },
   {
    "duration": 28,
    "start_time": "2022-01-26T20:35:32.905Z"
   },
   {
    "duration": 7,
    "start_time": "2022-01-26T20:35:32.935Z"
   },
   {
    "duration": 596,
    "start_time": "2022-01-26T20:35:32.944Z"
   },
   {
    "duration": 9,
    "start_time": "2022-01-26T20:35:33.543Z"
   },
   {
    "duration": 313,
    "start_time": "2022-01-26T20:35:33.554Z"
   },
   {
    "duration": 9,
    "start_time": "2022-01-26T20:35:33.870Z"
   },
   {
    "duration": 22,
    "start_time": "2022-01-26T20:35:33.881Z"
   },
   {
    "duration": 96,
    "start_time": "2022-01-26T20:35:33.906Z"
   },
   {
    "duration": 58,
    "start_time": "2022-01-26T20:35:34.005Z"
   },
   {
    "duration": 6,
    "start_time": "2022-01-26T20:35:34.066Z"
   },
   {
    "duration": 67,
    "start_time": "2022-01-26T20:35:34.075Z"
   },
   {
    "duration": 278,
    "start_time": "2022-01-26T20:35:34.145Z"
   },
   {
    "duration": 45,
    "start_time": "2022-01-26T20:35:34.428Z"
   },
   {
    "duration": 7,
    "start_time": "2022-01-26T20:35:34.476Z"
   },
   {
    "duration": 74,
    "start_time": "2022-01-26T20:35:34.485Z"
   },
   {
    "duration": 179,
    "start_time": "2022-01-26T20:35:34.562Z"
   },
   {
    "duration": 58,
    "start_time": "2022-01-26T20:35:34.745Z"
   },
   {
    "duration": 28,
    "start_time": "2022-01-26T20:35:34.806Z"
   },
   {
    "duration": 6,
    "start_time": "2022-01-26T20:35:34.837Z"
   },
   {
    "duration": 116,
    "start_time": "2022-01-26T20:35:34.847Z"
   },
   {
    "duration": 8952,
    "start_time": "2022-01-26T20:35:34.966Z"
   },
   {
    "duration": 245,
    "start_time": "2022-01-26T20:35:43.920Z"
   },
   {
    "duration": 7980,
    "start_time": "2022-01-26T20:35:44.168Z"
   },
   {
    "duration": 692,
    "start_time": "2022-01-26T20:35:52.151Z"
   },
   {
    "duration": 90,
    "start_time": "2022-01-26T20:35:52.846Z"
   },
   {
    "duration": 27,
    "start_time": "2022-01-26T20:35:52.940Z"
   },
   {
    "duration": 12,
    "start_time": "2022-01-26T20:35:53.045Z"
   },
   {
    "duration": 358,
    "start_time": "2022-01-26T20:35:53.060Z"
   },
   {
    "duration": 824,
    "start_time": "2022-01-26T20:35:53.421Z"
   },
   {
    "duration": 9882,
    "start_time": "2022-01-26T20:35:54.255Z"
   },
   {
    "duration": 11573,
    "start_time": "2022-01-26T20:36:04.140Z"
   },
   {
    "duration": 51,
    "start_time": "2022-01-26T20:36:15.716Z"
   },
   {
    "duration": 1593,
    "start_time": "2022-01-26T20:36:15.769Z"
   },
   {
    "duration": 3377,
    "start_time": "2022-01-26T20:37:03.567Z"
   },
   {
    "duration": 92,
    "start_time": "2022-01-26T20:44:55.119Z"
   },
   {
    "duration": 717,
    "start_time": "2022-01-26T20:45:02.407Z"
   },
   {
    "duration": 9764,
    "start_time": "2022-01-26T20:45:15.546Z"
   },
   {
    "duration": 566,
    "start_time": "2022-01-26T20:45:46.166Z"
   },
   {
    "duration": 584,
    "start_time": "2022-01-26T20:46:01.542Z"
   },
   {
    "duration": 606,
    "start_time": "2022-01-26T20:46:13.449Z"
   },
   {
    "duration": 11435,
    "start_time": "2022-01-26T20:46:17.953Z"
   },
   {
    "duration": 12879,
    "start_time": "2022-01-26T20:47:57.101Z"
   },
   {
    "duration": 13790,
    "start_time": "2022-01-26T20:48:16.292Z"
   },
   {
    "duration": 11420,
    "start_time": "2022-01-26T20:48:49.987Z"
   },
   {
    "duration": 10641,
    "start_time": "2022-01-26T20:49:51.236Z"
   },
   {
    "duration": 14574,
    "start_time": "2022-01-26T20:53:43.287Z"
   },
   {
    "duration": 1587,
    "start_time": "2022-01-26T20:54:09.503Z"
   },
   {
    "duration": 71,
    "start_time": "2022-01-26T20:54:11.092Z"
   },
   {
    "duration": 12,
    "start_time": "2022-01-26T20:54:11.166Z"
   },
   {
    "duration": 6,
    "start_time": "2022-01-26T20:54:11.181Z"
   },
   {
    "duration": 64,
    "start_time": "2022-01-26T20:54:11.189Z"
   },
   {
    "duration": 63,
    "start_time": "2022-01-26T20:54:11.256Z"
   },
   {
    "duration": 19,
    "start_time": "2022-01-26T20:54:11.322Z"
   },
   {
    "duration": 467,
    "start_time": "2022-01-26T20:54:11.347Z"
   },
   {
    "duration": 16,
    "start_time": "2022-01-26T20:54:11.818Z"
   },
   {
    "duration": 35,
    "start_time": "2022-01-26T20:54:11.837Z"
   },
   {
    "duration": 7,
    "start_time": "2022-01-26T20:54:11.874Z"
   },
   {
    "duration": 8,
    "start_time": "2022-01-26T20:54:11.883Z"
   },
   {
    "duration": 683,
    "start_time": "2022-01-26T20:54:11.894Z"
   },
   {
    "duration": 6,
    "start_time": "2022-01-26T20:54:12.580Z"
   },
   {
    "duration": 340,
    "start_time": "2022-01-26T20:54:12.588Z"
   },
   {
    "duration": 14,
    "start_time": "2022-01-26T20:54:12.932Z"
   },
   {
    "duration": 32,
    "start_time": "2022-01-26T20:54:12.949Z"
   },
   {
    "duration": 102,
    "start_time": "2022-01-26T20:54:12.983Z"
   },
   {
    "duration": 67,
    "start_time": "2022-01-26T20:54:13.089Z"
   },
   {
    "duration": 6,
    "start_time": "2022-01-26T20:54:13.159Z"
   },
   {
    "duration": 35,
    "start_time": "2022-01-26T20:54:13.168Z"
   },
   {
    "duration": 355,
    "start_time": "2022-01-26T20:54:13.205Z"
   },
   {
    "duration": 49,
    "start_time": "2022-01-26T20:54:13.568Z"
   },
   {
    "duration": 14,
    "start_time": "2022-01-26T20:54:13.621Z"
   },
   {
    "duration": 79,
    "start_time": "2022-01-26T20:54:13.639Z"
   },
   {
    "duration": 281,
    "start_time": "2022-01-26T20:54:13.721Z"
   },
   {
    "duration": 72,
    "start_time": "2022-01-26T20:54:14.006Z"
   },
   {
    "duration": 6,
    "start_time": "2022-01-26T20:54:14.081Z"
   },
   {
    "duration": 6,
    "start_time": "2022-01-26T20:54:14.090Z"
   },
   {
    "duration": 131,
    "start_time": "2022-01-26T20:54:14.100Z"
   },
   {
    "duration": 7471,
    "start_time": "2022-01-26T20:54:14.234Z"
   },
   {
    "duration": 285,
    "start_time": "2022-01-26T20:54:21.709Z"
   },
   {
    "duration": 8643,
    "start_time": "2022-01-26T20:54:21.997Z"
   },
   {
    "duration": 796,
    "start_time": "2022-01-26T20:54:30.643Z"
   },
   {
    "duration": 94,
    "start_time": "2022-01-26T20:54:31.442Z"
   },
   {
    "duration": 39,
    "start_time": "2022-01-26T20:54:31.540Z"
   },
   {
    "duration": 11,
    "start_time": "2022-01-26T20:54:31.582Z"
   },
   {
    "duration": 581,
    "start_time": "2022-01-26T20:54:31.596Z"
   },
   {
    "duration": 959,
    "start_time": "2022-01-26T20:54:32.180Z"
   },
   {
    "duration": 11010,
    "start_time": "2022-01-26T20:54:33.143Z"
   },
   {
    "duration": 11394,
    "start_time": "2022-01-26T20:54:44.156Z"
   },
   {
    "duration": 37,
    "start_time": "2022-01-26T20:54:55.553Z"
   },
   {
    "duration": 4169,
    "start_time": "2022-01-26T20:54:55.593Z"
   },
   {
    "duration": 12404,
    "start_time": "2022-01-26T20:55:36.446Z"
   },
   {
    "duration": 10260,
    "start_time": "2022-01-26T20:57:53.874Z"
   },
   {
    "duration": 10120,
    "start_time": "2022-01-26T20:58:12.300Z"
   },
   {
    "duration": 9616,
    "start_time": "2022-01-26T20:58:29.261Z"
   },
   {
    "duration": 9338,
    "start_time": "2022-01-26T20:59:27.753Z"
   },
   {
    "duration": 9484,
    "start_time": "2022-01-26T20:59:49.408Z"
   },
   {
    "duration": 9594,
    "start_time": "2022-01-26T21:00:51.391Z"
   },
   {
    "duration": 10113,
    "start_time": "2022-01-26T21:01:31.360Z"
   },
   {
    "duration": 9565,
    "start_time": "2022-01-26T21:01:54.223Z"
   },
   {
    "duration": 9556,
    "start_time": "2022-01-26T21:02:27.804Z"
   },
   {
    "duration": 9463,
    "start_time": "2022-01-26T21:02:46.358Z"
   },
   {
    "duration": 9583,
    "start_time": "2022-01-26T21:03:09.078Z"
   },
   {
    "duration": 9330,
    "start_time": "2022-01-26T21:03:26.655Z"
   },
   {
    "duration": 9991,
    "start_time": "2022-01-26T21:03:50.301Z"
   },
   {
    "duration": 9701,
    "start_time": "2022-01-26T21:04:12.613Z"
   },
   {
    "duration": 11353,
    "start_time": "2022-01-26T21:05:01.220Z"
   },
   {
    "duration": 10466,
    "start_time": "2022-01-26T21:09:36.951Z"
   },
   {
    "duration": 6961,
    "start_time": "2022-01-26T21:10:10.103Z"
   },
   {
    "duration": 6367,
    "start_time": "2022-01-26T21:10:35.391Z"
   },
   {
    "duration": 318,
    "start_time": "2022-01-26T21:12:20.484Z"
   },
   {
    "duration": 789,
    "start_time": "2022-01-26T21:12:24.149Z"
   },
   {
    "duration": 7814,
    "start_time": "2022-01-26T21:12:27.909Z"
   },
   {
    "duration": 243,
    "start_time": "2022-01-26T21:12:46.468Z"
   },
   {
    "duration": 714,
    "start_time": "2022-01-26T21:12:49.020Z"
   },
   {
    "duration": 7355,
    "start_time": "2022-01-26T21:12:52.350Z"
   },
   {
    "duration": 316,
    "start_time": "2022-01-26T21:13:15.451Z"
   },
   {
    "duration": 1323,
    "start_time": "2022-01-26T21:13:23.386Z"
   },
   {
    "duration": 62,
    "start_time": "2022-01-26T21:13:24.711Z"
   },
   {
    "duration": 13,
    "start_time": "2022-01-26T21:13:24.776Z"
   },
   {
    "duration": 7,
    "start_time": "2022-01-26T21:13:24.791Z"
   },
   {
    "duration": 48,
    "start_time": "2022-01-26T21:13:24.800Z"
   },
   {
    "duration": 60,
    "start_time": "2022-01-26T21:13:24.850Z"
   },
   {
    "duration": 13,
    "start_time": "2022-01-26T21:13:24.935Z"
   },
   {
    "duration": 443,
    "start_time": "2022-01-26T21:13:24.950Z"
   },
   {
    "duration": 7,
    "start_time": "2022-01-26T21:13:25.399Z"
   },
   {
    "duration": 32,
    "start_time": "2022-01-26T21:13:25.410Z"
   },
   {
    "duration": 13,
    "start_time": "2022-01-26T21:13:25.444Z"
   },
   {
    "duration": 15,
    "start_time": "2022-01-26T21:13:25.459Z"
   },
   {
    "duration": 543,
    "start_time": "2022-01-26T21:13:25.477Z"
   },
   {
    "duration": 11,
    "start_time": "2022-01-26T21:13:26.023Z"
   },
   {
    "duration": 295,
    "start_time": "2022-01-26T21:13:26.037Z"
   },
   {
    "duration": 11,
    "start_time": "2022-01-26T21:13:26.335Z"
   },
   {
    "duration": 19,
    "start_time": "2022-01-26T21:13:26.348Z"
   },
   {
    "duration": 83,
    "start_time": "2022-01-26T21:13:26.369Z"
   },
   {
    "duration": 34,
    "start_time": "2022-01-26T21:13:26.454Z"
   },
   {
    "duration": 5,
    "start_time": "2022-01-26T21:13:26.490Z"
   },
   {
    "duration": 65,
    "start_time": "2022-01-26T21:13:26.497Z"
   },
   {
    "duration": 288,
    "start_time": "2022-01-26T21:13:26.564Z"
   },
   {
    "duration": 36,
    "start_time": "2022-01-26T21:13:26.854Z"
   },
   {
    "duration": 6,
    "start_time": "2022-01-26T21:13:26.892Z"
   },
   {
    "duration": 67,
    "start_time": "2022-01-26T21:13:26.900Z"
   },
   {
    "duration": 218,
    "start_time": "2022-01-26T21:13:26.970Z"
   },
   {
    "duration": 46,
    "start_time": "2022-01-26T21:13:27.193Z"
   },
   {
    "duration": 7,
    "start_time": "2022-01-26T21:13:27.243Z"
   },
   {
    "duration": 15,
    "start_time": "2022-01-26T21:13:27.252Z"
   },
   {
    "duration": 87,
    "start_time": "2022-01-26T21:13:27.269Z"
   },
   {
    "duration": 6406,
    "start_time": "2022-01-26T21:13:27.359Z"
   },
   {
    "duration": 246,
    "start_time": "2022-01-26T21:13:33.768Z"
   },
   {
    "duration": 6595,
    "start_time": "2022-01-26T21:13:34.017Z"
   },
   {
    "duration": 735,
    "start_time": "2022-01-26T21:13:40.615Z"
   },
   {
    "duration": 14,
    "start_time": "2022-01-26T21:13:41.434Z"
   },
   {
    "duration": 97,
    "start_time": "2022-01-26T21:13:41.454Z"
   },
   {
    "duration": 9,
    "start_time": "2022-01-26T21:13:41.553Z"
   },
   {
    "duration": 332,
    "start_time": "2022-01-26T21:13:41.565Z"
   },
   {
    "duration": 841,
    "start_time": "2022-01-26T21:13:41.900Z"
   },
   {
    "duration": 9625,
    "start_time": "2022-01-26T21:13:42.744Z"
   },
   {
    "duration": 10385,
    "start_time": "2022-01-26T21:13:52.372Z"
   },
   {
    "duration": 33,
    "start_time": "2022-01-26T21:14:02.759Z"
   },
   {
    "duration": 3326,
    "start_time": "2022-01-26T21:14:02.794Z"
   },
   {
    "duration": 1051,
    "start_time": "2022-01-27T17:46:54.930Z"
   },
   {
    "duration": 46,
    "start_time": "2022-01-27T17:46:55.983Z"
   },
   {
    "duration": 9,
    "start_time": "2022-01-27T17:46:56.032Z"
   },
   {
    "duration": 6,
    "start_time": "2022-01-27T17:46:56.043Z"
   },
   {
    "duration": 16,
    "start_time": "2022-01-27T17:46:56.051Z"
   },
   {
    "duration": 81,
    "start_time": "2022-01-27T17:46:56.069Z"
   },
   {
    "duration": 6,
    "start_time": "2022-01-27T17:46:56.152Z"
   },
   {
    "duration": 286,
    "start_time": "2022-01-27T17:46:56.160Z"
   },
   {
    "duration": 5,
    "start_time": "2022-01-27T17:46:56.448Z"
   },
   {
    "duration": 11,
    "start_time": "2022-01-27T17:46:56.454Z"
   },
   {
    "duration": 7,
    "start_time": "2022-01-27T17:46:56.467Z"
   },
   {
    "duration": 11,
    "start_time": "2022-01-27T17:46:56.475Z"
   },
   {
    "duration": 331,
    "start_time": "2022-01-27T17:46:56.499Z"
   },
   {
    "duration": 6,
    "start_time": "2022-01-27T17:46:56.832Z"
   },
   {
    "duration": 207,
    "start_time": "2022-01-27T17:46:56.840Z"
   },
   {
    "duration": 8,
    "start_time": "2022-01-27T17:46:57.049Z"
   },
   {
    "duration": 10,
    "start_time": "2022-01-27T17:46:57.059Z"
   },
   {
    "duration": 65,
    "start_time": "2022-01-27T17:46:57.071Z"
   },
   {
    "duration": 25,
    "start_time": "2022-01-27T17:46:57.138Z"
   },
   {
    "duration": 5,
    "start_time": "2022-01-27T17:46:57.164Z"
   },
   {
    "duration": 22,
    "start_time": "2022-01-27T17:46:57.199Z"
   },
   {
    "duration": 205,
    "start_time": "2022-01-27T17:46:57.223Z"
   },
   {
    "duration": 26,
    "start_time": "2022-01-27T17:46:57.432Z"
   },
   {
    "duration": 5,
    "start_time": "2022-01-27T17:46:57.460Z"
   },
   {
    "duration": 48,
    "start_time": "2022-01-27T17:46:57.466Z"
   },
   {
    "duration": 147,
    "start_time": "2022-01-27T17:46:57.515Z"
   },
   {
    "duration": 35,
    "start_time": "2022-01-27T17:46:57.664Z"
   },
   {
    "duration": 4,
    "start_time": "2022-01-27T17:46:57.701Z"
   },
   {
    "duration": 7,
    "start_time": "2022-01-27T17:46:57.707Z"
   },
   {
    "duration": 41,
    "start_time": "2022-01-27T17:46:57.716Z"
   },
   {
    "duration": 645,
    "start_time": "2022-01-27T17:46:57.759Z"
   },
   {
    "duration": 5851,
    "start_time": "2022-01-27T17:46:58.406Z"
   },
   {
    "duration": 5366,
    "start_time": "2022-01-27T17:47:04.259Z"
   },
   {
    "duration": 6,
    "start_time": "2022-01-27T17:47:09.626Z"
   },
   {
    "duration": 10,
    "start_time": "2022-01-27T17:47:09.633Z"
   },
   {
    "duration": 7,
    "start_time": "2022-01-27T17:47:09.645Z"
   },
   {
    "duration": 265,
    "start_time": "2022-01-27T17:47:09.654Z"
   },
   {
    "duration": 695,
    "start_time": "2022-01-27T17:47:09.921Z"
   },
   {
    "duration": 8091,
    "start_time": "2022-01-27T17:47:10.700Z"
   },
   {
    "duration": 8218,
    "start_time": "2022-01-27T17:47:18.792Z"
   },
   {
    "duration": 24,
    "start_time": "2022-01-27T17:47:27.012Z"
   },
   {
    "duration": 2699,
    "start_time": "2022-01-27T17:47:27.038Z"
   },
   {
    "duration": 1098,
    "start_time": "2022-01-27T17:49:05.339Z"
   },
   {
    "duration": 46,
    "start_time": "2022-01-27T17:49:06.439Z"
   },
   {
    "duration": 9,
    "start_time": "2022-01-27T17:49:06.487Z"
   },
   {
    "duration": 4,
    "start_time": "2022-01-27T17:49:06.499Z"
   },
   {
    "duration": 12,
    "start_time": "2022-01-27T17:49:06.505Z"
   },
   {
    "duration": 43,
    "start_time": "2022-01-27T17:49:06.519Z"
   },
   {
    "duration": 40,
    "start_time": "2022-01-27T17:49:06.563Z"
   },
   {
    "duration": 279,
    "start_time": "2022-01-27T17:49:06.605Z"
   },
   {
    "duration": 13,
    "start_time": "2022-01-27T17:49:06.887Z"
   },
   {
    "duration": 10,
    "start_time": "2022-01-27T17:49:06.902Z"
   },
   {
    "duration": 2,
    "start_time": "2022-01-27T17:49:06.914Z"
   },
   {
    "duration": 6,
    "start_time": "2022-01-27T17:49:06.918Z"
   },
   {
    "duration": 345,
    "start_time": "2022-01-27T17:49:06.925Z"
   },
   {
    "duration": 4,
    "start_time": "2022-01-27T17:49:07.272Z"
   },
   {
    "duration": 194,
    "start_time": "2022-01-27T17:49:07.278Z"
   },
   {
    "duration": 6,
    "start_time": "2022-01-27T17:49:07.474Z"
   },
   {
    "duration": 21,
    "start_time": "2022-01-27T17:49:07.482Z"
   },
   {
    "duration": 44,
    "start_time": "2022-01-27T17:49:07.504Z"
   },
   {
    "duration": 23,
    "start_time": "2022-01-27T17:49:07.549Z"
   },
   {
    "duration": 25,
    "start_time": "2022-01-27T17:49:07.574Z"
   },
   {
    "duration": 34,
    "start_time": "2022-01-27T17:49:07.601Z"
   },
   {
    "duration": 196,
    "start_time": "2022-01-27T17:49:07.636Z"
   },
   {
    "duration": 25,
    "start_time": "2022-01-27T17:49:07.836Z"
   },
   {
    "duration": 5,
    "start_time": "2022-01-27T17:49:07.863Z"
   },
   {
    "duration": 43,
    "start_time": "2022-01-27T17:49:07.871Z"
   },
   {
    "duration": 132,
    "start_time": "2022-01-27T17:49:07.916Z"
   },
   {
    "duration": 27,
    "start_time": "2022-01-27T17:49:08.050Z"
   },
   {
    "duration": 20,
    "start_time": "2022-01-27T17:49:08.078Z"
   },
   {
    "duration": 5,
    "start_time": "2022-01-27T17:49:08.100Z"
   },
   {
    "duration": 40,
    "start_time": "2022-01-27T17:49:08.107Z"
   },
   {
    "duration": 557,
    "start_time": "2022-01-27T17:49:08.149Z"
   },
   {
    "duration": 7075,
    "start_time": "2022-01-27T17:49:08.708Z"
   },
   {
    "duration": 374,
    "start_time": "2022-01-27T17:49:15.411Z"
   },
   {
    "duration": 351,
    "start_time": "2022-01-27T17:49:15.435Z"
   },
   {
    "duration": 316,
    "start_time": "2022-01-27T17:49:15.472Z"
   },
   {
    "duration": 309,
    "start_time": "2022-01-27T17:49:15.480Z"
   },
   {
    "duration": 305,
    "start_time": "2022-01-27T17:49:15.486Z"
   },
   {
    "duration": 303,
    "start_time": "2022-01-27T17:49:15.489Z"
   },
   {
    "duration": 298,
    "start_time": "2022-01-27T17:49:15.495Z"
   },
   {
    "duration": 296,
    "start_time": "2022-01-27T17:49:15.498Z"
   },
   {
    "duration": 294,
    "start_time": "2022-01-27T17:49:15.501Z"
   },
   {
    "duration": 292,
    "start_time": "2022-01-27T17:49:15.504Z"
   },
   {
    "duration": 289,
    "start_time": "2022-01-27T17:49:15.508Z"
   },
   {
    "duration": 31,
    "start_time": "2022-01-27T17:49:38.604Z"
   },
   {
    "duration": 484,
    "start_time": "2022-01-27T17:49:42.289Z"
   },
   {
    "duration": 1053,
    "start_time": "2022-01-27T17:50:11.637Z"
   },
   {
    "duration": 60,
    "start_time": "2022-01-27T17:50:12.692Z"
   },
   {
    "duration": 9,
    "start_time": "2022-01-27T17:50:12.754Z"
   },
   {
    "duration": 4,
    "start_time": "2022-01-27T17:50:12.765Z"
   },
   {
    "duration": 21,
    "start_time": "2022-01-27T17:50:12.771Z"
   },
   {
    "duration": 50,
    "start_time": "2022-01-27T17:50:12.794Z"
   },
   {
    "duration": 6,
    "start_time": "2022-01-27T17:50:12.846Z"
   },
   {
    "duration": 291,
    "start_time": "2022-01-27T17:50:12.855Z"
   },
   {
    "duration": 6,
    "start_time": "2022-01-27T17:50:13.149Z"
   },
   {
    "duration": 11,
    "start_time": "2022-01-27T17:50:13.157Z"
   },
   {
    "duration": 3,
    "start_time": "2022-01-27T17:50:13.170Z"
   },
   {
    "duration": 26,
    "start_time": "2022-01-27T17:50:13.175Z"
   },
   {
    "duration": 314,
    "start_time": "2022-01-27T17:50:13.202Z"
   },
   {
    "duration": 4,
    "start_time": "2022-01-27T17:50:13.518Z"
   },
   {
    "duration": 191,
    "start_time": "2022-01-27T17:50:13.523Z"
   },
   {
    "duration": 6,
    "start_time": "2022-01-27T17:50:13.716Z"
   },
   {
    "duration": 16,
    "start_time": "2022-01-27T17:50:13.724Z"
   },
   {
    "duration": 43,
    "start_time": "2022-01-27T17:50:13.742Z"
   },
   {
    "duration": 23,
    "start_time": "2022-01-27T17:50:13.799Z"
   },
   {
    "duration": 4,
    "start_time": "2022-01-27T17:50:13.823Z"
   },
   {
    "duration": 25,
    "start_time": "2022-01-27T17:50:13.828Z"
   },
   {
    "duration": 220,
    "start_time": "2022-01-27T17:50:13.855Z"
   },
   {
    "duration": 33,
    "start_time": "2022-01-27T17:50:14.079Z"
   },
   {
    "duration": 4,
    "start_time": "2022-01-27T17:50:14.114Z"
   },
   {
    "duration": 25,
    "start_time": "2022-01-27T17:50:14.120Z"
   },
   {
    "duration": 146,
    "start_time": "2022-01-27T17:50:14.147Z"
   },
   {
    "duration": 26,
    "start_time": "2022-01-27T17:50:14.294Z"
   },
   {
    "duration": 4,
    "start_time": "2022-01-27T17:50:14.321Z"
   },
   {
    "duration": 7,
    "start_time": "2022-01-27T17:50:14.326Z"
   },
   {
    "duration": 73,
    "start_time": "2022-01-27T17:50:14.335Z"
   },
   {
    "duration": 508,
    "start_time": "2022-01-27T17:50:14.410Z"
   },
   {
    "duration": 118,
    "start_time": "2022-01-27T17:50:15.000Z"
   },
   {
    "duration": 511,
    "start_time": "2022-01-27T17:50:15.120Z"
   },
   {
    "duration": 632,
    "start_time": "2022-01-27T17:50:15.633Z"
   },
   {
    "duration": 7,
    "start_time": "2022-01-27T17:50:16.267Z"
   },
   {
    "duration": 31,
    "start_time": "2022-01-27T17:50:16.276Z"
   },
   {
    "duration": 10,
    "start_time": "2022-01-27T17:50:16.310Z"
   },
   {
    "duration": 18,
    "start_time": "2022-01-27T17:50:16.323Z"
   },
   {
    "duration": 163,
    "start_time": "2022-01-27T17:50:16.344Z"
   },
   {
    "duration": 814,
    "start_time": "2022-01-27T17:50:16.509Z"
   },
   {
    "duration": 842,
    "start_time": "2022-01-27T17:50:17.325Z"
   },
   {
    "duration": 39,
    "start_time": "2022-01-27T17:50:18.169Z"
   },
   {
    "duration": 2578,
    "start_time": "2022-01-27T17:50:18.209Z"
   },
   {
    "duration": 1116,
    "start_time": "2022-01-27T17:52:57.105Z"
   },
   {
    "duration": 45,
    "start_time": "2022-01-27T17:52:58.223Z"
   },
   {
    "duration": 8,
    "start_time": "2022-01-27T17:52:58.270Z"
   },
   {
    "duration": 4,
    "start_time": "2022-01-27T17:52:58.281Z"
   },
   {
    "duration": 10,
    "start_time": "2022-01-27T17:52:58.299Z"
   },
   {
    "duration": 41,
    "start_time": "2022-01-27T17:52:58.311Z"
   },
   {
    "duration": 6,
    "start_time": "2022-01-27T17:52:58.353Z"
   },
   {
    "duration": 285,
    "start_time": "2022-01-27T17:52:58.361Z"
   },
   {
    "duration": 4,
    "start_time": "2022-01-27T17:52:58.648Z"
   },
   {
    "duration": 8,
    "start_time": "2022-01-27T17:52:58.654Z"
   },
   {
    "duration": 2,
    "start_time": "2022-01-27T17:52:58.663Z"
   },
   {
    "duration": 5,
    "start_time": "2022-01-27T17:52:58.667Z"
   },
   {
    "duration": 311,
    "start_time": "2022-01-27T17:52:58.698Z"
   },
   {
    "duration": 4,
    "start_time": "2022-01-27T17:52:59.011Z"
   },
   {
    "duration": 201,
    "start_time": "2022-01-27T17:52:59.016Z"
   },
   {
    "duration": 6,
    "start_time": "2022-01-27T17:52:59.218Z"
   },
   {
    "duration": 10,
    "start_time": "2022-01-27T17:52:59.226Z"
   },
   {
    "duration": 62,
    "start_time": "2022-01-27T17:52:59.238Z"
   },
   {
    "duration": 22,
    "start_time": "2022-01-27T17:52:59.302Z"
   },
   {
    "duration": 4,
    "start_time": "2022-01-27T17:52:59.326Z"
   },
   {
    "duration": 24,
    "start_time": "2022-01-27T17:52:59.332Z"
   },
   {
    "duration": 222,
    "start_time": "2022-01-27T17:52:59.358Z"
   },
   {
    "duration": 30,
    "start_time": "2022-01-27T17:52:59.583Z"
   },
   {
    "duration": 5,
    "start_time": "2022-01-27T17:52:59.615Z"
   },
   {
    "duration": 26,
    "start_time": "2022-01-27T17:52:59.622Z"
   },
   {
    "duration": 143,
    "start_time": "2022-01-27T17:52:59.650Z"
   },
   {
    "duration": 24,
    "start_time": "2022-01-27T17:52:59.798Z"
   },
   {
    "duration": 3,
    "start_time": "2022-01-27T17:52:59.824Z"
   },
   {
    "duration": 6,
    "start_time": "2022-01-27T17:52:59.829Z"
   },
   {
    "duration": 70,
    "start_time": "2022-01-27T17:52:59.836Z"
   },
   {
    "duration": 498,
    "start_time": "2022-01-27T17:52:59.908Z"
   },
   {
    "duration": 120,
    "start_time": "2022-01-27T17:53:00.409Z"
   },
   {
    "duration": 545,
    "start_time": "2022-01-27T17:53:00.531Z"
   },
   {
    "duration": 695,
    "start_time": "2022-01-27T17:53:01.078Z"
   },
   {
    "duration": 6,
    "start_time": "2022-01-27T17:53:01.775Z"
   },
   {
    "duration": 60,
    "start_time": "2022-01-27T17:53:01.782Z"
   },
   {
    "duration": 15,
    "start_time": "2022-01-27T17:53:01.844Z"
   },
   {
    "duration": 12,
    "start_time": "2022-01-27T17:53:01.861Z"
   },
   {
    "duration": 133,
    "start_time": "2022-01-27T17:53:01.875Z"
   },
   {
    "duration": 842,
    "start_time": "2022-01-27T17:53:02.011Z"
   },
   {
    "duration": 900,
    "start_time": "2022-01-27T17:53:02.855Z"
   },
   {
    "duration": 42,
    "start_time": "2022-01-27T17:53:03.758Z"
   },
   {
    "duration": 3021,
    "start_time": "2022-01-27T17:53:03.801Z"
   },
   {
    "duration": 1099,
    "start_time": "2022-01-27T17:54:42.773Z"
   },
   {
    "duration": 45,
    "start_time": "2022-01-27T17:54:43.874Z"
   },
   {
    "duration": 8,
    "start_time": "2022-01-27T17:54:43.922Z"
   },
   {
    "duration": 15,
    "start_time": "2022-01-27T17:54:43.932Z"
   },
   {
    "duration": 16,
    "start_time": "2022-01-27T17:54:43.948Z"
   },
   {
    "duration": 51,
    "start_time": "2022-01-27T17:54:43.966Z"
   },
   {
    "duration": 6,
    "start_time": "2022-01-27T17:54:44.018Z"
   },
   {
    "duration": 305,
    "start_time": "2022-01-27T17:54:44.026Z"
   },
   {
    "duration": 5,
    "start_time": "2022-01-27T17:54:44.333Z"
   },
   {
    "duration": 9,
    "start_time": "2022-01-27T17:54:44.339Z"
   },
   {
    "duration": 2,
    "start_time": "2022-01-27T17:54:44.350Z"
   },
   {
    "duration": 16,
    "start_time": "2022-01-27T17:54:44.354Z"
   },
   {
    "duration": 296,
    "start_time": "2022-01-27T17:54:44.372Z"
   },
   {
    "duration": 4,
    "start_time": "2022-01-27T17:54:44.670Z"
   },
   {
    "duration": 187,
    "start_time": "2022-01-27T17:54:44.675Z"
   },
   {
    "duration": 7,
    "start_time": "2022-01-27T17:54:44.863Z"
   },
   {
    "duration": 9,
    "start_time": "2022-01-27T17:54:44.872Z"
   },
   {
    "duration": 43,
    "start_time": "2022-01-27T17:54:44.882Z"
   },
   {
    "duration": 20,
    "start_time": "2022-01-27T17:54:44.927Z"
   },
   {
    "duration": 4,
    "start_time": "2022-01-27T17:54:44.949Z"
   },
   {
    "duration": 26,
    "start_time": "2022-01-27T17:54:44.954Z"
   },
   {
    "duration": 222,
    "start_time": "2022-01-27T17:54:44.981Z"
   },
   {
    "duration": 24,
    "start_time": "2022-01-27T17:54:45.207Z"
   },
   {
    "duration": 5,
    "start_time": "2022-01-27T17:54:45.233Z"
   },
   {
    "duration": 81,
    "start_time": "2022-01-27T17:54:45.239Z"
   },
   {
    "duration": 142,
    "start_time": "2022-01-27T17:54:45.321Z"
   },
   {
    "duration": 42,
    "start_time": "2022-01-27T17:54:45.465Z"
   },
   {
    "duration": 3,
    "start_time": "2022-01-27T17:54:45.509Z"
   },
   {
    "duration": 7,
    "start_time": "2022-01-27T17:54:45.514Z"
   },
   {
    "duration": 83,
    "start_time": "2022-01-27T17:54:45.523Z"
   },
   {
    "duration": 595,
    "start_time": "2022-01-27T17:54:45.607Z"
   },
   {
    "duration": 132,
    "start_time": "2022-01-27T17:54:46.205Z"
   },
   {
    "duration": 510,
    "start_time": "2022-01-27T17:54:46.340Z"
   },
   {
    "duration": 622,
    "start_time": "2022-01-27T17:54:46.852Z"
   },
   {
    "duration": 5,
    "start_time": "2022-01-27T17:54:47.476Z"
   },
   {
    "duration": 18,
    "start_time": "2022-01-27T17:54:47.483Z"
   },
   {
    "duration": 3,
    "start_time": "2022-01-27T17:54:47.503Z"
   },
   {
    "duration": 14,
    "start_time": "2022-01-27T17:54:47.508Z"
   },
   {
    "duration": 178,
    "start_time": "2022-01-27T17:54:47.524Z"
   },
   {
    "duration": 706,
    "start_time": "2022-01-27T17:54:47.706Z"
   },
   {
    "duration": 800,
    "start_time": "2022-01-27T17:54:48.413Z"
   },
   {
    "duration": 27,
    "start_time": "2022-01-27T17:54:49.215Z"
   },
   {
    "duration": 2657,
    "start_time": "2022-01-27T17:54:49.244Z"
   },
   {
    "duration": 245,
    "start_time": "2022-01-27T17:55:17.158Z"
   },
   {
    "duration": 1130,
    "start_time": "2022-01-27T17:55:39.801Z"
   },
   {
    "duration": 45,
    "start_time": "2022-01-27T17:55:40.933Z"
   },
   {
    "duration": 9,
    "start_time": "2022-01-27T17:55:40.982Z"
   },
   {
    "duration": 5,
    "start_time": "2022-01-27T17:55:40.998Z"
   },
   {
    "duration": 18,
    "start_time": "2022-01-27T17:55:41.004Z"
   },
   {
    "duration": 43,
    "start_time": "2022-01-27T17:55:41.024Z"
   },
   {
    "duration": 7,
    "start_time": "2022-01-27T17:55:41.068Z"
   },
   {
    "duration": 266,
    "start_time": "2022-01-27T17:55:41.100Z"
   },
   {
    "duration": 5,
    "start_time": "2022-01-27T17:55:41.368Z"
   },
   {
    "duration": 10,
    "start_time": "2022-01-27T17:55:41.374Z"
   },
   {
    "duration": 15,
    "start_time": "2022-01-27T17:55:41.385Z"
   },
   {
    "duration": 7,
    "start_time": "2022-01-27T17:55:41.401Z"
   },
   {
    "duration": 311,
    "start_time": "2022-01-27T17:55:41.410Z"
   },
   {
    "duration": 4,
    "start_time": "2022-01-27T17:55:41.723Z"
   },
   {
    "duration": 195,
    "start_time": "2022-01-27T17:55:41.728Z"
   },
   {
    "duration": 6,
    "start_time": "2022-01-27T17:55:41.925Z"
   },
   {
    "duration": 10,
    "start_time": "2022-01-27T17:55:41.933Z"
   },
   {
    "duration": 60,
    "start_time": "2022-01-27T17:55:41.945Z"
   },
   {
    "duration": 24,
    "start_time": "2022-01-27T17:55:42.007Z"
   },
   {
    "duration": 5,
    "start_time": "2022-01-27T17:55:42.034Z"
   },
   {
    "duration": 23,
    "start_time": "2022-01-27T17:55:42.041Z"
   },
   {
    "duration": 232,
    "start_time": "2022-01-27T17:55:42.066Z"
   },
   {
    "duration": 25,
    "start_time": "2022-01-27T17:55:42.300Z"
   },
   {
    "duration": 5,
    "start_time": "2022-01-27T17:55:42.327Z"
   },
   {
    "duration": 24,
    "start_time": "2022-01-27T17:55:42.334Z"
   },
   {
    "duration": 154,
    "start_time": "2022-01-27T17:55:42.362Z"
   },
   {
    "duration": 25,
    "start_time": "2022-01-27T17:55:42.518Z"
   },
   {
    "duration": 4,
    "start_time": "2022-01-27T17:55:42.545Z"
   },
   {
    "duration": 5,
    "start_time": "2022-01-27T17:55:42.551Z"
   },
   {
    "duration": 70,
    "start_time": "2022-01-27T17:55:42.557Z"
   },
   {
    "duration": 582,
    "start_time": "2022-01-27T17:55:42.628Z"
   },
   {
    "duration": 206,
    "start_time": "2022-01-27T17:55:43.213Z"
   },
   {
    "duration": 503,
    "start_time": "2022-01-27T17:55:43.421Z"
   },
   {
    "duration": 599,
    "start_time": "2022-01-27T17:55:43.925Z"
   },
   {
    "duration": 6,
    "start_time": "2022-01-27T17:55:44.526Z"
   },
   {
    "duration": 9,
    "start_time": "2022-01-27T17:55:44.533Z"
   },
   {
    "duration": 4,
    "start_time": "2022-01-27T17:55:44.544Z"
   },
   {
    "duration": 13,
    "start_time": "2022-01-27T17:55:44.550Z"
   },
   {
    "duration": 238,
    "start_time": "2022-01-27T17:55:44.565Z"
   },
   {
    "duration": 724,
    "start_time": "2022-01-27T17:55:44.806Z"
   },
   {
    "duration": 849,
    "start_time": "2022-01-27T17:55:45.532Z"
   },
   {
    "duration": 45,
    "start_time": "2022-01-27T17:55:46.383Z"
   },
   {
    "duration": 2618,
    "start_time": "2022-01-27T17:55:46.430Z"
   },
   {
    "duration": 1102,
    "start_time": "2022-01-27T17:56:31.154Z"
   },
   {
    "duration": 46,
    "start_time": "2022-01-27T17:56:32.258Z"
   },
   {
    "duration": 8,
    "start_time": "2022-01-27T17:56:32.306Z"
   },
   {
    "duration": 6,
    "start_time": "2022-01-27T17:56:32.316Z"
   },
   {
    "duration": 18,
    "start_time": "2022-01-27T17:56:32.324Z"
   },
   {
    "duration": 59,
    "start_time": "2022-01-27T17:56:32.343Z"
   },
   {
    "duration": 9,
    "start_time": "2022-01-27T17:56:32.405Z"
   },
   {
    "duration": 298,
    "start_time": "2022-01-27T17:56:32.417Z"
   },
   {
    "duration": 5,
    "start_time": "2022-01-27T17:56:32.717Z"
   },
   {
    "duration": 18,
    "start_time": "2022-01-27T17:56:32.723Z"
   },
   {
    "duration": 5,
    "start_time": "2022-01-27T17:56:32.743Z"
   },
   {
    "duration": 8,
    "start_time": "2022-01-27T17:56:32.750Z"
   },
   {
    "duration": 336,
    "start_time": "2022-01-27T17:56:32.760Z"
   },
   {
    "duration": 4,
    "start_time": "2022-01-27T17:56:33.098Z"
   },
   {
    "duration": 198,
    "start_time": "2022-01-27T17:56:33.104Z"
   },
   {
    "duration": 6,
    "start_time": "2022-01-27T17:56:33.304Z"
   },
   {
    "duration": 11,
    "start_time": "2022-01-27T17:56:33.312Z"
   },
   {
    "duration": 43,
    "start_time": "2022-01-27T17:56:33.325Z"
   },
   {
    "duration": 47,
    "start_time": "2022-01-27T17:56:33.370Z"
   },
   {
    "duration": 5,
    "start_time": "2022-01-27T17:56:33.420Z"
   },
   {
    "duration": 27,
    "start_time": "2022-01-27T17:56:33.427Z"
   },
   {
    "duration": 225,
    "start_time": "2022-01-27T17:56:33.456Z"
   },
   {
    "duration": 32,
    "start_time": "2022-01-27T17:56:33.685Z"
   },
   {
    "duration": 6,
    "start_time": "2022-01-27T17:56:33.719Z"
   },
   {
    "duration": 31,
    "start_time": "2022-01-27T17:56:33.727Z"
   },
   {
    "duration": 147,
    "start_time": "2022-01-27T17:56:33.760Z"
   },
   {
    "duration": 27,
    "start_time": "2022-01-27T17:56:33.909Z"
   },
   {
    "duration": 5,
    "start_time": "2022-01-27T17:56:33.938Z"
   },
   {
    "duration": 5,
    "start_time": "2022-01-27T17:56:33.945Z"
   },
   {
    "duration": 69,
    "start_time": "2022-01-27T17:56:33.952Z"
   },
   {
    "duration": 588,
    "start_time": "2022-01-27T17:56:34.023Z"
   },
   {
    "duration": 206,
    "start_time": "2022-01-27T17:56:34.613Z"
   },
   {
    "duration": 511,
    "start_time": "2022-01-27T17:56:34.820Z"
   },
   {
    "duration": 639,
    "start_time": "2022-01-27T17:56:35.333Z"
   },
   {
    "duration": 8,
    "start_time": "2022-01-27T17:56:35.974Z"
   },
   {
    "duration": 7,
    "start_time": "2022-01-27T17:56:35.998Z"
   },
   {
    "duration": 7,
    "start_time": "2022-01-27T17:56:36.007Z"
   },
   {
    "duration": 11,
    "start_time": "2022-01-27T17:56:36.015Z"
   },
   {
    "duration": 174,
    "start_time": "2022-01-27T17:56:36.028Z"
   },
   {
    "duration": 720,
    "start_time": "2022-01-27T17:56:36.204Z"
   },
   {
    "duration": 905,
    "start_time": "2022-01-27T17:56:36.926Z"
   },
   {
    "duration": 31,
    "start_time": "2022-01-27T17:56:37.833Z"
   },
   {
    "duration": 2860,
    "start_time": "2022-01-27T17:56:37.867Z"
   },
   {
    "duration": 1079,
    "start_time": "2022-01-27T17:57:59.669Z"
   },
   {
    "duration": 46,
    "start_time": "2022-01-27T17:58:00.750Z"
   },
   {
    "duration": 9,
    "start_time": "2022-01-27T17:58:00.798Z"
   },
   {
    "duration": 6,
    "start_time": "2022-01-27T17:58:00.810Z"
   },
   {
    "duration": 18,
    "start_time": "2022-01-27T17:58:00.818Z"
   },
   {
    "duration": 66,
    "start_time": "2022-01-27T17:58:00.837Z"
   },
   {
    "duration": 7,
    "start_time": "2022-01-27T17:58:00.904Z"
   },
   {
    "duration": 305,
    "start_time": "2022-01-27T17:58:00.913Z"
   },
   {
    "duration": 4,
    "start_time": "2022-01-27T17:58:01.221Z"
   },
   {
    "duration": 29,
    "start_time": "2022-01-27T17:58:01.227Z"
   },
   {
    "duration": 9,
    "start_time": "2022-01-27T17:58:01.258Z"
   },
   {
    "duration": 20,
    "start_time": "2022-01-27T17:58:01.269Z"
   },
   {
    "duration": 349,
    "start_time": "2022-01-27T17:58:01.291Z"
   },
   {
    "duration": 5,
    "start_time": "2022-01-27T17:58:01.642Z"
   },
   {
    "duration": 225,
    "start_time": "2022-01-27T17:58:01.649Z"
   },
   {
    "duration": 6,
    "start_time": "2022-01-27T17:58:01.876Z"
   },
   {
    "duration": 19,
    "start_time": "2022-01-27T17:58:01.884Z"
   },
   {
    "duration": 47,
    "start_time": "2022-01-27T17:58:01.905Z"
   },
   {
    "duration": 46,
    "start_time": "2022-01-27T17:58:01.954Z"
   },
   {
    "duration": 4,
    "start_time": "2022-01-27T17:58:02.002Z"
   },
   {
    "duration": 41,
    "start_time": "2022-01-27T17:58:02.008Z"
   },
   {
    "duration": 222,
    "start_time": "2022-01-27T17:58:02.051Z"
   },
   {
    "duration": 139,
    "start_time": "2022-01-27T17:58:02.277Z"
   },
   {
    "duration": 5,
    "start_time": "2022-01-27T17:58:02.418Z"
   },
   {
    "duration": 14,
    "start_time": "2022-01-27T17:58:02.425Z"
   },
   {
    "duration": 70,
    "start_time": "2022-01-27T17:58:02.441Z"
   },
   {
    "duration": 596,
    "start_time": "2022-01-27T17:58:02.514Z"
   },
   {
    "duration": 199,
    "start_time": "2022-01-27T17:58:03.112Z"
   },
   {
    "duration": 528,
    "start_time": "2022-01-27T17:58:03.313Z"
   },
   {
    "duration": 627,
    "start_time": "2022-01-27T17:58:03.843Z"
   },
   {
    "duration": 7,
    "start_time": "2022-01-27T17:58:04.472Z"
   },
   {
    "duration": 18,
    "start_time": "2022-01-27T17:58:04.481Z"
   },
   {
    "duration": 5,
    "start_time": "2022-01-27T17:58:04.501Z"
   },
   {
    "duration": 12,
    "start_time": "2022-01-27T17:58:04.508Z"
   },
   {
    "duration": 280,
    "start_time": "2022-01-27T17:58:04.521Z"
   },
   {
    "duration": 724,
    "start_time": "2022-01-27T17:58:04.803Z"
   },
   {
    "duration": 852,
    "start_time": "2022-01-27T17:58:05.529Z"
   },
   {
    "duration": 28,
    "start_time": "2022-01-27T17:58:06.383Z"
   },
   {
    "duration": 2587,
    "start_time": "2022-01-27T17:58:06.413Z"
   },
   {
    "duration": 1092,
    "start_time": "2022-01-27T17:58:42.994Z"
   },
   {
    "duration": 46,
    "start_time": "2022-01-27T17:58:44.088Z"
   },
   {
    "duration": 9,
    "start_time": "2022-01-27T17:58:44.137Z"
   },
   {
    "duration": 9,
    "start_time": "2022-01-27T17:58:44.147Z"
   },
   {
    "duration": 13,
    "start_time": "2022-01-27T17:58:44.158Z"
   },
   {
    "duration": 64,
    "start_time": "2022-01-27T17:58:44.173Z"
   },
   {
    "duration": 6,
    "start_time": "2022-01-27T17:58:44.239Z"
   },
   {
    "duration": 315,
    "start_time": "2022-01-27T17:58:44.248Z"
   },
   {
    "duration": 5,
    "start_time": "2022-01-27T17:58:44.565Z"
   },
   {
    "duration": 10,
    "start_time": "2022-01-27T17:58:44.571Z"
   },
   {
    "duration": 2,
    "start_time": "2022-01-27T17:58:44.583Z"
   },
   {
    "duration": 6,
    "start_time": "2022-01-27T17:58:44.587Z"
   },
   {
    "duration": 321,
    "start_time": "2022-01-27T17:58:44.599Z"
   },
   {
    "duration": 5,
    "start_time": "2022-01-27T17:58:44.922Z"
   },
   {
    "duration": 198,
    "start_time": "2022-01-27T17:58:44.928Z"
   },
   {
    "duration": 6,
    "start_time": "2022-01-27T17:58:45.128Z"
   },
   {
    "duration": 10,
    "start_time": "2022-01-27T17:58:45.135Z"
   },
   {
    "duration": 69,
    "start_time": "2022-01-27T17:58:45.147Z"
   },
   {
    "duration": 23,
    "start_time": "2022-01-27T17:58:45.218Z"
   },
   {
    "duration": 4,
    "start_time": "2022-01-27T17:58:45.299Z"
   },
   {
    "duration": 24,
    "start_time": "2022-01-27T17:58:45.305Z"
   },
   {
    "duration": 293,
    "start_time": "2022-01-27T17:58:45.331Z"
   },
   {
    "duration": 138,
    "start_time": "2022-01-27T17:58:45.628Z"
   },
   {
    "duration": 4,
    "start_time": "2022-01-27T17:58:45.768Z"
   },
   {
    "duration": 6,
    "start_time": "2022-01-27T17:58:45.774Z"
   },
   {
    "duration": 51,
    "start_time": "2022-01-27T17:58:45.781Z"
   },
   {
    "duration": 566,
    "start_time": "2022-01-27T17:58:45.833Z"
   },
   {
    "duration": 613,
    "start_time": "2022-01-27T17:58:46.402Z"
   },
   {
    "duration": 200,
    "start_time": "2022-01-27T17:58:47.018Z"
   },
   {
    "duration": 497,
    "start_time": "2022-01-27T17:58:47.219Z"
   },
   {
    "duration": 633,
    "start_time": "2022-01-27T17:58:47.718Z"
   },
   {
    "duration": 7,
    "start_time": "2022-01-27T17:58:48.354Z"
   },
   {
    "duration": 7,
    "start_time": "2022-01-27T17:58:48.363Z"
   },
   {
    "duration": 28,
    "start_time": "2022-01-27T17:58:48.372Z"
   },
   {
    "duration": 12,
    "start_time": "2022-01-27T17:58:48.402Z"
   },
   {
    "duration": 183,
    "start_time": "2022-01-27T17:58:48.415Z"
   },
   {
    "duration": 718,
    "start_time": "2022-01-27T17:58:48.601Z"
   },
   {
    "duration": 823,
    "start_time": "2022-01-27T17:58:49.321Z"
   },
   {
    "duration": 23,
    "start_time": "2022-01-27T17:58:50.146Z"
   },
   {
    "duration": 2627,
    "start_time": "2022-01-27T17:58:50.171Z"
   },
   {
    "duration": 6,
    "start_time": "2022-01-27T17:59:57.258Z"
   },
   {
    "duration": 1185,
    "start_time": "2022-01-27T18:01:28.554Z"
   },
   {
    "duration": 47,
    "start_time": "2022-01-27T18:01:29.741Z"
   },
   {
    "duration": 10,
    "start_time": "2022-01-27T18:01:29.791Z"
   },
   {
    "duration": 21,
    "start_time": "2022-01-27T18:01:29.802Z"
   },
   {
    "duration": 20,
    "start_time": "2022-01-27T18:01:29.825Z"
   },
   {
    "duration": 63,
    "start_time": "2022-01-27T18:01:29.847Z"
   },
   {
    "duration": 7,
    "start_time": "2022-01-27T18:01:29.911Z"
   },
   {
    "duration": 307,
    "start_time": "2022-01-27T18:01:29.921Z"
   },
   {
    "duration": 5,
    "start_time": "2022-01-27T18:01:30.230Z"
   },
   {
    "duration": 38,
    "start_time": "2022-01-27T18:01:30.237Z"
   },
   {
    "duration": 24,
    "start_time": "2022-01-27T18:01:30.277Z"
   },
   {
    "duration": 13,
    "start_time": "2022-01-27T18:01:30.303Z"
   },
   {
    "duration": 361,
    "start_time": "2022-01-27T18:01:30.317Z"
   },
   {
    "duration": 5,
    "start_time": "2022-01-27T18:01:30.680Z"
   },
   {
    "duration": 215,
    "start_time": "2022-01-27T18:01:30.686Z"
   },
   {
    "duration": 6,
    "start_time": "2022-01-27T18:01:30.903Z"
   },
   {
    "duration": 18,
    "start_time": "2022-01-27T18:01:30.911Z"
   },
   {
    "duration": 48,
    "start_time": "2022-01-27T18:01:30.931Z"
   },
   {
    "duration": 38,
    "start_time": "2022-01-27T18:01:30.980Z"
   },
   {
    "duration": 5,
    "start_time": "2022-01-27T18:01:31.019Z"
   },
   {
    "duration": 34,
    "start_time": "2022-01-27T18:01:31.025Z"
   },
   {
    "duration": 225,
    "start_time": "2022-01-27T18:01:31.061Z"
   },
   {
    "duration": 144,
    "start_time": "2022-01-27T18:01:31.290Z"
   },
   {
    "duration": 6,
    "start_time": "2022-01-27T18:01:31.436Z"
   },
   {
    "duration": 16,
    "start_time": "2022-01-27T18:01:31.443Z"
   },
   {
    "duration": 54,
    "start_time": "2022-01-27T18:01:31.461Z"
   },
   {
    "duration": 581,
    "start_time": "2022-01-27T18:01:31.517Z"
   },
   {
    "duration": 706,
    "start_time": "2022-01-27T18:01:32.101Z"
   },
   {
    "duration": 88,
    "start_time": "2022-01-27T18:01:32.811Z"
   },
   {
    "duration": 18,
    "start_time": "2022-01-27T18:01:32.901Z"
   },
   {
    "duration": 10,
    "start_time": "2022-01-27T18:01:32.921Z"
   },
   {
    "duration": 316,
    "start_time": "2022-01-27T18:01:32.933Z"
   },
   {
    "duration": 569,
    "start_time": "2022-01-27T18:01:33.251Z"
   },
   {
    "duration": 202,
    "start_time": "2022-01-27T18:01:33.823Z"
   },
   {
    "duration": 531,
    "start_time": "2022-01-27T18:01:34.027Z"
   },
   {
    "duration": 667,
    "start_time": "2022-01-27T18:01:34.559Z"
   },
   {
    "duration": 5,
    "start_time": "2022-01-27T18:01:35.228Z"
   },
   {
    "duration": 15,
    "start_time": "2022-01-27T18:01:35.235Z"
   },
   {
    "duration": 157,
    "start_time": "2022-01-27T18:01:35.251Z"
   },
   {
    "duration": 736,
    "start_time": "2022-01-27T18:01:35.498Z"
   },
   {
    "duration": 881,
    "start_time": "2022-01-27T18:01:36.236Z"
   },
   {
    "duration": 23,
    "start_time": "2022-01-27T18:01:37.119Z"
   },
   {
    "duration": 2802,
    "start_time": "2022-01-27T18:01:37.144Z"
   },
   {
    "duration": 134,
    "start_time": "2022-01-27T18:02:22.273Z"
   },
   {
    "duration": 1166,
    "start_time": "2022-01-27T18:02:29.688Z"
   },
   {
    "duration": 50,
    "start_time": "2022-01-27T18:02:30.856Z"
   },
   {
    "duration": 18,
    "start_time": "2022-01-27T18:02:30.908Z"
   },
   {
    "duration": 11,
    "start_time": "2022-01-27T18:02:30.928Z"
   },
   {
    "duration": 26,
    "start_time": "2022-01-27T18:02:30.940Z"
   },
   {
    "duration": 54,
    "start_time": "2022-01-27T18:02:30.968Z"
   },
   {
    "duration": 7,
    "start_time": "2022-01-27T18:02:31.024Z"
   },
   {
    "duration": 313,
    "start_time": "2022-01-27T18:02:31.034Z"
   },
   {
    "duration": 6,
    "start_time": "2022-01-27T18:02:31.350Z"
   },
   {
    "duration": 18,
    "start_time": "2022-01-27T18:02:31.358Z"
   },
   {
    "duration": 3,
    "start_time": "2022-01-27T18:02:31.378Z"
   },
   {
    "duration": 18,
    "start_time": "2022-01-27T18:02:31.383Z"
   },
   {
    "duration": 328,
    "start_time": "2022-01-27T18:02:31.403Z"
   },
   {
    "duration": 5,
    "start_time": "2022-01-27T18:02:31.733Z"
   },
   {
    "duration": 201,
    "start_time": "2022-01-27T18:02:31.739Z"
   },
   {
    "duration": 7,
    "start_time": "2022-01-27T18:02:31.941Z"
   },
   {
    "duration": 10,
    "start_time": "2022-01-27T18:02:31.950Z"
   },
   {
    "duration": 68,
    "start_time": "2022-01-27T18:02:31.962Z"
   },
   {
    "duration": 23,
    "start_time": "2022-01-27T18:02:32.032Z"
   },
   {
    "duration": 4,
    "start_time": "2022-01-27T18:02:32.056Z"
   },
   {
    "duration": 52,
    "start_time": "2022-01-27T18:02:32.062Z"
   },
   {
    "duration": 202,
    "start_time": "2022-01-27T18:02:32.115Z"
   },
   {
    "duration": 131,
    "start_time": "2022-01-27T18:02:32.320Z"
   },
   {
    "duration": 4,
    "start_time": "2022-01-27T18:02:32.453Z"
   },
   {
    "duration": 5,
    "start_time": "2022-01-27T18:02:32.459Z"
   },
   {
    "duration": 63,
    "start_time": "2022-01-27T18:02:32.466Z"
   },
   {
    "duration": 567,
    "start_time": "2022-01-27T18:02:32.531Z"
   },
   {
    "duration": 610,
    "start_time": "2022-01-27T18:02:33.101Z"
   },
   {
    "duration": 89,
    "start_time": "2022-01-27T18:02:33.714Z"
   },
   {
    "duration": 102,
    "start_time": "2022-01-27T18:02:33.805Z"
   },
   {
    "duration": 6,
    "start_time": "2022-01-27T18:02:33.909Z"
   },
   {
    "duration": 273,
    "start_time": "2022-01-27T18:02:33.917Z"
   },
   {
    "duration": 717,
    "start_time": "2022-01-27T18:02:34.192Z"
   },
   {
    "duration": 125,
    "start_time": "2022-01-27T18:02:35.001Z"
   },
   {
    "duration": 507,
    "start_time": "2022-01-27T18:02:35.128Z"
   },
   {
    "duration": 633,
    "start_time": "2022-01-27T18:02:35.637Z"
   },
   {
    "duration": 4,
    "start_time": "2022-01-27T18:02:36.272Z"
   },
   {
    "duration": 31,
    "start_time": "2022-01-27T18:02:36.278Z"
   },
   {
    "duration": 198,
    "start_time": "2022-01-27T18:02:36.311Z"
   },
   {
    "duration": 788,
    "start_time": "2022-01-27T18:02:36.511Z"
   },
   {
    "duration": 805,
    "start_time": "2022-01-27T18:02:37.302Z"
   },
   {
    "duration": 23,
    "start_time": "2022-01-27T18:02:38.109Z"
   },
   {
    "duration": 2646,
    "start_time": "2022-01-27T18:02:38.134Z"
   },
   {
    "duration": 295,
    "start_time": "2022-01-27T18:03:25.806Z"
   },
   {
    "duration": 1082,
    "start_time": "2022-01-27T18:03:34.950Z"
   },
   {
    "duration": 46,
    "start_time": "2022-01-27T18:03:36.034Z"
   },
   {
    "duration": 8,
    "start_time": "2022-01-27T18:03:36.082Z"
   },
   {
    "duration": 12,
    "start_time": "2022-01-27T18:03:36.092Z"
   },
   {
    "duration": 19,
    "start_time": "2022-01-27T18:03:36.105Z"
   },
   {
    "duration": 44,
    "start_time": "2022-01-27T18:03:36.125Z"
   },
   {
    "duration": 7,
    "start_time": "2022-01-27T18:03:36.170Z"
   },
   {
    "duration": 288,
    "start_time": "2022-01-27T18:03:36.178Z"
   },
   {
    "duration": 4,
    "start_time": "2022-01-27T18:03:36.469Z"
   },
   {
    "duration": 15,
    "start_time": "2022-01-27T18:03:36.476Z"
   },
   {
    "duration": 3,
    "start_time": "2022-01-27T18:03:36.498Z"
   },
   {
    "duration": 6,
    "start_time": "2022-01-27T18:03:36.503Z"
   },
   {
    "duration": 317,
    "start_time": "2022-01-27T18:03:36.511Z"
   },
   {
    "duration": 4,
    "start_time": "2022-01-27T18:03:36.829Z"
   },
   {
    "duration": 197,
    "start_time": "2022-01-27T18:03:36.835Z"
   },
   {
    "duration": 7,
    "start_time": "2022-01-27T18:03:37.033Z"
   },
   {
    "duration": 15,
    "start_time": "2022-01-27T18:03:37.041Z"
   },
   {
    "duration": 56,
    "start_time": "2022-01-27T18:03:37.057Z"
   },
   {
    "duration": 23,
    "start_time": "2022-01-27T18:03:37.115Z"
   },
   {
    "duration": 4,
    "start_time": "2022-01-27T18:03:37.140Z"
   },
   {
    "duration": 26,
    "start_time": "2022-01-27T18:03:37.145Z"
   },
   {
    "duration": 225,
    "start_time": "2022-01-27T18:03:37.173Z"
   },
   {
    "duration": 123,
    "start_time": "2022-01-27T18:03:37.400Z"
   },
   {
    "duration": 4,
    "start_time": "2022-01-27T18:03:37.524Z"
   },
   {
    "duration": 12,
    "start_time": "2022-01-27T18:03:37.529Z"
   },
   {
    "duration": 52,
    "start_time": "2022-01-27T18:03:37.543Z"
   },
   {
    "duration": 514,
    "start_time": "2022-01-27T18:03:37.599Z"
   },
   {
    "duration": 618,
    "start_time": "2022-01-27T18:03:38.198Z"
   },
   {
    "duration": 82,
    "start_time": "2022-01-27T18:03:38.818Z"
   },
   {
    "duration": 105,
    "start_time": "2022-01-27T18:03:38.902Z"
   },
   {
    "duration": 6,
    "start_time": "2022-01-27T18:03:39.010Z"
   },
   {
    "duration": 271,
    "start_time": "2022-01-27T18:03:39.017Z"
   },
   {
    "duration": 723,
    "start_time": "2022-01-27T18:03:39.289Z"
   },
   {
    "duration": 893,
    "start_time": "2022-01-27T18:03:40.015Z"
   },
   {
    "duration": 214,
    "start_time": "2022-01-27T18:03:40.910Z"
   },
   {
    "duration": 503,
    "start_time": "2022-01-27T18:03:41.126Z"
   },
   {
    "duration": 638,
    "start_time": "2022-01-27T18:03:41.631Z"
   },
   {
    "duration": 5,
    "start_time": "2022-01-27T18:03:42.271Z"
   },
   {
    "duration": 27,
    "start_time": "2022-01-27T18:03:42.279Z"
   },
   {
    "duration": 197,
    "start_time": "2022-01-27T18:03:42.308Z"
   },
   {
    "duration": 710,
    "start_time": "2022-01-27T18:03:42.507Z"
   },
   {
    "duration": 826,
    "start_time": "2022-01-27T18:03:43.219Z"
   },
   {
    "duration": 24,
    "start_time": "2022-01-27T18:03:44.047Z"
   },
   {
    "duration": 2613,
    "start_time": "2022-01-27T18:03:44.073Z"
   },
   {
    "duration": 503,
    "start_time": "2022-01-27T18:05:42.109Z"
   },
   {
    "duration": 1072,
    "start_time": "2022-01-27T18:05:53.970Z"
   },
   {
    "duration": 44,
    "start_time": "2022-01-27T18:05:55.043Z"
   },
   {
    "duration": 9,
    "start_time": "2022-01-27T18:05:55.089Z"
   },
   {
    "duration": 5,
    "start_time": "2022-01-27T18:05:55.100Z"
   },
   {
    "duration": 14,
    "start_time": "2022-01-27T18:05:55.107Z"
   },
   {
    "duration": 42,
    "start_time": "2022-01-27T18:05:55.123Z"
   },
   {
    "duration": 32,
    "start_time": "2022-01-27T18:05:55.167Z"
   },
   {
    "duration": 279,
    "start_time": "2022-01-27T18:05:55.201Z"
   },
   {
    "duration": 5,
    "start_time": "2022-01-27T18:05:55.483Z"
   },
   {
    "duration": 7,
    "start_time": "2022-01-27T18:05:55.500Z"
   },
   {
    "duration": 5,
    "start_time": "2022-01-27T18:05:55.508Z"
   },
   {
    "duration": 7,
    "start_time": "2022-01-27T18:05:55.514Z"
   },
   {
    "duration": 334,
    "start_time": "2022-01-27T18:05:55.522Z"
   },
   {
    "duration": 4,
    "start_time": "2022-01-27T18:05:55.858Z"
   },
   {
    "duration": 199,
    "start_time": "2022-01-27T18:05:55.864Z"
   },
   {
    "duration": 7,
    "start_time": "2022-01-27T18:05:56.064Z"
   },
   {
    "duration": 28,
    "start_time": "2022-01-27T18:05:56.073Z"
   },
   {
    "duration": 47,
    "start_time": "2022-01-27T18:05:56.103Z"
   },
   {
    "duration": 22,
    "start_time": "2022-01-27T18:05:56.153Z"
   },
   {
    "duration": 25,
    "start_time": "2022-01-27T18:05:56.177Z"
   },
   {
    "duration": 23,
    "start_time": "2022-01-27T18:05:56.203Z"
   },
   {
    "duration": 208,
    "start_time": "2022-01-27T18:05:56.228Z"
   },
   {
    "duration": 138,
    "start_time": "2022-01-27T18:05:56.438Z"
   },
   {
    "duration": 5,
    "start_time": "2022-01-27T18:05:56.578Z"
   },
   {
    "duration": 14,
    "start_time": "2022-01-27T18:05:56.585Z"
   },
   {
    "duration": 39,
    "start_time": "2022-01-27T18:05:56.600Z"
   },
   {
    "duration": 467,
    "start_time": "2022-01-27T18:05:56.642Z"
   },
   {
    "duration": 612,
    "start_time": "2022-01-27T18:05:57.198Z"
   },
   {
    "duration": 88,
    "start_time": "2022-01-27T18:05:57.813Z"
   },
   {
    "duration": 105,
    "start_time": "2022-01-27T18:05:57.903Z"
   },
   {
    "duration": 6,
    "start_time": "2022-01-27T18:05:58.010Z"
   },
   {
    "duration": 263,
    "start_time": "2022-01-27T18:05:58.018Z"
   },
   {
    "duration": 722,
    "start_time": "2022-01-27T18:05:58.283Z"
   },
   {
    "duration": 801,
    "start_time": "2022-01-27T18:05:59.008Z"
   },
   {
    "duration": 212,
    "start_time": "2022-01-27T18:05:59.812Z"
   },
   {
    "duration": 532,
    "start_time": "2022-01-27T18:06:00.026Z"
   },
   {
    "duration": 517,
    "start_time": "2022-01-27T18:06:00.560Z"
   },
   {
    "duration": 706,
    "start_time": "2022-01-27T18:06:01.079Z"
   },
   {
    "duration": 10,
    "start_time": "2022-01-27T18:06:01.788Z"
   },
   {
    "duration": 20,
    "start_time": "2022-01-27T18:06:01.801Z"
   },
   {
    "duration": 278,
    "start_time": "2022-01-27T18:06:01.822Z"
   },
   {
    "duration": 781,
    "start_time": "2022-01-27T18:06:02.102Z"
   },
   {
    "duration": 878,
    "start_time": "2022-01-27T18:06:02.884Z"
   },
   {
    "duration": 33,
    "start_time": "2022-01-27T18:06:03.765Z"
   },
   {
    "duration": 2634,
    "start_time": "2022-01-27T18:06:03.800Z"
   },
   {
    "duration": 1134,
    "start_time": "2022-01-27T18:07:39.390Z"
   },
   {
    "duration": 44,
    "start_time": "2022-01-27T18:07:40.526Z"
   },
   {
    "duration": 8,
    "start_time": "2022-01-27T18:07:40.574Z"
   },
   {
    "duration": 16,
    "start_time": "2022-01-27T18:07:40.583Z"
   },
   {
    "duration": 10,
    "start_time": "2022-01-27T18:07:40.601Z"
   },
   {
    "duration": 45,
    "start_time": "2022-01-27T18:07:40.612Z"
   },
   {
    "duration": 6,
    "start_time": "2022-01-27T18:07:40.660Z"
   },
   {
    "duration": 314,
    "start_time": "2022-01-27T18:07:40.668Z"
   },
   {
    "duration": 4,
    "start_time": "2022-01-27T18:07:40.984Z"
   },
   {
    "duration": 7,
    "start_time": "2022-01-27T18:07:40.999Z"
   },
   {
    "duration": 3,
    "start_time": "2022-01-27T18:07:41.007Z"
   },
   {
    "duration": 8,
    "start_time": "2022-01-27T18:07:41.012Z"
   },
   {
    "duration": 339,
    "start_time": "2022-01-27T18:07:41.022Z"
   },
   {
    "duration": 4,
    "start_time": "2022-01-27T18:07:41.363Z"
   },
   {
    "duration": 208,
    "start_time": "2022-01-27T18:07:41.368Z"
   },
   {
    "duration": 6,
    "start_time": "2022-01-27T18:07:41.578Z"
   },
   {
    "duration": 8,
    "start_time": "2022-01-27T18:07:41.599Z"
   },
   {
    "duration": 41,
    "start_time": "2022-01-27T18:07:41.609Z"
   },
   {
    "duration": 48,
    "start_time": "2022-01-27T18:07:41.651Z"
   },
   {
    "duration": 4,
    "start_time": "2022-01-27T18:07:41.701Z"
   },
   {
    "duration": 27,
    "start_time": "2022-01-27T18:07:41.706Z"
   },
   {
    "duration": 210,
    "start_time": "2022-01-27T18:07:41.736Z"
   },
   {
    "duration": 130,
    "start_time": "2022-01-27T18:07:41.948Z"
   },
   {
    "duration": 4,
    "start_time": "2022-01-27T18:07:42.079Z"
   },
   {
    "duration": 15,
    "start_time": "2022-01-27T18:07:42.084Z"
   },
   {
    "duration": 44,
    "start_time": "2022-01-27T18:07:42.101Z"
   },
   {
    "duration": 475,
    "start_time": "2022-01-27T18:07:42.146Z"
   },
   {
    "duration": 689,
    "start_time": "2022-01-27T18:07:42.623Z"
   },
   {
    "duration": 7,
    "start_time": "2022-01-27T18:07:43.397Z"
   },
   {
    "duration": 96,
    "start_time": "2022-01-27T18:07:43.406Z"
   },
   {
    "duration": 7,
    "start_time": "2022-01-27T18:07:43.504Z"
   },
   {
    "duration": 270,
    "start_time": "2022-01-27T18:07:43.512Z"
   },
   {
    "duration": 722,
    "start_time": "2022-01-27T18:07:43.784Z"
   },
   {
    "duration": 804,
    "start_time": "2022-01-27T18:07:44.508Z"
   },
   {
    "duration": 207,
    "start_time": "2022-01-27T18:07:45.314Z"
   },
   {
    "duration": 517,
    "start_time": "2022-01-27T18:07:45.523Z"
   },
   {
    "duration": 556,
    "start_time": "2022-01-27T18:07:46.042Z"
   },
   {
    "duration": 8,
    "start_time": "2022-01-27T18:07:46.600Z"
   },
   {
    "duration": 534,
    "start_time": "2022-01-27T18:07:46.610Z"
   },
   {
    "duration": 661,
    "start_time": "2022-01-27T18:07:47.146Z"
   },
   {
    "duration": 4,
    "start_time": "2022-01-27T18:07:47.808Z"
   },
   {
    "duration": 12,
    "start_time": "2022-01-27T18:07:47.814Z"
   },
   {
    "duration": 175,
    "start_time": "2022-01-27T18:07:47.828Z"
   },
   {
    "duration": 738,
    "start_time": "2022-01-27T18:07:48.006Z"
   },
   {
    "duration": 817,
    "start_time": "2022-01-27T18:07:48.746Z"
   },
   {
    "duration": 34,
    "start_time": "2022-01-27T18:07:49.564Z"
   },
   {
    "duration": 2635,
    "start_time": "2022-01-27T18:07:49.600Z"
   },
   {
    "duration": 677,
    "start_time": "2022-01-27T18:09:26.412Z"
   },
   {
    "duration": 689,
    "start_time": "2022-01-27T18:10:24.647Z"
   },
   {
    "duration": 1061,
    "start_time": "2022-01-27T18:10:38.189Z"
   },
   {
    "duration": 47,
    "start_time": "2022-01-27T18:10:39.252Z"
   },
   {
    "duration": 9,
    "start_time": "2022-01-27T18:10:39.301Z"
   },
   {
    "duration": 6,
    "start_time": "2022-01-27T18:10:39.312Z"
   },
   {
    "duration": 12,
    "start_time": "2022-01-27T18:10:39.320Z"
   },
   {
    "duration": 87,
    "start_time": "2022-01-27T18:10:39.334Z"
   },
   {
    "duration": 8,
    "start_time": "2022-01-27T18:10:39.423Z"
   },
   {
    "duration": 290,
    "start_time": "2022-01-27T18:10:39.433Z"
   },
   {
    "duration": 5,
    "start_time": "2022-01-27T18:10:39.726Z"
   },
   {
    "duration": 10,
    "start_time": "2022-01-27T18:10:39.733Z"
   },
   {
    "duration": 4,
    "start_time": "2022-01-27T18:10:39.745Z"
   },
   {
    "duration": 7,
    "start_time": "2022-01-27T18:10:39.751Z"
   },
   {
    "duration": 343,
    "start_time": "2022-01-27T18:10:39.760Z"
   },
   {
    "duration": 6,
    "start_time": "2022-01-27T18:10:40.104Z"
   },
   {
    "duration": 201,
    "start_time": "2022-01-27T18:10:40.112Z"
   },
   {
    "duration": 8,
    "start_time": "2022-01-27T18:10:40.315Z"
   },
   {
    "duration": 9,
    "start_time": "2022-01-27T18:10:40.325Z"
   },
   {
    "duration": 72,
    "start_time": "2022-01-27T18:10:40.337Z"
   },
   {
    "duration": 22,
    "start_time": "2022-01-27T18:10:40.411Z"
   },
   {
    "duration": 4,
    "start_time": "2022-01-27T18:10:40.436Z"
   },
   {
    "duration": 23,
    "start_time": "2022-01-27T18:10:40.442Z"
   },
   {
    "duration": 217,
    "start_time": "2022-01-27T18:10:40.467Z"
   },
   {
    "duration": 127,
    "start_time": "2022-01-27T18:10:40.686Z"
   },
   {
    "duration": 3,
    "start_time": "2022-01-27T18:10:40.815Z"
   },
   {
    "duration": 6,
    "start_time": "2022-01-27T18:10:40.820Z"
   },
   {
    "duration": 41,
    "start_time": "2022-01-27T18:10:40.827Z"
   },
   {
    "duration": 628,
    "start_time": "2022-01-27T18:10:40.871Z"
   },
   {
    "duration": 615,
    "start_time": "2022-01-27T18:10:41.503Z"
   },
   {
    "duration": 79,
    "start_time": "2022-01-27T18:10:42.120Z"
   },
   {
    "duration": 100,
    "start_time": "2022-01-27T18:10:42.202Z"
   },
   {
    "duration": 8,
    "start_time": "2022-01-27T18:10:42.304Z"
   },
   {
    "duration": 276,
    "start_time": "2022-01-27T18:10:42.314Z"
   },
   {
    "duration": 815,
    "start_time": "2022-01-27T18:10:42.592Z"
   },
   {
    "duration": 804,
    "start_time": "2022-01-27T18:10:43.499Z"
   },
   {
    "duration": 120,
    "start_time": "2022-01-27T18:10:44.305Z"
   },
   {
    "duration": 512,
    "start_time": "2022-01-27T18:10:44.427Z"
   },
   {
    "duration": 515,
    "start_time": "2022-01-27T18:10:44.940Z"
   },
   {
    "duration": 10,
    "start_time": "2022-01-27T18:10:45.457Z"
   },
   {
    "duration": 827,
    "start_time": "2022-01-27T18:10:45.469Z"
   },
   {
    "duration": 679,
    "start_time": "2022-01-27T18:10:46.299Z"
   },
   {
    "duration": 626,
    "start_time": "2022-01-27T18:10:46.980Z"
   },
   {
    "duration": 4,
    "start_time": "2022-01-27T18:10:47.607Z"
   },
   {
    "duration": 13,
    "start_time": "2022-01-27T18:10:47.613Z"
   },
   {
    "duration": 173,
    "start_time": "2022-01-27T18:10:47.628Z"
   },
   {
    "duration": 722,
    "start_time": "2022-01-27T18:10:47.803Z"
   },
   {
    "duration": 835,
    "start_time": "2022-01-27T18:10:48.527Z"
   },
   {
    "duration": 23,
    "start_time": "2022-01-27T18:10:49.364Z"
   },
   {
    "duration": 2571,
    "start_time": "2022-01-27T18:10:49.388Z"
   },
   {
    "duration": 19,
    "start_time": "2022-01-27T18:11:43.434Z"
   },
   {
    "duration": 1093,
    "start_time": "2022-01-27T18:11:49.960Z"
   },
   {
    "duration": 49,
    "start_time": "2022-01-27T18:11:51.055Z"
   },
   {
    "duration": 9,
    "start_time": "2022-01-27T18:11:51.106Z"
   },
   {
    "duration": 5,
    "start_time": "2022-01-27T18:11:51.117Z"
   },
   {
    "duration": 15,
    "start_time": "2022-01-27T18:11:51.124Z"
   },
   {
    "duration": 70,
    "start_time": "2022-01-27T18:11:51.141Z"
   },
   {
    "duration": 6,
    "start_time": "2022-01-27T18:11:51.213Z"
   },
   {
    "duration": 299,
    "start_time": "2022-01-27T18:11:51.222Z"
   },
   {
    "duration": 5,
    "start_time": "2022-01-27T18:11:51.523Z"
   },
   {
    "duration": 11,
    "start_time": "2022-01-27T18:11:51.529Z"
   },
   {
    "duration": 3,
    "start_time": "2022-01-27T18:11:51.541Z"
   },
   {
    "duration": 7,
    "start_time": "2022-01-27T18:11:51.545Z"
   },
   {
    "duration": 351,
    "start_time": "2022-01-27T18:11:51.554Z"
   },
   {
    "duration": 4,
    "start_time": "2022-01-27T18:11:51.907Z"
   },
   {
    "duration": 206,
    "start_time": "2022-01-27T18:11:51.913Z"
   },
   {
    "duration": 7,
    "start_time": "2022-01-27T18:11:52.120Z"
   },
   {
    "duration": 10,
    "start_time": "2022-01-27T18:11:52.129Z"
   },
   {
    "duration": 65,
    "start_time": "2022-01-27T18:11:52.141Z"
   },
   {
    "duration": 24,
    "start_time": "2022-01-27T18:11:52.208Z"
   },
   {
    "duration": 4,
    "start_time": "2022-01-27T18:11:52.233Z"
   },
   {
    "duration": 25,
    "start_time": "2022-01-27T18:11:52.239Z"
   },
   {
    "duration": 234,
    "start_time": "2022-01-27T18:11:52.265Z"
   },
   {
    "duration": 136,
    "start_time": "2022-01-27T18:11:52.502Z"
   },
   {
    "duration": 4,
    "start_time": "2022-01-27T18:11:52.640Z"
   },
   {
    "duration": 5,
    "start_time": "2022-01-27T18:11:52.646Z"
   },
   {
    "duration": 24,
    "start_time": "2022-01-27T18:11:52.653Z"
   },
   {
    "duration": 533,
    "start_time": "2022-01-27T18:11:52.679Z"
   },
   {
    "duration": 701,
    "start_time": "2022-01-27T18:11:53.299Z"
   },
   {
    "duration": 7,
    "start_time": "2022-01-27T18:11:54.003Z"
   },
   {
    "duration": 11,
    "start_time": "2022-01-27T18:11:54.099Z"
   },
   {
    "duration": 7,
    "start_time": "2022-01-27T18:11:54.112Z"
   },
   {
    "duration": 273,
    "start_time": "2022-01-27T18:11:54.121Z"
   },
   {
    "duration": 718,
    "start_time": "2022-01-27T18:11:54.395Z"
   },
   {
    "duration": 806,
    "start_time": "2022-01-27T18:11:55.200Z"
   },
   {
    "duration": 199,
    "start_time": "2022-01-27T18:11:56.008Z"
   },
   {
    "duration": 517,
    "start_time": "2022-01-27T18:11:56.209Z"
   },
   {
    "duration": 496,
    "start_time": "2022-01-27T18:11:56.728Z"
   },
   {
    "duration": 13,
    "start_time": "2022-01-27T18:11:57.226Z"
   },
   {
    "duration": 648,
    "start_time": "2022-01-27T18:11:57.241Z"
   },
   {
    "duration": 652,
    "start_time": "2022-01-27T18:11:57.891Z"
   },
   {
    "duration": 614,
    "start_time": "2022-01-27T18:11:58.545Z"
   },
   {
    "duration": 4,
    "start_time": "2022-01-27T18:11:59.161Z"
   },
   {
    "duration": 13,
    "start_time": "2022-01-27T18:11:59.167Z"
   },
   {
    "duration": 216,
    "start_time": "2022-01-27T18:11:59.182Z"
   },
   {
    "duration": 735,
    "start_time": "2022-01-27T18:11:59.401Z"
   },
   {
    "duration": 836,
    "start_time": "2022-01-27T18:12:00.138Z"
   },
   {
    "duration": 36,
    "start_time": "2022-01-27T18:12:00.976Z"
   },
   {
    "duration": 2859,
    "start_time": "2022-01-27T18:12:01.014Z"
   },
   {
    "duration": 12,
    "start_time": "2022-01-27T18:15:04.447Z"
   },
   {
    "duration": 853,
    "start_time": "2022-01-27T18:15:06.583Z"
   },
   {
    "duration": 901,
    "start_time": "2022-01-27T18:15:13.304Z"
   },
   {
    "duration": 29,
    "start_time": "2022-01-27T18:15:37.422Z"
   },
   {
    "duration": 3900,
    "start_time": "2022-01-27T18:15:39.454Z"
   },
   {
    "duration": 3936,
    "start_time": "2022-01-27T18:15:50.736Z"
   },
   {
    "duration": 10,
    "start_time": "2022-01-27T18:16:06.366Z"
   },
   {
    "duration": 549,
    "start_time": "2022-01-27T18:16:07.982Z"
   },
   {
    "duration": 563,
    "start_time": "2022-01-27T18:16:21.870Z"
   },
   {
    "duration": 10,
    "start_time": "2022-01-27T18:16:34.701Z"
   },
   {
    "duration": 584,
    "start_time": "2022-01-27T18:16:36.557Z"
   },
   {
    "duration": 9,
    "start_time": "2022-01-27T18:16:50.053Z"
   },
   {
    "duration": 652,
    "start_time": "2022-01-27T18:16:51.677Z"
   },
   {
    "duration": 606,
    "start_time": "2022-01-27T18:17:06.748Z"
   },
   {
    "duration": 9,
    "start_time": "2022-01-27T18:17:14.205Z"
   },
   {
    "duration": 626,
    "start_time": "2022-01-27T18:17:15.900Z"
   },
   {
    "duration": 9,
    "start_time": "2022-01-27T18:17:25.405Z"
   },
   {
    "duration": 664,
    "start_time": "2022-01-27T18:17:28.900Z"
   },
   {
    "duration": 1934,
    "start_time": "2022-01-27T18:18:37.811Z"
   },
   {
    "duration": 47542,
    "start_time": "2022-01-27T18:18:58.458Z"
   },
   {
    "duration": 45811,
    "start_time": "2022-01-27T18:21:04.745Z"
   },
   {
    "duration": 66400,
    "start_time": "2022-01-27T18:26:08.180Z"
   },
   {
    "duration": 68169,
    "start_time": "2022-01-27T18:28:42.609Z"
   },
   {
    "duration": 5422,
    "start_time": "2022-01-27T18:33:21.941Z"
   },
   {
    "duration": 488,
    "start_time": "2022-01-27T18:33:34.388Z"
   },
   {
    "duration": 25286,
    "start_time": "2022-01-27T18:34:21.739Z"
   },
   {
    "duration": 38919,
    "start_time": "2022-01-27T18:35:00.533Z"
   },
   {
    "duration": 49125,
    "start_time": "2022-01-27T18:35:58.114Z"
   },
   {
    "duration": 48424,
    "start_time": "2022-01-27T18:36:56.721Z"
   },
   {
    "duration": 586,
    "start_time": "2022-01-27T18:39:08.287Z"
   },
   {
    "duration": 171,
    "start_time": "2022-01-27T18:40:09.631Z"
   },
   {
    "duration": 486,
    "start_time": "2022-01-27T18:40:50.318Z"
   },
   {
    "duration": 1284,
    "start_time": "2022-01-27T18:41:17.341Z"
   },
   {
    "duration": 1312,
    "start_time": "2022-01-27T18:41:40.157Z"
   },
   {
    "duration": 1208,
    "start_time": "2022-01-27T18:42:09.044Z"
   },
   {
    "duration": 666,
    "start_time": "2022-01-27T18:42:37.307Z"
   },
   {
    "duration": 1061,
    "start_time": "2022-01-27T18:42:56.131Z"
   },
   {
    "duration": 1304,
    "start_time": "2022-01-27T18:43:40.003Z"
   },
   {
    "duration": 1117,
    "start_time": "2022-01-27T18:44:13.986Z"
   },
   {
    "duration": 835,
    "start_time": "2022-01-27T18:44:48.918Z"
   },
   {
    "duration": 1023,
    "start_time": "2022-01-27T18:44:58.906Z"
   },
   {
    "duration": 1100,
    "start_time": "2022-01-27T18:45:12.617Z"
   },
   {
    "duration": 1183,
    "start_time": "2022-01-27T18:45:25.944Z"
   },
   {
    "duration": 1137,
    "start_time": "2022-01-27T18:45:32.489Z"
   },
   {
    "duration": 1127,
    "start_time": "2022-01-27T18:45:45.272Z"
   },
   {
    "duration": 1100,
    "start_time": "2022-01-27T18:46:03.425Z"
   },
   {
    "duration": 278,
    "start_time": "2022-01-27T18:47:01.311Z"
   },
   {
    "duration": 571,
    "start_time": "2022-01-27T18:47:08.247Z"
   },
   {
    "duration": 949,
    "start_time": "2022-01-27T18:47:42.062Z"
   },
   {
    "duration": 676,
    "start_time": "2022-01-27T18:47:51.878Z"
   },
   {
    "duration": 1345,
    "start_time": "2022-01-27T18:47:58.958Z"
   },
   {
    "duration": 1199,
    "start_time": "2022-01-27T18:48:08.590Z"
   },
   {
    "duration": 486,
    "start_time": "2022-01-27T18:49:20.326Z"
   },
   {
    "duration": 486,
    "start_time": "2022-01-27T18:49:42.925Z"
   },
   {
    "duration": 452,
    "start_time": "2022-01-27T18:50:41.715Z"
   },
   {
    "duration": 713,
    "start_time": "2022-01-27T18:50:49.443Z"
   },
   {
    "duration": 641,
    "start_time": "2022-01-27T18:51:28.971Z"
   },
   {
    "duration": 811,
    "start_time": "2022-01-27T18:51:48.283Z"
   },
   {
    "duration": 893,
    "start_time": "2022-01-27T18:52:14.026Z"
   },
   {
    "duration": 758,
    "start_time": "2022-01-27T18:52:32.018Z"
   },
   {
    "duration": 799,
    "start_time": "2022-01-27T18:52:46.161Z"
   },
   {
    "duration": 821,
    "start_time": "2022-01-27T18:53:01.162Z"
   },
   {
    "duration": 835,
    "start_time": "2022-01-27T18:53:26.561Z"
   },
   {
    "duration": 1423,
    "start_time": "2022-01-27T18:56:12.687Z"
   },
   {
    "duration": 853,
    "start_time": "2022-01-27T18:56:50.901Z"
   },
   {
    "duration": 1033,
    "start_time": "2022-01-27T18:57:30.549Z"
   },
   {
    "duration": 511,
    "start_time": "2022-01-27T18:58:03.869Z"
   },
   {
    "duration": 1134,
    "start_time": "2022-01-27T19:57:59.989Z"
   },
   {
    "duration": 45,
    "start_time": "2022-01-27T19:58:01.125Z"
   },
   {
    "duration": 9,
    "start_time": "2022-01-27T19:58:01.172Z"
   },
   {
    "duration": 17,
    "start_time": "2022-01-27T19:58:01.183Z"
   },
   {
    "duration": 13,
    "start_time": "2022-01-27T19:58:01.201Z"
   },
   {
    "duration": 43,
    "start_time": "2022-01-27T19:58:01.216Z"
   },
   {
    "duration": 8,
    "start_time": "2022-01-27T19:58:01.261Z"
   },
   {
    "duration": 314,
    "start_time": "2022-01-27T19:58:01.274Z"
   },
   {
    "duration": 8,
    "start_time": "2022-01-27T19:58:01.590Z"
   },
   {
    "duration": 8,
    "start_time": "2022-01-27T19:58:01.600Z"
   },
   {
    "duration": 3,
    "start_time": "2022-01-27T19:58:01.610Z"
   },
   {
    "duration": 13,
    "start_time": "2022-01-27T19:58:01.614Z"
   },
   {
    "duration": 321,
    "start_time": "2022-01-27T19:58:01.629Z"
   },
   {
    "duration": 5,
    "start_time": "2022-01-27T19:58:01.952Z"
   },
   {
    "duration": 205,
    "start_time": "2022-01-27T19:58:01.959Z"
   },
   {
    "duration": 8,
    "start_time": "2022-01-27T19:58:02.165Z"
   },
   {
    "duration": 23,
    "start_time": "2022-01-27T19:58:02.175Z"
   },
   {
    "duration": 42,
    "start_time": "2022-01-27T19:58:02.200Z"
   },
   {
    "duration": 24,
    "start_time": "2022-01-27T19:58:02.244Z"
   },
   {
    "duration": 30,
    "start_time": "2022-01-27T19:58:02.270Z"
   },
   {
    "duration": 23,
    "start_time": "2022-01-27T19:58:02.302Z"
   },
   {
    "duration": 222,
    "start_time": "2022-01-27T19:58:02.327Z"
   },
   {
    "duration": 132,
    "start_time": "2022-01-27T19:58:02.553Z"
   },
   {
    "duration": 3,
    "start_time": "2022-01-27T19:58:02.688Z"
   },
   {
    "duration": 11,
    "start_time": "2022-01-27T19:58:02.693Z"
   },
   {
    "duration": 22,
    "start_time": "2022-01-27T19:58:02.705Z"
   },
   {
    "duration": 486,
    "start_time": "2022-01-27T19:58:02.729Z"
   },
   {
    "duration": 614,
    "start_time": "2022-01-27T19:58:03.298Z"
   },
   {
    "duration": 90,
    "start_time": "2022-01-27T19:58:03.915Z"
   },
   {
    "duration": 107,
    "start_time": "2022-01-27T19:58:04.009Z"
   },
   {
    "duration": 10,
    "start_time": "2022-01-27T19:58:04.118Z"
   },
   {
    "duration": 262,
    "start_time": "2022-01-27T19:58:04.130Z"
   },
   {
    "duration": 720,
    "start_time": "2022-01-27T19:58:04.394Z"
   },
   {
    "duration": 818,
    "start_time": "2022-01-27T19:58:05.198Z"
   },
   {
    "duration": 206,
    "start_time": "2022-01-27T19:58:06.018Z"
   },
   {
    "duration": 1297,
    "start_time": "2022-01-27T19:58:06.226Z"
   },
   {
    "duration": 497,
    "start_time": "2022-01-27T19:58:07.525Z"
   },
   {
    "duration": 506,
    "start_time": "2022-01-27T19:58:08.024Z"
   },
   {
    "duration": 9,
    "start_time": "2022-01-27T19:58:08.532Z"
   },
   {
    "duration": 639,
    "start_time": "2022-01-27T19:58:08.542Z"
   },
   {
    "duration": 656,
    "start_time": "2022-01-27T19:58:09.183Z"
   },
   {
    "duration": 46679,
    "start_time": "2022-01-27T19:58:09.840Z"
   },
   {
    "duration": 45112,
    "start_time": "2022-01-27T19:58:56.521Z"
   },
   {
    "duration": 66916,
    "start_time": "2022-01-27T19:59:41.635Z"
   },
   {
    "duration": 67120,
    "start_time": "2022-01-27T20:00:48.553Z"
   },
   {
    "duration": 5,
    "start_time": "2022-01-27T20:01:55.676Z"
   },
   {
    "duration": 22,
    "start_time": "2022-01-27T20:01:55.683Z"
   },
   {
    "duration": 191,
    "start_time": "2022-01-27T20:01:55.707Z"
   },
   {
    "duration": 736,
    "start_time": "2022-01-27T20:01:55.901Z"
   },
   {
    "duration": 832,
    "start_time": "2022-01-27T20:01:56.639Z"
   },
   {
    "duration": 46110,
    "start_time": "2022-01-27T20:01:57.473Z"
   },
   {
    "duration": 24,
    "start_time": "2022-01-27T20:02:43.585Z"
   },
   {
    "duration": 2570,
    "start_time": "2022-01-27T20:02:43.611Z"
   },
   {
    "duration": 351,
    "start_time": "2022-01-27T20:27:11.532Z"
   },
   {
    "duration": 1051,
    "start_time": "2022-01-27T20:27:20.543Z"
   },
   {
    "duration": 46,
    "start_time": "2022-01-27T20:27:21.596Z"
   },
   {
    "duration": 10,
    "start_time": "2022-01-27T20:27:21.649Z"
   },
   {
    "duration": 6,
    "start_time": "2022-01-27T20:27:21.661Z"
   },
   {
    "duration": 37,
    "start_time": "2022-01-27T20:27:21.669Z"
   },
   {
    "duration": 43,
    "start_time": "2022-01-27T20:27:21.708Z"
   },
   {
    "duration": 6,
    "start_time": "2022-01-27T20:27:21.753Z"
   },
   {
    "duration": 300,
    "start_time": "2022-01-27T20:27:21.761Z"
   },
   {
    "duration": 5,
    "start_time": "2022-01-27T20:27:22.063Z"
   },
   {
    "duration": 10,
    "start_time": "2022-01-27T20:27:22.070Z"
   },
   {
    "duration": 3,
    "start_time": "2022-01-27T20:27:22.098Z"
   },
   {
    "duration": 7,
    "start_time": "2022-01-27T20:27:22.103Z"
   },
   {
    "duration": 321,
    "start_time": "2022-01-27T20:27:22.112Z"
   },
   {
    "duration": 5,
    "start_time": "2022-01-27T20:27:22.435Z"
   },
   {
    "duration": 200,
    "start_time": "2022-01-27T20:27:22.442Z"
   },
   {
    "duration": 6,
    "start_time": "2022-01-27T20:27:22.644Z"
   },
   {
    "duration": 9,
    "start_time": "2022-01-27T20:27:22.652Z"
   },
   {
    "duration": 64,
    "start_time": "2022-01-27T20:27:22.662Z"
   },
   {
    "duration": 24,
    "start_time": "2022-01-27T20:27:22.728Z"
   },
   {
    "duration": 5,
    "start_time": "2022-01-27T20:27:22.753Z"
   },
   {
    "duration": 42,
    "start_time": "2022-01-27T20:27:22.759Z"
   },
   {
    "duration": 202,
    "start_time": "2022-01-27T20:27:22.805Z"
   },
   {
    "duration": 129,
    "start_time": "2022-01-27T20:27:23.010Z"
   },
   {
    "duration": 4,
    "start_time": "2022-01-27T20:27:23.140Z"
   },
   {
    "duration": 19,
    "start_time": "2022-01-27T20:27:23.146Z"
   },
   {
    "duration": 34,
    "start_time": "2022-01-27T20:27:23.167Z"
   },
   {
    "duration": 19,
    "start_time": "2022-01-27T20:27:23.203Z"
   },
   {
    "duration": 489,
    "start_time": "2022-01-27T20:27:23.223Z"
   },
   {
    "duration": 686,
    "start_time": "2022-01-27T20:27:23.714Z"
   },
   {
    "duration": 6,
    "start_time": "2022-01-27T20:27:24.402Z"
   },
   {
    "duration": 94,
    "start_time": "2022-01-27T20:27:24.410Z"
   },
   {
    "duration": 7,
    "start_time": "2022-01-27T20:27:24.505Z"
   },
   {
    "duration": 284,
    "start_time": "2022-01-27T20:27:24.514Z"
   },
   {
    "duration": 706,
    "start_time": "2022-01-27T20:27:24.800Z"
   },
   {
    "duration": 803,
    "start_time": "2022-01-27T20:27:25.508Z"
   },
   {
    "duration": 204,
    "start_time": "2022-01-27T20:27:26.313Z"
   },
   {
    "duration": 1325,
    "start_time": "2022-01-27T20:27:26.519Z"
   },
   {
    "duration": 490,
    "start_time": "2022-01-27T20:27:27.845Z"
   },
   {
    "duration": 489,
    "start_time": "2022-01-27T20:27:28.336Z"
   },
   {
    "duration": 9,
    "start_time": "2022-01-27T20:27:28.826Z"
   },
   {
    "duration": 638,
    "start_time": "2022-01-27T20:27:28.837Z"
   },
   {
    "duration": 654,
    "start_time": "2022-01-27T20:27:29.477Z"
   },
   {
    "duration": 46616,
    "start_time": "2022-01-27T20:27:30.132Z"
   },
   {
    "duration": 43734,
    "start_time": "2022-01-27T20:28:16.749Z"
   },
   {
    "duration": 65207,
    "start_time": "2022-01-27T20:29:00.485Z"
   },
   {
    "duration": 997,
    "start_time": "2022-01-27T20:30:54.148Z"
   },
   {
    "duration": 43,
    "start_time": "2022-01-27T20:30:55.147Z"
   },
   {
    "duration": 9,
    "start_time": "2022-01-27T20:30:55.192Z"
   },
   {
    "duration": 4,
    "start_time": "2022-01-27T20:30:55.203Z"
   },
   {
    "duration": 12,
    "start_time": "2022-01-27T20:30:55.209Z"
   },
   {
    "duration": 45,
    "start_time": "2022-01-27T20:30:55.223Z"
   },
   {
    "duration": 29,
    "start_time": "2022-01-27T20:30:55.270Z"
   },
   {
    "duration": 268,
    "start_time": "2022-01-27T20:30:55.301Z"
   },
   {
    "duration": 5,
    "start_time": "2022-01-27T20:30:55.572Z"
   },
   {
    "duration": 21,
    "start_time": "2022-01-27T20:30:55.578Z"
   },
   {
    "duration": 3,
    "start_time": "2022-01-27T20:30:55.600Z"
   },
   {
    "duration": 7,
    "start_time": "2022-01-27T20:30:55.604Z"
   },
   {
    "duration": 304,
    "start_time": "2022-01-27T20:30:55.613Z"
   },
   {
    "duration": 6,
    "start_time": "2022-01-27T20:30:55.918Z"
   },
   {
    "duration": 205,
    "start_time": "2022-01-27T20:30:55.925Z"
   },
   {
    "duration": 6,
    "start_time": "2022-01-27T20:30:56.132Z"
   },
   {
    "duration": 10,
    "start_time": "2022-01-27T20:30:56.140Z"
   },
   {
    "duration": 62,
    "start_time": "2022-01-27T20:30:56.152Z"
   },
   {
    "duration": 21,
    "start_time": "2022-01-27T20:30:56.216Z"
   },
   {
    "duration": 4,
    "start_time": "2022-01-27T20:30:56.239Z"
   },
   {
    "duration": 24,
    "start_time": "2022-01-27T20:30:56.245Z"
   },
   {
    "duration": 223,
    "start_time": "2022-01-27T20:30:56.271Z"
   },
   {
    "duration": 129,
    "start_time": "2022-01-27T20:30:56.498Z"
   },
   {
    "duration": 3,
    "start_time": "2022-01-27T20:30:56.630Z"
   },
   {
    "duration": 5,
    "start_time": "2022-01-27T20:30:56.635Z"
   },
   {
    "duration": 18,
    "start_time": "2022-01-27T20:30:56.641Z"
   },
   {
    "duration": 40,
    "start_time": "2022-01-27T20:30:56.662Z"
   },
   {
    "duration": 506,
    "start_time": "2022-01-27T20:30:56.704Z"
   },
   {
    "duration": 687,
    "start_time": "2022-01-27T20:30:57.213Z"
   },
   {
    "duration": 95,
    "start_time": "2022-01-27T20:30:57.903Z"
   },
   {
    "duration": 9,
    "start_time": "2022-01-27T20:30:58.001Z"
   },
   {
    "duration": 7,
    "start_time": "2022-01-27T20:30:58.012Z"
   },
   {
    "duration": 266,
    "start_time": "2022-01-27T20:30:58.021Z"
   },
   {
    "duration": 710,
    "start_time": "2022-01-27T20:30:58.288Z"
   },
   {
    "duration": 712,
    "start_time": "2022-01-27T20:30:59.001Z"
   },
   {
    "duration": 199,
    "start_time": "2022-01-27T20:30:59.716Z"
   },
   {
    "duration": 1315,
    "start_time": "2022-01-27T20:30:59.917Z"
   },
   {
    "duration": 526,
    "start_time": "2022-01-27T20:31:01.233Z"
   },
   {
    "duration": 527,
    "start_time": "2022-01-27T20:31:01.760Z"
   },
   {
    "duration": 17,
    "start_time": "2022-01-27T20:31:02.288Z"
   },
   {
    "duration": 638,
    "start_time": "2022-01-27T20:31:02.307Z"
   },
   {
    "duration": 682,
    "start_time": "2022-01-27T20:31:02.947Z"
   },
   {
    "duration": 46800,
    "start_time": "2022-01-27T20:31:03.631Z"
   },
   {
    "duration": 44465,
    "start_time": "2022-01-27T20:31:50.433Z"
   },
   {
    "duration": 1022,
    "start_time": "2022-01-27T20:32:54.115Z"
   },
   {
    "duration": 45,
    "start_time": "2022-01-27T20:32:55.139Z"
   },
   {
    "duration": 9,
    "start_time": "2022-01-27T20:32:55.187Z"
   },
   {
    "duration": 25,
    "start_time": "2022-01-27T20:32:55.199Z"
   },
   {
    "duration": 37,
    "start_time": "2022-01-27T20:32:55.226Z"
   },
   {
    "duration": 45,
    "start_time": "2022-01-27T20:32:55.265Z"
   },
   {
    "duration": 7,
    "start_time": "2022-01-27T20:32:55.312Z"
   },
   {
    "duration": 258,
    "start_time": "2022-01-27T20:32:55.323Z"
   },
   {
    "duration": 4,
    "start_time": "2022-01-27T20:32:55.583Z"
   },
   {
    "duration": 33,
    "start_time": "2022-01-27T20:32:55.598Z"
   },
   {
    "duration": 23,
    "start_time": "2022-01-27T20:32:55.632Z"
   },
   {
    "duration": 22,
    "start_time": "2022-01-27T20:32:55.657Z"
   },
   {
    "duration": 321,
    "start_time": "2022-01-27T20:32:55.681Z"
   },
   {
    "duration": 5,
    "start_time": "2022-01-27T20:32:56.004Z"
   },
   {
    "duration": 204,
    "start_time": "2022-01-27T20:32:56.011Z"
   },
   {
    "duration": 6,
    "start_time": "2022-01-27T20:32:56.217Z"
   },
   {
    "duration": 29,
    "start_time": "2022-01-27T20:32:56.225Z"
   },
   {
    "duration": 56,
    "start_time": "2022-01-27T20:32:56.256Z"
   },
   {
    "duration": 19,
    "start_time": "2022-01-27T20:32:56.314Z"
   },
   {
    "duration": 5,
    "start_time": "2022-01-27T20:32:56.335Z"
   },
   {
    "duration": 34,
    "start_time": "2022-01-27T20:32:56.342Z"
   },
   {
    "duration": 199,
    "start_time": "2022-01-27T20:32:56.378Z"
   },
   {
    "duration": 127,
    "start_time": "2022-01-27T20:32:56.581Z"
   },
   {
    "duration": 4,
    "start_time": "2022-01-27T20:32:56.710Z"
   },
   {
    "duration": 26,
    "start_time": "2022-01-27T20:32:56.715Z"
   },
   {
    "duration": 35,
    "start_time": "2022-01-27T20:32:56.742Z"
   },
   {
    "duration": 527,
    "start_time": "2022-01-27T20:32:56.779Z"
   },
   {
    "duration": 700,
    "start_time": "2022-01-27T20:32:57.309Z"
   },
   {
    "duration": 89,
    "start_time": "2022-01-27T20:32:58.011Z"
   },
   {
    "duration": 117,
    "start_time": "2022-01-27T20:32:58.107Z"
   },
   {
    "duration": 18,
    "start_time": "2022-01-27T20:32:58.225Z"
   },
   {
    "duration": 268,
    "start_time": "2022-01-27T20:32:58.245Z"
   },
   {
    "duration": 694,
    "start_time": "2022-01-27T20:32:58.514Z"
   },
   {
    "duration": 899,
    "start_time": "2022-01-27T20:32:59.210Z"
   },
   {
    "duration": 223,
    "start_time": "2022-01-27T20:33:00.111Z"
   },
   {
    "duration": 1369,
    "start_time": "2022-01-27T20:33:00.336Z"
   },
   {
    "duration": 518,
    "start_time": "2022-01-27T20:33:01.707Z"
   },
   {
    "duration": 526,
    "start_time": "2022-01-27T20:33:02.226Z"
   },
   {
    "duration": 9,
    "start_time": "2022-01-27T20:33:02.753Z"
   },
   {
    "duration": 652,
    "start_time": "2022-01-27T20:33:02.764Z"
   },
   {
    "duration": 685,
    "start_time": "2022-01-27T20:33:03.417Z"
   },
   {
    "duration": 47094,
    "start_time": "2022-01-27T20:33:04.104Z"
   },
   {
    "duration": 44403,
    "start_time": "2022-01-27T20:33:51.200Z"
   },
   {
    "duration": 64496,
    "start_time": "2022-01-27T20:34:35.605Z"
   },
   {
    "duration": 65203,
    "start_time": "2022-01-27T20:35:40.102Z"
   },
   {
    "duration": 4,
    "start_time": "2022-01-27T20:36:45.306Z"
   },
   {
    "duration": 12,
    "start_time": "2022-01-27T20:36:45.312Z"
   },
   {
    "duration": 172,
    "start_time": "2022-01-27T20:36:45.326Z"
   },
   {
    "duration": 697,
    "start_time": "2022-01-27T20:36:45.501Z"
   },
   {
    "duration": 815,
    "start_time": "2022-01-27T20:36:46.200Z"
   },
   {
    "duration": 44177,
    "start_time": "2022-01-27T20:36:47.016Z"
   },
   {
    "duration": 24,
    "start_time": "2022-01-27T20:37:31.199Z"
   },
   {
    "duration": 2557,
    "start_time": "2022-01-27T20:37:31.225Z"
   },
   {
    "duration": 381,
    "start_time": "2022-01-27T20:38:56.611Z"
   },
   {
    "duration": 47,
    "start_time": "2022-01-27T20:39:02.273Z"
   },
   {
    "duration": 1038,
    "start_time": "2022-01-27T20:39:09.557Z"
   },
   {
    "duration": 43,
    "start_time": "2022-01-27T20:39:10.599Z"
   },
   {
    "duration": 8,
    "start_time": "2022-01-27T20:39:10.644Z"
   },
   {
    "duration": 4,
    "start_time": "2022-01-27T20:39:10.653Z"
   },
   {
    "duration": 14,
    "start_time": "2022-01-27T20:39:10.659Z"
   },
   {
    "duration": 54,
    "start_time": "2022-01-27T20:39:10.675Z"
   },
   {
    "duration": 6,
    "start_time": "2022-01-27T20:39:10.731Z"
   },
   {
    "duration": 284,
    "start_time": "2022-01-27T20:39:10.739Z"
   },
   {
    "duration": 5,
    "start_time": "2022-01-27T20:39:11.027Z"
   },
   {
    "duration": 12,
    "start_time": "2022-01-27T20:39:11.034Z"
   },
   {
    "duration": 3,
    "start_time": "2022-01-27T20:39:11.049Z"
   },
   {
    "duration": 7,
    "start_time": "2022-01-27T20:39:11.054Z"
   },
   {
    "duration": 346,
    "start_time": "2022-01-27T20:39:11.063Z"
   },
   {
    "duration": 4,
    "start_time": "2022-01-27T20:39:11.411Z"
   },
   {
    "duration": 206,
    "start_time": "2022-01-27T20:39:11.417Z"
   },
   {
    "duration": 7,
    "start_time": "2022-01-27T20:39:11.624Z"
   },
   {
    "duration": 13,
    "start_time": "2022-01-27T20:39:11.633Z"
   },
   {
    "duration": 64,
    "start_time": "2022-01-27T20:39:11.647Z"
   },
   {
    "duration": 25,
    "start_time": "2022-01-27T20:39:11.713Z"
   },
   {
    "duration": 5,
    "start_time": "2022-01-27T20:39:11.739Z"
   },
   {
    "duration": 24,
    "start_time": "2022-01-27T20:39:11.746Z"
   },
   {
    "duration": 235,
    "start_time": "2022-01-27T20:39:11.772Z"
   },
   {
    "duration": 134,
    "start_time": "2022-01-27T20:39:12.008Z"
   },
   {
    "duration": 4,
    "start_time": "2022-01-27T20:39:12.143Z"
   },
   {
    "duration": 6,
    "start_time": "2022-01-27T20:39:12.149Z"
   },
   {
    "duration": 44,
    "start_time": "2022-01-27T20:39:12.157Z"
   },
   {
    "duration": 595,
    "start_time": "2022-01-27T20:39:12.205Z"
   },
   {
    "duration": 609,
    "start_time": "2022-01-27T20:39:12.804Z"
   },
   {
    "duration": 88,
    "start_time": "2022-01-27T20:39:13.415Z"
   },
   {
    "duration": 107,
    "start_time": "2022-01-27T20:39:13.506Z"
   },
   {
    "duration": 8,
    "start_time": "2022-01-27T20:39:13.614Z"
   },
   {
    "duration": 264,
    "start_time": "2022-01-27T20:39:13.623Z"
   },
   {
    "duration": 725,
    "start_time": "2022-01-27T20:39:13.888Z"
   },
   {
    "duration": 983,
    "start_time": "2022-01-27T20:39:14.615Z"
   },
   {
    "duration": 133,
    "start_time": "2022-01-27T20:39:15.601Z"
   },
   {
    "duration": 1323,
    "start_time": "2022-01-27T20:39:15.736Z"
   },
   {
    "duration": 512,
    "start_time": "2022-01-27T20:39:17.061Z"
   },
   {
    "duration": 525,
    "start_time": "2022-01-27T20:39:17.575Z"
   },
   {
    "duration": 13,
    "start_time": "2022-01-27T20:39:18.102Z"
   },
   {
    "duration": 639,
    "start_time": "2022-01-27T20:39:18.118Z"
   },
   {
    "duration": 666,
    "start_time": "2022-01-27T20:39:18.759Z"
   },
   {
    "duration": 47230,
    "start_time": "2022-01-27T20:39:19.427Z"
   },
   {
    "duration": 45378,
    "start_time": "2022-01-27T20:40:06.658Z"
   },
   {
    "duration": 67586,
    "start_time": "2022-01-27T20:40:52.038Z"
   },
   {
    "duration": 66278,
    "start_time": "2022-01-27T20:41:59.626Z"
   },
   {
    "duration": 4,
    "start_time": "2022-01-27T20:43:05.906Z"
   },
   {
    "duration": 13,
    "start_time": "2022-01-27T20:43:05.912Z"
   },
   {
    "duration": 90,
    "start_time": "2022-01-27T20:43:05.926Z"
   },
   {
    "duration": 724,
    "start_time": "2022-01-27T20:43:06.100Z"
   },
   {
    "duration": 859,
    "start_time": "2022-01-27T20:43:06.826Z"
   },
   {
    "duration": 46017,
    "start_time": "2022-01-27T20:43:07.686Z"
   },
   {
    "duration": 26,
    "start_time": "2022-01-27T20:43:53.705Z"
   },
   {
    "duration": 2545,
    "start_time": "2022-01-27T20:43:53.732Z"
   },
   {
    "duration": 356,
    "start_time": "2022-01-27T20:46:49.136Z"
   },
   {
    "duration": 1010,
    "start_time": "2022-01-27T20:46:57.326Z"
   },
   {
    "duration": 45,
    "start_time": "2022-01-27T20:46:58.338Z"
   },
   {
    "duration": 8,
    "start_time": "2022-01-27T20:46:58.385Z"
   },
   {
    "duration": 5,
    "start_time": "2022-01-27T20:46:58.395Z"
   },
   {
    "duration": 12,
    "start_time": "2022-01-27T20:46:58.402Z"
   },
   {
    "duration": 44,
    "start_time": "2022-01-27T20:46:58.416Z"
   },
   {
    "duration": 7,
    "start_time": "2022-01-27T20:46:58.461Z"
   },
   {
    "duration": 285,
    "start_time": "2022-01-27T20:46:58.469Z"
   },
   {
    "duration": 4,
    "start_time": "2022-01-27T20:46:58.756Z"
   },
   {
    "duration": 9,
    "start_time": "2022-01-27T20:46:58.762Z"
   },
   {
    "duration": 5,
    "start_time": "2022-01-27T20:46:58.773Z"
   },
   {
    "duration": 10,
    "start_time": "2022-01-27T20:46:58.799Z"
   },
   {
    "duration": 304,
    "start_time": "2022-01-27T20:46:58.811Z"
   },
   {
    "duration": 4,
    "start_time": "2022-01-27T20:46:59.117Z"
   },
   {
    "duration": 195,
    "start_time": "2022-01-27T20:46:59.123Z"
   },
   {
    "duration": 6,
    "start_time": "2022-01-27T20:46:59.320Z"
   },
   {
    "duration": 7,
    "start_time": "2022-01-27T20:46:59.328Z"
   },
   {
    "duration": 71,
    "start_time": "2022-01-27T20:46:59.337Z"
   },
   {
    "duration": 22,
    "start_time": "2022-01-27T20:46:59.410Z"
   },
   {
    "duration": 4,
    "start_time": "2022-01-27T20:46:59.434Z"
   },
   {
    "duration": 24,
    "start_time": "2022-01-27T20:46:59.439Z"
   },
   {
    "duration": 227,
    "start_time": "2022-01-27T20:46:59.464Z"
   },
   {
    "duration": 128,
    "start_time": "2022-01-27T20:46:59.692Z"
   },
   {
    "duration": 4,
    "start_time": "2022-01-27T20:46:59.822Z"
   },
   {
    "duration": 5,
    "start_time": "2022-01-27T20:46:59.827Z"
   },
   {
    "duration": 21,
    "start_time": "2022-01-27T20:46:59.834Z"
   },
   {
    "duration": 548,
    "start_time": "2022-01-27T20:46:59.858Z"
   },
   {
    "duration": 699,
    "start_time": "2022-01-27T20:47:00.409Z"
   },
   {
    "duration": 94,
    "start_time": "2022-01-27T20:47:01.110Z"
   },
   {
    "duration": 285,
    "start_time": "2022-01-27T20:47:01.207Z"
   },
   {
    "duration": 7,
    "start_time": "2022-01-27T20:47:01.494Z"
   },
   {
    "duration": 13,
    "start_time": "2022-01-27T20:47:01.502Z"
   },
   {
    "duration": 268,
    "start_time": "2022-01-27T20:47:01.517Z"
   },
   {
    "duration": 420,
    "start_time": "2022-01-27T20:47:01.787Z"
   },
   {
    "duration": 719,
    "start_time": "2022-01-27T20:47:02.298Z"
   },
   {
    "duration": 138,
    "start_time": "2022-01-27T20:47:03.097Z"
   },
   {
    "duration": 1305,
    "start_time": "2022-01-27T20:47:03.236Z"
   },
   {
    "duration": 498,
    "start_time": "2022-01-27T20:47:04.543Z"
   },
   {
    "duration": 509,
    "start_time": "2022-01-27T20:47:05.043Z"
   },
   {
    "duration": 9,
    "start_time": "2022-01-27T20:47:05.554Z"
   },
   {
    "duration": 667,
    "start_time": "2022-01-27T20:47:05.564Z"
   },
   {
    "duration": 665,
    "start_time": "2022-01-27T20:47:06.233Z"
   },
   {
    "duration": 48874,
    "start_time": "2022-01-27T20:47:06.900Z"
   },
   {
    "duration": 45290,
    "start_time": "2022-01-27T20:47:55.776Z"
   },
   {
    "duration": 1076,
    "start_time": "2022-01-27T20:49:04.510Z"
   },
   {
    "duration": 45,
    "start_time": "2022-01-27T20:49:05.588Z"
   },
   {
    "duration": 9,
    "start_time": "2022-01-27T20:49:05.635Z"
   },
   {
    "duration": 4,
    "start_time": "2022-01-27T20:49:05.646Z"
   },
   {
    "duration": 15,
    "start_time": "2022-01-27T20:49:05.652Z"
   },
   {
    "duration": 62,
    "start_time": "2022-01-27T20:49:05.669Z"
   },
   {
    "duration": 6,
    "start_time": "2022-01-27T20:49:05.733Z"
   },
   {
    "duration": 291,
    "start_time": "2022-01-27T20:49:05.741Z"
   },
   {
    "duration": 5,
    "start_time": "2022-01-27T20:49:06.035Z"
   },
   {
    "duration": 15,
    "start_time": "2022-01-27T20:49:06.042Z"
   },
   {
    "duration": 4,
    "start_time": "2022-01-27T20:49:06.059Z"
   },
   {
    "duration": 13,
    "start_time": "2022-01-27T20:49:06.065Z"
   },
   {
    "duration": 314,
    "start_time": "2022-01-27T20:49:06.079Z"
   },
   {
    "duration": 5,
    "start_time": "2022-01-27T20:49:06.395Z"
   },
   {
    "duration": 193,
    "start_time": "2022-01-27T20:49:06.402Z"
   },
   {
    "duration": 7,
    "start_time": "2022-01-27T20:49:06.598Z"
   },
   {
    "duration": 11,
    "start_time": "2022-01-27T20:49:06.606Z"
   },
   {
    "duration": 41,
    "start_time": "2022-01-27T20:49:06.618Z"
   },
   {
    "duration": 53,
    "start_time": "2022-01-27T20:49:06.661Z"
   },
   {
    "duration": 4,
    "start_time": "2022-01-27T20:49:06.715Z"
   },
   {
    "duration": 27,
    "start_time": "2022-01-27T20:49:06.721Z"
   },
   {
    "duration": 219,
    "start_time": "2022-01-27T20:49:06.749Z"
   },
   {
    "duration": 134,
    "start_time": "2022-01-27T20:49:06.970Z"
   },
   {
    "duration": 3,
    "start_time": "2022-01-27T20:49:07.106Z"
   },
   {
    "duration": 7,
    "start_time": "2022-01-27T20:49:07.111Z"
   },
   {
    "duration": 22,
    "start_time": "2022-01-27T20:49:07.119Z"
   },
   {
    "duration": 555,
    "start_time": "2022-01-27T20:49:07.145Z"
   },
   {
    "duration": 602,
    "start_time": "2022-01-27T20:49:07.703Z"
   },
   {
    "duration": 91,
    "start_time": "2022-01-27T20:49:08.308Z"
   },
   {
    "duration": 169,
    "start_time": "2022-01-27T20:49:08.400Z"
   },
   {
    "duration": 6,
    "start_time": "2022-01-27T20:49:08.570Z"
   },
   {
    "duration": 22,
    "start_time": "2022-01-27T20:49:08.577Z"
   },
   {
    "duration": 248,
    "start_time": "2022-01-27T20:49:08.600Z"
   },
   {
    "duration": 656,
    "start_time": "2022-01-27T20:49:08.849Z"
   },
   {
    "duration": 804,
    "start_time": "2022-01-27T20:49:09.507Z"
   },
   {
    "duration": 487,
    "start_time": "2022-01-27T20:49:10.313Z"
   },
   {
    "duration": 132,
    "start_time": "2022-01-27T20:49:10.802Z"
   },
   {
    "duration": 1312,
    "start_time": "2022-01-27T20:49:10.936Z"
   },
   {
    "duration": 501,
    "start_time": "2022-01-27T20:49:12.249Z"
   },
   {
    "duration": 498,
    "start_time": "2022-01-27T20:49:12.752Z"
   },
   {
    "duration": 9,
    "start_time": "2022-01-27T20:49:13.251Z"
   },
   {
    "duration": 637,
    "start_time": "2022-01-27T20:49:13.261Z"
   },
   {
    "duration": 647,
    "start_time": "2022-01-27T20:49:13.900Z"
   },
   {
    "duration": 47106,
    "start_time": "2022-01-27T20:49:14.549Z"
   },
   {
    "duration": 45229,
    "start_time": "2022-01-27T20:50:01.658Z"
   },
   {
    "duration": 1150,
    "start_time": "2022-01-27T20:51:11.692Z"
   },
   {
    "duration": 47,
    "start_time": "2022-01-27T20:51:12.844Z"
   },
   {
    "duration": 8,
    "start_time": "2022-01-27T20:51:12.893Z"
   },
   {
    "duration": 5,
    "start_time": "2022-01-27T20:51:12.903Z"
   },
   {
    "duration": 13,
    "start_time": "2022-01-27T20:51:12.910Z"
   },
   {
    "duration": 43,
    "start_time": "2022-01-27T20:51:12.925Z"
   },
   {
    "duration": 33,
    "start_time": "2022-01-27T20:51:12.970Z"
   },
   {
    "duration": 297,
    "start_time": "2022-01-27T20:51:13.006Z"
   },
   {
    "duration": 5,
    "start_time": "2022-01-27T20:51:13.305Z"
   },
   {
    "duration": 10,
    "start_time": "2022-01-27T20:51:13.312Z"
   },
   {
    "duration": 4,
    "start_time": "2022-01-27T20:51:13.324Z"
   },
   {
    "duration": 6,
    "start_time": "2022-01-27T20:51:13.329Z"
   },
   {
    "duration": 351,
    "start_time": "2022-01-27T20:51:13.337Z"
   },
   {
    "duration": 5,
    "start_time": "2022-01-27T20:51:13.691Z"
   },
   {
    "duration": 208,
    "start_time": "2022-01-27T20:51:13.699Z"
   },
   {
    "duration": 7,
    "start_time": "2022-01-27T20:51:13.909Z"
   },
   {
    "duration": 9,
    "start_time": "2022-01-27T20:51:13.918Z"
   },
   {
    "duration": 41,
    "start_time": "2022-01-27T20:51:13.929Z"
   },
   {
    "duration": 47,
    "start_time": "2022-01-27T20:51:13.971Z"
   },
   {
    "duration": 4,
    "start_time": "2022-01-27T20:51:14.020Z"
   },
   {
    "duration": 23,
    "start_time": "2022-01-27T20:51:14.026Z"
   },
   {
    "duration": 234,
    "start_time": "2022-01-27T20:51:14.051Z"
   },
   {
    "duration": 131,
    "start_time": "2022-01-27T20:51:14.289Z"
   },
   {
    "duration": 4,
    "start_time": "2022-01-27T20:51:14.422Z"
   },
   {
    "duration": 6,
    "start_time": "2022-01-27T20:51:14.428Z"
   },
   {
    "duration": 23,
    "start_time": "2022-01-27T20:51:14.436Z"
   },
   {
    "duration": 542,
    "start_time": "2022-01-27T20:51:14.461Z"
   },
   {
    "duration": 703,
    "start_time": "2022-01-27T20:51:15.006Z"
   },
   {
    "duration": 86,
    "start_time": "2022-01-27T20:51:15.713Z"
   },
   {
    "duration": 208,
    "start_time": "2022-01-27T20:51:15.802Z"
   },
   {
    "duration": 7,
    "start_time": "2022-01-27T20:51:16.012Z"
   },
   {
    "duration": 8,
    "start_time": "2022-01-27T20:51:16.021Z"
   },
   {
    "duration": 289,
    "start_time": "2022-01-27T20:51:16.031Z"
   },
   {
    "duration": 783,
    "start_time": "2022-01-27T20:51:16.322Z"
   },
   {
    "duration": 802,
    "start_time": "2022-01-27T20:51:17.109Z"
   },
   {
    "duration": 586,
    "start_time": "2022-01-27T20:51:17.913Z"
   },
   {
    "duration": 132,
    "start_time": "2022-01-27T20:51:18.502Z"
   },
   {
    "duration": 1338,
    "start_time": "2022-01-27T20:51:18.636Z"
   },
   {
    "duration": 522,
    "start_time": "2022-01-27T20:51:19.976Z"
   },
   {
    "duration": 528,
    "start_time": "2022-01-27T20:51:20.500Z"
   },
   {
    "duration": 9,
    "start_time": "2022-01-27T20:51:21.030Z"
   },
   {
    "duration": 667,
    "start_time": "2022-01-27T20:51:21.041Z"
   },
   {
    "duration": 408,
    "start_time": "2022-01-27T20:51:21.710Z"
   },
   {
    "duration": 1080,
    "start_time": "2022-01-27T20:51:21.041Z"
   },
   {
    "duration": 1077,
    "start_time": "2022-01-27T20:51:21.045Z"
   },
   {
    "duration": 1074,
    "start_time": "2022-01-27T20:51:21.049Z"
   },
   {
    "duration": 1071,
    "start_time": "2022-01-27T20:51:21.053Z"
   },
   {
    "duration": 1068,
    "start_time": "2022-01-27T20:51:21.057Z"
   },
   {
    "duration": 1066,
    "start_time": "2022-01-27T20:51:21.060Z"
   },
   {
    "duration": 1064,
    "start_time": "2022-01-27T20:51:21.063Z"
   },
   {
    "duration": 1061,
    "start_time": "2022-01-27T20:51:21.067Z"
   },
   {
    "duration": 1058,
    "start_time": "2022-01-27T20:51:21.071Z"
   },
   {
    "duration": 1056,
    "start_time": "2022-01-27T20:51:21.074Z"
   },
   {
    "duration": 1054,
    "start_time": "2022-01-27T20:51:21.077Z"
   },
   {
    "duration": 1052,
    "start_time": "2022-01-27T20:51:21.080Z"
   },
   {
    "duration": 1050,
    "start_time": "2022-01-27T20:51:21.083Z"
   },
   {
    "duration": 1076,
    "start_time": "2022-01-27T20:56:08.972Z"
   },
   {
    "duration": 47,
    "start_time": "2022-01-27T20:56:10.050Z"
   },
   {
    "duration": 9,
    "start_time": "2022-01-27T20:56:10.099Z"
   },
   {
    "duration": 25,
    "start_time": "2022-01-27T20:56:10.110Z"
   },
   {
    "duration": 23,
    "start_time": "2022-01-27T20:56:10.137Z"
   },
   {
    "duration": 51,
    "start_time": "2022-01-27T20:56:10.162Z"
   },
   {
    "duration": 6,
    "start_time": "2022-01-27T20:56:10.214Z"
   },
   {
    "duration": 261,
    "start_time": "2022-01-27T20:56:10.222Z"
   },
   {
    "duration": 4,
    "start_time": "2022-01-27T20:56:10.485Z"
   },
   {
    "duration": 13,
    "start_time": "2022-01-27T20:56:10.498Z"
   },
   {
    "duration": 19,
    "start_time": "2022-01-27T20:56:10.512Z"
   },
   {
    "duration": 14,
    "start_time": "2022-01-27T20:56:10.533Z"
   },
   {
    "duration": 304,
    "start_time": "2022-01-27T20:56:10.549Z"
   },
   {
    "duration": 5,
    "start_time": "2022-01-27T20:56:10.855Z"
   },
   {
    "duration": 192,
    "start_time": "2022-01-27T20:56:10.861Z"
   },
   {
    "duration": 6,
    "start_time": "2022-01-27T20:56:11.055Z"
   },
   {
    "duration": 10,
    "start_time": "2022-01-27T20:56:11.063Z"
   },
   {
    "duration": 58,
    "start_time": "2022-01-27T20:56:11.075Z"
   },
   {
    "duration": 23,
    "start_time": "2022-01-27T20:56:11.135Z"
   },
   {
    "duration": 5,
    "start_time": "2022-01-27T20:56:11.160Z"
   },
   {
    "duration": 48,
    "start_time": "2022-01-27T20:56:11.167Z"
   },
   {
    "duration": 211,
    "start_time": "2022-01-27T20:56:11.217Z"
   },
   {
    "duration": 128,
    "start_time": "2022-01-27T20:56:11.432Z"
   },
   {
    "duration": 4,
    "start_time": "2022-01-27T20:56:11.562Z"
   },
   {
    "duration": 6,
    "start_time": "2022-01-27T20:56:11.567Z"
   },
   {
    "duration": 33,
    "start_time": "2022-01-27T20:56:11.574Z"
   },
   {
    "duration": 504,
    "start_time": "2022-01-27T20:56:11.609Z"
   },
   {
    "duration": 693,
    "start_time": "2022-01-27T20:56:12.115Z"
   },
   {
    "duration": 90,
    "start_time": "2022-01-27T20:56:12.810Z"
   },
   {
    "duration": 252,
    "start_time": "2022-01-27T20:56:12.903Z"
   },
   {
    "duration": 6,
    "start_time": "2022-01-27T20:56:13.157Z"
   },
   {
    "duration": 7,
    "start_time": "2022-01-27T20:56:13.165Z"
   },
   {
    "duration": 266,
    "start_time": "2022-01-27T20:56:13.173Z"
   },
   {
    "duration": 676,
    "start_time": "2022-01-27T20:56:13.440Z"
   },
   {
    "duration": 904,
    "start_time": "2022-01-27T20:56:14.200Z"
   },
   {
    "duration": 410,
    "start_time": "2022-01-27T20:56:15.107Z"
   },
   {
    "duration": 216,
    "start_time": "2022-01-27T20:56:15.519Z"
   },
   {
    "duration": 1339,
    "start_time": "2022-01-27T20:56:15.736Z"
   },
   {
    "duration": 506,
    "start_time": "2022-01-27T20:56:17.077Z"
   },
   {
    "duration": 513,
    "start_time": "2022-01-27T20:56:17.585Z"
   },
   {
    "duration": 10,
    "start_time": "2022-01-27T20:56:18.100Z"
   },
   {
    "duration": 660,
    "start_time": "2022-01-27T20:56:18.112Z"
   },
   {
    "duration": 683,
    "start_time": "2022-01-27T20:56:18.774Z"
   },
   {
    "duration": 47208,
    "start_time": "2022-01-27T20:56:19.459Z"
   },
   {
    "duration": 44393,
    "start_time": "2022-01-27T20:57:06.668Z"
   },
   {
    "duration": 65198,
    "start_time": "2022-01-27T20:57:51.064Z"
   },
   {
    "duration": 64482,
    "start_time": "2022-01-27T20:58:56.264Z"
   },
   {
    "duration": 4,
    "start_time": "2022-01-27T21:00:00.747Z"
   },
   {
    "duration": 45,
    "start_time": "2022-01-27T21:00:00.753Z"
   },
   {
    "duration": 299,
    "start_time": "2022-01-27T21:00:00.800Z"
   },
   {
    "duration": 642,
    "start_time": "2022-01-27T21:00:01.101Z"
   },
   {
    "duration": 878,
    "start_time": "2022-01-27T21:00:01.744Z"
   },
   {
    "duration": 44962,
    "start_time": "2022-01-27T21:00:02.624Z"
   },
   {
    "duration": 27,
    "start_time": "2022-01-27T21:00:47.588Z"
   },
   {
    "duration": 2515,
    "start_time": "2022-01-27T21:00:47.616Z"
   },
   {
    "duration": 1138,
    "start_time": "2022-01-27T21:14:01.599Z"
   },
   {
    "duration": 45,
    "start_time": "2022-01-27T21:14:02.739Z"
   },
   {
    "duration": 11,
    "start_time": "2022-01-27T21:14:02.787Z"
   },
   {
    "duration": 4,
    "start_time": "2022-01-27T21:14:02.801Z"
   },
   {
    "duration": 13,
    "start_time": "2022-01-27T21:14:02.807Z"
   },
   {
    "duration": 42,
    "start_time": "2022-01-27T21:14:02.822Z"
   },
   {
    "duration": 34,
    "start_time": "2022-01-27T21:14:02.866Z"
   },
   {
    "duration": 293,
    "start_time": "2022-01-27T21:14:02.902Z"
   },
   {
    "duration": 5,
    "start_time": "2022-01-27T21:14:03.197Z"
   },
   {
    "duration": 12,
    "start_time": "2022-01-27T21:14:03.205Z"
   },
   {
    "duration": 13,
    "start_time": "2022-01-27T21:14:03.219Z"
   },
   {
    "duration": 14,
    "start_time": "2022-01-27T21:14:03.234Z"
   },
   {
    "duration": 318,
    "start_time": "2022-01-27T21:14:03.250Z"
   },
   {
    "duration": 5,
    "start_time": "2022-01-27T21:14:03.570Z"
   },
   {
    "duration": 206,
    "start_time": "2022-01-27T21:14:03.577Z"
   },
   {
    "duration": 14,
    "start_time": "2022-01-27T21:14:03.785Z"
   },
   {
    "duration": 9,
    "start_time": "2022-01-27T21:14:03.801Z"
   },
   {
    "duration": 43,
    "start_time": "2022-01-27T21:14:03.812Z"
   },
   {
    "duration": 59,
    "start_time": "2022-01-27T21:14:03.857Z"
   },
   {
    "duration": 5,
    "start_time": "2022-01-27T21:14:03.917Z"
   },
   {
    "duration": 32,
    "start_time": "2022-01-27T21:14:03.925Z"
   },
   {
    "duration": 235,
    "start_time": "2022-01-27T21:14:03.959Z"
   },
   {
    "duration": 130,
    "start_time": "2022-01-27T21:14:04.196Z"
   },
   {
    "duration": 5,
    "start_time": "2022-01-27T21:14:04.328Z"
   },
   {
    "duration": 7,
    "start_time": "2022-01-27T21:14:04.334Z"
   },
   {
    "duration": 21,
    "start_time": "2022-01-27T21:14:04.343Z"
   },
   {
    "duration": 543,
    "start_time": "2022-01-27T21:14:04.368Z"
   },
   {
    "duration": 613,
    "start_time": "2022-01-27T21:14:05.002Z"
   },
   {
    "duration": 7,
    "start_time": "2022-01-27T21:14:05.700Z"
   },
   {
    "duration": 263,
    "start_time": "2022-01-27T21:14:05.711Z"
   },
   {
    "duration": 8,
    "start_time": "2022-01-27T21:14:05.976Z"
   },
   {
    "duration": 17,
    "start_time": "2022-01-27T21:14:05.986Z"
   },
   {
    "duration": 280,
    "start_time": "2022-01-27T21:14:06.005Z"
   },
   {
    "duration": 820,
    "start_time": "2022-01-27T21:14:06.287Z"
   },
   {
    "duration": 806,
    "start_time": "2022-01-27T21:14:07.111Z"
   },
   {
    "duration": 410,
    "start_time": "2022-01-27T21:14:08.000Z"
   },
   {
    "duration": 220,
    "start_time": "2022-01-27T21:14:08.413Z"
   },
   {
    "duration": 540,
    "start_time": "2022-01-27T21:14:08.636Z"
   },
   {
    "duration": 521,
    "start_time": "2022-01-27T21:14:09.178Z"
   },
   {
    "duration": 617,
    "start_time": "2022-01-27T21:14:09.701Z"
   },
   {
    "duration": 14,
    "start_time": "2022-01-27T21:14:10.320Z"
   },
   {
    "duration": 703,
    "start_time": "2022-01-27T21:14:10.336Z"
   },
   {
    "duration": 724,
    "start_time": "2022-01-27T21:14:11.041Z"
   },
   {
    "duration": 1183,
    "start_time": "2022-01-27T21:14:11.767Z"
   },
   {
    "duration": 1103,
    "start_time": "2022-01-27T21:14:12.952Z"
   },
   {
    "duration": 1520,
    "start_time": "2022-01-27T21:14:14.057Z"
   },
   {
    "duration": 1579,
    "start_time": "2022-01-27T21:14:15.579Z"
   },
   {
    "duration": 4,
    "start_time": "2022-01-27T21:14:17.159Z"
   },
   {
    "duration": 12,
    "start_time": "2022-01-27T21:14:17.165Z"
   },
   {
    "duration": 228,
    "start_time": "2022-01-27T21:14:17.179Z"
   },
   {
    "duration": 707,
    "start_time": "2022-01-27T21:14:17.410Z"
   },
   {
    "duration": 817,
    "start_time": "2022-01-27T21:14:18.119Z"
   },
   {
    "duration": 1061,
    "start_time": "2022-01-27T21:14:18.938Z"
   },
   {
    "duration": 26,
    "start_time": "2022-01-27T21:14:20.001Z"
   },
   {
    "duration": 965,
    "start_time": "2022-01-27T21:14:20.029Z"
   },
   {
    "duration": 6,
    "start_time": "2022-01-27T21:15:22.969Z"
   },
   {
    "duration": 2229,
    "start_time": "2022-01-27T21:15:30.415Z"
   },
   {
    "duration": 48,
    "start_time": "2022-01-27T21:15:32.646Z"
   },
   {
    "duration": 9,
    "start_time": "2022-01-27T21:15:32.696Z"
   },
   {
    "duration": 6,
    "start_time": "2022-01-27T21:15:32.708Z"
   },
   {
    "duration": 14,
    "start_time": "2022-01-27T21:15:32.716Z"
   },
   {
    "duration": 81,
    "start_time": "2022-01-27T21:15:32.731Z"
   },
   {
    "duration": 6,
    "start_time": "2022-01-27T21:15:32.814Z"
   },
   {
    "duration": 285,
    "start_time": "2022-01-27T21:15:32.821Z"
   },
   {
    "duration": 5,
    "start_time": "2022-01-27T21:15:33.109Z"
   },
   {
    "duration": 193,
    "start_time": "2022-01-27T21:15:33.116Z"
   },
   {
    "duration": 7,
    "start_time": "2022-01-27T21:15:33.311Z"
   },
   {
    "duration": 10,
    "start_time": "2022-01-27T21:15:33.319Z"
   },
   {
    "duration": 49,
    "start_time": "2022-01-27T21:15:33.331Z"
   },
   {
    "duration": 36,
    "start_time": "2022-01-27T21:15:33.382Z"
   },
   {
    "duration": 7,
    "start_time": "2022-01-27T21:15:33.420Z"
   },
   {
    "duration": 24,
    "start_time": "2022-01-27T21:15:33.428Z"
   },
   {
    "duration": 210,
    "start_time": "2022-01-27T21:15:33.454Z"
   },
   {
    "duration": 126,
    "start_time": "2022-01-27T21:15:33.666Z"
   },
   {
    "duration": 5,
    "start_time": "2022-01-27T21:15:33.794Z"
   },
   {
    "duration": 4,
    "start_time": "2022-01-27T21:15:33.800Z"
   },
   {
    "duration": 21,
    "start_time": "2022-01-27T21:15:33.806Z"
   },
   {
    "duration": 629,
    "start_time": "2022-01-27T21:15:33.829Z"
   },
   {
    "duration": 1085,
    "start_time": "2022-01-27T21:15:33.376Z"
   },
   {
    "duration": 1078,
    "start_time": "2022-01-27T21:15:33.383Z"
   },
   {
    "duration": 1076,
    "start_time": "2022-01-27T21:15:33.386Z"
   },
   {
    "duration": 1072,
    "start_time": "2022-01-27T21:15:33.391Z"
   },
   {
    "duration": 1070,
    "start_time": "2022-01-27T21:15:33.394Z"
   },
   {
    "duration": 1068,
    "start_time": "2022-01-27T21:15:33.397Z"
   },
   {
    "duration": 1065,
    "start_time": "2022-01-27T21:15:33.401Z"
   },
   {
    "duration": 1061,
    "start_time": "2022-01-27T21:15:33.406Z"
   },
   {
    "duration": 1059,
    "start_time": "2022-01-27T21:15:33.409Z"
   },
   {
    "duration": 1055,
    "start_time": "2022-01-27T21:15:33.414Z"
   },
   {
    "duration": 1053,
    "start_time": "2022-01-27T21:15:33.417Z"
   },
   {
    "duration": 1049,
    "start_time": "2022-01-27T21:15:33.422Z"
   },
   {
    "duration": 1046,
    "start_time": "2022-01-27T21:15:33.426Z"
   },
   {
    "duration": 1030,
    "start_time": "2022-01-27T21:15:33.443Z"
   },
   {
    "duration": 1026,
    "start_time": "2022-01-27T21:15:33.448Z"
   },
   {
    "duration": 1023,
    "start_time": "2022-01-27T21:15:33.452Z"
   },
   {
    "duration": 1020,
    "start_time": "2022-01-27T21:15:33.457Z"
   },
   {
    "duration": 1017,
    "start_time": "2022-01-27T21:15:33.461Z"
   },
   {
    "duration": 1014,
    "start_time": "2022-01-27T21:15:33.465Z"
   },
   {
    "duration": 1009,
    "start_time": "2022-01-27T21:15:33.471Z"
   },
   {
    "duration": 1007,
    "start_time": "2022-01-27T21:15:33.474Z"
   },
   {
    "duration": 1005,
    "start_time": "2022-01-27T21:15:33.477Z"
   },
   {
    "duration": 1002,
    "start_time": "2022-01-27T21:15:33.481Z"
   },
   {
    "duration": 1000,
    "start_time": "2022-01-27T21:15:33.484Z"
   },
   {
    "duration": 997,
    "start_time": "2022-01-27T21:15:33.488Z"
   },
   {
    "duration": 994,
    "start_time": "2022-01-27T21:15:33.492Z"
   },
   {
    "duration": 992,
    "start_time": "2022-01-27T21:15:33.495Z"
   },
   {
    "duration": 990,
    "start_time": "2022-01-27T21:15:33.498Z"
   },
   {
    "duration": 283,
    "start_time": "2022-01-27T21:17:10.607Z"
   },
   {
    "duration": 320,
    "start_time": "2022-01-27T21:17:17.822Z"
   },
   {
    "duration": 24,
    "start_time": "2022-01-27T21:17:24.101Z"
   },
   {
    "duration": 8,
    "start_time": "2022-01-27T21:19:40.654Z"
   },
   {
    "duration": 8,
    "start_time": "2022-01-27T21:19:52.027Z"
   },
   {
    "duration": 1289,
    "start_time": "2022-01-27T21:20:01.864Z"
   },
   {
    "duration": 47,
    "start_time": "2022-01-27T21:20:03.155Z"
   },
   {
    "duration": 8,
    "start_time": "2022-01-27T21:20:03.204Z"
   },
   {
    "duration": 5,
    "start_time": "2022-01-27T21:20:03.214Z"
   },
   {
    "duration": 24,
    "start_time": "2022-01-27T21:20:03.220Z"
   },
   {
    "duration": 56,
    "start_time": "2022-01-27T21:20:03.246Z"
   },
   {
    "duration": 6,
    "start_time": "2022-01-27T21:20:03.304Z"
   },
   {
    "duration": 279,
    "start_time": "2022-01-27T21:20:03.312Z"
   },
   {
    "duration": 7,
    "start_time": "2022-01-27T21:20:03.594Z"
   },
   {
    "duration": 196,
    "start_time": "2022-01-27T21:20:03.602Z"
   },
   {
    "duration": 6,
    "start_time": "2022-01-27T21:20:03.800Z"
   },
   {
    "duration": 7,
    "start_time": "2022-01-27T21:20:03.808Z"
   },
   {
    "duration": 7,
    "start_time": "2022-01-27T21:20:03.817Z"
   },
   {
    "duration": 43,
    "start_time": "2022-01-27T21:20:03.826Z"
   },
   {
    "duration": 50,
    "start_time": "2022-01-27T21:20:03.871Z"
   },
   {
    "duration": 5,
    "start_time": "2022-01-27T21:20:03.923Z"
   },
   {
    "duration": 24,
    "start_time": "2022-01-27T21:20:03.930Z"
   },
   {
    "duration": 189,
    "start_time": "2022-01-27T21:20:03.956Z"
   },
   {
    "duration": 110,
    "start_time": "2022-01-27T21:20:04.146Z"
   },
   {
    "duration": 4,
    "start_time": "2022-01-27T21:20:04.258Z"
   },
   {
    "duration": 10,
    "start_time": "2022-01-27T21:20:04.264Z"
   },
   {
    "duration": 30,
    "start_time": "2022-01-27T21:20:04.276Z"
   },
   {
    "duration": 400,
    "start_time": "2022-01-27T21:20:04.310Z"
   },
   {
    "duration": 601,
    "start_time": "2022-01-27T21:20:04.713Z"
   },
   {
    "duration": 6,
    "start_time": "2022-01-27T21:20:05.400Z"
   },
   {
    "duration": 242,
    "start_time": "2022-01-27T21:20:05.409Z"
   },
   {
    "duration": 5,
    "start_time": "2022-01-27T21:20:05.653Z"
   },
   {
    "duration": 14,
    "start_time": "2022-01-27T21:20:05.660Z"
   },
   {
    "duration": 216,
    "start_time": "2022-01-27T21:20:05.676Z"
   },
   {
    "duration": 617,
    "start_time": "2022-01-27T21:20:05.894Z"
   },
   {
    "duration": 795,
    "start_time": "2022-01-27T21:20:06.514Z"
   },
   {
    "duration": 411,
    "start_time": "2022-01-27T21:20:07.400Z"
   },
   {
    "duration": 211,
    "start_time": "2022-01-27T21:20:07.814Z"
   },
   {
    "duration": 454,
    "start_time": "2022-01-27T21:20:08.027Z"
   },
   {
    "duration": 443,
    "start_time": "2022-01-27T21:20:08.483Z"
   },
   {
    "duration": 441,
    "start_time": "2022-01-27T21:20:08.928Z"
   },
   {
    "duration": 8,
    "start_time": "2022-01-27T21:20:09.371Z"
   },
   {
    "duration": 548,
    "start_time": "2022-01-27T21:20:09.381Z"
   },
   {
    "duration": 595,
    "start_time": "2022-01-27T21:20:09.930Z"
   },
   {
    "duration": 1027,
    "start_time": "2022-01-27T21:20:10.526Z"
   },
   {
    "duration": 956,
    "start_time": "2022-01-27T21:20:11.554Z"
   },
   {
    "duration": 1300,
    "start_time": "2022-01-27T21:20:12.511Z"
   },
   {
    "duration": 1340,
    "start_time": "2022-01-27T21:20:13.812Z"
   },
   {
    "duration": 4,
    "start_time": "2022-01-27T21:20:15.153Z"
   },
   {
    "duration": 12,
    "start_time": "2022-01-27T21:20:15.159Z"
   },
   {
    "duration": 127,
    "start_time": "2022-01-27T21:20:15.172Z"
   },
   {
    "duration": 643,
    "start_time": "2022-01-27T21:20:15.302Z"
   },
   {
    "duration": 726,
    "start_time": "2022-01-27T21:20:15.947Z"
   },
   {
    "duration": 977,
    "start_time": "2022-01-27T21:20:16.675Z"
   },
   {
    "duration": 21,
    "start_time": "2022-01-27T21:20:17.654Z"
   },
   {
    "duration": 955,
    "start_time": "2022-01-27T21:20:17.677Z"
   },
   {
    "duration": 1054,
    "start_time": "2022-01-27T21:24:35.512Z"
   },
   {
    "duration": 42,
    "start_time": "2022-01-27T21:24:36.568Z"
   },
   {
    "duration": 7,
    "start_time": "2022-01-27T21:24:36.612Z"
   },
   {
    "duration": 4,
    "start_time": "2022-01-27T21:24:36.621Z"
   },
   {
    "duration": 13,
    "start_time": "2022-01-27T21:24:36.626Z"
   },
   {
    "duration": 40,
    "start_time": "2022-01-27T21:24:36.641Z"
   },
   {
    "duration": 6,
    "start_time": "2022-01-27T21:24:36.698Z"
   },
   {
    "duration": 271,
    "start_time": "2022-01-27T21:24:36.706Z"
   },
   {
    "duration": 4,
    "start_time": "2022-01-27T21:24:36.980Z"
   },
   {
    "duration": 17,
    "start_time": "2022-01-27T21:24:36.986Z"
   },
   {
    "duration": 2,
    "start_time": "2022-01-27T21:24:37.005Z"
   },
   {
    "duration": 7,
    "start_time": "2022-01-27T21:24:37.009Z"
   },
   {
    "duration": 304,
    "start_time": "2022-01-27T21:24:37.018Z"
   },
   {
    "duration": 4,
    "start_time": "2022-01-27T21:24:37.324Z"
   },
   {
    "duration": 191,
    "start_time": "2022-01-27T21:24:37.330Z"
   },
   {
    "duration": 6,
    "start_time": "2022-01-27T21:24:37.522Z"
   },
   {
    "duration": 10,
    "start_time": "2022-01-27T21:24:37.530Z"
   },
   {
    "duration": 57,
    "start_time": "2022-01-27T21:24:37.542Z"
   },
   {
    "duration": 21,
    "start_time": "2022-01-27T21:24:37.601Z"
   },
   {
    "duration": 5,
    "start_time": "2022-01-27T21:24:37.626Z"
   },
   {
    "duration": 22,
    "start_time": "2022-01-27T21:24:37.633Z"
   },
   {
    "duration": 210,
    "start_time": "2022-01-27T21:24:37.656Z"
   },
   {
    "duration": 132,
    "start_time": "2022-01-27T21:24:37.868Z"
   },
   {
    "duration": 4,
    "start_time": "2022-01-27T21:24:38.002Z"
   },
   {
    "duration": 10,
    "start_time": "2022-01-27T21:24:38.007Z"
   },
   {
    "duration": 22,
    "start_time": "2022-01-27T21:24:38.019Z"
   },
   {
    "duration": 472,
    "start_time": "2022-01-27T21:24:38.044Z"
   },
   {
    "duration": 614,
    "start_time": "2022-01-27T21:24:38.600Z"
   },
   {
    "duration": 6,
    "start_time": "2022-01-27T21:24:39.299Z"
   },
   {
    "duration": 250,
    "start_time": "2022-01-27T21:24:39.307Z"
   },
   {
    "duration": 6,
    "start_time": "2022-01-27T21:24:39.559Z"
   },
   {
    "duration": 9,
    "start_time": "2022-01-27T21:24:39.567Z"
   },
   {
    "duration": 260,
    "start_time": "2022-01-27T21:24:39.578Z"
   },
   {
    "duration": 675,
    "start_time": "2022-01-27T21:24:39.839Z"
   },
   {
    "duration": 817,
    "start_time": "2022-01-27T21:24:40.599Z"
   },
   {
    "duration": 413,
    "start_time": "2022-01-27T21:24:41.500Z"
   },
   {
    "duration": 130,
    "start_time": "2022-01-27T21:24:42.006Z"
   },
   {
    "duration": 495,
    "start_time": "2022-01-27T21:24:42.138Z"
   },
   {
    "duration": 484,
    "start_time": "2022-01-27T21:24:42.634Z"
   },
   {
    "duration": 490,
    "start_time": "2022-01-27T21:24:43.120Z"
   },
   {
    "duration": 8,
    "start_time": "2022-01-27T21:24:43.612Z"
   },
   {
    "duration": 664,
    "start_time": "2022-01-27T21:24:43.622Z"
   },
   {
    "duration": 665,
    "start_time": "2022-01-27T21:24:44.288Z"
   },
   {
    "duration": 1163,
    "start_time": "2022-01-27T21:24:44.955Z"
   },
   {
    "duration": 1066,
    "start_time": "2022-01-27T21:24:46.120Z"
   },
   {
    "duration": 1479,
    "start_time": "2022-01-27T21:24:47.187Z"
   },
   {
    "duration": 1483,
    "start_time": "2022-01-27T21:24:48.667Z"
   },
   {
    "duration": 3,
    "start_time": "2022-01-27T21:24:50.152Z"
   },
   {
    "duration": 48,
    "start_time": "2022-01-27T21:24:50.157Z"
   },
   {
    "duration": 100,
    "start_time": "2022-01-27T21:24:50.207Z"
   },
   {
    "duration": 793,
    "start_time": "2022-01-27T21:24:50.309Z"
   },
   {
    "duration": 907,
    "start_time": "2022-01-27T21:24:51.104Z"
   },
   {
    "duration": 1303,
    "start_time": "2022-01-27T21:24:52.013Z"
   },
   {
    "duration": 24,
    "start_time": "2022-01-27T21:24:53.318Z"
   },
   {
    "duration": 1082,
    "start_time": "2022-01-27T21:24:53.344Z"
   },
   {
    "duration": 159,
    "start_time": "2022-01-27T21:27:09.039Z"
   },
   {
    "duration": 64,
    "start_time": "2022-01-27T21:27:44.291Z"
   },
   {
    "duration": 65,
    "start_time": "2022-01-27T21:28:01.108Z"
   },
   {
    "duration": 65,
    "start_time": "2022-01-27T21:28:06.683Z"
   },
   {
    "duration": 62,
    "start_time": "2022-01-27T21:28:09.579Z"
   },
   {
    "duration": 64,
    "start_time": "2022-01-27T21:28:34.564Z"
   },
   {
    "duration": 1075,
    "start_time": "2022-01-30T16:28:38.699Z"
   },
   {
    "duration": 40,
    "start_time": "2022-01-30T16:28:39.776Z"
   },
   {
    "duration": 8,
    "start_time": "2022-01-30T16:28:39.818Z"
   },
   {
    "duration": 4,
    "start_time": "2022-01-30T16:28:39.827Z"
   },
   {
    "duration": 9,
    "start_time": "2022-01-30T16:28:39.832Z"
   },
   {
    "duration": 49,
    "start_time": "2022-01-30T16:28:39.842Z"
   },
   {
    "duration": 5,
    "start_time": "2022-01-30T16:28:39.893Z"
   },
   {
    "duration": 223,
    "start_time": "2022-01-30T16:28:39.900Z"
   },
   {
    "duration": 5,
    "start_time": "2022-01-30T16:28:40.125Z"
   },
   {
    "duration": 7,
    "start_time": "2022-01-30T16:28:40.131Z"
   },
   {
    "duration": 2,
    "start_time": "2022-01-30T16:28:40.140Z"
   },
   {
    "duration": 5,
    "start_time": "2022-01-30T16:28:40.143Z"
   },
   {
    "duration": 285,
    "start_time": "2022-01-30T16:28:40.149Z"
   },
   {
    "duration": 4,
    "start_time": "2022-01-30T16:28:40.436Z"
   },
   {
    "duration": 154,
    "start_time": "2022-01-30T16:28:40.441Z"
   },
   {
    "duration": 5,
    "start_time": "2022-01-30T16:28:40.596Z"
   },
   {
    "duration": 8,
    "start_time": "2022-01-30T16:28:40.602Z"
   },
   {
    "duration": 33,
    "start_time": "2022-01-30T16:28:40.612Z"
   },
   {
    "duration": 40,
    "start_time": "2022-01-30T16:28:40.647Z"
   },
   {
    "duration": 4,
    "start_time": "2022-01-30T16:28:40.689Z"
   },
   {
    "duration": 18,
    "start_time": "2022-01-30T16:28:40.695Z"
   },
   {
    "duration": 190,
    "start_time": "2022-01-30T16:28:40.714Z"
   },
   {
    "duration": 116,
    "start_time": "2022-01-30T16:28:40.906Z"
   },
   {
    "duration": 4,
    "start_time": "2022-01-30T16:28:41.024Z"
   },
   {
    "duration": 5,
    "start_time": "2022-01-30T16:28:41.030Z"
   },
   {
    "duration": 40,
    "start_time": "2022-01-30T16:28:41.039Z"
   },
   {
    "duration": 493,
    "start_time": "2022-01-30T16:28:41.081Z"
   },
   {
    "duration": 501,
    "start_time": "2022-01-30T16:28:41.577Z"
   },
   {
    "duration": 92,
    "start_time": "2022-01-30T16:28:42.080Z"
   },
   {
    "duration": 213,
    "start_time": "2022-01-30T16:28:42.174Z"
   },
   {
    "duration": 5,
    "start_time": "2022-01-30T16:28:42.389Z"
   },
   {
    "duration": 6,
    "start_time": "2022-01-30T16:28:42.396Z"
   },
   {
    "duration": 235,
    "start_time": "2022-01-30T16:28:42.404Z"
   },
   {
    "duration": 639,
    "start_time": "2022-01-30T16:28:42.641Z"
   },
   {
    "duration": 700,
    "start_time": "2022-01-30T16:28:43.373Z"
   },
   {
    "duration": 397,
    "start_time": "2022-01-30T16:28:44.075Z"
   },
   {
    "duration": 127,
    "start_time": "2022-01-30T16:28:44.474Z"
   },
   {
    "duration": 448,
    "start_time": "2022-01-30T16:28:44.603Z"
   },
   {
    "duration": 454,
    "start_time": "2022-01-30T16:28:45.053Z"
   },
   {
    "duration": 434,
    "start_time": "2022-01-30T16:28:45.509Z"
   },
   {
    "duration": 8,
    "start_time": "2022-01-30T16:28:45.945Z"
   },
   {
    "duration": 564,
    "start_time": "2022-01-30T16:28:45.954Z"
   },
   {
    "duration": 581,
    "start_time": "2022-01-30T16:28:46.520Z"
   },
   {
    "duration": 988,
    "start_time": "2022-01-30T16:28:47.103Z"
   },
   {
    "duration": 992,
    "start_time": "2022-01-30T16:28:48.093Z"
   },
   {
    "duration": 1388,
    "start_time": "2022-01-30T16:28:49.086Z"
   },
   {
    "duration": 1484,
    "start_time": "2022-01-30T16:28:50.476Z"
   },
   {
    "duration": 9,
    "start_time": "2022-01-30T16:28:51.962Z"
   },
   {
    "duration": 9,
    "start_time": "2022-01-30T16:28:51.973Z"
   },
   {
    "duration": 188,
    "start_time": "2022-01-30T16:28:51.984Z"
   },
   {
    "duration": 646,
    "start_time": "2022-01-30T16:28:52.174Z"
   },
   {
    "duration": 823,
    "start_time": "2022-01-30T16:28:52.822Z"
   },
   {
    "duration": 1040,
    "start_time": "2022-01-30T16:28:53.647Z"
   },
   {
    "duration": 22,
    "start_time": "2022-01-30T16:28:54.688Z"
   },
   {
    "duration": 859,
    "start_time": "2022-01-30T16:28:54.712Z"
   },
   {
    "duration": 145,
    "start_time": "2022-01-30T16:33:44.096Z"
   },
   {
    "duration": 92,
    "start_time": "2022-01-30T16:33:56.399Z"
   },
   {
    "duration": 103,
    "start_time": "2022-01-30T16:34:07.751Z"
   },
   {
    "duration": 497,
    "start_time": "2022-01-30T16:34:13.745Z"
   },
   {
    "duration": 458,
    "start_time": "2022-01-30T16:34:34.495Z"
   },
   {
    "duration": 400,
    "start_time": "2022-01-30T16:34:43.584Z"
   },
   {
    "duration": 1599,
    "start_time": "2022-01-30T16:35:10.559Z"
   },
   {
    "duration": 418,
    "start_time": "2022-01-30T16:35:40.783Z"
   },
   {
    "duration": 140,
    "start_time": "2022-01-30T16:35:48.256Z"
   },
   {
    "duration": 645,
    "start_time": "2022-01-30T16:36:16.712Z"
   },
   {
    "duration": 143,
    "start_time": "2022-01-30T16:36:55.215Z"
   },
   {
    "duration": 445,
    "start_time": "2022-01-30T16:37:27.264Z"
   },
   {
    "duration": 1122,
    "start_time": "2022-01-30T16:37:59.478Z"
   },
   {
    "duration": 42,
    "start_time": "2022-01-30T16:38:00.602Z"
   },
   {
    "duration": 8,
    "start_time": "2022-01-30T16:38:00.647Z"
   },
   {
    "duration": 10,
    "start_time": "2022-01-30T16:38:00.656Z"
   },
   {
    "duration": 16,
    "start_time": "2022-01-30T16:38:00.668Z"
   },
   {
    "duration": 44,
    "start_time": "2022-01-30T16:38:00.685Z"
   },
   {
    "duration": 7,
    "start_time": "2022-01-30T16:38:00.731Z"
   },
   {
    "duration": 249,
    "start_time": "2022-01-30T16:38:00.739Z"
   },
   {
    "duration": 5,
    "start_time": "2022-01-30T16:38:00.990Z"
   },
   {
    "duration": 9,
    "start_time": "2022-01-30T16:38:00.997Z"
   },
   {
    "duration": 5,
    "start_time": "2022-01-30T16:38:01.008Z"
   },
   {
    "duration": 8,
    "start_time": "2022-01-30T16:38:01.015Z"
   },
   {
    "duration": 370,
    "start_time": "2022-01-30T16:38:01.025Z"
   },
   {
    "duration": 5,
    "start_time": "2022-01-30T16:38:01.398Z"
   },
   {
    "duration": 158,
    "start_time": "2022-01-30T16:38:01.405Z"
   },
   {
    "duration": 10,
    "start_time": "2022-01-30T16:38:01.564Z"
   },
   {
    "duration": 8,
    "start_time": "2022-01-30T16:38:01.575Z"
   },
   {
    "duration": 34,
    "start_time": "2022-01-30T16:38:01.585Z"
   },
   {
    "duration": 23,
    "start_time": "2022-01-30T16:38:01.620Z"
   },
   {
    "duration": 28,
    "start_time": "2022-01-30T16:38:01.644Z"
   },
   {
    "duration": 19,
    "start_time": "2022-01-30T16:38:01.674Z"
   },
   {
    "duration": 573,
    "start_time": "2022-01-30T16:38:01.694Z"
   },
   {
    "duration": 3602,
    "start_time": "2022-01-30T16:37:58.668Z"
   },
   {
    "duration": 3600,
    "start_time": "2022-01-30T16:37:58.671Z"
   },
   {
    "duration": 3600,
    "start_time": "2022-01-30T16:37:58.673Z"
   },
   {
    "duration": 3584,
    "start_time": "2022-01-30T16:37:58.690Z"
   },
   {
    "duration": 3579,
    "start_time": "2022-01-30T16:37:58.696Z"
   },
   {
    "duration": 3578,
    "start_time": "2022-01-30T16:37:58.698Z"
   },
   {
    "duration": 3577,
    "start_time": "2022-01-30T16:37:58.701Z"
   },
   {
    "duration": 3576,
    "start_time": "2022-01-30T16:37:58.703Z"
   },
   {
    "duration": 3576,
    "start_time": "2022-01-30T16:37:58.705Z"
   },
   {
    "duration": 3573,
    "start_time": "2022-01-30T16:37:58.709Z"
   },
   {
    "duration": 3568,
    "start_time": "2022-01-30T16:37:58.715Z"
   },
   {
    "duration": 3563,
    "start_time": "2022-01-30T16:37:58.720Z"
   },
   {
    "duration": 3561,
    "start_time": "2022-01-30T16:37:58.723Z"
   },
   {
    "duration": 3556,
    "start_time": "2022-01-30T16:37:58.729Z"
   },
   {
    "duration": 3547,
    "start_time": "2022-01-30T16:37:58.738Z"
   },
   {
    "duration": 3546,
    "start_time": "2022-01-30T16:37:58.740Z"
   },
   {
    "duration": 3543,
    "start_time": "2022-01-30T16:37:58.743Z"
   },
   {
    "duration": 3543,
    "start_time": "2022-01-30T16:37:58.745Z"
   },
   {
    "duration": 3526,
    "start_time": "2022-01-30T16:37:58.762Z"
   },
   {
    "duration": 3521,
    "start_time": "2022-01-30T16:37:58.768Z"
   },
   {
    "duration": 3475,
    "start_time": "2022-01-30T16:37:58.814Z"
   },
   {
    "duration": 3473,
    "start_time": "2022-01-30T16:37:58.817Z"
   },
   {
    "duration": 3472,
    "start_time": "2022-01-30T16:37:58.819Z"
   },
   {
    "duration": 3470,
    "start_time": "2022-01-30T16:37:58.822Z"
   },
   {
    "duration": 3468,
    "start_time": "2022-01-30T16:37:58.825Z"
   },
   {
    "duration": 3466,
    "start_time": "2022-01-30T16:37:58.827Z"
   },
   {
    "duration": 3465,
    "start_time": "2022-01-30T16:37:58.829Z"
   },
   {
    "duration": 3464,
    "start_time": "2022-01-30T16:37:58.831Z"
   },
   {
    "duration": 3463,
    "start_time": "2022-01-30T16:37:58.833Z"
   },
   {
    "duration": 3461,
    "start_time": "2022-01-30T16:37:58.835Z"
   },
   {
    "duration": 3460,
    "start_time": "2022-01-30T16:37:58.837Z"
   },
   {
    "duration": 3430,
    "start_time": "2022-01-30T16:37:58.868Z"
   },
   {
    "duration": 3426,
    "start_time": "2022-01-30T16:37:58.873Z"
   },
   {
    "duration": 148,
    "start_time": "2022-01-30T16:38:32.978Z"
   },
   {
    "duration": 431,
    "start_time": "2022-01-30T16:38:55.667Z"
   },
   {
    "duration": 991,
    "start_time": "2022-01-30T16:39:13.701Z"
   },
   {
    "duration": 42,
    "start_time": "2022-01-30T16:39:14.695Z"
   },
   {
    "duration": 7,
    "start_time": "2022-01-30T16:39:14.739Z"
   },
   {
    "duration": 4,
    "start_time": "2022-01-30T16:39:14.747Z"
   },
   {
    "duration": 25,
    "start_time": "2022-01-30T16:39:14.752Z"
   },
   {
    "duration": 41,
    "start_time": "2022-01-30T16:39:14.778Z"
   },
   {
    "duration": 6,
    "start_time": "2022-01-30T16:39:14.820Z"
   },
   {
    "duration": 244,
    "start_time": "2022-01-30T16:39:14.827Z"
   },
   {
    "duration": 6,
    "start_time": "2022-01-30T16:39:15.075Z"
   },
   {
    "duration": 10,
    "start_time": "2022-01-30T16:39:15.085Z"
   },
   {
    "duration": 3,
    "start_time": "2022-01-30T16:39:15.097Z"
   },
   {
    "duration": 4,
    "start_time": "2022-01-30T16:39:15.104Z"
   },
   {
    "duration": 341,
    "start_time": "2022-01-30T16:39:15.109Z"
   },
   {
    "duration": 4,
    "start_time": "2022-01-30T16:39:15.452Z"
   },
   {
    "duration": 187,
    "start_time": "2022-01-30T16:39:15.457Z"
   },
   {
    "duration": 5,
    "start_time": "2022-01-30T16:39:15.646Z"
   },
   {
    "duration": 18,
    "start_time": "2022-01-30T16:39:15.653Z"
   },
   {
    "duration": 45,
    "start_time": "2022-01-30T16:39:15.673Z"
   },
   {
    "duration": 20,
    "start_time": "2022-01-30T16:39:15.719Z"
   },
   {
    "duration": 4,
    "start_time": "2022-01-30T16:39:15.740Z"
   },
   {
    "duration": 39,
    "start_time": "2022-01-30T16:39:15.745Z"
   },
   {
    "duration": 555,
    "start_time": "2022-01-30T16:39:15.785Z"
   },
   {
    "duration": 3521,
    "start_time": "2022-01-30T16:39:12.822Z"
   },
   {
    "duration": 3517,
    "start_time": "2022-01-30T16:39:12.827Z"
   },
   {
    "duration": 3516,
    "start_time": "2022-01-30T16:39:12.829Z"
   },
   {
    "duration": 3514,
    "start_time": "2022-01-30T16:39:12.832Z"
   },
   {
    "duration": 3513,
    "start_time": "2022-01-30T16:39:12.834Z"
   },
   {
    "duration": 3511,
    "start_time": "2022-01-30T16:39:12.837Z"
   },
   {
    "duration": 3510,
    "start_time": "2022-01-30T16:39:12.839Z"
   },
   {
    "duration": 3510,
    "start_time": "2022-01-30T16:39:12.841Z"
   },
   {
    "duration": 3509,
    "start_time": "2022-01-30T16:39:12.843Z"
   },
   {
    "duration": 3507,
    "start_time": "2022-01-30T16:39:12.845Z"
   },
   {
    "duration": 3505,
    "start_time": "2022-01-30T16:39:12.848Z"
   },
   {
    "duration": 3503,
    "start_time": "2022-01-30T16:39:12.851Z"
   },
   {
    "duration": 3502,
    "start_time": "2022-01-30T16:39:12.853Z"
   },
   {
    "duration": 3500,
    "start_time": "2022-01-30T16:39:12.856Z"
   },
   {
    "duration": 3498,
    "start_time": "2022-01-30T16:39:12.858Z"
   },
   {
    "duration": 3497,
    "start_time": "2022-01-30T16:39:12.860Z"
   },
   {
    "duration": 3485,
    "start_time": "2022-01-30T16:39:12.873Z"
   },
   {
    "duration": 3481,
    "start_time": "2022-01-30T16:39:12.878Z"
   },
   {
    "duration": 3479,
    "start_time": "2022-01-30T16:39:12.880Z"
   },
   {
    "duration": 3478,
    "start_time": "2022-01-30T16:39:12.882Z"
   },
   {
    "duration": 3477,
    "start_time": "2022-01-30T16:39:12.884Z"
   },
   {
    "duration": 3476,
    "start_time": "2022-01-30T16:39:12.886Z"
   },
   {
    "duration": 3474,
    "start_time": "2022-01-30T16:39:12.889Z"
   },
   {
    "duration": 3472,
    "start_time": "2022-01-30T16:39:12.892Z"
   },
   {
    "duration": 3470,
    "start_time": "2022-01-30T16:39:12.894Z"
   },
   {
    "duration": 3468,
    "start_time": "2022-01-30T16:39:12.897Z"
   },
   {
    "duration": 3467,
    "start_time": "2022-01-30T16:39:12.899Z"
   },
   {
    "duration": 3467,
    "start_time": "2022-01-30T16:39:12.901Z"
   },
   {
    "duration": 3467,
    "start_time": "2022-01-30T16:39:12.902Z"
   },
   {
    "duration": 3466,
    "start_time": "2022-01-30T16:39:12.904Z"
   },
   {
    "duration": 3464,
    "start_time": "2022-01-30T16:39:12.907Z"
   },
   {
    "duration": 3461,
    "start_time": "2022-01-30T16:39:12.910Z"
   },
   {
    "duration": 3459,
    "start_time": "2022-01-30T16:39:12.913Z"
   },
   {
    "duration": 2056,
    "start_time": "2022-01-30T16:40:12.399Z"
   },
   {
    "duration": 900,
    "start_time": "2022-01-30T16:40:40.015Z"
   },
   {
    "duration": 443,
    "start_time": "2022-01-30T16:42:00.303Z"
   },
   {
    "duration": 153,
    "start_time": "2022-01-30T16:42:20.871Z"
   },
   {
    "duration": 443,
    "start_time": "2022-01-30T16:42:41.168Z"
   },
   {
    "duration": 444,
    "start_time": "2022-01-30T16:43:04.127Z"
   },
   {
    "duration": 436,
    "start_time": "2022-01-30T16:43:33.343Z"
   },
   {
    "duration": 952,
    "start_time": "2022-01-30T16:43:39.728Z"
   },
   {
    "duration": 44,
    "start_time": "2022-01-30T16:43:40.682Z"
   },
   {
    "duration": 6,
    "start_time": "2022-01-30T16:43:40.728Z"
   },
   {
    "duration": 4,
    "start_time": "2022-01-30T16:43:40.736Z"
   },
   {
    "duration": 10,
    "start_time": "2022-01-30T16:43:40.741Z"
   },
   {
    "duration": 44,
    "start_time": "2022-01-30T16:43:40.752Z"
   },
   {
    "duration": 5,
    "start_time": "2022-01-30T16:43:40.797Z"
   },
   {
    "duration": 249,
    "start_time": "2022-01-30T16:43:40.804Z"
   },
   {
    "duration": 4,
    "start_time": "2022-01-30T16:43:41.056Z"
   },
   {
    "duration": 15,
    "start_time": "2022-01-30T16:43:41.061Z"
   },
   {
    "duration": 2,
    "start_time": "2022-01-30T16:43:41.078Z"
   },
   {
    "duration": 5,
    "start_time": "2022-01-30T16:43:41.081Z"
   },
   {
    "duration": 287,
    "start_time": "2022-01-30T16:43:41.087Z"
   },
   {
    "duration": 4,
    "start_time": "2022-01-30T16:43:41.375Z"
   },
   {
    "duration": 166,
    "start_time": "2022-01-30T16:43:41.380Z"
   },
   {
    "duration": 7,
    "start_time": "2022-01-30T16:43:41.548Z"
   },
   {
    "duration": 25,
    "start_time": "2022-01-30T16:43:41.556Z"
   },
   {
    "duration": 57,
    "start_time": "2022-01-30T16:43:41.583Z"
   },
   {
    "duration": 34,
    "start_time": "2022-01-30T16:43:41.642Z"
   },
   {
    "duration": 5,
    "start_time": "2022-01-30T16:43:41.678Z"
   },
   {
    "duration": 21,
    "start_time": "2022-01-30T16:43:41.685Z"
   },
   {
    "duration": 543,
    "start_time": "2022-01-30T16:43:41.708Z"
   },
   {
    "duration": 3602,
    "start_time": "2022-01-30T16:43:38.652Z"
   },
   {
    "duration": 3601,
    "start_time": "2022-01-30T16:43:38.654Z"
   },
   {
    "duration": 3598,
    "start_time": "2022-01-30T16:43:38.659Z"
   },
   {
    "duration": 3596,
    "start_time": "2022-01-30T16:43:38.662Z"
   },
   {
    "duration": 3595,
    "start_time": "2022-01-30T16:43:38.664Z"
   },
   {
    "duration": 3594,
    "start_time": "2022-01-30T16:43:38.666Z"
   },
   {
    "duration": 3593,
    "start_time": "2022-01-30T16:43:38.668Z"
   },
   {
    "duration": 3592,
    "start_time": "2022-01-30T16:43:38.670Z"
   },
   {
    "duration": 3591,
    "start_time": "2022-01-30T16:43:38.672Z"
   },
   {
    "duration": 3590,
    "start_time": "2022-01-30T16:43:38.674Z"
   },
   {
    "duration": 3588,
    "start_time": "2022-01-30T16:43:38.677Z"
   },
   {
    "duration": 3587,
    "start_time": "2022-01-30T16:43:38.679Z"
   },
   {
    "duration": 3586,
    "start_time": "2022-01-30T16:43:38.681Z"
   },
   {
    "duration": 3585,
    "start_time": "2022-01-30T16:43:38.683Z"
   },
   {
    "duration": 3584,
    "start_time": "2022-01-30T16:43:38.686Z"
   },
   {
    "duration": 3583,
    "start_time": "2022-01-30T16:43:38.688Z"
   },
   {
    "duration": 3581,
    "start_time": "2022-01-30T16:43:38.691Z"
   },
   {
    "duration": 3579,
    "start_time": "2022-01-30T16:43:38.694Z"
   },
   {
    "duration": 3579,
    "start_time": "2022-01-30T16:43:38.696Z"
   },
   {
    "duration": 3563,
    "start_time": "2022-01-30T16:43:38.713Z"
   },
   {
    "duration": 3560,
    "start_time": "2022-01-30T16:43:38.717Z"
   },
   {
    "duration": 3559,
    "start_time": "2022-01-30T16:43:38.720Z"
   },
   {
    "duration": 3558,
    "start_time": "2022-01-30T16:43:38.722Z"
   },
   {
    "duration": 3556,
    "start_time": "2022-01-30T16:43:38.726Z"
   },
   {
    "duration": 3555,
    "start_time": "2022-01-30T16:43:38.728Z"
   },
   {
    "duration": 3554,
    "start_time": "2022-01-30T16:43:38.730Z"
   },
   {
    "duration": 3555,
    "start_time": "2022-01-30T16:43:38.731Z"
   },
   {
    "duration": 3553,
    "start_time": "2022-01-30T16:43:38.734Z"
   },
   {
    "duration": 3552,
    "start_time": "2022-01-30T16:43:38.736Z"
   },
   {
    "duration": 3552,
    "start_time": "2022-01-30T16:43:38.738Z"
   },
   {
    "duration": 3551,
    "start_time": "2022-01-30T16:43:38.740Z"
   },
   {
    "duration": 3550,
    "start_time": "2022-01-30T16:43:38.742Z"
   },
   {
    "duration": 3549,
    "start_time": "2022-01-30T16:43:38.744Z"
   },
   {
    "duration": 436,
    "start_time": "2022-01-30T16:45:53.962Z"
   },
   {
    "duration": 401,
    "start_time": "2022-01-30T16:46:24.896Z"
   },
   {
    "duration": 153,
    "start_time": "2022-01-30T16:47:18.735Z"
   },
   {
    "duration": 1139,
    "start_time": "2022-01-30T16:47:28.846Z"
   },
   {
    "duration": 45,
    "start_time": "2022-01-30T16:47:29.987Z"
   },
   {
    "duration": 9,
    "start_time": "2022-01-30T16:47:30.034Z"
   },
   {
    "duration": 4,
    "start_time": "2022-01-30T16:47:30.045Z"
   },
   {
    "duration": 29,
    "start_time": "2022-01-30T16:47:30.051Z"
   },
   {
    "duration": 51,
    "start_time": "2022-01-30T16:47:30.082Z"
   },
   {
    "duration": 6,
    "start_time": "2022-01-30T16:47:30.135Z"
   },
   {
    "duration": 349,
    "start_time": "2022-01-30T16:47:30.144Z"
   },
   {
    "duration": 5,
    "start_time": "2022-01-30T16:47:30.495Z"
   },
   {
    "duration": 13,
    "start_time": "2022-01-30T16:47:30.502Z"
   },
   {
    "duration": 4,
    "start_time": "2022-01-30T16:47:30.517Z"
   },
   {
    "duration": 8,
    "start_time": "2022-01-30T16:47:30.522Z"
   },
   {
    "duration": 298,
    "start_time": "2022-01-30T16:47:30.531Z"
   },
   {
    "duration": 3,
    "start_time": "2022-01-30T16:47:30.831Z"
   },
   {
    "duration": 219,
    "start_time": "2022-01-30T16:47:30.836Z"
   },
   {
    "duration": 16,
    "start_time": "2022-01-30T16:47:31.057Z"
   },
   {
    "duration": 10,
    "start_time": "2022-01-30T16:47:31.075Z"
   },
   {
    "duration": 71,
    "start_time": "2022-01-30T16:47:31.087Z"
   },
   {
    "duration": 35,
    "start_time": "2022-01-30T16:47:31.160Z"
   },
   {
    "duration": 5,
    "start_time": "2022-01-30T16:47:31.197Z"
   },
   {
    "duration": 42,
    "start_time": "2022-01-30T16:47:31.204Z"
   },
   {
    "duration": 209,
    "start_time": "2022-01-30T16:47:31.248Z"
   },
   {
    "duration": 184,
    "start_time": "2022-01-30T16:47:31.463Z"
   },
   {
    "duration": 4,
    "start_time": "2022-01-30T16:47:31.650Z"
   },
   {
    "duration": 16,
    "start_time": "2022-01-30T16:47:31.656Z"
   },
   {
    "duration": 24,
    "start_time": "2022-01-30T16:47:31.674Z"
   },
   {
    "duration": 490,
    "start_time": "2022-01-30T16:47:31.699Z"
   },
   {
    "duration": 579,
    "start_time": "2022-01-30T16:47:32.194Z"
   },
   {
    "duration": 6,
    "start_time": "2022-01-30T16:47:32.775Z"
   },
   {
    "duration": 234,
    "start_time": "2022-01-30T16:47:32.872Z"
   },
   {
    "duration": 7,
    "start_time": "2022-01-30T16:47:33.108Z"
   },
   {
    "duration": 6,
    "start_time": "2022-01-30T16:47:33.117Z"
   },
   {
    "duration": 363,
    "start_time": "2022-01-30T16:47:33.125Z"
   },
   {
    "duration": 693,
    "start_time": "2022-01-30T16:47:33.490Z"
   },
   {
    "duration": 900,
    "start_time": "2022-01-30T16:47:34.186Z"
   },
   {
    "duration": 485,
    "start_time": "2022-01-30T16:47:35.088Z"
   },
   {
    "duration": 138,
    "start_time": "2022-01-30T16:47:35.576Z"
   },
   {
    "duration": 472,
    "start_time": "2022-01-30T16:47:35.715Z"
   },
   {
    "duration": 446,
    "start_time": "2022-01-30T16:47:36.189Z"
   },
   {
    "duration": 451,
    "start_time": "2022-01-30T16:47:36.636Z"
   },
   {
    "duration": 8,
    "start_time": "2022-01-30T16:47:37.088Z"
   },
   {
    "duration": 555,
    "start_time": "2022-01-30T16:47:37.098Z"
   },
   {
    "duration": 625,
    "start_time": "2022-01-30T16:47:37.655Z"
   },
   {
    "duration": 1018,
    "start_time": "2022-01-30T16:47:38.281Z"
   },
   {
    "duration": 1060,
    "start_time": "2022-01-30T16:47:39.301Z"
   },
   {
    "duration": 1768,
    "start_time": "2022-01-30T16:47:40.362Z"
   },
   {
    "duration": 1601,
    "start_time": "2022-01-30T16:47:42.132Z"
   },
   {
    "duration": 4,
    "start_time": "2022-01-30T16:47:43.735Z"
   },
   {
    "duration": 9,
    "start_time": "2022-01-30T16:47:43.740Z"
   },
   {
    "duration": 241,
    "start_time": "2022-01-30T16:47:43.751Z"
   },
   {
    "duration": 552,
    "start_time": "2022-01-30T16:47:43.993Z"
   },
   {
    "duration": 748,
    "start_time": "2022-01-30T16:47:44.546Z"
   },
   {
    "duration": 984,
    "start_time": "2022-01-30T16:47:45.296Z"
   },
   {
    "duration": 19,
    "start_time": "2022-01-30T16:47:46.281Z"
   },
   {
    "duration": 1001,
    "start_time": "2022-01-30T16:47:46.302Z"
   },
   {
    "duration": 39,
    "start_time": "2022-01-30T16:48:26.655Z"
   },
   {
    "duration": 40,
    "start_time": "2022-01-30T16:48:43.007Z"
   },
   {
    "duration": 28,
    "start_time": "2022-01-30T16:48:57.054Z"
   },
   {
    "duration": 40,
    "start_time": "2022-01-30T16:49:04.047Z"
   },
   {
    "duration": 1017,
    "start_time": "2022-01-30T16:49:20.116Z"
   },
   {
    "duration": 46,
    "start_time": "2022-01-30T16:49:21.135Z"
   },
   {
    "duration": 6,
    "start_time": "2022-01-30T16:49:21.183Z"
   },
   {
    "duration": 6,
    "start_time": "2022-01-30T16:49:21.191Z"
   },
   {
    "duration": 18,
    "start_time": "2022-01-30T16:49:21.198Z"
   },
   {
    "duration": 38,
    "start_time": "2022-01-30T16:49:21.217Z"
   },
   {
    "duration": 18,
    "start_time": "2022-01-30T16:49:21.257Z"
   },
   {
    "duration": 213,
    "start_time": "2022-01-30T16:49:21.276Z"
   },
   {
    "duration": 4,
    "start_time": "2022-01-30T16:49:21.491Z"
   },
   {
    "duration": 6,
    "start_time": "2022-01-30T16:49:21.497Z"
   },
   {
    "duration": 3,
    "start_time": "2022-01-30T16:49:21.504Z"
   },
   {
    "duration": 4,
    "start_time": "2022-01-30T16:49:21.509Z"
   },
   {
    "duration": 294,
    "start_time": "2022-01-30T16:49:21.515Z"
   },
   {
    "duration": 4,
    "start_time": "2022-01-30T16:49:21.810Z"
   },
   {
    "duration": 148,
    "start_time": "2022-01-30T16:49:21.816Z"
   },
   {
    "duration": 10,
    "start_time": "2022-01-30T16:49:21.965Z"
   },
   {
    "duration": 7,
    "start_time": "2022-01-30T16:49:21.977Z"
   },
   {
    "duration": 34,
    "start_time": "2022-01-30T16:49:21.985Z"
   },
   {
    "duration": 16,
    "start_time": "2022-01-30T16:49:22.020Z"
   },
   {
    "duration": 3,
    "start_time": "2022-01-30T16:49:22.038Z"
   },
   {
    "duration": 42,
    "start_time": "2022-01-30T16:49:22.042Z"
   },
   {
    "duration": 13,
    "start_time": "2022-01-30T16:49:22.085Z"
   },
   {
    "duration": 5,
    "start_time": "2022-01-30T16:49:22.099Z"
   },
   {
    "duration": 3,
    "start_time": "2022-01-30T16:49:22.105Z"
   },
   {
    "duration": 3,
    "start_time": "2022-01-30T16:49:22.110Z"
   },
   {
    "duration": 13,
    "start_time": "2022-01-30T16:49:22.115Z"
   },
   {
    "duration": 58,
    "start_time": "2022-01-30T16:49:22.131Z"
   },
   {
    "duration": 199,
    "start_time": "2022-01-30T16:49:22.274Z"
   },
   {
    "duration": 4,
    "start_time": "2022-01-30T16:49:22.475Z"
   },
   {
    "duration": 105,
    "start_time": "2022-01-30T16:49:22.481Z"
   },
   {
    "duration": 5,
    "start_time": "2022-01-30T16:49:22.588Z"
   },
   {
    "duration": 10,
    "start_time": "2022-01-30T16:49:22.595Z"
   },
   {
    "duration": 12,
    "start_time": "2022-01-30T16:49:22.607Z"
   },
   {
    "duration": 151,
    "start_time": "2022-01-30T16:49:22.620Z"
   },
   {
    "duration": 203,
    "start_time": "2022-01-30T16:49:22.774Z"
   },
   {
    "duration": 206,
    "start_time": "2022-01-30T16:49:22.979Z"
   },
   {
    "duration": 211,
    "start_time": "2022-01-30T16:49:23.188Z"
   },
   {
    "duration": 413,
    "start_time": "2022-01-30T16:49:23.400Z"
   },
   {
    "duration": 416,
    "start_time": "2022-01-30T16:49:23.815Z"
   },
   {
    "duration": 417,
    "start_time": "2022-01-30T16:49:24.232Z"
   },
   {
    "duration": 9,
    "start_time": "2022-01-30T16:49:24.651Z"
   },
   {
    "duration": 626,
    "start_time": "2022-01-30T16:49:24.661Z"
   },
   {
    "duration": 551,
    "start_time": "2022-01-30T16:49:25.289Z"
   },
   {
    "duration": 1008,
    "start_time": "2022-01-30T16:49:25.841Z"
   },
   {
    "duration": 904,
    "start_time": "2022-01-30T16:49:26.851Z"
   },
   {
    "duration": 1328,
    "start_time": "2022-01-30T16:49:27.756Z"
   },
   {
    "duration": 1317,
    "start_time": "2022-01-30T16:49:29.086Z"
   },
   {
    "duration": 3,
    "start_time": "2022-01-30T16:49:30.405Z"
   },
   {
    "duration": 12,
    "start_time": "2022-01-30T16:49:30.410Z"
   },
   {
    "duration": 154,
    "start_time": "2022-01-30T16:49:30.423Z"
   },
   {
    "duration": 584,
    "start_time": "2022-01-30T16:49:30.579Z"
   },
   {
    "duration": 712,
    "start_time": "2022-01-30T16:49:31.165Z"
   },
   {
    "duration": 898,
    "start_time": "2022-01-30T16:49:31.879Z"
   },
   {
    "duration": 13,
    "start_time": "2022-01-30T16:49:32.779Z"
   },
   {
    "duration": 196,
    "start_time": "2022-01-30T16:49:32.793Z"
   },
   {
    "duration": 1092,
    "start_time": "2022-01-30T16:49:41.891Z"
   },
   {
    "duration": 48,
    "start_time": "2022-01-30T16:49:42.985Z"
   },
   {
    "duration": 7,
    "start_time": "2022-01-30T16:49:43.035Z"
   },
   {
    "duration": 5,
    "start_time": "2022-01-30T16:49:43.044Z"
   },
   {
    "duration": 11,
    "start_time": "2022-01-30T16:49:43.050Z"
   },
   {
    "duration": 37,
    "start_time": "2022-01-30T16:49:43.062Z"
   },
   {
    "duration": 5,
    "start_time": "2022-01-30T16:49:43.100Z"
   },
   {
    "duration": 223,
    "start_time": "2022-01-30T16:49:43.107Z"
   },
   {
    "duration": 4,
    "start_time": "2022-01-30T16:49:43.332Z"
   },
   {
    "duration": 8,
    "start_time": "2022-01-30T16:49:43.338Z"
   },
   {
    "duration": 2,
    "start_time": "2022-01-30T16:49:43.348Z"
   },
   {
    "duration": 21,
    "start_time": "2022-01-30T16:49:43.352Z"
   },
   {
    "duration": 278,
    "start_time": "2022-01-30T16:49:43.374Z"
   },
   {
    "duration": 3,
    "start_time": "2022-01-30T16:49:43.654Z"
   },
   {
    "duration": 153,
    "start_time": "2022-01-30T16:49:43.659Z"
   },
   {
    "duration": 6,
    "start_time": "2022-01-30T16:49:43.814Z"
   },
   {
    "duration": 7,
    "start_time": "2022-01-30T16:49:43.821Z"
   },
   {
    "duration": 50,
    "start_time": "2022-01-30T16:49:43.829Z"
   },
   {
    "duration": 18,
    "start_time": "2022-01-30T16:49:43.881Z"
   },
   {
    "duration": 4,
    "start_time": "2022-01-30T16:49:43.901Z"
   },
   {
    "duration": 17,
    "start_time": "2022-01-30T16:49:43.906Z"
   },
   {
    "duration": 13,
    "start_time": "2022-01-30T16:49:43.924Z"
   },
   {
    "duration": 33,
    "start_time": "2022-01-30T16:49:43.938Z"
   },
   {
    "duration": 3,
    "start_time": "2022-01-30T16:49:43.973Z"
   },
   {
    "duration": 4,
    "start_time": "2022-01-30T16:49:43.977Z"
   },
   {
    "duration": 12,
    "start_time": "2022-01-30T16:49:43.983Z"
   },
   {
    "duration": 82,
    "start_time": "2022-01-30T16:49:43.999Z"
   },
   {
    "duration": 202,
    "start_time": "2022-01-30T16:49:44.172Z"
   },
   {
    "duration": 95,
    "start_time": "2022-01-30T16:49:44.377Z"
   },
   {
    "duration": 12,
    "start_time": "2022-01-30T16:49:44.474Z"
   },
   {
    "duration": 5,
    "start_time": "2022-01-30T16:49:44.488Z"
   },
   {
    "duration": 5,
    "start_time": "2022-01-30T16:49:44.495Z"
   },
   {
    "duration": 11,
    "start_time": "2022-01-30T16:49:44.502Z"
   },
   {
    "duration": 161,
    "start_time": "2022-01-30T16:49:44.514Z"
   },
   {
    "duration": 199,
    "start_time": "2022-01-30T16:49:44.677Z"
   },
   {
    "duration": 210,
    "start_time": "2022-01-30T16:49:44.878Z"
   },
   {
    "duration": 208,
    "start_time": "2022-01-30T16:49:45.090Z"
   },
   {
    "duration": 393,
    "start_time": "2022-01-30T16:49:45.300Z"
   },
   {
    "duration": 402,
    "start_time": "2022-01-30T16:49:45.695Z"
   },
   {
    "duration": 402,
    "start_time": "2022-01-30T16:49:46.098Z"
   },
   {
    "duration": 8,
    "start_time": "2022-01-30T16:49:46.502Z"
   },
   {
    "duration": 519,
    "start_time": "2022-01-30T16:49:46.512Z"
   },
   {
    "duration": 552,
    "start_time": "2022-01-30T16:49:47.033Z"
   },
   {
    "duration": 946,
    "start_time": "2022-01-30T16:49:47.587Z"
   },
   {
    "duration": 925,
    "start_time": "2022-01-30T16:49:48.534Z"
   },
   {
    "duration": 1271,
    "start_time": "2022-01-30T16:49:49.460Z"
   },
   {
    "duration": 1311,
    "start_time": "2022-01-30T16:49:50.732Z"
   },
   {
    "duration": 4,
    "start_time": "2022-01-30T16:49:52.044Z"
   },
   {
    "duration": 10,
    "start_time": "2022-01-30T16:49:52.049Z"
   },
   {
    "duration": 113,
    "start_time": "2022-01-30T16:49:52.061Z"
   },
   {
    "duration": 576,
    "start_time": "2022-01-30T16:49:52.176Z"
   },
   {
    "duration": 712,
    "start_time": "2022-01-30T16:49:52.754Z"
   },
   {
    "duration": 919,
    "start_time": "2022-01-30T16:49:53.468Z"
   },
   {
    "duration": 12,
    "start_time": "2022-01-30T16:49:54.388Z"
   },
   {
    "duration": 187,
    "start_time": "2022-01-30T16:49:54.402Z"
   },
   {
    "duration": 35,
    "start_time": "2022-01-30T16:53:28.651Z"
   },
   {
    "duration": 957,
    "start_time": "2022-01-30T16:53:36.017Z"
   },
   {
    "duration": 47,
    "start_time": "2022-01-30T16:53:36.976Z"
   },
   {
    "duration": 8,
    "start_time": "2022-01-30T16:53:37.025Z"
   },
   {
    "duration": 5,
    "start_time": "2022-01-30T16:53:37.036Z"
   },
   {
    "duration": 12,
    "start_time": "2022-01-30T16:53:37.042Z"
   },
   {
    "duration": 49,
    "start_time": "2022-01-30T16:53:37.055Z"
   },
   {
    "duration": 5,
    "start_time": "2022-01-30T16:53:37.106Z"
   },
   {
    "duration": 235,
    "start_time": "2022-01-30T16:53:37.112Z"
   },
   {
    "duration": 4,
    "start_time": "2022-01-30T16:53:37.350Z"
   },
   {
    "duration": 17,
    "start_time": "2022-01-30T16:53:37.355Z"
   },
   {
    "duration": 2,
    "start_time": "2022-01-30T16:53:37.373Z"
   },
   {
    "duration": 4,
    "start_time": "2022-01-30T16:53:37.377Z"
   },
   {
    "duration": 282,
    "start_time": "2022-01-30T16:53:37.383Z"
   },
   {
    "duration": 6,
    "start_time": "2022-01-30T16:53:37.667Z"
   },
   {
    "duration": 158,
    "start_time": "2022-01-30T16:53:37.674Z"
   },
   {
    "duration": 6,
    "start_time": "2022-01-30T16:53:37.834Z"
   },
   {
    "duration": 8,
    "start_time": "2022-01-30T16:53:37.842Z"
   },
   {
    "duration": 52,
    "start_time": "2022-01-30T16:53:37.851Z"
   },
   {
    "duration": 18,
    "start_time": "2022-01-30T16:53:37.905Z"
   },
   {
    "duration": 3,
    "start_time": "2022-01-30T16:53:37.924Z"
   },
   {
    "duration": 19,
    "start_time": "2022-01-30T16:53:37.929Z"
   },
   {
    "duration": 179,
    "start_time": "2022-01-30T16:53:37.972Z"
   },
   {
    "duration": 121,
    "start_time": "2022-01-30T16:53:38.153Z"
   },
   {
    "duration": 4,
    "start_time": "2022-01-30T16:53:38.276Z"
   },
   {
    "duration": 5,
    "start_time": "2022-01-30T16:53:38.281Z"
   },
   {
    "duration": 17,
    "start_time": "2022-01-30T16:53:38.287Z"
   },
   {
    "duration": 473,
    "start_time": "2022-01-30T16:53:38.308Z"
   },
   {
    "duration": 689,
    "start_time": "2022-01-30T16:53:38.784Z"
   },
   {
    "duration": 5,
    "start_time": "2022-01-30T16:53:39.475Z"
   },
   {
    "duration": 148,
    "start_time": "2022-01-30T16:53:39.572Z"
   },
   {
    "duration": 6,
    "start_time": "2022-01-30T16:53:39.722Z"
   },
   {
    "duration": 6,
    "start_time": "2022-01-30T16:53:39.730Z"
   },
   {
    "duration": 243,
    "start_time": "2022-01-30T16:53:39.737Z"
   },
   {
    "duration": 597,
    "start_time": "2022-01-30T16:53:39.982Z"
   },
   {
    "duration": 794,
    "start_time": "2022-01-30T16:53:40.581Z"
   },
   {
    "duration": 401,
    "start_time": "2022-01-30T16:53:41.377Z"
   },
   {
    "duration": 129,
    "start_time": "2022-01-30T16:53:41.780Z"
   },
   {
    "duration": 452,
    "start_time": "2022-01-30T16:53:41.911Z"
   },
   {
    "duration": 434,
    "start_time": "2022-01-30T16:53:42.365Z"
   },
   {
    "duration": 474,
    "start_time": "2022-01-30T16:53:42.801Z"
   },
   {
    "duration": 8,
    "start_time": "2022-01-30T16:53:43.276Z"
   },
   {
    "duration": 565,
    "start_time": "2022-01-30T16:53:43.286Z"
   },
   {
    "duration": 595,
    "start_time": "2022-01-30T16:53:43.853Z"
   },
   {
    "duration": 1024,
    "start_time": "2022-01-30T16:53:44.449Z"
   },
   {
    "duration": 976,
    "start_time": "2022-01-30T16:53:45.474Z"
   },
   {
    "duration": 1361,
    "start_time": "2022-01-30T16:53:46.452Z"
   },
   {
    "duration": 1377,
    "start_time": "2022-01-30T16:53:47.814Z"
   },
   {
    "duration": 3,
    "start_time": "2022-01-30T16:53:49.193Z"
   },
   {
    "duration": 9,
    "start_time": "2022-01-30T16:53:49.198Z"
   },
   {
    "duration": 80,
    "start_time": "2022-01-30T16:53:49.209Z"
   },
   {
    "duration": 720,
    "start_time": "2022-01-30T16:53:49.291Z"
   },
   {
    "duration": 741,
    "start_time": "2022-01-30T16:53:50.013Z"
   },
   {
    "duration": 968,
    "start_time": "2022-01-30T16:53:50.755Z"
   },
   {
    "duration": 23,
    "start_time": "2022-01-30T16:53:51.724Z"
   },
   {
    "duration": 843,
    "start_time": "2022-01-30T16:53:51.748Z"
   },
   {
    "duration": 1848,
    "start_time": "2022-01-30T16:54:20.247Z"
   },
   {
    "duration": 494,
    "start_time": "2022-01-30T16:54:39.495Z"
   },
   {
    "duration": 145,
    "start_time": "2022-01-30T16:54:59.327Z"
   },
   {
    "duration": 518,
    "start_time": "2022-01-30T16:55:15.110Z"
   },
   {
    "duration": 157,
    "start_time": "2022-01-30T16:55:33.871Z"
   },
   {
    "duration": 152,
    "start_time": "2022-01-30T16:55:52.689Z"
   },
   {
    "duration": 175,
    "start_time": "2022-01-30T16:56:06.215Z"
   },
   {
    "duration": 173,
    "start_time": "2022-01-30T16:56:22.776Z"
   },
   {
    "duration": 1018,
    "start_time": "2022-01-30T16:57:04.722Z"
   },
   {
    "duration": 42,
    "start_time": "2022-01-30T16:57:05.741Z"
   },
   {
    "duration": 8,
    "start_time": "2022-01-30T16:57:05.785Z"
   },
   {
    "duration": 5,
    "start_time": "2022-01-30T16:57:05.794Z"
   },
   {
    "duration": 12,
    "start_time": "2022-01-30T16:57:05.800Z"
   },
   {
    "duration": 37,
    "start_time": "2022-01-30T16:57:05.814Z"
   },
   {
    "duration": 7,
    "start_time": "2022-01-30T16:57:05.871Z"
   },
   {
    "duration": 242,
    "start_time": "2022-01-30T16:57:05.879Z"
   },
   {
    "duration": 5,
    "start_time": "2022-01-30T16:57:06.125Z"
   },
   {
    "duration": 8,
    "start_time": "2022-01-30T16:57:06.132Z"
   },
   {
    "duration": 3,
    "start_time": "2022-01-30T16:57:06.142Z"
   },
   {
    "duration": 28,
    "start_time": "2022-01-30T16:57:06.146Z"
   },
   {
    "duration": 283,
    "start_time": "2022-01-30T16:57:06.175Z"
   },
   {
    "duration": 4,
    "start_time": "2022-01-30T16:57:06.460Z"
   },
   {
    "duration": 148,
    "start_time": "2022-01-30T16:57:06.472Z"
   },
   {
    "duration": 5,
    "start_time": "2022-01-30T16:57:06.622Z"
   },
   {
    "duration": 7,
    "start_time": "2022-01-30T16:57:06.629Z"
   },
   {
    "duration": 54,
    "start_time": "2022-01-30T16:57:06.637Z"
   },
   {
    "duration": 19,
    "start_time": "2022-01-30T16:57:06.693Z"
   },
   {
    "duration": 3,
    "start_time": "2022-01-30T16:57:06.714Z"
   },
   {
    "duration": 18,
    "start_time": "2022-01-30T16:57:06.719Z"
   },
   {
    "duration": 193,
    "start_time": "2022-01-30T16:57:06.738Z"
   },
   {
    "duration": 119,
    "start_time": "2022-01-30T16:57:06.932Z"
   },
   {
    "duration": 4,
    "start_time": "2022-01-30T16:57:07.052Z"
   },
   {
    "duration": 15,
    "start_time": "2022-01-30T16:57:07.058Z"
   },
   {
    "duration": 16,
    "start_time": "2022-01-30T16:57:07.074Z"
   },
   {
    "duration": 482,
    "start_time": "2022-01-30T16:57:07.094Z"
   },
   {
    "duration": 592,
    "start_time": "2022-01-30T16:57:07.582Z"
   },
   {
    "duration": 96,
    "start_time": "2022-01-30T16:57:08.176Z"
   },
   {
    "duration": 152,
    "start_time": "2022-01-30T16:57:08.274Z"
   },
   {
    "duration": 7,
    "start_time": "2022-01-30T16:57:08.427Z"
   },
   {
    "duration": 19,
    "start_time": "2022-01-30T16:57:08.435Z"
   },
   {
    "duration": 225,
    "start_time": "2022-01-30T16:57:08.455Z"
   },
   {
    "duration": 600,
    "start_time": "2022-01-30T16:57:08.681Z"
   },
   {
    "duration": 801,
    "start_time": "2022-01-30T16:57:09.283Z"
   },
   {
    "duration": 485,
    "start_time": "2022-01-30T16:57:10.087Z"
   },
   {
    "duration": 120,
    "start_time": "2022-01-30T16:57:10.573Z"
   },
   {
    "duration": 450,
    "start_time": "2022-01-30T16:57:10.694Z"
   },
   {
    "duration": 569,
    "start_time": "2022-01-30T16:57:11.146Z"
   },
   {
    "duration": 505,
    "start_time": "2022-01-30T16:57:11.771Z"
   },
   {
    "duration": 8,
    "start_time": "2022-01-30T16:57:12.277Z"
   },
   {
    "duration": 551,
    "start_time": "2022-01-30T16:57:12.286Z"
   },
   {
    "duration": 603,
    "start_time": "2022-01-30T16:57:12.839Z"
   },
   {
    "duration": 1006,
    "start_time": "2022-01-30T16:57:13.444Z"
   },
   {
    "duration": 1184,
    "start_time": "2022-01-30T16:57:14.452Z"
   },
   {
    "duration": 1382,
    "start_time": "2022-01-30T16:57:15.638Z"
   },
   {
    "duration": 1357,
    "start_time": "2022-01-30T16:57:17.021Z"
   },
   {
    "duration": 4,
    "start_time": "2022-01-30T16:57:18.380Z"
   },
   {
    "duration": 9,
    "start_time": "2022-01-30T16:57:18.385Z"
   },
   {
    "duration": 85,
    "start_time": "2022-01-30T16:57:18.395Z"
   },
   {
    "duration": 738,
    "start_time": "2022-01-30T16:57:18.481Z"
   },
   {
    "duration": 737,
    "start_time": "2022-01-30T16:57:19.221Z"
   },
   {
    "duration": 960,
    "start_time": "2022-01-30T16:57:19.959Z"
   },
   {
    "duration": 20,
    "start_time": "2022-01-30T16:57:20.920Z"
   },
   {
    "duration": 840,
    "start_time": "2022-01-30T16:57:20.942Z"
   },
   {
    "duration": 93,
    "start_time": "2022-01-30T17:05:00.377Z"
   },
   {
    "duration": 106,
    "start_time": "2022-01-30T17:09:22.695Z"
   },
   {
    "duration": 163,
    "start_time": "2022-01-30T17:18:25.591Z"
   },
   {
    "duration": 96,
    "start_time": "2022-01-30T17:19:21.591Z"
   },
   {
    "duration": 253,
    "start_time": "2022-01-30T17:19:54.519Z"
   },
   {
    "duration": 988,
    "start_time": "2022-01-30T17:20:20.198Z"
   },
   {
    "duration": 42,
    "start_time": "2022-01-30T17:20:21.188Z"
   },
   {
    "duration": 8,
    "start_time": "2022-01-30T17:20:21.232Z"
   },
   {
    "duration": 4,
    "start_time": "2022-01-30T17:20:21.242Z"
   },
   {
    "duration": 11,
    "start_time": "2022-01-30T17:20:21.248Z"
   },
   {
    "duration": 45,
    "start_time": "2022-01-30T17:20:21.260Z"
   },
   {
    "duration": 5,
    "start_time": "2022-01-30T17:20:21.306Z"
   },
   {
    "duration": 230,
    "start_time": "2022-01-30T17:20:21.313Z"
   },
   {
    "duration": 4,
    "start_time": "2022-01-30T17:20:21.546Z"
   },
   {
    "duration": 20,
    "start_time": "2022-01-30T17:20:21.552Z"
   },
   {
    "duration": 3,
    "start_time": "2022-01-30T17:20:21.573Z"
   },
   {
    "duration": 5,
    "start_time": "2022-01-30T17:20:21.577Z"
   },
   {
    "duration": 285,
    "start_time": "2022-01-30T17:20:21.583Z"
   },
   {
    "duration": 4,
    "start_time": "2022-01-30T17:20:21.869Z"
   },
   {
    "duration": 160,
    "start_time": "2022-01-30T17:20:21.875Z"
   },
   {
    "duration": 6,
    "start_time": "2022-01-30T17:20:22.036Z"
   },
   {
    "duration": 8,
    "start_time": "2022-01-30T17:20:22.043Z"
   },
   {
    "duration": 49,
    "start_time": "2022-01-30T17:20:22.053Z"
   },
   {
    "duration": 17,
    "start_time": "2022-01-30T17:20:22.103Z"
   },
   {
    "duration": 4,
    "start_time": "2022-01-30T17:20:22.121Z"
   },
   {
    "duration": 19,
    "start_time": "2022-01-30T17:20:22.126Z"
   },
   {
    "duration": 199,
    "start_time": "2022-01-30T17:20:22.147Z"
   },
   {
    "duration": 117,
    "start_time": "2022-01-30T17:20:22.347Z"
   },
   {
    "duration": 7,
    "start_time": "2022-01-30T17:20:22.466Z"
   },
   {
    "duration": 4,
    "start_time": "2022-01-30T17:20:22.474Z"
   },
   {
    "duration": 15,
    "start_time": "2022-01-30T17:20:22.480Z"
   },
   {
    "duration": 483,
    "start_time": "2022-01-30T17:20:22.499Z"
   },
   {
    "duration": 695,
    "start_time": "2022-01-30T17:20:22.985Z"
   },
   {
    "duration": 92,
    "start_time": "2022-01-30T17:20:23.682Z"
   },
   {
    "duration": 193,
    "start_time": "2022-01-30T17:20:23.776Z"
   },
   {
    "duration": 5,
    "start_time": "2022-01-30T17:20:23.971Z"
   },
   {
    "duration": 7,
    "start_time": "2022-01-30T17:20:23.978Z"
   },
   {
    "duration": 249,
    "start_time": "2022-01-30T17:20:23.987Z"
   },
   {
    "duration": 642,
    "start_time": "2022-01-30T17:20:24.238Z"
   },
   {
    "duration": 895,
    "start_time": "2022-01-30T17:20:24.882Z"
   },
   {
    "duration": 408,
    "start_time": "2022-01-30T17:20:25.779Z"
   },
   {
    "duration": 132,
    "start_time": "2022-01-30T17:20:26.273Z"
   },
   {
    "duration": 460,
    "start_time": "2022-01-30T17:20:26.407Z"
   },
   {
    "duration": 446,
    "start_time": "2022-01-30T17:20:26.872Z"
   },
   {
    "duration": 437,
    "start_time": "2022-01-30T17:20:27.320Z"
   },
   {
    "duration": 12,
    "start_time": "2022-01-30T17:20:27.759Z"
   },
   {
    "duration": 565,
    "start_time": "2022-01-30T17:20:27.773Z"
   },
   {
    "duration": 591,
    "start_time": "2022-01-30T17:20:28.339Z"
   },
   {
    "duration": 988,
    "start_time": "2022-01-30T17:20:28.932Z"
   },
   {
    "duration": 1040,
    "start_time": "2022-01-30T17:20:29.922Z"
   },
   {
    "duration": 1356,
    "start_time": "2022-01-30T17:20:30.964Z"
   },
   {
    "duration": 1394,
    "start_time": "2022-01-30T17:20:32.322Z"
   },
   {
    "duration": 4,
    "start_time": "2022-01-30T17:20:33.718Z"
   },
   {
    "duration": 10,
    "start_time": "2022-01-30T17:20:33.724Z"
   },
   {
    "duration": 140,
    "start_time": "2022-01-30T17:20:33.735Z"
   },
   {
    "duration": 635,
    "start_time": "2022-01-30T17:20:33.878Z"
   },
   {
    "duration": 750,
    "start_time": "2022-01-30T17:20:34.514Z"
   },
   {
    "duration": 1010,
    "start_time": "2022-01-30T17:20:35.272Z"
   },
   {
    "duration": 20,
    "start_time": "2022-01-30T17:20:36.284Z"
   },
   {
    "duration": 879,
    "start_time": "2022-01-30T17:20:36.305Z"
   },
   {
    "duration": 2423,
    "start_time": "2022-01-30T17:20:52.318Z"
   },
   {
    "duration": 1365,
    "start_time": "2022-01-30T17:21:05.773Z"
   },
   {
    "duration": 1056,
    "start_time": "2022-02-01T16:02:39.073Z"
   },
   {
    "duration": 42,
    "start_time": "2022-02-01T16:02:40.130Z"
   },
   {
    "duration": 9,
    "start_time": "2022-02-01T16:02:40.174Z"
   },
   {
    "duration": 4,
    "start_time": "2022-02-01T16:02:40.185Z"
   },
   {
    "duration": 29,
    "start_time": "2022-02-01T16:02:40.191Z"
   },
   {
    "duration": 42,
    "start_time": "2022-02-01T16:02:40.222Z"
   },
   {
    "duration": 6,
    "start_time": "2022-02-01T16:02:40.265Z"
   },
   {
    "duration": 299,
    "start_time": "2022-02-01T16:02:40.273Z"
   },
   {
    "duration": 4,
    "start_time": "2022-02-01T16:02:40.574Z"
   },
   {
    "duration": 8,
    "start_time": "2022-02-01T16:02:40.580Z"
   },
   {
    "duration": 3,
    "start_time": "2022-02-01T16:02:40.589Z"
   },
   {
    "duration": 6,
    "start_time": "2022-02-01T16:02:40.616Z"
   },
   {
    "duration": 339,
    "start_time": "2022-02-01T16:02:40.624Z"
   },
   {
    "duration": 4,
    "start_time": "2022-02-01T16:02:40.965Z"
   },
   {
    "duration": 209,
    "start_time": "2022-02-01T16:02:40.971Z"
   },
   {
    "duration": 8,
    "start_time": "2022-02-01T16:02:41.182Z"
   },
   {
    "duration": 26,
    "start_time": "2022-02-01T16:02:41.192Z"
   },
   {
    "duration": 45,
    "start_time": "2022-02-01T16:02:41.219Z"
   },
   {
    "duration": 21,
    "start_time": "2022-02-01T16:02:41.266Z"
   },
   {
    "duration": 34,
    "start_time": "2022-02-01T16:02:41.289Z"
   },
   {
    "duration": 38,
    "start_time": "2022-02-01T16:02:41.326Z"
   },
   {
    "duration": 211,
    "start_time": "2022-02-01T16:02:41.366Z"
   },
   {
    "duration": 134,
    "start_time": "2022-02-01T16:02:41.581Z"
   },
   {
    "duration": 6,
    "start_time": "2022-02-01T16:02:41.718Z"
   },
   {
    "duration": 10,
    "start_time": "2022-02-01T16:02:41.726Z"
   },
   {
    "duration": 20,
    "start_time": "2022-02-01T16:02:41.737Z"
   },
   {
    "duration": 381,
    "start_time": "2022-02-01T16:02:41.758Z"
   },
   {
    "duration": 518,
    "start_time": "2022-02-01T16:02:42.213Z"
   },
   {
    "duration": 83,
    "start_time": "2022-02-01T16:02:42.733Z"
   },
   {
    "duration": 278,
    "start_time": "2022-02-01T16:02:42.826Z"
   },
   {
    "duration": 11,
    "start_time": "2022-02-01T16:02:43.106Z"
   },
   {
    "duration": 9,
    "start_time": "2022-02-01T16:02:43.119Z"
   },
   {
    "duration": 280,
    "start_time": "2022-02-01T16:02:43.129Z"
   },
   {
    "duration": 624,
    "start_time": "2022-02-01T16:02:43.412Z"
   },
   {
    "duration": 798,
    "start_time": "2022-02-01T16:02:44.038Z"
   },
   {
    "duration": 476,
    "start_time": "2022-02-01T16:02:44.838Z"
   },
   {
    "duration": 130,
    "start_time": "2022-02-01T16:02:45.317Z"
   },
   {
    "duration": 541,
    "start_time": "2022-02-01T16:02:45.449Z"
   },
   {
    "duration": 511,
    "start_time": "2022-02-01T16:02:45.992Z"
   },
   {
    "duration": 535,
    "start_time": "2022-02-01T16:02:46.504Z"
   },
   {
    "duration": 8,
    "start_time": "2022-02-01T16:02:47.041Z"
   },
   {
    "duration": 666,
    "start_time": "2022-02-01T16:02:47.050Z"
   },
   {
    "duration": 658,
    "start_time": "2022-02-01T16:02:47.718Z"
   },
   {
    "duration": 1152,
    "start_time": "2022-02-01T16:02:48.378Z"
   },
   {
    "duration": 1147,
    "start_time": "2022-02-01T16:02:49.532Z"
   },
   {
    "duration": 1573,
    "start_time": "2022-02-01T16:02:50.680Z"
   },
   {
    "duration": 1574,
    "start_time": "2022-02-01T16:02:52.255Z"
   },
   {
    "duration": 4,
    "start_time": "2022-02-01T16:02:53.831Z"
   },
   {
    "duration": 10,
    "start_time": "2022-02-01T16:02:53.837Z"
   },
   {
    "duration": 169,
    "start_time": "2022-02-01T16:02:53.849Z"
   },
   {
    "duration": 721,
    "start_time": "2022-02-01T16:02:54.020Z"
   },
   {
    "duration": 884,
    "start_time": "2022-02-01T16:02:54.742Z"
   },
   {
    "duration": 1125,
    "start_time": "2022-02-01T16:02:55.628Z"
   },
   {
    "duration": 22,
    "start_time": "2022-02-01T16:02:56.755Z"
   },
   {
    "duration": 1011,
    "start_time": "2022-02-01T16:02:56.778Z"
   },
   {
    "duration": 297,
    "start_time": "2022-02-01T16:07:57.464Z"
   },
   {
    "duration": 8,
    "start_time": "2022-02-01T16:08:08.557Z"
   },
   {
    "duration": 202,
    "start_time": "2022-02-01T16:09:05.089Z"
   },
   {
    "duration": 183,
    "start_time": "2022-02-01T16:09:13.508Z"
   },
   {
    "duration": 194,
    "start_time": "2022-02-01T16:09:46.248Z"
   },
   {
    "duration": 9,
    "start_time": "2022-02-01T16:09:51.045Z"
   },
   {
    "duration": 273,
    "start_time": "2022-02-01T16:10:03.783Z"
   },
   {
    "duration": 9,
    "start_time": "2022-02-01T16:10:14.469Z"
   },
   {
    "duration": 23,
    "start_time": "2022-02-01T16:10:23.718Z"
   },
   {
    "duration": 1022,
    "start_time": "2022-02-01T16:13:01.361Z"
   },
   {
    "duration": 44,
    "start_time": "2022-02-01T16:13:02.385Z"
   },
   {
    "duration": 11,
    "start_time": "2022-02-01T16:13:02.432Z"
   },
   {
    "duration": 5,
    "start_time": "2022-02-01T16:13:02.445Z"
   },
   {
    "duration": 16,
    "start_time": "2022-02-01T16:13:02.452Z"
   },
   {
    "duration": 73,
    "start_time": "2022-02-01T16:13:02.470Z"
   },
   {
    "duration": 6,
    "start_time": "2022-02-01T16:13:02.545Z"
   },
   {
    "duration": 293,
    "start_time": "2022-02-01T16:13:02.553Z"
   },
   {
    "duration": 9,
    "start_time": "2022-02-01T16:13:02.850Z"
   },
   {
    "duration": 9,
    "start_time": "2022-02-01T16:13:02.863Z"
   },
   {
    "duration": 2,
    "start_time": "2022-02-01T16:13:02.874Z"
   },
   {
    "duration": 5,
    "start_time": "2022-02-01T16:13:02.878Z"
   },
   {
    "duration": 357,
    "start_time": "2022-02-01T16:13:02.884Z"
   },
   {
    "duration": 5,
    "start_time": "2022-02-01T16:13:03.242Z"
   },
   {
    "duration": 211,
    "start_time": "2022-02-01T16:13:03.249Z"
   },
   {
    "duration": 7,
    "start_time": "2022-02-01T16:13:03.462Z"
   },
   {
    "duration": 9,
    "start_time": "2022-02-01T16:13:03.471Z"
   },
   {
    "duration": 65,
    "start_time": "2022-02-01T16:13:03.481Z"
   },
   {
    "duration": 22,
    "start_time": "2022-02-01T16:13:03.547Z"
   },
   {
    "duration": 4,
    "start_time": "2022-02-01T16:13:03.570Z"
   },
   {
    "duration": 45,
    "start_time": "2022-02-01T16:13:03.576Z"
   },
   {
    "duration": 197,
    "start_time": "2022-02-01T16:13:03.622Z"
   },
   {
    "duration": 129,
    "start_time": "2022-02-01T16:13:03.821Z"
   },
   {
    "duration": 4,
    "start_time": "2022-02-01T16:13:03.952Z"
   },
   {
    "duration": 6,
    "start_time": "2022-02-01T16:13:03.957Z"
   },
   {
    "duration": 20,
    "start_time": "2022-02-01T16:13:03.964Z"
   },
   {
    "duration": 533,
    "start_time": "2022-02-01T16:13:03.988Z"
   },
   {
    "duration": 699,
    "start_time": "2022-02-01T16:13:04.524Z"
   },
   {
    "duration": 93,
    "start_time": "2022-02-01T16:13:05.225Z"
   },
   {
    "duration": 253,
    "start_time": "2022-02-01T16:13:05.321Z"
   },
   {
    "duration": 6,
    "start_time": "2022-02-01T16:13:05.576Z"
   },
   {
    "duration": 7,
    "start_time": "2022-02-01T16:13:05.583Z"
   },
   {
    "duration": 275,
    "start_time": "2022-02-01T16:13:05.592Z"
   },
   {
    "duration": 745,
    "start_time": "2022-02-01T16:13:05.868Z"
   },
   {
    "duration": 806,
    "start_time": "2022-02-01T16:13:06.615Z"
   },
   {
    "duration": 410,
    "start_time": "2022-02-01T16:13:07.513Z"
   },
   {
    "duration": 218,
    "start_time": "2022-02-01T16:13:07.926Z"
   },
   {
    "duration": 514,
    "start_time": "2022-02-01T16:13:08.146Z"
   },
   {
    "duration": 522,
    "start_time": "2022-02-01T16:13:08.662Z"
   },
   {
    "duration": 534,
    "start_time": "2022-02-01T16:13:09.187Z"
   },
   {
    "duration": 10,
    "start_time": "2022-02-01T16:13:09.722Z"
   },
   {
    "duration": 658,
    "start_time": "2022-02-01T16:13:09.733Z"
   },
   {
    "duration": 664,
    "start_time": "2022-02-01T16:13:10.393Z"
   },
   {
    "duration": 1140,
    "start_time": "2022-02-01T16:13:11.059Z"
   },
   {
    "duration": 1102,
    "start_time": "2022-02-01T16:13:12.201Z"
   },
   {
    "duration": 1503,
    "start_time": "2022-02-01T16:13:13.305Z"
   },
   {
    "duration": 1559,
    "start_time": "2022-02-01T16:13:14.809Z"
   },
   {
    "duration": 4,
    "start_time": "2022-02-01T16:13:16.370Z"
   },
   {
    "duration": 12,
    "start_time": "2022-02-01T16:13:16.376Z"
   },
   {
    "duration": 126,
    "start_time": "2022-02-01T16:13:16.390Z"
   },
   {
    "duration": 732,
    "start_time": "2022-02-01T16:13:16.522Z"
   },
   {
    "duration": 822,
    "start_time": "2022-02-01T16:13:17.256Z"
   },
   {
    "duration": 1103,
    "start_time": "2022-02-01T16:13:18.080Z"
   },
   {
    "duration": 35,
    "start_time": "2022-02-01T16:13:19.185Z"
   },
   {
    "duration": 964,
    "start_time": "2022-02-01T16:13:19.221Z"
   },
   {
    "duration": 294,
    "start_time": "2022-02-01T16:14:11.851Z"
   },
   {
    "duration": 4,
    "start_time": "2022-02-01T16:14:15.725Z"
   },
   {
    "duration": 4,
    "start_time": "2022-02-01T16:14:58.926Z"
   },
   {
    "duration": 4,
    "start_time": "2022-02-01T16:15:11.636Z"
   },
   {
    "duration": 1024,
    "start_time": "2022-02-01T16:15:18.118Z"
   },
   {
    "duration": 43,
    "start_time": "2022-02-01T16:15:19.143Z"
   },
   {
    "duration": 8,
    "start_time": "2022-02-01T16:15:19.188Z"
   },
   {
    "duration": 4,
    "start_time": "2022-02-01T16:15:19.198Z"
   },
   {
    "duration": 10,
    "start_time": "2022-02-01T16:15:19.212Z"
   },
   {
    "duration": 41,
    "start_time": "2022-02-01T16:15:19.224Z"
   },
   {
    "duration": 6,
    "start_time": "2022-02-01T16:15:19.267Z"
   },
   {
    "duration": 299,
    "start_time": "2022-02-01T16:15:19.274Z"
   },
   {
    "duration": 5,
    "start_time": "2022-02-01T16:15:19.576Z"
   },
   {
    "duration": 8,
    "start_time": "2022-02-01T16:15:19.583Z"
   },
   {
    "duration": 19,
    "start_time": "2022-02-01T16:15:19.593Z"
   },
   {
    "duration": 6,
    "start_time": "2022-02-01T16:15:19.614Z"
   },
   {
    "duration": 309,
    "start_time": "2022-02-01T16:15:19.622Z"
   },
   {
    "duration": 5,
    "start_time": "2022-02-01T16:15:19.932Z"
   },
   {
    "duration": 203,
    "start_time": "2022-02-01T16:15:19.938Z"
   },
   {
    "duration": 7,
    "start_time": "2022-02-01T16:15:20.142Z"
   },
   {
    "duration": 11,
    "start_time": "2022-02-01T16:15:20.151Z"
   },
   {
    "duration": 4,
    "start_time": "2022-02-01T16:15:20.164Z"
   },
   {
    "duration": 8,
    "start_time": "2022-02-01T16:15:20.170Z"
   },
   {
    "duration": 43,
    "start_time": "2022-02-01T16:15:20.180Z"
   },
   {
    "duration": 5,
    "start_time": "2022-02-01T16:15:20.225Z"
   },
   {
    "duration": 23,
    "start_time": "2022-02-01T16:15:20.231Z"
   },
   {
    "duration": 16,
    "start_time": "2022-02-01T16:15:20.256Z"
   },
   {
    "duration": 5,
    "start_time": "2022-02-01T16:15:20.274Z"
   },
   {
    "duration": 33,
    "start_time": "2022-02-01T16:15:20.281Z"
   },
   {
    "duration": 5,
    "start_time": "2022-02-01T16:15:20.316Z"
   },
   {
    "duration": 12,
    "start_time": "2022-02-01T16:15:20.325Z"
   },
   {
    "duration": 81,
    "start_time": "2022-02-01T16:15:20.339Z"
   },
   {
    "duration": 293,
    "start_time": "2022-02-01T16:15:20.421Z"
   },
   {
    "duration": 96,
    "start_time": "2022-02-01T16:15:20.716Z"
   },
   {
    "duration": 16,
    "start_time": "2022-02-01T16:15:20.814Z"
   },
   {
    "duration": 5,
    "start_time": "2022-02-01T16:15:20.832Z"
   },
   {
    "duration": 8,
    "start_time": "2022-02-01T16:15:20.839Z"
   },
   {
    "duration": 13,
    "start_time": "2022-02-01T16:15:20.849Z"
   },
   {
    "duration": 151,
    "start_time": "2022-02-01T16:15:20.863Z"
   },
   {
    "duration": 296,
    "start_time": "2022-02-01T16:15:21.017Z"
   },
   {
    "duration": 117,
    "start_time": "2022-02-01T16:15:21.316Z"
   },
   {
    "duration": 204,
    "start_time": "2022-02-01T16:15:21.435Z"
   },
   {
    "duration": 453,
    "start_time": "2022-02-01T16:15:21.642Z"
   },
   {
    "duration": 443,
    "start_time": "2022-02-01T16:15:22.097Z"
   },
   {
    "duration": 456,
    "start_time": "2022-02-01T16:15:22.542Z"
   },
   {
    "duration": 21,
    "start_time": "2022-02-01T16:15:22.999Z"
   },
   {
    "duration": 575,
    "start_time": "2022-02-01T16:15:23.021Z"
   },
   {
    "duration": 588,
    "start_time": "2022-02-01T16:15:23.598Z"
   },
   {
    "duration": 1081,
    "start_time": "2022-02-01T16:15:24.188Z"
   },
   {
    "duration": 1024,
    "start_time": "2022-02-01T16:15:25.271Z"
   },
   {
    "duration": 1450,
    "start_time": "2022-02-01T16:15:26.297Z"
   },
   {
    "duration": 1449,
    "start_time": "2022-02-01T16:15:27.749Z"
   },
   {
    "duration": 3,
    "start_time": "2022-02-01T16:15:29.200Z"
   },
   {
    "duration": 20,
    "start_time": "2022-02-01T16:15:29.205Z"
   },
   {
    "duration": 96,
    "start_time": "2022-02-01T16:15:29.226Z"
   },
   {
    "duration": 637,
    "start_time": "2022-02-01T16:15:29.414Z"
   },
   {
    "duration": 775,
    "start_time": "2022-02-01T16:15:30.053Z"
   },
   {
    "duration": 1020,
    "start_time": "2022-02-01T16:15:30.830Z"
   },
   {
    "duration": 14,
    "start_time": "2022-02-01T16:15:31.851Z"
   },
   {
    "duration": 216,
    "start_time": "2022-02-01T16:15:31.866Z"
   },
   {
    "duration": 58,
    "start_time": "2022-02-01T16:23:12.114Z"
   },
   {
    "duration": 81,
    "start_time": "2022-02-01T16:26:32.405Z"
   },
   {
    "duration": 6,
    "start_time": "2022-02-01T16:35:07.878Z"
   },
   {
    "duration": 6,
    "start_time": "2022-02-01T16:35:46.576Z"
   },
   {
    "duration": 6,
    "start_time": "2022-02-01T16:35:53.200Z"
   },
   {
    "duration": 7,
    "start_time": "2022-02-01T16:36:18.202Z"
   },
   {
    "duration": 58,
    "start_time": "2022-02-01T16:39:27.329Z"
   },
   {
    "duration": 6,
    "start_time": "2022-02-01T16:40:06.684Z"
   },
   {
    "duration": 102,
    "start_time": "2022-02-01T16:41:07.912Z"
   },
   {
    "duration": 1036,
    "start_time": "2022-02-01T16:41:19.807Z"
   },
   {
    "duration": 41,
    "start_time": "2022-02-01T16:41:20.845Z"
   },
   {
    "duration": 8,
    "start_time": "2022-02-01T16:41:20.889Z"
   },
   {
    "duration": 4,
    "start_time": "2022-02-01T16:41:20.899Z"
   },
   {
    "duration": 11,
    "start_time": "2022-02-01T16:41:20.912Z"
   },
   {
    "duration": 41,
    "start_time": "2022-02-01T16:41:20.924Z"
   },
   {
    "duration": 6,
    "start_time": "2022-02-01T16:41:20.967Z"
   },
   {
    "duration": 296,
    "start_time": "2022-02-01T16:41:20.975Z"
   },
   {
    "duration": 4,
    "start_time": "2022-02-01T16:41:21.274Z"
   },
   {
    "duration": 8,
    "start_time": "2022-02-01T16:41:21.280Z"
   },
   {
    "duration": 3,
    "start_time": "2022-02-01T16:41:21.289Z"
   },
   {
    "duration": 20,
    "start_time": "2022-02-01T16:41:21.293Z"
   },
   {
    "duration": 316,
    "start_time": "2022-02-01T16:41:21.314Z"
   },
   {
    "duration": 5,
    "start_time": "2022-02-01T16:41:21.631Z"
   },
   {
    "duration": 204,
    "start_time": "2022-02-01T16:41:21.637Z"
   },
   {
    "duration": 6,
    "start_time": "2022-02-01T16:41:21.842Z"
   },
   {
    "duration": 9,
    "start_time": "2022-02-01T16:41:21.850Z"
   },
   {
    "duration": 4,
    "start_time": "2022-02-01T16:41:21.860Z"
   },
   {
    "duration": 21,
    "start_time": "2022-02-01T16:41:21.866Z"
   },
   {
    "duration": 26,
    "start_time": "2022-02-01T16:41:21.888Z"
   },
   {
    "duration": 21,
    "start_time": "2022-02-01T16:41:21.916Z"
   },
   {
    "duration": 16,
    "start_time": "2022-02-01T16:41:21.938Z"
   },
   {
    "duration": 5,
    "start_time": "2022-02-01T16:41:21.955Z"
   },
   {
    "duration": 4,
    "start_time": "2022-02-01T16:41:21.962Z"
   },
   {
    "duration": 5,
    "start_time": "2022-02-01T16:41:21.967Z"
   },
   {
    "duration": 45,
    "start_time": "2022-02-01T16:41:21.973Z"
   },
   {
    "duration": 190,
    "start_time": "2022-02-01T16:41:22.022Z"
   },
   {
    "duration": 111,
    "start_time": "2022-02-01T16:41:22.215Z"
   },
   {
    "duration": 85,
    "start_time": "2022-02-01T16:41:22.328Z"
   },
   {
    "duration": 99,
    "start_time": "2022-02-01T16:41:22.416Z"
   },
   {
    "duration": 15,
    "start_time": "2022-02-01T16:41:22.517Z"
   },
   {
    "duration": 89,
    "start_time": "2022-02-01T16:41:22.533Z"
   },
   {
    "duration": 294,
    "start_time": "2022-02-01T16:41:22.624Z"
   },
   {
    "duration": 193,
    "start_time": "2022-02-01T16:41:22.920Z"
   },
   {
    "duration": 131,
    "start_time": "2022-02-01T16:41:23.115Z"
   },
   {
    "duration": 455,
    "start_time": "2022-02-01T16:41:23.248Z"
   },
   {
    "duration": 441,
    "start_time": "2022-02-01T16:41:23.712Z"
   },
   {
    "duration": 442,
    "start_time": "2022-02-01T16:41:24.154Z"
   },
   {
    "duration": 18,
    "start_time": "2022-02-01T16:41:24.597Z"
   },
   {
    "duration": 564,
    "start_time": "2022-02-01T16:41:24.617Z"
   },
   {
    "duration": 601,
    "start_time": "2022-02-01T16:41:25.182Z"
   },
   {
    "duration": 1112,
    "start_time": "2022-02-01T16:41:25.785Z"
   },
   {
    "duration": 1032,
    "start_time": "2022-02-01T16:41:26.898Z"
   },
   {
    "duration": 1405,
    "start_time": "2022-02-01T16:41:27.931Z"
   },
   {
    "duration": 1412,
    "start_time": "2022-02-01T16:41:29.337Z"
   },
   {
    "duration": 4,
    "start_time": "2022-02-01T16:41:30.750Z"
   },
   {
    "duration": 12,
    "start_time": "2022-02-01T16:41:30.756Z"
   },
   {
    "duration": 145,
    "start_time": "2022-02-01T16:41:30.770Z"
   },
   {
    "duration": 637,
    "start_time": "2022-02-01T16:41:30.917Z"
   },
   {
    "duration": 774,
    "start_time": "2022-02-01T16:41:31.556Z"
   },
   {
    "duration": 995,
    "start_time": "2022-02-01T16:41:32.332Z"
   },
   {
    "duration": 12,
    "start_time": "2022-02-01T16:41:33.329Z"
   },
   {
    "duration": 201,
    "start_time": "2022-02-01T16:41:33.343Z"
   },
   {
    "duration": 5,
    "start_time": "2022-02-01T16:41:33.546Z"
   },
   {
    "duration": 16,
    "start_time": "2022-02-01T16:41:33.553Z"
   },
   {
    "duration": 51,
    "start_time": "2022-02-01T16:41:33.571Z"
   },
   {
    "duration": 64,
    "start_time": "2022-02-01T16:43:13.320Z"
   },
   {
    "duration": 1044,
    "start_time": "2022-02-01T16:43:59.904Z"
   },
   {
    "duration": 40,
    "start_time": "2022-02-01T16:44:00.949Z"
   },
   {
    "duration": 9,
    "start_time": "2022-02-01T16:44:00.991Z"
   },
   {
    "duration": 12,
    "start_time": "2022-02-01T16:44:01.003Z"
   },
   {
    "duration": 12,
    "start_time": "2022-02-01T16:44:01.017Z"
   },
   {
    "duration": 39,
    "start_time": "2022-02-01T16:44:01.031Z"
   },
   {
    "duration": 6,
    "start_time": "2022-02-01T16:44:01.071Z"
   },
   {
    "duration": 291,
    "start_time": "2022-02-01T16:44:01.079Z"
   },
   {
    "duration": 5,
    "start_time": "2022-02-01T16:44:01.372Z"
   },
   {
    "duration": 8,
    "start_time": "2022-02-01T16:44:01.378Z"
   },
   {
    "duration": 3,
    "start_time": "2022-02-01T16:44:01.388Z"
   },
   {
    "duration": 20,
    "start_time": "2022-02-01T16:44:01.393Z"
   },
   {
    "duration": 304,
    "start_time": "2022-02-01T16:44:01.414Z"
   },
   {
    "duration": 5,
    "start_time": "2022-02-01T16:44:01.719Z"
   },
   {
    "duration": 206,
    "start_time": "2022-02-01T16:44:01.725Z"
   },
   {
    "duration": 7,
    "start_time": "2022-02-01T16:44:01.932Z"
   },
   {
    "duration": 15,
    "start_time": "2022-02-01T16:44:01.940Z"
   },
   {
    "duration": 4,
    "start_time": "2022-02-01T16:44:01.957Z"
   },
   {
    "duration": 22,
    "start_time": "2022-02-01T16:44:01.962Z"
   },
   {
    "duration": 3,
    "start_time": "2022-02-01T16:44:01.986Z"
   },
   {
    "duration": 39,
    "start_time": "2022-02-01T16:44:01.990Z"
   },
   {
    "duration": 15,
    "start_time": "2022-02-01T16:44:02.030Z"
   },
   {
    "duration": 5,
    "start_time": "2022-02-01T16:44:02.049Z"
   },
   {
    "duration": 3,
    "start_time": "2022-02-01T16:44:02.056Z"
   },
   {
    "duration": 5,
    "start_time": "2022-02-01T16:44:02.061Z"
   },
   {
    "duration": 13,
    "start_time": "2022-02-01T16:44:02.067Z"
   },
   {
    "duration": 136,
    "start_time": "2022-02-01T16:44:02.082Z"
   },
   {
    "duration": 94,
    "start_time": "2022-02-01T16:44:02.220Z"
   },
   {
    "duration": 21,
    "start_time": "2022-02-01T16:44:02.316Z"
   },
   {
    "duration": 19,
    "start_time": "2022-02-01T16:44:02.338Z"
   },
   {
    "duration": 156,
    "start_time": "2022-02-01T16:44:02.358Z"
   },
   {
    "duration": 203,
    "start_time": "2022-02-01T16:44:02.516Z"
   },
   {
    "duration": 204,
    "start_time": "2022-02-01T16:44:02.721Z"
   },
   {
    "duration": 129,
    "start_time": "2022-02-01T16:44:03.014Z"
   },
   {
    "duration": 437,
    "start_time": "2022-02-01T16:44:03.145Z"
   },
   {
    "duration": 489,
    "start_time": "2022-02-01T16:44:03.583Z"
   },
   {
    "duration": 465,
    "start_time": "2022-02-01T16:44:04.073Z"
   },
   {
    "duration": 9,
    "start_time": "2022-02-01T16:44:04.540Z"
   },
   {
    "duration": 796,
    "start_time": "2022-02-01T16:44:04.550Z"
   },
   {
    "duration": 607,
    "start_time": "2022-02-01T16:44:05.348Z"
   },
   {
    "duration": 1064,
    "start_time": "2022-02-01T16:44:05.957Z"
   },
   {
    "duration": 1061,
    "start_time": "2022-02-01T16:44:07.023Z"
   },
   {
    "duration": 1390,
    "start_time": "2022-02-01T16:44:08.086Z"
   },
   {
    "duration": 1405,
    "start_time": "2022-02-01T16:44:09.477Z"
   },
   {
    "duration": 3,
    "start_time": "2022-02-01T16:44:10.884Z"
   },
   {
    "duration": 12,
    "start_time": "2022-02-01T16:44:10.889Z"
   },
   {
    "duration": 105,
    "start_time": "2022-02-01T16:44:10.912Z"
   },
   {
    "duration": 662,
    "start_time": "2022-02-01T16:44:11.020Z"
   },
   {
    "duration": 761,
    "start_time": "2022-02-01T16:44:11.683Z"
   },
   {
    "duration": 1050,
    "start_time": "2022-02-01T16:44:12.446Z"
   },
   {
    "duration": 24,
    "start_time": "2022-02-01T16:44:13.498Z"
   },
   {
    "duration": 226,
    "start_time": "2022-02-01T16:44:13.524Z"
   },
   {
    "duration": 5,
    "start_time": "2022-02-01T16:44:13.751Z"
   },
   {
    "duration": 8,
    "start_time": "2022-02-01T16:44:13.758Z"
   },
   {
    "duration": 244,
    "start_time": "2022-02-01T16:44:13.768Z"
   },
   {
    "duration": 981,
    "start_time": "2022-02-01T16:47:56.963Z"
   },
   {
    "duration": 40,
    "start_time": "2022-02-01T16:47:57.946Z"
   },
   {
    "duration": 8,
    "start_time": "2022-02-01T16:47:57.989Z"
   },
   {
    "duration": 4,
    "start_time": "2022-02-01T16:47:57.999Z"
   },
   {
    "duration": 12,
    "start_time": "2022-02-01T16:47:58.012Z"
   },
   {
    "duration": 40,
    "start_time": "2022-02-01T16:47:58.025Z"
   },
   {
    "duration": 6,
    "start_time": "2022-02-01T16:47:58.067Z"
   },
   {
    "duration": 276,
    "start_time": "2022-02-01T16:47:58.074Z"
   },
   {
    "duration": 5,
    "start_time": "2022-02-01T16:47:58.352Z"
   },
   {
    "duration": 8,
    "start_time": "2022-02-01T16:47:58.359Z"
   },
   {
    "duration": 3,
    "start_time": "2022-02-01T16:47:58.368Z"
   },
   {
    "duration": 7,
    "start_time": "2022-02-01T16:47:58.372Z"
   },
   {
    "duration": 332,
    "start_time": "2022-02-01T16:47:58.380Z"
   },
   {
    "duration": 4,
    "start_time": "2022-02-01T16:47:58.713Z"
   },
   {
    "duration": 200,
    "start_time": "2022-02-01T16:47:58.719Z"
   },
   {
    "duration": 6,
    "start_time": "2022-02-01T16:47:58.920Z"
   },
   {
    "duration": 9,
    "start_time": "2022-02-01T16:47:58.928Z"
   },
   {
    "duration": 4,
    "start_time": "2022-02-01T16:47:58.938Z"
   },
   {
    "duration": 21,
    "start_time": "2022-02-01T16:47:58.944Z"
   },
   {
    "duration": 3,
    "start_time": "2022-02-01T16:47:58.967Z"
   },
   {
    "duration": 52,
    "start_time": "2022-02-01T16:47:58.971Z"
   },
   {
    "duration": 15,
    "start_time": "2022-02-01T16:47:59.025Z"
   },
   {
    "duration": 4,
    "start_time": "2022-02-01T16:47:59.042Z"
   },
   {
    "duration": 5,
    "start_time": "2022-02-01T16:47:59.048Z"
   },
   {
    "duration": 5,
    "start_time": "2022-02-01T16:47:59.054Z"
   },
   {
    "duration": 12,
    "start_time": "2022-02-01T16:47:59.060Z"
   },
   {
    "duration": 140,
    "start_time": "2022-02-01T16:47:59.075Z"
   },
   {
    "duration": 96,
    "start_time": "2022-02-01T16:47:59.217Z"
   },
   {
    "duration": 29,
    "start_time": "2022-02-01T16:47:59.314Z"
   },
   {
    "duration": 13,
    "start_time": "2022-02-01T16:47:59.345Z"
   },
   {
    "duration": 77,
    "start_time": "2022-02-01T16:47:59.360Z"
   },
   {
    "duration": 203,
    "start_time": "2022-02-01T16:47:59.514Z"
   },
   {
    "duration": 195,
    "start_time": "2022-02-01T16:47:59.719Z"
   },
   {
    "duration": 541,
    "start_time": "2022-02-01T16:47:59.916Z"
   },
   {
    "duration": 454,
    "start_time": "2022-02-01T16:48:00.459Z"
   },
   {
    "duration": 452,
    "start_time": "2022-02-01T16:48:00.915Z"
   },
   {
    "duration": 12,
    "start_time": "2022-02-01T16:48:01.369Z"
   },
   {
    "duration": 580,
    "start_time": "2022-02-01T16:48:01.382Z"
   },
   {
    "duration": 586,
    "start_time": "2022-02-01T16:48:01.964Z"
   },
   {
    "duration": 1007,
    "start_time": "2022-02-01T16:48:02.552Z"
   },
   {
    "duration": 1132,
    "start_time": "2022-02-01T16:48:03.561Z"
   },
   {
    "duration": 1334,
    "start_time": "2022-02-01T16:48:04.695Z"
   },
   {
    "duration": 1354,
    "start_time": "2022-02-01T16:48:06.032Z"
   },
   {
    "duration": 4,
    "start_time": "2022-02-01T16:48:07.387Z"
   },
   {
    "duration": 26,
    "start_time": "2022-02-01T16:48:07.392Z"
   },
   {
    "duration": 100,
    "start_time": "2022-02-01T16:48:07.420Z"
   },
   {
    "duration": 713,
    "start_time": "2022-02-01T16:48:07.522Z"
   },
   {
    "duration": 724,
    "start_time": "2022-02-01T16:48:08.237Z"
   },
   {
    "duration": 975,
    "start_time": "2022-02-01T16:48:08.963Z"
   },
   {
    "duration": 14,
    "start_time": "2022-02-01T16:48:09.939Z"
   },
   {
    "duration": 209,
    "start_time": "2022-02-01T16:48:09.954Z"
   },
   {
    "duration": 7,
    "start_time": "2022-02-01T16:48:10.165Z"
   },
   {
    "duration": 7,
    "start_time": "2022-02-01T16:48:10.174Z"
   },
   {
    "duration": 128,
    "start_time": "2022-02-01T16:48:10.183Z"
   },
   {
    "duration": 218,
    "start_time": "2022-02-01T16:51:19.406Z"
   },
   {
    "duration": 1046,
    "start_time": "2022-02-01T16:52:12.250Z"
   },
   {
    "duration": 45,
    "start_time": "2022-02-01T16:52:13.297Z"
   },
   {
    "duration": 9,
    "start_time": "2022-02-01T16:52:13.344Z"
   },
   {
    "duration": 3,
    "start_time": "2022-02-01T16:52:13.355Z"
   },
   {
    "duration": 12,
    "start_time": "2022-02-01T16:52:13.360Z"
   },
   {
    "duration": 70,
    "start_time": "2022-02-01T16:52:13.374Z"
   },
   {
    "duration": 5,
    "start_time": "2022-02-01T16:52:13.446Z"
   },
   {
    "duration": 301,
    "start_time": "2022-02-01T16:52:13.453Z"
   },
   {
    "duration": 4,
    "start_time": "2022-02-01T16:52:13.756Z"
   },
   {
    "duration": 8,
    "start_time": "2022-02-01T16:52:13.762Z"
   },
   {
    "duration": 2,
    "start_time": "2022-02-01T16:52:13.772Z"
   },
   {
    "duration": 5,
    "start_time": "2022-02-01T16:52:13.775Z"
   },
   {
    "duration": 354,
    "start_time": "2022-02-01T16:52:13.782Z"
   },
   {
    "duration": 4,
    "start_time": "2022-02-01T16:52:14.138Z"
   },
   {
    "duration": 219,
    "start_time": "2022-02-01T16:52:14.144Z"
   },
   {
    "duration": 6,
    "start_time": "2022-02-01T16:52:14.365Z"
   },
   {
    "duration": 7,
    "start_time": "2022-02-01T16:52:14.373Z"
   },
   {
    "duration": 4,
    "start_time": "2022-02-01T16:52:14.382Z"
   },
   {
    "duration": 47,
    "start_time": "2022-02-01T16:52:14.387Z"
   },
   {
    "duration": 6,
    "start_time": "2022-02-01T16:52:14.436Z"
   },
   {
    "duration": 23,
    "start_time": "2022-02-01T16:52:14.444Z"
   },
   {
    "duration": 43,
    "start_time": "2022-02-01T16:52:14.469Z"
   },
   {
    "duration": 8,
    "start_time": "2022-02-01T16:52:14.515Z"
   },
   {
    "duration": 7,
    "start_time": "2022-02-01T16:52:14.525Z"
   },
   {
    "duration": 6,
    "start_time": "2022-02-01T16:52:14.534Z"
   },
   {
    "duration": 12,
    "start_time": "2022-02-01T16:52:14.542Z"
   },
   {
    "duration": 72,
    "start_time": "2022-02-01T16:52:14.557Z"
   },
   {
    "duration": 83,
    "start_time": "2022-02-01T16:52:14.633Z"
   },
   {
    "duration": 103,
    "start_time": "2022-02-01T16:52:14.718Z"
   },
   {
    "duration": 15,
    "start_time": "2022-02-01T16:52:14.823Z"
   },
   {
    "duration": 90,
    "start_time": "2022-02-01T16:52:14.840Z"
   },
   {
    "duration": 285,
    "start_time": "2022-02-01T16:52:14.932Z"
   },
   {
    "duration": 196,
    "start_time": "2022-02-01T16:52:15.222Z"
   },
   {
    "duration": 555,
    "start_time": "2022-02-01T16:52:15.420Z"
   },
   {
    "duration": 501,
    "start_time": "2022-02-01T16:52:15.976Z"
   },
   {
    "duration": 12,
    "start_time": "2022-02-01T16:52:16.478Z"
   },
   {
    "duration": 603,
    "start_time": "2022-02-01T16:52:16.491Z"
   },
   {
    "duration": 649,
    "start_time": "2022-02-01T16:52:17.096Z"
   },
   {
    "duration": 1104,
    "start_time": "2022-02-01T16:52:17.747Z"
   },
   {
    "duration": 1025,
    "start_time": "2022-02-01T16:52:18.852Z"
   },
   {
    "duration": 1401,
    "start_time": "2022-02-01T16:52:19.879Z"
   },
   {
    "duration": 1397,
    "start_time": "2022-02-01T16:52:21.282Z"
   },
   {
    "duration": 3,
    "start_time": "2022-02-01T16:52:22.681Z"
   },
   {
    "duration": 16,
    "start_time": "2022-02-01T16:52:22.686Z"
   },
   {
    "duration": 212,
    "start_time": "2022-02-01T16:52:22.713Z"
   },
   {
    "duration": 653,
    "start_time": "2022-02-01T16:52:22.927Z"
   },
   {
    "duration": 797,
    "start_time": "2022-02-01T16:52:23.582Z"
   },
   {
    "duration": 1088,
    "start_time": "2022-02-01T16:52:24.381Z"
   },
   {
    "duration": 13,
    "start_time": "2022-02-01T16:52:25.470Z"
   },
   {
    "duration": 243,
    "start_time": "2022-02-01T16:52:25.485Z"
   },
   {
    "duration": 6,
    "start_time": "2022-02-01T16:52:25.730Z"
   },
   {
    "duration": 8,
    "start_time": "2022-02-01T16:52:25.738Z"
   },
   {
    "duration": 72,
    "start_time": "2022-02-01T16:52:25.747Z"
   },
   {
    "duration": 423,
    "start_time": "2022-02-01T16:52:25.822Z"
   },
   {
    "duration": 75,
    "start_time": "2022-02-01T16:53:17.674Z"
   },
   {
    "duration": 1101,
    "start_time": "2022-02-01T16:54:18.772Z"
   },
   {
    "duration": 44,
    "start_time": "2022-02-01T16:54:19.875Z"
   },
   {
    "duration": 10,
    "start_time": "2022-02-01T16:54:19.922Z"
   },
   {
    "duration": 4,
    "start_time": "2022-02-01T16:54:19.935Z"
   },
   {
    "duration": 13,
    "start_time": "2022-02-01T16:54:19.942Z"
   },
   {
    "duration": 80,
    "start_time": "2022-02-01T16:54:19.956Z"
   },
   {
    "duration": 7,
    "start_time": "2022-02-01T16:54:20.038Z"
   },
   {
    "duration": 318,
    "start_time": "2022-02-01T16:54:20.048Z"
   },
   {
    "duration": 4,
    "start_time": "2022-02-01T16:54:20.369Z"
   },
   {
    "duration": 9,
    "start_time": "2022-02-01T16:54:20.375Z"
   },
   {
    "duration": 2,
    "start_time": "2022-02-01T16:54:20.386Z"
   },
   {
    "duration": 24,
    "start_time": "2022-02-01T16:54:20.390Z"
   },
   {
    "duration": 346,
    "start_time": "2022-02-01T16:54:20.416Z"
   },
   {
    "duration": 5,
    "start_time": "2022-02-01T16:54:20.764Z"
   },
   {
    "duration": 227,
    "start_time": "2022-02-01T16:54:20.770Z"
   },
   {
    "duration": 14,
    "start_time": "2022-02-01T16:54:20.999Z"
   },
   {
    "duration": 10,
    "start_time": "2022-02-01T16:54:21.015Z"
   },
   {
    "duration": 5,
    "start_time": "2022-02-01T16:54:21.027Z"
   },
   {
    "duration": 24,
    "start_time": "2022-02-01T16:54:21.034Z"
   },
   {
    "duration": 5,
    "start_time": "2022-02-01T16:54:21.060Z"
   },
   {
    "duration": 56,
    "start_time": "2022-02-01T16:54:21.068Z"
   },
   {
    "duration": 21,
    "start_time": "2022-02-01T16:54:21.126Z"
   },
   {
    "duration": 7,
    "start_time": "2022-02-01T16:54:21.149Z"
   },
   {
    "duration": 5,
    "start_time": "2022-02-01T16:54:21.158Z"
   },
   {
    "duration": 5,
    "start_time": "2022-02-01T16:54:21.165Z"
   },
   {
    "duration": 46,
    "start_time": "2022-02-01T16:54:21.172Z"
   },
   {
    "duration": 98,
    "start_time": "2022-02-01T16:54:21.223Z"
   },
   {
    "duration": 90,
    "start_time": "2022-02-01T16:54:21.325Z"
   },
   {
    "duration": 22,
    "start_time": "2022-02-01T16:54:21.417Z"
   },
   {
    "duration": 85,
    "start_time": "2022-02-01T16:54:21.441Z"
   },
   {
    "duration": 90,
    "start_time": "2022-02-01T16:54:21.528Z"
   },
   {
    "duration": 294,
    "start_time": "2022-02-01T16:54:21.624Z"
   },
   {
    "duration": 292,
    "start_time": "2022-02-01T16:54:21.921Z"
   },
   {
    "duration": 567,
    "start_time": "2022-02-01T16:54:22.216Z"
   },
   {
    "duration": 497,
    "start_time": "2022-02-01T16:54:22.785Z"
   },
   {
    "duration": 13,
    "start_time": "2022-02-01T16:54:23.284Z"
   },
   {
    "duration": 616,
    "start_time": "2022-02-01T16:54:23.313Z"
   },
   {
    "duration": 643,
    "start_time": "2022-02-01T16:54:23.931Z"
   },
   {
    "duration": 1094,
    "start_time": "2022-02-01T16:54:24.575Z"
   },
   {
    "duration": 1124,
    "start_time": "2022-02-01T16:54:25.670Z"
   },
   {
    "duration": 1488,
    "start_time": "2022-02-01T16:54:26.795Z"
   },
   {
    "duration": 1505,
    "start_time": "2022-02-01T16:54:28.285Z"
   },
   {
    "duration": 5,
    "start_time": "2022-02-01T16:54:29.792Z"
   },
   {
    "duration": 32,
    "start_time": "2022-02-01T16:54:29.798Z"
   },
   {
    "duration": 90,
    "start_time": "2022-02-01T16:54:29.832Z"
   },
   {
    "duration": 687,
    "start_time": "2022-02-01T16:54:30.014Z"
   },
   {
    "duration": 825,
    "start_time": "2022-02-01T16:54:30.703Z"
   },
   {
    "duration": 1072,
    "start_time": "2022-02-01T16:54:31.530Z"
   },
   {
    "duration": 20,
    "start_time": "2022-02-01T16:54:32.604Z"
   },
   {
    "duration": 246,
    "start_time": "2022-02-01T16:54:32.626Z"
   },
   {
    "duration": 7,
    "start_time": "2022-02-01T16:54:32.873Z"
   },
   {
    "duration": 7,
    "start_time": "2022-02-01T16:54:32.881Z"
   },
   {
    "duration": 62,
    "start_time": "2022-02-01T16:54:32.890Z"
   },
   {
    "duration": 71,
    "start_time": "2022-02-01T16:54:32.954Z"
   },
   {
    "duration": 340,
    "start_time": "2022-02-01T16:54:33.114Z"
   },
   {
    "duration": 1091,
    "start_time": "2022-02-01T16:55:47.281Z"
   },
   {
    "duration": 45,
    "start_time": "2022-02-01T16:55:48.373Z"
   },
   {
    "duration": 10,
    "start_time": "2022-02-01T16:55:48.421Z"
   },
   {
    "duration": 5,
    "start_time": "2022-02-01T16:55:48.434Z"
   },
   {
    "duration": 26,
    "start_time": "2022-02-01T16:55:48.442Z"
   },
   {
    "duration": 71,
    "start_time": "2022-02-01T16:55:48.469Z"
   },
   {
    "duration": 7,
    "start_time": "2022-02-01T16:55:48.543Z"
   },
   {
    "duration": 311,
    "start_time": "2022-02-01T16:55:48.553Z"
   },
   {
    "duration": 5,
    "start_time": "2022-02-01T16:55:48.867Z"
   },
   {
    "duration": 8,
    "start_time": "2022-02-01T16:55:48.874Z"
   },
   {
    "duration": 3,
    "start_time": "2022-02-01T16:55:48.883Z"
   },
   {
    "duration": 25,
    "start_time": "2022-02-01T16:55:48.887Z"
   },
   {
    "duration": 347,
    "start_time": "2022-02-01T16:55:48.914Z"
   },
   {
    "duration": 6,
    "start_time": "2022-02-01T16:55:49.264Z"
   },
   {
    "duration": 220,
    "start_time": "2022-02-01T16:55:49.272Z"
   },
   {
    "duration": 6,
    "start_time": "2022-02-01T16:55:49.493Z"
   },
   {
    "duration": 18,
    "start_time": "2022-02-01T16:55:49.501Z"
   },
   {
    "duration": 6,
    "start_time": "2022-02-01T16:55:49.521Z"
   },
   {
    "duration": 25,
    "start_time": "2022-02-01T16:55:49.529Z"
   },
   {
    "duration": 5,
    "start_time": "2022-02-01T16:55:49.556Z"
   },
   {
    "duration": 52,
    "start_time": "2022-02-01T16:55:49.563Z"
   },
   {
    "duration": 21,
    "start_time": "2022-02-01T16:55:49.617Z"
   },
   {
    "duration": 7,
    "start_time": "2022-02-01T16:55:49.640Z"
   },
   {
    "duration": 4,
    "start_time": "2022-02-01T16:55:49.649Z"
   },
   {
    "duration": 5,
    "start_time": "2022-02-01T16:55:49.655Z"
   },
   {
    "duration": 50,
    "start_time": "2022-02-01T16:55:49.662Z"
   },
   {
    "duration": 100,
    "start_time": "2022-02-01T16:55:49.717Z"
   },
   {
    "duration": 94,
    "start_time": "2022-02-01T16:55:49.820Z"
   },
   {
    "duration": 106,
    "start_time": "2022-02-01T16:55:49.917Z"
   },
   {
    "duration": 15,
    "start_time": "2022-02-01T16:55:50.025Z"
   },
   {
    "duration": 94,
    "start_time": "2022-02-01T16:55:50.042Z"
   },
   {
    "duration": 205,
    "start_time": "2022-02-01T16:55:50.214Z"
   },
   {
    "duration": 202,
    "start_time": "2022-02-01T16:55:50.421Z"
   },
   {
    "duration": 654,
    "start_time": "2022-02-01T16:55:50.625Z"
   },
   {
    "duration": 489,
    "start_time": "2022-02-01T16:55:51.281Z"
   },
   {
    "duration": 12,
    "start_time": "2022-02-01T16:55:51.772Z"
   },
   {
    "duration": 614,
    "start_time": "2022-02-01T16:55:51.786Z"
   },
   {
    "duration": 644,
    "start_time": "2022-02-01T16:55:52.402Z"
   },
   {
    "duration": 1081,
    "start_time": "2022-02-01T16:55:53.048Z"
   },
   {
    "duration": 1061,
    "start_time": "2022-02-01T16:55:54.131Z"
   },
   {
    "duration": 1482,
    "start_time": "2022-02-01T16:55:55.194Z"
   },
   {
    "duration": 1464,
    "start_time": "2022-02-01T16:55:56.678Z"
   },
   {
    "duration": 4,
    "start_time": "2022-02-01T16:55:58.144Z"
   },
   {
    "duration": 16,
    "start_time": "2022-02-01T16:55:58.150Z"
   },
   {
    "duration": 146,
    "start_time": "2022-02-01T16:55:58.168Z"
   },
   {
    "duration": 699,
    "start_time": "2022-02-01T16:55:58.316Z"
   },
   {
    "duration": 805,
    "start_time": "2022-02-01T16:55:59.018Z"
   },
   {
    "duration": 1055,
    "start_time": "2022-02-01T16:55:59.825Z"
   },
   {
    "duration": 12,
    "start_time": "2022-02-01T16:56:00.882Z"
   },
   {
    "duration": 240,
    "start_time": "2022-02-01T16:56:00.896Z"
   },
   {
    "duration": 6,
    "start_time": "2022-02-01T16:56:01.138Z"
   },
   {
    "duration": 11,
    "start_time": "2022-02-01T16:56:01.146Z"
   },
   {
    "duration": 66,
    "start_time": "2022-02-01T16:56:01.159Z"
   },
   {
    "duration": 4732,
    "start_time": "2022-02-01T16:55:56.495Z"
   },
   {
    "duration": 4727,
    "start_time": "2022-02-01T16:55:56.502Z"
   },
   {
    "duration": 1115,
    "start_time": "2022-02-01T16:56:17.158Z"
   },
   {
    "duration": 42,
    "start_time": "2022-02-01T16:56:18.275Z"
   },
   {
    "duration": 9,
    "start_time": "2022-02-01T16:56:18.319Z"
   },
   {
    "duration": 4,
    "start_time": "2022-02-01T16:56:18.331Z"
   },
   {
    "duration": 14,
    "start_time": "2022-02-01T16:56:18.337Z"
   },
   {
    "duration": 75,
    "start_time": "2022-02-01T16:56:18.353Z"
   },
   {
    "duration": 7,
    "start_time": "2022-02-01T16:56:18.431Z"
   },
   {
    "duration": 321,
    "start_time": "2022-02-01T16:56:18.442Z"
   },
   {
    "duration": 5,
    "start_time": "2022-02-01T16:56:18.766Z"
   },
   {
    "duration": 8,
    "start_time": "2022-02-01T16:56:18.772Z"
   },
   {
    "duration": 2,
    "start_time": "2022-02-01T16:56:18.782Z"
   },
   {
    "duration": 5,
    "start_time": "2022-02-01T16:56:18.786Z"
   },
   {
    "duration": 350,
    "start_time": "2022-02-01T16:56:18.813Z"
   },
   {
    "duration": 4,
    "start_time": "2022-02-01T16:56:19.165Z"
   },
   {
    "duration": 219,
    "start_time": "2022-02-01T16:56:19.171Z"
   },
   {
    "duration": 6,
    "start_time": "2022-02-01T16:56:19.392Z"
   },
   {
    "duration": 18,
    "start_time": "2022-02-01T16:56:19.399Z"
   },
   {
    "duration": 6,
    "start_time": "2022-02-01T16:56:19.419Z"
   },
   {
    "duration": 25,
    "start_time": "2022-02-01T16:56:19.427Z"
   },
   {
    "duration": 5,
    "start_time": "2022-02-01T16:56:19.454Z"
   },
   {
    "duration": 59,
    "start_time": "2022-02-01T16:56:19.461Z"
   },
   {
    "duration": 18,
    "start_time": "2022-02-01T16:56:19.522Z"
   },
   {
    "duration": 6,
    "start_time": "2022-02-01T16:56:19.545Z"
   },
   {
    "duration": 4,
    "start_time": "2022-02-01T16:56:19.554Z"
   },
   {
    "duration": 5,
    "start_time": "2022-02-01T16:56:19.560Z"
   },
   {
    "duration": 45,
    "start_time": "2022-02-01T16:56:19.567Z"
   },
   {
    "duration": 101,
    "start_time": "2022-02-01T16:56:19.614Z"
   },
   {
    "duration": 94,
    "start_time": "2022-02-01T16:56:19.718Z"
   },
   {
    "duration": 15,
    "start_time": "2022-02-01T16:56:19.815Z"
   },
   {
    "duration": 14,
    "start_time": "2022-02-01T16:56:19.832Z"
   },
   {
    "duration": 99,
    "start_time": "2022-02-01T16:56:19.848Z"
   },
   {
    "duration": 205,
    "start_time": "2022-02-01T16:56:20.013Z"
   },
   {
    "duration": 291,
    "start_time": "2022-02-01T16:56:20.221Z"
   },
   {
    "duration": 575,
    "start_time": "2022-02-01T16:56:20.515Z"
   },
   {
    "duration": 489,
    "start_time": "2022-02-01T16:56:21.091Z"
   },
   {
    "duration": 13,
    "start_time": "2022-02-01T16:56:21.581Z"
   },
   {
    "duration": 632,
    "start_time": "2022-02-01T16:56:21.595Z"
   },
   {
    "duration": 646,
    "start_time": "2022-02-01T16:56:22.229Z"
   },
   {
    "duration": 1110,
    "start_time": "2022-02-01T16:56:22.877Z"
   },
   {
    "duration": 1075,
    "start_time": "2022-02-01T16:56:23.988Z"
   },
   {
    "duration": 1508,
    "start_time": "2022-02-01T16:56:25.066Z"
   },
   {
    "duration": 1520,
    "start_time": "2022-02-01T16:56:26.576Z"
   },
   {
    "duration": 4,
    "start_time": "2022-02-01T16:56:28.097Z"
   },
   {
    "duration": 23,
    "start_time": "2022-02-01T16:56:28.103Z"
   },
   {
    "duration": 103,
    "start_time": "2022-02-01T16:56:28.127Z"
   },
   {
    "duration": 776,
    "start_time": "2022-02-01T16:56:28.232Z"
   },
   {
    "duration": 798,
    "start_time": "2022-02-01T16:56:29.012Z"
   },
   {
    "duration": 1101,
    "start_time": "2022-02-01T16:56:29.812Z"
   },
   {
    "duration": 18,
    "start_time": "2022-02-01T16:56:30.915Z"
   },
   {
    "duration": 234,
    "start_time": "2022-02-01T16:56:30.935Z"
   },
   {
    "duration": 5,
    "start_time": "2022-02-01T16:56:31.170Z"
   },
   {
    "duration": 7,
    "start_time": "2022-02-01T16:56:31.177Z"
   },
   {
    "duration": 42,
    "start_time": "2022-02-01T16:56:31.186Z"
   },
   {
    "duration": 92,
    "start_time": "2022-02-01T16:56:31.230Z"
   },
   {
    "duration": 427,
    "start_time": "2022-02-01T16:56:31.324Z"
   },
   {
    "duration": 1109,
    "start_time": "2022-02-01T16:57:12.362Z"
   },
   {
    "duration": 42,
    "start_time": "2022-02-01T16:57:13.473Z"
   },
   {
    "duration": 10,
    "start_time": "2022-02-01T16:57:13.518Z"
   },
   {
    "duration": 5,
    "start_time": "2022-02-01T16:57:13.530Z"
   },
   {
    "duration": 18,
    "start_time": "2022-02-01T16:57:13.537Z"
   },
   {
    "duration": 71,
    "start_time": "2022-02-01T16:57:13.558Z"
   },
   {
    "duration": 7,
    "start_time": "2022-02-01T16:57:13.632Z"
   },
   {
    "duration": 314,
    "start_time": "2022-02-01T16:57:13.643Z"
   },
   {
    "duration": 6,
    "start_time": "2022-02-01T16:57:13.959Z"
   },
   {
    "duration": 10,
    "start_time": "2022-02-01T16:57:13.967Z"
   },
   {
    "duration": 2,
    "start_time": "2022-02-01T16:57:13.979Z"
   },
   {
    "duration": 6,
    "start_time": "2022-02-01T16:57:13.982Z"
   },
   {
    "duration": 377,
    "start_time": "2022-02-01T16:57:13.989Z"
   },
   {
    "duration": 4,
    "start_time": "2022-02-01T16:57:14.368Z"
   },
   {
    "duration": 220,
    "start_time": "2022-02-01T16:57:14.373Z"
   },
   {
    "duration": 6,
    "start_time": "2022-02-01T16:57:14.594Z"
   },
   {
    "duration": 17,
    "start_time": "2022-02-01T16:57:14.602Z"
   },
   {
    "duration": 5,
    "start_time": "2022-02-01T16:57:14.622Z"
   },
   {
    "duration": 23,
    "start_time": "2022-02-01T16:57:14.629Z"
   },
   {
    "duration": 5,
    "start_time": "2022-02-01T16:57:14.654Z"
   },
   {
    "duration": 58,
    "start_time": "2022-02-01T16:57:14.661Z"
   },
   {
    "duration": 19,
    "start_time": "2022-02-01T16:57:14.721Z"
   },
   {
    "duration": 7,
    "start_time": "2022-02-01T16:57:14.744Z"
   },
   {
    "duration": 5,
    "start_time": "2022-02-01T16:57:14.754Z"
   },
   {
    "duration": 7,
    "start_time": "2022-02-01T16:57:14.761Z"
   },
   {
    "duration": 41,
    "start_time": "2022-02-01T16:57:14.771Z"
   },
   {
    "duration": 105,
    "start_time": "2022-02-01T16:57:14.814Z"
   },
   {
    "duration": 91,
    "start_time": "2022-02-01T16:57:14.922Z"
   },
   {
    "duration": 107,
    "start_time": "2022-02-01T16:57:15.016Z"
   },
   {
    "duration": 14,
    "start_time": "2022-02-01T16:57:15.125Z"
   },
   {
    "duration": 89,
    "start_time": "2022-02-01T16:57:15.141Z"
   },
   {
    "duration": 285,
    "start_time": "2022-02-01T16:57:15.232Z"
   },
   {
    "duration": 293,
    "start_time": "2022-02-01T16:57:15.520Z"
   },
   {
    "duration": 569,
    "start_time": "2022-02-01T16:57:15.815Z"
   },
   {
    "duration": 509,
    "start_time": "2022-02-01T16:57:16.386Z"
   },
   {
    "duration": 23,
    "start_time": "2022-02-01T16:57:16.897Z"
   },
   {
    "duration": 622,
    "start_time": "2022-02-01T16:57:16.922Z"
   },
   {
    "duration": 637,
    "start_time": "2022-02-01T16:57:17.547Z"
   },
   {
    "duration": 1066,
    "start_time": "2022-02-01T16:57:18.185Z"
   },
   {
    "duration": 1102,
    "start_time": "2022-02-01T16:57:19.254Z"
   },
   {
    "duration": 1578,
    "start_time": "2022-02-01T16:57:20.358Z"
   },
   {
    "duration": 1539,
    "start_time": "2022-02-01T16:57:21.939Z"
   },
   {
    "duration": 4,
    "start_time": "2022-02-01T16:57:23.479Z"
   },
   {
    "duration": 27,
    "start_time": "2022-02-01T16:57:23.485Z"
   },
   {
    "duration": 109,
    "start_time": "2022-02-01T16:57:23.514Z"
   },
   {
    "duration": 762,
    "start_time": "2022-02-01T16:57:23.626Z"
   },
   {
    "duration": 794,
    "start_time": "2022-02-01T16:57:24.390Z"
   },
   {
    "duration": 1089,
    "start_time": "2022-02-01T16:57:25.186Z"
   },
   {
    "duration": 15,
    "start_time": "2022-02-01T16:57:26.277Z"
   },
   {
    "duration": 282,
    "start_time": "2022-02-01T16:57:26.293Z"
   },
   {
    "duration": 7,
    "start_time": "2022-02-01T16:57:26.577Z"
   },
   {
    "duration": 31,
    "start_time": "2022-02-01T16:57:26.586Z"
   },
   {
    "duration": 4,
    "start_time": "2022-02-01T16:57:26.619Z"
   },
   {
    "duration": 88,
    "start_time": "2022-02-01T16:57:26.625Z"
   },
   {
    "duration": 351,
    "start_time": "2022-02-01T16:57:26.716Z"
   },
   {
    "duration": 968,
    "start_time": "2022-02-01T17:05:08.980Z"
   },
   {
    "duration": 67,
    "start_time": "2022-02-01T17:10:39.940Z"
   },
   {
    "duration": 88,
    "start_time": "2022-02-01T17:11:20.930Z"
   },
   {
    "duration": 1079,
    "start_time": "2022-02-01T17:11:27.304Z"
   },
   {
    "duration": 45,
    "start_time": "2022-02-01T17:11:28.385Z"
   },
   {
    "duration": 8,
    "start_time": "2022-02-01T17:11:28.432Z"
   },
   {
    "duration": 4,
    "start_time": "2022-02-01T17:11:28.442Z"
   },
   {
    "duration": 13,
    "start_time": "2022-02-01T17:11:28.448Z"
   },
   {
    "duration": 67,
    "start_time": "2022-02-01T17:11:28.462Z"
   },
   {
    "duration": 6,
    "start_time": "2022-02-01T17:11:28.530Z"
   },
   {
    "duration": 290,
    "start_time": "2022-02-01T17:11:28.538Z"
   },
   {
    "duration": 4,
    "start_time": "2022-02-01T17:11:28.831Z"
   },
   {
    "duration": 8,
    "start_time": "2022-02-01T17:11:28.837Z"
   },
   {
    "duration": 3,
    "start_time": "2022-02-01T17:11:28.846Z"
   },
   {
    "duration": 6,
    "start_time": "2022-02-01T17:11:28.850Z"
   },
   {
    "duration": 331,
    "start_time": "2022-02-01T17:11:28.857Z"
   },
   {
    "duration": 5,
    "start_time": "2022-02-01T17:11:29.190Z"
   },
   {
    "duration": 205,
    "start_time": "2022-02-01T17:11:29.196Z"
   },
   {
    "duration": 12,
    "start_time": "2022-02-01T17:11:29.403Z"
   },
   {
    "duration": 8,
    "start_time": "2022-02-01T17:11:29.417Z"
   },
   {
    "duration": 4,
    "start_time": "2022-02-01T17:11:29.427Z"
   },
   {
    "duration": 21,
    "start_time": "2022-02-01T17:11:29.432Z"
   },
   {
    "duration": 4,
    "start_time": "2022-02-01T17:11:29.455Z"
   },
   {
    "duration": 53,
    "start_time": "2022-02-01T17:11:29.461Z"
   },
   {
    "duration": 17,
    "start_time": "2022-02-01T17:11:29.516Z"
   },
   {
    "duration": 5,
    "start_time": "2022-02-01T17:11:29.535Z"
   },
   {
    "duration": 4,
    "start_time": "2022-02-01T17:11:29.542Z"
   },
   {
    "duration": 4,
    "start_time": "2022-02-01T17:11:29.547Z"
   },
   {
    "duration": 12,
    "start_time": "2022-02-01T17:11:29.553Z"
   },
   {
    "duration": 4,
    "start_time": "2022-02-01T17:11:29.568Z"
   },
   {
    "duration": 50,
    "start_time": "2022-02-01T17:11:29.574Z"
   },
   {
    "duration": 14,
    "start_time": "2022-02-01T17:11:29.626Z"
   },
   {
    "duration": 171,
    "start_time": "2022-02-01T17:11:29.641Z"
   },
   {
    "duration": 202,
    "start_time": "2022-02-01T17:11:29.816Z"
   },
   {
    "duration": 194,
    "start_time": "2022-02-01T17:11:30.020Z"
   },
   {
    "duration": 535,
    "start_time": "2022-02-01T17:11:30.218Z"
   },
   {
    "duration": 472,
    "start_time": "2022-02-01T17:11:30.755Z"
   },
   {
    "duration": 12,
    "start_time": "2022-02-01T17:11:31.229Z"
   },
   {
    "duration": 597,
    "start_time": "2022-02-01T17:11:31.243Z"
   },
   {
    "duration": 650,
    "start_time": "2022-02-01T17:11:31.841Z"
   },
   {
    "duration": 1084,
    "start_time": "2022-02-01T17:11:32.493Z"
   },
   {
    "duration": 1002,
    "start_time": "2022-02-01T17:11:33.578Z"
   },
   {
    "duration": 1338,
    "start_time": "2022-02-01T17:11:34.582Z"
   },
   {
    "duration": 1338,
    "start_time": "2022-02-01T17:11:35.922Z"
   },
   {
    "duration": 4,
    "start_time": "2022-02-01T17:11:37.261Z"
   },
   {
    "duration": 16,
    "start_time": "2022-02-01T17:11:37.267Z"
   },
   {
    "duration": 130,
    "start_time": "2022-02-01T17:11:37.284Z"
   },
   {
    "duration": 678,
    "start_time": "2022-02-01T17:11:37.416Z"
   },
   {
    "duration": 771,
    "start_time": "2022-02-01T17:11:38.096Z"
   },
   {
    "duration": 1014,
    "start_time": "2022-02-01T17:11:38.869Z"
   },
   {
    "duration": 33,
    "start_time": "2022-02-01T17:11:39.885Z"
   },
   {
    "duration": 200,
    "start_time": "2022-02-01T17:11:39.920Z"
   },
   {
    "duration": 5,
    "start_time": "2022-02-01T17:11:40.122Z"
   },
   {
    "duration": 6,
    "start_time": "2022-02-01T17:11:40.129Z"
   },
   {
    "duration": 3,
    "start_time": "2022-02-01T17:11:40.136Z"
   },
   {
    "duration": 81,
    "start_time": "2022-02-01T17:11:40.140Z"
   },
   {
    "duration": 310,
    "start_time": "2022-02-01T17:11:40.313Z"
   },
   {
    "duration": 1026,
    "start_time": "2022-02-01T17:11:40.625Z"
   },
   {
    "duration": 64,
    "start_time": "2022-02-01T17:11:41.653Z"
   },
   {
    "duration": 1018,
    "start_time": "2022-02-01T17:11:55.834Z"
   },
   {
    "duration": 42,
    "start_time": "2022-02-01T17:11:56.853Z"
   },
   {
    "duration": 9,
    "start_time": "2022-02-01T17:11:56.897Z"
   },
   {
    "duration": 4,
    "start_time": "2022-02-01T17:11:56.912Z"
   },
   {
    "duration": 12,
    "start_time": "2022-02-01T17:11:56.918Z"
   },
   {
    "duration": 40,
    "start_time": "2022-02-01T17:11:56.932Z"
   },
   {
    "duration": 6,
    "start_time": "2022-02-01T17:11:56.974Z"
   },
   {
    "duration": 306,
    "start_time": "2022-02-01T17:11:56.981Z"
   },
   {
    "duration": 4,
    "start_time": "2022-02-01T17:11:57.290Z"
   },
   {
    "duration": 22,
    "start_time": "2022-02-01T17:11:57.296Z"
   },
   {
    "duration": 4,
    "start_time": "2022-02-01T17:11:57.320Z"
   },
   {
    "duration": 7,
    "start_time": "2022-02-01T17:11:57.326Z"
   },
   {
    "duration": 306,
    "start_time": "2022-02-01T17:11:57.334Z"
   },
   {
    "duration": 4,
    "start_time": "2022-02-01T17:11:57.642Z"
   },
   {
    "duration": 203,
    "start_time": "2022-02-01T17:11:57.648Z"
   },
   {
    "duration": 7,
    "start_time": "2022-02-01T17:11:57.852Z"
   },
   {
    "duration": 15,
    "start_time": "2022-02-01T17:11:57.861Z"
   },
   {
    "duration": 10,
    "start_time": "2022-02-01T17:11:57.877Z"
   },
   {
    "duration": 28,
    "start_time": "2022-02-01T17:11:57.888Z"
   },
   {
    "duration": 4,
    "start_time": "2022-02-01T17:11:57.917Z"
   },
   {
    "duration": 21,
    "start_time": "2022-02-01T17:11:57.923Z"
   },
   {
    "duration": 17,
    "start_time": "2022-02-01T17:11:57.946Z"
   },
   {
    "duration": 5,
    "start_time": "2022-02-01T17:11:57.964Z"
   },
   {
    "duration": 7,
    "start_time": "2022-02-01T17:11:57.971Z"
   },
   {
    "duration": 34,
    "start_time": "2022-02-01T17:11:57.979Z"
   },
   {
    "duration": 13,
    "start_time": "2022-02-01T17:11:58.015Z"
   },
   {
    "duration": 5,
    "start_time": "2022-02-01T17:11:58.032Z"
   },
   {
    "duration": 20,
    "start_time": "2022-02-01T17:11:58.039Z"
   },
   {
    "duration": 13,
    "start_time": "2022-02-01T17:11:58.060Z"
   },
   {
    "duration": 140,
    "start_time": "2022-02-01T17:11:58.075Z"
   },
   {
    "duration": 199,
    "start_time": "2022-02-01T17:11:58.218Z"
   },
   {
    "duration": 196,
    "start_time": "2022-02-01T17:11:58.420Z"
   },
   {
    "duration": 524,
    "start_time": "2022-02-01T17:11:58.618Z"
   },
   {
    "duration": 458,
    "start_time": "2022-02-01T17:11:59.144Z"
   },
   {
    "duration": 17,
    "start_time": "2022-02-01T17:11:59.604Z"
   },
   {
    "duration": 578,
    "start_time": "2022-02-01T17:11:59.623Z"
   },
   {
    "duration": 596,
    "start_time": "2022-02-01T17:12:00.203Z"
   },
   {
    "duration": 1050,
    "start_time": "2022-02-01T17:12:00.801Z"
   },
   {
    "duration": 1023,
    "start_time": "2022-02-01T17:12:01.853Z"
   },
   {
    "duration": 1474,
    "start_time": "2022-02-01T17:12:02.878Z"
   },
   {
    "duration": 1569,
    "start_time": "2022-02-01T17:12:04.354Z"
   },
   {
    "duration": 3,
    "start_time": "2022-02-01T17:12:05.925Z"
   },
   {
    "duration": 20,
    "start_time": "2022-02-01T17:12:05.930Z"
   },
   {
    "duration": 160,
    "start_time": "2022-02-01T17:12:05.951Z"
   },
   {
    "duration": 640,
    "start_time": "2022-02-01T17:12:06.115Z"
   },
   {
    "duration": 732,
    "start_time": "2022-02-01T17:12:06.757Z"
   },
   {
    "duration": 994,
    "start_time": "2022-02-01T17:12:07.491Z"
   },
   {
    "duration": 28,
    "start_time": "2022-02-01T17:12:08.487Z"
   },
   {
    "duration": 214,
    "start_time": "2022-02-01T17:12:08.517Z"
   },
   {
    "duration": 6,
    "start_time": "2022-02-01T17:12:08.733Z"
   },
   {
    "duration": 7,
    "start_time": "2022-02-01T17:12:08.741Z"
   },
   {
    "duration": 3,
    "start_time": "2022-02-01T17:12:08.750Z"
   },
   {
    "duration": 66,
    "start_time": "2022-02-01T17:12:08.755Z"
   },
   {
    "duration": 409,
    "start_time": "2022-02-01T17:12:08.823Z"
   },
   {
    "duration": 991,
    "start_time": "2022-02-01T17:12:09.234Z"
   },
   {
    "duration": 95,
    "start_time": "2022-02-01T17:12:10.227Z"
   },
   {
    "duration": 571,
    "start_time": "2022-02-01T17:13:35.898Z"
   },
   {
    "duration": 975,
    "start_time": "2022-02-01T17:14:52.281Z"
   },
   {
    "duration": 1018,
    "start_time": "2022-02-01T17:15:07.933Z"
   },
   {
    "duration": 41,
    "start_time": "2022-02-01T17:15:08.953Z"
   },
   {
    "duration": 8,
    "start_time": "2022-02-01T17:15:08.996Z"
   },
   {
    "duration": 4,
    "start_time": "2022-02-01T17:15:09.012Z"
   },
   {
    "duration": 12,
    "start_time": "2022-02-01T17:15:09.018Z"
   },
   {
    "duration": 39,
    "start_time": "2022-02-01T17:15:09.032Z"
   },
   {
    "duration": 6,
    "start_time": "2022-02-01T17:15:09.073Z"
   },
   {
    "duration": 295,
    "start_time": "2022-02-01T17:15:09.080Z"
   },
   {
    "duration": 6,
    "start_time": "2022-02-01T17:15:09.377Z"
   },
   {
    "duration": 7,
    "start_time": "2022-02-01T17:15:09.384Z"
   },
   {
    "duration": 19,
    "start_time": "2022-02-01T17:15:09.393Z"
   },
   {
    "duration": 6,
    "start_time": "2022-02-01T17:15:09.414Z"
   },
   {
    "duration": 322,
    "start_time": "2022-02-01T17:15:09.421Z"
   },
   {
    "duration": 5,
    "start_time": "2022-02-01T17:15:09.745Z"
   },
   {
    "duration": 213,
    "start_time": "2022-02-01T17:15:09.752Z"
   },
   {
    "duration": 7,
    "start_time": "2022-02-01T17:15:09.966Z"
   },
   {
    "duration": 8,
    "start_time": "2022-02-01T17:15:09.974Z"
   },
   {
    "duration": 4,
    "start_time": "2022-02-01T17:15:09.985Z"
   },
   {
    "duration": 37,
    "start_time": "2022-02-01T17:15:09.992Z"
   },
   {
    "duration": 4,
    "start_time": "2022-02-01T17:15:10.031Z"
   },
   {
    "duration": 32,
    "start_time": "2022-02-01T17:15:10.037Z"
   },
   {
    "duration": 16,
    "start_time": "2022-02-01T17:15:10.071Z"
   },
   {
    "duration": 27,
    "start_time": "2022-02-01T17:15:10.089Z"
   },
   {
    "duration": 5,
    "start_time": "2022-02-01T17:15:10.118Z"
   },
   {
    "duration": 5,
    "start_time": "2022-02-01T17:15:10.124Z"
   },
   {
    "duration": 14,
    "start_time": "2022-02-01T17:15:10.131Z"
   },
   {
    "duration": 4,
    "start_time": "2022-02-01T17:15:10.147Z"
   },
   {
    "duration": 15,
    "start_time": "2022-02-01T17:15:10.152Z"
   },
   {
    "duration": 45,
    "start_time": "2022-02-01T17:15:10.169Z"
   },
   {
    "duration": 102,
    "start_time": "2022-02-01T17:15:10.216Z"
   },
   {
    "duration": 294,
    "start_time": "2022-02-01T17:15:10.320Z"
   },
   {
    "duration": 199,
    "start_time": "2022-02-01T17:15:10.616Z"
   },
   {
    "duration": 544,
    "start_time": "2022-02-01T17:15:10.817Z"
   },
   {
    "duration": 469,
    "start_time": "2022-02-01T17:15:11.363Z"
   },
   {
    "duration": 12,
    "start_time": "2022-02-01T17:15:11.834Z"
   },
   {
    "duration": 576,
    "start_time": "2022-02-01T17:15:11.847Z"
   },
   {
    "duration": 1030,
    "start_time": "2022-02-01T17:15:12.425Z"
   },
   {
    "duration": 999,
    "start_time": "2022-02-01T17:15:13.457Z"
   },
   {
    "duration": 1363,
    "start_time": "2022-02-01T17:15:14.457Z"
   },
   {
    "duration": 1400,
    "start_time": "2022-02-01T17:15:15.822Z"
   },
   {
    "duration": 4,
    "start_time": "2022-02-01T17:15:17.224Z"
   },
   {
    "duration": 16,
    "start_time": "2022-02-01T17:15:17.230Z"
   },
   {
    "duration": 167,
    "start_time": "2022-02-01T17:15:17.248Z"
   },
   {
    "duration": 664,
    "start_time": "2022-02-01T17:15:17.418Z"
   },
   {
    "duration": 750,
    "start_time": "2022-02-01T17:15:18.084Z"
   },
   {
    "duration": 15,
    "start_time": "2022-02-01T17:15:18.836Z"
   },
   {
    "duration": 223,
    "start_time": "2022-02-01T17:15:18.853Z"
   },
   {
    "duration": 7,
    "start_time": "2022-02-01T17:15:19.078Z"
   },
   {
    "duration": 26,
    "start_time": "2022-02-01T17:15:19.087Z"
   },
   {
    "duration": 4,
    "start_time": "2022-02-01T17:15:19.115Z"
   },
   {
    "duration": 99,
    "start_time": "2022-02-01T17:15:19.121Z"
   },
   {
    "duration": 327,
    "start_time": "2022-02-01T17:15:19.222Z"
   },
   {
    "duration": 1002,
    "start_time": "2022-02-01T17:15:19.551Z"
   },
   {
    "duration": 157,
    "start_time": "2022-02-01T17:15:20.557Z"
   },
   {
    "duration": 698,
    "start_time": "2022-02-01T17:15:20.716Z"
   },
   {
    "duration": 983,
    "start_time": "2022-02-01T17:15:21.416Z"
   },
   {
    "duration": 59,
    "start_time": "2022-02-01T17:16:19.357Z"
   },
   {
    "duration": 1049,
    "start_time": "2022-02-01T17:20:12.109Z"
   },
   {
    "duration": 44,
    "start_time": "2022-02-01T17:20:13.160Z"
   },
   {
    "duration": 8,
    "start_time": "2022-02-01T17:20:13.206Z"
   },
   {
    "duration": 6,
    "start_time": "2022-02-01T17:20:13.216Z"
   },
   {
    "duration": 13,
    "start_time": "2022-02-01T17:20:13.224Z"
   },
   {
    "duration": 43,
    "start_time": "2022-02-01T17:20:13.238Z"
   },
   {
    "duration": 31,
    "start_time": "2022-02-01T17:20:13.283Z"
   },
   {
    "duration": 290,
    "start_time": "2022-02-01T17:20:13.316Z"
   },
   {
    "duration": 5,
    "start_time": "2022-02-01T17:20:13.609Z"
   },
   {
    "duration": 7,
    "start_time": "2022-02-01T17:20:13.616Z"
   },
   {
    "duration": 4,
    "start_time": "2022-02-01T17:20:13.624Z"
   },
   {
    "duration": 6,
    "start_time": "2022-02-01T17:20:13.629Z"
   },
   {
    "duration": 331,
    "start_time": "2022-02-01T17:20:13.637Z"
   },
   {
    "duration": 5,
    "start_time": "2022-02-01T17:20:13.969Z"
   },
   {
    "duration": 208,
    "start_time": "2022-02-01T17:20:13.975Z"
   },
   {
    "duration": 7,
    "start_time": "2022-02-01T17:20:14.184Z"
   },
   {
    "duration": 23,
    "start_time": "2022-02-01T17:20:14.192Z"
   },
   {
    "duration": 5,
    "start_time": "2022-02-01T17:20:14.216Z"
   },
   {
    "duration": 21,
    "start_time": "2022-02-01T17:20:14.222Z"
   },
   {
    "duration": 4,
    "start_time": "2022-02-01T17:20:14.245Z"
   },
   {
    "duration": 21,
    "start_time": "2022-02-01T17:20:14.250Z"
   },
   {
    "duration": 45,
    "start_time": "2022-02-01T17:20:14.273Z"
   },
   {
    "duration": 6,
    "start_time": "2022-02-01T17:20:14.320Z"
   },
   {
    "duration": 4,
    "start_time": "2022-02-01T17:20:14.328Z"
   },
   {
    "duration": 5,
    "start_time": "2022-02-01T17:20:14.333Z"
   },
   {
    "duration": 16,
    "start_time": "2022-02-01T17:20:14.340Z"
   },
   {
    "duration": 6,
    "start_time": "2022-02-01T17:20:18.875Z"
   },
   {
    "duration": 6,
    "start_time": "2022-02-01T17:20:18.883Z"
   },
   {
    "duration": 3,
    "start_time": "2022-02-01T17:20:18.891Z"
   },
   {
    "duration": 117,
    "start_time": "2022-02-01T17:20:18.896Z"
   },
   {
    "duration": 327,
    "start_time": "2022-02-01T17:20:19.016Z"
   },
   {
    "duration": 1086,
    "start_time": "2022-02-01T17:20:19.345Z"
   },
   {
    "duration": 179,
    "start_time": "2022-02-01T17:20:20.433Z"
   },
   {
    "duration": 328,
    "start_time": "2022-02-01T17:20:20.615Z"
   },
   {
    "duration": 4603,
    "start_time": "2022-02-01T17:20:16.343Z"
   },
   {
    "duration": 445,
    "start_time": "2022-02-01T17:20:51.459Z"
   },
   {
    "duration": 1032,
    "start_time": "2022-02-01T17:21:40.818Z"
   },
   {
    "duration": 41,
    "start_time": "2022-02-01T17:21:41.851Z"
   },
   {
    "duration": 8,
    "start_time": "2022-02-01T17:21:41.894Z"
   },
   {
    "duration": 10,
    "start_time": "2022-02-01T17:21:41.904Z"
   },
   {
    "duration": 13,
    "start_time": "2022-02-01T17:21:41.915Z"
   },
   {
    "duration": 42,
    "start_time": "2022-02-01T17:21:41.929Z"
   },
   {
    "duration": 6,
    "start_time": "2022-02-01T17:21:41.972Z"
   },
   {
    "duration": 298,
    "start_time": "2022-02-01T17:21:41.979Z"
   },
   {
    "duration": 4,
    "start_time": "2022-02-01T17:21:42.280Z"
   },
   {
    "duration": 7,
    "start_time": "2022-02-01T17:21:42.286Z"
   },
   {
    "duration": 19,
    "start_time": "2022-02-01T17:21:42.295Z"
   },
   {
    "duration": 5,
    "start_time": "2022-02-01T17:21:42.315Z"
   },
   {
    "duration": 304,
    "start_time": "2022-02-01T17:21:42.322Z"
   },
   {
    "duration": 4,
    "start_time": "2022-02-01T17:21:42.628Z"
   },
   {
    "duration": 200,
    "start_time": "2022-02-01T17:21:42.633Z"
   },
   {
    "duration": 7,
    "start_time": "2022-02-01T17:21:42.834Z"
   },
   {
    "duration": 8,
    "start_time": "2022-02-01T17:21:42.842Z"
   },
   {
    "duration": 4,
    "start_time": "2022-02-01T17:21:42.851Z"
   },
   {
    "duration": 21,
    "start_time": "2022-02-01T17:21:42.856Z"
   },
   {
    "duration": 4,
    "start_time": "2022-02-01T17:21:42.878Z"
   },
   {
    "duration": 49,
    "start_time": "2022-02-01T17:21:42.883Z"
   },
   {
    "duration": 16,
    "start_time": "2022-02-01T17:21:42.934Z"
   },
   {
    "duration": 5,
    "start_time": "2022-02-01T17:21:42.952Z"
   },
   {
    "duration": 4,
    "start_time": "2022-02-01T17:21:42.958Z"
   },
   {
    "duration": 5,
    "start_time": "2022-02-01T17:21:42.964Z"
   },
   {
    "duration": 46,
    "start_time": "2022-02-01T17:21:42.971Z"
   },
   {
    "duration": 5,
    "start_time": "2022-02-01T17:21:43.020Z"
   },
   {
    "duration": 6,
    "start_time": "2022-02-01T17:21:43.027Z"
   },
   {
    "duration": 3,
    "start_time": "2022-02-01T17:21:43.034Z"
   },
   {
    "duration": 83,
    "start_time": "2022-02-01T17:21:43.038Z"
   },
   {
    "duration": 319,
    "start_time": "2022-02-01T17:21:43.214Z"
   },
   {
    "duration": 978,
    "start_time": "2022-02-01T17:21:43.534Z"
   },
   {
    "duration": 102,
    "start_time": "2022-02-01T17:21:44.513Z"
   },
   {
    "duration": 532,
    "start_time": "2022-02-01T17:21:44.618Z"
   },
   {
    "duration": 950,
    "start_time": "2022-02-01T17:21:45.151Z"
   },
   {
    "duration": 201,
    "start_time": "2022-02-01T17:22:32.673Z"
   },
   {
    "duration": 170,
    "start_time": "2022-02-01T17:22:43.841Z"
   },
   {
    "duration": 158,
    "start_time": "2022-02-01T17:22:59.069Z"
   },
   {
    "duration": 78,
    "start_time": "2022-02-01T17:23:10.170Z"
   },
   {
    "duration": 161,
    "start_time": "2022-02-01T17:23:20.967Z"
   },
   {
    "duration": 158,
    "start_time": "2022-02-01T17:23:33.440Z"
   },
   {
    "duration": 69,
    "start_time": "2022-02-01T17:25:00.676Z"
   },
   {
    "duration": 61,
    "start_time": "2022-02-01T17:27:04.516Z"
   },
   {
    "duration": 996,
    "start_time": "2022-02-01T17:28:55.052Z"
   },
   {
    "duration": 42,
    "start_time": "2022-02-01T17:28:56.051Z"
   },
   {
    "duration": 8,
    "start_time": "2022-02-01T17:28:56.095Z"
   },
   {
    "duration": 5,
    "start_time": "2022-02-01T17:28:56.113Z"
   },
   {
    "duration": 13,
    "start_time": "2022-02-01T17:28:56.120Z"
   },
   {
    "duration": 41,
    "start_time": "2022-02-01T17:28:56.134Z"
   },
   {
    "duration": 6,
    "start_time": "2022-02-01T17:28:56.176Z"
   },
   {
    "duration": 312,
    "start_time": "2022-02-01T17:28:56.184Z"
   },
   {
    "duration": 4,
    "start_time": "2022-02-01T17:28:56.498Z"
   },
   {
    "duration": 15,
    "start_time": "2022-02-01T17:28:56.503Z"
   },
   {
    "duration": 3,
    "start_time": "2022-02-01T17:28:56.519Z"
   },
   {
    "duration": 9,
    "start_time": "2022-02-01T17:28:56.523Z"
   },
   {
    "duration": 315,
    "start_time": "2022-02-01T17:28:56.533Z"
   },
   {
    "duration": 4,
    "start_time": "2022-02-01T17:28:56.850Z"
   },
   {
    "duration": 206,
    "start_time": "2022-02-01T17:28:56.856Z"
   },
   {
    "duration": 6,
    "start_time": "2022-02-01T17:28:57.063Z"
   },
   {
    "duration": 10,
    "start_time": "2022-02-01T17:28:57.071Z"
   },
   {
    "duration": 4,
    "start_time": "2022-02-01T17:28:57.083Z"
   },
   {
    "duration": 38,
    "start_time": "2022-02-01T17:28:57.089Z"
   },
   {
    "duration": 4,
    "start_time": "2022-02-01T17:28:57.129Z"
   },
   {
    "duration": 22,
    "start_time": "2022-02-01T17:28:57.135Z"
   },
   {
    "duration": 16,
    "start_time": "2022-02-01T17:28:57.158Z"
   },
   {
    "duration": 5,
    "start_time": "2022-02-01T17:28:57.177Z"
   },
   {
    "duration": 3,
    "start_time": "2022-02-01T17:28:57.213Z"
   },
   {
    "duration": 5,
    "start_time": "2022-02-01T17:28:57.218Z"
   },
   {
    "duration": 15,
    "start_time": "2022-02-01T17:28:57.225Z"
   },
   {
    "duration": 178,
    "start_time": "2022-02-01T17:28:57.241Z"
   },
   {
    "duration": 5,
    "start_time": "2022-02-01T17:28:57.421Z"
   },
   {
    "duration": 7,
    "start_time": "2022-02-01T17:28:57.427Z"
   },
   {
    "duration": 3,
    "start_time": "2022-02-01T17:28:57.435Z"
   },
   {
    "duration": 181,
    "start_time": "2022-02-01T17:28:57.439Z"
   },
   {
    "duration": 378,
    "start_time": "2022-02-01T17:28:57.623Z"
   },
   {
    "duration": 982,
    "start_time": "2022-02-01T17:28:58.003Z"
   },
   {
    "duration": 127,
    "start_time": "2022-02-01T17:28:58.987Z"
   },
   {
    "duration": 551,
    "start_time": "2022-02-01T17:28:59.116Z"
   },
   {
    "duration": 988,
    "start_time": "2022-02-01T17:28:59.668Z"
   },
   {
    "duration": 65,
    "start_time": "2022-02-01T17:29:00.658Z"
   },
   {
    "duration": 4768,
    "start_time": "2022-02-01T17:28:55.957Z"
   },
   {
    "duration": 1068,
    "start_time": "2022-02-01T17:29:15.980Z"
   },
   {
    "duration": 43,
    "start_time": "2022-02-01T17:29:17.050Z"
   },
   {
    "duration": 16,
    "start_time": "2022-02-01T17:29:17.096Z"
   },
   {
    "duration": 5,
    "start_time": "2022-02-01T17:29:17.114Z"
   },
   {
    "duration": 13,
    "start_time": "2022-02-01T17:29:17.121Z"
   },
   {
    "duration": 42,
    "start_time": "2022-02-01T17:29:17.136Z"
   },
   {
    "duration": 32,
    "start_time": "2022-02-01T17:29:17.181Z"
   },
   {
    "duration": 279,
    "start_time": "2022-02-01T17:29:17.216Z"
   },
   {
    "duration": 5,
    "start_time": "2022-02-01T17:29:17.497Z"
   },
   {
    "duration": 13,
    "start_time": "2022-02-01T17:29:17.504Z"
   },
   {
    "duration": 4,
    "start_time": "2022-02-01T17:29:17.519Z"
   },
   {
    "duration": 11,
    "start_time": "2022-02-01T17:29:17.524Z"
   },
   {
    "duration": 323,
    "start_time": "2022-02-01T17:29:17.537Z"
   },
   {
    "duration": 4,
    "start_time": "2022-02-01T17:29:17.861Z"
   },
   {
    "duration": 201,
    "start_time": "2022-02-01T17:29:17.867Z"
   },
   {
    "duration": 6,
    "start_time": "2022-02-01T17:29:18.070Z"
   },
   {
    "duration": 8,
    "start_time": "2022-02-01T17:29:18.078Z"
   },
   {
    "duration": 4,
    "start_time": "2022-02-01T17:29:18.088Z"
   },
   {
    "duration": 35,
    "start_time": "2022-02-01T17:29:18.093Z"
   },
   {
    "duration": 4,
    "start_time": "2022-02-01T17:29:18.130Z"
   },
   {
    "duration": 22,
    "start_time": "2022-02-01T17:29:18.135Z"
   },
   {
    "duration": 15,
    "start_time": "2022-02-01T17:29:18.159Z"
   },
   {
    "duration": 5,
    "start_time": "2022-02-01T17:29:18.177Z"
   },
   {
    "duration": 3,
    "start_time": "2022-02-01T17:29:18.212Z"
   },
   {
    "duration": 4,
    "start_time": "2022-02-01T17:29:18.217Z"
   },
   {
    "duration": 15,
    "start_time": "2022-02-01T17:29:18.223Z"
   },
   {
    "duration": 176,
    "start_time": "2022-02-01T17:29:18.239Z"
   },
   {
    "duration": 6,
    "start_time": "2022-02-01T17:29:18.416Z"
   },
   {
    "duration": 6,
    "start_time": "2022-02-01T17:29:18.424Z"
   },
   {
    "duration": 2,
    "start_time": "2022-02-01T17:29:18.432Z"
   },
   {
    "duration": 84,
    "start_time": "2022-02-01T17:29:18.436Z"
   },
   {
    "duration": 395,
    "start_time": "2022-02-01T17:29:18.522Z"
   },
   {
    "duration": 1021,
    "start_time": "2022-02-01T17:29:18.919Z"
   },
   {
    "duration": 88,
    "start_time": "2022-02-01T17:29:19.941Z"
   },
   {
    "duration": 551,
    "start_time": "2022-02-01T17:29:20.113Z"
   },
   {
    "duration": 996,
    "start_time": "2022-02-01T17:29:20.666Z"
   },
   {
    "duration": 170,
    "start_time": "2022-02-01T17:29:21.663Z"
   },
   {
    "duration": 1059,
    "start_time": "2022-02-01T17:30:07.787Z"
   },
   {
    "duration": 42,
    "start_time": "2022-02-01T17:30:08.848Z"
   },
   {
    "duration": 7,
    "start_time": "2022-02-01T17:30:08.892Z"
   },
   {
    "duration": 12,
    "start_time": "2022-02-01T17:30:08.901Z"
   },
   {
    "duration": 14,
    "start_time": "2022-02-01T17:30:08.914Z"
   },
   {
    "duration": 40,
    "start_time": "2022-02-01T17:30:08.929Z"
   },
   {
    "duration": 6,
    "start_time": "2022-02-01T17:30:08.971Z"
   },
   {
    "duration": 289,
    "start_time": "2022-02-01T17:30:08.979Z"
   },
   {
    "duration": 4,
    "start_time": "2022-02-01T17:30:09.270Z"
   },
   {
    "duration": 14,
    "start_time": "2022-02-01T17:30:09.276Z"
   },
   {
    "duration": 3,
    "start_time": "2022-02-01T17:30:09.292Z"
   },
   {
    "duration": 20,
    "start_time": "2022-02-01T17:30:09.296Z"
   },
   {
    "duration": 307,
    "start_time": "2022-02-01T17:30:09.318Z"
   },
   {
    "duration": 5,
    "start_time": "2022-02-01T17:30:09.626Z"
   },
   {
    "duration": 210,
    "start_time": "2022-02-01T17:30:09.633Z"
   },
   {
    "duration": 7,
    "start_time": "2022-02-01T17:30:09.845Z"
   },
   {
    "duration": 13,
    "start_time": "2022-02-01T17:30:09.854Z"
   },
   {
    "duration": 17,
    "start_time": "2022-02-01T17:30:09.869Z"
   },
   {
    "duration": 32,
    "start_time": "2022-02-01T17:30:09.888Z"
   },
   {
    "duration": 4,
    "start_time": "2022-02-01T17:30:09.922Z"
   },
   {
    "duration": 22,
    "start_time": "2022-02-01T17:30:09.928Z"
   },
   {
    "duration": 16,
    "start_time": "2022-02-01T17:30:09.951Z"
   },
   {
    "duration": 5,
    "start_time": "2022-02-01T17:30:09.970Z"
   },
   {
    "duration": 8,
    "start_time": "2022-02-01T17:30:09.977Z"
   },
   {
    "duration": 3,
    "start_time": "2022-02-01T17:30:10.013Z"
   },
   {
    "duration": 16,
    "start_time": "2022-02-01T17:30:10.018Z"
   },
   {
    "duration": 172,
    "start_time": "2022-02-01T17:30:10.036Z"
   },
   {
    "duration": 5,
    "start_time": "2022-02-01T17:30:10.212Z"
   },
   {
    "duration": 17,
    "start_time": "2022-02-01T17:30:10.218Z"
   },
   {
    "duration": 4,
    "start_time": "2022-02-01T17:30:10.237Z"
   },
   {
    "duration": 76,
    "start_time": "2022-02-01T17:30:10.243Z"
   },
   {
    "duration": 411,
    "start_time": "2022-02-01T17:30:10.321Z"
   },
   {
    "duration": 1045,
    "start_time": "2022-02-01T17:30:10.734Z"
   },
   {
    "duration": 133,
    "start_time": "2022-02-01T17:30:11.781Z"
   },
   {
    "duration": 552,
    "start_time": "2022-02-01T17:30:11.916Z"
   },
   {
    "duration": 1017,
    "start_time": "2022-02-01T17:30:12.470Z"
   },
   {
    "duration": 167,
    "start_time": "2022-02-01T17:30:13.489Z"
   },
   {
    "duration": 1005,
    "start_time": "2022-02-02T04:42:08.931Z"
   },
   {
    "duration": 43,
    "start_time": "2022-02-02T04:42:09.937Z"
   },
   {
    "duration": 8,
    "start_time": "2022-02-02T04:42:09.982Z"
   },
   {
    "duration": 4,
    "start_time": "2022-02-02T04:42:09.992Z"
   },
   {
    "duration": 11,
    "start_time": "2022-02-02T04:42:09.998Z"
   },
   {
    "duration": 47,
    "start_time": "2022-02-02T04:42:10.011Z"
   },
   {
    "duration": 6,
    "start_time": "2022-02-02T04:42:10.060Z"
   },
   {
    "duration": 237,
    "start_time": "2022-02-02T04:42:10.068Z"
   },
   {
    "duration": 4,
    "start_time": "2022-02-02T04:42:10.308Z"
   },
   {
    "duration": 15,
    "start_time": "2022-02-02T04:42:10.314Z"
   },
   {
    "duration": 2,
    "start_time": "2022-02-02T04:42:10.331Z"
   },
   {
    "duration": 6,
    "start_time": "2022-02-02T04:42:10.334Z"
   },
   {
    "duration": 277,
    "start_time": "2022-02-02T04:42:10.341Z"
   },
   {
    "duration": 7,
    "start_time": "2022-02-02T04:42:10.620Z"
   },
   {
    "duration": 158,
    "start_time": "2022-02-02T04:42:10.628Z"
   },
   {
    "duration": 7,
    "start_time": "2022-02-02T04:42:10.788Z"
   },
   {
    "duration": 9,
    "start_time": "2022-02-02T04:42:10.796Z"
   },
   {
    "duration": 22,
    "start_time": "2022-02-02T04:42:10.806Z"
   },
   {
    "duration": 18,
    "start_time": "2022-02-02T04:42:10.829Z"
   },
   {
    "duration": 4,
    "start_time": "2022-02-02T04:42:10.849Z"
   },
   {
    "duration": 17,
    "start_time": "2022-02-02T04:42:10.854Z"
   },
   {
    "duration": 14,
    "start_time": "2022-02-02T04:42:10.873Z"
   },
   {
    "duration": 5,
    "start_time": "2022-02-02T04:42:10.891Z"
   },
   {
    "duration": 4,
    "start_time": "2022-02-02T04:42:10.927Z"
   },
   {
    "duration": 4,
    "start_time": "2022-02-02T04:42:10.933Z"
   },
   {
    "duration": 13,
    "start_time": "2022-02-02T04:42:10.939Z"
   },
   {
    "duration": 159,
    "start_time": "2022-02-02T04:42:10.953Z"
   },
   {
    "duration": 15,
    "start_time": "2022-02-02T04:42:11.113Z"
   },
   {
    "duration": 6,
    "start_time": "2022-02-02T04:42:11.129Z"
   },
   {
    "duration": 3,
    "start_time": "2022-02-02T04:42:11.137Z"
   },
   {
    "duration": 28,
    "start_time": "2022-02-02T04:42:11.141Z"
   },
   {
    "duration": 342,
    "start_time": "2022-02-02T04:42:11.171Z"
   },
   {
    "duration": 866,
    "start_time": "2022-02-02T04:42:11.515Z"
   },
   {
    "duration": 144,
    "start_time": "2022-02-02T04:42:12.383Z"
   },
   {
    "duration": 488,
    "start_time": "2022-02-02T04:42:12.530Z"
   },
   {
    "duration": 901,
    "start_time": "2022-02-02T04:42:13.019Z"
   },
   {
    "duration": 136,
    "start_time": "2022-02-02T04:42:13.927Z"
   },
   {
    "duration": 83,
    "start_time": "2022-02-02T04:52:38.651Z"
   },
   {
    "duration": 992,
    "start_time": "2022-02-02T05:14:04.937Z"
   },
   {
    "duration": 41,
    "start_time": "2022-02-02T05:14:05.931Z"
   },
   {
    "duration": 8,
    "start_time": "2022-02-02T05:14:05.974Z"
   },
   {
    "duration": 5,
    "start_time": "2022-02-02T05:14:05.984Z"
   },
   {
    "duration": 11,
    "start_time": "2022-02-02T05:14:05.990Z"
   },
   {
    "duration": 53,
    "start_time": "2022-02-02T05:14:06.002Z"
   },
   {
    "duration": 6,
    "start_time": "2022-02-02T05:14:06.056Z"
   },
   {
    "duration": 236,
    "start_time": "2022-02-02T05:14:06.064Z"
   },
   {
    "duration": 4,
    "start_time": "2022-02-02T05:14:06.302Z"
   },
   {
    "duration": 20,
    "start_time": "2022-02-02T05:14:06.308Z"
   },
   {
    "duration": 2,
    "start_time": "2022-02-02T05:14:06.330Z"
   },
   {
    "duration": 7,
    "start_time": "2022-02-02T05:14:06.334Z"
   },
   {
    "duration": 270,
    "start_time": "2022-02-02T05:14:06.342Z"
   },
   {
    "duration": 4,
    "start_time": "2022-02-02T05:14:06.613Z"
   },
   {
    "duration": 160,
    "start_time": "2022-02-02T05:14:06.619Z"
   },
   {
    "duration": 6,
    "start_time": "2022-02-02T05:14:06.781Z"
   },
   {
    "duration": 8,
    "start_time": "2022-02-02T05:14:06.788Z"
   },
   {
    "duration": 4,
    "start_time": "2022-02-02T05:14:06.798Z"
   },
   {
    "duration": 39,
    "start_time": "2022-02-02T05:14:06.803Z"
   },
   {
    "duration": 5,
    "start_time": "2022-02-02T05:14:06.843Z"
   },
   {
    "duration": 20,
    "start_time": "2022-02-02T05:14:06.849Z"
   },
   {
    "duration": 15,
    "start_time": "2022-02-02T05:14:06.871Z"
   },
   {
    "duration": 6,
    "start_time": "2022-02-02T05:14:06.889Z"
   },
   {
    "duration": 33,
    "start_time": "2022-02-02T05:14:06.896Z"
   },
   {
    "duration": 7,
    "start_time": "2022-02-02T05:14:06.931Z"
   },
   {
    "duration": 19,
    "start_time": "2022-02-02T05:14:06.939Z"
   },
   {
    "duration": 148,
    "start_time": "2022-02-02T05:14:06.960Z"
   },
   {
    "duration": 6,
    "start_time": "2022-02-02T05:14:07.110Z"
   },
   {
    "duration": 6,
    "start_time": "2022-02-02T05:14:07.127Z"
   },
   {
    "duration": 6,
    "start_time": "2022-02-02T05:14:07.135Z"
   },
   {
    "duration": 89,
    "start_time": "2022-02-02T05:14:07.142Z"
   },
   {
    "duration": 297,
    "start_time": "2022-02-02T05:14:07.232Z"
   },
   {
    "duration": 871,
    "start_time": "2022-02-02T05:14:07.531Z"
   },
   {
    "duration": 125,
    "start_time": "2022-02-02T05:14:08.404Z"
   },
   {
    "duration": 479,
    "start_time": "2022-02-02T05:14:08.532Z"
   },
   {
    "duration": 866,
    "start_time": "2022-02-02T05:14:09.012Z"
   },
   {
    "duration": 147,
    "start_time": "2022-02-02T05:14:09.880Z"
   },
   {
    "duration": 292,
    "start_time": "2022-02-02T05:21:46.919Z"
   },
   {
    "duration": 75,
    "start_time": "2022-02-02T05:33:04.201Z"
   },
   {
    "duration": 77,
    "start_time": "2022-02-02T05:37:11.831Z"
   },
   {
    "duration": 295,
    "start_time": "2022-02-02T07:44:18.382Z"
   },
   {
    "duration": 373,
    "start_time": "2022-02-03T17:02:01.816Z"
   },
   {
    "duration": 1006,
    "start_time": "2022-02-03T17:02:11.576Z"
   },
   {
    "duration": 40,
    "start_time": "2022-02-03T17:02:12.583Z"
   },
   {
    "duration": 7,
    "start_time": "2022-02-03T17:02:12.625Z"
   },
   {
    "duration": 4,
    "start_time": "2022-02-03T17:02:12.634Z"
   },
   {
    "duration": 11,
    "start_time": "2022-02-03T17:02:12.639Z"
   },
   {
    "duration": 46,
    "start_time": "2022-02-03T17:02:12.652Z"
   },
   {
    "duration": 6,
    "start_time": "2022-02-03T17:02:12.699Z"
   },
   {
    "duration": 234,
    "start_time": "2022-02-03T17:02:12.707Z"
   },
   {
    "duration": 4,
    "start_time": "2022-02-03T17:02:12.943Z"
   },
   {
    "duration": 7,
    "start_time": "2022-02-03T17:02:12.948Z"
   },
   {
    "duration": 6,
    "start_time": "2022-02-03T17:02:12.956Z"
   },
   {
    "duration": 10,
    "start_time": "2022-02-03T17:02:12.971Z"
   },
   {
    "duration": 275,
    "start_time": "2022-02-03T17:02:12.983Z"
   },
   {
    "duration": 4,
    "start_time": "2022-02-03T17:02:13.259Z"
   },
   {
    "duration": 160,
    "start_time": "2022-02-03T17:02:13.272Z"
   },
   {
    "duration": 6,
    "start_time": "2022-02-03T17:02:13.433Z"
   },
   {
    "duration": 8,
    "start_time": "2022-02-03T17:02:13.440Z"
   },
   {
    "duration": 38,
    "start_time": "2022-02-03T17:02:13.450Z"
   },
   {
    "duration": 4,
    "start_time": "2022-02-03T17:02:13.489Z"
   },
   {
    "duration": 18,
    "start_time": "2022-02-03T17:02:13.494Z"
   },
   {
    "duration": 4,
    "start_time": "2022-02-03T17:02:13.513Z"
   },
   {
    "duration": 27,
    "start_time": "2022-02-03T17:02:13.518Z"
   },
   {
    "duration": 31,
    "start_time": "2022-02-03T17:02:13.548Z"
   },
   {
    "duration": 5,
    "start_time": "2022-02-03T17:02:13.581Z"
   },
   {
    "duration": 3,
    "start_time": "2022-02-03T17:02:13.587Z"
   },
   {
    "duration": 5,
    "start_time": "2022-02-03T17:02:13.592Z"
   },
   {
    "duration": 16,
    "start_time": "2022-02-03T17:02:13.598Z"
   },
   {
    "duration": 158,
    "start_time": "2022-02-03T17:02:13.615Z"
   },
   {
    "duration": 5,
    "start_time": "2022-02-03T17:02:13.774Z"
   },
   {
    "duration": 7,
    "start_time": "2022-02-03T17:02:13.780Z"
   },
   {
    "duration": 3,
    "start_time": "2022-02-03T17:02:13.788Z"
   },
   {
    "duration": 88,
    "start_time": "2022-02-03T17:02:13.792Z"
   },
   {
    "duration": 249,
    "start_time": "2022-02-03T17:02:13.972Z"
   },
   {
    "duration": 916,
    "start_time": "2022-02-03T17:02:14.222Z"
   },
   {
    "duration": 131,
    "start_time": "2022-02-03T17:02:15.140Z"
   },
   {
    "duration": 480,
    "start_time": "2022-02-03T17:02:15.273Z"
   },
   {
    "duration": 897,
    "start_time": "2022-02-03T17:02:15.754Z"
   },
   {
    "duration": 292,
    "start_time": "2022-02-03T17:02:16.652Z"
   },
   {
    "duration": 11,
    "start_time": "2022-02-03T17:03:17.692Z"
   },
   {
    "duration": 7,
    "start_time": "2022-02-03T17:06:02.774Z"
   },
   {
    "duration": 6,
    "start_time": "2022-02-03T17:06:42.083Z"
   },
   {
    "duration": 396,
    "start_time": "2022-02-03T17:08:01.679Z"
   },
   {
    "duration": 324,
    "start_time": "2022-02-03T17:08:24.174Z"
   },
   {
    "duration": 305,
    "start_time": "2022-02-03T17:08:49.376Z"
   },
   {
    "duration": 358,
    "start_time": "2022-02-03T17:09:08.047Z"
   },
   {
    "duration": 325,
    "start_time": "2022-02-03T17:09:18.039Z"
   },
   {
    "duration": 1027,
    "start_time": "2022-02-03T17:09:35.160Z"
   },
   {
    "duration": 42,
    "start_time": "2022-02-03T17:09:36.189Z"
   },
   {
    "duration": 8,
    "start_time": "2022-02-03T17:09:36.233Z"
   },
   {
    "duration": 5,
    "start_time": "2022-02-03T17:09:36.243Z"
   },
   {
    "duration": 24,
    "start_time": "2022-02-03T17:09:36.250Z"
   },
   {
    "duration": 35,
    "start_time": "2022-02-03T17:09:36.276Z"
   },
   {
    "duration": 7,
    "start_time": "2022-02-03T17:09:36.313Z"
   },
   {
    "duration": 367,
    "start_time": "2022-02-03T17:09:36.321Z"
   },
   {
    "duration": 5,
    "start_time": "2022-02-03T17:09:36.690Z"
   },
   {
    "duration": 7,
    "start_time": "2022-02-03T17:09:36.697Z"
   },
   {
    "duration": 5,
    "start_time": "2022-02-03T17:09:36.705Z"
   },
   {
    "duration": 5,
    "start_time": "2022-02-03T17:09:36.712Z"
   },
   {
    "duration": 288,
    "start_time": "2022-02-03T17:09:36.718Z"
   },
   {
    "duration": 3,
    "start_time": "2022-02-03T17:09:37.008Z"
   },
   {
    "duration": 171,
    "start_time": "2022-02-03T17:09:37.013Z"
   },
   {
    "duration": 6,
    "start_time": "2022-02-03T17:09:37.185Z"
   },
   {
    "duration": 8,
    "start_time": "2022-02-03T17:09:37.193Z"
   },
   {
    "duration": 10,
    "start_time": "2022-02-03T17:09:37.203Z"
   },
   {
    "duration": 6,
    "start_time": "2022-02-03T17:09:37.215Z"
   },
   {
    "duration": 6,
    "start_time": "2022-02-03T17:09:37.222Z"
   },
   {
    "duration": 22,
    "start_time": "2022-02-03T17:09:37.229Z"
   },
   {
    "duration": 4,
    "start_time": "2022-02-03T17:09:37.252Z"
   },
   {
    "duration": 23,
    "start_time": "2022-02-03T17:09:37.257Z"
   },
   {
    "duration": 15,
    "start_time": "2022-02-03T17:09:37.281Z"
   },
   {
    "duration": 5,
    "start_time": "2022-02-03T17:09:37.298Z"
   },
   {
    "duration": 7,
    "start_time": "2022-02-03T17:09:37.305Z"
   },
   {
    "duration": 6,
    "start_time": "2022-02-03T17:09:37.316Z"
   },
   {
    "duration": 20,
    "start_time": "2022-02-03T17:09:37.324Z"
   },
   {
    "duration": 201,
    "start_time": "2022-02-03T17:09:37.346Z"
   },
   {
    "duration": 5,
    "start_time": "2022-02-03T17:09:37.549Z"
   },
   {
    "duration": 6,
    "start_time": "2022-02-03T17:09:37.555Z"
   },
   {
    "duration": 2,
    "start_time": "2022-02-03T17:09:37.563Z"
   },
   {
    "duration": 202,
    "start_time": "2022-02-03T17:09:37.570Z"
   },
   {
    "duration": 338,
    "start_time": "2022-02-03T17:09:37.774Z"
   },
   {
    "duration": 1218,
    "start_time": "2022-02-03T17:09:38.114Z"
   },
   {
    "duration": 72,
    "start_time": "2022-02-03T17:09:39.333Z"
   },
   {
    "duration": 512,
    "start_time": "2022-02-03T17:09:39.473Z"
   },
   {
    "duration": 901,
    "start_time": "2022-02-03T17:09:39.987Z"
   },
   {
    "duration": 312,
    "start_time": "2022-02-03T17:09:40.890Z"
   },
   {
    "duration": 1110,
    "start_time": "2022-02-03T17:10:34.647Z"
   },
   {
    "duration": 41,
    "start_time": "2022-02-03T17:10:35.759Z"
   },
   {
    "duration": 8,
    "start_time": "2022-02-03T17:10:35.802Z"
   },
   {
    "duration": 4,
    "start_time": "2022-02-03T17:10:35.812Z"
   },
   {
    "duration": 12,
    "start_time": "2022-02-03T17:10:35.818Z"
   },
   {
    "duration": 57,
    "start_time": "2022-02-03T17:10:35.832Z"
   },
   {
    "duration": 5,
    "start_time": "2022-02-03T17:10:35.891Z"
   },
   {
    "duration": 242,
    "start_time": "2022-02-03T17:10:35.898Z"
   },
   {
    "duration": 4,
    "start_time": "2022-02-03T17:10:36.142Z"
   },
   {
    "duration": 9,
    "start_time": "2022-02-03T17:10:36.148Z"
   },
   {
    "duration": 3,
    "start_time": "2022-02-03T17:10:36.172Z"
   },
   {
    "duration": 5,
    "start_time": "2022-02-03T17:10:36.177Z"
   },
   {
    "duration": 288,
    "start_time": "2022-02-03T17:10:36.184Z"
   },
   {
    "duration": 5,
    "start_time": "2022-02-03T17:10:36.474Z"
   },
   {
    "duration": 169,
    "start_time": "2022-02-03T17:10:36.481Z"
   },
   {
    "duration": 21,
    "start_time": "2022-02-03T17:10:36.651Z"
   },
   {
    "duration": 17,
    "start_time": "2022-02-03T17:10:36.673Z"
   },
   {
    "duration": 33,
    "start_time": "2022-02-03T17:10:36.691Z"
   },
   {
    "duration": 54,
    "start_time": "2022-02-03T17:10:36.726Z"
   },
   {
    "duration": 10,
    "start_time": "2022-02-03T17:10:36.796Z"
   },
   {
    "duration": 49,
    "start_time": "2022-02-03T17:10:36.808Z"
   },
   {
    "duration": 6,
    "start_time": "2022-02-03T17:10:36.858Z"
   },
   {
    "duration": 39,
    "start_time": "2022-02-03T17:10:36.868Z"
   },
   {
    "duration": 18,
    "start_time": "2022-02-03T17:10:36.910Z"
   },
   {
    "duration": 39,
    "start_time": "2022-02-03T17:10:36.929Z"
   },
   {
    "duration": 19,
    "start_time": "2022-02-03T17:10:36.970Z"
   },
   {
    "duration": 26,
    "start_time": "2022-02-03T17:10:36.991Z"
   },
   {
    "duration": 30,
    "start_time": "2022-02-03T17:10:37.019Z"
   },
   {
    "duration": 210,
    "start_time": "2022-02-03T17:10:37.051Z"
   },
   {
    "duration": 11,
    "start_time": "2022-02-03T17:10:37.262Z"
   },
   {
    "duration": 25,
    "start_time": "2022-02-03T17:10:37.274Z"
   },
   {
    "duration": 25,
    "start_time": "2022-02-03T17:10:37.301Z"
   },
   {
    "duration": 51,
    "start_time": "2022-02-03T17:10:37.328Z"
   },
   {
    "duration": 377,
    "start_time": "2022-02-03T17:10:37.381Z"
   },
   {
    "duration": 1134,
    "start_time": "2022-02-03T17:10:37.760Z"
   },
   {
    "duration": 176,
    "start_time": "2022-02-03T17:10:38.896Z"
   },
   {
    "duration": 482,
    "start_time": "2022-02-03T17:10:39.074Z"
   },
   {
    "duration": 1059,
    "start_time": "2022-02-03T17:10:39.558Z"
   },
   {
    "duration": 289,
    "start_time": "2022-02-03T17:10:40.619Z"
   },
   {
    "duration": 1050,
    "start_time": "2022-02-04T18:10:01.683Z"
   },
   {
    "duration": 40,
    "start_time": "2022-02-04T18:10:02.734Z"
   },
   {
    "duration": 7,
    "start_time": "2022-02-04T18:10:02.776Z"
   },
   {
    "duration": 5,
    "start_time": "2022-02-04T18:10:02.785Z"
   },
   {
    "duration": 10,
    "start_time": "2022-02-04T18:10:02.791Z"
   },
   {
    "duration": 46,
    "start_time": "2022-02-04T18:10:02.803Z"
   },
   {
    "duration": 5,
    "start_time": "2022-02-04T18:10:02.851Z"
   },
   {
    "duration": 238,
    "start_time": "2022-02-04T18:10:02.858Z"
   },
   {
    "duration": 4,
    "start_time": "2022-02-04T18:10:03.098Z"
   },
   {
    "duration": 16,
    "start_time": "2022-02-04T18:10:03.104Z"
   },
   {
    "duration": 2,
    "start_time": "2022-02-04T18:10:03.121Z"
   },
   {
    "duration": 5,
    "start_time": "2022-02-04T18:10:03.125Z"
   },
   {
    "duration": 280,
    "start_time": "2022-02-04T18:10:03.131Z"
   },
   {
    "duration": 4,
    "start_time": "2022-02-04T18:10:03.412Z"
   },
   {
    "duration": 162,
    "start_time": "2022-02-04T18:10:03.426Z"
   },
   {
    "duration": 10,
    "start_time": "2022-02-04T18:10:03.590Z"
   },
   {
    "duration": 7,
    "start_time": "2022-02-04T18:10:03.602Z"
   },
   {
    "duration": 25,
    "start_time": "2022-02-04T18:10:03.611Z"
   },
   {
    "duration": 5,
    "start_time": "2022-02-04T18:10:03.637Z"
   },
   {
    "duration": 13,
    "start_time": "2022-02-04T18:10:03.643Z"
   },
   {
    "duration": 34,
    "start_time": "2022-02-04T18:10:03.657Z"
   },
   {
    "duration": 3,
    "start_time": "2022-02-04T18:10:03.693Z"
   },
   {
    "duration": 30,
    "start_time": "2022-02-04T18:10:03.697Z"
   },
   {
    "duration": 13,
    "start_time": "2022-02-04T18:10:03.728Z"
   },
   {
    "duration": 12,
    "start_time": "2022-02-04T18:10:03.742Z"
   },
   {
    "duration": 5,
    "start_time": "2022-02-04T18:10:03.756Z"
   },
   {
    "duration": 4,
    "start_time": "2022-02-04T18:10:03.764Z"
   },
   {
    "duration": 12,
    "start_time": "2022-02-04T18:10:03.769Z"
   },
   {
    "duration": 145,
    "start_time": "2022-02-04T18:10:03.783Z"
   },
   {
    "duration": 4,
    "start_time": "2022-02-04T18:10:03.930Z"
   },
   {
    "duration": 9,
    "start_time": "2022-02-04T18:10:03.935Z"
   },
   {
    "duration": 12,
    "start_time": "2022-02-04T18:10:03.945Z"
   },
   {
    "duration": 73,
    "start_time": "2022-02-04T18:10:03.959Z"
   },
   {
    "duration": 365,
    "start_time": "2022-02-04T18:10:04.034Z"
   },
   {
    "duration": 1269,
    "start_time": "2022-02-04T18:10:04.400Z"
   },
   {
    "duration": 255,
    "start_time": "2022-02-04T18:10:05.671Z"
   },
   {
    "duration": 478,
    "start_time": "2022-02-04T18:10:05.929Z"
   },
   {
    "duration": 1044,
    "start_time": "2022-02-04T18:10:06.408Z"
   },
   {
    "duration": 280,
    "start_time": "2022-02-04T18:10:07.454Z"
   },
   {
    "duration": 437,
    "start_time": "2022-02-04T18:16:02.653Z"
   },
   {
    "duration": 969,
    "start_time": "2022-02-04T18:16:11.959Z"
   },
   {
    "duration": 38,
    "start_time": "2022-02-04T18:16:12.929Z"
   },
   {
    "duration": 7,
    "start_time": "2022-02-04T18:16:12.969Z"
   },
   {
    "duration": 18,
    "start_time": "2022-02-04T18:16:12.977Z"
   },
   {
    "duration": 29,
    "start_time": "2022-02-04T18:16:12.997Z"
   },
   {
    "duration": 36,
    "start_time": "2022-02-04T18:16:13.027Z"
   },
   {
    "duration": 4,
    "start_time": "2022-02-04T18:16:13.065Z"
   },
   {
    "duration": 225,
    "start_time": "2022-02-04T18:16:13.071Z"
   },
   {
    "duration": 4,
    "start_time": "2022-02-04T18:16:13.299Z"
   },
   {
    "duration": 19,
    "start_time": "2022-02-04T18:16:13.305Z"
   },
   {
    "duration": 14,
    "start_time": "2022-02-04T18:16:13.325Z"
   },
   {
    "duration": 17,
    "start_time": "2022-02-04T18:16:13.340Z"
   },
   {
    "duration": 276,
    "start_time": "2022-02-04T18:16:13.358Z"
   },
   {
    "duration": 4,
    "start_time": "2022-02-04T18:16:13.636Z"
   },
   {
    "duration": 162,
    "start_time": "2022-02-04T18:16:13.641Z"
   },
   {
    "duration": 6,
    "start_time": "2022-02-04T18:16:13.804Z"
   },
   {
    "duration": 22,
    "start_time": "2022-02-04T18:16:13.811Z"
   },
   {
    "duration": 16,
    "start_time": "2022-02-04T18:16:13.834Z"
   },
   {
    "duration": 17,
    "start_time": "2022-02-04T18:16:13.851Z"
   },
   {
    "duration": 13,
    "start_time": "2022-02-04T18:16:13.870Z"
   },
   {
    "duration": 24,
    "start_time": "2022-02-04T18:16:13.884Z"
   },
   {
    "duration": 4,
    "start_time": "2022-02-04T18:16:13.909Z"
   },
   {
    "duration": 26,
    "start_time": "2022-02-04T18:16:13.915Z"
   },
   {
    "duration": 13,
    "start_time": "2022-02-04T18:16:13.942Z"
   },
   {
    "duration": 8,
    "start_time": "2022-02-04T18:16:13.957Z"
   },
   {
    "duration": 13,
    "start_time": "2022-02-04T18:16:13.966Z"
   },
   {
    "duration": 15,
    "start_time": "2022-02-04T18:16:13.980Z"
   },
   {
    "duration": 20,
    "start_time": "2022-02-04T18:16:13.996Z"
   },
   {
    "duration": 126,
    "start_time": "2022-02-04T18:16:14.017Z"
   },
   {
    "duration": 5,
    "start_time": "2022-02-04T18:16:14.144Z"
   },
   {
    "duration": 22,
    "start_time": "2022-02-04T18:16:14.151Z"
   },
   {
    "duration": 13,
    "start_time": "2022-02-04T18:16:14.174Z"
   },
   {
    "duration": 146,
    "start_time": "2022-02-04T18:16:14.188Z"
   },
   {
    "duration": 265,
    "start_time": "2022-02-04T18:16:14.336Z"
   },
   {
    "duration": 856,
    "start_time": "2022-02-04T18:16:14.602Z"
   },
   {
    "duration": 76,
    "start_time": "2022-02-04T18:16:15.459Z"
   },
   {
    "duration": 517,
    "start_time": "2022-02-04T18:16:15.536Z"
   },
   {
    "duration": 849,
    "start_time": "2022-02-04T18:16:16.055Z"
   },
   {
    "duration": 305,
    "start_time": "2022-02-04T18:16:16.905Z"
   },
   {
    "duration": 1107,
    "start_time": "2022-02-04T18:18:52.290Z"
   },
   {
    "duration": 52,
    "start_time": "2022-02-04T18:18:53.399Z"
   },
   {
    "duration": 8,
    "start_time": "2022-02-04T18:18:53.453Z"
   },
   {
    "duration": 16,
    "start_time": "2022-02-04T18:18:53.462Z"
   },
   {
    "duration": 17,
    "start_time": "2022-02-04T18:18:53.480Z"
   },
   {
    "duration": 39,
    "start_time": "2022-02-04T18:18:53.499Z"
   },
   {
    "duration": 6,
    "start_time": "2022-02-04T18:18:53.540Z"
   },
   {
    "duration": 231,
    "start_time": "2022-02-04T18:18:53.549Z"
   },
   {
    "duration": 4,
    "start_time": "2022-02-04T18:18:53.782Z"
   },
   {
    "duration": 6,
    "start_time": "2022-02-04T18:18:53.787Z"
   },
   {
    "duration": 2,
    "start_time": "2022-02-04T18:18:53.795Z"
   },
   {
    "duration": 5,
    "start_time": "2022-02-04T18:18:53.798Z"
   },
   {
    "duration": 283,
    "start_time": "2022-02-04T18:18:53.804Z"
   },
   {
    "duration": 4,
    "start_time": "2022-02-04T18:18:54.089Z"
   },
   {
    "duration": 166,
    "start_time": "2022-02-04T18:18:54.094Z"
   },
   {
    "duration": 5,
    "start_time": "2022-02-04T18:18:54.262Z"
   },
   {
    "duration": 8,
    "start_time": "2022-02-04T18:18:54.269Z"
   },
   {
    "duration": 13,
    "start_time": "2022-02-04T18:18:54.278Z"
   },
   {
    "duration": 9,
    "start_time": "2022-02-04T18:18:54.293Z"
   },
   {
    "duration": 5,
    "start_time": "2022-02-04T18:18:54.327Z"
   },
   {
    "duration": 18,
    "start_time": "2022-02-04T18:18:54.333Z"
   },
   {
    "duration": 4,
    "start_time": "2022-02-04T18:18:54.352Z"
   },
   {
    "duration": 17,
    "start_time": "2022-02-04T18:18:54.359Z"
   },
   {
    "duration": 15,
    "start_time": "2022-02-04T18:18:54.377Z"
   },
   {
    "duration": 5,
    "start_time": "2022-02-04T18:18:54.393Z"
   },
   {
    "duration": 5,
    "start_time": "2022-02-04T18:18:54.427Z"
   },
   {
    "duration": 4,
    "start_time": "2022-02-04T18:18:54.433Z"
   },
   {
    "duration": 11,
    "start_time": "2022-02-04T18:18:54.439Z"
   },
   {
    "duration": 145,
    "start_time": "2022-02-04T18:18:54.452Z"
   },
   {
    "duration": 5,
    "start_time": "2022-02-04T18:18:54.599Z"
   },
   {
    "duration": 6,
    "start_time": "2022-02-04T18:18:54.605Z"
   },
   {
    "duration": 15,
    "start_time": "2022-02-04T18:18:54.613Z"
   },
   {
    "duration": 99,
    "start_time": "2022-02-04T18:18:54.629Z"
   },
   {
    "duration": 263,
    "start_time": "2022-02-04T18:18:54.730Z"
   },
   {
    "duration": 894,
    "start_time": "2022-02-04T18:18:54.994Z"
   },
   {
    "duration": 75,
    "start_time": "2022-02-04T18:18:55.890Z"
   },
   {
    "duration": 438,
    "start_time": "2022-02-04T18:18:56.031Z"
   },
   {
    "duration": 858,
    "start_time": "2022-02-04T18:18:56.470Z"
   },
   {
    "duration": 248,
    "start_time": "2022-02-04T18:18:57.330Z"
   },
   {
    "duration": 1153,
    "start_time": "2022-02-04T18:31:19.407Z"
   },
   {
    "duration": 41,
    "start_time": "2022-02-04T18:31:20.562Z"
   },
   {
    "duration": 7,
    "start_time": "2022-02-04T18:31:20.604Z"
   },
   {
    "duration": 5,
    "start_time": "2022-02-04T18:31:20.613Z"
   },
   {
    "duration": 17,
    "start_time": "2022-02-04T18:31:20.619Z"
   },
   {
    "duration": 49,
    "start_time": "2022-02-04T18:31:20.637Z"
   },
   {
    "duration": 4,
    "start_time": "2022-02-04T18:31:20.688Z"
   },
   {
    "duration": 234,
    "start_time": "2022-02-04T18:31:20.694Z"
   },
   {
    "duration": 5,
    "start_time": "2022-02-04T18:31:20.931Z"
   },
   {
    "duration": 20,
    "start_time": "2022-02-04T18:31:20.937Z"
   },
   {
    "duration": 2,
    "start_time": "2022-02-04T18:31:20.959Z"
   },
   {
    "duration": 5,
    "start_time": "2022-02-04T18:31:20.963Z"
   },
   {
    "duration": 292,
    "start_time": "2022-02-04T18:31:20.969Z"
   },
   {
    "duration": 5,
    "start_time": "2022-02-04T18:31:21.262Z"
   },
   {
    "duration": 241,
    "start_time": "2022-02-04T18:31:21.269Z"
   },
   {
    "duration": 16,
    "start_time": "2022-02-04T18:31:21.512Z"
   },
   {
    "duration": 7,
    "start_time": "2022-02-04T18:31:21.530Z"
   },
   {
    "duration": 20,
    "start_time": "2022-02-04T18:31:21.539Z"
   },
   {
    "duration": 8,
    "start_time": "2022-02-04T18:31:21.561Z"
   },
   {
    "duration": 9,
    "start_time": "2022-02-04T18:31:21.570Z"
   },
   {
    "duration": 17,
    "start_time": "2022-02-04T18:31:21.581Z"
   },
   {
    "duration": 40,
    "start_time": "2022-02-04T18:31:21.600Z"
   },
   {
    "duration": 5,
    "start_time": "2022-02-04T18:31:21.644Z"
   },
   {
    "duration": 448,
    "start_time": "2022-02-04T18:31:21.651Z"
   },
   {
    "duration": 649,
    "start_time": "2022-02-04T18:31:21.453Z"
   },
   {
    "duration": 636,
    "start_time": "2022-02-04T18:31:21.467Z"
   },
   {
    "duration": 626,
    "start_time": "2022-02-04T18:31:21.479Z"
   },
   {
    "duration": 616,
    "start_time": "2022-02-04T18:31:21.490Z"
   },
   {
    "duration": 608,
    "start_time": "2022-02-04T18:31:21.499Z"
   },
   {
    "duration": 601,
    "start_time": "2022-02-04T18:31:21.507Z"
   },
   {
    "duration": 595,
    "start_time": "2022-02-04T18:31:21.515Z"
   },
   {
    "duration": 589,
    "start_time": "2022-02-04T18:31:21.522Z"
   },
   {
    "duration": 583,
    "start_time": "2022-02-04T18:31:21.529Z"
   },
   {
    "duration": 577,
    "start_time": "2022-02-04T18:31:21.536Z"
   },
   {
    "duration": 572,
    "start_time": "2022-02-04T18:31:21.542Z"
   },
   {
    "duration": 558,
    "start_time": "2022-02-04T18:31:21.558Z"
   },
   {
    "duration": 556,
    "start_time": "2022-02-04T18:31:21.561Z"
   },
   {
    "duration": 553,
    "start_time": "2022-02-04T18:31:21.565Z"
   },
   {
    "duration": 550,
    "start_time": "2022-02-04T18:31:21.568Z"
   },
   {
    "duration": 548,
    "start_time": "2022-02-04T18:31:21.571Z"
   },
   {
    "duration": 1059,
    "start_time": "2022-02-04T18:32:01.182Z"
   },
   {
    "duration": 42,
    "start_time": "2022-02-04T18:32:02.243Z"
   },
   {
    "duration": 7,
    "start_time": "2022-02-04T18:32:02.287Z"
   },
   {
    "duration": 4,
    "start_time": "2022-02-04T18:32:02.295Z"
   },
   {
    "duration": 12,
    "start_time": "2022-02-04T18:32:02.301Z"
   },
   {
    "duration": 42,
    "start_time": "2022-02-04T18:32:02.315Z"
   },
   {
    "duration": 5,
    "start_time": "2022-02-04T18:32:02.359Z"
   },
   {
    "duration": 240,
    "start_time": "2022-02-04T18:32:02.365Z"
   },
   {
    "duration": 4,
    "start_time": "2022-02-04T18:32:02.608Z"
   },
   {
    "duration": 17,
    "start_time": "2022-02-04T18:32:02.614Z"
   },
   {
    "duration": 3,
    "start_time": "2022-02-04T18:32:02.632Z"
   },
   {
    "duration": 6,
    "start_time": "2022-02-04T18:32:02.637Z"
   },
   {
    "duration": 277,
    "start_time": "2022-02-04T18:32:02.644Z"
   },
   {
    "duration": 5,
    "start_time": "2022-02-04T18:32:02.923Z"
   },
   {
    "duration": 161,
    "start_time": "2022-02-04T18:32:02.929Z"
   },
   {
    "duration": 5,
    "start_time": "2022-02-04T18:32:03.092Z"
   },
   {
    "duration": 11,
    "start_time": "2022-02-04T18:32:03.098Z"
   },
   {
    "duration": 22,
    "start_time": "2022-02-04T18:32:03.110Z"
   },
   {
    "duration": 6,
    "start_time": "2022-02-04T18:32:03.134Z"
   },
   {
    "duration": 5,
    "start_time": "2022-02-04T18:32:03.142Z"
   },
   {
    "duration": 13,
    "start_time": "2022-02-04T18:32:03.148Z"
   },
   {
    "duration": 15,
    "start_time": "2022-02-04T18:32:03.163Z"
   },
   {
    "duration": 3,
    "start_time": "2022-02-04T18:32:03.180Z"
   },
   {
    "duration": 15,
    "start_time": "2022-02-04T18:32:03.185Z"
   },
   {
    "duration": 3,
    "start_time": "2022-02-04T18:32:03.227Z"
   },
   {
    "duration": 7,
    "start_time": "2022-02-04T18:32:03.232Z"
   },
   {
    "duration": 3,
    "start_time": "2022-02-04T18:32:03.242Z"
   },
   {
    "duration": 3,
    "start_time": "2022-02-04T18:32:03.247Z"
   },
   {
    "duration": 434,
    "start_time": "2022-02-04T18:32:03.252Z"
   },
   {
    "duration": 875,
    "start_time": "2022-02-04T18:32:02.813Z"
   },
   {
    "duration": 871,
    "start_time": "2022-02-04T18:32:02.818Z"
   },
   {
    "duration": 714,
    "start_time": "2022-02-04T18:32:02.975Z"
   },
   {
    "duration": 709,
    "start_time": "2022-02-04T18:32:02.981Z"
   },
   {
    "duration": 705,
    "start_time": "2022-02-04T18:32:02.986Z"
   },
   {
    "duration": 700,
    "start_time": "2022-02-04T18:32:02.992Z"
   },
   {
    "duration": 696,
    "start_time": "2022-02-04T18:32:02.997Z"
   },
   {
    "duration": 690,
    "start_time": "2022-02-04T18:32:03.003Z"
   },
   {
    "duration": 687,
    "start_time": "2022-02-04T18:32:03.007Z"
   },
   {
    "duration": 682,
    "start_time": "2022-02-04T18:32:03.013Z"
   },
   {
    "duration": 679,
    "start_time": "2022-02-04T18:32:03.017Z"
   },
   {
    "duration": 961,
    "start_time": "2022-02-04T18:33:01.978Z"
   },
   {
    "duration": 40,
    "start_time": "2022-02-04T18:33:02.940Z"
   },
   {
    "duration": 7,
    "start_time": "2022-02-04T18:33:02.982Z"
   },
   {
    "duration": 3,
    "start_time": "2022-02-04T18:33:02.991Z"
   },
   {
    "duration": 14,
    "start_time": "2022-02-04T18:33:02.995Z"
   },
   {
    "duration": 42,
    "start_time": "2022-02-04T18:33:03.010Z"
   },
   {
    "duration": 5,
    "start_time": "2022-02-04T18:33:03.054Z"
   },
   {
    "duration": 232,
    "start_time": "2022-02-04T18:33:03.062Z"
   },
   {
    "duration": 4,
    "start_time": "2022-02-04T18:33:03.297Z"
   },
   {
    "duration": 9,
    "start_time": "2022-02-04T18:33:03.302Z"
   },
   {
    "duration": 2,
    "start_time": "2022-02-04T18:33:03.313Z"
   },
   {
    "duration": 6,
    "start_time": "2022-02-04T18:33:03.327Z"
   },
   {
    "duration": 266,
    "start_time": "2022-02-04T18:33:03.334Z"
   },
   {
    "duration": 3,
    "start_time": "2022-02-04T18:33:03.602Z"
   },
   {
    "duration": 164,
    "start_time": "2022-02-04T18:33:03.607Z"
   },
   {
    "duration": 5,
    "start_time": "2022-02-04T18:33:03.773Z"
   },
   {
    "duration": 7,
    "start_time": "2022-02-04T18:33:03.779Z"
   },
   {
    "duration": 9,
    "start_time": "2022-02-04T18:33:03.788Z"
   },
   {
    "duration": 28,
    "start_time": "2022-02-04T18:33:03.799Z"
   },
   {
    "duration": 4,
    "start_time": "2022-02-04T18:33:03.828Z"
   },
   {
    "duration": 13,
    "start_time": "2022-02-04T18:33:03.833Z"
   },
   {
    "duration": 19,
    "start_time": "2022-02-04T18:33:03.848Z"
   },
   {
    "duration": 4,
    "start_time": "2022-02-04T18:33:03.870Z"
   },
   {
    "duration": 16,
    "start_time": "2022-02-04T18:33:03.876Z"
   },
   {
    "duration": 3,
    "start_time": "2022-02-04T18:33:03.893Z"
   },
   {
    "duration": 33,
    "start_time": "2022-02-04T18:33:03.897Z"
   },
   {
    "duration": 6,
    "start_time": "2022-02-04T18:33:03.932Z"
   },
   {
    "duration": 6,
    "start_time": "2022-02-04T18:33:03.939Z"
   },
   {
    "duration": 7,
    "start_time": "2022-02-04T18:33:03.946Z"
   },
   {
    "duration": 137,
    "start_time": "2022-02-04T18:33:03.954Z"
   },
   {
    "duration": 5,
    "start_time": "2022-02-04T18:33:04.092Z"
   },
   {
    "duration": 11,
    "start_time": "2022-02-04T18:33:04.098Z"
   },
   {
    "duration": 16,
    "start_time": "2022-02-04T18:33:04.111Z"
   },
   {
    "duration": 108,
    "start_time": "2022-02-04T18:33:04.128Z"
   },
   {
    "duration": 243,
    "start_time": "2022-02-04T18:33:04.327Z"
   },
   {
    "duration": 861,
    "start_time": "2022-02-04T18:33:04.571Z"
   },
   {
    "duration": 103,
    "start_time": "2022-02-04T18:33:05.433Z"
   },
   {
    "duration": 519,
    "start_time": "2022-02-04T18:33:05.538Z"
   },
   {
    "duration": 846,
    "start_time": "2022-02-04T18:33:06.059Z"
   },
   {
    "duration": 252,
    "start_time": "2022-02-04T18:33:06.906Z"
   },
   {
    "duration": 405,
    "start_time": "2022-02-05T17:48:14.437Z"
   },
   {
    "duration": 1273,
    "start_time": "2022-02-05T17:48:22.589Z"
   },
   {
    "duration": 59,
    "start_time": "2022-02-05T17:48:23.865Z"
   },
   {
    "duration": 25,
    "start_time": "2022-02-05T17:48:23.928Z"
   },
   {
    "duration": 7,
    "start_time": "2022-02-05T17:48:23.956Z"
   },
   {
    "duration": 18,
    "start_time": "2022-02-05T17:48:23.966Z"
   },
   {
    "duration": 88,
    "start_time": "2022-02-05T17:48:23.986Z"
   },
   {
    "duration": 8,
    "start_time": "2022-02-05T17:48:24.077Z"
   },
   {
    "duration": 410,
    "start_time": "2022-02-05T17:48:24.087Z"
   },
   {
    "duration": 6,
    "start_time": "2022-02-05T17:48:24.501Z"
   },
   {
    "duration": 11,
    "start_time": "2022-02-05T17:48:24.510Z"
   },
   {
    "duration": 24,
    "start_time": "2022-02-05T17:48:24.524Z"
   },
   {
    "duration": 6,
    "start_time": "2022-02-05T17:48:24.550Z"
   },
   {
    "duration": 544,
    "start_time": "2022-02-05T17:48:24.558Z"
   },
   {
    "duration": 6,
    "start_time": "2022-02-05T17:48:25.104Z"
   },
   {
    "duration": 290,
    "start_time": "2022-02-05T17:48:25.112Z"
   },
   {
    "duration": 9,
    "start_time": "2022-02-05T17:48:25.404Z"
   },
   {
    "duration": 36,
    "start_time": "2022-02-05T17:48:25.416Z"
   },
   {
    "duration": 17,
    "start_time": "2022-02-05T17:48:25.455Z"
   },
   {
    "duration": 11,
    "start_time": "2022-02-05T17:48:25.475Z"
   },
   {
    "duration": 8,
    "start_time": "2022-02-05T17:48:25.488Z"
   },
   {
    "duration": 49,
    "start_time": "2022-02-05T17:48:25.499Z"
   },
   {
    "duration": 20,
    "start_time": "2022-02-05T17:48:25.551Z"
   },
   {
    "duration": 6,
    "start_time": "2022-02-05T17:48:25.574Z"
   },
   {
    "duration": 30,
    "start_time": "2022-02-05T17:48:25.582Z"
   },
   {
    "duration": 34,
    "start_time": "2022-02-05T17:48:25.615Z"
   },
   {
    "duration": 14,
    "start_time": "2022-02-05T17:48:25.652Z"
   },
   {
    "duration": 4,
    "start_time": "2022-02-05T17:48:25.672Z"
   },
   {
    "duration": 6,
    "start_time": "2022-02-05T17:48:25.679Z"
   },
   {
    "duration": 7,
    "start_time": "2022-02-05T17:48:25.687Z"
   },
   {
    "duration": 232,
    "start_time": "2022-02-05T17:48:25.696Z"
   },
   {
    "duration": 7,
    "start_time": "2022-02-05T17:48:25.931Z"
   },
   {
    "duration": 16,
    "start_time": "2022-02-05T17:48:25.940Z"
   },
   {
    "duration": 5,
    "start_time": "2022-02-05T17:48:25.958Z"
   },
   {
    "duration": 91,
    "start_time": "2022-02-05T17:48:25.965Z"
   },
   {
    "duration": 439,
    "start_time": "2022-02-05T17:48:26.059Z"
   },
   {
    "duration": 1425,
    "start_time": "2022-02-05T17:48:26.500Z"
   },
   {
    "duration": 128,
    "start_time": "2022-02-05T17:48:27.927Z"
   },
   {
    "duration": 707,
    "start_time": "2022-02-05T17:48:28.058Z"
   },
   {
    "duration": 1323,
    "start_time": "2022-02-05T17:48:28.767Z"
   },
   {
    "duration": 440,
    "start_time": "2022-02-05T17:48:30.093Z"
   },
   {
    "duration": 17,
    "start_time": "2022-02-05T18:03:54.261Z"
   },
   {
    "duration": 29,
    "start_time": "2022-02-05T18:06:35.959Z"
   },
   {
    "duration": 1436,
    "start_time": "2022-02-05T18:06:51.420Z"
   },
   {
    "duration": 61,
    "start_time": "2022-02-05T18:06:52.859Z"
   },
   {
    "duration": 12,
    "start_time": "2022-02-05T18:06:52.923Z"
   },
   {
    "duration": 15,
    "start_time": "2022-02-05T18:06:52.938Z"
   },
   {
    "duration": 17,
    "start_time": "2022-02-05T18:06:52.956Z"
   },
   {
    "duration": 87,
    "start_time": "2022-02-05T18:06:52.975Z"
   },
   {
    "duration": 8,
    "start_time": "2022-02-05T18:06:53.065Z"
   },
   {
    "duration": 399,
    "start_time": "2022-02-05T18:06:53.077Z"
   },
   {
    "duration": 6,
    "start_time": "2022-02-05T18:06:53.480Z"
   },
   {
    "duration": 10,
    "start_time": "2022-02-05T18:06:53.489Z"
   },
   {
    "duration": 3,
    "start_time": "2022-02-05T18:06:53.502Z"
   },
   {
    "duration": 43,
    "start_time": "2022-02-05T18:06:53.508Z"
   },
   {
    "duration": 527,
    "start_time": "2022-02-05T18:06:53.554Z"
   },
   {
    "duration": 6,
    "start_time": "2022-02-05T18:06:54.084Z"
   },
   {
    "duration": 302,
    "start_time": "2022-02-05T18:06:54.092Z"
   },
   {
    "duration": 10,
    "start_time": "2022-02-05T18:06:54.396Z"
   },
   {
    "duration": 11,
    "start_time": "2022-02-05T18:06:54.408Z"
   },
   {
    "duration": 18,
    "start_time": "2022-02-05T18:06:54.448Z"
   },
   {
    "duration": 10,
    "start_time": "2022-02-05T18:06:54.468Z"
   },
   {
    "duration": 6,
    "start_time": "2022-02-05T18:06:54.480Z"
   },
   {
    "duration": 23,
    "start_time": "2022-02-05T18:06:54.488Z"
   },
   {
    "duration": 48,
    "start_time": "2022-02-05T18:06:54.514Z"
   },
   {
    "duration": 6,
    "start_time": "2022-02-05T18:06:54.567Z"
   },
   {
    "duration": 29,
    "start_time": "2022-02-05T18:06:54.575Z"
   },
   {
    "duration": 5,
    "start_time": "2022-02-05T18:06:54.606Z"
   },
   {
    "duration": 8,
    "start_time": "2022-02-05T18:06:54.649Z"
   },
   {
    "duration": 5,
    "start_time": "2022-02-05T18:06:54.660Z"
   },
   {
    "duration": 6,
    "start_time": "2022-02-05T18:06:54.667Z"
   },
   {
    "duration": 6,
    "start_time": "2022-02-05T18:06:54.675Z"
   },
   {
    "duration": 18,
    "start_time": "2022-02-05T18:06:54.683Z"
   },
   {
    "duration": 66,
    "start_time": "2022-02-05T18:06:54.703Z"
   },
   {
    "duration": 7,
    "start_time": "2022-02-05T18:06:54.771Z"
   },
   {
    "duration": 9,
    "start_time": "2022-02-05T18:06:54.781Z"
   },
   {
    "duration": 158,
    "start_time": "2022-02-05T18:06:54.792Z"
   },
   {
    "duration": 357,
    "start_time": "2022-02-05T18:06:54.953Z"
   },
   {
    "duration": 1348,
    "start_time": "2022-02-05T18:06:55.312Z"
   },
   {
    "duration": 187,
    "start_time": "2022-02-05T18:06:56.663Z"
   },
   {
    "duration": 609,
    "start_time": "2022-02-05T18:06:56.854Z"
   },
   {
    "duration": 1284,
    "start_time": "2022-02-05T18:06:57.466Z"
   },
   {
    "duration": 365,
    "start_time": "2022-02-05T18:06:58.752Z"
   },
   {
    "duration": 1356,
    "start_time": "2022-02-05T18:10:09.920Z"
   },
   {
    "duration": 59,
    "start_time": "2022-02-05T18:10:11.279Z"
   },
   {
    "duration": 16,
    "start_time": "2022-02-05T18:10:11.341Z"
   },
   {
    "duration": 7,
    "start_time": "2022-02-05T18:10:11.360Z"
   },
   {
    "duration": 24,
    "start_time": "2022-02-05T18:10:11.369Z"
   },
   {
    "duration": 92,
    "start_time": "2022-02-05T18:10:11.396Z"
   },
   {
    "duration": 10,
    "start_time": "2022-02-05T18:10:11.492Z"
   },
   {
    "duration": 429,
    "start_time": "2022-02-05T18:10:11.505Z"
   },
   {
    "duration": 6,
    "start_time": "2022-02-05T18:10:11.948Z"
   },
   {
    "duration": 13,
    "start_time": "2022-02-05T18:10:11.958Z"
   },
   {
    "duration": 7,
    "start_time": "2022-02-05T18:10:11.973Z"
   },
   {
    "duration": 9,
    "start_time": "2022-02-05T18:10:11.983Z"
   },
   {
    "duration": 541,
    "start_time": "2022-02-05T18:10:11.995Z"
   },
   {
    "duration": 11,
    "start_time": "2022-02-05T18:10:12.539Z"
   },
   {
    "duration": 296,
    "start_time": "2022-02-05T18:10:12.552Z"
   },
   {
    "duration": 12,
    "start_time": "2022-02-05T18:10:12.851Z"
   },
   {
    "duration": 14,
    "start_time": "2022-02-05T18:10:12.866Z"
   },
   {
    "duration": 20,
    "start_time": "2022-02-05T18:10:12.882Z"
   },
   {
    "duration": 52,
    "start_time": "2022-02-05T18:10:12.904Z"
   },
   {
    "duration": 9,
    "start_time": "2022-02-05T18:10:12.958Z"
   },
   {
    "duration": 34,
    "start_time": "2022-02-05T18:10:12.969Z"
   },
   {
    "duration": 24,
    "start_time": "2022-02-05T18:10:13.005Z"
   },
   {
    "duration": 5,
    "start_time": "2022-02-05T18:10:13.049Z"
   },
   {
    "duration": 31,
    "start_time": "2022-02-05T18:10:13.056Z"
   },
   {
    "duration": 5,
    "start_time": "2022-02-05T18:10:13.090Z"
   },
   {
    "duration": 10,
    "start_time": "2022-02-05T18:10:13.097Z"
   },
   {
    "duration": 37,
    "start_time": "2022-02-05T18:10:13.113Z"
   },
   {
    "duration": 5,
    "start_time": "2022-02-05T18:10:13.153Z"
   },
   {
    "duration": 13,
    "start_time": "2022-02-05T18:10:13.161Z"
   },
   {
    "duration": 23,
    "start_time": "2022-02-05T18:10:13.176Z"
   },
   {
    "duration": 54,
    "start_time": "2022-02-05T18:10:13.203Z"
   },
   {
    "duration": 9,
    "start_time": "2022-02-05T18:10:13.261Z"
   },
   {
    "duration": 13,
    "start_time": "2022-02-05T18:10:13.272Z"
   },
   {
    "duration": 164,
    "start_time": "2022-02-05T18:10:13.287Z"
   },
   {
    "duration": 357,
    "start_time": "2022-02-05T18:10:13.454Z"
   },
   {
    "duration": 1406,
    "start_time": "2022-02-05T18:10:13.814Z"
   },
   {
    "duration": 131,
    "start_time": "2022-02-05T18:10:15.222Z"
   },
   {
    "duration": 623,
    "start_time": "2022-02-05T18:10:15.357Z"
   },
   {
    "duration": 1406,
    "start_time": "2022-02-05T18:10:15.983Z"
   },
   {
    "duration": 370,
    "start_time": "2022-02-05T18:10:17.392Z"
   },
   {
    "duration": 419,
    "start_time": "2022-02-05T18:11:38.898Z"
   },
   {
    "duration": 335,
    "start_time": "2022-02-05T18:11:45.969Z"
   },
   {
    "duration": 381,
    "start_time": "2022-02-05T18:11:53.654Z"
   },
   {
    "duration": 23,
    "start_time": "2022-02-05T18:13:31.372Z"
   },
   {
    "duration": 1336,
    "start_time": "2022-02-05T18:13:40.747Z"
   },
   {
    "duration": 61,
    "start_time": "2022-02-05T18:13:42.086Z"
   },
   {
    "duration": 17,
    "start_time": "2022-02-05T18:13:42.150Z"
   },
   {
    "duration": 6,
    "start_time": "2022-02-05T18:13:42.170Z"
   },
   {
    "duration": 20,
    "start_time": "2022-02-05T18:13:42.179Z"
   },
   {
    "duration": 100,
    "start_time": "2022-02-05T18:13:42.201Z"
   },
   {
    "duration": 11,
    "start_time": "2022-02-05T18:13:42.304Z"
   },
   {
    "duration": 408,
    "start_time": "2022-02-05T18:13:42.319Z"
   },
   {
    "duration": 7,
    "start_time": "2022-02-05T18:13:42.730Z"
   },
   {
    "duration": 10,
    "start_time": "2022-02-05T18:13:42.749Z"
   },
   {
    "duration": 3,
    "start_time": "2022-02-05T18:13:42.761Z"
   },
   {
    "duration": 9,
    "start_time": "2022-02-05T18:13:42.766Z"
   },
   {
    "duration": 534,
    "start_time": "2022-02-05T18:13:42.777Z"
   },
   {
    "duration": 6,
    "start_time": "2022-02-05T18:13:43.314Z"
   },
   {
    "duration": 301,
    "start_time": "2022-02-05T18:13:43.323Z"
   },
   {
    "duration": 22,
    "start_time": "2022-02-05T18:13:43.627Z"
   },
   {
    "duration": 11,
    "start_time": "2022-02-05T18:13:43.651Z"
   },
   {
    "duration": 17,
    "start_time": "2022-02-05T18:13:43.665Z"
   },
   {
    "duration": 10,
    "start_time": "2022-02-05T18:13:43.684Z"
   },
   {
    "duration": 10,
    "start_time": "2022-02-05T18:13:43.696Z"
   },
   {
    "duration": 59,
    "start_time": "2022-02-05T18:13:43.708Z"
   },
   {
    "duration": 43,
    "start_time": "2022-02-05T18:13:43.770Z"
   },
   {
    "duration": 6,
    "start_time": "2022-02-05T18:13:43.819Z"
   },
   {
    "duration": 44,
    "start_time": "2022-02-05T18:13:43.828Z"
   },
   {
    "duration": 5,
    "start_time": "2022-02-05T18:13:43.875Z"
   },
   {
    "duration": 37,
    "start_time": "2022-02-05T18:13:43.882Z"
   },
   {
    "duration": 16,
    "start_time": "2022-02-05T18:13:43.921Z"
   },
   {
    "duration": 12,
    "start_time": "2022-02-05T18:13:43.939Z"
   },
   {
    "duration": 8,
    "start_time": "2022-02-05T18:13:43.953Z"
   },
   {
    "duration": 27,
    "start_time": "2022-02-05T18:13:43.963Z"
   },
   {
    "duration": 42,
    "start_time": "2022-02-05T18:13:43.992Z"
   },
   {
    "duration": 13,
    "start_time": "2022-02-05T18:13:44.036Z"
   },
   {
    "duration": 9,
    "start_time": "2022-02-05T18:13:44.052Z"
   },
   {
    "duration": 94,
    "start_time": "2022-02-05T18:13:44.063Z"
   },
   {
    "duration": 354,
    "start_time": "2022-02-05T18:13:44.250Z"
   },
   {
    "duration": 1342,
    "start_time": "2022-02-05T18:13:44.606Z"
   },
   {
    "duration": 104,
    "start_time": "2022-02-05T18:13:45.951Z"
   },
   {
    "duration": 605,
    "start_time": "2022-02-05T18:13:46.057Z"
   },
   {
    "duration": 1321,
    "start_time": "2022-02-05T18:13:46.664Z"
   },
   {
    "duration": 375,
    "start_time": "2022-02-05T18:13:47.987Z"
   },
   {
    "duration": 27,
    "start_time": "2022-02-05T18:15:14.555Z"
   },
   {
    "duration": 1341,
    "start_time": "2022-02-05T18:15:28.330Z"
   },
   {
    "duration": 60,
    "start_time": "2022-02-05T18:15:29.673Z"
   },
   {
    "duration": 15,
    "start_time": "2022-02-05T18:15:29.736Z"
   },
   {
    "duration": 6,
    "start_time": "2022-02-05T18:15:29.754Z"
   },
   {
    "duration": 22,
    "start_time": "2022-02-05T18:15:29.762Z"
   },
   {
    "duration": 82,
    "start_time": "2022-02-05T18:15:29.786Z"
   },
   {
    "duration": 8,
    "start_time": "2022-02-05T18:15:29.870Z"
   },
   {
    "duration": 404,
    "start_time": "2022-02-05T18:15:29.882Z"
   },
   {
    "duration": 6,
    "start_time": "2022-02-05T18:15:30.289Z"
   },
   {
    "duration": 24,
    "start_time": "2022-02-05T18:15:30.298Z"
   },
   {
    "duration": 23,
    "start_time": "2022-02-05T18:15:30.325Z"
   },
   {
    "duration": 17,
    "start_time": "2022-02-05T18:15:30.352Z"
   },
   {
    "duration": 535,
    "start_time": "2022-02-05T18:15:30.371Z"
   },
   {
    "duration": 6,
    "start_time": "2022-02-05T18:15:30.908Z"
   },
   {
    "duration": 292,
    "start_time": "2022-02-05T18:15:30.916Z"
   },
   {
    "duration": 9,
    "start_time": "2022-02-05T18:15:31.211Z"
   },
   {
    "duration": 31,
    "start_time": "2022-02-05T18:15:31.222Z"
   },
   {
    "duration": 21,
    "start_time": "2022-02-05T18:15:31.255Z"
   },
   {
    "duration": 20,
    "start_time": "2022-02-05T18:15:31.279Z"
   },
   {
    "duration": 21,
    "start_time": "2022-02-05T18:15:31.302Z"
   },
   {
    "duration": 42,
    "start_time": "2022-02-05T18:15:31.325Z"
   },
   {
    "duration": 47,
    "start_time": "2022-02-05T18:15:31.370Z"
   },
   {
    "duration": 7,
    "start_time": "2022-02-05T18:15:31.424Z"
   },
   {
    "duration": 33,
    "start_time": "2022-02-05T18:15:31.435Z"
   },
   {
    "duration": 6,
    "start_time": "2022-02-05T18:15:31.471Z"
   },
   {
    "duration": 21,
    "start_time": "2022-02-05T18:15:31.480Z"
   },
   {
    "duration": 8,
    "start_time": "2022-02-05T18:15:31.503Z"
   },
   {
    "duration": 13,
    "start_time": "2022-02-05T18:15:31.513Z"
   },
   {
    "duration": 24,
    "start_time": "2022-02-05T18:15:31.528Z"
   },
   {
    "duration": 27,
    "start_time": "2022-02-05T18:15:31.555Z"
   },
   {
    "duration": 41,
    "start_time": "2022-02-05T18:15:31.584Z"
   },
   {
    "duration": 20,
    "start_time": "2022-02-05T18:15:31.628Z"
   },
   {
    "duration": 10,
    "start_time": "2022-02-05T18:15:31.651Z"
   },
   {
    "duration": 92,
    "start_time": "2022-02-05T18:15:31.664Z"
   },
   {
    "duration": 361,
    "start_time": "2022-02-05T18:15:31.851Z"
   },
   {
    "duration": 1370,
    "start_time": "2022-02-05T18:15:32.215Z"
   },
   {
    "duration": 69,
    "start_time": "2022-02-05T18:15:33.587Z"
   },
   {
    "duration": 787,
    "start_time": "2022-02-05T18:15:33.659Z"
   },
   {
    "duration": 1333,
    "start_time": "2022-02-05T18:15:34.450Z"
   },
   {
    "duration": 374,
    "start_time": "2022-02-05T18:15:35.786Z"
   },
   {
    "duration": 1272,
    "start_time": "2022-02-05T18:22:43.105Z"
   },
   {
    "duration": 61,
    "start_time": "2022-02-05T18:22:44.380Z"
   },
   {
    "duration": 14,
    "start_time": "2022-02-05T18:22:44.444Z"
   },
   {
    "duration": 5,
    "start_time": "2022-02-05T18:22:44.461Z"
   },
   {
    "duration": 20,
    "start_time": "2022-02-05T18:22:44.469Z"
   },
   {
    "duration": 93,
    "start_time": "2022-02-05T18:22:44.491Z"
   },
   {
    "duration": 9,
    "start_time": "2022-02-05T18:22:44.586Z"
   },
   {
    "duration": 410,
    "start_time": "2022-02-05T18:22:44.597Z"
   },
   {
    "duration": 6,
    "start_time": "2022-02-05T18:22:45.011Z"
   },
   {
    "duration": 43,
    "start_time": "2022-02-05T18:22:45.020Z"
   },
   {
    "duration": 4,
    "start_time": "2022-02-05T18:22:45.066Z"
   },
   {
    "duration": 11,
    "start_time": "2022-02-05T18:22:45.072Z"
   },
   {
    "duration": 516,
    "start_time": "2022-02-05T18:22:45.086Z"
   },
   {
    "duration": 6,
    "start_time": "2022-02-05T18:22:45.604Z"
   },
   {
    "duration": 290,
    "start_time": "2022-02-05T18:22:45.613Z"
   },
   {
    "duration": 10,
    "start_time": "2022-02-05T18:22:45.906Z"
   },
   {
    "duration": 34,
    "start_time": "2022-02-05T18:22:45.918Z"
   },
   {
    "duration": 19,
    "start_time": "2022-02-05T18:22:45.955Z"
   },
   {
    "duration": 13,
    "start_time": "2022-02-05T18:22:45.976Z"
   },
   {
    "duration": 8,
    "start_time": "2022-02-05T18:22:45.991Z"
   },
   {
    "duration": 54,
    "start_time": "2022-02-05T18:22:46.002Z"
   },
   {
    "duration": 22,
    "start_time": "2022-02-05T18:22:46.059Z"
   },
   {
    "duration": 5,
    "start_time": "2022-02-05T18:22:46.084Z"
   },
   {
    "duration": 62,
    "start_time": "2022-02-05T18:22:46.091Z"
   },
   {
    "duration": 7,
    "start_time": "2022-02-05T18:22:46.156Z"
   },
   {
    "duration": 12,
    "start_time": "2022-02-05T18:22:46.166Z"
   },
   {
    "duration": 5,
    "start_time": "2022-02-05T18:22:46.184Z"
   },
   {
    "duration": 6,
    "start_time": "2022-02-05T18:22:46.192Z"
   },
   {
    "duration": 48,
    "start_time": "2022-02-05T18:22:46.201Z"
   },
   {
    "duration": 19,
    "start_time": "2022-02-05T18:22:46.252Z"
   },
   {
    "duration": 30,
    "start_time": "2022-02-05T18:22:46.273Z"
   },
   {
    "duration": 9,
    "start_time": "2022-02-05T18:22:46.306Z"
   },
   {
    "duration": 13,
    "start_time": "2022-02-05T18:22:46.348Z"
   },
   {
    "duration": 188,
    "start_time": "2022-02-05T18:22:46.363Z"
   },
   {
    "duration": 360,
    "start_time": "2022-02-05T18:22:46.554Z"
   },
   {
    "duration": 1653,
    "start_time": "2022-02-05T18:22:46.916Z"
   },
   {
    "duration": 177,
    "start_time": "2022-02-05T18:22:48.572Z"
   },
   {
    "duration": 633,
    "start_time": "2022-02-05T18:22:48.753Z"
   },
   {
    "duration": 1822,
    "start_time": "2022-02-05T18:22:49.388Z"
   },
   {
    "duration": 6,
    "start_time": "2022-02-05T18:22:51.213Z"
   },
   {
    "duration": 44,
    "start_time": "2022-02-05T18:22:51.222Z"
   },
   {
    "duration": 363,
    "start_time": "2022-02-05T18:22:51.268Z"
   },
   {
    "duration": 225,
    "start_time": "2022-02-05T18:23:57.234Z"
   },
   {
    "duration": 125,
    "start_time": "2022-02-05T18:24:24.826Z"
   },
   {
    "duration": 94,
    "start_time": "2022-02-05T18:25:55.043Z"
   },
   {
    "duration": 757,
    "start_time": "2022-02-05T18:27:01.571Z"
   },
   {
    "duration": 706,
    "start_time": "2022-02-05T18:27:18.721Z"
   },
   {
    "duration": 517,
    "start_time": "2022-02-05T18:28:30.204Z"
   },
   {
    "duration": 594,
    "start_time": "2022-02-05T18:29:54.064Z"
   },
   {
    "duration": 713,
    "start_time": "2022-02-05T18:30:07.115Z"
   },
   {
    "duration": 640,
    "start_time": "2022-02-05T18:30:29.836Z"
   },
   {
    "duration": 1280,
    "start_time": "2022-02-05T18:31:27.078Z"
   },
   {
    "duration": 58,
    "start_time": "2022-02-05T18:31:28.360Z"
   },
   {
    "duration": 11,
    "start_time": "2022-02-05T18:31:28.421Z"
   },
   {
    "duration": 15,
    "start_time": "2022-02-05T18:31:28.435Z"
   },
   {
    "duration": 16,
    "start_time": "2022-02-05T18:31:28.452Z"
   },
   {
    "duration": 83,
    "start_time": "2022-02-05T18:31:28.470Z"
   },
   {
    "duration": 8,
    "start_time": "2022-02-05T18:31:28.555Z"
   },
   {
    "duration": 418,
    "start_time": "2022-02-05T18:31:28.567Z"
   },
   {
    "duration": 6,
    "start_time": "2022-02-05T18:31:28.988Z"
   },
   {
    "duration": 13,
    "start_time": "2022-02-05T18:31:28.997Z"
   },
   {
    "duration": 12,
    "start_time": "2022-02-05T18:31:29.013Z"
   },
   {
    "duration": 23,
    "start_time": "2022-02-05T18:31:29.027Z"
   },
   {
    "duration": 508,
    "start_time": "2022-02-05T18:31:29.052Z"
   },
   {
    "duration": 6,
    "start_time": "2022-02-05T18:31:29.562Z"
   },
   {
    "duration": 302,
    "start_time": "2022-02-05T18:31:29.570Z"
   },
   {
    "duration": 8,
    "start_time": "2022-02-05T18:31:29.875Z"
   },
   {
    "duration": 15,
    "start_time": "2022-02-05T18:31:29.886Z"
   },
   {
    "duration": 19,
    "start_time": "2022-02-05T18:31:29.903Z"
   },
   {
    "duration": 9,
    "start_time": "2022-02-05T18:31:29.948Z"
   },
   {
    "duration": 8,
    "start_time": "2022-02-05T18:31:29.959Z"
   },
   {
    "duration": 23,
    "start_time": "2022-02-05T18:31:29.969Z"
   },
   {
    "duration": 27,
    "start_time": "2022-02-05T18:31:29.994Z"
   },
   {
    "duration": 6,
    "start_time": "2022-02-05T18:31:30.051Z"
   },
   {
    "duration": 31,
    "start_time": "2022-02-05T18:31:30.060Z"
   },
   {
    "duration": 6,
    "start_time": "2022-02-05T18:31:30.094Z"
   },
   {
    "duration": 29,
    "start_time": "2022-02-05T18:31:30.102Z"
   },
   {
    "duration": 17,
    "start_time": "2022-02-05T18:31:30.133Z"
   },
   {
    "duration": 20,
    "start_time": "2022-02-05T18:31:30.152Z"
   },
   {
    "duration": 22,
    "start_time": "2022-02-05T18:31:30.174Z"
   },
   {
    "duration": 39,
    "start_time": "2022-02-05T18:31:30.198Z"
   },
   {
    "duration": 36,
    "start_time": "2022-02-05T18:31:30.240Z"
   },
   {
    "duration": 8,
    "start_time": "2022-02-05T18:31:30.278Z"
   },
   {
    "duration": 30,
    "start_time": "2022-02-05T18:31:30.289Z"
   },
   {
    "duration": 131,
    "start_time": "2022-02-05T18:31:30.322Z"
   },
   {
    "duration": 351,
    "start_time": "2022-02-05T18:31:30.457Z"
   },
   {
    "duration": 1347,
    "start_time": "2022-02-05T18:31:30.811Z"
   },
   {
    "duration": 191,
    "start_time": "2022-02-05T18:31:32.160Z"
   },
   {
    "duration": 613,
    "start_time": "2022-02-05T18:31:32.357Z"
   },
   {
    "duration": 1395,
    "start_time": "2022-02-05T18:31:32.973Z"
   },
   {
    "duration": 5,
    "start_time": "2022-02-05T18:31:34.371Z"
   },
   {
    "duration": 21,
    "start_time": "2022-02-05T18:31:34.379Z"
   },
   {
    "duration": 154,
    "start_time": "2022-02-05T18:31:34.402Z"
   },
   {
    "duration": 822,
    "start_time": "2022-02-05T18:31:34.559Z"
   },
   {
    "duration": 1308,
    "start_time": "2022-02-05T18:31:35.384Z"
   },
   {
    "duration": 628,
    "start_time": "2022-02-05T18:31:36.694Z"
   },
   {
    "duration": 1308,
    "start_time": "2022-02-05T18:32:52.955Z"
   },
   {
    "duration": 2497,
    "start_time": "2022-02-05T18:33:07.043Z"
   },
   {
    "duration": 5084,
    "start_time": "2022-02-05T18:33:28.524Z"
   },
   {
    "duration": 1278,
    "start_time": "2022-02-05T18:34:49.347Z"
   },
   {
    "duration": 448,
    "start_time": "2022-02-05T18:35:15.305Z"
   },
   {
    "duration": 1348,
    "start_time": "2022-02-05T18:35:27.231Z"
   },
   {
    "duration": 59,
    "start_time": "2022-02-05T18:35:28.582Z"
   },
   {
    "duration": 13,
    "start_time": "2022-02-05T18:35:28.645Z"
   },
   {
    "duration": 6,
    "start_time": "2022-02-05T18:35:28.661Z"
   },
   {
    "duration": 19,
    "start_time": "2022-02-05T18:35:28.669Z"
   },
   {
    "duration": 97,
    "start_time": "2022-02-05T18:35:28.690Z"
   },
   {
    "duration": 9,
    "start_time": "2022-02-05T18:35:28.789Z"
   },
   {
    "duration": 400,
    "start_time": "2022-02-05T18:35:28.800Z"
   },
   {
    "duration": 5,
    "start_time": "2022-02-05T18:35:29.204Z"
   },
   {
    "duration": 15,
    "start_time": "2022-02-05T18:35:29.213Z"
   },
   {
    "duration": 20,
    "start_time": "2022-02-05T18:35:29.231Z"
   },
   {
    "duration": 11,
    "start_time": "2022-02-05T18:35:29.254Z"
   },
   {
    "duration": 500,
    "start_time": "2022-02-05T18:35:29.268Z"
   },
   {
    "duration": 6,
    "start_time": "2022-02-05T18:35:29.770Z"
   },
   {
    "duration": 301,
    "start_time": "2022-02-05T18:35:29.779Z"
   },
   {
    "duration": 8,
    "start_time": "2022-02-05T18:35:30.083Z"
   },
   {
    "duration": 13,
    "start_time": "2022-02-05T18:35:30.094Z"
   },
   {
    "duration": 43,
    "start_time": "2022-02-05T18:35:30.109Z"
   },
   {
    "duration": 26,
    "start_time": "2022-02-05T18:35:30.155Z"
   },
   {
    "duration": 31,
    "start_time": "2022-02-05T18:35:30.183Z"
   },
   {
    "duration": 26,
    "start_time": "2022-02-05T18:35:30.216Z"
   },
   {
    "duration": 22,
    "start_time": "2022-02-05T18:35:30.244Z"
   },
   {
    "duration": 6,
    "start_time": "2022-02-05T18:35:30.269Z"
   },
   {
    "duration": 31,
    "start_time": "2022-02-05T18:35:30.277Z"
   },
   {
    "duration": 6,
    "start_time": "2022-02-05T18:35:30.311Z"
   },
   {
    "duration": 9,
    "start_time": "2022-02-05T18:35:30.348Z"
   },
   {
    "duration": 25,
    "start_time": "2022-02-05T18:35:30.362Z"
   },
   {
    "duration": 21,
    "start_time": "2022-02-05T18:35:30.390Z"
   },
   {
    "duration": 22,
    "start_time": "2022-02-05T18:35:30.413Z"
   },
   {
    "duration": 34,
    "start_time": "2022-02-05T18:35:30.438Z"
   },
   {
    "duration": 57,
    "start_time": "2022-02-05T18:35:30.475Z"
   },
   {
    "duration": 16,
    "start_time": "2022-02-05T18:35:30.534Z"
   },
   {
    "duration": 22,
    "start_time": "2022-02-05T18:35:30.553Z"
   },
   {
    "duration": 80,
    "start_time": "2022-02-05T18:35:30.577Z"
   },
   {
    "duration": 347,
    "start_time": "2022-02-05T18:35:30.751Z"
   },
   {
    "duration": 1373,
    "start_time": "2022-02-05T18:35:31.101Z"
   },
   {
    "duration": 272,
    "start_time": "2022-02-05T18:35:32.476Z"
   },
   {
    "duration": 537,
    "start_time": "2022-02-05T18:35:32.751Z"
   },
   {
    "duration": 1344,
    "start_time": "2022-02-05T18:35:33.291Z"
   },
   {
    "duration": 11,
    "start_time": "2022-02-05T18:35:34.638Z"
   },
   {
    "duration": 18,
    "start_time": "2022-02-05T18:35:34.652Z"
   },
   {
    "duration": 84,
    "start_time": "2022-02-05T18:35:34.672Z"
   },
   {
    "duration": 832,
    "start_time": "2022-02-05T18:35:34.759Z"
   },
   {
    "duration": 1325,
    "start_time": "2022-02-05T18:35:35.594Z"
   },
   {
    "duration": 504,
    "start_time": "2022-02-05T18:35:36.921Z"
   },
   {
    "duration": 221,
    "start_time": "2022-02-05T18:36:10.879Z"
   },
   {
    "duration": 596,
    "start_time": "2022-02-05T18:36:30.473Z"
   },
   {
    "duration": 1278,
    "start_time": "2022-02-05T18:38:56.792Z"
   },
   {
    "duration": 58,
    "start_time": "2022-02-05T18:38:58.073Z"
   },
   {
    "duration": 16,
    "start_time": "2022-02-05T18:38:58.134Z"
   },
   {
    "duration": 7,
    "start_time": "2022-02-05T18:38:58.152Z"
   },
   {
    "duration": 16,
    "start_time": "2022-02-05T18:38:58.161Z"
   },
   {
    "duration": 88,
    "start_time": "2022-02-05T18:38:58.179Z"
   },
   {
    "duration": 7,
    "start_time": "2022-02-05T18:38:58.270Z"
   },
   {
    "duration": 401,
    "start_time": "2022-02-05T18:38:58.281Z"
   },
   {
    "duration": 6,
    "start_time": "2022-02-05T18:38:58.685Z"
   },
   {
    "duration": 10,
    "start_time": "2022-02-05T18:38:58.693Z"
   },
   {
    "duration": 4,
    "start_time": "2022-02-05T18:38:58.706Z"
   },
   {
    "duration": 37,
    "start_time": "2022-02-05T18:38:58.712Z"
   },
   {
    "duration": 497,
    "start_time": "2022-02-05T18:38:58.751Z"
   },
   {
    "duration": 6,
    "start_time": "2022-02-05T18:38:59.251Z"
   },
   {
    "duration": 304,
    "start_time": "2022-02-05T18:38:59.259Z"
   },
   {
    "duration": 8,
    "start_time": "2022-02-05T18:38:59.566Z"
   },
   {
    "duration": 13,
    "start_time": "2022-02-05T18:38:59.576Z"
   },
   {
    "duration": 17,
    "start_time": "2022-02-05T18:38:59.591Z"
   },
   {
    "duration": 42,
    "start_time": "2022-02-05T18:38:59.610Z"
   },
   {
    "duration": 10,
    "start_time": "2022-02-05T18:38:59.654Z"
   },
   {
    "duration": 21,
    "start_time": "2022-02-05T18:38:59.666Z"
   },
   {
    "duration": 20,
    "start_time": "2022-02-05T18:38:59.689Z"
   },
   {
    "duration": 36,
    "start_time": "2022-02-05T18:38:59.714Z"
   },
   {
    "duration": 29,
    "start_time": "2022-02-05T18:38:59.753Z"
   },
   {
    "duration": 5,
    "start_time": "2022-02-05T18:38:59.784Z"
   },
   {
    "duration": 13,
    "start_time": "2022-02-05T18:38:59.791Z"
   },
   {
    "duration": 13,
    "start_time": "2022-02-05T18:38:59.806Z"
   },
   {
    "duration": 29,
    "start_time": "2022-02-05T18:38:59.821Z"
   },
   {
    "duration": 10,
    "start_time": "2022-02-05T18:38:59.852Z"
   },
   {
    "duration": 25,
    "start_time": "2022-02-05T18:38:59.864Z"
   },
   {
    "duration": 42,
    "start_time": "2022-02-05T18:38:59.891Z"
   },
   {
    "duration": 20,
    "start_time": "2022-02-05T18:38:59.935Z"
   },
   {
    "duration": 16,
    "start_time": "2022-02-05T18:38:59.958Z"
   },
   {
    "duration": 80,
    "start_time": "2022-02-05T18:38:59.977Z"
   },
   {
    "duration": 342,
    "start_time": "2022-02-05T18:39:00.151Z"
   },
   {
    "duration": 1447,
    "start_time": "2022-02-05T18:39:00.496Z"
   },
   {
    "duration": 199,
    "start_time": "2022-02-05T18:39:01.949Z"
   },
   {
    "duration": 629,
    "start_time": "2022-02-05T18:39:02.152Z"
   },
   {
    "duration": 1350,
    "start_time": "2022-02-05T18:39:02.784Z"
   },
   {
    "duration": 11,
    "start_time": "2022-02-05T18:39:04.137Z"
   },
   {
    "duration": 23,
    "start_time": "2022-02-05T18:39:04.151Z"
   },
   {
    "duration": 80,
    "start_time": "2022-02-05T18:39:04.176Z"
   },
   {
    "duration": 823,
    "start_time": "2022-02-05T18:39:04.259Z"
   },
   {
    "duration": 1307,
    "start_time": "2022-02-05T18:39:05.085Z"
   },
   {
    "duration": 465,
    "start_time": "2022-02-05T18:39:06.394Z"
   },
   {
    "duration": 116,
    "start_time": "2022-02-05T18:40:15.834Z"
   },
   {
    "duration": 36,
    "start_time": "2022-02-05T18:42:20.038Z"
   },
   {
    "duration": 1415,
    "start_time": "2022-02-05T18:42:33.450Z"
   },
   {
    "duration": 60,
    "start_time": "2022-02-05T18:42:34.868Z"
   },
   {
    "duration": 18,
    "start_time": "2022-02-05T18:42:34.931Z"
   },
   {
    "duration": 7,
    "start_time": "2022-02-05T18:42:34.952Z"
   },
   {
    "duration": 17,
    "start_time": "2022-02-05T18:42:34.962Z"
   },
   {
    "duration": 98,
    "start_time": "2022-02-05T18:42:34.981Z"
   },
   {
    "duration": 9,
    "start_time": "2022-02-05T18:42:35.082Z"
   },
   {
    "duration": 417,
    "start_time": "2022-02-05T18:42:35.094Z"
   },
   {
    "duration": 7,
    "start_time": "2022-02-05T18:42:35.514Z"
   },
   {
    "duration": 28,
    "start_time": "2022-02-05T18:42:35.523Z"
   },
   {
    "duration": 4,
    "start_time": "2022-02-05T18:42:35.555Z"
   },
   {
    "duration": 10,
    "start_time": "2022-02-05T18:42:35.562Z"
   },
   {
    "duration": 518,
    "start_time": "2022-02-05T18:42:35.575Z"
   },
   {
    "duration": 6,
    "start_time": "2022-02-05T18:42:36.096Z"
   },
   {
    "duration": 305,
    "start_time": "2022-02-05T18:42:36.105Z"
   },
   {
    "duration": 10,
    "start_time": "2022-02-05T18:42:36.413Z"
   },
   {
    "duration": 13,
    "start_time": "2022-02-05T18:42:36.449Z"
   },
   {
    "duration": 21,
    "start_time": "2022-02-05T18:42:36.464Z"
   },
   {
    "duration": 17,
    "start_time": "2022-02-05T18:42:36.487Z"
   },
   {
    "duration": 9,
    "start_time": "2022-02-05T18:42:36.506Z"
   },
   {
    "duration": 48,
    "start_time": "2022-02-05T18:42:36.518Z"
   },
   {
    "duration": 21,
    "start_time": "2022-02-05T18:42:36.569Z"
   },
   {
    "duration": 7,
    "start_time": "2022-02-05T18:42:36.597Z"
   },
   {
    "duration": 63,
    "start_time": "2022-02-05T18:42:36.606Z"
   },
   {
    "duration": 5,
    "start_time": "2022-02-05T18:42:36.673Z"
   },
   {
    "duration": 12,
    "start_time": "2022-02-05T18:42:36.681Z"
   },
   {
    "duration": 6,
    "start_time": "2022-02-05T18:42:36.696Z"
   },
   {
    "duration": 7,
    "start_time": "2022-02-05T18:42:36.704Z"
   },
   {
    "duration": 6,
    "start_time": "2022-02-05T18:42:36.749Z"
   },
   {
    "duration": 19,
    "start_time": "2022-02-05T18:42:36.757Z"
   },
   {
    "duration": 44,
    "start_time": "2022-02-05T18:42:36.779Z"
   },
   {
    "duration": 28,
    "start_time": "2022-02-05T18:42:36.825Z"
   },
   {
    "duration": 9,
    "start_time": "2022-02-05T18:42:36.855Z"
   },
   {
    "duration": 90,
    "start_time": "2022-02-05T18:42:36.866Z"
   },
   {
    "duration": 451,
    "start_time": "2022-02-05T18:42:36.959Z"
   },
   {
    "duration": 1387,
    "start_time": "2022-02-05T18:42:37.413Z"
   },
   {
    "duration": 148,
    "start_time": "2022-02-05T18:42:38.802Z"
   },
   {
    "duration": 613,
    "start_time": "2022-02-05T18:42:38.954Z"
   },
   {
    "duration": 1341,
    "start_time": "2022-02-05T18:42:39.570Z"
   },
   {
    "duration": 5,
    "start_time": "2022-02-05T18:42:40.913Z"
   },
   {
    "duration": 35,
    "start_time": "2022-02-05T18:42:40.921Z"
   },
   {
    "duration": 97,
    "start_time": "2022-02-05T18:42:40.959Z"
   },
   {
    "duration": 792,
    "start_time": "2022-02-05T18:42:41.058Z"
   },
   {
    "duration": 1638,
    "start_time": "2022-02-05T18:42:41.853Z"
   },
   {
    "duration": 485,
    "start_time": "2022-02-05T18:42:43.493Z"
   },
   {
    "duration": 1433,
    "start_time": "2022-02-05T18:43:27.791Z"
   },
   {
    "duration": 59,
    "start_time": "2022-02-05T18:43:29.227Z"
   },
   {
    "duration": 18,
    "start_time": "2022-02-05T18:43:29.290Z"
   },
   {
    "duration": 8,
    "start_time": "2022-02-05T18:43:29.312Z"
   },
   {
    "duration": 47,
    "start_time": "2022-02-05T18:43:29.323Z"
   },
   {
    "duration": 106,
    "start_time": "2022-02-05T18:43:29.373Z"
   },
   {
    "duration": 12,
    "start_time": "2022-02-05T18:43:29.482Z"
   },
   {
    "duration": 422,
    "start_time": "2022-02-05T18:43:29.497Z"
   },
   {
    "duration": 6,
    "start_time": "2022-02-05T18:43:29.925Z"
   },
   {
    "duration": 13,
    "start_time": "2022-02-05T18:43:29.950Z"
   },
   {
    "duration": 6,
    "start_time": "2022-02-05T18:43:29.966Z"
   },
   {
    "duration": 7,
    "start_time": "2022-02-05T18:43:29.974Z"
   },
   {
    "duration": 767,
    "start_time": "2022-02-05T18:43:29.984Z"
   },
   {
    "duration": 5,
    "start_time": "2022-02-05T18:43:30.754Z"
   },
   {
    "duration": 300,
    "start_time": "2022-02-05T18:43:30.762Z"
   },
   {
    "duration": 9,
    "start_time": "2022-02-05T18:43:31.065Z"
   },
   {
    "duration": 13,
    "start_time": "2022-02-05T18:43:31.076Z"
   },
   {
    "duration": 20,
    "start_time": "2022-02-05T18:43:31.092Z"
   },
   {
    "duration": 9,
    "start_time": "2022-02-05T18:43:31.148Z"
   },
   {
    "duration": 14,
    "start_time": "2022-02-05T18:43:31.160Z"
   },
   {
    "duration": 26,
    "start_time": "2022-02-05T18:43:31.176Z"
   },
   {
    "duration": 19,
    "start_time": "2022-02-05T18:43:31.205Z"
   },
   {
    "duration": 6,
    "start_time": "2022-02-05T18:43:31.249Z"
   },
   {
    "duration": 29,
    "start_time": "2022-02-05T18:43:31.258Z"
   },
   {
    "duration": 7,
    "start_time": "2022-02-05T18:43:31.290Z"
   },
   {
    "duration": 48,
    "start_time": "2022-02-05T18:43:31.300Z"
   },
   {
    "duration": 7,
    "start_time": "2022-02-05T18:43:31.355Z"
   },
   {
    "duration": 15,
    "start_time": "2022-02-05T18:43:31.365Z"
   },
   {
    "duration": 9,
    "start_time": "2022-02-05T18:43:31.382Z"
   },
   {
    "duration": 23,
    "start_time": "2022-02-05T18:43:31.394Z"
   },
   {
    "duration": 68,
    "start_time": "2022-02-05T18:43:31.420Z"
   },
   {
    "duration": 9,
    "start_time": "2022-02-05T18:43:31.492Z"
   },
   {
    "duration": 15,
    "start_time": "2022-02-05T18:43:31.504Z"
   },
   {
    "duration": 103,
    "start_time": "2022-02-05T18:43:31.549Z"
   },
   {
    "duration": 368,
    "start_time": "2022-02-05T18:43:31.656Z"
   },
   {
    "duration": 1509,
    "start_time": "2022-02-05T18:43:32.027Z"
   },
   {
    "duration": 112,
    "start_time": "2022-02-05T18:43:33.538Z"
   },
   {
    "duration": 688,
    "start_time": "2022-02-05T18:43:33.653Z"
   },
   {
    "duration": 1371,
    "start_time": "2022-02-05T18:43:34.350Z"
   },
   {
    "duration": 6,
    "start_time": "2022-02-05T18:43:35.723Z"
   },
   {
    "duration": 23,
    "start_time": "2022-02-05T18:43:35.733Z"
   },
   {
    "duration": 97,
    "start_time": "2022-02-05T18:43:35.759Z"
   },
   {
    "duration": 1075,
    "start_time": "2022-02-05T18:43:35.859Z"
   },
   {
    "duration": 1813,
    "start_time": "2022-02-05T18:43:36.937Z"
   },
   {
    "duration": 592,
    "start_time": "2022-02-05T18:43:38.753Z"
   },
   {
    "duration": 781,
    "start_time": "2022-02-05T18:44:25.689Z"
   },
   {
    "duration": 1327,
    "start_time": "2022-02-05T18:44:52.430Z"
   },
   {
    "duration": 1835,
    "start_time": "2022-02-05T18:46:11.749Z"
   },
   {
    "duration": 77406,
    "start_time": "2022-02-05T18:46:27.329Z"
   },
   {
    "duration": 78208,
    "start_time": "2022-02-05T18:49:44.680Z"
   },
   {
    "duration": 80179,
    "start_time": "2022-02-05T18:51:44.560Z"
   },
   {
    "duration": 1733,
    "start_time": "2022-02-05T19:00:14.197Z"
   },
   {
    "duration": 71,
    "start_time": "2022-02-05T19:00:15.934Z"
   },
   {
    "duration": 13,
    "start_time": "2022-02-05T19:00:16.008Z"
   },
   {
    "duration": 6,
    "start_time": "2022-02-05T19:00:16.024Z"
   },
   {
    "duration": 40,
    "start_time": "2022-02-05T19:00:16.032Z"
   },
   {
    "duration": 59,
    "start_time": "2022-02-05T19:00:16.075Z"
   },
   {
    "duration": 20,
    "start_time": "2022-02-05T19:00:16.136Z"
   },
   {
    "duration": 512,
    "start_time": "2022-02-05T19:00:16.159Z"
   },
   {
    "duration": 6,
    "start_time": "2022-02-05T19:00:16.675Z"
   },
   {
    "duration": 24,
    "start_time": "2022-02-05T19:00:16.684Z"
   },
   {
    "duration": 3,
    "start_time": "2022-02-05T19:00:16.711Z"
   },
   {
    "duration": 10,
    "start_time": "2022-02-05T19:00:16.717Z"
   },
   {
    "duration": 522,
    "start_time": "2022-02-05T19:00:16.750Z"
   },
   {
    "duration": 6,
    "start_time": "2022-02-05T19:00:17.275Z"
   },
   {
    "duration": 314,
    "start_time": "2022-02-05T19:00:17.284Z"
   },
   {
    "duration": 9,
    "start_time": "2022-02-05T19:00:17.600Z"
   },
   {
    "duration": 13,
    "start_time": "2022-02-05T19:00:17.612Z"
   },
   {
    "duration": 40,
    "start_time": "2022-02-05T19:00:17.628Z"
   },
   {
    "duration": 16,
    "start_time": "2022-02-05T19:00:17.670Z"
   },
   {
    "duration": 10,
    "start_time": "2022-02-05T19:00:17.688Z"
   },
   {
    "duration": 25,
    "start_time": "2022-02-05T19:00:17.701Z"
   },
   {
    "duration": 21,
    "start_time": "2022-02-05T19:00:17.757Z"
   },
   {
    "duration": 6,
    "start_time": "2022-02-05T19:00:17.780Z"
   },
   {
    "duration": 28,
    "start_time": "2022-02-05T19:00:17.788Z"
   },
   {
    "duration": 34,
    "start_time": "2022-02-05T19:00:17.819Z"
   },
   {
    "duration": 18,
    "start_time": "2022-02-05T19:00:17.856Z"
   },
   {
    "duration": 5,
    "start_time": "2022-02-05T19:00:17.881Z"
   },
   {
    "duration": 13,
    "start_time": "2022-02-05T19:00:17.890Z"
   },
   {
    "duration": 11,
    "start_time": "2022-02-05T19:00:17.906Z"
   },
   {
    "duration": 46,
    "start_time": "2022-02-05T19:00:17.920Z"
   },
   {
    "duration": 32,
    "start_time": "2022-02-05T19:00:17.969Z"
   },
   {
    "duration": 8,
    "start_time": "2022-02-05T19:00:18.003Z"
   },
   {
    "duration": 35,
    "start_time": "2022-02-05T19:00:18.014Z"
   },
   {
    "duration": 105,
    "start_time": "2022-02-05T19:00:18.052Z"
   },
   {
    "duration": 461,
    "start_time": "2022-02-05T19:00:18.160Z"
   },
   {
    "duration": 1464,
    "start_time": "2022-02-05T19:00:18.624Z"
   },
   {
    "duration": 73,
    "start_time": "2022-02-05T19:00:20.090Z"
   },
   {
    "duration": 722,
    "start_time": "2022-02-05T19:00:20.165Z"
   },
   {
    "duration": 1473,
    "start_time": "2022-02-05T19:00:20.890Z"
   },
   {
    "duration": 7,
    "start_time": "2022-02-05T19:00:22.366Z"
   },
   {
    "duration": 21,
    "start_time": "2022-02-05T19:00:22.377Z"
   },
   {
    "duration": 162,
    "start_time": "2022-02-05T19:00:22.400Z"
   },
   {
    "duration": 853,
    "start_time": "2022-02-05T19:00:22.565Z"
   },
   {
    "duration": 81207,
    "start_time": "2022-02-05T19:00:23.421Z"
   },
   {
    "duration": 494,
    "start_time": "2022-02-05T19:01:44.631Z"
   },
   {
    "duration": 79358,
    "start_time": "2022-02-05T19:01:45.128Z"
   },
   {
    "duration": 1437,
    "start_time": "2022-02-06T18:04:02.710Z"
   },
   {
    "duration": 71,
    "start_time": "2022-02-06T18:04:04.151Z"
   },
   {
    "duration": 11,
    "start_time": "2022-02-06T18:04:04.225Z"
   },
   {
    "duration": 6,
    "start_time": "2022-02-06T18:04:04.248Z"
   },
   {
    "duration": 19,
    "start_time": "2022-02-06T18:04:04.256Z"
   },
   {
    "duration": 85,
    "start_time": "2022-02-06T18:04:04.277Z"
   },
   {
    "duration": 9,
    "start_time": "2022-02-06T18:04:04.365Z"
   },
   {
    "duration": 404,
    "start_time": "2022-02-06T18:04:04.378Z"
   },
   {
    "duration": 7,
    "start_time": "2022-02-06T18:04:04.786Z"
   },
   {
    "duration": 10,
    "start_time": "2022-02-06T18:04:04.795Z"
   },
   {
    "duration": 5,
    "start_time": "2022-02-06T18:04:04.807Z"
   },
   {
    "duration": 36,
    "start_time": "2022-02-06T18:04:04.814Z"
   },
   {
    "duration": 614,
    "start_time": "2022-02-06T18:04:04.852Z"
   },
   {
    "duration": 6,
    "start_time": "2022-02-06T18:04:05.469Z"
   },
   {
    "duration": 311,
    "start_time": "2022-02-06T18:04:05.477Z"
   },
   {
    "duration": 9,
    "start_time": "2022-02-06T18:04:05.790Z"
   },
   {
    "duration": 16,
    "start_time": "2022-02-06T18:04:05.802Z"
   },
   {
    "duration": 40,
    "start_time": "2022-02-06T18:04:05.821Z"
   },
   {
    "duration": 15,
    "start_time": "2022-02-06T18:04:05.863Z"
   },
   {
    "duration": 12,
    "start_time": "2022-02-06T18:04:05.881Z"
   },
   {
    "duration": 26,
    "start_time": "2022-02-06T18:04:05.896Z"
   },
   {
    "duration": 41,
    "start_time": "2022-02-06T18:04:05.925Z"
   },
   {
    "duration": 6,
    "start_time": "2022-02-06T18:04:05.972Z"
   },
   {
    "duration": 67,
    "start_time": "2022-02-06T18:04:05.981Z"
   },
   {
    "duration": 6,
    "start_time": "2022-02-06T18:04:06.051Z"
   },
   {
    "duration": 25,
    "start_time": "2022-02-06T18:04:06.059Z"
   },
   {
    "duration": 7,
    "start_time": "2022-02-06T18:04:06.086Z"
   },
   {
    "duration": 9,
    "start_time": "2022-02-06T18:04:06.095Z"
   },
   {
    "duration": 10,
    "start_time": "2022-02-06T18:04:06.106Z"
   },
   {
    "duration": 40,
    "start_time": "2022-02-06T18:04:06.118Z"
   },
   {
    "duration": 30,
    "start_time": "2022-02-06T18:04:06.160Z"
   },
   {
    "duration": 8,
    "start_time": "2022-02-06T18:04:06.192Z"
   },
   {
    "duration": 9,
    "start_time": "2022-02-06T18:04:06.202Z"
   },
   {
    "duration": 139,
    "start_time": "2022-02-06T18:04:06.213Z"
   },
   {
    "duration": 367,
    "start_time": "2022-02-06T18:04:06.355Z"
   },
   {
    "duration": 1387,
    "start_time": "2022-02-06T18:04:06.725Z"
   },
   {
    "duration": 136,
    "start_time": "2022-02-06T18:04:08.114Z"
   },
   {
    "duration": 599,
    "start_time": "2022-02-06T18:04:08.253Z"
   },
   {
    "duration": 1450,
    "start_time": "2022-02-06T18:04:08.855Z"
   },
   {
    "duration": 6,
    "start_time": "2022-02-06T18:04:10.307Z"
   },
   {
    "duration": 33,
    "start_time": "2022-02-06T18:04:10.315Z"
   },
   {
    "duration": 101,
    "start_time": "2022-02-06T18:04:10.350Z"
   },
   {
    "duration": 806,
    "start_time": "2022-02-06T18:04:10.453Z"
   },
   {
    "duration": 80452,
    "start_time": "2022-02-06T18:04:11.262Z"
   },
   {
    "duration": 468,
    "start_time": "2022-02-06T18:05:31.716Z"
   },
   {
    "duration": 78014,
    "start_time": "2022-02-06T18:05:32.187Z"
   },
   {
    "duration": 46,
    "start_time": "2022-02-06T18:06:50.204Z"
   },
   {
    "duration": 1351,
    "start_time": "2022-02-06T18:06:59.129Z"
   },
   {
    "duration": 65,
    "start_time": "2022-02-06T18:07:00.482Z"
   },
   {
    "duration": 12,
    "start_time": "2022-02-06T18:07:00.550Z"
   },
   {
    "duration": 32,
    "start_time": "2022-02-06T18:07:00.564Z"
   },
   {
    "duration": 36,
    "start_time": "2022-02-06T18:07:00.599Z"
   },
   {
    "duration": 58,
    "start_time": "2022-02-06T18:07:00.637Z"
   },
   {
    "duration": 8,
    "start_time": "2022-02-06T18:07:00.697Z"
   },
   {
    "duration": 408,
    "start_time": "2022-02-06T18:07:00.709Z"
   },
   {
    "duration": 7,
    "start_time": "2022-02-06T18:07:01.121Z"
   },
   {
    "duration": 12,
    "start_time": "2022-02-06T18:07:01.149Z"
   },
   {
    "duration": 7,
    "start_time": "2022-02-06T18:07:01.164Z"
   },
   {
    "duration": 12,
    "start_time": "2022-02-06T18:07:01.173Z"
   },
   {
    "duration": 535,
    "start_time": "2022-02-06T18:07:01.187Z"
   },
   {
    "duration": 6,
    "start_time": "2022-02-06T18:07:01.725Z"
   },
   {
    "duration": 303,
    "start_time": "2022-02-06T18:07:01.748Z"
   },
   {
    "duration": 11,
    "start_time": "2022-02-06T18:07:02.055Z"
   },
   {
    "duration": 16,
    "start_time": "2022-02-06T18:07:02.069Z"
   },
   {
    "duration": 19,
    "start_time": "2022-02-06T18:07:02.088Z"
   },
   {
    "duration": 9,
    "start_time": "2022-02-06T18:07:02.148Z"
   },
   {
    "duration": 11,
    "start_time": "2022-02-06T18:07:02.160Z"
   },
   {
    "duration": 27,
    "start_time": "2022-02-06T18:07:02.173Z"
   },
   {
    "duration": 24,
    "start_time": "2022-02-06T18:07:02.203Z"
   },
   {
    "duration": 6,
    "start_time": "2022-02-06T18:07:02.252Z"
   },
   {
    "duration": 31,
    "start_time": "2022-02-06T18:07:02.261Z"
   },
   {
    "duration": 7,
    "start_time": "2022-02-06T18:07:02.295Z"
   },
   {
    "duration": 45,
    "start_time": "2022-02-06T18:07:02.305Z"
   },
   {
    "duration": 10,
    "start_time": "2022-02-06T18:07:02.352Z"
   },
   {
    "duration": 14,
    "start_time": "2022-02-06T18:07:02.364Z"
   },
   {
    "duration": 10,
    "start_time": "2022-02-06T18:07:02.381Z"
   },
   {
    "duration": 32,
    "start_time": "2022-02-06T18:07:02.394Z"
   },
   {
    "duration": 56,
    "start_time": "2022-02-06T18:07:02.428Z"
   },
   {
    "duration": 8,
    "start_time": "2022-02-06T18:07:02.487Z"
   },
   {
    "duration": 19,
    "start_time": "2022-02-06T18:07:02.498Z"
   },
   {
    "duration": 232,
    "start_time": "2022-02-06T18:07:02.520Z"
   },
   {
    "duration": 349,
    "start_time": "2022-02-06T18:07:02.756Z"
   },
   {
    "duration": 1398,
    "start_time": "2022-02-06T18:07:03.108Z"
   },
   {
    "duration": 142,
    "start_time": "2022-02-06T18:07:04.508Z"
   },
   {
    "duration": 603,
    "start_time": "2022-02-06T18:07:04.653Z"
   },
   {
    "duration": 1308,
    "start_time": "2022-02-06T18:07:05.259Z"
   },
   {
    "duration": 5,
    "start_time": "2022-02-06T18:07:06.570Z"
   },
   {
    "duration": 18,
    "start_time": "2022-02-06T18:07:06.577Z"
   },
   {
    "duration": 160,
    "start_time": "2022-02-06T18:07:06.597Z"
   },
   {
    "duration": 804,
    "start_time": "2022-02-06T18:07:06.851Z"
   },
   {
    "duration": 77604,
    "start_time": "2022-02-06T18:07:07.657Z"
   },
   {
    "duration": 470,
    "start_time": "2022-02-06T18:08:25.264Z"
   },
   {
    "duration": 77223,
    "start_time": "2022-02-06T18:08:25.737Z"
   },
   {
    "duration": 1262,
    "start_time": "2022-02-06T18:10:43.599Z"
   },
   {
    "duration": 59,
    "start_time": "2022-02-06T18:10:44.864Z"
   },
   {
    "duration": 11,
    "start_time": "2022-02-06T18:10:44.926Z"
   },
   {
    "duration": 11,
    "start_time": "2022-02-06T18:10:44.940Z"
   },
   {
    "duration": 15,
    "start_time": "2022-02-06T18:10:44.953Z"
   },
   {
    "duration": 84,
    "start_time": "2022-02-06T18:10:44.970Z"
   },
   {
    "duration": 8,
    "start_time": "2022-02-06T18:10:45.057Z"
   },
   {
    "duration": 402,
    "start_time": "2022-02-06T18:10:45.070Z"
   },
   {
    "duration": 6,
    "start_time": "2022-02-06T18:10:45.476Z"
   },
   {
    "duration": 14,
    "start_time": "2022-02-06T18:10:45.484Z"
   },
   {
    "duration": 3,
    "start_time": "2022-02-06T18:10:45.501Z"
   },
   {
    "duration": 8,
    "start_time": "2022-02-06T18:10:45.506Z"
   },
   {
    "duration": 509,
    "start_time": "2022-02-06T18:10:45.548Z"
   },
   {
    "duration": 6,
    "start_time": "2022-02-06T18:10:46.060Z"
   },
   {
    "duration": 300,
    "start_time": "2022-02-06T18:10:46.069Z"
   },
   {
    "duration": 9,
    "start_time": "2022-02-06T18:10:46.372Z"
   },
   {
    "duration": 14,
    "start_time": "2022-02-06T18:10:46.383Z"
   },
   {
    "duration": 49,
    "start_time": "2022-02-06T18:10:46.399Z"
   },
   {
    "duration": 10,
    "start_time": "2022-02-06T18:10:46.450Z"
   },
   {
    "duration": 13,
    "start_time": "2022-02-06T18:10:46.462Z"
   },
   {
    "duration": 23,
    "start_time": "2022-02-06T18:10:46.478Z"
   },
   {
    "duration": 47,
    "start_time": "2022-02-06T18:10:46.503Z"
   },
   {
    "duration": 6,
    "start_time": "2022-02-06T18:10:46.555Z"
   },
   {
    "duration": 32,
    "start_time": "2022-02-06T18:10:46.564Z"
   },
   {
    "duration": 6,
    "start_time": "2022-02-06T18:10:46.598Z"
   },
   {
    "duration": 11,
    "start_time": "2022-02-06T18:10:46.607Z"
   },
   {
    "duration": 32,
    "start_time": "2022-02-06T18:10:46.620Z"
   },
   {
    "duration": 9,
    "start_time": "2022-02-06T18:10:46.654Z"
   },
   {
    "duration": 11,
    "start_time": "2022-02-06T18:10:46.665Z"
   },
   {
    "duration": 18,
    "start_time": "2022-02-06T18:10:46.678Z"
   },
   {
    "duration": 406,
    "start_time": "2022-02-06T18:10:46.699Z"
   },
   {
    "duration": 1297,
    "start_time": "2022-02-06T18:10:45.810Z"
   },
   {
    "duration": 1263,
    "start_time": "2022-02-06T18:10:45.846Z"
   },
   {
    "duration": 1261,
    "start_time": "2022-02-06T18:10:45.849Z"
   },
   {
    "duration": 1260,
    "start_time": "2022-02-06T18:10:45.852Z"
   },
   {
    "duration": 1256,
    "start_time": "2022-02-06T18:10:45.857Z"
   },
   {
    "duration": 1255,
    "start_time": "2022-02-06T18:10:45.859Z"
   },
   {
    "duration": 1250,
    "start_time": "2022-02-06T18:10:45.866Z"
   },
   {
    "duration": 1251,
    "start_time": "2022-02-06T18:10:45.867Z"
   },
   {
    "duration": 1251,
    "start_time": "2022-02-06T18:10:45.869Z"
   },
   {
    "duration": 1250,
    "start_time": "2022-02-06T18:10:45.871Z"
   },
   {
    "duration": 1250,
    "start_time": "2022-02-06T18:10:45.872Z"
   },
   {
    "duration": 1250,
    "start_time": "2022-02-06T18:10:45.874Z"
   },
   {
    "duration": 1251,
    "start_time": "2022-02-06T18:10:45.875Z"
   },
   {
    "duration": 1249,
    "start_time": "2022-02-06T18:10:45.879Z"
   },
   {
    "duration": 1248,
    "start_time": "2022-02-06T18:10:45.881Z"
   },
   {
    "duration": 34,
    "start_time": "2022-02-06T18:11:20.125Z"
   },
   {
    "duration": 1340,
    "start_time": "2022-02-06T18:11:27.525Z"
   },
   {
    "duration": 57,
    "start_time": "2022-02-06T18:11:28.868Z"
   },
   {
    "duration": 20,
    "start_time": "2022-02-06T18:11:28.930Z"
   },
   {
    "duration": 6,
    "start_time": "2022-02-06T18:11:28.952Z"
   },
   {
    "duration": 16,
    "start_time": "2022-02-06T18:11:28.960Z"
   },
   {
    "duration": 81,
    "start_time": "2022-02-06T18:11:28.978Z"
   },
   {
    "duration": 8,
    "start_time": "2022-02-06T18:11:29.062Z"
   },
   {
    "duration": 399,
    "start_time": "2022-02-06T18:11:29.072Z"
   },
   {
    "duration": 5,
    "start_time": "2022-02-06T18:11:29.476Z"
   },
   {
    "duration": 10,
    "start_time": "2022-02-06T18:11:29.484Z"
   },
   {
    "duration": 4,
    "start_time": "2022-02-06T18:11:29.496Z"
   },
   {
    "duration": 9,
    "start_time": "2022-02-06T18:11:29.502Z"
   },
   {
    "duration": 535,
    "start_time": "2022-02-06T18:11:29.513Z"
   },
   {
    "duration": 6,
    "start_time": "2022-02-06T18:11:30.050Z"
   },
   {
    "duration": 293,
    "start_time": "2022-02-06T18:11:30.058Z"
   },
   {
    "duration": 9,
    "start_time": "2022-02-06T18:11:30.354Z"
   },
   {
    "duration": 32,
    "start_time": "2022-02-06T18:11:30.365Z"
   },
   {
    "duration": 18,
    "start_time": "2022-02-06T18:11:30.400Z"
   },
   {
    "duration": 30,
    "start_time": "2022-02-06T18:11:30.421Z"
   },
   {
    "duration": 15,
    "start_time": "2022-02-06T18:11:30.454Z"
   },
   {
    "duration": 41,
    "start_time": "2022-02-06T18:11:30.472Z"
   },
   {
    "duration": 29,
    "start_time": "2022-02-06T18:11:30.516Z"
   },
   {
    "duration": 6,
    "start_time": "2022-02-06T18:11:30.548Z"
   },
   {
    "duration": 39,
    "start_time": "2022-02-06T18:11:30.556Z"
   },
   {
    "duration": 6,
    "start_time": "2022-02-06T18:11:30.598Z"
   },
   {
    "duration": 19,
    "start_time": "2022-02-06T18:11:30.606Z"
   },
   {
    "duration": 19,
    "start_time": "2022-02-06T18:11:30.631Z"
   },
   {
    "duration": 12,
    "start_time": "2022-02-06T18:11:30.653Z"
   },
   {
    "duration": 19,
    "start_time": "2022-02-06T18:11:30.667Z"
   },
   {
    "duration": 29,
    "start_time": "2022-02-06T18:11:30.688Z"
   },
   {
    "duration": 42,
    "start_time": "2022-02-06T18:11:30.720Z"
   },
   {
    "duration": 8,
    "start_time": "2022-02-06T18:11:30.765Z"
   },
   {
    "duration": 10,
    "start_time": "2022-02-06T18:11:30.775Z"
   },
   {
    "duration": 164,
    "start_time": "2022-02-06T18:11:30.787Z"
   },
   {
    "duration": 326,
    "start_time": "2022-02-06T18:11:30.955Z"
   },
   {
    "duration": 1278,
    "start_time": "2022-02-06T18:11:31.283Z"
   },
   {
    "duration": 93,
    "start_time": "2022-02-06T18:11:32.563Z"
   },
   {
    "duration": 465,
    "start_time": "2022-02-06T18:11:32.747Z"
   },
   {
    "duration": 1227,
    "start_time": "2022-02-06T18:11:33.214Z"
   },
   {
    "duration": 5,
    "start_time": "2022-02-06T18:11:34.449Z"
   },
   {
    "duration": 22,
    "start_time": "2022-02-06T18:11:34.457Z"
   },
   {
    "duration": 168,
    "start_time": "2022-02-06T18:11:34.481Z"
   },
   {
    "duration": 657,
    "start_time": "2022-02-06T18:11:34.652Z"
   },
   {
    "duration": 72008,
    "start_time": "2022-02-06T18:11:35.312Z"
   },
   {
    "duration": 531,
    "start_time": "2022-02-06T18:12:47.322Z"
   },
   {
    "duration": 70114,
    "start_time": "2022-02-06T18:12:47.856Z"
   },
   {
    "duration": 69675,
    "start_time": "2022-02-06T18:15:10.902Z"
   },
   {
    "duration": 1338,
    "start_time": "2022-02-06T18:17:30.068Z"
   },
   {
    "duration": 81,
    "start_time": "2022-02-06T18:17:31.409Z"
   },
   {
    "duration": 17,
    "start_time": "2022-02-06T18:17:31.494Z"
   },
   {
    "duration": 9,
    "start_time": "2022-02-06T18:17:31.515Z"
   },
   {
    "duration": 23,
    "start_time": "2022-02-06T18:17:31.549Z"
   },
   {
    "duration": 91,
    "start_time": "2022-02-06T18:17:31.575Z"
   },
   {
    "duration": 8,
    "start_time": "2022-02-06T18:17:31.669Z"
   },
   {
    "duration": 396,
    "start_time": "2022-02-06T18:17:31.681Z"
   },
   {
    "duration": 7,
    "start_time": "2022-02-06T18:17:32.080Z"
   },
   {
    "duration": 15,
    "start_time": "2022-02-06T18:17:32.089Z"
   },
   {
    "duration": 8,
    "start_time": "2022-02-06T18:17:32.106Z"
   },
   {
    "duration": 9,
    "start_time": "2022-02-06T18:17:32.116Z"
   },
   {
    "duration": 518,
    "start_time": "2022-02-06T18:17:32.150Z"
   },
   {
    "duration": 6,
    "start_time": "2022-02-06T18:17:32.670Z"
   },
   {
    "duration": 303,
    "start_time": "2022-02-06T18:17:32.679Z"
   },
   {
    "duration": 9,
    "start_time": "2022-02-06T18:17:32.985Z"
   },
   {
    "duration": 14,
    "start_time": "2022-02-06T18:17:32.996Z"
   },
   {
    "duration": 42,
    "start_time": "2022-02-06T18:17:33.012Z"
   },
   {
    "duration": 11,
    "start_time": "2022-02-06T18:17:33.056Z"
   },
   {
    "duration": 9,
    "start_time": "2022-02-06T18:17:33.069Z"
   },
   {
    "duration": 22,
    "start_time": "2022-02-06T18:17:33.081Z"
   },
   {
    "duration": 47,
    "start_time": "2022-02-06T18:17:33.105Z"
   },
   {
    "duration": 5,
    "start_time": "2022-02-06T18:17:33.157Z"
   },
   {
    "duration": 28,
    "start_time": "2022-02-06T18:17:33.165Z"
   },
   {
    "duration": 5,
    "start_time": "2022-02-06T18:17:33.196Z"
   },
   {
    "duration": 44,
    "start_time": "2022-02-06T18:17:33.204Z"
   },
   {
    "duration": 6,
    "start_time": "2022-02-06T18:17:33.252Z"
   },
   {
    "duration": 8,
    "start_time": "2022-02-06T18:17:33.261Z"
   },
   {
    "duration": 9,
    "start_time": "2022-02-06T18:17:33.272Z"
   },
   {
    "duration": 19,
    "start_time": "2022-02-06T18:17:33.283Z"
   },
   {
    "duration": 75,
    "start_time": "2022-02-06T18:17:33.305Z"
   },
   {
    "duration": 11,
    "start_time": "2022-02-06T18:17:33.383Z"
   },
   {
    "duration": 12,
    "start_time": "2022-02-06T18:17:33.397Z"
   },
   {
    "duration": 144,
    "start_time": "2022-02-06T18:17:33.413Z"
   },
   {
    "duration": 321,
    "start_time": "2022-02-06T18:17:33.560Z"
   },
   {
    "duration": 1307,
    "start_time": "2022-02-06T18:17:33.884Z"
   },
   {
    "duration": 63,
    "start_time": "2022-02-06T18:17:35.193Z"
   },
   {
    "duration": 523,
    "start_time": "2022-02-06T18:17:35.347Z"
   },
   {
    "duration": 1194,
    "start_time": "2022-02-06T18:17:35.872Z"
   },
   {
    "duration": 6,
    "start_time": "2022-02-06T18:17:37.068Z"
   },
   {
    "duration": 22,
    "start_time": "2022-02-06T18:17:37.076Z"
   },
   {
    "duration": 148,
    "start_time": "2022-02-06T18:17:37.101Z"
   },
   {
    "duration": 682,
    "start_time": "2022-02-06T18:17:37.253Z"
   },
   {
    "duration": 75815,
    "start_time": "2022-02-06T18:17:37.949Z"
   },
   {
    "duration": 421,
    "start_time": "2022-02-06T18:18:53.766Z"
   },
   {
    "duration": 69286,
    "start_time": "2022-02-06T18:18:54.190Z"
   },
   {
    "duration": 416,
    "start_time": "2022-02-06T18:21:06.776Z"
   },
   {
    "duration": 397,
    "start_time": "2022-02-06T18:21:29.971Z"
   },
   {
    "duration": 16,
    "start_time": "2022-02-06T18:23:07.948Z"
   },
   {
    "duration": 69,
    "start_time": "2022-02-06T18:23:57.692Z"
   },
   {
    "duration": 352,
    "start_time": "2022-02-06T18:24:47.432Z"
   },
   {
    "duration": 27026,
    "start_time": "2022-02-06T18:25:31.111Z"
   },
   {
    "duration": 25593,
    "start_time": "2022-02-06T18:27:05.050Z"
   },
   {
    "duration": 50,
    "start_time": "2022-02-06T18:32:46.709Z"
   },
   {
    "duration": 38,
    "start_time": "2022-02-06T18:33:19.812Z"
   },
   {
    "duration": 259,
    "start_time": "2022-02-06T18:35:32.329Z"
   },
   {
    "duration": 2053,
    "start_time": "2022-02-06T18:35:42.877Z"
   },
   {
    "duration": 5608,
    "start_time": "2022-02-06T18:36:04.067Z"
   },
   {
    "duration": 25168,
    "start_time": "2022-02-06T18:37:53.789Z"
   },
   {
    "duration": 103,
    "start_time": "2022-02-06T18:42:09.327Z"
   },
   {
    "duration": 629,
    "start_time": "2022-02-06T18:43:35.191Z"
   },
   {
    "duration": 245,
    "start_time": "2022-02-06T18:43:52.161Z"
   },
   {
    "duration": 260,
    "start_time": "2022-02-06T18:44:06.245Z"
   },
   {
    "duration": 639,
    "start_time": "2022-02-06T18:44:17.283Z"
   },
   {
    "duration": 687,
    "start_time": "2022-02-06T18:49:28.553Z"
   },
   {
    "duration": 1769,
    "start_time": "2022-02-06T18:49:46.717Z"
   },
   {
    "duration": 669,
    "start_time": "2022-02-06T18:52:03.116Z"
   },
   {
    "duration": 74,
    "start_time": "2022-02-06T18:54:02.369Z"
   },
   {
    "duration": 1301,
    "start_time": "2022-02-06T18:54:10.179Z"
   },
   {
    "duration": 65,
    "start_time": "2022-02-06T18:54:11.482Z"
   },
   {
    "duration": 12,
    "start_time": "2022-02-06T18:54:11.550Z"
   },
   {
    "duration": 6,
    "start_time": "2022-02-06T18:54:11.565Z"
   },
   {
    "duration": 18,
    "start_time": "2022-02-06T18:54:11.573Z"
   },
   {
    "duration": 95,
    "start_time": "2022-02-06T18:54:11.593Z"
   },
   {
    "duration": 9,
    "start_time": "2022-02-06T18:54:11.691Z"
   },
   {
    "duration": 415,
    "start_time": "2022-02-06T18:54:11.702Z"
   },
   {
    "duration": 7,
    "start_time": "2022-02-06T18:54:12.121Z"
   },
   {
    "duration": 22,
    "start_time": "2022-02-06T18:54:12.131Z"
   },
   {
    "duration": 9,
    "start_time": "2022-02-06T18:54:12.156Z"
   },
   {
    "duration": 14,
    "start_time": "2022-02-06T18:54:12.168Z"
   },
   {
    "duration": 520,
    "start_time": "2022-02-06T18:54:12.185Z"
   },
   {
    "duration": 8,
    "start_time": "2022-02-06T18:54:12.707Z"
   },
   {
    "duration": 334,
    "start_time": "2022-02-06T18:54:12.717Z"
   },
   {
    "duration": 9,
    "start_time": "2022-02-06T18:54:13.053Z"
   },
   {
    "duration": 15,
    "start_time": "2022-02-06T18:54:13.064Z"
   },
   {
    "duration": 18,
    "start_time": "2022-02-06T18:54:13.082Z"
   },
   {
    "duration": 47,
    "start_time": "2022-02-06T18:54:13.102Z"
   },
   {
    "duration": 7,
    "start_time": "2022-02-06T18:54:13.151Z"
   },
   {
    "duration": 23,
    "start_time": "2022-02-06T18:54:13.161Z"
   },
   {
    "duration": 31,
    "start_time": "2022-02-06T18:54:13.187Z"
   },
   {
    "duration": 6,
    "start_time": "2022-02-06T18:54:13.221Z"
   },
   {
    "duration": 26,
    "start_time": "2022-02-06T18:54:13.249Z"
   },
   {
    "duration": 6,
    "start_time": "2022-02-06T18:54:13.277Z"
   },
   {
    "duration": 41,
    "start_time": "2022-02-06T18:54:13.285Z"
   },
   {
    "duration": 11,
    "start_time": "2022-02-06T18:54:13.332Z"
   },
   {
    "duration": 23,
    "start_time": "2022-02-06T18:54:13.348Z"
   },
   {
    "duration": 17,
    "start_time": "2022-02-06T18:54:13.374Z"
   },
   {
    "duration": 73,
    "start_time": "2022-02-06T18:54:13.394Z"
   },
   {
    "duration": 10,
    "start_time": "2022-02-06T18:54:13.470Z"
   },
   {
    "duration": 14,
    "start_time": "2022-02-06T18:54:13.483Z"
   },
   {
    "duration": 74,
    "start_time": "2022-02-06T18:54:13.500Z"
   },
   {
    "duration": 771,
    "start_time": "2022-02-06T18:54:13.655Z"
   },
   {
    "duration": 1258,
    "start_time": "2022-02-06T18:54:14.429Z"
   },
   {
    "duration": 167,
    "start_time": "2022-02-06T18:54:15.689Z"
   },
   {
    "duration": 561,
    "start_time": "2022-02-06T18:54:15.859Z"
   },
   {
    "duration": 1265,
    "start_time": "2022-02-06T18:54:16.423Z"
   },
   {
    "duration": 6,
    "start_time": "2022-02-06T18:54:17.690Z"
   },
   {
    "duration": 21,
    "start_time": "2022-02-06T18:54:17.698Z"
   },
   {
    "duration": 142,
    "start_time": "2022-02-06T18:54:17.722Z"
   },
   {
    "duration": 884,
    "start_time": "2022-02-06T18:54:17.951Z"
   },
   {
    "duration": 2227,
    "start_time": "2022-02-06T18:54:18.838Z"
   },
   {
    "duration": 23,
    "start_time": "2022-02-06T18:54:21.068Z"
   },
   {
    "duration": 61,
    "start_time": "2022-02-06T18:54:21.095Z"
   },
   {
    "duration": 443,
    "start_time": "2022-02-06T18:54:21.159Z"
   },
   {
    "duration": 788,
    "start_time": "2022-02-06T18:54:21.605Z"
   },
   {
    "duration": 694,
    "start_time": "2022-02-06T18:54:22.396Z"
   },
   {
    "duration": 27106,
    "start_time": "2022-02-06T18:54:23.093Z"
   },
   {
    "duration": 27089,
    "start_time": "2022-02-06T18:54:50.202Z"
   },
   {
    "duration": 1863,
    "start_time": "2022-02-06T18:55:46.361Z"
   },
   {
    "duration": 26632,
    "start_time": "2022-02-06T18:55:57.352Z"
   },
   {
    "duration": 50,
    "start_time": "2022-02-06T18:56:49.651Z"
   },
   {
    "duration": 1464,
    "start_time": "2022-02-06T18:56:59.055Z"
   },
   {
    "duration": 62,
    "start_time": "2022-02-06T18:57:00.522Z"
   },
   {
    "duration": 12,
    "start_time": "2022-02-06T18:57:00.588Z"
   },
   {
    "duration": 27,
    "start_time": "2022-02-06T18:57:00.603Z"
   },
   {
    "duration": 27,
    "start_time": "2022-02-06T18:57:00.632Z"
   },
   {
    "duration": 72,
    "start_time": "2022-02-06T18:57:00.661Z"
   },
   {
    "duration": 18,
    "start_time": "2022-02-06T18:57:00.736Z"
   },
   {
    "duration": 423,
    "start_time": "2022-02-06T18:57:00.757Z"
   },
   {
    "duration": 7,
    "start_time": "2022-02-06T18:57:01.184Z"
   },
   {
    "duration": 14,
    "start_time": "2022-02-06T18:57:01.194Z"
   },
   {
    "duration": 4,
    "start_time": "2022-02-06T18:57:01.212Z"
   },
   {
    "duration": 6,
    "start_time": "2022-02-06T18:57:01.249Z"
   },
   {
    "duration": 518,
    "start_time": "2022-02-06T18:57:01.257Z"
   },
   {
    "duration": 7,
    "start_time": "2022-02-06T18:57:01.777Z"
   },
   {
    "duration": 304,
    "start_time": "2022-02-06T18:57:01.786Z"
   },
   {
    "duration": 9,
    "start_time": "2022-02-06T18:57:02.092Z"
   },
   {
    "duration": 12,
    "start_time": "2022-02-06T18:57:02.104Z"
   },
   {
    "duration": 46,
    "start_time": "2022-02-06T18:57:02.119Z"
   },
   {
    "duration": 9,
    "start_time": "2022-02-06T18:57:02.168Z"
   },
   {
    "duration": 8,
    "start_time": "2022-02-06T18:57:02.179Z"
   },
   {
    "duration": 59,
    "start_time": "2022-02-06T18:57:02.189Z"
   },
   {
    "duration": 27,
    "start_time": "2022-02-06T18:57:02.251Z"
   },
   {
    "duration": 8,
    "start_time": "2022-02-06T18:57:02.281Z"
   },
   {
    "duration": 59,
    "start_time": "2022-02-06T18:57:02.292Z"
   },
   {
    "duration": 6,
    "start_time": "2022-02-06T18:57:02.354Z"
   },
   {
    "duration": 12,
    "start_time": "2022-02-06T18:57:02.364Z"
   },
   {
    "duration": 5,
    "start_time": "2022-02-06T18:57:02.383Z"
   },
   {
    "duration": 11,
    "start_time": "2022-02-06T18:57:02.390Z"
   },
   {
    "duration": 18,
    "start_time": "2022-02-06T18:57:02.403Z"
   },
   {
    "duration": 53,
    "start_time": "2022-02-06T18:57:02.450Z"
   },
   {
    "duration": 8,
    "start_time": "2022-02-06T18:57:02.506Z"
   },
   {
    "duration": 37,
    "start_time": "2022-02-06T18:57:02.517Z"
   },
   {
    "duration": 97,
    "start_time": "2022-02-06T18:57:02.556Z"
   },
   {
    "duration": 735,
    "start_time": "2022-02-06T18:57:02.655Z"
   },
   {
    "duration": 1239,
    "start_time": "2022-02-06T18:57:03.393Z"
   },
   {
    "duration": 113,
    "start_time": "2022-02-06T18:57:04.635Z"
   },
   {
    "duration": 526,
    "start_time": "2022-02-06T18:57:04.751Z"
   },
   {
    "duration": 1182,
    "start_time": "2022-02-06T18:57:05.279Z"
   },
   {
    "duration": 5,
    "start_time": "2022-02-06T18:57:06.464Z"
   },
   {
    "duration": 17,
    "start_time": "2022-02-06T18:57:06.471Z"
   },
   {
    "duration": 161,
    "start_time": "2022-02-06T18:57:06.490Z"
   },
   {
    "duration": 786,
    "start_time": "2022-02-06T18:57:06.654Z"
   },
   {
    "duration": 1690,
    "start_time": "2022-02-06T18:57:07.449Z"
   },
   {
    "duration": 22,
    "start_time": "2022-02-06T18:57:09.141Z"
   },
   {
    "duration": 186,
    "start_time": "2022-02-06T18:57:09.165Z"
   },
   {
    "duration": 352,
    "start_time": "2022-02-06T18:57:09.355Z"
   },
   {
    "duration": 28227,
    "start_time": "2022-02-06T18:57:09.709Z"
   },
   {
    "duration": 711,
    "start_time": "2022-02-06T18:57:37.938Z"
   },
   {
    "duration": 25882,
    "start_time": "2022-02-06T18:57:38.651Z"
   },
   {
    "duration": 25469,
    "start_time": "2022-02-06T18:58:04.536Z"
   },
   {
    "duration": 72606,
    "start_time": "2022-02-06T18:58:34.124Z"
   },
   {
    "duration": 71278,
    "start_time": "2022-02-06T19:01:14.062Z"
   },
   {
    "duration": 70234,
    "start_time": "2022-02-06T19:02:30.559Z"
   },
   {
    "duration": 5,
    "start_time": "2022-02-06T19:04:51.039Z"
   },
   {
    "duration": 422,
    "start_time": "2022-02-06T19:08:58.550Z"
   },
   {
    "duration": 318,
    "start_time": "2022-02-06T19:09:23.524Z"
   },
   {
    "duration": 68,
    "start_time": "2022-02-06T19:09:29.887Z"
   },
   {
    "duration": 1443,
    "start_time": "2022-02-06T19:09:48.231Z"
   },
   {
    "duration": 59,
    "start_time": "2022-02-06T19:09:49.677Z"
   },
   {
    "duration": 17,
    "start_time": "2022-02-06T19:09:49.739Z"
   },
   {
    "duration": 7,
    "start_time": "2022-02-06T19:09:49.758Z"
   },
   {
    "duration": 22,
    "start_time": "2022-02-06T19:09:49.768Z"
   },
   {
    "duration": 95,
    "start_time": "2022-02-06T19:09:49.793Z"
   },
   {
    "duration": 11,
    "start_time": "2022-02-06T19:09:49.891Z"
   },
   {
    "duration": 417,
    "start_time": "2022-02-06T19:09:49.906Z"
   },
   {
    "duration": 6,
    "start_time": "2022-02-06T19:09:50.327Z"
   },
   {
    "duration": 9,
    "start_time": "2022-02-06T19:09:50.349Z"
   },
   {
    "duration": 6,
    "start_time": "2022-02-06T19:09:50.361Z"
   },
   {
    "duration": 11,
    "start_time": "2022-02-06T19:09:50.370Z"
   },
   {
    "duration": 551,
    "start_time": "2022-02-06T19:09:50.383Z"
   },
   {
    "duration": 6,
    "start_time": "2022-02-06T19:09:50.936Z"
   },
   {
    "duration": 302,
    "start_time": "2022-02-06T19:09:50.950Z"
   },
   {
    "duration": 9,
    "start_time": "2022-02-06T19:09:51.254Z"
   },
   {
    "duration": 11,
    "start_time": "2022-02-06T19:09:51.266Z"
   },
   {
    "duration": 23,
    "start_time": "2022-02-06T19:09:51.279Z"
   },
   {
    "duration": 48,
    "start_time": "2022-02-06T19:09:51.305Z"
   },
   {
    "duration": 10,
    "start_time": "2022-02-06T19:09:51.355Z"
   },
   {
    "duration": 24,
    "start_time": "2022-02-06T19:09:51.367Z"
   },
   {
    "duration": 22,
    "start_time": "2022-02-06T19:09:51.395Z"
   },
   {
    "duration": 6,
    "start_time": "2022-02-06T19:09:51.448Z"
   },
   {
    "duration": 43,
    "start_time": "2022-02-06T19:09:51.457Z"
   },
   {
    "duration": 7,
    "start_time": "2022-02-06T19:09:51.503Z"
   },
   {
    "duration": 39,
    "start_time": "2022-02-06T19:09:51.517Z"
   },
   {
    "duration": 5,
    "start_time": "2022-02-06T19:09:51.560Z"
   },
   {
    "duration": 7,
    "start_time": "2022-02-06T19:09:51.568Z"
   },
   {
    "duration": 8,
    "start_time": "2022-02-06T19:09:51.578Z"
   },
   {
    "duration": 12,
    "start_time": "2022-02-06T19:09:51.589Z"
   },
   {
    "duration": 94,
    "start_time": "2022-02-06T19:09:51.603Z"
   },
   {
    "duration": 9,
    "start_time": "2022-02-06T19:09:51.700Z"
   },
   {
    "duration": 25,
    "start_time": "2022-02-06T19:09:51.711Z"
   },
   {
    "duration": 102,
    "start_time": "2022-02-06T19:09:51.749Z"
   },
   {
    "duration": 787,
    "start_time": "2022-02-06T19:09:51.854Z"
   },
   {
    "duration": 1317,
    "start_time": "2022-02-06T19:09:52.649Z"
   },
   {
    "duration": 89,
    "start_time": "2022-02-06T19:09:53.969Z"
   },
   {
    "duration": 733,
    "start_time": "2022-02-06T19:09:54.061Z"
   },
   {
    "duration": 1313,
    "start_time": "2022-02-06T19:09:54.796Z"
   },
   {
    "duration": 5,
    "start_time": "2022-02-06T19:09:56.112Z"
   },
   {
    "duration": 33,
    "start_time": "2022-02-06T19:09:56.120Z"
   },
   {
    "duration": 102,
    "start_time": "2022-02-06T19:09:56.155Z"
   },
   {
    "duration": 775,
    "start_time": "2022-02-06T19:09:56.264Z"
   },
   {
    "duration": 73356,
    "start_time": "2022-02-06T19:09:57.049Z"
   },
   {
    "duration": 18,
    "start_time": "2022-02-06T19:11:10.408Z"
   },
   {
    "duration": 125,
    "start_time": "2022-02-06T19:11:10.428Z"
   },
   {
    "duration": 344,
    "start_time": "2022-02-06T19:11:10.557Z"
   },
   {
    "duration": 26861,
    "start_time": "2022-02-06T19:11:10.903Z"
   },
   {
    "duration": 704,
    "start_time": "2022-02-06T19:11:37.768Z"
   },
   {
    "duration": 25531,
    "start_time": "2022-02-06T19:11:38.474Z"
   },
   {
    "duration": 25167,
    "start_time": "2022-02-06T19:12:04.008Z"
   },
   {
    "duration": 72885,
    "start_time": "2022-02-06T19:12:29.178Z"
   },
   {
    "duration": 202,
    "start_time": "2022-02-06T19:13:42.065Z"
   },
   {
    "duration": 74676,
    "start_time": "2022-02-06T19:15:52.907Z"
   },
   {
    "duration": 107,
    "start_time": "2022-02-06T19:19:08.982Z"
   },
   {
    "duration": 1355,
    "start_time": "2022-02-07T07:54:40.816Z"
   },
   {
    "duration": 58,
    "start_time": "2022-02-07T07:54:42.174Z"
   },
   {
    "duration": 13,
    "start_time": "2022-02-07T07:54:42.235Z"
   },
   {
    "duration": 6,
    "start_time": "2022-02-07T07:54:42.260Z"
   },
   {
    "duration": 19,
    "start_time": "2022-02-07T07:54:42.268Z"
   },
   {
    "duration": 83,
    "start_time": "2022-02-07T07:54:42.289Z"
   },
   {
    "duration": 8,
    "start_time": "2022-02-07T07:54:42.375Z"
   },
   {
    "duration": 413,
    "start_time": "2022-02-07T07:54:42.386Z"
   },
   {
    "duration": 7,
    "start_time": "2022-02-07T07:54:42.802Z"
   },
   {
    "duration": 13,
    "start_time": "2022-02-07T07:54:42.812Z"
   },
   {
    "duration": 4,
    "start_time": "2022-02-07T07:54:42.828Z"
   },
   {
    "duration": 6,
    "start_time": "2022-02-07T07:54:42.862Z"
   },
   {
    "duration": 548,
    "start_time": "2022-02-07T07:54:42.871Z"
   },
   {
    "duration": 6,
    "start_time": "2022-02-07T07:54:43.421Z"
   },
   {
    "duration": 300,
    "start_time": "2022-02-07T07:54:43.430Z"
   },
   {
    "duration": 9,
    "start_time": "2022-02-07T07:54:43.732Z"
   },
   {
    "duration": 26,
    "start_time": "2022-02-07T07:54:43.743Z"
   },
   {
    "duration": 17,
    "start_time": "2022-02-07T07:54:43.772Z"
   },
   {
    "duration": 9,
    "start_time": "2022-02-07T07:54:43.791Z"
   },
   {
    "duration": 6,
    "start_time": "2022-02-07T07:54:43.802Z"
   },
   {
    "duration": 63,
    "start_time": "2022-02-07T07:54:43.810Z"
   },
   {
    "duration": 23,
    "start_time": "2022-02-07T07:54:43.875Z"
   },
   {
    "duration": 6,
    "start_time": "2022-02-07T07:54:43.905Z"
   },
   {
    "duration": 63,
    "start_time": "2022-02-07T07:54:43.916Z"
   },
   {
    "duration": 5,
    "start_time": "2022-02-07T07:54:43.982Z"
   },
   {
    "duration": 12,
    "start_time": "2022-02-07T07:54:43.989Z"
   },
   {
    "duration": 5,
    "start_time": "2022-02-07T07:54:44.004Z"
   },
   {
    "duration": 6,
    "start_time": "2022-02-07T07:54:44.011Z"
   },
   {
    "duration": 45,
    "start_time": "2022-02-07T07:54:44.019Z"
   },
   {
    "duration": 7,
    "start_time": "2022-02-07T07:54:44.067Z"
   },
   {
    "duration": 83,
    "start_time": "2022-02-07T07:54:44.076Z"
   },
   {
    "duration": 8,
    "start_time": "2022-02-07T07:54:44.161Z"
   },
   {
    "duration": 9,
    "start_time": "2022-02-07T07:54:44.171Z"
   },
   {
    "duration": 86,
    "start_time": "2022-02-07T07:54:44.182Z"
   },
   {
    "duration": 745,
    "start_time": "2022-02-07T07:54:44.369Z"
   },
   {
    "duration": 1627,
    "start_time": "2022-02-07T07:54:45.116Z"
   },
   {
    "duration": 114,
    "start_time": "2022-02-07T07:54:46.746Z"
   },
   {
    "duration": 541,
    "start_time": "2022-02-07T07:54:46.865Z"
   },
   {
    "duration": 1637,
    "start_time": "2022-02-07T07:54:47.408Z"
   },
   {
    "duration": 12,
    "start_time": "2022-02-07T07:54:49.048Z"
   },
   {
    "duration": 18,
    "start_time": "2022-02-07T07:54:49.062Z"
   },
   {
    "duration": 86,
    "start_time": "2022-02-07T07:54:49.082Z"
   },
   {
    "duration": 695,
    "start_time": "2022-02-07T07:54:49.266Z"
   },
   {
    "duration": 72866,
    "start_time": "2022-02-07T07:54:49.963Z"
   },
   {
    "duration": 28,
    "start_time": "2022-02-07T07:56:02.831Z"
   },
   {
    "duration": 98,
    "start_time": "2022-02-07T07:56:02.862Z"
   },
   {
    "duration": 379,
    "start_time": "2022-02-07T07:56:02.964Z"
   },
   {
    "duration": 27786,
    "start_time": "2022-02-07T07:56:03.345Z"
   },
   {
    "duration": 72216,
    "start_time": "2022-02-07T07:56:31.133Z"
   },
   {
    "duration": 92,
    "start_time": "2022-02-07T08:34:49.282Z"
   },
   {
    "duration": 114,
    "start_time": "2022-02-07T10:15:01.391Z"
   },
   {
    "duration": 1350,
    "start_time": "2022-02-07T10:33:39.528Z"
   },
   {
    "duration": 60,
    "start_time": "2022-02-07T10:33:40.881Z"
   },
   {
    "duration": 20,
    "start_time": "2022-02-07T10:33:40.944Z"
   },
   {
    "duration": 5,
    "start_time": "2022-02-07T10:33:40.967Z"
   },
   {
    "duration": 17,
    "start_time": "2022-02-07T10:33:40.975Z"
   },
   {
    "duration": 94,
    "start_time": "2022-02-07T10:33:40.994Z"
   },
   {
    "duration": 9,
    "start_time": "2022-02-07T10:33:41.090Z"
   },
   {
    "duration": 535,
    "start_time": "2022-02-07T10:33:41.102Z"
   },
   {
    "duration": 6,
    "start_time": "2022-02-07T10:33:41.640Z"
   },
   {
    "duration": 11,
    "start_time": "2022-02-07T10:33:41.660Z"
   },
   {
    "duration": 5,
    "start_time": "2022-02-07T10:33:41.674Z"
   },
   {
    "duration": 14,
    "start_time": "2022-02-07T10:33:41.682Z"
   },
   {
    "duration": 544,
    "start_time": "2022-02-07T10:33:41.699Z"
   },
   {
    "duration": 14,
    "start_time": "2022-02-07T10:33:42.245Z"
   },
   {
    "duration": 288,
    "start_time": "2022-02-07T10:33:42.261Z"
   },
   {
    "duration": 8,
    "start_time": "2022-02-07T10:33:42.552Z"
   },
   {
    "duration": 13,
    "start_time": "2022-02-07T10:33:42.563Z"
   },
   {
    "duration": 18,
    "start_time": "2022-02-07T10:33:42.579Z"
   },
   {
    "duration": 10,
    "start_time": "2022-02-07T10:33:42.599Z"
   },
   {
    "duration": 5,
    "start_time": "2022-02-07T10:33:42.611Z"
   },
   {
    "duration": 60,
    "start_time": "2022-02-07T10:33:42.618Z"
   },
   {
    "duration": 18,
    "start_time": "2022-02-07T10:33:42.681Z"
   },
   {
    "duration": 5,
    "start_time": "2022-02-07T10:33:42.704Z"
   },
   {
    "duration": 62,
    "start_time": "2022-02-07T10:33:42.712Z"
   },
   {
    "duration": 5,
    "start_time": "2022-02-07T10:33:42.776Z"
   },
   {
    "duration": 11,
    "start_time": "2022-02-07T10:33:42.783Z"
   },
   {
    "duration": 5,
    "start_time": "2022-02-07T10:33:42.796Z"
   },
   {
    "duration": 6,
    "start_time": "2022-02-07T10:33:42.803Z"
   },
   {
    "duration": 49,
    "start_time": "2022-02-07T10:33:42.812Z"
   },
   {
    "duration": 5,
    "start_time": "2022-02-07T10:33:42.864Z"
   },
   {
    "duration": 55,
    "start_time": "2022-02-07T10:33:42.871Z"
   },
   {
    "duration": 32,
    "start_time": "2022-02-07T10:33:42.929Z"
   },
   {
    "duration": 11,
    "start_time": "2022-02-07T10:33:42.963Z"
   },
   {
    "duration": 94,
    "start_time": "2022-02-07T10:33:42.976Z"
   },
   {
    "duration": 744,
    "start_time": "2022-02-07T10:33:43.164Z"
   },
   {
    "duration": 1260,
    "start_time": "2022-02-07T10:33:43.910Z"
   },
   {
    "duration": 94,
    "start_time": "2022-02-07T10:33:45.173Z"
   },
   {
    "duration": 604,
    "start_time": "2022-02-07T10:33:45.269Z"
   },
   {
    "duration": 1243,
    "start_time": "2022-02-07T10:33:45.876Z"
   },
   {
    "duration": 6,
    "start_time": "2022-02-07T10:33:47.122Z"
   },
   {
    "duration": 37,
    "start_time": "2022-02-07T10:33:47.131Z"
   },
   {
    "duration": 98,
    "start_time": "2022-02-07T10:33:47.170Z"
   },
   {
    "duration": 705,
    "start_time": "2022-02-07T10:33:47.363Z"
   },
   {
    "duration": 74604,
    "start_time": "2022-02-07T10:33:48.071Z"
   },
   {
    "duration": 16,
    "start_time": "2022-02-07T10:35:02.678Z"
   },
   {
    "duration": 71,
    "start_time": "2022-02-07T10:35:02.697Z"
   },
   {
    "duration": 358,
    "start_time": "2022-02-07T10:35:02.862Z"
   },
   {
    "duration": 27787,
    "start_time": "2022-02-07T10:35:03.223Z"
   },
   {
    "duration": 71563,
    "start_time": "2022-02-07T10:35:31.012Z"
   },
   {
    "duration": 1374,
    "start_time": "2022-02-07T10:47:53.422Z"
   },
   {
    "duration": 61,
    "start_time": "2022-02-07T10:47:54.799Z"
   },
   {
    "duration": 13,
    "start_time": "2022-02-07T10:47:54.866Z"
   },
   {
    "duration": 6,
    "start_time": "2022-02-07T10:47:54.881Z"
   },
   {
    "duration": 19,
    "start_time": "2022-02-07T10:47:54.890Z"
   },
   {
    "duration": 105,
    "start_time": "2022-02-07T10:47:54.912Z"
   },
   {
    "duration": 8,
    "start_time": "2022-02-07T10:47:55.020Z"
   },
   {
    "duration": 419,
    "start_time": "2022-02-07T10:47:55.031Z"
   },
   {
    "duration": 6,
    "start_time": "2022-02-07T10:47:55.459Z"
   },
   {
    "duration": 10,
    "start_time": "2022-02-07T10:47:55.467Z"
   },
   {
    "duration": 4,
    "start_time": "2022-02-07T10:47:55.480Z"
   },
   {
    "duration": 7,
    "start_time": "2022-02-07T10:47:55.487Z"
   },
   {
    "duration": 620,
    "start_time": "2022-02-07T10:47:55.497Z"
   },
   {
    "duration": 8,
    "start_time": "2022-02-07T10:47:56.120Z"
   },
   {
    "duration": 348,
    "start_time": "2022-02-07T10:47:56.130Z"
   },
   {
    "duration": 8,
    "start_time": "2022-02-07T10:47:56.481Z"
   },
   {
    "duration": 12,
    "start_time": "2022-02-07T10:47:56.491Z"
   },
   {
    "duration": 17,
    "start_time": "2022-02-07T10:47:56.505Z"
   },
   {
    "duration": 9,
    "start_time": "2022-02-07T10:47:56.559Z"
   },
   {
    "duration": 6,
    "start_time": "2022-02-07T10:47:56.570Z"
   },
   {
    "duration": 22,
    "start_time": "2022-02-07T10:47:56.579Z"
   },
   {
    "duration": 21,
    "start_time": "2022-02-07T10:47:56.606Z"
   },
   {
    "duration": 6,
    "start_time": "2022-02-07T10:47:56.661Z"
   },
   {
    "duration": 35,
    "start_time": "2022-02-07T10:47:56.669Z"
   },
   {
    "duration": 5,
    "start_time": "2022-02-07T10:47:56.706Z"
   },
   {
    "duration": 50,
    "start_time": "2022-02-07T10:47:56.713Z"
   },
   {
    "duration": 5,
    "start_time": "2022-02-07T10:47:56.766Z"
   },
   {
    "duration": 8,
    "start_time": "2022-02-07T10:47:56.773Z"
   },
   {
    "duration": 6,
    "start_time": "2022-02-07T10:47:56.783Z"
   },
   {
    "duration": 6,
    "start_time": "2022-02-07T10:47:56.791Z"
   },
   {
    "duration": 92,
    "start_time": "2022-02-07T10:47:56.799Z"
   },
   {
    "duration": 8,
    "start_time": "2022-02-07T10:47:56.894Z"
   },
   {
    "duration": 9,
    "start_time": "2022-02-07T10:47:56.905Z"
   },
   {
    "duration": 144,
    "start_time": "2022-02-07T10:47:56.916Z"
   },
   {
    "duration": 750,
    "start_time": "2022-02-07T10:47:57.063Z"
   },
   {
    "duration": 1306,
    "start_time": "2022-02-07T10:47:57.816Z"
   },
   {
    "duration": 134,
    "start_time": "2022-02-07T10:47:59.125Z"
   },
   {
    "duration": 565,
    "start_time": "2022-02-07T10:47:59.263Z"
   },
   {
    "duration": 1557,
    "start_time": "2022-02-07T10:47:59.831Z"
   },
   {
    "duration": 5,
    "start_time": "2022-02-07T10:48:01.391Z"
   },
   {
    "duration": 28,
    "start_time": "2022-02-07T10:48:01.398Z"
   },
   {
    "duration": 134,
    "start_time": "2022-02-07T10:48:01.429Z"
   },
   {
    "duration": 728,
    "start_time": "2022-02-07T10:48:01.567Z"
   },
   {
    "duration": 74794,
    "start_time": "2022-02-07T10:48:02.298Z"
   },
   {
    "duration": 17,
    "start_time": "2022-02-07T10:49:17.094Z"
   },
   {
    "duration": 157,
    "start_time": "2022-02-07T10:49:17.113Z"
   },
   {
    "duration": 352,
    "start_time": "2022-02-07T10:49:17.273Z"
   },
   {
    "duration": 28444,
    "start_time": "2022-02-07T10:49:17.628Z"
   },
   {
    "duration": 72184,
    "start_time": "2022-02-07T10:49:46.075Z"
   },
   {
    "duration": 1313,
    "start_time": "2022-02-07T11:52:52.114Z"
   },
   {
    "duration": 60,
    "start_time": "2022-02-07T11:52:53.430Z"
   },
   {
    "duration": 12,
    "start_time": "2022-02-07T11:52:53.493Z"
   },
   {
    "duration": 6,
    "start_time": "2022-02-07T11:52:53.507Z"
   },
   {
    "duration": 44,
    "start_time": "2022-02-07T11:52:53.516Z"
   },
   {
    "duration": 61,
    "start_time": "2022-02-07T11:52:53.562Z"
   },
   {
    "duration": 8,
    "start_time": "2022-02-07T11:52:53.626Z"
   },
   {
    "duration": 422,
    "start_time": "2022-02-07T11:52:53.637Z"
   },
   {
    "duration": 5,
    "start_time": "2022-02-07T11:52:54.062Z"
   },
   {
    "duration": 10,
    "start_time": "2022-02-07T11:52:54.069Z"
   },
   {
    "duration": 4,
    "start_time": "2022-02-07T11:52:54.081Z"
   },
   {
    "duration": 6,
    "start_time": "2022-02-07T11:52:54.087Z"
   },
   {
    "duration": 566,
    "start_time": "2022-02-07T11:52:54.096Z"
   },
   {
    "duration": 7,
    "start_time": "2022-02-07T11:52:54.664Z"
   },
   {
    "duration": 294,
    "start_time": "2022-02-07T11:52:54.673Z"
   },
   {
    "duration": 8,
    "start_time": "2022-02-07T11:52:54.970Z"
   },
   {
    "duration": 11,
    "start_time": "2022-02-07T11:52:54.981Z"
   },
   {
    "duration": 17,
    "start_time": "2022-02-07T11:52:54.995Z"
   },
   {
    "duration": 47,
    "start_time": "2022-02-07T11:52:55.014Z"
   },
   {
    "duration": 9,
    "start_time": "2022-02-07T11:52:55.063Z"
   },
   {
    "duration": 22,
    "start_time": "2022-02-07T11:52:55.074Z"
   },
   {
    "duration": 19,
    "start_time": "2022-02-07T11:52:55.098Z"
   },
   {
    "duration": 5,
    "start_time": "2022-02-07T11:52:55.122Z"
   },
   {
    "duration": 27,
    "start_time": "2022-02-07T11:52:55.160Z"
   },
   {
    "duration": 5,
    "start_time": "2022-02-07T11:52:55.189Z"
   },
   {
    "duration": 9,
    "start_time": "2022-02-07T11:52:55.196Z"
   },
   {
    "duration": 4,
    "start_time": "2022-02-07T11:52:55.208Z"
   },
   {
    "duration": 5,
    "start_time": "2022-02-07T11:52:55.214Z"
   },
   {
    "duration": 6,
    "start_time": "2022-02-07T11:52:55.260Z"
   },
   {
    "duration": 6,
    "start_time": "2022-02-07T11:52:55.268Z"
   },
   {
    "duration": 51,
    "start_time": "2022-02-07T11:52:55.276Z"
   },
   {
    "duration": 36,
    "start_time": "2022-02-07T11:52:55.329Z"
   },
   {
    "duration": 11,
    "start_time": "2022-02-07T11:52:55.368Z"
   },
   {
    "duration": 84,
    "start_time": "2022-02-07T11:52:55.382Z"
   },
   {
    "duration": 754,
    "start_time": "2022-02-07T11:52:55.559Z"
   },
   {
    "duration": 1246,
    "start_time": "2022-02-07T11:52:56.316Z"
   },
   {
    "duration": 97,
    "start_time": "2022-02-07T11:52:57.565Z"
   },
   {
    "duration": 595,
    "start_time": "2022-02-07T11:52:57.666Z"
   },
   {
    "duration": 1274,
    "start_time": "2022-02-07T11:52:58.263Z"
   },
   {
    "duration": 5,
    "start_time": "2022-02-07T11:52:59.539Z"
   },
   {
    "duration": 34,
    "start_time": "2022-02-07T11:52:59.547Z"
   },
   {
    "duration": 177,
    "start_time": "2022-02-07T11:52:59.584Z"
   },
   {
    "duration": 717,
    "start_time": "2022-02-07T11:52:59.766Z"
   },
   {
    "duration": 76596,
    "start_time": "2022-02-07T11:53:00.485Z"
   },
   {
    "duration": 18,
    "start_time": "2022-02-07T11:54:17.084Z"
   },
   {
    "duration": 64,
    "start_time": "2022-02-07T11:54:17.104Z"
   },
   {
    "duration": 358,
    "start_time": "2022-02-07T11:54:17.261Z"
   },
   {
    "duration": 28547,
    "start_time": "2022-02-07T11:54:17.621Z"
   },
   {
    "duration": 71489,
    "start_time": "2022-02-07T11:54:46.170Z"
   },
   {
    "duration": 1347,
    "start_time": "2022-02-07T11:57:23.688Z"
   },
   {
    "duration": 61,
    "start_time": "2022-02-07T11:57:25.037Z"
   },
   {
    "duration": 15,
    "start_time": "2022-02-07T11:57:25.102Z"
   },
   {
    "duration": 6,
    "start_time": "2022-02-07T11:57:25.120Z"
   },
   {
    "duration": 44,
    "start_time": "2022-02-07T11:57:25.129Z"
   },
   {
    "duration": 60,
    "start_time": "2022-02-07T11:57:25.175Z"
   },
   {
    "duration": 28,
    "start_time": "2022-02-07T11:57:25.237Z"
   },
   {
    "duration": 428,
    "start_time": "2022-02-07T11:57:25.269Z"
   },
   {
    "duration": 6,
    "start_time": "2022-02-07T11:57:25.700Z"
   },
   {
    "duration": 25,
    "start_time": "2022-02-07T11:57:25.708Z"
   },
   {
    "duration": 7,
    "start_time": "2022-02-07T11:57:25.735Z"
   },
   {
    "duration": 27,
    "start_time": "2022-02-07T11:57:25.744Z"
   },
   {
    "duration": 634,
    "start_time": "2022-02-07T11:57:25.773Z"
   },
   {
    "duration": 6,
    "start_time": "2022-02-07T11:57:26.410Z"
   },
   {
    "duration": 313,
    "start_time": "2022-02-07T11:57:26.419Z"
   },
   {
    "duration": 9,
    "start_time": "2022-02-07T11:57:26.735Z"
   },
   {
    "duration": 11,
    "start_time": "2022-02-07T11:57:26.759Z"
   },
   {
    "duration": 22,
    "start_time": "2022-02-07T11:57:26.772Z"
   },
   {
    "duration": 16,
    "start_time": "2022-02-07T11:57:26.796Z"
   },
   {
    "duration": 7,
    "start_time": "2022-02-07T11:57:26.814Z"
   },
   {
    "duration": 49,
    "start_time": "2022-02-07T11:57:26.823Z"
   },
   {
    "duration": 27,
    "start_time": "2022-02-07T11:57:26.874Z"
   },
   {
    "duration": 5,
    "start_time": "2022-02-07T11:57:26.908Z"
   },
   {
    "duration": 51,
    "start_time": "2022-02-07T11:57:26.916Z"
   },
   {
    "duration": 5,
    "start_time": "2022-02-07T11:57:26.970Z"
   },
   {
    "duration": 13,
    "start_time": "2022-02-07T11:57:26.978Z"
   },
   {
    "duration": 27,
    "start_time": "2022-02-07T11:57:26.993Z"
   },
   {
    "duration": 14,
    "start_time": "2022-02-07T11:57:27.022Z"
   },
   {
    "duration": 28,
    "start_time": "2022-02-07T11:57:27.038Z"
   },
   {
    "duration": 19,
    "start_time": "2022-02-07T11:57:27.068Z"
   },
   {
    "duration": 69,
    "start_time": "2022-02-07T11:57:27.089Z"
   },
   {
    "duration": 7,
    "start_time": "2022-02-07T11:57:27.161Z"
   },
   {
    "duration": 18,
    "start_time": "2022-02-07T11:57:27.170Z"
   },
   {
    "duration": 76,
    "start_time": "2022-02-07T11:57:27.191Z"
   },
   {
    "duration": 779,
    "start_time": "2022-02-07T11:57:27.361Z"
   },
   {
    "duration": 1298,
    "start_time": "2022-02-07T11:57:28.142Z"
   },
   {
    "duration": 119,
    "start_time": "2022-02-07T11:57:29.443Z"
   },
   {
    "duration": 568,
    "start_time": "2022-02-07T11:57:29.565Z"
   },
   {
    "duration": 1317,
    "start_time": "2022-02-07T11:57:30.136Z"
   },
   {
    "duration": 5,
    "start_time": "2022-02-07T11:57:31.460Z"
   },
   {
    "duration": 20,
    "start_time": "2022-02-07T11:57:31.467Z"
   },
   {
    "duration": 80,
    "start_time": "2022-02-07T11:57:31.490Z"
   },
   {
    "duration": 776,
    "start_time": "2022-02-07T11:57:31.661Z"
   },
   {
    "duration": 79513,
    "start_time": "2022-02-07T11:57:32.439Z"
   },
   {
    "duration": 16,
    "start_time": "2022-02-07T11:58:51.958Z"
   },
   {
    "duration": 91,
    "start_time": "2022-02-07T11:58:51.976Z"
   },
   {
    "duration": 436,
    "start_time": "2022-02-07T11:58:52.070Z"
   },
   {
    "duration": 27703,
    "start_time": "2022-02-07T11:58:52.509Z"
   },
   {
    "duration": 74088,
    "start_time": "2022-02-07T11:59:20.215Z"
   },
   {
    "duration": 1296,
    "start_time": "2022-02-07T12:01:56.386Z"
   },
   {
    "duration": 58,
    "start_time": "2022-02-07T12:01:57.685Z"
   },
   {
    "duration": 18,
    "start_time": "2022-02-07T12:01:57.747Z"
   },
   {
    "duration": 6,
    "start_time": "2022-02-07T12:01:57.768Z"
   },
   {
    "duration": 17,
    "start_time": "2022-02-07T12:01:57.777Z"
   },
   {
    "duration": 121,
    "start_time": "2022-02-07T12:01:57.798Z"
   },
   {
    "duration": 11,
    "start_time": "2022-02-07T12:01:57.922Z"
   },
   {
    "duration": 429,
    "start_time": "2022-02-07T12:01:57.937Z"
   },
   {
    "duration": 6,
    "start_time": "2022-02-07T12:01:58.369Z"
   },
   {
    "duration": 14,
    "start_time": "2022-02-07T12:01:58.377Z"
   },
   {
    "duration": 3,
    "start_time": "2022-02-07T12:01:58.393Z"
   },
   {
    "duration": 6,
    "start_time": "2022-02-07T12:01:58.398Z"
   },
   {
    "duration": 560,
    "start_time": "2022-02-07T12:01:58.406Z"
   },
   {
    "duration": 6,
    "start_time": "2022-02-07T12:01:58.969Z"
   },
   {
    "duration": 298,
    "start_time": "2022-02-07T12:01:58.978Z"
   },
   {
    "duration": 9,
    "start_time": "2022-02-07T12:01:59.279Z"
   },
   {
    "duration": 11,
    "start_time": "2022-02-07T12:01:59.291Z"
   },
   {
    "duration": 54,
    "start_time": "2022-02-07T12:01:59.305Z"
   },
   {
    "duration": 9,
    "start_time": "2022-02-07T12:01:59.361Z"
   },
   {
    "duration": 6,
    "start_time": "2022-02-07T12:01:59.373Z"
   },
   {
    "duration": 21,
    "start_time": "2022-02-07T12:01:59.382Z"
   },
   {
    "duration": 65,
    "start_time": "2022-02-07T12:01:59.406Z"
   },
   {
    "duration": 6,
    "start_time": "2022-02-07T12:01:59.477Z"
   },
   {
    "duration": 31,
    "start_time": "2022-02-07T12:01:59.486Z"
   },
   {
    "duration": 40,
    "start_time": "2022-02-07T12:01:59.520Z"
   },
   {
    "duration": 9,
    "start_time": "2022-02-07T12:01:59.562Z"
   },
   {
    "duration": 5,
    "start_time": "2022-02-07T12:01:59.573Z"
   },
   {
    "duration": 5,
    "start_time": "2022-02-07T12:01:59.580Z"
   },
   {
    "duration": 6,
    "start_time": "2022-02-07T12:01:59.587Z"
   },
   {
    "duration": 6,
    "start_time": "2022-02-07T12:01:59.595Z"
   },
   {
    "duration": 111,
    "start_time": "2022-02-07T12:01:59.603Z"
   },
   {
    "duration": 8,
    "start_time": "2022-02-07T12:01:59.716Z"
   },
   {
    "duration": 37,
    "start_time": "2022-02-07T12:01:59.726Z"
   },
   {
    "duration": 99,
    "start_time": "2022-02-07T12:01:59.766Z"
   },
   {
    "duration": 861,
    "start_time": "2022-02-07T12:01:59.868Z"
   },
   {
    "duration": 1366,
    "start_time": "2022-02-07T12:02:00.732Z"
   },
   {
    "duration": 65,
    "start_time": "2022-02-07T12:02:02.101Z"
   },
   {
    "duration": 636,
    "start_time": "2022-02-07T12:02:02.169Z"
   },
   {
    "duration": 1474,
    "start_time": "2022-02-07T12:02:02.807Z"
   },
   {
    "duration": 5,
    "start_time": "2022-02-07T12:02:04.284Z"
   },
   {
    "duration": 21,
    "start_time": "2022-02-07T12:02:04.291Z"
   },
   {
    "duration": 245,
    "start_time": "2022-02-07T12:02:04.314Z"
   },
   {
    "duration": 1124,
    "start_time": "2022-02-07T12:02:04.563Z"
   },
   {
    "duration": 75491,
    "start_time": "2022-02-07T12:02:05.689Z"
   },
   {
    "duration": 16,
    "start_time": "2022-02-07T12:03:21.182Z"
   },
   {
    "duration": 66,
    "start_time": "2022-02-07T12:03:21.200Z"
   },
   {
    "duration": 452,
    "start_time": "2022-02-07T12:03:21.270Z"
   },
   {
    "duration": 29499,
    "start_time": "2022-02-07T12:03:21.725Z"
   },
   {
    "duration": 74857,
    "start_time": "2022-02-07T12:03:51.227Z"
   },
   {
    "duration": 414,
    "start_time": "2022-02-07T20:00:21.550Z"
   },
   {
    "duration": 1540,
    "start_time": "2022-02-07T20:00:30.161Z"
   },
   {
    "duration": 59,
    "start_time": "2022-02-07T20:00:31.704Z"
   },
   {
    "duration": 11,
    "start_time": "2022-02-07T20:00:31.766Z"
   },
   {
    "duration": 6,
    "start_time": "2022-02-07T20:00:31.780Z"
   },
   {
    "duration": 22,
    "start_time": "2022-02-07T20:00:31.788Z"
   },
   {
    "duration": 95,
    "start_time": "2022-02-07T20:00:31.812Z"
   },
   {
    "duration": 9,
    "start_time": "2022-02-07T20:00:31.910Z"
   },
   {
    "duration": 464,
    "start_time": "2022-02-07T20:00:31.923Z"
   },
   {
    "duration": 6,
    "start_time": "2022-02-07T20:00:32.391Z"
   },
   {
    "duration": 13,
    "start_time": "2022-02-07T20:00:32.399Z"
   },
   {
    "duration": 3,
    "start_time": "2022-02-07T20:00:32.415Z"
   },
   {
    "duration": 40,
    "start_time": "2022-02-07T20:00:32.420Z"
   },
   {
    "duration": 512,
    "start_time": "2022-02-07T20:00:32.462Z"
   },
   {
    "duration": 12345,
    "start_time": "2022-02-07T20:00:20.634Z"
   },
   {
    "duration": 12338,
    "start_time": "2022-02-07T20:00:20.643Z"
   },
   {
    "duration": 12333,
    "start_time": "2022-02-07T20:00:20.650Z"
   },
   {
    "duration": 12326,
    "start_time": "2022-02-07T20:00:20.659Z"
   },
   {
    "duration": 12322,
    "start_time": "2022-02-07T20:00:20.664Z"
   },
   {
    "duration": 12318,
    "start_time": "2022-02-07T20:00:20.670Z"
   },
   {
    "duration": 12315,
    "start_time": "2022-02-07T20:00:20.675Z"
   },
   {
    "duration": 12310,
    "start_time": "2022-02-07T20:00:20.682Z"
   },
   {
    "duration": 12306,
    "start_time": "2022-02-07T20:00:20.688Z"
   },
   {
    "duration": 12303,
    "start_time": "2022-02-07T20:00:20.693Z"
   },
   {
    "duration": 12214,
    "start_time": "2022-02-07T20:00:20.785Z"
   },
   {
    "duration": 12209,
    "start_time": "2022-02-07T20:00:20.791Z"
   },
   {
    "duration": 12175,
    "start_time": "2022-02-07T20:00:20.827Z"
   },
   {
    "duration": 12150,
    "start_time": "2022-02-07T20:00:20.853Z"
   },
   {
    "duration": 12106,
    "start_time": "2022-02-07T20:00:20.898Z"
   },
   {
    "duration": 12066,
    "start_time": "2022-02-07T20:00:20.940Z"
   },
   {
    "duration": 12056,
    "start_time": "2022-02-07T20:00:20.951Z"
   },
   {
    "duration": 12050,
    "start_time": "2022-02-07T20:00:20.958Z"
   },
   {
    "duration": 12046,
    "start_time": "2022-02-07T20:00:20.964Z"
   },
   {
    "duration": 12039,
    "start_time": "2022-02-07T20:00:20.972Z"
   },
   {
    "duration": 12035,
    "start_time": "2022-02-07T20:00:20.977Z"
   },
   {
    "duration": 12033,
    "start_time": "2022-02-07T20:00:20.981Z"
   },
   {
    "duration": 12029,
    "start_time": "2022-02-07T20:00:20.986Z"
   },
   {
    "duration": 12024,
    "start_time": "2022-02-07T20:00:20.993Z"
   },
   {
    "duration": 12060,
    "start_time": "2022-02-07T20:00:20.999Z"
   },
   {
    "duration": 12056,
    "start_time": "2022-02-07T20:00:21.004Z"
   },
   {
    "duration": 12054,
    "start_time": "2022-02-07T20:00:21.008Z"
   },
   {
    "duration": 12051,
    "start_time": "2022-02-07T20:00:21.012Z"
   },
   {
    "duration": 12048,
    "start_time": "2022-02-07T20:00:21.017Z"
   },
   {
    "duration": 12045,
    "start_time": "2022-02-07T20:00:21.021Z"
   },
   {
    "duration": 12043,
    "start_time": "2022-02-07T20:00:21.025Z"
   },
   {
    "duration": 12039,
    "start_time": "2022-02-07T20:00:21.030Z"
   },
   {
    "duration": 12014,
    "start_time": "2022-02-07T20:00:21.057Z"
   },
   {
    "duration": 12008,
    "start_time": "2022-02-07T20:00:21.064Z"
   },
   {
    "duration": 12000,
    "start_time": "2022-02-07T20:00:21.073Z"
   },
   {
    "duration": 11997,
    "start_time": "2022-02-07T20:00:21.078Z"
   },
   {
    "duration": 379,
    "start_time": "2022-02-07T20:01:00.573Z"
   },
   {
    "duration": 1444,
    "start_time": "2022-02-07T20:01:26.428Z"
   },
   {
    "duration": 59,
    "start_time": "2022-02-07T20:01:27.875Z"
   },
   {
    "duration": 12,
    "start_time": "2022-02-07T20:01:27.937Z"
   },
   {
    "duration": 6,
    "start_time": "2022-02-07T20:01:27.961Z"
   },
   {
    "duration": 16,
    "start_time": "2022-02-07T20:01:27.970Z"
   },
   {
    "duration": 89,
    "start_time": "2022-02-07T20:01:27.988Z"
   },
   {
    "duration": 8,
    "start_time": "2022-02-07T20:01:28.080Z"
   },
   {
    "duration": 413,
    "start_time": "2022-02-07T20:01:28.090Z"
   },
   {
    "duration": 6,
    "start_time": "2022-02-07T20:01:28.507Z"
   },
   {
    "duration": 9,
    "start_time": "2022-02-07T20:01:28.516Z"
   },
   {
    "duration": 31,
    "start_time": "2022-02-07T20:01:28.528Z"
   },
   {
    "duration": 8,
    "start_time": "2022-02-07T20:01:28.562Z"
   },
   {
    "duration": 497,
    "start_time": "2022-02-07T20:01:28.572Z"
   },
   {
    "duration": 11951,
    "start_time": "2022-02-07T20:01:17.121Z"
   },
   {
    "duration": 11948,
    "start_time": "2022-02-07T20:01:17.126Z"
   },
   {
    "duration": 11946,
    "start_time": "2022-02-07T20:01:17.130Z"
   },
   {
    "duration": 11942,
    "start_time": "2022-02-07T20:01:17.135Z"
   },
   {
    "duration": 11820,
    "start_time": "2022-02-07T20:01:17.259Z"
   },
   {
    "duration": 11779,
    "start_time": "2022-02-07T20:01:17.301Z"
   },
   {
    "duration": 11757,
    "start_time": "2022-02-07T20:01:17.324Z"
   },
   {
    "duration": 11717,
    "start_time": "2022-02-07T20:01:17.366Z"
   },
   {
    "duration": 11693,
    "start_time": "2022-02-07T20:01:17.392Z"
   },
   {
    "duration": 11688,
    "start_time": "2022-02-07T20:01:17.398Z"
   },
   {
    "duration": 11683,
    "start_time": "2022-02-07T20:01:17.405Z"
   },
   {
    "duration": 11679,
    "start_time": "2022-02-07T20:01:17.410Z"
   },
   {
    "duration": 11677,
    "start_time": "2022-02-07T20:01:17.414Z"
   },
   {
    "duration": 11673,
    "start_time": "2022-02-07T20:01:17.419Z"
   },
   {
    "duration": 11669,
    "start_time": "2022-02-07T20:01:17.424Z"
   },
   {
    "duration": 11667,
    "start_time": "2022-02-07T20:01:17.428Z"
   },
   {
    "duration": 11663,
    "start_time": "2022-02-07T20:01:17.433Z"
   },
   {
    "duration": 11659,
    "start_time": "2022-02-07T20:01:17.438Z"
   },
   {
    "duration": 11657,
    "start_time": "2022-02-07T20:01:17.442Z"
   },
   {
    "duration": 11653,
    "start_time": "2022-02-07T20:01:17.447Z"
   },
   {
    "duration": 11650,
    "start_time": "2022-02-07T20:01:17.451Z"
   },
   {
    "duration": 11647,
    "start_time": "2022-02-07T20:01:17.455Z"
   },
   {
    "duration": 11645,
    "start_time": "2022-02-07T20:01:17.459Z"
   },
   {
    "duration": 11641,
    "start_time": "2022-02-07T20:01:17.464Z"
   },
   {
    "duration": 11638,
    "start_time": "2022-02-07T20:01:17.468Z"
   },
   {
    "duration": 11635,
    "start_time": "2022-02-07T20:01:17.473Z"
   },
   {
    "duration": 11633,
    "start_time": "2022-02-07T20:01:17.477Z"
   },
   {
    "duration": 11630,
    "start_time": "2022-02-07T20:01:17.481Z"
   },
   {
    "duration": 11627,
    "start_time": "2022-02-07T20:01:17.485Z"
   },
   {
    "duration": 11600,
    "start_time": "2022-02-07T20:01:17.513Z"
   },
   {
    "duration": 11638,
    "start_time": "2022-02-07T20:01:17.521Z"
   },
   {
    "duration": 11632,
    "start_time": "2022-02-07T20:01:17.528Z"
   },
   {
    "duration": 11630,
    "start_time": "2022-02-07T20:01:17.532Z"
   },
   {
    "duration": 11625,
    "start_time": "2022-02-07T20:01:17.538Z"
   },
   {
    "duration": 11622,
    "start_time": "2022-02-07T20:01:17.543Z"
   },
   {
    "duration": 11616,
    "start_time": "2022-02-07T20:01:17.550Z"
   },
   {
    "duration": 501,
    "start_time": "2022-02-07T20:02:51.726Z"
   },
   {
    "duration": 391,
    "start_time": "2022-02-07T20:03:34.518Z"
   },
   {
    "duration": 1466,
    "start_time": "2022-02-07T20:03:46.548Z"
   },
   {
    "duration": 67,
    "start_time": "2022-02-07T20:03:48.017Z"
   },
   {
    "duration": 13,
    "start_time": "2022-02-07T20:03:48.089Z"
   },
   {
    "duration": 5,
    "start_time": "2022-02-07T20:03:48.105Z"
   },
   {
    "duration": 47,
    "start_time": "2022-02-07T20:03:48.113Z"
   },
   {
    "duration": 71,
    "start_time": "2022-02-07T20:03:48.162Z"
   },
   {
    "duration": 25,
    "start_time": "2022-02-07T20:03:48.235Z"
   },
   {
    "duration": 437,
    "start_time": "2022-02-07T20:03:48.262Z"
   },
   {
    "duration": 6,
    "start_time": "2022-02-07T20:03:48.704Z"
   },
   {
    "duration": 12,
    "start_time": "2022-02-07T20:03:48.713Z"
   },
   {
    "duration": 3,
    "start_time": "2022-02-07T20:03:48.728Z"
   },
   {
    "duration": 6,
    "start_time": "2022-02-07T20:03:48.760Z"
   },
   {
    "duration": 671,
    "start_time": "2022-02-07T20:03:48.769Z"
   },
   {
    "duration": 16,
    "start_time": "2022-02-07T20:03:49.443Z"
   },
   {
    "duration": 474,
    "start_time": "2022-02-07T20:03:49.463Z"
   },
   {
    "duration": 21,
    "start_time": "2022-02-07T20:03:49.940Z"
   },
   {
    "duration": 13,
    "start_time": "2022-02-07T20:03:49.964Z"
   },
   {
    "duration": 19,
    "start_time": "2022-02-07T20:03:49.979Z"
   },
   {
    "duration": 13,
    "start_time": "2022-02-07T20:03:50.000Z"
   },
   {
    "duration": 48,
    "start_time": "2022-02-07T20:03:50.016Z"
   },
   {
    "duration": 27,
    "start_time": "2022-02-07T20:03:50.067Z"
   },
   {
    "duration": 23,
    "start_time": "2022-02-07T20:03:50.096Z"
   },
   {
    "duration": 7,
    "start_time": "2022-02-07T20:03:50.121Z"
   },
   {
    "duration": 30,
    "start_time": "2022-02-07T20:03:50.160Z"
   },
   {
    "duration": 7,
    "start_time": "2022-02-07T20:03:50.193Z"
   },
   {
    "duration": 18,
    "start_time": "2022-02-07T20:03:50.202Z"
   },
   {
    "duration": 36,
    "start_time": "2022-02-07T20:03:50.227Z"
   },
   {
    "duration": 11,
    "start_time": "2022-02-07T20:03:50.266Z"
   },
   {
    "duration": 11,
    "start_time": "2022-02-07T20:03:50.284Z"
   },
   {
    "duration": 12,
    "start_time": "2022-02-07T20:03:50.297Z"
   },
   {
    "duration": 58,
    "start_time": "2022-02-07T20:03:50.312Z"
   },
   {
    "duration": 11,
    "start_time": "2022-02-07T20:03:50.373Z"
   },
   {
    "duration": 27,
    "start_time": "2022-02-07T20:03:50.386Z"
   },
   {
    "duration": 155,
    "start_time": "2022-02-07T20:03:50.417Z"
   },
   {
    "duration": 782,
    "start_time": "2022-02-07T20:03:50.663Z"
   },
   {
    "duration": 1369,
    "start_time": "2022-02-07T20:03:51.460Z"
   },
   {
    "duration": 231,
    "start_time": "2022-02-07T20:03:52.831Z"
   },
   {
    "duration": 467,
    "start_time": "2022-02-07T20:03:53.065Z"
   },
   {
    "duration": 1318,
    "start_time": "2022-02-07T20:03:53.535Z"
   },
   {
    "duration": 5,
    "start_time": "2022-02-07T20:03:54.855Z"
   },
   {
    "duration": 16,
    "start_time": "2022-02-07T20:03:54.863Z"
   },
   {
    "duration": 88,
    "start_time": "2022-02-07T20:03:54.881Z"
   },
   {
    "duration": 706,
    "start_time": "2022-02-07T20:03:55.063Z"
   },
   {
    "duration": 87528,
    "start_time": "2022-02-07T20:03:55.772Z"
   },
   {
    "duration": 24,
    "start_time": "2022-02-07T20:05:23.303Z"
   },
   {
    "duration": 230,
    "start_time": "2022-02-07T20:05:23.330Z"
   },
   {
    "duration": 385,
    "start_time": "2022-02-07T20:05:23.563Z"
   },
   {
    "duration": 1437,
    "start_time": "2022-02-07T20:06:00.688Z"
   },
   {
    "duration": 60,
    "start_time": "2022-02-07T20:06:02.127Z"
   },
   {
    "duration": 14,
    "start_time": "2022-02-07T20:06:02.190Z"
   },
   {
    "duration": 6,
    "start_time": "2022-02-07T20:06:02.206Z"
   },
   {
    "duration": 45,
    "start_time": "2022-02-07T20:06:02.215Z"
   },
   {
    "duration": 61,
    "start_time": "2022-02-07T20:06:02.262Z"
   },
   {
    "duration": 9,
    "start_time": "2022-02-07T20:06:02.325Z"
   },
   {
    "duration": 435,
    "start_time": "2022-02-07T20:06:02.363Z"
   },
   {
    "duration": 7,
    "start_time": "2022-02-07T20:06:02.802Z"
   },
   {
    "duration": 14,
    "start_time": "2022-02-07T20:06:02.812Z"
   },
   {
    "duration": 32,
    "start_time": "2022-02-07T20:06:02.829Z"
   },
   {
    "duration": 7,
    "start_time": "2022-02-07T20:06:02.864Z"
   },
   {
    "duration": 545,
    "start_time": "2022-02-07T20:06:02.874Z"
   },
   {
    "duration": 7,
    "start_time": "2022-02-07T20:06:03.422Z"
   },
   {
    "duration": 327,
    "start_time": "2022-02-07T20:06:03.432Z"
   },
   {
    "duration": 10,
    "start_time": "2022-02-07T20:06:03.762Z"
   },
   {
    "duration": 12,
    "start_time": "2022-02-07T20:06:03.774Z"
   },
   {
    "duration": 29,
    "start_time": "2022-02-07T20:06:03.788Z"
   },
   {
    "duration": 41,
    "start_time": "2022-02-07T20:06:03.819Z"
   },
   {
    "duration": 6,
    "start_time": "2022-02-07T20:06:03.863Z"
   },
   {
    "duration": 30,
    "start_time": "2022-02-07T20:06:03.871Z"
   },
   {
    "duration": 21,
    "start_time": "2022-02-07T20:06:03.904Z"
   },
   {
    "duration": 31,
    "start_time": "2022-02-07T20:06:03.930Z"
   },
   {
    "duration": 31,
    "start_time": "2022-02-07T20:06:03.964Z"
   },
   {
    "duration": 6,
    "start_time": "2022-02-07T20:06:03.998Z"
   },
   {
    "duration": 9,
    "start_time": "2022-02-07T20:06:04.007Z"
   },
   {
    "duration": 43,
    "start_time": "2022-02-07T20:06:04.018Z"
   },
   {
    "duration": 8,
    "start_time": "2022-02-07T20:06:04.063Z"
   },
   {
    "duration": 9,
    "start_time": "2022-02-07T20:06:04.074Z"
   },
   {
    "duration": 16,
    "start_time": "2022-02-07T20:06:04.086Z"
   },
   {
    "duration": 59,
    "start_time": "2022-02-07T20:06:04.105Z"
   },
   {
    "duration": 10,
    "start_time": "2022-02-07T20:06:04.167Z"
   },
   {
    "duration": 10,
    "start_time": "2022-02-07T20:06:04.180Z"
   },
   {
    "duration": 169,
    "start_time": "2022-02-07T20:06:04.192Z"
   },
   {
    "duration": 854,
    "start_time": "2022-02-07T20:06:04.364Z"
   },
   {
    "duration": 1295,
    "start_time": "2022-02-07T20:06:05.220Z"
   },
   {
    "duration": 148,
    "start_time": "2022-02-07T20:06:06.517Z"
   },
   {
    "duration": 554,
    "start_time": "2022-02-07T20:06:06.668Z"
   },
   {
    "duration": 1292,
    "start_time": "2022-02-07T20:06:07.224Z"
   },
   {
    "duration": 5,
    "start_time": "2022-02-07T20:06:08.518Z"
   },
   {
    "duration": 36,
    "start_time": "2022-02-07T20:06:08.525Z"
   },
   {
    "duration": 115,
    "start_time": "2022-02-07T20:06:08.563Z"
   },
   {
    "duration": 830,
    "start_time": "2022-02-07T20:06:08.761Z"
   },
   {
    "duration": 76318,
    "start_time": "2022-02-07T20:06:09.594Z"
   },
   {
    "duration": 18,
    "start_time": "2022-02-07T20:07:25.914Z"
   },
   {
    "duration": 427,
    "start_time": "2022-02-07T20:07:25.934Z"
   },
   {
    "duration": 356,
    "start_time": "2022-02-07T20:07:26.364Z"
   },
   {
    "duration": 28563,
    "start_time": "2022-02-07T20:07:26.723Z"
   },
   {
    "duration": 78709,
    "start_time": "2022-02-07T20:07:55.288Z"
   },
   {
    "duration": 347,
    "start_time": "2022-02-08T18:01:42.829Z"
   },
   {
    "duration": 1150,
    "start_time": "2022-02-08T18:01:50.032Z"
   },
   {
    "duration": 42,
    "start_time": "2022-02-08T18:01:51.184Z"
   },
   {
    "duration": 9,
    "start_time": "2022-02-08T18:01:51.228Z"
   },
   {
    "duration": 5,
    "start_time": "2022-02-08T18:01:51.239Z"
   },
   {
    "duration": 13,
    "start_time": "2022-02-08T18:01:51.246Z"
   },
   {
    "duration": 70,
    "start_time": "2022-02-08T18:01:51.261Z"
   },
   {
    "duration": 6,
    "start_time": "2022-02-08T18:01:51.333Z"
   },
   {
    "duration": 273,
    "start_time": "2022-02-08T18:01:51.340Z"
   },
   {
    "duration": 5,
    "start_time": "2022-02-08T18:01:51.619Z"
   },
   {
    "duration": 10,
    "start_time": "2022-02-08T18:01:51.626Z"
   },
   {
    "duration": 3,
    "start_time": "2022-02-08T18:01:51.638Z"
   },
   {
    "duration": 6,
    "start_time": "2022-02-08T18:01:51.643Z"
   },
   {
    "duration": 384,
    "start_time": "2022-02-08T18:01:51.651Z"
   },
   {
    "duration": 13074,
    "start_time": "2022-02-08T18:01:38.964Z"
   },
   {
    "duration": 13069,
    "start_time": "2022-02-08T18:01:38.970Z"
   },
   {
    "duration": 13065,
    "start_time": "2022-02-08T18:01:38.975Z"
   },
   {
    "duration": 13061,
    "start_time": "2022-02-08T18:01:38.980Z"
   },
   {
    "duration": 13058,
    "start_time": "2022-02-08T18:01:38.984Z"
   },
   {
    "duration": 13054,
    "start_time": "2022-02-08T18:01:38.990Z"
   },
   {
    "duration": 13050,
    "start_time": "2022-02-08T18:01:38.994Z"
   },
   {
    "duration": 13047,
    "start_time": "2022-02-08T18:01:38.999Z"
   },
   {
    "duration": 13042,
    "start_time": "2022-02-08T18:01:39.005Z"
   },
   {
    "duration": 13039,
    "start_time": "2022-02-08T18:01:39.009Z"
   },
   {
    "duration": 13036,
    "start_time": "2022-02-08T18:01:39.013Z"
   },
   {
    "duration": 13032,
    "start_time": "2022-02-08T18:01:39.018Z"
   },
   {
    "duration": 13026,
    "start_time": "2022-02-08T18:01:39.025Z"
   },
   {
    "duration": 13023,
    "start_time": "2022-02-08T18:01:39.029Z"
   },
   {
    "duration": 13019,
    "start_time": "2022-02-08T18:01:39.034Z"
   },
   {
    "duration": 13004,
    "start_time": "2022-02-08T18:01:39.050Z"
   },
   {
    "duration": 13000,
    "start_time": "2022-02-08T18:01:39.055Z"
   },
   {
    "duration": 12996,
    "start_time": "2022-02-08T18:01:39.060Z"
   },
   {
    "duration": 12993,
    "start_time": "2022-02-08T18:01:39.064Z"
   },
   {
    "duration": 12989,
    "start_time": "2022-02-08T18:01:39.069Z"
   },
   {
    "duration": 12987,
    "start_time": "2022-02-08T18:01:39.073Z"
   },
   {
    "duration": 12983,
    "start_time": "2022-02-08T18:01:39.078Z"
   },
   {
    "duration": 12980,
    "start_time": "2022-02-08T18:01:39.082Z"
   },
   {
    "duration": 12975,
    "start_time": "2022-02-08T18:01:39.088Z"
   },
   {
    "duration": 12972,
    "start_time": "2022-02-08T18:01:39.092Z"
   },
   {
    "duration": 12968,
    "start_time": "2022-02-08T18:01:39.097Z"
   },
   {
    "duration": 12965,
    "start_time": "2022-02-08T18:01:39.101Z"
   },
   {
    "duration": 12961,
    "start_time": "2022-02-08T18:01:39.106Z"
   },
   {
    "duration": 12958,
    "start_time": "2022-02-08T18:01:39.110Z"
   },
   {
    "duration": 12954,
    "start_time": "2022-02-08T18:01:39.115Z"
   },
   {
    "duration": 12951,
    "start_time": "2022-02-08T18:01:39.119Z"
   },
   {
    "duration": 12947,
    "start_time": "2022-02-08T18:01:39.124Z"
   },
   {
    "duration": 12944,
    "start_time": "2022-02-08T18:01:39.128Z"
   },
   {
    "duration": 12940,
    "start_time": "2022-02-08T18:01:39.133Z"
   },
   {
    "duration": 12936,
    "start_time": "2022-02-08T18:01:39.138Z"
   },
   {
    "duration": 12976,
    "start_time": "2022-02-08T18:01:39.142Z"
   },
   {
    "duration": 1118,
    "start_time": "2022-02-08T18:02:34.194Z"
   },
   {
    "duration": 265,
    "start_time": "2022-02-08T18:02:54.057Z"
   },
   {
    "duration": 260,
    "start_time": "2022-02-08T18:03:17.928Z"
   },
   {
    "duration": 1093,
    "start_time": "2022-02-08T18:03:25.525Z"
   },
   {
    "duration": 40,
    "start_time": "2022-02-08T18:03:26.620Z"
   },
   {
    "duration": 8,
    "start_time": "2022-02-08T18:03:26.662Z"
   },
   {
    "duration": 5,
    "start_time": "2022-02-08T18:03:26.672Z"
   },
   {
    "duration": 14,
    "start_time": "2022-02-08T18:03:26.678Z"
   },
   {
    "duration": 55,
    "start_time": "2022-02-08T18:03:26.694Z"
   },
   {
    "duration": 6,
    "start_time": "2022-02-08T18:03:26.751Z"
   },
   {
    "duration": 276,
    "start_time": "2022-02-08T18:03:26.758Z"
   },
   {
    "duration": 4,
    "start_time": "2022-02-08T18:03:27.037Z"
   },
   {
    "duration": 9,
    "start_time": "2022-02-08T18:03:27.044Z"
   },
   {
    "duration": 4,
    "start_time": "2022-02-08T18:03:27.054Z"
   },
   {
    "duration": 6,
    "start_time": "2022-02-08T18:03:27.060Z"
   },
   {
    "duration": 322,
    "start_time": "2022-02-08T18:03:27.068Z"
   },
   {
    "duration": 6,
    "start_time": "2022-02-08T18:03:27.392Z"
   },
   {
    "duration": 199,
    "start_time": "2022-02-08T18:03:27.400Z"
   },
   {
    "duration": 18,
    "start_time": "2022-02-08T18:03:27.601Z"
   },
   {
    "duration": 9,
    "start_time": "2022-02-08T18:03:27.621Z"
   },
   {
    "duration": 11,
    "start_time": "2022-02-08T18:03:27.632Z"
   },
   {
    "duration": 7,
    "start_time": "2022-02-08T18:03:27.645Z"
   },
   {
    "duration": 6,
    "start_time": "2022-02-08T18:03:27.654Z"
   },
   {
    "duration": 19,
    "start_time": "2022-02-08T18:03:27.662Z"
   },
   {
    "duration": 37,
    "start_time": "2022-02-08T18:03:27.682Z"
   },
   {
    "duration": 4,
    "start_time": "2022-02-08T18:03:27.721Z"
   },
   {
    "duration": 24,
    "start_time": "2022-02-08T18:03:27.726Z"
   },
   {
    "duration": 4,
    "start_time": "2022-02-08T18:03:27.752Z"
   },
   {
    "duration": 10,
    "start_time": "2022-02-08T18:03:27.757Z"
   },
   {
    "duration": 3,
    "start_time": "2022-02-08T18:03:27.771Z"
   },
   {
    "duration": 8,
    "start_time": "2022-02-08T18:03:27.776Z"
   },
   {
    "duration": 6,
    "start_time": "2022-02-08T18:03:27.786Z"
   },
   {
    "duration": 25,
    "start_time": "2022-02-08T18:03:27.794Z"
   },
   {
    "duration": 23,
    "start_time": "2022-02-08T18:03:27.821Z"
   },
   {
    "duration": 5,
    "start_time": "2022-02-08T18:03:27.846Z"
   },
   {
    "duration": 13,
    "start_time": "2022-02-08T18:03:27.853Z"
   },
   {
    "duration": 59,
    "start_time": "2022-02-08T18:03:27.868Z"
   },
   {
    "duration": 575,
    "start_time": "2022-02-08T18:03:28.020Z"
   },
   {
    "duration": 889,
    "start_time": "2022-02-08T18:03:28.597Z"
   },
   {
    "duration": 41,
    "start_time": "2022-02-08T18:03:29.488Z"
   },
   {
    "duration": 426,
    "start_time": "2022-02-08T18:03:29.621Z"
   },
   {
    "duration": 897,
    "start_time": "2022-02-08T18:03:30.049Z"
   },
   {
    "duration": 5,
    "start_time": "2022-02-08T18:03:30.948Z"
   },
   {
    "duration": 22,
    "start_time": "2022-02-08T18:03:30.954Z"
   },
   {
    "duration": 50,
    "start_time": "2022-02-08T18:03:30.977Z"
   },
   {
    "duration": 536,
    "start_time": "2022-02-08T18:03:31.120Z"
   },
   {
    "duration": 51877,
    "start_time": "2022-02-08T18:03:31.657Z"
   },
   {
    "duration": 13,
    "start_time": "2022-02-08T18:04:23.536Z"
   },
   {
    "duration": 75,
    "start_time": "2022-02-08T18:04:23.551Z"
   },
   {
    "duration": 392,
    "start_time": "2022-02-08T18:04:23.628Z"
   },
   {
    "duration": 19795,
    "start_time": "2022-02-08T18:04:24.022Z"
   },
   {
    "duration": 1120,
    "start_time": "2022-02-08T18:05:35.142Z"
   },
   {
    "duration": 39,
    "start_time": "2022-02-08T18:05:36.264Z"
   },
   {
    "duration": 17,
    "start_time": "2022-02-08T18:05:36.305Z"
   },
   {
    "duration": 4,
    "start_time": "2022-02-08T18:05:36.324Z"
   },
   {
    "duration": 19,
    "start_time": "2022-02-08T18:05:36.330Z"
   },
   {
    "duration": 39,
    "start_time": "2022-02-08T18:05:36.351Z"
   },
   {
    "duration": 6,
    "start_time": "2022-02-08T18:05:36.392Z"
   },
   {
    "duration": 275,
    "start_time": "2022-02-08T18:05:36.401Z"
   },
   {
    "duration": 4,
    "start_time": "2022-02-08T18:05:36.678Z"
   },
   {
    "duration": 23,
    "start_time": "2022-02-08T18:05:36.684Z"
   },
   {
    "duration": 7,
    "start_time": "2022-02-08T18:05:36.709Z"
   },
   {
    "duration": 8,
    "start_time": "2022-02-08T18:05:36.718Z"
   },
   {
    "duration": 310,
    "start_time": "2022-02-08T18:05:36.728Z"
   },
   {
    "duration": 6,
    "start_time": "2022-02-08T18:05:37.041Z"
   },
   {
    "duration": 200,
    "start_time": "2022-02-08T18:05:37.049Z"
   },
   {
    "duration": 8,
    "start_time": "2022-02-08T18:05:37.251Z"
   },
   {
    "duration": 16,
    "start_time": "2022-02-08T18:05:37.261Z"
   },
   {
    "duration": 24,
    "start_time": "2022-02-08T18:05:37.279Z"
   },
   {
    "duration": 25,
    "start_time": "2022-02-08T18:05:37.305Z"
   },
   {
    "duration": 6,
    "start_time": "2022-02-08T18:05:37.332Z"
   },
   {
    "duration": 33,
    "start_time": "2022-02-08T18:05:37.340Z"
   },
   {
    "duration": 27,
    "start_time": "2022-02-08T18:05:37.375Z"
   },
   {
    "duration": 5,
    "start_time": "2022-02-08T18:05:37.406Z"
   },
   {
    "duration": 36,
    "start_time": "2022-02-08T18:05:37.413Z"
   },
   {
    "duration": 4,
    "start_time": "2022-02-08T18:05:37.451Z"
   },
   {
    "duration": 23,
    "start_time": "2022-02-08T18:05:37.456Z"
   },
   {
    "duration": 25,
    "start_time": "2022-02-08T18:05:37.481Z"
   },
   {
    "duration": 17,
    "start_time": "2022-02-08T18:05:37.507Z"
   },
   {
    "duration": 17,
    "start_time": "2022-02-08T18:05:37.525Z"
   },
   {
    "duration": 19,
    "start_time": "2022-02-08T18:05:37.544Z"
   },
   {
    "duration": 35,
    "start_time": "2022-02-08T18:05:37.565Z"
   },
   {
    "duration": 5,
    "start_time": "2022-02-08T18:05:37.602Z"
   },
   {
    "duration": 21,
    "start_time": "2022-02-08T18:05:37.608Z"
   },
   {
    "duration": 88,
    "start_time": "2022-02-08T18:05:37.630Z"
   },
   {
    "duration": 586,
    "start_time": "2022-02-08T18:05:37.720Z"
   },
   {
    "duration": 911,
    "start_time": "2022-02-08T18:05:38.307Z"
   },
   {
    "duration": 103,
    "start_time": "2022-02-08T18:05:39.220Z"
   },
   {
    "duration": 435,
    "start_time": "2022-02-08T18:05:39.325Z"
   },
   {
    "duration": 902,
    "start_time": "2022-02-08T18:05:39.762Z"
   },
   {
    "duration": 5,
    "start_time": "2022-02-08T18:05:40.666Z"
   },
   {
    "duration": 17,
    "start_time": "2022-02-08T18:05:40.673Z"
   },
   {
    "duration": 47,
    "start_time": "2022-02-08T18:05:40.692Z"
   },
   {
    "duration": 516,
    "start_time": "2022-02-08T18:05:40.821Z"
   },
   {
    "duration": 50869,
    "start_time": "2022-02-08T18:05:41.339Z"
   },
   {
    "duration": 19,
    "start_time": "2022-02-08T18:06:32.209Z"
   },
   {
    "duration": 90,
    "start_time": "2022-02-08T18:06:32.230Z"
   },
   {
    "duration": 280,
    "start_time": "2022-02-08T18:06:32.323Z"
   },
   {
    "duration": 19042,
    "start_time": "2022-02-08T18:06:32.605Z"
   },
   {
    "duration": 48487,
    "start_time": "2022-02-08T18:06:51.649Z"
   },
   {
    "duration": 28,
    "start_time": "2022-02-08T18:16:35.616Z"
   },
   {
    "duration": 1098,
    "start_time": "2022-02-08T18:16:49.062Z"
   },
   {
    "duration": 38,
    "start_time": "2022-02-08T18:16:50.162Z"
   },
   {
    "duration": 17,
    "start_time": "2022-02-08T18:16:50.203Z"
   },
   {
    "duration": 4,
    "start_time": "2022-02-08T18:16:50.222Z"
   },
   {
    "duration": 15,
    "start_time": "2022-02-08T18:16:50.228Z"
   },
   {
    "duration": 39,
    "start_time": "2022-02-08T18:16:50.244Z"
   },
   {
    "duration": 6,
    "start_time": "2022-02-08T18:16:50.285Z"
   },
   {
    "duration": 263,
    "start_time": "2022-02-08T18:16:50.317Z"
   },
   {
    "duration": 4,
    "start_time": "2022-02-08T18:16:50.582Z"
   },
   {
    "duration": 11,
    "start_time": "2022-02-08T18:16:50.588Z"
   },
   {
    "duration": 18,
    "start_time": "2022-02-08T18:16:50.600Z"
   },
   {
    "duration": 13,
    "start_time": "2022-02-08T18:16:50.620Z"
   },
   {
    "duration": 295,
    "start_time": "2022-02-08T18:16:50.634Z"
   },
   {
    "duration": 5,
    "start_time": "2022-02-08T18:16:50.930Z"
   },
   {
    "duration": 184,
    "start_time": "2022-02-08T18:16:50.936Z"
   },
   {
    "duration": 6,
    "start_time": "2022-02-08T18:16:51.121Z"
   },
   {
    "duration": 10,
    "start_time": "2022-02-08T18:16:51.129Z"
   },
   {
    "duration": 11,
    "start_time": "2022-02-08T18:16:51.141Z"
   },
   {
    "duration": 7,
    "start_time": "2022-02-08T18:16:51.154Z"
   },
   {
    "duration": 6,
    "start_time": "2022-02-08T18:16:51.163Z"
   },
   {
    "duration": 19,
    "start_time": "2022-02-08T18:16:51.171Z"
   },
   {
    "duration": 38,
    "start_time": "2022-02-08T18:16:51.191Z"
   },
   {
    "duration": 5,
    "start_time": "2022-02-08T18:16:51.233Z"
   },
   {
    "duration": 18,
    "start_time": "2022-02-08T18:16:51.241Z"
   },
   {
    "duration": 5,
    "start_time": "2022-02-08T18:16:51.261Z"
   },
   {
    "duration": 12,
    "start_time": "2022-02-08T18:16:51.268Z"
   },
   {
    "duration": 10,
    "start_time": "2022-02-08T18:16:51.282Z"
   },
   {
    "duration": 4,
    "start_time": "2022-02-08T18:16:51.319Z"
   },
   {
    "duration": 7,
    "start_time": "2022-02-08T18:16:51.325Z"
   },
   {
    "duration": 9,
    "start_time": "2022-02-08T18:16:51.334Z"
   },
   {
    "duration": 35,
    "start_time": "2022-02-08T18:16:51.344Z"
   },
   {
    "duration": 6,
    "start_time": "2022-02-08T18:16:51.381Z"
   },
   {
    "duration": 8,
    "start_time": "2022-02-08T18:16:51.388Z"
   },
   {
    "duration": 220,
    "start_time": "2022-02-08T18:16:51.398Z"
   },
   {
    "duration": 586,
    "start_time": "2022-02-08T18:16:51.621Z"
   },
   {
    "duration": 979,
    "start_time": "2022-02-08T18:16:52.209Z"
   },
   {
    "duration": 129,
    "start_time": "2022-02-08T18:16:53.190Z"
   },
   {
    "duration": 437,
    "start_time": "2022-02-08T18:16:53.321Z"
   },
   {
    "duration": 875,
    "start_time": "2022-02-08T18:16:53.760Z"
   },
   {
    "duration": 3,
    "start_time": "2022-02-08T18:16:54.637Z"
   },
   {
    "duration": 15,
    "start_time": "2022-02-08T18:16:54.642Z"
   },
   {
    "duration": 68,
    "start_time": "2022-02-08T18:16:54.659Z"
   },
   {
    "duration": 518,
    "start_time": "2022-02-08T18:16:54.819Z"
   },
   {
    "duration": 50755,
    "start_time": "2022-02-08T18:16:55.338Z"
   },
   {
    "duration": 12,
    "start_time": "2022-02-08T18:17:46.095Z"
   },
   {
    "duration": 22,
    "start_time": "2022-02-08T18:17:46.117Z"
   },
   {
    "duration": 364,
    "start_time": "2022-02-08T18:17:46.143Z"
   },
   {
    "duration": 19794,
    "start_time": "2022-02-08T18:17:46.509Z"
   },
   {
    "duration": 50617,
    "start_time": "2022-02-08T18:18:06.305Z"
   },
   {
    "duration": 320,
    "start_time": "2022-02-08T18:40:02.955Z"
   },
   {
    "duration": 903,
    "start_time": "2022-02-08T18:41:12.337Z"
   },
   {
    "duration": 1140,
    "start_time": "2022-02-08T18:45:30.286Z"
   },
   {
    "duration": 441,
    "start_time": "2022-02-08T18:46:57.826Z"
   },
   {
    "duration": 53823,
    "start_time": "2022-02-08T18:47:47.963Z"
   },
   {
    "duration": 207,
    "start_time": "2022-02-08T18:50:59.167Z"
   },
   {
    "duration": 20,
    "start_time": "2022-02-08T18:51:12.689Z"
   },
   {
    "duration": 188,
    "start_time": "2022-02-08T18:52:17.790Z"
   },
   {
    "duration": 19690,
    "start_time": "2022-02-08T18:52:29.925Z"
   },
   {
    "duration": 1124,
    "start_time": "2022-02-08T18:53:12.753Z"
   },
   {
    "duration": 43,
    "start_time": "2022-02-08T18:53:13.879Z"
   },
   {
    "duration": 9,
    "start_time": "2022-02-08T18:53:13.924Z"
   },
   {
    "duration": 22,
    "start_time": "2022-02-08T18:53:13.936Z"
   },
   {
    "duration": 21,
    "start_time": "2022-02-08T18:53:13.959Z"
   },
   {
    "duration": 63,
    "start_time": "2022-02-08T18:53:13.981Z"
   },
   {
    "duration": 6,
    "start_time": "2022-02-08T18:53:14.046Z"
   },
   {
    "duration": 276,
    "start_time": "2022-02-08T18:53:14.054Z"
   },
   {
    "duration": 5,
    "start_time": "2022-02-08T18:53:14.333Z"
   },
   {
    "duration": 11,
    "start_time": "2022-02-08T18:53:14.340Z"
   },
   {
    "duration": 5,
    "start_time": "2022-02-08T18:53:14.352Z"
   },
   {
    "duration": 13,
    "start_time": "2022-02-08T18:53:14.359Z"
   },
   {
    "duration": 331,
    "start_time": "2022-02-08T18:53:14.374Z"
   },
   {
    "duration": 13,
    "start_time": "2022-02-08T18:53:14.707Z"
   },
   {
    "duration": 194,
    "start_time": "2022-02-08T18:53:14.722Z"
   },
   {
    "duration": 6,
    "start_time": "2022-02-08T18:53:14.919Z"
   },
   {
    "duration": 26,
    "start_time": "2022-02-08T18:53:14.926Z"
   },
   {
    "duration": 29,
    "start_time": "2022-02-08T18:53:14.954Z"
   },
   {
    "duration": 22,
    "start_time": "2022-02-08T18:53:14.984Z"
   },
   {
    "duration": 39,
    "start_time": "2022-02-08T18:53:15.008Z"
   },
   {
    "duration": 30,
    "start_time": "2022-02-08T18:53:15.050Z"
   },
   {
    "duration": 21,
    "start_time": "2022-02-08T18:53:15.083Z"
   },
   {
    "duration": 18,
    "start_time": "2022-02-08T18:53:15.106Z"
   },
   {
    "duration": 30,
    "start_time": "2022-02-08T18:53:15.126Z"
   },
   {
    "duration": 11,
    "start_time": "2022-02-08T18:53:15.158Z"
   },
   {
    "duration": 23,
    "start_time": "2022-02-08T18:53:15.171Z"
   },
   {
    "duration": 13,
    "start_time": "2022-02-08T18:53:15.199Z"
   },
   {
    "duration": 23,
    "start_time": "2022-02-08T18:53:15.214Z"
   },
   {
    "duration": 15,
    "start_time": "2022-02-08T18:53:15.239Z"
   },
   {
    "duration": 19,
    "start_time": "2022-02-08T18:53:15.256Z"
   },
   {
    "duration": 51,
    "start_time": "2022-02-08T18:53:15.277Z"
   },
   {
    "duration": 7,
    "start_time": "2022-02-08T18:53:15.330Z"
   },
   {
    "duration": 25,
    "start_time": "2022-02-08T18:53:15.339Z"
   },
   {
    "duration": 58,
    "start_time": "2022-02-08T18:53:15.366Z"
   },
   {
    "duration": 512,
    "start_time": "2022-02-08T18:53:15.427Z"
   },
   {
    "duration": 935,
    "start_time": "2022-02-08T18:53:15.941Z"
   },
   {
    "duration": 47,
    "start_time": "2022-02-08T18:53:16.878Z"
   },
   {
    "duration": 515,
    "start_time": "2022-02-08T18:53:16.928Z"
   },
   {
    "duration": 903,
    "start_time": "2022-02-08T18:53:17.444Z"
   },
   {
    "duration": 5,
    "start_time": "2022-02-08T18:53:18.349Z"
   },
   {
    "duration": 56,
    "start_time": "2022-02-08T18:53:18.356Z"
   },
   {
    "duration": 47,
    "start_time": "2022-02-08T18:53:18.414Z"
   },
   {
    "duration": 521,
    "start_time": "2022-02-08T18:53:18.520Z"
   },
   {
    "duration": 55475,
    "start_time": "2022-02-08T18:53:19.043Z"
   },
   {
    "duration": 12,
    "start_time": "2022-02-08T18:54:14.519Z"
   },
   {
    "duration": 185,
    "start_time": "2022-02-08T18:54:14.533Z"
   },
   {
    "duration": 178,
    "start_time": "2022-02-08T18:54:14.720Z"
   },
   {
    "duration": 25831,
    "start_time": "2022-02-08T18:54:14.900Z"
   },
   {
    "duration": 55416,
    "start_time": "2022-02-08T18:54:40.733Z"
   },
   {
    "duration": 782,
    "start_time": "2022-02-08T18:57:08.292Z"
   },
   {
    "duration": 819,
    "start_time": "2022-02-08T18:58:45.264Z"
   },
   {
    "duration": 1347,
    "start_time": "2022-02-08T18:59:05.568Z"
   },
   {
    "duration": 761,
    "start_time": "2022-02-08T18:59:22.326Z"
   },
   {
    "duration": 140,
    "start_time": "2022-02-08T19:15:26.279Z"
   },
   {
    "duration": 89,
    "start_time": "2022-02-08T19:22:21.281Z"
   },
   {
    "duration": 385,
    "start_time": "2022-02-08T19:25:30.126Z"
   },
   {
    "duration": 88,
    "start_time": "2022-02-08T19:26:22.260Z"
   },
   {
    "duration": 93,
    "start_time": "2022-02-08T19:28:19.469Z"
   },
   {
    "duration": 1441,
    "start_time": "2022-02-08T20:33:06.695Z"
   },
   {
    "duration": 64,
    "start_time": "2022-02-08T20:33:08.139Z"
   },
   {
    "duration": 12,
    "start_time": "2022-02-08T20:33:08.206Z"
   },
   {
    "duration": 10,
    "start_time": "2022-02-08T20:33:08.220Z"
   },
   {
    "duration": 50,
    "start_time": "2022-02-08T20:33:08.232Z"
   },
   {
    "duration": 64,
    "start_time": "2022-02-08T20:33:08.285Z"
   },
   {
    "duration": 9,
    "start_time": "2022-02-08T20:33:08.369Z"
   },
   {
    "duration": 429,
    "start_time": "2022-02-08T20:33:08.382Z"
   },
   {
    "duration": 7,
    "start_time": "2022-02-08T20:33:08.814Z"
   },
   {
    "duration": 14,
    "start_time": "2022-02-08T20:33:08.823Z"
   },
   {
    "duration": 13,
    "start_time": "2022-02-08T20:33:08.839Z"
   },
   {
    "duration": 25,
    "start_time": "2022-02-08T20:33:08.854Z"
   },
   {
    "duration": 548,
    "start_time": "2022-02-08T20:33:08.881Z"
   },
   {
    "duration": 6,
    "start_time": "2022-02-08T20:33:09.431Z"
   },
   {
    "duration": 318,
    "start_time": "2022-02-08T20:33:09.440Z"
   },
   {
    "duration": 14,
    "start_time": "2022-02-08T20:33:09.761Z"
   },
   {
    "duration": 12,
    "start_time": "2022-02-08T20:33:09.777Z"
   },
   {
    "duration": 27,
    "start_time": "2022-02-08T20:33:09.792Z"
   },
   {
    "duration": 37,
    "start_time": "2022-02-08T20:33:09.822Z"
   },
   {
    "duration": 29,
    "start_time": "2022-02-08T20:33:09.862Z"
   },
   {
    "duration": 43,
    "start_time": "2022-02-08T20:33:09.894Z"
   },
   {
    "duration": 25,
    "start_time": "2022-02-08T20:33:09.940Z"
   },
   {
    "duration": 5,
    "start_time": "2022-02-08T20:33:09.972Z"
   },
   {
    "duration": 40,
    "start_time": "2022-02-08T20:33:09.980Z"
   },
   {
    "duration": 5,
    "start_time": "2022-02-08T20:33:10.022Z"
   },
   {
    "duration": 41,
    "start_time": "2022-02-08T20:33:10.030Z"
   },
   {
    "duration": 24,
    "start_time": "2022-02-08T20:33:10.073Z"
   },
   {
    "duration": 29,
    "start_time": "2022-02-08T20:33:10.100Z"
   },
   {
    "duration": 24,
    "start_time": "2022-02-08T20:33:10.131Z"
   },
   {
    "duration": 18,
    "start_time": "2022-02-08T20:33:10.158Z"
   },
   {
    "duration": 56,
    "start_time": "2022-02-08T20:33:10.178Z"
   },
   {
    "duration": 7,
    "start_time": "2022-02-08T20:33:10.237Z"
   },
   {
    "duration": 12,
    "start_time": "2022-02-08T20:33:10.246Z"
   },
   {
    "duration": 117,
    "start_time": "2022-02-08T20:33:10.261Z"
   },
   {
    "duration": 664,
    "start_time": "2022-02-08T20:33:10.470Z"
   },
   {
    "duration": 1369,
    "start_time": "2022-02-08T20:33:11.137Z"
   },
   {
    "duration": 160,
    "start_time": "2022-02-08T20:33:12.509Z"
   },
   {
    "duration": 568,
    "start_time": "2022-02-08T20:33:12.672Z"
   },
   {
    "duration": 1346,
    "start_time": "2022-02-08T20:33:13.242Z"
   },
   {
    "duration": 6,
    "start_time": "2022-02-08T20:33:14.591Z"
   },
   {
    "duration": 23,
    "start_time": "2022-02-08T20:33:14.599Z"
   },
   {
    "duration": 147,
    "start_time": "2022-02-08T20:33:14.625Z"
   },
   {
    "duration": 722,
    "start_time": "2022-02-08T20:33:14.776Z"
   },
   {
    "duration": 80535,
    "start_time": "2022-02-08T20:33:15.501Z"
   },
   {
    "duration": 31,
    "start_time": "2022-02-08T20:34:36.039Z"
   },
   {
    "duration": 99,
    "start_time": "2022-02-08T20:34:36.073Z"
   },
   {
    "duration": 385,
    "start_time": "2022-02-08T20:34:36.175Z"
   },
   {
    "duration": 28767,
    "start_time": "2022-02-08T20:34:36.570Z"
   },
   {
    "duration": 1195,
    "start_time": "2022-02-08T20:35:05.339Z"
   }
  ],
  "kernelspec": {
   "display_name": "Python 3 (ipykernel)",
   "language": "python",
   "name": "python3"
  },
  "language_info": {
   "codemirror_mode": {
    "name": "ipython",
    "version": 3
   },
   "file_extension": ".py",
   "mimetype": "text/x-python",
   "name": "python",
   "nbconvert_exporter": "python",
   "pygments_lexer": "ipython3",
   "version": "3.9.7"
  },
  "toc": {
   "base_numbering": 1,
   "nav_menu": {},
   "number_sections": true,
   "sideBar": true,
   "skip_h1_title": true,
   "title_cell": "Содержание",
   "title_sidebar": "Contents",
   "toc_cell": true,
   "toc_position": {},
   "toc_section_display": true,
   "toc_window_display": false
  }
 },
 "nbformat": 4,
 "nbformat_minor": 2
}
